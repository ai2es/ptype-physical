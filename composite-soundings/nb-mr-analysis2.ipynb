{
 "cells": [
  {
   "cell_type": "code",
   "execution_count": 1,
   "id": "608ca6fd-f04c-4d7e-88dc-9917e7d95ae9",
   "metadata": {},
   "outputs": [],
   "source": [
    "import numpy as np\n",
    "import xarray as xr\n",
    "import matplotlib.pyplot as plt\n",
    "\n",
    "from importlib import reload\n",
    "import os\n",
    "from os.path import join\n",
    "import subprocess\n",
    "import sys\n",
    "sys.path.append('../../') # lets us import ptype package from the subdir\n",
    "#import ptype.\n",
    "import time\n",
    "from collections.abc import Sequence\n",
    "from joblib import Parallel, delayed\n",
    "\n",
    "from xhistogram.xarray import histogram\n",
    "\n",
    "import soundings.utils as utils\n",
    "import soundings.mr_analysis as mra\n",
    "from soundings.mr_analysis import SoundingQuery"
   ]
  },
  {
   "cell_type": "code",
   "execution_count": 2,
   "id": "4b36fece-c551-4100-b782-5536326555ae",
   "metadata": {},
   "outputs": [],
   "source": [
    "rap = utils.open_ds_dkimpara('2200','rap', 'casper', 'step')"
   ]
  },
  {
   "cell_type": "code",
   "execution_count": 25,
   "id": "1ee50406-b72e-4370-a7db-8fe4864b8171",
   "metadata": {},
   "outputs": [],
   "source": [
    "rapsel = rap.sel(step=[np.timedelta64(50400000000000, 'ns')])"
   ]
  },
  {
   "cell_type": "code",
   "execution_count": null,
   "id": "779f6b08-8001-4810-810e-fa7ed3d1151c",
   "metadata": {},
   "outputs": [],
   "source": []
  },
  {
   "cell_type": "code",
   "execution_count": 6,
   "id": "61ea2222-88ef-4000-877f-92efe7f46057",
   "metadata": {},
   "outputs": [],
   "source": [
    "def get_coords_of_value(ds):\n",
    "    for model in ['', 'ML_']:\n",
    "        for ptype in ['cicep', 'crain', 'csnow', 'cfrzr']:\n",
    "            ptype = model + ptype\n",
    "            masked_ds = ds.where(rapsel[ptype] == 1)\n",
    "            mins = masked_ds.crain.argmin(dim=('y', 'x'))\n",
    "            print(f\"{ptype}: {mins['x'].values} {mins['y'].values}\")\n",
    "            mins = masked_ds.crain.argmax(dim=('y', 'x'))\n",
    "            print(f\"{ptype}: {mins['x'].values} {mins['y'].values}\")"
   ]
  },
  {
   "cell_type": "code",
   "execution_count": null,
   "id": "702c7371-be79-43e4-910e-b5bf1d8cfe67",
   "metadata": {},
   "outputs": [],
   "source": []
  }
 ],
 "metadata": {
  "kernelspec": {
   "display_name": "Python [conda env:ptype]",
   "language": "python",
   "name": "conda-env-ptype-py"
  },
  "language_info": {
   "codemirror_mode": {
    "name": "ipython",
    "version": 3
   },
   "file_extension": ".py",
   "mimetype": "text/x-python",
   "name": "python",
   "nbconvert_exporter": "python",
   "pygments_lexer": "ipython3",
   "version": "3.10.11"
  }
 },
 "nbformat": 4,
 "nbformat_minor": 5
}
