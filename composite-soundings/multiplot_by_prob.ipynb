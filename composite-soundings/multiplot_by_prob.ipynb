{
 "cells": [
  {
   "cell_type": "code",
   "execution_count": null,
   "id": "608ca6fd-f04c-4d7e-88dc-9917e7d95ae9",
   "metadata": {},
   "outputs": [],
   "source": [
    "import numpy as np\n",
    "import xarray as xr\n",
    "import pandas as pd\n",
    "import matplotlib.pyplot as plt\n",
    "\n",
    "from metpy.calc import dewpoint_from_relative_humidity\n",
    "from metpy.units import units\n",
    "\n",
    "from sounding_utils import *\n",
    "\n",
    "import sys\n",
    "sys.path.append('../../') # lets us import ptype package from the subdir\n",
    "\n",
    "#import ptype."
   ]
  },
  {
   "attachments": {},
   "cell_type": "markdown",
   "id": "eac331a0-8f53-4a08-9815-952f50055727",
   "metadata": {},
   "source": [
    "## Select forecast hour:"
   ]
  },
  {
   "cell_type": "code",
   "execution_count": null,
   "id": "ad3340c3-d0ce-4819-9985-ef9afd9664b6",
   "metadata": {},
   "outputs": [],
   "source": [
    "hour = '0000'"
   ]
  },
  {
   "cell_type": "code",
   "execution_count": null,
   "id": "78a55a7c-c62b-48be-ac51-4a93a9d9ea32",
   "metadata": {},
   "outputs": [],
   "source": [
    "rap = xr.open_mfdataset(f\"/glade/campaign/cisl/aiml/ptype/ptype_case_studies/kentucky/rap/20220223/{hour}/*.nc\", concat_dim='time', combine='nested')\n",
    "rap.attrs['nwp'] = 'rap'\n",
    "hrrr = xr.open_mfdataset(f\"/glade/campaign/cisl/aiml/ptype/ptype_case_studies/kentucky/hrrr/20220223/{hour}/*.nc\", concat_dim='time', combine='nested')\n",
    "hrrr.attrs['nwp'] = 'hrrr'\n",
    "gfs = xr.open_mfdataset(f\"/glade/campaign/cisl/aiml/ptype/ptype_case_studies/kentucky/gfs/20220223/{hour}/*.nc\", concat_dim='time', combine='nested')\n",
    "gfs.attrs['nwp'] = 'gfs'\n"
   ]
  },
  {
   "cell_type": "code",
   "execution_count": null,
   "id": "1204a4c8-4520-42ff-b3d5-d53c0176523b",
   "metadata": {},
   "outputs": [],
   "source": [
    "gfs"
   ]
  },
  {
   "attachments": {},
   "cell_type": "markdown",
   "id": "ec6c99bc-d001-4150-8ef3-da5796452d6b",
   "metadata": {},
   "source": [
    "**Recall our calibration plots:**\n",
    "\n",
    "![alt text](soundings_files/MLCalibration.png \"Calibration of ML model\")"
   ]
  },
  {
   "cell_type": "code",
   "execution_count": null,
   "id": "1382eacc-007a-4d47-a5ab-f9efd0f374c6",
   "metadata": {},
   "outputs": [],
   "source": [
    "def composites_multiplot(datasets: list[xr.Dataset], y_col: str, \n",
    "                              cols: list[str], \n",
    "                              colors: list[list[str]], \n",
    "                              markers: list[str],\n",
    "                              prob: float = 0.0) -> None:\n",
    "    '''function to output composite soundings with shaded quantile regions corresponding to 25/75\n",
    "       and 10/90 quantiles. input list of predictions to plot and corresponding colors'''\n",
    "\n",
    "    \n",
    "    fig = plt.figure(figsize=(9, 9))\n",
    "    ax = plt.gca()\n",
    "    \n",
    "    for i, ds in enumerate(datasets):\n",
    "        y = ds[y_col].values\n",
    "        marker = markers[i]\n",
    "        \n",
    "        for predtype,c in zip(cols, colors):\n",
    "            if 'ML' in predtype:\n",
    "                subset = ds.where((ds['crain'] == 1) | (ds['csnow'] == 1) | (ds['cicep'] == 1) | (ds['cfrzr'] == 1))\n",
    "                subset = subset.where((ds[predtype] > prob))\n",
    "            else: \n",
    "                subset = ds.where(ds[predtype]==1)\n",
    "            \n",
    "            temperature_profile = subset['t_h'].mean(dim=('x','y','time'))\n",
    "            line, = ax.plot(temperature_profile, y, c, linewidth=2, marker=marker, markersize=8)\n",
    "            \n",
    "            #label with num of observations\n",
    "            num_obs = subset['t_h'].count(dim=('x','y','time')).values[0]\n",
    "            \n",
    "            line.set_label((\n",
    "                f\"{ds.attrs['nwp']}: \"\n",
    "                f\"{predtype}{'>' + str(prob) if ('ML' in predtype) and (prob >0.0) else ''} |\"\n",
    "                f\" Num Obs: {num_obs}\"\n",
    "            ))\n",
    "    ax.axvline(x=0, ymin=0, ymax=1, c='0')\n",
    "    ax.set_title(f\"Height above Ground and interp. Temp when models predicts {cols[0][1:]}\")\n",
    "    ax.set_xlabel('Temperature (C)')\n",
    "    ax.set_ylabel('Height above ground (m)')\n",
    "    ax.legend()"
   ]
  },
  {
   "cell_type": "code",
   "execution_count": null,
   "id": "f70e2381-a69f-4335-a36e-33dee4d3c5b5",
   "metadata": {},
   "outputs": [],
   "source": [
    "composites_multiplot([rap, hrrr, gfs], 'heightAboveGround', ['cicep', 'ML_icep'], ['blue', 'orange'], ['o','v', '+'], prob = 0.7)\n"
   ]
  },
  {
   "cell_type": "code",
   "execution_count": null,
   "id": "a87dda77-d156-49a9-8118-99a88fa370a2",
   "metadata": {},
   "outputs": [],
   "source": [
    "composites_multiplot([rap, hrrr, gfs], 'heightAboveGround', ['cfrzr', 'ML_cfrzr'], ['blue', 'orange'], ['o','v', '+'], prob=0.7)\n"
   ]
  },
  {
   "cell_type": "code",
   "execution_count": null,
   "id": "20fc11ea-08d1-4d0c-817b-75173f8512d9",
   "metadata": {},
   "outputs": [],
   "source": [
    "composites_multiplot([rap, hrrr, gfs], 'heightAboveGround', ['csnow', 'ML_csnow'], ['blue', 'orange'], ['o','v', '+'], prob=0.7)"
   ]
  },
  {
   "cell_type": "code",
   "execution_count": null,
   "id": "edd17c99-5af5-43ba-b00f-5a8eb8d2aee5",
   "metadata": {},
   "outputs": [],
   "source": [
    "\n",
    "composites_multiplot([rap, hrrr, gfs], 'heightAboveGround', ['crain', 'ML_crain'], ['blue', 'orange'], ['o','v', '+'], prob=0.7)"
   ]
  },
  {
   "cell_type": "code",
   "execution_count": null,
   "id": "f3b3d133-4f09-4f32-8651-a1c068711346",
   "metadata": {},
   "outputs": [],
   "source": [
    "u, c = np.unique(rap.ML_cicep.values, return_counts=True)"
   ]
  },
  {
   "cell_type": "code",
   "execution_count": null,
   "id": "4732fff7-e71b-433f-9be8-b1fe861d4888",
   "metadata": {},
   "outputs": [],
   "source": []
  }
 ],
 "metadata": {
  "kernelspec": {
   "display_name": "Python [conda env:ptype]",
   "language": "python",
   "name": "conda-env-ptype-py"
  },
  "language_info": {
   "codemirror_mode": {
    "name": "ipython",
    "version": 3
   },
   "file_extension": ".py",
   "mimetype": "text/x-python",
   "name": "python",
   "nbconvert_exporter": "python",
   "pygments_lexer": "ipython3",
   "version": "3.10.11"
  }
 },
 "nbformat": 4,
 "nbformat_minor": 5
}
