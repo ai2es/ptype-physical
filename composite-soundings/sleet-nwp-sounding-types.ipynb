{
 "cells": [
  {
   "cell_type": "code",
   "execution_count": 16,
   "id": "8410b4a8-11ce-46eb-aeda-16bdee1264eb",
   "metadata": {},
   "outputs": [],
   "source": [
    "import numpy as np\n",
    "import xarray as xr\n",
    "import matplotlib.pyplot as plt\n",
    "import pandas as pd\n",
    "\n",
    "from importlib import reload\n",
    "import os\n",
    "from os.path import join\n",
    "import sys\n",
    "sys.path.append('../') # lets us import ptype package from the subdir\n",
    "from ptype.soundings import xr_map_reduce as xmr\n",
    "import time\n",
    "from tqdm import tqdm\n"
   ]
  },
  {
   "cell_type": "code",
   "execution_count": 9,
   "id": "a42abd74-d6ea-4213-9b23-1a368263d34f",
   "metadata": {},
   "outputs": [],
   "source": [
    "def get_filepaths(model, base_path):\n",
    "    files = []\n",
    "    for dirpath, dirnames, filenames in os.walk(base_path):\n",
    "        # if there are subdirs in the dir skip this loop\n",
    "        if filenames:\n",
    "            files += [join(dirpath, file) for file in filenames]\n",
    "    return files\n",
    "\n",
    "def get_files_filter(model, base_path, fh='f01'):\n",
    "    files = get_filepaths(model, base_path)\n",
    "    return [file for file in files if fh in file]"
   ]
  },
  {
   "cell_type": "code",
   "execution_count": 11,
   "id": "1e2c3f16-58a0-42e0-b6c6-ea67fcf26f4f",
   "metadata": {},
   "outputs": [],
   "source": [
    "model = 'gfs'\n",
    "base_path = '/glade/scratch/dkimpara/ptype_case_studies'\n",
    "files = get_files_filter(model, base_path, fh='f01')"
   ]
  },
  {
   "cell_type": "code",
   "execution_count": null,
   "id": "016ca6c1-842a-436d-a074-6a6ac6b18f26",
   "metadata": {},
   "outputs": [],
   "source": [
    "def extract_random_subset(file, num_per_file, ptypes=['icep','frzr']):\n",
    "    ds = xr.open_dataset(file, engine='netcdf4')\n",
    "    dfs = []\n",
    "    \n",
    "    for ptype in ptypes:\n",
    "        for model in ['c', 'ML_c']\n",
    "            count = 0\n",
    "            while count < num_per_file:\n",
    "                subds = ds.where(ds[model + ptype] == 1)\n",
    "                subdf = random_subset(ds, num_per_file)\n",
    "                dfs.append(subdf)\n",
    "                count += subdf.shape[0]\n",
    "    \n",
    "    return pd.concat(dfs)\n",
    "\n",
    "def random_subset(subds, num_per_file):\n",
    "    # subds has NaNs\n",
    "    \n",
    "    "
   ]
  }
 ],
 "metadata": {
  "kernelspec": {
   "display_name": "Python [conda env:ptype]",
   "language": "python",
   "name": "conda-env-ptype-py"
  },
  "language_info": {
   "codemirror_mode": {
    "name": "ipython",
    "version": 3
   },
   "file_extension": ".py",
   "mimetype": "text/x-python",
   "name": "python",
   "nbconvert_exporter": "python",
   "pygments_lexer": "ipython3",
   "version": "3.10.12"
  }
 },
 "nbformat": 4,
 "nbformat_minor": 5
}
