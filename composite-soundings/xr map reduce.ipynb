{
 "cells": [
  {
   "cell_type": "code",
   "execution_count": 1,
   "id": "608ca6fd-f04c-4d7e-88dc-9917e7d95ae9",
   "metadata": {},
   "outputs": [],
   "source": [
    "import numpy as np\n",
    "import xarray as xr\n",
    "import matplotlib.pyplot as plt\n",
    "\n",
    "import sounding_utils\n",
    "from importlib import reload\n",
    "\n",
    "from functools import partial\n",
    "\n",
    "import os\n",
    "from os.path import join\n",
    "import subprocess\n",
    "\n",
    "import sys\n",
    "sys.path.append('../../') # lets us import ptype package from the subdir\n",
    "#import ptype.\n",
    "\n",
    "from joblib import Parallel, delayed\n",
    "\n",
    "from xhistogram.xarray import histogram\n",
    "\n",
    "import time"
   ]
  },
  {
   "cell_type": "code",
   "execution_count": 2,
   "id": "7c8dee15-d5f9-428f-a50b-b2dccb2710e0",
   "metadata": {},
   "outputs": [
    {
     "data": {
      "text/plain": [
       "72"
      ]
     },
     "execution_count": 2,
     "metadata": {},
     "output_type": "execute_result"
    }
   ],
   "source": [
    "subprocess.run(\"qstat -f $PBS_JOBID | grep Resource_List.ncpus\", shell=True, capture_output=True, encoding='utf-8').stdout.split()[-1]"
   ]
  },
  {
   "cell_type": "code",
   "execution_count": 3,
   "id": "fd2fbf95-e3dc-41ae-a318-a066cc72e9ad",
   "metadata": {},
   "outputs": [],
   "source": [
    "def get_metadata(path):\n",
    "    path = os.path.normpath(path)\n",
    "    split_path = path.split(os.sep)    \n",
    "    metadata_dict = {'case_study': [split_path[-4]],\n",
    "                     'day': [split_path[-2]],\n",
    "                     'model': [split_path[-3]]\n",
    "                    }\n",
    "    return metadata_dict\n",
    "    \n",
    "def xr_map_reduce(base_path, func, n_jobs=-1):\n",
    "    dirpaths = []\n",
    "    for (dirpath, dirnames, filenames) in os.walk(base_path):\n",
    "        #if there are subdirs in the dir skip this loop\n",
    "        if dirnames or not filenames: continue \n",
    "    \n",
    "        dirpaths.append(dirpath)\n",
    "    if n_jobs == -1:\n",
    "        num_cpus = (subprocess.run(\"qstat -f $PBS_JOBID | grep Resource_List.ncpus\", \n",
    "                                  shell=True, capture_output=True, encoding='utf-8').stdout.split()[-1]\n",
    "                    if 'glade' in os.getcwd() else\n",
    "                    os.cpu_count()\n",
    "        ) \n",
    "        n_jobs = min(len(dirpaths), num_cpus)\n",
    "        \n",
    "    ########################## map and reduce ##############################\n",
    "    results = Parallel(n_jobs=n_jobs)(delayed(xr_map)(path, func) for path in dirpaths)\n",
    "    return xr.concat(results, dim=('time')) #each result ds will be for a different time\n",
    "        \n",
    "def xr_map(dirpath, func):\n",
    "    ds = xr.open_mfdataset(join(dirpath, \"*.nc\"), \n",
    "                            concat_dim='valid_time', \n",
    "                            combine='nested')\n",
    "    \n",
    "    if 'wb_h' not in list(ds.keys()):\n",
    "        ds = sounding_utils.wet_bulb_from_rel_humid(ds)\n",
    "\n",
    "    ds = ds.where((\n",
    "          (ds['crain'] == 1) | \n",
    "          (ds['csnow'] == 1) | \n",
    "          (ds['cicep'] == 1) | \n",
    "          (ds['cfrzr'] == 1)\n",
    "    ))\n",
    "    \n",
    "    #adds metadata corresponding to each folder\n",
    "    metadata_dict = get_metadata(dirpath)\n",
    "    ds = ds.expand_dims(metadata_dict)\n",
    "    return func(ds)\n",
    "\n",
    "def compute_func(ds):\n",
    "    res = xr.Dataset()\n",
    "    for ptype in ['icep', 'frzr', 'snow', 'rain']:\n",
    "        for model in ['ML_c', 'c']:\n",
    "            predtype = model + ptype\n",
    "            subset = ds.where(ds[predtype] == 1)\n",
    "            \n",
    "            num_obs = subset['t_h'].count(dim=('x','y')).max(dim='heightAboveGround')\n",
    "            res[predtype + '_mean_obs'] = num_obs\n",
    "            \n",
    "            prof_means = []\n",
    "            hists = []\n",
    "            for proftype in ['t_h','dpt_h','wb_h']:\n",
    "                ####### compute means ##############\n",
    "                mean = subset[proftype].mean(dim=('x','y'))\n",
    "                prof_means.append(mean.expand_dims({'profile': [proftype]}))\n",
    "\n",
    "                ####### compute histograms ############\n",
    "                bins = np.arange(-40,40,0.5)\n",
    "                h_x = histogram(subset[proftype], bins=[bins], dim=['x','y'], density=True)\n",
    "                h_x = h_x.rename({f\"{proftype}_bin\": \"bins\"})\n",
    "                hists.append(h_x)\n",
    "            \n",
    "            res[predtype + '_hist'] = xr.concat(hists, dim='profile')\n",
    "            res[predtype + '_mean'] = xr.concat(prof_means, dim='profile')\n",
    "    \n",
    "    return res\n",
    "        "
   ]
  },
  {
   "cell_type": "code",
   "execution_count": 4,
   "id": "0933bd4c-56f0-4d3d-9d93-6e04cae81fba",
   "metadata": {},
   "outputs": [],
   "source": [
    "def timer(tic):\n",
    "    toc = time.time()\n",
    "    duration = toc - tic\n",
    "    minutes = int(duration/60)\n",
    "    print(f\"Elapsed time: {str(minutes) + ' minutes, ' if minutes else ''}{int(duration % 60)} seconds\")"
   ]
  },
  {
   "cell_type": "code",
   "execution_count": 5,
   "id": "91770ee7-75e4-4399-b754-e64d1e75c256",
   "metadata": {},
   "outputs": [],
   "source": [
    "tic = time.time()"
   ]
  },
  {
   "cell_type": "code",
   "execution_count": null,
   "id": "422df7ab-eeb5-40d6-a70b-f5ca462aa6eb",
   "metadata": {},
   "outputs": [
    {
     "name": "stderr",
     "output_type": "stream",
     "text": [
      "/glade/work/dkimpara/conda-envs/ptype/lib/python3.10/site-packages/joblib/externals/loky/process_executor.py:700: UserWarning: A worker stopped while some jobs were given to the executor. This can be caused by a too short worker timeout or by a memory leak.\n",
      "  warnings.warn(\n",
      "/glade/work/dkimpara/conda-envs/ptype/lib/python3.10/site-packages/joblib/externals/loky/process_executor.py:700: UserWarning: A worker stopped while some jobs were given to the executor. This can be caused by a too short worker timeout or by a memory leak.\n",
      "  warnings.warn(\n",
      "/glade/work/dkimpara/conda-envs/ptype/lib/python3.10/site-packages/xarray/coding/times.py:618: RuntimeWarning: invalid value encountered in cast\n",
      "  int_num = np.asarray(num, dtype=np.int64)\n",
      "/glade/work/dkimpara/conda-envs/ptype/lib/python3.10/site-packages/dask/core.py:121: RuntimeWarning: invalid value encountered in divide\n",
      "  return func(*(_execute_task(a, cache) for a in args))\n",
      "/glade/work/dkimpara/conda-envs/ptype/lib/python3.10/site-packages/xarray/coding/times.py:618: RuntimeWarning: invalid value encountered in cast\n",
      "  int_num = np.asarray(num, dtype=np.int64)\n"
     ]
    }
   ],
   "source": [
    "for model in ['rap', 'gfs','hrrr']:\n",
    "    res = xr_map_reduce(f\"/glade/campaign/cisl/aiml/ptype/ptype_case_studies/kentucky/{model}/20220223/\", \n",
    "                        compute_func, 4)\n",
    "    res.to_netcdf(f'/glade/work/dkimpara/ptype-aggs/trial_{model}.nc')"
   ]
  },
  {
   "cell_type": "code",
   "execution_count": null,
   "id": "8ce6fdf9-5972-4b67-b145-9427eda1460c",
   "metadata": {},
   "outputs": [],
   "source": [
    "timer(tic)"
   ]
  },
  {
   "cell_type": "code",
   "execution_count": null,
   "id": "687b1a71-1f7d-46cb-b9a9-7e573188a63b",
   "metadata": {},
   "outputs": [],
   "source": []
  },
  {
   "cell_type": "code",
   "execution_count": null,
   "id": "538c3e30-1506-411f-b81e-cc1d8bf47da2",
   "metadata": {},
   "outputs": [],
   "source": []
  }
 ],
 "metadata": {
  "kernelspec": {
   "display_name": "Python [conda env:ptype]",
   "language": "python",
   "name": "conda-env-ptype-py"
  },
  "language_info": {
   "codemirror_mode": {
    "name": "ipython",
    "version": 3
   },
   "file_extension": ".py",
   "mimetype": "text/x-python",
   "name": "python",
   "nbconvert_exporter": "python",
   "pygments_lexer": "ipython3",
   "version": "3.10.11"
  }
 },
 "nbformat": 4,
 "nbformat_minor": 5
}
