{
 "cells": [
  {
   "cell_type": "code",
   "execution_count": 1,
   "id": "608ca6fd-f04c-4d7e-88dc-9917e7d95ae9",
   "metadata": {},
   "outputs": [],
   "source": [
    "import numpy as np\n",
    "import xarray as xr\n",
    "import pandas as pd\n",
    "import matplotlib.pyplot as plt\n",
    "\n",
    "from metpy.calc import dewpoint_from_relative_humidity\n",
    "from metpy.units import units\n",
    "from metpy.plots import SkewT\n",
    "\n",
    "import sounding_utils\n",
    "from xhistogram.xarray import histogram\n",
    "\n",
    "from importlib import reload\n",
    "from functools import partial\n",
    "from joblib import dump\n",
    "\n",
    "import sys\n",
    "sys.path.append('../../') # lets us import ptype package from the subdir\n",
    "\n",
    "#import ptype.\n",
    "\n",
    "from dask.distributed import Client, LocalCluster\n",
    "from dask_jobqueue import PBSCluster\n",
    "import dask\n",
    "import glob\n",
    "from os.path import join"
   ]
  },
  {
   "attachments": {},
   "cell_type": "markdown",
   "id": "6f731536-35a0-48e0-9ca0-664092559293",
   "metadata": {},
   "source": [
    "cluster = PBSCluster(account='NAML0001',\n",
    "                     queue='casper',\n",
    "                     walltime='01:00:00',\n",
    "                     memory=\"200 GB\",\n",
    "                     cores=2,\n",
    "                     interface='ib0',\n",
    "                     local_directory='/glade/work/dkimpara/dask/',\n",
    "                     log_directory=\"/glade/work/dkimpara/dask_logs/\")\n",
    "\n",
    "# Change your url to the dask dashboard so you can see it\n",
    "#dask.config.set({'distributed.dashboard.link':'https://jupyterhub.hpc.ucar.edu/stable/user/{USER}/proxy/{port}/status'})\n",
    "print(f\"Use this link to monitor the workload: {cluster.dashboard_link}\")\n",
    "client = Client(cluster)\n",
    "cluster.scale(jobs=50, memory=\"200GB\")"
   ]
  },
  {
   "attachments": {},
   "cell_type": "markdown",
   "id": "ab9bb378-7448-4a5a-8d42-161c73be8d49",
   "metadata": {},
   "source": [
    "def load_dask(model):\n",
    "    ds = xr.open_mfdataset(f\"/glade/campaign/cisl/aiml/ptype/ptype_case_studies/kentucky/{model}/20220223/*/*.nc\", \n",
    "                           parallel=True, engine='netcdf4', \n",
    "                           decode_cf=False, concat_dim='valid_time', combine='nested', \n",
    "                           chunks={'time':1})\n",
    "    ds.attrs['nwp'] = model"
   ]
  },
  {
   "cell_type": "code",
   "execution_count": 4,
   "id": "01331301-4bb8-4e3b-ba60-8ec942bc0c84",
   "metadata": {},
   "outputs": [],
   "source": [
    "model = 'rap'\n"
   ]
  },
  {
   "cell_type": "code",
   "execution_count": null,
   "id": "6ed1c25a-6ab1-4f5f-94c7-c41677d3643d",
   "metadata": {},
   "outputs": [],
   "source": [
    "%%time\n",
    "ds = xr.open_mfdataset(f\"/glade/campaign/cisl/aiml/ptype/ptype_case_studies/kentucky/{model}/20220223/0000/*.nc\", \n",
    "                       parallel=True, engine='netcdf4', \n",
    "                       decode_cf=False, concat_dim='valid_time', combine='nested', \n",
    "                       chunks={'time':1})\n",
    "ds.attrs['nwp'] = model"
   ]
  },
  {
   "cell_type": "code",
   "execution_count": null,
   "id": "a07f2486-9166-41d2-9b77-bc437ceb5e84",
   "metadata": {},
   "outputs": [],
   "source": [
    "ds"
   ]
  },
  {
   "cell_type": "code",
   "execution_count": null,
   "id": "c8f201ed-a42d-4306-af9d-6c1ab2510877",
   "metadata": {},
   "outputs": [],
   "source": [
    "def agg_stats(ds, save_dir='/glade/scratch/dkimpara/composite_calcs'):\n",
    "    try:\n",
    "        print(ds.attrs['nwp'])\n",
    "    except: \n",
    "        raise ValueError('dataset must have nwp attr set')\n",
    "        \n",
    "    ds = sounding_utils.filter_latlon(ds)\n",
    "    \n",
    "    precip_mask = (\n",
    "        (ds[\"crain\"] == 1)\n",
    "        | (ds[\"csnow\"] == 1)\n",
    "        | (ds[\"cicep\"] == 1)\n",
    "        | (ds[\"cfrzr\"] == 1)\n",
    "        )\n",
    "    \n",
    "    ds = ds.where(precip_mask)\n",
    "    if 'wb_h' not in list(ds.keys()):\n",
    "        ds = sounding_utils.wet_bulb_from_rel_humid(ds)\n",
    "    \n",
    "    ptypes = ['rain', 'snow', 'icep', 'frzr']\n",
    "    prof_vars = ['t_h', 'dpt_h', 'wb_h']\n",
    "    quantiles = np.arange(0,1.01,0.1)\n",
    "    bins = np.arange(-40, 40, 0.5)\n",
    "    \n",
    "    persist_vars = (prof_vars + \n",
    "                    [f'ML_c{var}' for var in ptypes] +\n",
    "                    [f'c{var}' for var in ptypes])\n",
    "    \n",
    "    ds[persist_vars].persist() \n",
    "    total_obs = ds.t_h.isel(heightAboveGround=0).count(dim=('x','y','time','valid_time'))\n",
    "\n",
    "    ds_mean, ds_q, ds_hist  = [], [], []\n",
    "    metadata = {}\n",
    "    \n",
    "    ################# by confidence level ##################\n",
    "    mean_by_prob = []\n",
    "    q_by_prob = []\n",
    "    for ptype in ptypes:\n",
    "        predtype = f'ML_{ptype}'\n",
    "        subset = ds[prof_vars + [f'c{ptype}']].where(ds[predtype] >= 0.7)\n",
    "        \n",
    "        mean = subset.mean(dim=['valid_time', 'time', 'x', 'y'])\n",
    "        mean = mean.rename({var: f'{var}>0.7_mean' for var in prof_vars})\n",
    "        qs = subset.chunk(chunks=dict(valid_time=-1)).quantile(quantiles, dim=('valid_time','time', 'x', 'y'))\n",
    "        qs = qs.rename({var: f'{var}>0.7_qs' for var in prof_vars})\n",
    "        \n",
    "        mean = mean.expand_dims({'predtype': [predtype]})\n",
    "        qs = qs.expand_dims({'predtype': [predtype]})\n",
    "        ####################\n",
    "        predtype = f'c{ptype}'\n",
    "        subset = subset.where(subset[predtype] == 1) #confident ML and nwp predicts\n",
    "        \n",
    "        mean2 = subset.mean(dim=['valid_time', 'time', 'x', 'y'])\n",
    "        mean2 = mean2.rename({var: f'{var}>0.7_mean' for var in prof_vars})\n",
    "        \n",
    "        qs2 = subset.chunk(chunks=dict(valid_time=-1)).quantile(quantiles, dim=('valid_time','time', 'x', 'y'))\n",
    "        qs2 = qs2.rename({var: f'{var}>0.7_qs' for var in prof_vars})\n",
    "        \n",
    "        mean2= mean2.expand_dims({'predtype': [predtype]})\n",
    "        qs2 = qs2.expand_dims({'predtype': [predtype]})\n",
    "        #########################\n",
    "        mean = xr.concat((mean, mean2), dim='predtype').drop_vars(predtype)\n",
    "        qs = xr.concat((qs, qs2), dim='predtype').drop_vars(predtype)\n",
    "        \n",
    "        mean_by_prob.append(mean)\n",
    "        q_by_prob.append(qs)\n",
    "    \n",
    "    ####################################\n",
    "    ds_mean = xr.concat(ds_mean, dim='predtype')\n",
    "    ds_q = xr.concat(ds_q, dim='predtype')\n",
    "    ds_hist = xr.concat(ds_hist, dim='predtype')\n",
    "\n",
    "    result = xr.merge((ds_mean, ds_q, ds_hist))\n",
    "    #save\n",
    "    result.to_netcdf(path=join(save_dir, f\"{ds.attrs['nwp']}_by_prob\"))\n",
    "    dump(metadata, join(save_dir,f\"{ds.attrs['nwp']}_metadata_by_prob\"))\n",
    "    \n",
    "    return result\n",
    "    "
   ]
  },
  {
   "cell_type": "code",
   "execution_count": null,
   "id": "6b5787bc-ff07-4a03-9c89-e3f1aaa7de02",
   "metadata": {},
   "outputs": [],
   "source": []
  },
  {
   "cell_type": "code",
   "execution_count": null,
   "id": "3e05dd78-44d7-481c-a796-81a2a9df3d63",
   "metadata": {},
   "outputs": [],
   "source": []
  },
  {
   "cell_type": "code",
   "execution_count": null,
   "id": "e6532942-8319-44eb-9480-f3fa229e85cc",
   "metadata": {},
   "outputs": [],
   "source": []
  },
  {
   "cell_type": "code",
   "execution_count": null,
   "id": "5a7e617d-a3f8-4433-9df0-a1b33d7b14d3",
   "metadata": {},
   "outputs": [],
   "source": []
  },
  {
   "cell_type": "code",
   "execution_count": null,
   "id": "0b983b25-1ce1-4af5-875e-c69f03a9257c",
   "metadata": {},
   "outputs": [],
   "source": [
    "'''\n",
    "client.shutdown()\n",
    "import subprocess\n",
    "subprocess.run(\"qdel $PBS_JOBID\", shell=True, capture_output=True, encoding='utf-8')"
   ]
  }
 ],
 "metadata": {
  "kernelspec": {
   "display_name": "Python [conda env:ptype]",
   "language": "python",
   "name": "conda-env-ptype-py"
  },
  "language_info": {
   "codemirror_mode": {
    "name": "ipython",
    "version": 3
   },
   "file_extension": ".py",
   "mimetype": "text/x-python",
   "name": "python",
   "nbconvert_exporter": "python",
   "pygments_lexer": "ipython3",
   "version": "3.10.11"
  }
 },
 "nbformat": 4,
 "nbformat_minor": 5
}
