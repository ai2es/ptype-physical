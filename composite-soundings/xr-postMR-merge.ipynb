{
 "cells": [
  {
   "cell_type": "code",
   "execution_count": 2,
   "id": "608ca6fd-f04c-4d7e-88dc-9917e7d95ae9",
   "metadata": {},
   "outputs": [],
   "source": [
    "import xarray as xr\n",
    "from os.path import join\n",
    "import os"
   ]
  },
  {
   "cell_type": "code",
   "execution_count": 3,
   "id": "687b1a71-1f7d-46cb-b9a9-7e573188a63b",
   "metadata": {},
   "outputs": [],
   "source": [
    "data_dir = \"/glade/work/dkimpara/ptype-aggs\"\n",
    "\n",
    "def get_datasets(model, res_type):\n",
    "    paths = [path\n",
    "           for path in os.listdir(data_dir)\n",
    "           if ('nc' in path) and (model in path) and ('all' not in path) and (res_type in path)]\n",
    "    print(paths)\n",
    "    datasets = [xr.open_dataset(join(data_dir,path), engine='netcdf4') for path in paths]\n",
    "    return datasets\n",
    "\n",
    "def concat_results(model, res_type):\n",
    "    datasets = get_datasets(model, res_type)\n",
    "    datasets = [ds.drop_duplicates('predtype') for ds in datasets]\n",
    "    ds = xr.concat(datasets, dim='case_study_day')\n",
    "    ds.to_netcdf(join(data_dir, f\"merged/{model}_all_{res_type}.nc\"))"
   ]
  },
  {
   "cell_type": "code",
   "execution_count": 3,
   "id": "702c7371-be79-43e4-910e-b5bf1d8cfe67",
   "metadata": {},
   "outputs": [
    {
     "name": "stdout",
     "output_type": "stream",
     "text": [
      "['gfs_disagree_1_new_york_1.nc', 'gfs_disagree_2_new_york_2.nc', 'gfs_disagree_0_kentucky.nc']\n",
      "['rap_disagree_1_new_york_1.nc', 'rap_disagree_2_new_york_2.nc', 'rap_disagree_0_kentucky.nc', 'rap_disagree_0_new_york_1.nc']\n",
      "['hrrr_disagree_04.nc', 'hrrr_disagree_17.nc', 'hrrr_disagree_15.nc', 'hrrr_disagree_16.nc', 'hrrr_disagree_03.nc', 'hrrr_disagree_23.nc', 'hrrr_disagree_24.nc']\n"
     ]
    },
    {
     "data": {
      "text/plain": [
       "[None, None, None]"
      ]
     },
     "execution_count": 3,
     "metadata": {},
     "output_type": "execute_result"
    }
   ],
   "source": [
    "models = ['gfs', 'rap', 'hrrr']\n",
    "restypes = ['disagree']\n",
    "[concat_results(model, res_type) for model in models for res_type in restypes]"
   ]
  },
  {
   "cell_type": "code",
   "execution_count": 3,
   "id": "6c30ce54-658b-46ec-b58e-8326c79d6297",
   "metadata": {},
   "outputs": [],
   "source": [
    "ds = xr.open_dataset(join(data_dir, 'merged/gfs_all_disagree.nc'))"
   ]
  },
  {
   "cell_type": "code",
   "execution_count": 5,
   "id": "a3a95b7b-3fe6-45ad-ad5d-6b16ce5d68da",
   "metadata": {},
   "outputs": [],
   "source": [
    "ds = xr.open_dataset(join(data_dir, 'merged/gfs_all_conf.nc'))"
   ]
  },
  {
   "cell_type": "code",
   "execution_count": null,
   "id": "ed51dcbe-2fb3-47b1-b34a-9cc91bfdb9c1",
   "metadata": {},
   "outputs": [],
   "source": []
  }
 ],
 "metadata": {
  "kernelspec": {
   "display_name": "Python [conda env:ptype]",
   "language": "python",
   "name": "conda-env-ptype-py"
  },
  "language_info": {
   "codemirror_mode": {
    "name": "ipython",
    "version": 3
   },
   "file_extension": ".py",
   "mimetype": "text/x-python",
   "name": "python",
   "nbconvert_exporter": "python",
   "pygments_lexer": "ipython3",
   "version": "3.10.12"
  }
 },
 "nbformat": 4,
 "nbformat_minor": 5
}
