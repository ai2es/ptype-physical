{
 "cells": [
  {
   "cell_type": "code",
   "execution_count": 1,
   "id": "608ca6fd-f04c-4d7e-88dc-9917e7d95ae9",
   "metadata": {},
   "outputs": [],
   "source": [
    "import numpy as np\n",
    "import xarray as xr\n",
    "import matplotlib.pyplot as plt\n",
    "\n",
    "from importlib import reload\n",
    "import os\n",
    "from os.path import join\n",
    "import subprocess\n",
    "import sys\n",
    "sys.path.append('../../') # lets us import ptype package from the subdir\n",
    "#import ptype.\n",
    "import time\n",
    "from collections.abc import Sequence\n",
    "from joblib import Parallel, delayed\n",
    "\n",
    "from xhistogram.xarray import histogram\n",
    "\n",
    "import soundings.utils as utils\n",
    "import soundings.mr_analysis as mra\n",
    "from soundings.mr_analysis import SoundingQuery"
   ]
  },
  {
   "cell_type": "code",
   "execution_count": 2,
   "id": "687b1a71-1f7d-46cb-b9a9-7e573188a63b",
   "metadata": {},
   "outputs": [
    {
     "name": "stdout",
     "output_type": "stream",
     "text": [
      "['hrrr_ny1_15.nc', 'hrrr_ny1_16.nc', 'hrrr_k_24.nc', 'hrrr_k_23.nc', 'hrrr_ny2_04.nc', 'hrrr_ny1_17.nc', 'hrrr_ny2_03.nc']\n"
     ]
    }
   ],
   "source": [
    "data_dir = \"/glade/work/dkimpara/ptype-aggs\"\n",
    "model = 'hrrr'\n",
    "print([path\n",
    "       for path in os.listdir(data_dir)\n",
    "       if ('nc' in path) and (model in path) and ('all' not in path)])\n",
    "datasets = [xr.open_dataset(join(data_dir,path), engine='netcdf4')\n",
    "            for path in os.listdir(data_dir)\n",
    "            if ('nc' in path) and (model in path)]"
   ]
  },
  {
   "cell_type": "code",
   "execution_count": 3,
   "id": "9e4e455b-70d4-4c57-82ef-fa830a2884cb",
   "metadata": {},
   "outputs": [
    {
     "name": "stdout",
     "output_type": "stream",
     "text": [
      "['new_york_1-20221215']\n",
      "['new_york_1-20221216']\n",
      "['kentucky-20220224']\n",
      "['kentucky-20220223']\n",
      "['new_york_2-20220204']\n",
      "['new_york_1-20221217']\n",
      "['new_york_2-20220203']\n"
     ]
    }
   ],
   "source": [
    "for ds in datasets:\n",
    "    print(ds.case_study_day.values)"
   ]
  },
  {
   "cell_type": "code",
   "execution_count": null,
   "id": "cb58d2dd-c961-4601-8bb5-10acbef052df",
   "metadata": {},
   "outputs": [],
   "source": []
  },
  {
   "cell_type": "code",
   "execution_count": 4,
   "id": "702c7371-be79-43e4-910e-b5bf1d8cfe67",
   "metadata": {},
   "outputs": [],
   "source": [
    "ds = xr.concat(datasets,dim='case_study_day')"
   ]
  },
  {
   "cell_type": "code",
   "execution_count": 5,
   "id": "fa9e147a-4b85-41a1-b3d5-8362de1e47ad",
   "metadata": {},
   "outputs": [],
   "source": [
    "ds.to_netcdf(join(data_dir, f\"{model}_all.nc\"))"
   ]
  },
  {
   "cell_type": "code",
   "execution_count": null,
   "id": "470667e3-31a7-40b9-983b-e3fecc84bec5",
   "metadata": {},
   "outputs": [],
   "source": []
  }
 ],
 "metadata": {
  "kernelspec": {
   "display_name": "Python [conda env:ptype]",
   "language": "python",
   "name": "conda-env-ptype-py"
  },
  "language_info": {
   "codemirror_mode": {
    "name": "ipython",
    "version": 3
   },
   "file_extension": ".py",
   "mimetype": "text/x-python",
   "name": "python",
   "nbconvert_exporter": "python",
   "pygments_lexer": "ipython3",
   "version": "3.10.11"
  }
 },
 "nbformat": 4,
 "nbformat_minor": 5
}
