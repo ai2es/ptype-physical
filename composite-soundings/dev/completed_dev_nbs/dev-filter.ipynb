{
 "cells": [
  {
   "cell_type": "code",
   "execution_count": 1,
   "id": "608ca6fd-f04c-4d7e-88dc-9917e7d95ae9",
   "metadata": {},
   "outputs": [],
   "source": [
    "import numpy as np\n",
    "import xarray as xr\n",
    "import pandas as pd\n",
    "import matplotlib.pyplot as plt\n",
    "\n",
    "from metpy.calc import dewpoint_from_relative_humidity\n",
    "from metpy.units import units\n",
    "\n",
    "import sys\n",
    "sys.path.append('../../') # lets us import ptype package from the subdir\n",
    "\n",
    "import sounding_utils\n",
    "from sounding_utils import open_ds_dkimpara, filter_latlon\n",
    "from importlib import reload\n",
    "\n",
    "from functools import partial\n",
    "import cartopy.crs as ccrs\n",
    "\n",
    "#import ptype."
   ]
  },
  {
   "cell_type": "markdown",
   "id": "eac331a0-8f53-4a08-9815-952f50055727",
   "metadata": {},
   "source": [
    "## Select forecast hour:"
   ]
  },
  {
   "cell_type": "code",
   "execution_count": 2,
   "id": "e12c5ca4-4e67-4e56-8f18-164edaab17e2",
   "metadata": {},
   "outputs": [],
   "source": [
    "hour = '0000'"
   ]
  },
  {
   "cell_type": "code",
   "execution_count": 3,
   "id": "16d52024-c554-4aa7-8391-e465c7c59e13",
   "metadata": {},
   "outputs": [],
   "source": [
    "model='rap'\n",
    "rap = open_ds_dkimpara(hour,model)"
   ]
  },
  {
   "cell_type": "code",
   "execution_count": 4,
   "id": "db43adea-ad6c-406e-9e73-28064bead87e",
   "metadata": {},
   "outputs": [],
   "source": [
    "model='hrrr'\n",
    "hrrr = open_ds_dkimpara(hour,model)"
   ]
  },
  {
   "cell_type": "code",
   "execution_count": 5,
   "id": "216c3d7b-bddd-42b7-bfc0-05880e9217b3",
   "metadata": {},
   "outputs": [],
   "source": [
    "model='gfs'\n",
    "gfs = open_ds_dkimpara(hour,model)\n"
   ]
  },
  {
   "cell_type": "code",
   "execution_count": 6,
   "id": "0a4bb11b-cb77-4ce8-87dd-18001cbffa03",
   "metadata": {},
   "outputs": [],
   "source": [
    "datasets = [gfs, hrrr, rap]"
   ]
  },
  {
   "cell_type": "code",
   "execution_count": 7,
   "id": "9c728234-b493-4cae-b69b-e1f4c99a701b",
   "metadata": {},
   "outputs": [],
   "source": [
    "bbox = {\"lon_min\": max([ds.longitude.min() for ds in datasets]),\n",
    "        \"lon_max\": min([ds.longitude.max() for ds in datasets]),\n",
    "        \"lat_min\": max([ds.latitude.min() for ds in datasets]),\n",
    "        \"lat_max\": min([ds.latitude.max() for ds in datasets])\n",
    "       }"
   ]
  },
  {
   "cell_type": "code",
   "execution_count": 9,
   "id": "b5de65f5-6a0e-4e65-86fb-eaecc9a5fe38",
   "metadata": {},
   "outputs": [],
   "source": [
    "from joblib import dump, load"
   ]
  },
  {
   "cell_type": "code",
   "execution_count": 10,
   "id": "ce5307c7-3e29-4c0d-bbf5-6fbb87004f05",
   "metadata": {},
   "outputs": [
    {
     "data": {
      "text/plain": [
       "['bbox_dict']"
      ]
     },
     "execution_count": 10,
     "metadata": {},
     "output_type": "execute_result"
    }
   ],
   "source": [
    "dump(bbox, 'bbox_dict')"
   ]
  },
  {
   "cell_type": "code",
   "execution_count": 11,
   "id": "ae4d646d-abb6-4ab6-a101-4578780e593f",
   "metadata": {},
   "outputs": [
    {
     "name": "stdout",
     "output_type": "stream",
     "text": [
      "{'lon_min': <xarray.DataArray 'longitude' ()>\n",
      "dask.array<_nanmin_skip-aggregate, shape=(), dtype=float32, chunksize=(), chunktype=numpy.ndarray>, 'lon_max': <xarray.DataArray 'longitude' ()>\n",
      "dask.array<_nanmax_skip-aggregate, shape=(), dtype=float32, chunksize=(), chunktype=numpy.ndarray>, 'lat_min': <xarray.DataArray 'latitude' ()>\n",
      "dask.array<_nanmin_skip-aggregate, shape=(), dtype=float32, chunksize=(), chunktype=numpy.ndarray>, 'lat_max': <xarray.DataArray 'latitude' ()>\n",
      "dask.array<_nanmax_skip-aggregate, shape=(), dtype=float32, chunksize=(), chunktype=numpy.ndarray>}\n"
     ]
    }
   ],
   "source": [
    "bload = load('bbox_dict')\n",
    "print(bload)"
   ]
  },
  {
   "cell_type": "code",
   "execution_count": 12,
   "id": "42fcd449-a50c-4518-8d66-abfb07d2356e",
   "metadata": {
    "tags": []
   },
   "outputs": [
    {
     "data": {
      "text/plain": [
       "[array(225.90453, dtype=float32),\n",
       " array(299.0828, dtype=float32),\n",
       " array(21.138123, dtype=float32),\n",
       " array(52.615654, dtype=float32)]"
      ]
     },
     "execution_count": 12,
     "metadata": {},
     "output_type": "execute_result"
    }
   ],
   "source": [
    "[b.values for k,b in bload.items()]"
   ]
  },
  {
   "cell_type": "code",
   "execution_count": 27,
   "id": "eddc9182-f19e-4c5e-9cb2-389094e03111",
   "metadata": {},
   "outputs": [],
   "source": [
    "def filter(ds):\n",
    "    bbox = load('bbox_dict')\n",
    "    \n",
    "    mask = (\n",
    "            (ds.latitude <= bbox['lat_max']) &\n",
    "            (ds.latitude >= bbox['lat_min']) &\n",
    "            (ds.longitude <= bbox['lon_max']) &\n",
    "            (ds.longitude >= bbox['lon_min'])\n",
    "           )\n",
    "    \n",
    "    return ds.where(mask.compute(), drop=True)\n"
   ]
  },
  {
   "cell_type": "code",
   "execution_count": 28,
   "id": "2e4e19fa-d9f0-4f52-bf98-862246bfa648",
   "metadata": {},
   "outputs": [],
   "source": [
    "filtered = [filter(ds) for ds in datasets]"
   ]
  },
  {
   "cell_type": "code",
   "execution_count": null,
   "id": "d800f2b9-75de-49e1-b831-c4e4bdcf6b2c",
   "metadata": {},
   "outputs": [],
   "source": []
  }
 ],
 "metadata": {
  "kernelspec": {
   "display_name": "Python [conda env:ptype]",
   "language": "python",
   "name": "conda-env-ptype-py"
  },
  "language_info": {
   "codemirror_mode": {
    "name": "ipython",
    "version": 3
   },
   "file_extension": ".py",
   "mimetype": "text/x-python",
   "name": "python",
   "nbconvert_exporter": "python",
   "pygments_lexer": "ipython3",
   "version": "3.10.11"
  }
 },
 "nbformat": 4,
 "nbformat_minor": 5
}
