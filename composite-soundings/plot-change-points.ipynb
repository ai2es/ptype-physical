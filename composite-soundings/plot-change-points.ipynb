{
 "cells": [
  {
   "cell_type": "code",
   "execution_count": 1,
   "id": "608ca6fd-f04c-4d7e-88dc-9917e7d95ae9",
   "metadata": {},
   "outputs": [],
   "source": [
    "import numpy as np\n",
    "import xarray as xr\n",
    "import pandas as pd\n",
    "import matplotlib.pyplot as plt\n",
    "\n",
    "from os.path import join\n",
    "import os\n",
    "import sys\n",
    "sys.path.append('../')\n",
    "from ptype.soundings.xr_map_reduce import get_dirpaths"
   ]
  },
  {
   "cell_type": "markdown",
   "id": "eac331a0-8f53-4a08-9815-952f50055727",
   "metadata": {},
   "source": [
    "## Select forecast hour:"
   ]
  },
  {
   "cell_type": "code",
   "execution_count": 2,
   "id": "e12c5ca4-4e67-4e56-8f18-164edaab17e2",
   "metadata": {},
   "outputs": [],
   "source": [
    "case_study = 'kentucky'\n",
    "model = 'rap'\n",
    "day = '20220223'\n",
    "path = f\"/glade/scratch/dkimpara/ptype_case_studies/{case_study}/{model}/{day}\"\n",
    "paths = get_dirpaths(model, path)"
   ]
  },
  {
   "cell_type": "code",
   "execution_count": 3,
   "id": "e0ee0caa-c6ad-4d30-9bb9-63d1d0a113ce",
   "metadata": {},
   "outputs": [],
   "source": [
    "def get_f01(paths):\n",
    "    f01s = []\n",
    "    for path in paths:\n",
    "        for dirpath, dirnames, filenames in os.walk(path):\n",
    "            for filename in filenames:\n",
    "                if 'f01' in filename:\n",
    "                    f01s.append(join(dirpath,filename))\n",
    "                \n",
    "    return f01s"
   ]
  },
  {
   "cell_type": "code",
   "execution_count": 4,
   "id": "b1804f30-4a9a-443d-bf95-e9ba613029db",
   "metadata": {},
   "outputs": [],
   "source": [
    "ds = xr.open_mfdataset(get_f01(paths),\n",
    "                       concat_dim=\"valid_time\",\n",
    "                      combine=\"nested\",\n",
    "                      decode_cf=False)"
   ]
  },
  {
   "cell_type": "code",
   "execution_count": 5,
   "id": "9e276bcc-add3-4cb8-a6bf-634b93e5003a",
   "metadata": {},
   "outputs": [
    {
     "ename": "IndexError",
     "evalue": "Index 337 is out of bounds for axis 3 with size 337",
     "output_type": "error",
     "traceback": [
      "\u001b[0;31m---------------------------------------------------------------------------\u001b[0m",
      "\u001b[0;31mIndexError\u001b[0m                                Traceback (most recent call last)",
      "Cell \u001b[0;32mIn[5], line 7\u001b[0m\n\u001b[1;32m      5\u001b[0m \u001b[38;5;28;01mfor\u001b[39;00m x_cord \u001b[38;5;129;01min\u001b[39;00m ds\u001b[38;5;241m.\u001b[39mx:\n\u001b[1;32m      6\u001b[0m     \u001b[38;5;28;01mfor\u001b[39;00m y_cord \u001b[38;5;129;01min\u001b[39;00m ds\u001b[38;5;241m.\u001b[39my:\n\u001b[0;32m----> 7\u001b[0m         subds \u001b[38;5;241m=\u001b[39m \u001b[43mds\u001b[49m\u001b[38;5;241;43m.\u001b[39;49m\u001b[43msel\u001b[49m\u001b[43m(\u001b[49m\u001b[43mx\u001b[49m\u001b[38;5;241;43m=\u001b[39;49m\u001b[43mx_cord\u001b[49m\u001b[43m,\u001b[49m\u001b[43m \u001b[49m\u001b[43my\u001b[49m\u001b[38;5;241;43m=\u001b[39;49m\u001b[43mx_cord\u001b[49m\u001b[43m)\u001b[49m\n\u001b[1;32m      8\u001b[0m         _, counts \u001b[38;5;241m=\u001b[39m np\u001b[38;5;241m.\u001b[39munique(subds\u001b[38;5;241m.\u001b[39mvalues, return_counts\u001b[38;5;241m=\u001b[39m\u001b[38;5;28;01mTrue\u001b[39;00m)\n\u001b[1;32m      9\u001b[0m         dist_from_unif \u001b[38;5;241m=\u001b[39m np\u001b[38;5;241m.\u001b[39msum((uniform \u001b[38;5;241m-\u001b[39m counts \u001b[38;5;241m/\u001b[39m np\u001b[38;5;241m.\u001b[39msum(counts)) \u001b[38;5;241m*\u001b[39m\u001b[38;5;241m*\u001b[39m \u001b[38;5;241m2\u001b[39m)\n",
      "File \u001b[0;32m/glade/work/dkimpara/conda-envs/ptype/lib/python3.10/site-packages/xarray/core/dataset.py:2667\u001b[0m, in \u001b[0;36mDataset.sel\u001b[0;34m(self, indexers, method, tolerance, drop, **indexers_kwargs)\u001b[0m\n\u001b[1;32m   2664\u001b[0m                 query_results\u001b[38;5;241m.\u001b[39mdrop_coords\u001b[38;5;241m.\u001b[39mappend(k)\n\u001b[1;32m   2665\u001b[0m     query_results\u001b[38;5;241m.\u001b[39mvariables \u001b[38;5;241m=\u001b[39m no_scalar_variables\n\u001b[0;32m-> 2667\u001b[0m result \u001b[38;5;241m=\u001b[39m \u001b[38;5;28;43mself\u001b[39;49m\u001b[38;5;241;43m.\u001b[39;49m\u001b[43misel\u001b[49m\u001b[43m(\u001b[49m\u001b[43mindexers\u001b[49m\u001b[38;5;241;43m=\u001b[39;49m\u001b[43mquery_results\u001b[49m\u001b[38;5;241;43m.\u001b[39;49m\u001b[43mdim_indexers\u001b[49m\u001b[43m,\u001b[49m\u001b[43m \u001b[49m\u001b[43mdrop\u001b[49m\u001b[38;5;241;43m=\u001b[39;49m\u001b[43mdrop\u001b[49m\u001b[43m)\u001b[49m\n\u001b[1;32m   2668\u001b[0m \u001b[38;5;28;01mreturn\u001b[39;00m result\u001b[38;5;241m.\u001b[39m_overwrite_indexes(\u001b[38;5;241m*\u001b[39mquery_results\u001b[38;5;241m.\u001b[39mas_tuple()[\u001b[38;5;241m1\u001b[39m:])\n",
      "File \u001b[0;32m/glade/work/dkimpara/conda-envs/ptype/lib/python3.10/site-packages/xarray/core/dataset.py:2507\u001b[0m, in \u001b[0;36mDataset.isel\u001b[0;34m(self, indexers, drop, missing_dims, **indexers_kwargs)\u001b[0m\n\u001b[1;32m   2505\u001b[0m indexers \u001b[38;5;241m=\u001b[39m either_dict_or_kwargs(indexers, indexers_kwargs, \u001b[38;5;124m\"\u001b[39m\u001b[38;5;124misel\u001b[39m\u001b[38;5;124m\"\u001b[39m)\n\u001b[1;32m   2506\u001b[0m \u001b[38;5;28;01mif\u001b[39;00m \u001b[38;5;28many\u001b[39m(is_fancy_indexer(idx) \u001b[38;5;28;01mfor\u001b[39;00m idx \u001b[38;5;129;01min\u001b[39;00m indexers\u001b[38;5;241m.\u001b[39mvalues()):\n\u001b[0;32m-> 2507\u001b[0m     \u001b[38;5;28;01mreturn\u001b[39;00m \u001b[38;5;28;43mself\u001b[39;49m\u001b[38;5;241;43m.\u001b[39;49m\u001b[43m_isel_fancy\u001b[49m\u001b[43m(\u001b[49m\u001b[43mindexers\u001b[49m\u001b[43m,\u001b[49m\u001b[43m \u001b[49m\u001b[43mdrop\u001b[49m\u001b[38;5;241;43m=\u001b[39;49m\u001b[43mdrop\u001b[49m\u001b[43m,\u001b[49m\u001b[43m \u001b[49m\u001b[43mmissing_dims\u001b[49m\u001b[38;5;241;43m=\u001b[39;49m\u001b[43mmissing_dims\u001b[49m\u001b[43m)\u001b[49m\n\u001b[1;32m   2509\u001b[0m \u001b[38;5;66;03m# Much faster algorithm for when all indexers are ints, slices, one-dimensional\u001b[39;00m\n\u001b[1;32m   2510\u001b[0m \u001b[38;5;66;03m# lists, or zero or one-dimensional np.ndarray's\u001b[39;00m\n\u001b[1;32m   2511\u001b[0m indexers \u001b[38;5;241m=\u001b[39m drop_dims_from_indexers(indexers, \u001b[38;5;28mself\u001b[39m\u001b[38;5;241m.\u001b[39mdims, missing_dims)\n",
      "File \u001b[0;32m/glade/work/dkimpara/conda-envs/ptype/lib/python3.10/site-packages/xarray/core/dataset.py:2563\u001b[0m, in \u001b[0;36mDataset._isel_fancy\u001b[0;34m(self, indexers, drop, missing_dims)\u001b[0m\n\u001b[1;32m   2559\u001b[0m var_indexers \u001b[38;5;241m=\u001b[39m {\n\u001b[1;32m   2560\u001b[0m     k: v \u001b[38;5;28;01mfor\u001b[39;00m k, v \u001b[38;5;129;01min\u001b[39;00m valid_indexers\u001b[38;5;241m.\u001b[39mitems() \u001b[38;5;28;01mif\u001b[39;00m k \u001b[38;5;129;01min\u001b[39;00m var\u001b[38;5;241m.\u001b[39mdims\n\u001b[1;32m   2561\u001b[0m }\n\u001b[1;32m   2562\u001b[0m \u001b[38;5;28;01mif\u001b[39;00m var_indexers:\n\u001b[0;32m-> 2563\u001b[0m     new_var \u001b[38;5;241m=\u001b[39m \u001b[43mvar\u001b[49m\u001b[38;5;241;43m.\u001b[39;49m\u001b[43misel\u001b[49m\u001b[43m(\u001b[49m\u001b[43mindexers\u001b[49m\u001b[38;5;241;43m=\u001b[39;49m\u001b[43mvar_indexers\u001b[49m\u001b[43m)\u001b[49m\n\u001b[1;32m   2564\u001b[0m     \u001b[38;5;66;03m# drop scalar coordinates\u001b[39;00m\n\u001b[1;32m   2565\u001b[0m     \u001b[38;5;66;03m# https://github.com/pydata/xarray/issues/6554\u001b[39;00m\n\u001b[1;32m   2566\u001b[0m     \u001b[38;5;28;01mif\u001b[39;00m name \u001b[38;5;129;01min\u001b[39;00m \u001b[38;5;28mself\u001b[39m\u001b[38;5;241m.\u001b[39mcoords \u001b[38;5;129;01mand\u001b[39;00m drop \u001b[38;5;129;01mand\u001b[39;00m new_var\u001b[38;5;241m.\u001b[39mndim \u001b[38;5;241m==\u001b[39m \u001b[38;5;241m0\u001b[39m:\n",
      "File \u001b[0;32m/glade/work/dkimpara/conda-envs/ptype/lib/python3.10/site-packages/xarray/core/variable.py:1378\u001b[0m, in \u001b[0;36mVariable.isel\u001b[0;34m(self, indexers, missing_dims, **indexers_kwargs)\u001b[0m\n\u001b[1;32m   1375\u001b[0m indexers \u001b[38;5;241m=\u001b[39m drop_dims_from_indexers(indexers, \u001b[38;5;28mself\u001b[39m\u001b[38;5;241m.\u001b[39mdims, missing_dims)\n\u001b[1;32m   1377\u001b[0m key \u001b[38;5;241m=\u001b[39m \u001b[38;5;28mtuple\u001b[39m(indexers\u001b[38;5;241m.\u001b[39mget(dim, \u001b[38;5;28mslice\u001b[39m(\u001b[38;5;28;01mNone\u001b[39;00m)) \u001b[38;5;28;01mfor\u001b[39;00m dim \u001b[38;5;129;01min\u001b[39;00m \u001b[38;5;28mself\u001b[39m\u001b[38;5;241m.\u001b[39mdims)\n\u001b[0;32m-> 1378\u001b[0m \u001b[38;5;28;01mreturn\u001b[39;00m \u001b[38;5;28;43mself\u001b[39;49m\u001b[43m[\u001b[49m\u001b[43mkey\u001b[49m\u001b[43m]\u001b[49m\n",
      "File \u001b[0;32m/glade/work/dkimpara/conda-envs/ptype/lib/python3.10/site-packages/xarray/core/variable.py:900\u001b[0m, in \u001b[0;36mVariable.__getitem__\u001b[0;34m(self, key)\u001b[0m\n\u001b[1;32m    887\u001b[0m \u001b[38;5;250m\u001b[39m\u001b[38;5;124;03m\"\"\"Return a new Variable object whose contents are consistent with\u001b[39;00m\n\u001b[1;32m    888\u001b[0m \u001b[38;5;124;03mgetting the provided key from the underlying data.\u001b[39;00m\n\u001b[1;32m    889\u001b[0m \n\u001b[0;32m   (...)\u001b[0m\n\u001b[1;32m    897\u001b[0m \u001b[38;5;124;03marray `x.values` directly.\u001b[39;00m\n\u001b[1;32m    898\u001b[0m \u001b[38;5;124;03m\"\"\"\u001b[39;00m\n\u001b[1;32m    899\u001b[0m dims, indexer, new_order \u001b[38;5;241m=\u001b[39m \u001b[38;5;28mself\u001b[39m\u001b[38;5;241m.\u001b[39m_broadcast_indexes(key)\n\u001b[0;32m--> 900\u001b[0m data \u001b[38;5;241m=\u001b[39m \u001b[43mas_indexable\u001b[49m\u001b[43m(\u001b[49m\u001b[38;5;28;43mself\u001b[39;49m\u001b[38;5;241;43m.\u001b[39;49m\u001b[43m_data\u001b[49m\u001b[43m)\u001b[49m\u001b[43m[\u001b[49m\u001b[43mindexer\u001b[49m\u001b[43m]\u001b[49m\n\u001b[1;32m    901\u001b[0m \u001b[38;5;28;01mif\u001b[39;00m new_order:\n\u001b[1;32m    902\u001b[0m     data \u001b[38;5;241m=\u001b[39m np\u001b[38;5;241m.\u001b[39mmoveaxis(data, \u001b[38;5;28mrange\u001b[39m(\u001b[38;5;28mlen\u001b[39m(new_order)), new_order)\n",
      "File \u001b[0;32m/glade/work/dkimpara/conda-envs/ptype/lib/python3.10/site-packages/xarray/core/indexing.py:1436\u001b[0m, in \u001b[0;36mDaskIndexingAdapter.__getitem__\u001b[0;34m(self, key)\u001b[0m\n\u001b[1;32m   1433\u001b[0m         key \u001b[38;5;241m=\u001b[39m \u001b[38;5;28mtype\u001b[39m(key)(\u001b[38;5;28mtuple\u001b[39m(new_indexer))\n\u001b[1;32m   1435\u001b[0m \u001b[38;5;28;01mif\u001b[39;00m \u001b[38;5;28misinstance\u001b[39m(key, BasicIndexer):\n\u001b[0;32m-> 1436\u001b[0m     \u001b[38;5;28;01mreturn\u001b[39;00m \u001b[38;5;28;43mself\u001b[39;49m\u001b[38;5;241;43m.\u001b[39;49m\u001b[43marray\u001b[49m\u001b[43m[\u001b[49m\u001b[43mkey\u001b[49m\u001b[38;5;241;43m.\u001b[39;49m\u001b[43mtuple\u001b[49m\u001b[43m]\u001b[49m\n\u001b[1;32m   1437\u001b[0m \u001b[38;5;28;01melif\u001b[39;00m \u001b[38;5;28misinstance\u001b[39m(key, VectorizedIndexer):\n\u001b[1;32m   1438\u001b[0m     \u001b[38;5;28;01mreturn\u001b[39;00m \u001b[38;5;28mself\u001b[39m\u001b[38;5;241m.\u001b[39marray\u001b[38;5;241m.\u001b[39mvindex[key\u001b[38;5;241m.\u001b[39mtuple]\n",
      "File \u001b[0;32m/glade/work/dkimpara/conda-envs/ptype/lib/python3.10/site-packages/dask/array/core.py:1978\u001b[0m, in \u001b[0;36mArray.__getitem__\u001b[0;34m(self, index)\u001b[0m\n\u001b[1;32m   1970\u001b[0m     index \u001b[38;5;241m=\u001b[39m (index,)\n\u001b[1;32m   1972\u001b[0m \u001b[38;5;28;01mfrom\u001b[39;00m \u001b[38;5;21;01mdask\u001b[39;00m\u001b[38;5;21;01m.\u001b[39;00m\u001b[38;5;21;01marray\u001b[39;00m\u001b[38;5;21;01m.\u001b[39;00m\u001b[38;5;21;01mslicing\u001b[39;00m \u001b[38;5;28;01mimport\u001b[39;00m (\n\u001b[1;32m   1973\u001b[0m     normalize_index,\n\u001b[1;32m   1974\u001b[0m     slice_with_bool_dask_array,\n\u001b[1;32m   1975\u001b[0m     slice_with_int_dask_array,\n\u001b[1;32m   1976\u001b[0m )\n\u001b[0;32m-> 1978\u001b[0m index2 \u001b[38;5;241m=\u001b[39m \u001b[43mnormalize_index\u001b[49m\u001b[43m(\u001b[49m\u001b[43mindex\u001b[49m\u001b[43m,\u001b[49m\u001b[43m \u001b[49m\u001b[38;5;28;43mself\u001b[39;49m\u001b[38;5;241;43m.\u001b[39;49m\u001b[43mshape\u001b[49m\u001b[43m)\u001b[49m\n\u001b[1;32m   1979\u001b[0m dependencies \u001b[38;5;241m=\u001b[39m {\u001b[38;5;28mself\u001b[39m\u001b[38;5;241m.\u001b[39mname}\n\u001b[1;32m   1980\u001b[0m \u001b[38;5;28;01mfor\u001b[39;00m i \u001b[38;5;129;01min\u001b[39;00m index2:\n",
      "File \u001b[0;32m/glade/work/dkimpara/conda-envs/ptype/lib/python3.10/site-packages/dask/array/slicing.py:919\u001b[0m, in \u001b[0;36mnormalize_index\u001b[0;34m(idx, shape)\u001b[0m\n\u001b[1;32m    917\u001b[0m \u001b[38;5;28;01mfor\u001b[39;00m axis, (i, d) \u001b[38;5;129;01min\u001b[39;00m \u001b[38;5;28menumerate\u001b[39m(\u001b[38;5;28mzip\u001b[39m(idx, none_shape)):\n\u001b[1;32m    918\u001b[0m     \u001b[38;5;28;01mif\u001b[39;00m d \u001b[38;5;129;01mis\u001b[39;00m \u001b[38;5;129;01mnot\u001b[39;00m \u001b[38;5;28;01mNone\u001b[39;00m:\n\u001b[0;32m--> 919\u001b[0m         \u001b[43mcheck_index\u001b[49m\u001b[43m(\u001b[49m\u001b[43maxis\u001b[49m\u001b[43m,\u001b[49m\u001b[43m \u001b[49m\u001b[43mi\u001b[49m\u001b[43m,\u001b[49m\u001b[43m \u001b[49m\u001b[43md\u001b[49m\u001b[43m)\u001b[49m\n\u001b[1;32m    920\u001b[0m idx \u001b[38;5;241m=\u001b[39m \u001b[38;5;28mtuple\u001b[39m(\u001b[38;5;28mmap\u001b[39m(sanitize_index, idx))\n\u001b[1;32m    921\u001b[0m idx \u001b[38;5;241m=\u001b[39m \u001b[38;5;28mtuple\u001b[39m(\u001b[38;5;28mmap\u001b[39m(normalize_slice, idx, none_shape))\n",
      "File \u001b[0;32m/glade/work/dkimpara/conda-envs/ptype/lib/python3.10/site-packages/dask/array/slicing.py:991\u001b[0m, in \u001b[0;36mcheck_index\u001b[0;34m(axis, ind, dimension)\u001b[0m\n\u001b[1;32m    988\u001b[0m     \u001b[38;5;28;01mreturn\u001b[39;00m\n\u001b[1;32m    990\u001b[0m \u001b[38;5;28;01melif\u001b[39;00m ind \u001b[38;5;241m>\u001b[39m\u001b[38;5;241m=\u001b[39m dimension \u001b[38;5;129;01mor\u001b[39;00m ind \u001b[38;5;241m<\u001b[39m \u001b[38;5;241m-\u001b[39mdimension:\n\u001b[0;32m--> 991\u001b[0m     \u001b[38;5;28;01mraise\u001b[39;00m \u001b[38;5;167;01mIndexError\u001b[39;00m(\n\u001b[1;32m    992\u001b[0m         \u001b[38;5;124mf\u001b[39m\u001b[38;5;124m\"\u001b[39m\u001b[38;5;124mIndex \u001b[39m\u001b[38;5;132;01m{\u001b[39;00mind\u001b[38;5;132;01m}\u001b[39;00m\u001b[38;5;124m is out of bounds for axis \u001b[39m\u001b[38;5;132;01m{\u001b[39;00maxis\u001b[38;5;132;01m}\u001b[39;00m\u001b[38;5;124m with size \u001b[39m\u001b[38;5;132;01m{\u001b[39;00mdimension\u001b[38;5;132;01m}\u001b[39;00m\u001b[38;5;124m\"\u001b[39m\n\u001b[1;32m    993\u001b[0m     )\n",
      "\u001b[0;31mIndexError\u001b[0m: Index 337 is out of bounds for axis 3 with size 337"
     ]
    }
   ],
   "source": [
    "uniform = np.ones(4) / 4\n",
    "smallest_dist = np.inf\n",
    "best_coord = (0,0)\n",
    "\n",
    "for x_cord in ds.x:\n",
    "    for y_cord in ds.y:\n",
    "        subds = ds.sel(x=x_cord, y=x_cord)\n",
    "        _, counts = np.unique(subds.values, return_counts=True)\n",
    "        dist_from_unif = np.sum((uniform - counts / np.sum(counts)) ** 2)\n",
    "        \n",
    "        if dist_from_unif < smallest_dist:\n",
    "            smallest_dist = dist_from_unif\n",
    "            best_coord = (x_cord, y_cord)"
   ]
  },
  {
   "cell_type": "code",
   "execution_count": null,
   "id": "30feaaa9-b820-4848-b366-e5aa7fca5ad2",
   "metadata": {},
   "outputs": [],
   "source": [
    "from joblib import dump\n",
    "dump(best_coord, \"best_coord.dump\")"
   ]
  },
  {
   "cell_type": "code",
   "execution_count": null,
   "id": "133acd96-850c-4f97-8c53-fc5c6132832a",
   "metadata": {},
   "outputs": [],
   "source": []
  }
 ],
 "metadata": {
  "kernelspec": {
   "display_name": "Python [conda env:ptype]",
   "language": "python",
   "name": "conda-env-ptype-py"
  },
  "language_info": {
   "codemirror_mode": {
    "name": "ipython",
    "version": 3
   },
   "file_extension": ".py",
   "mimetype": "text/x-python",
   "name": "python",
   "nbconvert_exporter": "python",
   "pygments_lexer": "ipython3",
   "version": "3.10.12"
  }
 },
 "nbformat": 4,
 "nbformat_minor": 5
}
