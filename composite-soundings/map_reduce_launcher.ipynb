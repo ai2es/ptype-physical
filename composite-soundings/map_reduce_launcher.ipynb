{
 "cells": [
  {
   "cell_type": "code",
   "execution_count": 34,
   "id": "0e0201cb-1a75-4910-9671-90dad9c47de3",
   "metadata": {},
   "outputs": [],
   "source": [
    "import sys\n",
    "sys.path.append('/glade/u/home/dkimpara/')\n",
    "sys.path.append('../')\n",
    "from os.path import join\n",
    "import pbs_utils.qsubPython as qpy"
   ]
  },
  {
   "cell_type": "markdown",
   "id": "0f798300-8ae9-4253-a171-74566e2eeb62",
   "metadata": {},
   "source": [
    "### resource recs:\n",
    "- rap: 1h ncpus=24:mem=500GB\n",
    "- gfs: 1h ncpus=6:mem=50GB\n",
    "- hrrr: 30min ncpus=32 mem=550GB\n",
    "    -  for hrrr - only run on one case study *day* at a time (or less)\n",
    "\n",
    "resource syntax: select=1:ncpus=12:mem=100GB\n",
    "walltime syntax: 00:00:00"
   ]
  },
  {
   "cell_type": "code",
   "execution_count": 43,
   "id": "97bbbd13-5a3f-44f5-9e90-404c55e64e52",
   "metadata": {},
   "outputs": [
    {
     "name": "stdout",
     "output_type": "stream",
     "text": [
      "8077311.casper-pbs\n"
     ]
    },
    {
     "data": {
      "text/plain": [
       "'8077311.casper-pbs'"
      ]
     },
     "execution_count": 43,
     "metadata": {},
     "output_type": "execute_result"
    }
   ],
   "source": [
    "job = qpy.qsubPython('NAML0001', 'dkimpara@ucar.edu', 'casper')\n",
    "job.append_job_script(['module load conda',\n",
    "                       'conda activate ptype',\n",
    "                       'cd /glade/u/home/dkimpara/ptype-physical/composite_soundings',\n",
    "                       'mkdir -p outfiles'])\n",
    "job.set_job_attrs(resources='select=1:ncpus=2:mem=300GB',\n",
    "                  walltime='00:45:00')\n",
    "model = 'rap'\n",
    "jobname = f'xr_merge_{model}'\n",
    "job.set_job_attrs(jobname=jobname,\n",
    "                    outfile=f'outfiles/{jobname}.out',\n",
    "                    errorfile= f'outfiles/{jobname}.out')\n",
    "job.submit(['python -u xr-post-merge-rap.py'])"
   ]
  },
  {
   "cell_type": "code",
   "execution_count": 36,
   "id": "998520ce",
   "metadata": {},
   "outputs": [
    {
     "data": {
      "text/plain": [
       "{'8076940': {'Job_Name': 'cr-login-stable',\n",
       "  'resources_used.cpupercent': '5',\n",
       "  'resources_used.cput': '00:01:26',\n",
       "  'resources_used.mem': 4.19,\n",
       "  'resources_used.ncpus': '1',\n",
       "  'resources_used.vmem': 1.27,\n",
       "  'resources_used.walltime': '00:26:27',\n",
       "  'Resource_List.mem': '4gb',\n",
       "  'Resource_List.ncpus': '1'},\n",
       " '8077042': {'Job_Name': 'STDIN',\n",
       "  'resources_used.cpupercent': '8',\n",
       "  'resources_used.cput': '00:01:30',\n",
       "  'resources_used.mem': 16.78,\n",
       "  'resources_used.ncpus': '2',\n",
       "  'resources_used.vmem': 1.37,\n",
       "  'resources_used.walltime': '00:18:02',\n",
       "  'Resource_List.mem': '16gb',\n",
       "  'Resource_List.ncpus': '2'},\n",
       " '8077214': {'Job_Name': 'xr_merge',\n",
       "  'resources_used.cpupercent': '0',\n",
       "  'resources_used.cput': '00:00:00',\n",
       "  'resources_used.mem': 0.0,\n",
       "  'resources_used.ncpus': '2',\n",
       "  'resources_used.vmem': 0.61,\n",
       "  'resources_used.walltime': '00:00:10',\n",
       "  'Resource_List.mem': '300gb',\n",
       "  'Resource_List.ncpus': '2'}}"
      ]
     },
     "execution_count": 36,
     "metadata": {},
     "output_type": "execute_result"
    }
   ],
   "source": [
    "qpy.allresources()"
   ]
  },
  {
   "cell_type": "code",
   "execution_count": null,
   "id": "dfd6b94d-62f0-464a-9009-e5c09df5b4db",
   "metadata": {},
   "outputs": [],
   "source": []
  },
  {
   "cell_type": "code",
   "execution_count": null,
   "id": "83cb4d72-e9e3-4793-b624-0c9382b20ff4",
   "metadata": {},
   "outputs": [],
   "source": []
  }
 ],
 "metadata": {
  "kernelspec": {
   "display_name": "Python 3 (ipykernel)",
   "language": "python",
   "name": "python3"
  },
  "language_info": {
   "codemirror_mode": {
    "name": "ipython",
    "version": 3
   },
   "file_extension": ".py",
   "mimetype": "text/x-python",
   "name": "python",
   "nbconvert_exporter": "python",
   "pygments_lexer": "ipython3",
   "version": "3.9.12"
  }
 },
 "nbformat": 4,
 "nbformat_minor": 5
}
