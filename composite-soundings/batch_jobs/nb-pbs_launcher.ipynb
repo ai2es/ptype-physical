{
 "cells": [
  {
   "cell_type": "code",
   "execution_count": 1,
   "id": "0e0201cb-1a75-4910-9671-90dad9c47de3",
   "metadata": {},
   "outputs": [],
   "source": [
    "import qsubPython as qpy\n",
    "from joblib import dump, load"
   ]
  },
  {
   "cell_type": "markdown",
   "id": "0f798300-8ae9-4253-a171-74566e2eeb62",
   "metadata": {},
   "source": [
    "### resource recs:\n",
    "- rap: 1h ncpus=24:mem=500GB\n",
    "- gfs: 1h ncpus=6:mem=50GB\n",
    "- hrrr: 30min ncpus=32 mem=550GB\n",
    "    -  for hrrr - only run on one case study *day* at a time (or less)\n",
    "\n",
    "resource syntax: select=1:ncpus=12:mem=100GB\n",
    "\n",
    "walltime syntax: 00:00:00\n",
    "\n",
    "### use following for hrrr:\n",
    "```\n",
    "python -u mr-run.py -m hrrr -o hrrr_ny2_04 -d /glade/campaign/cisl/aiml/ptype/ptype_case_studies/new_york_2/hrrr/20220204\n",
    "```\n",
    "\n",
    "### use folloiwng for rap and gfs. \n",
    "-i 0 for kentucky, 1 for new_york_1, 2 for new_york_2\n",
    "\n",
    "```\n",
    "python -u mr-run.py -i 0 -m rap -o rap_2 -f ___\n",
    "```\n",
    "\n"
   ]
  },
  {
   "cell_type": "code",
   "execution_count": 2,
   "id": "97bbbd13-5a3f-44f5-9e90-404c55e64e52",
   "metadata": {},
   "outputs": [],
   "source": [
    "job = qpy.qsubPython('NAML0001', 'dkimpara@ucar.edu', 'casper')\n",
    "job.append_job_script(['module load conda',\n",
    "                       'conda activate ptype',\n",
    "                       'cd /glade/u/home/dkimpara/ptype-physical/composite-soundings/batch_jobs',\n",
    "                       'mkdir -p outfiles'])"
   ]
  },
  {
   "cell_type": "code",
   "execution_count": 3,
   "id": "704c9879-df31-434d-851f-9882c0ac71f2",
   "metadata": {},
   "outputs": [
    {
     "name": "stdout",
     "output_type": "stream",
     "text": [
      "qsubPython(account='NAML0001', user_list='dkimpara@ucar.edu', queue='casper', mail_option='a', jobname=None, walltime='01:00:00', resources=None, outfile='out.out', errorfile='out.out', job_script=['export TMPDIR=/glade/scratch/$USER/temp', 'mkdir -p $TMPDIR', 'source /etc/profile.d/modules.sh', 'module load conda', 'conda activate ptype', 'cd /glade/u/home/dkimpara/ptype-physical/composite-soundings/batch_jobs', 'mkdir -p outfiles'])\n"
     ]
    }
   ],
   "source": [
    "print(job)"
   ]
  },
  {
   "cell_type": "code",
   "execution_count": 4,
   "id": "9e164435-5361-4542-baf3-80578adb79c1",
   "metadata": {},
   "outputs": [],
   "source": [
    "model = 'gfs'\n",
    "func = 'partial(xmr.compute_by_conf, [0.7, 0.9])'\n",
    "funcname = 'conf79'\n",
    "#func = \"xmr.compute_by_disagree\"\n",
    "#funcname = 'disagree'\n",
    "\n",
    "walltime = '02:00:00'\n",
    "resources= 'select=1:ncpus=12:mem=70GB'"
   ]
  },
  {
   "cell_type": "code",
   "execution_count": 5,
   "id": "b76cedd2-3733-422d-b041-28a9a0f60ba4",
   "metadata": {},
   "outputs": [
    {
     "name": "stdout",
     "output_type": "stream",
     "text": [
      "7903855.casper-pbs\n",
      "7903856.casper-pbs\n",
      "7903857.casper-pbs\n"
     ]
    }
   ],
   "source": [
    "for i in range(3):\n",
    "    jobname = f'{model}_{funcname}_{i}'\n",
    "    job.set_job_attrs(jobname=jobname,\n",
    "                       walltime=walltime,\n",
    "                       outfile=f'outfiles/{jobname}.out',\n",
    "                       errorfile= f'outfiles/{jobname}.out',\n",
    "                       resources=resources)\n",
    "    \n",
    "    job.submit([f'''python -u mr-run.py -i {i} -m {model} -o {jobname} -f \"{func}\"'''])"
   ]
  },
  {
   "cell_type": "code",
   "execution_count": null,
   "id": "550862b3-b9c3-4a19-bce4-3cb594c6a83d",
   "metadata": {},
   "outputs": [],
   "source": []
  }
 ],
 "metadata": {
  "kernelspec": {
   "display_name": "Python [conda env:ptype]",
   "language": "python",
   "name": "conda-env-ptype-py"
  },
  "language_info": {
   "codemirror_mode": {
    "name": "ipython",
    "version": 3
   },
   "file_extension": ".py",
   "mimetype": "text/x-python",
   "name": "python",
   "nbconvert_exporter": "python",
   "pygments_lexer": "ipython3",
   "version": "3.10.11"
  }
 },
 "nbformat": 4,
 "nbformat_minor": 5
}
