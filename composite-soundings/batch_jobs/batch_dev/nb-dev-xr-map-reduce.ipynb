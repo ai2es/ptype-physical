{
 "cells": [
  {
   "cell_type": "code",
   "execution_count": 34,
   "id": "608ca6fd-f04c-4d7e-88dc-9917e7d95ae9",
   "metadata": {},
   "outputs": [],
   "source": [
    "import numpy as np\n",
    "import xarray as xr\n",
    "import matplotlib.pyplot as plt\n",
    "import pandas as pd\n",
    "\n",
    "from importlib import reload\n",
    "\n",
    "from functools import partial\n",
    "\n",
    "import os\n",
    "from os.path import join\n",
    "import subprocess\n",
    "import time\n",
    "import sys\n",
    "sys.path.append('../../') # lets us import ptype package from the subdir\n",
    "#import ptype.\n",
    "\n",
    "from joblib import Parallel, delayed\n",
    "\n",
    "from xhistogram.xarray import histogram\n",
    "\n",
    "\n",
    "import soundings.utils as sounding_utils\n",
    "import batch_jobs.xr_map_reduce as xmr"
   ]
  },
  {
   "cell_type": "code",
   "execution_count": 8,
   "id": "687b1a71-1f7d-46cb-b9a9-7e573188a63b",
   "metadata": {},
   "outputs": [],
   "source": [
    "reload(xmr)\n",
    "dirpaths = ['/glade/scratch/dkimpara/ptype_case_studies/kentucky/rap/20220224/0100',\n",
    "            '/glade/scratch/dkimpara/ptype_case_studies/kentucky/rap/20220224/0600',\n",
    "           '/glade/scratch/dkimpara/ptype_case_studies/kentucky/rap/20220223/0100',\n",
    "           '/glade/scratch/dkimpara/ptype_case_studies/kentucky/rap/20220223/0600']\n",
    "    \n",
    "ds = xr.open_mfdataset(f'{dirpaths[0]}/*.nc', engine='netcdf4', concat_dim='step', decode_cf=False, combine='nested')\n"
   ]
  },
  {
   "cell_type": "code",
   "execution_count": 41,
   "id": "b0b169b8-380e-475d-8795-1c4e60d3f34f",
   "metadata": {},
   "outputs": [],
   "source": [
    "def compute_stats(subset, label, proftypes, predtype):\n",
    "    num_obs = subset[\"t_h\"].isel(heightAboveGround=0).count(dim=(\"x\", \"y\"))\n",
    "    num_obs = xr.Dataset({f\"num_obs_{label}\": num_obs}).drop_vars(\"heightAboveGround\")\n",
    "\n",
    "    frac_abv = sounding_utils.frac_abv_split_time(subset, proftypes)\n",
    "    frac_abv = frac_abv.rename({var: f\"{var}_fabv_disagree\" for var in proftypes})\n",
    "    ####### compute means ##############\n",
    "    mean = subset[proftypes].mean(dim=(\"x\", \"y\"))\n",
    "    mean = mean.rename({var: f\"{var}_mean_{label}\" for var in proftypes})\n",
    "\n",
    "    ####### compute histograms ############\n",
    "    bins = np.arange(-60, 40, 0.1)\n",
    "    densities = {\n",
    "        f\"{var}_hist_{label}\": (\n",
    "            histogram(\n",
    "                subset[var], bins=bins, dim=[\"x\", \"y\"], density=True\n",
    "            ).rename({f\"{var}_bin\": \"bin\"})\n",
    "        )\n",
    "        for var in proftypes\n",
    "    }\n",
    "    densities = xr.Dataset(densities)\n",
    "\n",
    "    results = {\n",
    "        \"num_obs\": num_obs,\n",
    "        \"frac_abv\": frac_abv,\n",
    "        \"means\": mean,\n",
    "        \"hists\": densities,\n",
    "    }\n",
    "    results = {\n",
    "                k: v.expand_dims({\"predtype\": [predtype]}) for k, v in results.items()\n",
    "              }\n",
    "    return results\n",
    "\n",
    "def compute_prob_and_disagree(ds):\n",
    "    ptypes = [\"icep\", \"frzr\", \"snow\", \"rain\"]\n",
    "    proftypes = [\"t_h\", \"dpt_h\"]#, \"wb_h\"]\n",
    "    other_pred = ({f'ML_c{ptype}': f'c{ptype}' for ptype in ptypes} |\n",
    "                  {f'c{ptype}': f'ML_c{ptype}' for ptype in ptypes}) \n",
    "    \n",
    "    res_dict = {\"num_obs\": [], \"frac_abv\": [], \"means\": [], \"hists\": []}\n",
    "\n",
    "    for ptype in ptypes:\n",
    "        for model in [\"ML_c\", \"c\"]:\n",
    "            #rescope this\n",
    "            predtype = model + ptype\n",
    "            \n",
    "            # compute disagreement\n",
    "            mask = (ds[predtype] == 1) & (ds[other_pred[predtype]] == 0)\n",
    "            masked_ds = ds[proftypes].where(mask)\n",
    "            results = compute_stats(masked_ds, 'disagree', proftypes, predtype)\n",
    "            for k in res_dict.keys():\n",
    "                res_dict[k].append(results[k])\n",
    "            \n",
    "            # compute confident preds\n",
    "            for confidence in [0.3,0.5,0.7,0.9]:\n",
    "                if 'ML' in predtype:\n",
    "                    mask = (ds['ML_' + ptype] >= confidence) & (ds['ML_c' + ptype] == 1) #confident and predicted the ptype\n",
    "                else:\n",
    "                    mask = (ds['ML_' + ptype] >= confidence) & (ds[predtype] == 0) #ML confident and nwp did not predict the ptype\n",
    "                masked_ds = ds[proftypes].where(mask)\n",
    "                results = compute_stats(masked_ds, f'{confidence}', proftypes, predtype)\n",
    "                for k in res_dict.keys():\n",
    "                    res_dict[k].append(results[k])\n",
    "\n",
    "    ds_concat = [\n",
    "        xr.concat(res_ds_list, dim=\"predtype\") for res_ds_list in res_dict.values()\n",
    "    ]\n",
    "    result = xr.merge(ds_concat)\n",
    "\n",
    "    return result"
   ]
  },
  {
   "cell_type": "code",
   "execution_count": 35,
   "id": "c1872a0c-3d85-4288-a77d-f37ac84929a5",
   "metadata": {},
   "outputs": [
    {
     "name": "stderr",
     "output_type": "stream",
     "text": [
      "/glade/work/dkimpara/conda-envs/ptype/lib/python3.10/site-packages/dask/core.py:121: RuntimeWarning: invalid value encountered in divide\n",
      "  return func(*(_execute_task(a, cache) for a in args))\n",
      "/glade/work/dkimpara/conda-envs/ptype/lib/python3.10/site-packages/dask/core.py:121: RuntimeWarning: invalid value encountered in divide\n",
      "  return func(*(_execute_task(a, cache) for a in args))\n",
      "/glade/work/dkimpara/conda-envs/ptype/lib/python3.10/site-packages/dask/core.py:121: RuntimeWarning: invalid value encountered in divide\n",
      "  return func(*(_execute_task(a, cache) for a in args))\n",
      "/glade/work/dkimpara/conda-envs/ptype/lib/python3.10/site-packages/dask/core.py:121: RuntimeWarning: invalid value encountered in divide\n",
      "  return func(*(_execute_task(a, cache) for a in args))\n"
     ]
    }
   ],
   "source": [
    "results = [xmr.xr_map(path, compute_prob_and_disagree) for path in dirpaths]"
   ]
  },
  {
   "cell_type": "code",
   "execution_count": 36,
   "id": "f8ae5c4a-5885-4f2b-a2f4-925065894ee6",
   "metadata": {},
   "outputs": [],
   "source": [
    "results_t = [xmr.time_to_inithr(res) for res in results]"
   ]
  },
  {
   "cell_type": "code",
   "execution_count": 37,
   "id": "0d4b9a62-3ff9-46b2-8ff9-4370ba383ed6",
   "metadata": {},
   "outputs": [],
   "source": [
    "final = xr.merge(results_t)"
   ]
  },
  {
   "cell_type": "code",
   "execution_count": null,
   "id": "83ac3946-2f66-4626-ba36-1d725630a934",
   "metadata": {},
   "outputs": [],
   "source": []
  }
 ],
 "metadata": {
  "kernelspec": {
   "display_name": "Python [conda env:ptype]",
   "language": "python",
   "name": "conda-env-ptype-py"
  },
  "language_info": {
   "codemirror_mode": {
    "name": "ipython",
    "version": 3
   },
   "file_extension": ".py",
   "mimetype": "text/x-python",
   "name": "python",
   "nbconvert_exporter": "python",
   "pygments_lexer": "ipython3",
   "version": "3.10.11"
  }
 },
 "nbformat": 4,
 "nbformat_minor": 5
}
