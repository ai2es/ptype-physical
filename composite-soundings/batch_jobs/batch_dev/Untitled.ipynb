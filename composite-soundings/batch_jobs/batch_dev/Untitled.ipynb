{
 "cells": [
  {
   "cell_type": "code",
   "execution_count": 1,
   "id": "0e0201cb-1a75-4910-9671-90dad9c47de3",
   "metadata": {},
   "outputs": [],
   "source": [
    "import qsubPython as qpy\n",
    "from joblib import dump, load"
   ]
  },
  {
   "cell_type": "code",
   "execution_count": 2,
   "id": "97bbbd13-5a3f-44f5-9e90-404c55e64e52",
   "metadata": {},
   "outputs": [],
   "source": [
    "#job = qpy.qsubPython('NAML0001', 'dkimpara@ucar.edu', 'casper')"
   ]
  },
  {
   "cell_type": "code",
   "execution_count": 3,
   "id": "b76cedd2-3733-422d-b041-28a9a0f60ba4",
   "metadata": {},
   "outputs": [],
   "source": [
    "#job"
   ]
  },
  {
   "cell_type": "code",
   "execution_count": 4,
   "id": "6a5e0f09-57db-4fe1-8c5e-d18d5bb7dba9",
   "metadata": {},
   "outputs": [
    {
     "data": {
      "text/plain": [
       "False"
      ]
     },
     "execution_count": 4,
     "metadata": {},
     "output_type": "execute_result"
    }
   ],
   "source": [
    "isinstance(0.5, list)"
   ]
  },
  {
   "cell_type": "code",
   "execution_count": 5,
   "id": "27119e72-8ccf-4655-86b8-9606913b8812",
   "metadata": {},
   "outputs": [],
   "source": [
    "from functools import partial"
   ]
  },
  {
   "cell_type": "code",
   "execution_count": 11,
   "id": "5c8f6b6f-eb42-466b-9a15-f3d79eb97479",
   "metadata": {},
   "outputs": [],
   "source": [
    "def f(a,b):\n",
    "    print(a)\n",
    "    print(b)"
   ]
  },
  {
   "cell_type": "code",
   "execution_count": 12,
   "id": "8c20e573-aea7-4249-a971-f1a9774ff817",
   "metadata": {},
   "outputs": [],
   "source": [
    "fa = partial(f, 1)"
   ]
  },
  {
   "cell_type": "code",
   "execution_count": 13,
   "id": "3668d3a9-76af-4f27-aef7-3f45f563443a",
   "metadata": {},
   "outputs": [
    {
     "name": "stdout",
     "output_type": "stream",
     "text": [
      "1\n",
      "2\n"
     ]
    }
   ],
   "source": [
    "fa(2)"
   ]
  },
  {
   "cell_type": "code",
   "execution_count": null,
   "id": "731dc995-8d94-4283-917a-f6fc452d0bae",
   "metadata": {},
   "outputs": [],
   "source": []
  }
 ],
 "metadata": {
  "kernelspec": {
   "display_name": "Python [conda env:ptype]",
   "language": "python",
   "name": "conda-env-ptype-py"
  },
  "language_info": {
   "codemirror_mode": {
    "name": "ipython",
    "version": 3
   },
   "file_extension": ".py",
   "mimetype": "text/x-python",
   "name": "python",
   "nbconvert_exporter": "python",
   "pygments_lexer": "ipython3",
   "version": "3.10.11"
  }
 },
 "nbformat": 4,
 "nbformat_minor": 5
}
