{
 "cells": [
  {
   "cell_type": "code",
   "execution_count": 1,
   "id": "0e0201cb-1a75-4910-9671-90dad9c47de3",
   "metadata": {},
   "outputs": [],
   "source": [
    "import qsubPy as qpy"
   ]
  },
  {
   "cell_type": "code",
   "execution_count": 2,
   "id": "97bbbd13-5a3f-44f5-9e90-404c55e64e52",
   "metadata": {},
   "outputs": [],
   "source": [
    "job = qpy.qsubPython('NAML0001', 'dkimpara@ucar.edu', 'casper')"
   ]
  },
  {
   "cell_type": "code",
   "execution_count": 3,
   "id": "b76cedd2-3733-422d-b041-28a9a0f60ba4",
   "metadata": {},
   "outputs": [
    {
     "data": {
      "text/plain": [
       "qsubPython(account='NAML0001', user_list='dkimpara@ucar.edu', queue='casper', mail_option='a', jobname=None, walltime='01:00:00', resources=None, outfile='out.out', errorfile='out.out', job_script=[])"
      ]
     },
     "execution_count": 3,
     "metadata": {},
     "output_type": "execute_result"
    }
   ],
   "source": [
    "job"
   ]
  },
  {
   "cell_type": "code",
   "execution_count": 4,
   "id": "e65a7828-c849-45a5-90c7-09674b43fb4e",
   "metadata": {},
   "outputs": [],
   "source": [
    "job.set_job_args(walltime='00:05:00',\n",
    "                 resources='select=1:ncpus=1:mem=1GB',\n",
    "                 job_script=['python -u test.py'])    "
   ]
  },
  {
   "cell_type": "code",
   "execution_count": 5,
   "id": "389bf7e0-19ac-488e-9c24-61544cf361c0",
   "metadata": {},
   "outputs": [
    {
     "data": {
      "text/plain": [
       "qsubPython(account='NAML0001', user_list='dkimpara@ucar.edu', queue='casper', mail_option='a', jobname=None, walltime='00:05:00', resources='select=1:ncpus=1:mem=1GB', outfile='out.out', errorfile='out.out', job_script=['python -u test.py'])"
      ]
     },
     "execution_count": 5,
     "metadata": {},
     "output_type": "execute_result"
    }
   ],
   "source": [
    "job"
   ]
  },
  {
   "cell_type": "code",
   "execution_count": 6,
   "id": "0d5435ff-df21-4d07-9c98-c10aa87b2206",
   "metadata": {},
   "outputs": [
    {
     "ename": "ValueError",
     "evalue": "Error: qsub: request rejected as filter hook 'wallclock' encountered an exception. Please inform Admin\n",
     "output_type": "error",
     "traceback": [
      "\u001b[0;31m---------------------------------------------------------------------------\u001b[0m",
      "\u001b[0;31mValueError\u001b[0m                                Traceback (most recent call last)",
      "Cell \u001b[0;32mIn[6], line 5\u001b[0m\n\u001b[1;32m      1\u001b[0m \u001b[38;5;28;01mfor\u001b[39;00m i \u001b[38;5;129;01min\u001b[39;00m \u001b[38;5;28mrange\u001b[39m(\u001b[38;5;241m2\u001b[39m):\n\u001b[1;32m      2\u001b[0m     job\u001b[38;5;241m.\u001b[39mset_job_args(jobname\u001b[38;5;241m=\u001b[39m\u001b[38;5;124mf\u001b[39m\u001b[38;5;124m'\u001b[39m\u001b[38;5;124mjob_\u001b[39m\u001b[38;5;132;01m{\u001b[39;00mi\u001b[38;5;132;01m}\u001b[39;00m\u001b[38;5;124m'\u001b[39m,\n\u001b[1;32m      3\u001b[0m                      outfile\u001b[38;5;241m=\u001b[39m\u001b[38;5;124mf\u001b[39m\u001b[38;5;124m'\u001b[39m\u001b[38;5;124mout\u001b[39m\u001b[38;5;132;01m{\u001b[39;00mi\u001b[38;5;132;01m}\u001b[39;00m\u001b[38;5;124m.out\u001b[39m\u001b[38;5;124m'\u001b[39m,\n\u001b[1;32m      4\u001b[0m                      errorfile\u001b[38;5;241m=\u001b[39m\u001b[38;5;124mf\u001b[39m\u001b[38;5;124m'\u001b[39m\u001b[38;5;124mout\u001b[39m\u001b[38;5;132;01m{\u001b[39;00mi\u001b[38;5;132;01m}\u001b[39;00m\u001b[38;5;124m.out\u001b[39m\u001b[38;5;124m'\u001b[39m)\n\u001b[0;32m----> 5\u001b[0m     \u001b[43mjob\u001b[49m\u001b[38;5;241;43m.\u001b[39;49m\u001b[43msubmit\u001b[49m\u001b[43m(\u001b[49m\u001b[43m)\u001b[49m\n",
      "File \u001b[0;32m~/ptype-physical/composite-soundings/batch_jobs/batch_dev/qsubPy.py:62\u001b[0m, in \u001b[0;36mqsubPython.submit\u001b[0;34m(self, commands)\u001b[0m\n\u001b[1;32m     60\u001b[0m stderr \u001b[38;5;241m=\u001b[39m shell_run\u001b[38;5;241m.\u001b[39mstderr\n\u001b[1;32m     61\u001b[0m \u001b[38;5;28;01mif\u001b[39;00m stderr: \n\u001b[0;32m---> 62\u001b[0m     \u001b[38;5;28;01mraise\u001b[39;00m \u001b[38;5;167;01mValueError\u001b[39;00m(\u001b[38;5;124mf\u001b[39m\u001b[38;5;124m'\u001b[39m\u001b[38;5;124mError: \u001b[39m\u001b[38;5;132;01m{\u001b[39;00mstderr\u001b[38;5;132;01m}\u001b[39;00m\u001b[38;5;124m'\u001b[39m)\n\u001b[1;32m     63\u001b[0m \u001b[38;5;28;01melif\u001b[39;00m \u001b[38;5;129;01mnot\u001b[39;00m jobID: warnings\u001b[38;5;241m.\u001b[39mwarn(\u001b[38;5;124mf\u001b[39m\u001b[38;5;124m\"\u001b[39m\u001b[38;5;124mjobID is \u001b[39m\u001b[38;5;132;01m{\u001b[39;00mjobID\u001b[38;5;132;01m}\u001b[39;00m\u001b[38;5;124m, job may not have submitted. please check qstat. use makefile() method to diagnose problems\u001b[39m\u001b[38;5;124m\"\u001b[39m)\n\u001b[1;32m     64\u001b[0m \u001b[38;5;28mprint\u001b[39m(jobID)\n",
      "\u001b[0;31mValueError\u001b[0m: Error: qsub: request rejected as filter hook 'wallclock' encountered an exception. Please inform Admin\n"
     ]
    }
   ],
   "source": [
    "for i in range(2):\n",
    "    job.set_job_args(jobname=f'job_{i}',\n",
    "                     outfile=f'out{i}.out',\n",
    "                     errorfile=f'out{i}.out')\n",
    "    job.submit()"
   ]
  },
  {
   "cell_type": "code",
   "execution_count": null,
   "id": "dd2042c8-cfc1-424c-a314-8e5a2d5958db",
   "metadata": {},
   "outputs": [],
   "source": [
    "import subprocess"
   ]
  },
  {
   "cell_type": "code",
   "execution_count": null,
   "id": "4a9840d9-7d1e-4f79-9e88-10aac8686036",
   "metadata": {},
   "outputs": [],
   "source": []
  },
  {
   "cell_type": "code",
   "execution_count": null,
   "id": "4764149a-64c2-46ad-89af-1918bef97aa3",
   "metadata": {},
   "outputs": [],
   "source": []
  }
 ],
 "metadata": {
  "kernelspec": {
   "display_name": "Python [conda env:ptype]",
   "language": "python",
   "name": "conda-env-ptype-py"
  },
  "language_info": {
   "codemirror_mode": {
    "name": "ipython",
    "version": 3
   },
   "file_extension": ".py",
   "mimetype": "text/x-python",
   "name": "python",
   "nbconvert_exporter": "python",
   "pygments_lexer": "ipython3",
   "version": "3.10.11"
  }
 },
 "nbformat": 4,
 "nbformat_minor": 5
}
