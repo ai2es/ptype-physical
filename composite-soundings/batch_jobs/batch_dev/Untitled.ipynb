{
 "cells": [
  {
   "cell_type": "code",
   "execution_count": null,
   "id": "0e0201cb-1a75-4910-9671-90dad9c47de3",
   "metadata": {},
   "outputs": [],
   "source": [
    "import qsubPy as qpy\n",
    "from joblib import dump, load"
   ]
  },
  {
   "cell_type": "code",
   "execution_count": 2,
   "id": "97bbbd13-5a3f-44f5-9e90-404c55e64e52",
   "metadata": {},
   "outputs": [],
   "source": [
    "#job = qpy.qsubPython('NAML0001', 'dkimpara@ucar.edu', 'casper')"
   ]
  },
  {
   "cell_type": "code",
   "execution_count": 3,
   "id": "b76cedd2-3733-422d-b041-28a9a0f60ba4",
   "metadata": {},
   "outputs": [
    {
     "data": {
      "text/plain": [
       "qsubPython(account='NAML0001', user_list='dkimpara@ucar.edu', queue='casper', mail_option='a', jobname=None, walltime='01:00:00', resources=None, outfile='out.out', errorfile='out.out', job_script=[])"
      ]
     },
     "execution_count": 3,
     "metadata": {},
     "output_type": "execute_result"
    }
   ],
   "source": [
    "#job"
   ]
  },
  {
   "cell_type": "code",
   "execution_count": null,
   "id": "6a5e0f09-57db-4fe1-8c5e-d18d5bb7dba9",
   "metadata": {},
   "outputs": [],
   "source": []
  }
 ],
 "metadata": {
  "kernelspec": {
   "display_name": "Python [conda env:ptype]",
   "language": "python",
   "name": "conda-env-ptype-py"
  },
  "language_info": {
   "codemirror_mode": {
    "name": "ipython",
    "version": 3
   },
   "file_extension": ".py",
   "mimetype": "text/x-python",
   "name": "python",
   "nbconvert_exporter": "python",
   "pygments_lexer": "ipython3",
   "version": "3.10.11"
  }
 },
 "nbformat": 4,
 "nbformat_minor": 5
}
