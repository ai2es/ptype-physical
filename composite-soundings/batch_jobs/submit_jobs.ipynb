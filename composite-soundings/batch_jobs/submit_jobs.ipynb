{
 "cells": [
  {
   "cell_type": "code",
   "execution_count": 1,
   "id": "0e0201cb-1a75-4910-9671-90dad9c47de3",
   "metadata": {},
   "outputs": [],
   "source": [
    "import qsubPython as qpy\n",
    "from joblib import dump, load"
   ]
  },
  {
   "cell_type": "code",
   "execution_count": null,
   "id": "47574cda-fcae-4674-bff1-62eaef970e91",
   "metadata": {},
   "outputs": [],
   "source": [
    "### resource recs:\n",
    "### rap: 1h ncpus=24:mem=500GB\n",
    "### gfs: 1h ncpus=6:mem=50GB\n",
    "### hrrr: 30min ncpus=32 mem=550GB\n",
    "### for hrrr - only run on one case study *day* at a time (or less)\n",
    "\n",
    "#PBS -l walltime=03:00:00\n",
    "#PBS -o outfiles/ptype_gfs_k.out\n",
    "#PBS -e outfiles/ptype_gfs_k.out\n",
    "#PBS -l select=1:ncpus=12:mem=100GB\n",
    "\n",
    "### use following for hrrr:\n",
    "###python -u mr-run.py -m hrrr -o hrrr_ny2_04 -d /glade/campaign/cisl/aiml/ptype/ptype_case_studies/new_york_2/hrrr/20220204\n",
    "\n",
    "### use folloiwng for rap and gfs\n",
    "### -i 0 for kentucky, 1 for new_york_1, 2 for new_york_2\n",
    "python -u mr-run2.py -i 0 -m rap -o rap_2\n",
    "\n"
   ]
  },
  {
   "cell_type": "code",
   "execution_count": 2,
   "id": "97bbbd13-5a3f-44f5-9e90-404c55e64e52",
   "metadata": {},
   "outputs": [],
   "source": [
    "job = qpy.qsubPython('NAML0001', 'dkimpara@ucar.edu', 'casper')\n",
    "job.append_job_script(['module load conda',\n",
    "                       'conda activate ptype',\n",
    "                       'cd /glade/u/home/dkimpara/ptype-physical/composite-soundings/batch_jobs',\n",
    "                       'mkdir -p outfiles'])"
   ]
  },
  {
   "cell_type": "code",
   "execution_count": 3,
   "id": "b76cedd2-3733-422d-b041-28a9a0f60ba4",
   "metadata": {},
   "outputs": [],
   "source": []
  },
  {
   "cell_type": "code",
   "execution_count": 1,
   "id": "731dc995-8d94-4283-917a-f6fc452d0bae",
   "metadata": {},
   "outputs": [],
   "source": [
    "from functools import partial\n"
   ]
  },
  {
   "cell_type": "code",
   "execution_count": 12,
   "id": "83086ed7-72ea-43f4-ac9b-7fc98ae7551a",
   "metadata": {},
   "outputs": [],
   "source": [
    "def f(a,b):\n",
    "    print(a)\n",
    "    print(b)"
   ]
  },
  {
   "cell_type": "code",
   "execution_count": 13,
   "id": "c2af3c53-bbed-4ea4-b9c2-b1754d4d7ab2",
   "metadata": {},
   "outputs": [],
   "source": [
    "f = eval('f')"
   ]
  },
  {
   "cell_type": "code",
   "execution_count": 14,
   "id": "c00b8c9a-0d8f-4106-a06d-73c4a6dd33b8",
   "metadata": {},
   "outputs": [
    {
     "name": "stdout",
     "output_type": "stream",
     "text": [
      "1\n",
      "2\n"
     ]
    }
   ],
   "source": [
    "f(1,2)"
   ]
  },
  {
   "cell_type": "code",
   "execution_count": 7,
   "id": "25095844-3ffc-4621-9b81-0a81408f17e6",
   "metadata": {},
   "outputs": [
    {
     "data": {
      "text/plain": [
       "functools.partial(<function f at 0x2b8375e47760>, 1)"
      ]
     },
     "execution_count": 7,
     "metadata": {},
     "output_type": "execute_result"
    }
   ],
   "source": [
    "f"
   ]
  },
  {
   "cell_type": "code",
   "execution_count": null,
   "id": "fa90e51d-78a7-4e57-9281-a75340edc8f6",
   "metadata": {},
   "outputs": [],
   "source": []
  }
 ],
 "metadata": {
  "kernelspec": {
   "display_name": "Python [conda env:ptype]",
   "language": "python",
   "name": "conda-env-ptype-py"
  },
  "language_info": {
   "codemirror_mode": {
    "name": "ipython",
    "version": 3
   },
   "file_extension": ".py",
   "mimetype": "text/x-python",
   "name": "python",
   "nbconvert_exporter": "python",
   "pygments_lexer": "ipython3",
   "version": "3.10.11"
  }
 },
 "nbformat": 4,
 "nbformat_minor": 5
}
