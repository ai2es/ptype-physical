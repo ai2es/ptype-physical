{
 "cells": [
  {
   "cell_type": "code",
   "execution_count": 127,
   "id": "0b76b5f2-3d6e-4af7-b97e-3ee0ecdc9422",
   "metadata": {},
   "outputs": [],
   "source": [
    "import os\n",
    "import numpy as np\n",
    "import random\n",
    "import pandas as pd\n",
    "from tqdm import tqdm\n",
    "import matplotlib.pyplot as plt\n",
    "from matplotlib.colors import LogNorm\n",
    "%matplotlib inline\n",
    "from sklearn.preprocessing import StandardScaler, MinMaxScaler,\\\n",
    "                                  OneHotEncoder, LabelEncoder\n",
    "\n",
    "def load_ptype_data(data_path, source, train_start='20130101', train_end='20150630',\n",
    "                    val_start='20150701', val_end='20160630',\n",
    "                    test_start='20160701', test_end='20180531'):\n",
    "    \"\"\"\n",
    "    Load Precip Type data\n",
    "    Args:\n",
    "        data_path (str): Path to data\n",
    "        source (str): Precip observation source. Supports 'ASOS' or 'mPING'.\n",
    "        train_start (str): Train split start date (format yyyymmdd).\n",
    "        train_end (str): Train split end date (format yyyymmdd).\n",
    "        val_start (str): Valid split start date (format yyyymmdd).\n",
    "        val_end (str): Valid split end date (format yyyymmdd).\n",
    "        test_start (str): Test split start date (format yyyymmdd).\n",
    "        test_end (str): Test split end date (format yyyymmdd).        \n",
    "    Returns:\n",
    "    Dictionary of Pandas dataframes of training / validation / test data\n",
    "    \"\"\"\n",
    "    \n",
    "    dates = sorted([x[-16:-8] for x in os.listdir(os.path.join(data_path))])\n",
    "    \n",
    "    data = {}\n",
    "    data['train'] = dates[dates.index(train_start) : dates.index(train_end) + 1]\n",
    "    data['val'] = dates[dates.index(val_start) : dates.index(val_end) + 1]\n",
    "    data['test'] = dates[dates.index(test_start) : dates.index(test_end) + 1]\n",
    "    \n",
    "    for split in data.keys():\n",
    "        dfs = []\n",
    "        for date in tqdm(data[split], desc=f\"{split}\"):\n",
    "            f = f\"{source}_rap_{date}.parquet\"\n",
    "            dfs.append(pd.read_parquet(os.path.join(data_path, f)))\n",
    "        data[split] = pd.concat(dfs, ignore_index=True)            \n",
    "\n",
    "    return data\n",
    "\n",
    "def preprocess_data(data, input_features, output_features, scaler_type=\"standard\", encoder_type=\"onehot\"):\n",
    "    \"\"\"\n",
    "    Function to select features and scale data for ML\n",
    "    Args:\n",
    "        data (dictionary of dataframes for training and validation data):\n",
    "        input_features (list): Input features\n",
    "        output_feature (list): Output feature\n",
    "        scaler_type: Type of scaling to perform (supports \"standard\" and \"minmax\")\n",
    "        encoder_type: Type of encoder to perform (supports \"label\" and \"onehot\")\n",
    "    Returns:\n",
    "        Dictionary of scaled and one-hot encoded data, dictionary of scaler objects\n",
    "    \"\"\"\n",
    "    scalar_obs = {\"minmax\": MinMaxScaler, \"standard\": StandardScaler}\n",
    "    scalers, scaled_data = {}, {}\n",
    "\n",
    "    scalers[\"input\"] = scalar_obs[scaler_type]()\n",
    "    scaled_data[\"train_x\"] = pd.DataFrame(scalers[\"input\"].fit_transform(data[\"train\"][input_features]),\n",
    "                                          columns=input_features)\n",
    "    scaled_data[\"val_x\"] = pd.DataFrame(scalers[\"input\"].transform(data[\"val\"][input_features]), columns=input_features)\n",
    "    scaled_data[\"test_x\"] = pd.DataFrame(scalers[\"input\"].transform(data[\"test\"][input_features]), columns=input_features)\n",
    "\n",
    "    scalers[\"output_label\"] = LabelEncoder()\n",
    "    scaled_data[\"train_y\"] = scalers[\"output_label\"].fit_transform(data['train']['precip'])\n",
    "    scaled_data[\"val_y\"] = scalers[\"output_label\"].transform(data['val']['precip'])\n",
    "    scaled_data[\"test_y\"] = scalers[\"output_label\"].transform(data['test']['precip'])\n",
    "\n",
    "    if encoder_type == \"onehot\":\n",
    "        scalers[\"output_onehot\"] = OneHotEncoder(sparse=False)\n",
    "        scaled_data[\"train_y\"] = scalers[\"output_onehot\"].fit_transform(scaled_data[\"train_y\"].reshape(len(scaled_data[\"train_y\"]), 1))\n",
    "        scaled_data[\"val_y\"] = scalers[\"output_onehot\"].transform(scaled_data[\"val_y\"].reshape(len(scaled_data[\"val_y\"]), 1))\n",
    "        scaled_data[\"test_y\"] = scalers[\"output_onehot\"].transform(scaled_data[\"test_y\"].reshape(len(scaled_data[\"test_y\"]), 1))\n",
    "\n",
    "    return scaled_data, scalers\n",
    "\n",
    "\n",
    "def reshape_data_1dCNN(data, base_variables=['TEMP_C', 'T_DEWPOINT_C', 'UGRD_m/s', 'VGRD_m/s'], n_levels=67):\n",
    "    \n",
    "    arr = np.zeros(shape=(data.shape[0], n_levels, len(base_variables))).astype('float32')\n",
    "    \n",
    "    for i, var in enumerate(base_variables):\n",
    "        \n",
    "        profile_vars = [x for x in list(data.columns) if var in x]\n",
    "        arr[:, :, i] = data[profile_vars].values.astype('float32')\n",
    "    \n",
    "    return arr"
   ]
  },
  {
   "cell_type": "code",
   "execution_count": 5,
   "id": "e470b6e9-6b41-410f-b847-8c5532eeb505",
   "metadata": {},
   "outputs": [],
   "source": [
    "from tensorflow.keras.layers import Dense, Conv2D, Conv1D, MaxPool1D, AveragePooling1D, AvgPool1D, Activation, Input, Flatten, AveragePooling2D, MaxPool2D, LeakyReLU\n",
    "from tensorflow.keras.layers import SpatialDropout1D, Dropout\n",
    "from tensorflow.keras.models import Model\n",
    "from tensorflow.keras.optimizers import Adam, SGD\n",
    "from tensorflow.keras.losses import mean_squared_error, mean_absolute_error, binary_crossentropy\n",
    "from tensorflow.keras.regularizers import l2\n",
    "from tensorflow.keras.callbacks import EarlyStopping\n",
    "from tensorflow.keras.models import load_model\n",
    "import tensorflow as tf\n",
    "import numpy as np\n",
    "from tqdm import trange, tqdm\n",
    "import pandas as pd\n",
    "import xarray as xr\n",
    "from os.path import join\n",
    "import yaml\n",
    "\n",
    "losses = {\"mse\": mean_squared_error,\n",
    "          \"mae\": mean_absolute_error,\n",
    "          \"binary_crossentropy\": binary_crossentropy}\n",
    "\n",
    "\n",
    "class BaseConvNet1D(object):\n",
    "    \"\"\"\n",
    "    Convolutional Neural Network consisting of sequential convolution and pooling layers. The class is built on\n",
    "    Tensorflow 2/Keras under the hood but uses the scikit-learn design paradigm to enable greater flexibility in\n",
    "    evaluating hyperparameters.\n",
    "    Attributes:\n",
    "        min_filters (int): Minimum number of convolutional filters\n",
    "        filter_growth_rate (float): Factor to scale filter count after each layer.\n",
    "        filter_width (int): Width of square convolutional filter.\n",
    "        min_data_width (int): Output of conv->pooling layer combo is flattened after the data width reaches this\n",
    "            threshold.\n",
    "        pooling_width (int): Factor by which pooling should reduce the spatial dimensions of the input.\n",
    "        hidden_activation (str): Activation function used after each convolution and dense hidden layer. leaky produces leaky relu\n",
    "        output_type: (str): Either linear (regression), sigmoid (binary classification), or softmax (multiclass)\n",
    "        pooling (str): Either max or mean\n",
    "        use_dropout (bool): If True or 1, include SpatialDropout and regular Dropout layers\n",
    "        dropoout_alpha (float): Dropout relative frequency between 0 and 1.\n",
    "        dense_neurons (int): Number of neurons in dense hidden layer. Used as information bottleneck for interpretation.\n",
    "        data_format (str): channels_last (default) or channels_first.\n",
    "        optimizer (str): Supports adam or sgd\n",
    "        loss (str): Supports mse, mae, or binary_crossentropy\n",
    "        leaky_alpha (float): If leaky activation is used, this controls the scaling factor for the leaky ReLU\n",
    "        metrics (list): List of additional metrics to calculate during training.\n",
    "        learning_rate (float): Learning rate for optimizer\n",
    "        batch_size (int): Number of examples per batch\n",
    "        verbose (int): Level of verbosity in fit loop. 1 results in a progress bar and 2 prints loss for each batch.\n",
    "        l2_alpha (float): if l2_alpha > 0 then l2 regularization with strength l2_alpha is used.\n",
    "        early_stopping (int): If > 0, then early stopping of training is triggered when validation loss does not change\n",
    "            for early_stopping epochs.\n",
    "    \"\"\"\n",
    "    def __init__(self, min_filters=16, filter_growth_rate=2, filter_width=5, min_data_width=4, pooling_width=2,\n",
    "                 hidden_activation=\"relu\", output_type=\"linear\",\n",
    "                 pooling=\"mean\", use_dropout=False, dropout_alpha=0.0, dense_neurons=64,\n",
    "                 data_format=\"channels_last\", optimizer=\"adam\", loss=\"mse\", leaky_alpha=0.1, metrics=None,\n",
    "                 learning_rate=0.0001, batch_size=1024, epochs=10, verbose=0, l2_alpha=0, early_stopping=0, **kwargs):\n",
    "        self.min_filters = min_filters\n",
    "        self.filter_width = filter_width\n",
    "        self.filter_growth_rate = filter_growth_rate\n",
    "        self.pooling_width = pooling_width\n",
    "        self.min_data_width = min_data_width\n",
    "        self.hidden_activation = hidden_activation\n",
    "        self.output_type = output_type\n",
    "        self.use_dropout = use_dropout\n",
    "        self.pooling = pooling\n",
    "        self.dropout_alpha = dropout_alpha\n",
    "        self.data_format = data_format\n",
    "        self.optimizer = optimizer\n",
    "        self.learning_rate = learning_rate\n",
    "        self.loss = loss\n",
    "        self.dense_neurons = dense_neurons\n",
    "        self.metrics = metrics\n",
    "        self.leaky_alpha = leaky_alpha\n",
    "        self.batch_size = batch_size\n",
    "        self.epochs = epochs\n",
    "        self.l2_alpha = l2_alpha\n",
    "        if l2_alpha > 0:\n",
    "            self.use_l2 = 1\n",
    "        else:\n",
    "            self.use_l2 = 0\n",
    "        self.verbose = verbose\n",
    "        self.early_stopping = early_stopping\n",
    "        self.model_ = None\n",
    "\n",
    "    def build_network(self, conv_input_shape, output_size):\n",
    "        \"\"\"\n",
    "        Create a keras model with the hyperparameters specified in the constructor.\n",
    "        Args:\n",
    "            conv_input_shape (tuple of shape [variable, y, x]): The shape of the input data\n",
    "            output_size: Number of neurons in output layer.\n",
    "        \"\"\"\n",
    "        if self.use_l2:\n",
    "            reg = l2(self.l2_alpha)\n",
    "        else:\n",
    "            reg = None\n",
    "        conv_input_layer = Input(shape=conv_input_shape, name=\"conv_input\")\n",
    "        num_conv_layers = int(np.round((np.log(conv_input_shape[1]) - np.log(self.min_data_width))\n",
    "                                       / np.log(self.pooling_width)))\n",
    "        num_filters = self.min_filters\n",
    "        scn_model = conv_input_layer\n",
    "        for c in range(num_conv_layers):\n",
    "            scn_model = Conv1D(num_filters, self.filter_width,\n",
    "                               data_format=self.data_format, kernel_regularizer=reg,\n",
    "                               padding=\"same\", name=\"conv_{0:02d}\".format(c))(scn_model)\n",
    "            if self.hidden_activation == \"leaky\":\n",
    "                scn_model = LeakyReLU(self.leaky_alpha, name=\"hidden_activation_{0:02d}\".format(c))(scn_model)\n",
    "            else:\n",
    "                scn_model = Activation(self.hidden_activation, name=\"hidden_activation_{0:02d}\".format(c))(scn_model)\n",
    "            if self.use_dropout:\n",
    "                scn_model = SpatialDropout1D(rate=self.dropout_alpha)(scn_model)\n",
    "            num_filters = int(num_filters * self.filter_growth_rate)\n",
    "            if self.pooling.lower() == \"max\":\n",
    "                scn_model = MaxPool1D(pool_size=self.pooling_width,\n",
    "                                      data_format=self.data_format, name=\"pooling_{0:02d}\".format(c))(scn_model)\n",
    "            else:\n",
    "                scn_model = AveragePooling1D(pool_size=self.pooling_width,\n",
    "                                             data_format=self.data_format, name=\"pooling_{0:02d}\".format(c))(scn_model)\n",
    "        scn_model = Flatten(name=\"flatten\")(scn_model)\n",
    "        if self.use_dropout:\n",
    "            scn_model = Dropout(rate=self.dropout_alpha)(scn_model)\n",
    "        scn_model = Dense(self.dense_neurons, name=\"dense_hidden\", kernel_regularizer=reg)(scn_model)\n",
    "        if self.hidden_activation == \"leaky\":\n",
    "            scn_model = LeakyReLU(self.leaky_alpha, name=\"hidden_dense_activation\")(scn_model)\n",
    "        else:\n",
    "            scn_model = Activation(self.hidden_activation, name=\"hidden_dense_activation\")(scn_model)\n",
    "        scn_model = Dense(output_size, name=\"dense_output\")(scn_model)\n",
    "        scn_model = Activation(self.output_type, name=\"activation_output\")(scn_model)\n",
    "        self.model_ = Model(conv_input_layer, scn_model)\n",
    "\n",
    "    def compile_model(self):\n",
    "        \"\"\"\n",
    "        Compile the model in tensorflow with the right optimizer and loss function.\n",
    "        \"\"\"\n",
    "        if self.optimizer.lower() == \"adam\":\n",
    "            opt = Adam(lr=self.learning_rate)\n",
    "        else:\n",
    "            opt = SGD(lr=self.learning_rate, momentum=0.99)\n",
    "        self.model_.compile(opt, losses[self.loss], metrics=self.metrics)\n",
    "\n",
    "    @staticmethod\n",
    "    def get_data_shapes(x, y):\n",
    "        \"\"\"\n",
    "        Extract the input and output data shapes in order to construct the neural network.\n",
    "        \"\"\"\n",
    "        if len(x.shape) != 4:\n",
    "            raise ValueError(\"Input data does not have dimensions (examples, y, x, predictor)\")\n",
    "        if len(y.shape) == 1:\n",
    "            output_size = 1\n",
    "        else:\n",
    "            output_size = y.shape[1]\n",
    "        return x.shape[1:], output_size\n",
    "\n",
    "    def fit(self, x, y, val_x=None, val_y=None, build=True, callbacks=None, **kwargs):\n",
    "        \"\"\"\n",
    "        Train the neural network.\n",
    "        \"\"\"\n",
    "        if build:\n",
    "            x_conv_shape, y_size = self.get_data_shapes(x, y)\n",
    "            self.build_network(x_conv_shape, y_size)\n",
    "            self.compile_model()\n",
    "        if val_x is None:\n",
    "            val_data = None\n",
    "        else:\n",
    "            val_data = (val_x, val_y)\n",
    "        if callbacks is None:\n",
    "            callbacks = []\n",
    "        if self.early_stopping > 0:\n",
    "            callbacks.append(EarlyStopping(patience=self.early_stopping))\n",
    "        self.model_.fit(x, y, batch_size=self.batch_size, epochs=self.epochs, verbose=self.verbose,\n",
    "                        validation_data=val_data, callbacks=callbacks, **kwargs)\n",
    "\n",
    "    def predict(self, x):\n",
    "        preds = self.model_.predict(x, batch_size=self.batch_size)\n",
    "        if len(preds.shape) == 2:\n",
    "            if preds.shape[1] == 1:\n",
    "                preds = preds.ravel()\n",
    "        return preds\n",
    "\n",
    "    def output_hidden_layer(self, x, layer_index=-3):\n",
    "        \"\"\"\n",
    "        Chop the end off the neural network and capture the output from the specified layer index\n",
    "        Args:\n",
    "            x: input data\n",
    "            layer_index (int): list index of the layer being output.\n",
    "        Returns:\n",
    "            output: array containing output of that layer for each example.\n",
    "        \"\"\"\n",
    "        sub_model = Model(self.model_.input, self.model_.layers[layer_index].output)\n",
    "        output = sub_model.predict(x, batch_size=self.batch_size)\n",
    "        return output\n",
    "\n",
    "    def saliency(self, x, layer_index=-3, ref_activation=10):\n",
    "        \"\"\"\n",
    "        Output the gradient of input field with respect to each neuron in the specified layer.\n",
    "        Args:\n",
    "            x:\n",
    "            layer_index:\n",
    "            ref_activation: Reference activation value for loss function.\n",
    "        Returns:\n",
    "        \"\"\"\n",
    "        saliency_values = np.zeros((self.model_.layers[layer_index].output.shape[-1],\n",
    "                                    x.shape[0], x.shape[1],\n",
    "                                    x.shape[2], x.shape[3]),\n",
    "                                   dtype=np.float32)\n",
    "        for s in trange(self.model_.layers[layer_index].output.shape[-1], desc=\"neurons\"):\n",
    "            sub_model = Model(self.model_.input, self.model_.layers[layer_index].output[:, s])\n",
    "            batch_indices = np.append(np.arange(0, x.shape[0], self.batch_size), x.shape[0])\n",
    "            for b, batch_index in enumerate(tqdm(batch_indices[:-1], desc=\"batch examples\", leave=False)):\n",
    "                x_case = tf.Variable(x.values[batch_index:batch_indices[b + 1]])\n",
    "                with tf.GradientTape() as tape:\n",
    "                    tape.watch(x_case)\n",
    "                    act_out = sub_model(x_case)\n",
    "                    loss = (ref_activation - act_out) ** 2\n",
    "                saliency_values[s, batch_index:batch_indices[b + 1]] = tape.gradient(loss, x_case)\n",
    "        saliency_da = xr.DataArray(saliency_values, dims=(\"neuron\", \"p\", \"row\", \"col\", \"var_name\"),\n",
    "                                   coords=x.coords, name=\"saliency\")\n",
    "        return saliency_da\n",
    "\n",
    "    def model_config(self):\n",
    "        all_model_attrs = pd.Series(list(self.__dict__.keys()))\n",
    "        config_attrs = all_model_attrs[all_model_attrs.str[-1] != \"_\"]\n",
    "        model_config_dict = {}\n",
    "        for attr in config_attrs:\n",
    "            model_config_dict[attr] = self.__dict__[attr]\n",
    "        return model_config_dict\n",
    "\n",
    "    def save_model(self, out_path, model_name):\n",
    "        model_config_dict = self.model_config()\n",
    "        model_config_file = join(out_path, \"config_\" + model_name + \".yml\")\n",
    "        with open(model_config_file, \"w\") as mcf:\n",
    "            yaml.dump(model_config_dict, mcf, Dumper=yaml.Dumper)\n",
    "        if self.model_ is not None:\n",
    "            model_filename = join(out_path, model_name + \".h5\")\n",
    "            self.model_.save(model_filename, save_format=\"h5\")\n",
    "        return\n",
    "\n",
    "\n",
    "def load_conv_net(model_path, model_name):\n",
    "    model_config_file = join(model_path, \"config_\" + model_name + \".yml\")\n",
    "    with open(model_config_file, \"r\") as mcf:\n",
    "        model_config_dict = yaml.load(mcf, Loader=yaml.Loader)\n",
    "    conv_net = BaseConvNet(**model_config_dict)\n",
    "    model_filename = join(model_path, model_name + \".h5\")\n",
    "    conv_net.model_ = load_model(model_filename)\n",
    "    return conv_net"
   ]
  },
  {
   "cell_type": "code",
   "execution_count": 58,
   "id": "e4afb576-bcf3-44c6-94ef-2aaf59a5f99b",
   "metadata": {},
   "outputs": [
    {
     "name": "stderr",
     "output_type": "stream",
     "text": [
      "train: 100%|██████████| 822/822 [01:00<00:00, 13.67it/s]\n",
      "val: 100%|██████████| 346/346 [00:23<00:00, 14.54it/s]\n",
      "test: 100%|██████████| 1331/1331 [01:36<00:00, 13.79it/s]\n"
     ]
    }
   ],
   "source": [
    "mping = load_ptype_data('/glade/p/cisl/aiml/ai2es/winter_ptypes/precip_rap/mPING_converted/', 'mPING', test_end='20210430')\n",
    "# asos = load_ptype_data('/glade/p/cisl/aiml/ai2es/winter_ptypes/precip_rap/', 'ASOS')"
   ]
  },
  {
   "cell_type": "code",
   "execution_count": 85,
   "id": "dd278767-2732-40b7-b867-884fff1ecfbe",
   "metadata": {},
   "outputs": [
    {
     "name": "stderr",
     "output_type": "stream",
     "text": [
      "train: 100%|██████████| 822/822 [00:49<00:00, 16.49it/s]\n",
      "val: 100%|██████████| 346/346 [00:21<00:00, 16.28it/s]\n",
      "test: 100%|██████████| 685/685 [00:40<00:00, 16.78it/s]\n"
     ]
    }
   ],
   "source": [
    "mping_pres = load_ptype_data('/glade/p/cisl/aiml/ai2es/winter_ptypes/precip_rap/mPING/', 'mPING')\n",
    "# asos = load_ptype_data('/glade/p/cisl/aiml/ai2es/winter_ptypes/precip_rap/', 'ASOS')"
   ]
  },
  {
   "cell_type": "code",
   "execution_count": 61,
   "id": "fbefb718-4d7a-4c70-bea1-b13d0b5965db",
   "metadata": {},
   "outputs": [
    {
     "name": "stdout",
     "output_type": "stream",
     "text": [
      "CPU times: user 3.3 s, sys: 1.59 s, total: 4.89 s\n",
      "Wall time: 4.88 s\n"
     ]
    }
   ],
   "source": [
    "%%time\n",
    "\n",
    "features = []\n",
    "base_variables = ['TEMP_C', 'T_DEWPOINT_C', 'UGRD_m/s', 'VGRD_m/s']\n",
    "for i, var in enumerate(base_variables):\n",
    "\n",
    "    profile_vars = [x for x in list(mping['val'].columns) if var in x]\n",
    "    features.append(profile_vars)\n",
    "input_features = list(np.concatenate(features))\n",
    "\n",
    "\n",
    "scaled_data, scalers = preprocess_data(mping, input_features=input_features, output_features=['precip'])\n",
    "\n",
    "\n",
    "train_x = reshape_data_1dCNN(scaled_data['train_x'], base_variables=base_variables)\n",
    "train_y = scaled_data['train_y']\n",
    "val_x = reshape_data_1dCNN(scaled_data['val_x'], base_variables=base_variables)\n",
    "val_y = scaled_data['val_y']"
   ]
  },
  {
   "cell_type": "code",
   "execution_count": 91,
   "id": "2cca0eda-3e0c-4b5c-8c55-f9a6047b9f4e",
   "metadata": {},
   "outputs": [
    {
     "data": {
      "text/plain": [
       "['obdate',\n",
       " 'obtime',\n",
       " 'lat',\n",
       " 'lon',\n",
       " 'precip',\n",
       " 'datetime',\n",
       " 'precip_count_byhr',\n",
       " 'HGT_100_m',\n",
       " 'HGT_125_m',\n",
       " 'HGT_150_m',\n",
       " 'HGT_175_m',\n",
       " 'HGT_200_m',\n",
       " 'HGT_225_m',\n",
       " 'HGT_250_m',\n",
       " 'HGT_275_m',\n",
       " 'HGT_300_m',\n",
       " 'HGT_325_m',\n",
       " 'HGT_350_m',\n",
       " 'HGT_375_m',\n",
       " 'HGT_400_m',\n",
       " 'HGT_425_m',\n",
       " 'HGT_450_m',\n",
       " 'HGT_475_m',\n",
       " 'HGT_500_m',\n",
       " 'HGT_525_m',\n",
       " 'HGT_550_m',\n",
       " 'HGT_575_m',\n",
       " 'HGT_600_m',\n",
       " 'HGT_625_m',\n",
       " 'HGT_650_m',\n",
       " 'HGT_675_m',\n",
       " 'HGT_700_m',\n",
       " 'HGT_725_m',\n",
       " 'HGT_750_m',\n",
       " 'HGT_775_m',\n",
       " 'HGT_800_m',\n",
       " 'HGT_825_m',\n",
       " 'HGT_850_m',\n",
       " 'HGT_875_m',\n",
       " 'HGT_900_m',\n",
       " 'HGT_925_m',\n",
       " 'HGT_950_m',\n",
       " 'HGT_975_m',\n",
       " 'HGT_1000_m',\n",
       " 'TMP_100_C',\n",
       " 'TMP_125_C',\n",
       " 'TMP_150_C',\n",
       " 'TMP_175_C',\n",
       " 'TMP_200_C',\n",
       " 'TMP_225_C',\n",
       " 'TMP_250_C',\n",
       " 'TMP_275_C',\n",
       " 'TMP_300_C',\n",
       " 'TMP_325_C',\n",
       " 'TMP_350_C',\n",
       " 'TMP_375_C',\n",
       " 'TMP_400_C',\n",
       " 'TMP_425_C',\n",
       " 'TMP_450_C',\n",
       " 'TMP_475_C',\n",
       " 'TMP_500_C',\n",
       " 'TMP_525_C',\n",
       " 'TMP_550_C',\n",
       " 'TMP_575_C',\n",
       " 'TMP_600_C',\n",
       " 'TMP_625_C',\n",
       " 'TMP_650_C',\n",
       " 'TMP_675_C',\n",
       " 'TMP_700_C',\n",
       " 'TMP_725_C',\n",
       " 'TMP_750_C',\n",
       " 'TMP_775_C',\n",
       " 'TMP_800_C',\n",
       " 'TMP_825_C',\n",
       " 'TMP_850_C',\n",
       " 'TMP_875_C',\n",
       " 'TMP_900_C',\n",
       " 'TMP_925_C',\n",
       " 'TMP_950_C',\n",
       " 'TMP_975_C',\n",
       " 'TMP_1000_C',\n",
       " 'RH_100_percent',\n",
       " 'RH_125_percent',\n",
       " 'RH_150_percent',\n",
       " 'RH_175_percent',\n",
       " 'RH_200_percent',\n",
       " 'RH_225_percent',\n",
       " 'RH_250_percent',\n",
       " 'RH_275_percent',\n",
       " 'RH_300_percent',\n",
       " 'RH_325_percent',\n",
       " 'RH_350_percent',\n",
       " 'RH_375_percent',\n",
       " 'RH_400_percent',\n",
       " 'RH_425_percent',\n",
       " 'RH_450_percent',\n",
       " 'RH_475_percent',\n",
       " 'RH_500_percent',\n",
       " 'RH_525_percent',\n",
       " 'RH_550_percent',\n",
       " 'RH_575_percent',\n",
       " 'RH_600_percent',\n",
       " 'RH_625_percent',\n",
       " 'RH_650_percent',\n",
       " 'RH_675_percent',\n",
       " 'RH_700_percent',\n",
       " 'RH_725_percent',\n",
       " 'RH_750_percent',\n",
       " 'RH_775_percent',\n",
       " 'RH_800_percent',\n",
       " 'RH_825_percent',\n",
       " 'RH_850_percent',\n",
       " 'RH_875_percent',\n",
       " 'RH_900_percent',\n",
       " 'RH_925_percent',\n",
       " 'RH_950_percent',\n",
       " 'RH_975_percent',\n",
       " 'RH_1000_percent',\n",
       " 'UGRD_100_m/s',\n",
       " 'UGRD_125_m/s',\n",
       " 'UGRD_150_m/s',\n",
       " 'UGRD_175_m/s',\n",
       " 'UGRD_200_m/s',\n",
       " 'UGRD_225_m/s',\n",
       " 'UGRD_250_m/s',\n",
       " 'UGRD_275_m/s',\n",
       " 'UGRD_300_m/s',\n",
       " 'UGRD_325_m/s',\n",
       " 'UGRD_350_m/s',\n",
       " 'UGRD_375_m/s',\n",
       " 'UGRD_400_m/s',\n",
       " 'UGRD_425_m/s',\n",
       " 'UGRD_450_m/s',\n",
       " 'UGRD_475_m/s',\n",
       " 'UGRD_500_m/s',\n",
       " 'UGRD_525_m/s',\n",
       " 'UGRD_550_m/s',\n",
       " 'UGRD_575_m/s',\n",
       " 'UGRD_600_m/s',\n",
       " 'UGRD_625_m/s',\n",
       " 'UGRD_650_m/s',\n",
       " 'UGRD_675_m/s',\n",
       " 'UGRD_700_m/s',\n",
       " 'UGRD_725_m/s',\n",
       " 'UGRD_750_m/s',\n",
       " 'UGRD_775_m/s',\n",
       " 'UGRD_800_m/s',\n",
       " 'UGRD_825_m/s',\n",
       " 'UGRD_850_m/s',\n",
       " 'UGRD_875_m/s',\n",
       " 'UGRD_900_m/s',\n",
       " 'UGRD_925_m/s',\n",
       " 'UGRD_950_m/s',\n",
       " 'UGRD_975_m/s',\n",
       " 'UGRD_1000_m/s',\n",
       " 'VGRD_100_m/s',\n",
       " 'VGRD_125_m/s',\n",
       " 'VGRD_150_m/s',\n",
       " 'VGRD_175_m/s',\n",
       " 'VGRD_200_m/s',\n",
       " 'VGRD_225_m/s',\n",
       " 'VGRD_250_m/s',\n",
       " 'VGRD_275_m/s',\n",
       " 'VGRD_300_m/s',\n",
       " 'VGRD_325_m/s',\n",
       " 'VGRD_350_m/s',\n",
       " 'VGRD_375_m/s',\n",
       " 'VGRD_400_m/s',\n",
       " 'VGRD_425_m/s',\n",
       " 'VGRD_450_m/s',\n",
       " 'VGRD_475_m/s',\n",
       " 'VGRD_500_m/s',\n",
       " 'VGRD_525_m/s',\n",
       " 'VGRD_550_m/s',\n",
       " 'VGRD_575_m/s',\n",
       " 'VGRD_600_m/s',\n",
       " 'VGRD_625_m/s',\n",
       " 'VGRD_650_m/s',\n",
       " 'VGRD_675_m/s',\n",
       " 'VGRD_700_m/s',\n",
       " 'VGRD_725_m/s',\n",
       " 'VGRD_750_m/s',\n",
       " 'VGRD_775_m/s',\n",
       " 'VGRD_800_m/s',\n",
       " 'VGRD_825_m/s',\n",
       " 'VGRD_850_m/s',\n",
       " 'VGRD_875_m/s',\n",
       " 'VGRD_900_m/s',\n",
       " 'VGRD_925_m/s',\n",
       " 'VGRD_950_m/s',\n",
       " 'VGRD_975_m/s',\n",
       " 'VGRD_1000_m/s',\n",
       " 'VVEL_100_Pa/s',\n",
       " 'VVEL_125_Pa/s',\n",
       " 'VVEL_150_Pa/s',\n",
       " 'VVEL_175_Pa/s',\n",
       " 'VVEL_200_Pa/s',\n",
       " 'VVEL_225_Pa/s',\n",
       " 'VVEL_250_Pa/s',\n",
       " 'VVEL_275_Pa/s',\n",
       " 'VVEL_300_Pa/s',\n",
       " 'VVEL_325_Pa/s',\n",
       " 'VVEL_350_Pa/s',\n",
       " 'VVEL_375_Pa/s',\n",
       " 'VVEL_400_Pa/s',\n",
       " 'VVEL_425_Pa/s',\n",
       " 'VVEL_450_Pa/s',\n",
       " 'VVEL_475_Pa/s',\n",
       " 'VVEL_500_Pa/s',\n",
       " 'VVEL_525_Pa/s',\n",
       " 'VVEL_550_Pa/s',\n",
       " 'VVEL_575_Pa/s',\n",
       " 'VVEL_600_Pa/s',\n",
       " 'VVEL_625_Pa/s',\n",
       " 'VVEL_650_Pa/s',\n",
       " 'VVEL_675_Pa/s',\n",
       " 'VVEL_700_Pa/s',\n",
       " 'VVEL_725_Pa/s',\n",
       " 'VVEL_750_Pa/s',\n",
       " 'VVEL_775_Pa/s',\n",
       " 'VVEL_800_Pa/s',\n",
       " 'VVEL_825_Pa/s',\n",
       " 'VVEL_850_Pa/s',\n",
       " 'VVEL_875_Pa/s',\n",
       " 'VVEL_900_Pa/s',\n",
       " 'VVEL_925_Pa/s',\n",
       " 'VVEL_950_Pa/s',\n",
       " 'VVEL_975_Pa/s',\n",
       " 'VVEL_1000_Pa/s',\n",
       " 'UGRD_10M_m/s',\n",
       " 'SNOW_DEPTH_m',\n",
       " 'VGRD_10M_m/s',\n",
       " 'HGT_ON_SFC_m',\n",
       " 'DEWPOINT_2M_C',\n",
       " 'PRES_ON_SURFACE_Pa',\n",
       " 'CSNOW_-',\n",
       " 'CFRZR_-',\n",
       " 'HGT_ON_0CISOTHM_m',\n",
       " 'EL_HGT_m',\n",
       " 'DEWPOINT_DEPRES_2M_C',\n",
       " 'TROP_PRES_Pa',\n",
       " 'CRAIN_-',\n",
       " 'SNOW_WATER_EQ_kg/m^2',\n",
       " 'POT_TEMP_2M_C',\n",
       " 'MEAN_SEA_LEVEL_Pa',\n",
       " 'TMP_ON_SURFACE_C',\n",
       " 'PRES_ON_0CISOTHM_Pa',\n",
       " 'CICEP_-',\n",
       " 'idx',\n",
       " 'T_DEWPOINT_100_C',\n",
       " 'T_DEWPOINT_125_C',\n",
       " 'T_DEWPOINT_150_C',\n",
       " 'T_DEWPOINT_175_C',\n",
       " 'T_DEWPOINT_200_C',\n",
       " 'T_DEWPOINT_225_C',\n",
       " 'T_DEWPOINT_250_C',\n",
       " 'T_DEWPOINT_275_C',\n",
       " 'T_DEWPOINT_300_C',\n",
       " 'T_DEWPOINT_325_C',\n",
       " 'T_DEWPOINT_350_C',\n",
       " 'T_DEWPOINT_375_C',\n",
       " 'T_DEWPOINT_400_C',\n",
       " 'T_DEWPOINT_425_C',\n",
       " 'T_DEWPOINT_450_C',\n",
       " 'T_DEWPOINT_475_C',\n",
       " 'T_DEWPOINT_500_C',\n",
       " 'T_DEWPOINT_525_C',\n",
       " 'T_DEWPOINT_550_C',\n",
       " 'T_DEWPOINT_575_C',\n",
       " 'T_DEWPOINT_600_C',\n",
       " 'T_DEWPOINT_625_C',\n",
       " 'T_DEWPOINT_650_C',\n",
       " 'T_DEWPOINT_675_C',\n",
       " 'T_DEWPOINT_700_C',\n",
       " 'T_DEWPOINT_725_C',\n",
       " 'T_DEWPOINT_750_C',\n",
       " 'T_DEWPOINT_775_C',\n",
       " 'T_DEWPOINT_800_C',\n",
       " 'T_DEWPOINT_825_C',\n",
       " 'T_DEWPOINT_850_C',\n",
       " 'T_DEWPOINT_875_C',\n",
       " 'T_DEWPOINT_900_C',\n",
       " 'T_DEWPOINT_925_C',\n",
       " 'T_DEWPOINT_950_C',\n",
       " 'T_DEWPOINT_975_C',\n",
       " 'T_DEWPOINT_1000_C']"
      ]
     },
     "execution_count": 91,
     "metadata": {},
     "output_type": "execute_result"
    }
   ],
   "source": [
    "list(mping_pres['val'].columns)"
   ]
  },
  {
   "cell_type": "code",
   "execution_count": 96,
   "id": "909dcf0a-3a5c-4329-b2f8-ec3dcde85382",
   "metadata": {},
   "outputs": [
    {
     "name": "stdout",
     "output_type": "stream",
     "text": [
      "TMP\n",
      "['TMP_100_C', 'TMP_125_C', 'TMP_150_C', 'TMP_175_C', 'TMP_200_C', 'TMP_225_C', 'TMP_250_C', 'TMP_275_C', 'TMP_300_C', 'TMP_325_C', 'TMP_350_C', 'TMP_375_C', 'TMP_400_C', 'TMP_425_C', 'TMP_450_C', 'TMP_475_C', 'TMP_500_C', 'TMP_525_C', 'TMP_550_C', 'TMP_575_C', 'TMP_600_C', 'TMP_625_C', 'TMP_650_C', 'TMP_675_C', 'TMP_700_C', 'TMP_725_C', 'TMP_750_C', 'TMP_775_C', 'TMP_800_C', 'TMP_825_C', 'TMP_850_C', 'TMP_875_C', 'TMP_900_C', 'TMP_925_C', 'TMP_950_C', 'TMP_975_C', 'TMP_1000_C']\n",
      "T_DEWPOINT\n",
      "['T_DEWPOINT_100_C', 'T_DEWPOINT_125_C', 'T_DEWPOINT_150_C', 'T_DEWPOINT_175_C', 'T_DEWPOINT_200_C', 'T_DEWPOINT_225_C', 'T_DEWPOINT_250_C', 'T_DEWPOINT_275_C', 'T_DEWPOINT_300_C', 'T_DEWPOINT_325_C', 'T_DEWPOINT_350_C', 'T_DEWPOINT_375_C', 'T_DEWPOINT_400_C', 'T_DEWPOINT_425_C', 'T_DEWPOINT_450_C', 'T_DEWPOINT_475_C', 'T_DEWPOINT_500_C', 'T_DEWPOINT_525_C', 'T_DEWPOINT_550_C', 'T_DEWPOINT_575_C', 'T_DEWPOINT_600_C', 'T_DEWPOINT_625_C', 'T_DEWPOINT_650_C', 'T_DEWPOINT_675_C', 'T_DEWPOINT_700_C', 'T_DEWPOINT_725_C', 'T_DEWPOINT_750_C', 'T_DEWPOINT_775_C', 'T_DEWPOINT_800_C', 'T_DEWPOINT_825_C', 'T_DEWPOINT_850_C', 'T_DEWPOINT_875_C', 'T_DEWPOINT_900_C', 'T_DEWPOINT_925_C', 'T_DEWPOINT_950_C', 'T_DEWPOINT_975_C', 'T_DEWPOINT_1000_C']\n",
      "UGRD\n",
      "['UGRD_100_m/s', 'UGRD_125_m/s', 'UGRD_150_m/s', 'UGRD_175_m/s', 'UGRD_200_m/s', 'UGRD_225_m/s', 'UGRD_250_m/s', 'UGRD_275_m/s', 'UGRD_300_m/s', 'UGRD_325_m/s', 'UGRD_350_m/s', 'UGRD_375_m/s', 'UGRD_400_m/s', 'UGRD_425_m/s', 'UGRD_450_m/s', 'UGRD_475_m/s', 'UGRD_500_m/s', 'UGRD_525_m/s', 'UGRD_550_m/s', 'UGRD_575_m/s', 'UGRD_600_m/s', 'UGRD_625_m/s', 'UGRD_650_m/s', 'UGRD_675_m/s', 'UGRD_700_m/s', 'UGRD_725_m/s', 'UGRD_750_m/s', 'UGRD_775_m/s', 'UGRD_800_m/s', 'UGRD_825_m/s', 'UGRD_850_m/s', 'UGRD_875_m/s', 'UGRD_900_m/s', 'UGRD_925_m/s', 'UGRD_950_m/s', 'UGRD_975_m/s', 'UGRD_1000_m/s']\n",
      "VGRD\n",
      "['VGRD_100_m/s', 'VGRD_125_m/s', 'VGRD_150_m/s', 'VGRD_175_m/s', 'VGRD_200_m/s', 'VGRD_225_m/s', 'VGRD_250_m/s', 'VGRD_275_m/s', 'VGRD_300_m/s', 'VGRD_325_m/s', 'VGRD_350_m/s', 'VGRD_375_m/s', 'VGRD_400_m/s', 'VGRD_425_m/s', 'VGRD_450_m/s', 'VGRD_475_m/s', 'VGRD_500_m/s', 'VGRD_525_m/s', 'VGRD_550_m/s', 'VGRD_575_m/s', 'VGRD_600_m/s', 'VGRD_625_m/s', 'VGRD_650_m/s', 'VGRD_675_m/s', 'VGRD_700_m/s', 'VGRD_725_m/s', 'VGRD_750_m/s', 'VGRD_775_m/s', 'VGRD_800_m/s', 'VGRD_825_m/s', 'VGRD_850_m/s', 'VGRD_875_m/s', 'VGRD_900_m/s', 'VGRD_925_m/s', 'VGRD_950_m/s', 'VGRD_975_m/s', 'VGRD_1000_m/s']\n",
      "CPU times: user 1.39 s, sys: 487 ms, total: 1.88 s\n",
      "Wall time: 1.87 s\n"
     ]
    }
   ],
   "source": [
    "%%time\n",
    "features_pres = []\n",
    "base_variables = ['TMP', 'T_DEWPOINT', 'UGRD', 'VGRD']\n",
    "units = [\"C\", \"C\", \"m/s\", \"m/s\"]\n",
    "\n",
    "for i, var in enumerate(base_variables):\n",
    "    print(var)\n",
    "    \n",
    "    profile_vars_pres = [var + \"_\" + f\"{p:d}\" + \"_\" + units[i] for p in range(100, 1025, 25)]\n",
    "    print(profile_vars_pres)\n",
    "    features_pres.append(profile_vars_pres)\n",
    "input_features_pres = list(np.concatenate(features_pres))\n",
    "scaled_data_pres, scalers_pres = preprocess_data(mping_pres, input_features=input_features_pres, output_features=['precip'])\n",
    "\n",
    "\n",
    "train_pres_x = reshape_data_1dCNN(scaled_data_pres['train_x'], base_variables=base_variables, n_levels=37)\n",
    "train_pres_y = scaled_data_pres['train_y']\n",
    "val_pres_x = reshape_data_1dCNN(scaled_data_pres['val_x'], base_variables=base_variables, n_levels=37)\n",
    "val_pres_y = scaled_data_pres['val_y']"
   ]
  },
  {
   "cell_type": "code",
   "execution_count": 90,
   "id": "d78a2504-2835-4d16-b956-4b96f7669914",
   "metadata": {},
   "outputs": [
    {
     "data": {
      "text/plain": [
       "[]"
      ]
     },
     "execution_count": 90,
     "metadata": {},
     "output_type": "execute_result"
    }
   ],
   "source": [
    "input_features_pres"
   ]
  },
  {
   "cell_type": "code",
   "execution_count": 48,
   "id": "28125c70-b1a4-460a-b08f-75b69aeb1853",
   "metadata": {},
   "outputs": [
    {
     "data": {
      "text/plain": [
       "array([ 9632., 15738.,     0., 81826.])"
      ]
     },
     "execution_count": 48,
     "metadata": {},
     "output_type": "execute_result"
    }
   ],
   "source": [
    "scaled_data[\"test_y\"].sum(axis=0)"
   ]
  },
  {
   "cell_type": "code",
   "execution_count": 32,
   "id": "5e6381ee-8435-44f5-b841-ea49f1ede500",
   "metadata": {},
   "outputs": [
    {
     "data": {
      "text/plain": [
       "array(['fzra', 'pl', 'ra', 'sn'], dtype=object)"
      ]
     },
     "execution_count": 32,
     "metadata": {},
     "output_type": "execute_result"
    }
   ],
   "source": [
    "scalers[\"output_label\"].classes_"
   ]
  },
  {
   "cell_type": "code",
   "execution_count": 18,
   "id": "a1dd8ecd-d6ee-4bcb-b219-68497eba1a07",
   "metadata": {},
   "outputs": [
    {
     "data": {
      "text/plain": [
       "array(['fzra', 'pl', 'ra', 'sn'], dtype=object)"
      ]
     },
     "execution_count": 18,
     "metadata": {},
     "output_type": "execute_result"
    }
   ],
   "source": [
    "np.unique(mping[\"train\"][\"precip\"])"
   ]
  },
  {
   "cell_type": "code",
   "execution_count": 56,
   "id": "61ed40d9-1758-4679-be55-5ef72fc8f592",
   "metadata": {},
   "outputs": [
    {
     "data": {
      "text/plain": [
       "array(['fzra', 'sn', 'ra', 'pl'], dtype=object)"
      ]
     },
     "execution_count": 56,
     "metadata": {},
     "output_type": "execute_result"
    }
   ],
   "source": [
    "mping[\"train\"][\"precip\"].unique()"
   ]
  },
  {
   "cell_type": "code",
   "execution_count": 107,
   "id": "3ea3feed-083a-4fe0-8cd5-5282a579320d",
   "metadata": {},
   "outputs": [
    {
     "name": "stdout",
     "output_type": "stream",
     "text": [
      "Epoch 1/20\n",
      "443/443 [==============================] - 2s 3ms/step - loss: 0.6338\n",
      "Epoch 2/20\n",
      "443/443 [==============================] - 1s 3ms/step - loss: 0.4438\n",
      "Epoch 3/20\n",
      "443/443 [==============================] - 1s 3ms/step - loss: 0.4247\n",
      "Epoch 4/20\n",
      "443/443 [==============================] - 1s 3ms/step - loss: 0.4159\n",
      "Epoch 5/20\n",
      "443/443 [==============================] - 1s 3ms/step - loss: 0.4095\n",
      "Epoch 6/20\n",
      "443/443 [==============================] - 1s 3ms/step - loss: 0.4027\n",
      "Epoch 7/20\n",
      "443/443 [==============================] - 1s 3ms/step - loss: 0.3970\n",
      "Epoch 8/20\n",
      "443/443 [==============================] - 1s 3ms/step - loss: 0.3909\n",
      "Epoch 9/20\n",
      "443/443 [==============================] - 1s 3ms/step - loss: 0.3877\n",
      "Epoch 10/20\n",
      "443/443 [==============================] - 1s 3ms/step - loss: 0.3840\n",
      "Epoch 11/20\n",
      "443/443 [==============================] - 1s 3ms/step - loss: 0.3806\n",
      "Epoch 12/20\n",
      "443/443 [==============================] - 1s 3ms/step - loss: 0.3782\n",
      "Epoch 13/20\n",
      "443/443 [==============================] - 1s 3ms/step - loss: 0.3738\n",
      "Epoch 14/20\n",
      "443/443 [==============================] - 1s 3ms/step - loss: 0.3732\n",
      "Epoch 15/20\n",
      "443/443 [==============================] - 1s 3ms/step - loss: 0.3721\n",
      "Epoch 16/20\n",
      "443/443 [==============================] - 1s 3ms/step - loss: 0.3704\n",
      "Epoch 17/20\n",
      "443/443 [==============================] - 1s 3ms/step - loss: 0.3673\n",
      "Epoch 18/20\n",
      "443/443 [==============================] - 1s 3ms/step - loss: 0.3644\n",
      "Epoch 19/20\n",
      "443/443 [==============================] - 1s 3ms/step - loss: 0.3638\n",
      "Epoch 20/20\n",
      "443/443 [==============================] - 1s 3ms/step - loss: 0.3606\n"
     ]
    },
    {
     "data": {
      "text/plain": [
       "<tensorflow.python.keras.callbacks.History at 0x2ab4f39e8dd0>"
      ]
     },
     "execution_count": 107,
     "metadata": {},
     "output_type": "execute_result"
    }
   ],
   "source": [
    "conv_input_layer = Input(shape=train_x.shape[1:], name=\"conv_input\")\n",
    "model = conv_input_layer\n",
    "model = Conv1D(16, 5, data_format=\"channels_last\", activation='relu', kernel_regularizer=None, padding=\"same\")(model)\n",
    "model = AveragePooling1D(pool_size=3)(model)\n",
    "model = Conv1D(32, 5, data_format=\"channels_last\", activation='relu', kernel_regularizer=None, padding=\"same\")(model)\n",
    "model = AveragePooling1D(pool_size=3)(model)\n",
    "model = Conv1D(64, 5, data_format=\"channels_last\", activation='relu', kernel_regularizer=None, padding=\"same\")(model)\n",
    "model = AveragePooling1D(pool_size=3)(model)\n",
    "model = Flatten()(model)\n",
    "model = Dense(128, activation='relu')(model)\n",
    "model = Dense(4, activation='softmax')(model)\n",
    "model = Model(conv_input_layer, model)\n",
    "model.compile(loss='categorical_crossentropy', optimizer='adam')\n",
    "model.fit(train_x, train_y, batch_size=1024, epochs=20)"
   ]
  },
  {
   "cell_type": "code",
   "execution_count": 99,
   "id": "fbe1c5a7-9ea0-4f92-9308-0a3fbbdc822b",
   "metadata": {},
   "outputs": [
    {
     "name": "stdout",
     "output_type": "stream",
     "text": [
      "Epoch 1/20\n",
      "443/443 [==============================] - 2s 3ms/step - loss: 0.6397\n",
      "Epoch 2/20\n",
      "443/443 [==============================] - 1s 3ms/step - loss: 0.4491\n",
      "Epoch 3/20\n",
      "443/443 [==============================] - 1s 3ms/step - loss: 0.4326\n",
      "Epoch 4/20\n",
      "443/443 [==============================] - 1s 3ms/step - loss: 0.4233\n",
      "Epoch 5/20\n",
      "443/443 [==============================] - 1s 3ms/step - loss: 0.4163\n",
      "Epoch 6/20\n",
      "443/443 [==============================] - 1s 3ms/step - loss: 0.4103\n",
      "Epoch 7/20\n",
      "443/443 [==============================] - 1s 3ms/step - loss: 0.4048\n",
      "Epoch 8/20\n",
      "443/443 [==============================] - 1s 3ms/step - loss: 0.4023\n",
      "Epoch 9/20\n",
      "443/443 [==============================] - 1s 3ms/step - loss: 0.3958\n",
      "Epoch 10/20\n",
      "443/443 [==============================] - 1s 3ms/step - loss: 0.3941\n",
      "Epoch 11/20\n",
      "443/443 [==============================] - 1s 3ms/step - loss: 0.3896\n",
      "Epoch 12/20\n",
      "443/443 [==============================] - 1s 3ms/step - loss: 0.3876\n",
      "Epoch 13/20\n",
      "443/443 [==============================] - 1s 3ms/step - loss: 0.3867\n",
      "Epoch 14/20\n",
      "443/443 [==============================] - 1s 3ms/step - loss: 0.3819\n",
      "Epoch 15/20\n",
      "443/443 [==============================] - 1s 3ms/step - loss: 0.3778\n",
      "Epoch 16/20\n",
      "443/443 [==============================] - 1s 3ms/step - loss: 0.3784\n",
      "Epoch 17/20\n",
      "443/443 [==============================] - 1s 3ms/step - loss: 0.3774\n",
      "Epoch 18/20\n",
      "443/443 [==============================] - 1s 3ms/step - loss: 0.3747\n",
      "Epoch 19/20\n",
      "443/443 [==============================] - 1s 3ms/step - loss: 0.3707\n",
      "Epoch 20/20\n",
      "443/443 [==============================] - 1s 3ms/step - loss: 0.3701\n"
     ]
    },
    {
     "data": {
      "text/plain": [
       "<tensorflow.python.keras.callbacks.History at 0x2ab4f46c9810>"
      ]
     },
     "execution_count": 99,
     "metadata": {},
     "output_type": "execute_result"
    }
   ],
   "source": [
    "conv_input_layer_p = Input(shape=train_pres_x.shape[1:], name=\"conv_input\")\n",
    "model_p = conv_input_layer_p\n",
    "model_p = Conv1D(16, 5, data_format=\"channels_last\", activation='relu', kernel_regularizer=None, padding=\"same\")(model_p)\n",
    "model_p = AveragePooling1D(pool_size=3)(model_p)\n",
    "model_p = Conv1D(32, 5, data_format=\"channels_last\", activation='relu', kernel_regularizer=None, padding=\"same\")(model_p)\n",
    "model_p = AveragePooling1D(pool_size=3)(model_p)\n",
    "model_p = Conv1D(64, 5, data_format=\"channels_last\", activation='relu', kernel_regularizer=None, padding=\"same\")(model_p)\n",
    "model_p = AveragePooling1D(pool_size=3)(model_p)\n",
    "model_p = Flatten()(model_p)\n",
    "model_p = Dense(128, activation='relu')(model_p)\n",
    "model_p = Dense(4, activation='softmax')(model_p)\n",
    "model_p = Model(conv_input_layer_p, model_p)\n",
    "model_p.compile(loss='categorical_crossentropy', optimizer='adam')\n",
    "model_p.fit(train_pres_x, train_pres_y, batch_size=1024, epochs=20)"
   ]
  },
  {
   "cell_type": "code",
   "execution_count": 62,
   "id": "24bcec09-1280-41b7-8b5a-aa6b05a41c29",
   "metadata": {},
   "outputs": [
    {
     "name": "stdout",
     "output_type": "stream",
     "text": [
      "Epoch 1/20\n",
      "443/443 [==============================] - 2s 3ms/step - loss: 0.6203\n",
      "Epoch 2/20\n",
      "443/443 [==============================] - 1s 3ms/step - loss: 0.4436\n",
      "Epoch 3/20\n",
      "443/443 [==============================] - 1s 3ms/step - loss: 0.4260\n",
      "Epoch 4/20\n",
      "443/443 [==============================] - 1s 3ms/step - loss: 0.4127\n",
      "Epoch 5/20\n",
      "443/443 [==============================] - 1s 3ms/step - loss: 0.4040\n",
      "Epoch 6/20\n",
      "443/443 [==============================] - 1s 3ms/step - loss: 0.3984\n",
      "Epoch 7/20\n",
      "443/443 [==============================] - 1s 3ms/step - loss: 0.3911\n",
      "Epoch 8/20\n",
      "443/443 [==============================] - 1s 3ms/step - loss: 0.3897\n",
      "Epoch 9/20\n",
      "443/443 [==============================] - 1s 3ms/step - loss: 0.3851\n",
      "Epoch 10/20\n",
      "443/443 [==============================] - 1s 3ms/step - loss: 0.3815\n",
      "Epoch 11/20\n",
      "443/443 [==============================] - 1s 3ms/step - loss: 0.3776\n",
      "Epoch 12/20\n",
      "443/443 [==============================] - 1s 3ms/step - loss: 0.3741\n",
      "Epoch 13/20\n",
      "443/443 [==============================] - 1s 3ms/step - loss: 0.3734\n",
      "Epoch 14/20\n",
      "443/443 [==============================] - 1s 3ms/step - loss: 0.3719\n",
      "Epoch 15/20\n",
      "443/443 [==============================] - 1s 3ms/step - loss: 0.3694\n",
      "Epoch 16/20\n",
      "443/443 [==============================] - 1s 3ms/step - loss: 0.3653\n",
      "Epoch 17/20\n",
      "443/443 [==============================] - 1s 3ms/step - loss: 0.3655\n",
      "Epoch 18/20\n",
      "443/443 [==============================] - 1s 3ms/step - loss: 0.3614\n",
      "Epoch 19/20\n",
      "443/443 [==============================] - 1s 3ms/step - loss: 0.3630\n",
      "Epoch 20/20\n",
      "443/443 [==============================] - 1s 3ms/step - loss: 0.3595\n"
     ]
    },
    {
     "data": {
      "text/plain": [
       "<tensorflow.python.keras.callbacks.History at 0x2ab3fd78b950>"
      ]
     },
     "execution_count": 62,
     "metadata": {},
     "output_type": "execute_result"
    }
   ],
   "source": []
  },
  {
   "cell_type": "code",
   "execution_count": 122,
   "id": "8a51c44d-4fdd-4c87-ac68-df8c62064d13",
   "metadata": {},
   "outputs": [],
   "source": [
    "ptype_preds = model.predict(val_x, batch_size=4096)\n",
    "ptype_preds_p = model_p.predict(val_pres_x, batch_size=4096)"
   ]
  },
  {
   "cell_type": "code",
   "execution_count": 64,
   "id": "196ab820-bbbc-4343-a22e-d5165225855c",
   "metadata": {},
   "outputs": [
    {
     "data": {
      "text/plain": [
       "array([ 2259.,  7239., 63217., 31028.])"
      ]
     },
     "execution_count": 64,
     "metadata": {},
     "output_type": "execute_result"
    }
   ],
   "source": [
    "val_y.sum(axis=0)"
   ]
  },
  {
   "cell_type": "code",
   "execution_count": 41,
   "id": "dd882a06-8d71-49f4-b399-70104ebecfb1",
   "metadata": {},
   "outputs": [],
   "source": [
    "from hagelslag.evaluation.ProbabilityMetrics import DistributedROC\n",
    "from hagelslag.evaluation.MulticlassContingencyTable import MulticlassContingencyTable\n",
    "from sklearn.metrics import confusion_matrix"
   ]
  },
  {
   "cell_type": "code",
   "execution_count": 113,
   "id": "789e3d91-9b7c-4b13-a2a0-cbc7d6afbc0d",
   "metadata": {},
   "outputs": [],
   "source": [
    "val_y_cat = scalers[\"output_onehot\"].inverse_transform(val_y)"
   ]
  },
  {
   "cell_type": "code",
   "execution_count": 116,
   "id": "1854cb55-1b0b-41f6-8812-240bc51e51a2",
   "metadata": {},
   "outputs": [],
   "source": [
    "pred_y_cat = scalers[\"output_onehot\"].inverse_transform(ptype_preds)\n",
    "pred_y_cat_p = scalers[\"output_onehot\"].inverse_transform(ptype_preds_p)"
   ]
  },
  {
   "cell_type": "code",
   "execution_count": 117,
   "id": "00106c00-2b36-44b3-8e6b-79b7e4fbc005",
   "metadata": {},
   "outputs": [
    {
     "data": {
      "text/plain": [
       "array([0, 1, 2, 3])"
      ]
     },
     "execution_count": 117,
     "metadata": {},
     "output_type": "execute_result"
    }
   ],
   "source": [
    "np.unique(pred_y_cat)"
   ]
  },
  {
   "cell_type": "code",
   "execution_count": 74,
   "id": "436fc7b7-ed58-4af9-865b-6167477bb6ca",
   "metadata": {},
   "outputs": [
    {
     "data": {
      "text/plain": [
       "array([[  364,   186,   121,    66],\n",
       "       [  635,  2044,   556,   850],\n",
       "       [  529,  1685, 60708,  1727],\n",
       "       [  731,  3324,  1832, 28385]])"
      ]
     },
     "execution_count": 74,
     "metadata": {},
     "output_type": "execute_result"
    }
   ],
   "source": [
    "confusion_matrix(val_y_cat, pred_y_cat).T"
   ]
  },
  {
   "cell_type": "code",
   "execution_count": 118,
   "id": "e0783e0c-6101-4ebe-b883-76aed0f1ff9d",
   "metadata": {},
   "outputs": [],
   "source": [
    "mc = MulticlassContingencyTable(confusion_matrix(val_y_cat, pred_y_cat).T, n_classes=4, \n",
    "                                class_names=np.unique(mping[\"train\"][\"precip\"]))"
   ]
  },
  {
   "cell_type": "code",
   "execution_count": 119,
   "id": "d5898f8c-ede1-4d15-961b-a288b60a9600",
   "metadata": {},
   "outputs": [],
   "source": [
    "mc_p = MulticlassContingencyTable(confusion_matrix(val_y_cat, pred_y_cat_p).T, n_classes=4, \n",
    "                                  class_names=np.unique(mping[\"train\"][\"precip\"]))"
   ]
  },
  {
   "cell_type": "code",
   "execution_count": 155,
   "id": "0288ce34-2eb6-4214-8f8a-8acc59f63289",
   "metadata": {},
   "outputs": [
    {
     "data": {
      "text/plain": [
       "Text(0, 0.5, 'Predicted')"
      ]
     },
     "execution_count": 155,
     "metadata": {},
     "output_type": "execute_result"
    },
    {
     "data": {
      "image/png": "[encoded data removed]",
      "text/plain": [
       "<Figure size 432x288 with 2 Axes>"
      ]
     },
     "metadata": {
      "needs_background": "light"
     },
     "output_type": "display_data"
    }
   ],
   "source": [
    "plt.pcolormesh(np.arange(0, 4), np.arange(0, 4), mc.table, norm=LogNorm(), edgecolors=\"k\")\n",
    "plt.colorbar()\n",
    "for pc, pred_class in enumerate(np.unique(mping[\"train\"][\"precip\"])):\n",
    "    for oc, obs_class in enumerate(np.unique(mping[\"train\"][\"precip\"])):\n",
    "        plt.text(oc, pc, mc.table[pc, oc], ha=\"center\", va=\"center\") \n",
    "mc.table\n",
    "plt.xticks(np.arange(0, 4))\n",
    "plt.yticks(np.arange(0, 4))\n",
    "plt.gca().set_xticklabels(np.unique(mping[\"train\"][\"precip\"]))\n",
    "plt.gca().set_yticklabels(np.unique(mping[\"train\"][\"precip\"]))\n",
    "plt.xlabel(\"Observed\")\n",
    "plt.ylabel(\"Predicted\")"
   ]
  },
  {
   "cell_type": "code",
   "execution_count": 144,
   "id": "1394f2bc-4a65-4a1f-89cf-db1e53c6ebc7",
   "metadata": {},
   "outputs": [
    {
     "data": {
      "text/plain": [
       "array([[  474,   372,   158,    96],\n",
       "       [  574,  2354,   665,  1040],\n",
       "       [  518,  1294, 60222,  1353],\n",
       "       [  693,  3219,  2172, 28539]])"
      ]
     },
     "execution_count": 144,
     "metadata": {},
     "output_type": "execute_result"
    },
    {
     "data": {
      "image/png": "[encoded data removed]",
      "text/plain": [
       "<Figure size 432x288 with 2 Axes>"
      ]
     },
     "metadata": {
      "needs_background": "light"
     },
     "output_type": "display_data"
    }
   ],
   "source": [
    "plt.pcolormesh(np.arange(0, 4), np.arange(0, 4), mc_p.table, norm=LogNorm())\n",
    "plt.colorbar()\n",
    "for pc, pred_class in enumerate(np.unique(mping[\"train\"][\"precip\"])):\n",
    "    for oc, obs_class in enumerate(np.unique(mping[\"train\"][\"precip\"])):\n",
    "        plt.text(oc, pc, mc_p.table[pc, oc], ha=\"center\", va=\"center\")\n",
    "plt.xticks(np.arange(-.5, 4.5))\n",
    "plt.yticks(np.arange(-.5, 4.5))\n",
    "\n",
    "plt.grid(which=\"major\")\n",
    "mc_p.table"
   ]
  },
  {
   "cell_type": "code",
   "execution_count": 120,
   "id": "bb044af2-789f-4be8-92a1-32d6085739c0",
   "metadata": {},
   "outputs": [
    {
     "data": {
      "text/plain": [
       "0.472110823845341"
      ]
     },
     "execution_count": 120,
     "metadata": {},
     "output_type": "execute_result"
    }
   ],
   "source": [
    "mc_p.gerrity_score()"
   ]
  },
  {
   "cell_type": "code",
   "execution_count": 121,
   "id": "af10c977-9062-447c-99f3-a42d5d9533e5",
   "metadata": {},
   "outputs": [
    {
     "data": {
      "text/plain": [
       "0.43812676836482634"
      ]
     },
     "execution_count": 121,
     "metadata": {},
     "output_type": "execute_result"
    }
   ],
   "source": [
    "mc.gerrity_score()"
   ]
  },
  {
   "cell_type": "code",
   "execution_count": 112,
   "id": "b3027065-1a70-4888-a9a7-39de4e5a0ec9",
   "metadata": {},
   "outputs": [
    {
     "data": {
      "text/plain": [
       "0.7502716883891765"
      ]
     },
     "execution_count": 112,
     "metadata": {},
     "output_type": "execute_result"
    }
   ],
   "source": [
    "mc.peirce_skill_score()"
   ]
  },
  {
   "cell_type": "code",
   "execution_count": null,
   "id": "933beeab-a832-4cef-9be6-6a53fe61a509",
   "metadata": {},
   "outputs": [],
   "source": []
  }
 ],
 "metadata": {
  "kernelspec": {
   "display_name": "Python [conda env:miniconda3-hwtmode]",
   "language": "python",
   "name": "conda-env-miniconda3-hwtmode-py"
  },
  "language_info": {
   "codemirror_mode": {
    "name": "ipython",
    "version": 3
   },
   "file_extension": ".py",
   "mimetype": "text/x-python",
   "name": "python",
   "nbconvert_exporter": "python",
   "pygments_lexer": "ipython3",
   "version": "3.7.12"
  }
 },
 "nbformat": 4,
 "nbformat_minor": 5
}
