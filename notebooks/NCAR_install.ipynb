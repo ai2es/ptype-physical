{
 "cells": [
  {
   "cell_type": "markdown",
   "id": "97b4de75-f8a0-4cff-a6cd-50297d9e363f",
   "metadata": {},
   "source": [
    "# Installing ptype on NCAR's computing jupyterhub enviroment"
   ]
  },
  {
   "cell_type": "markdown",
   "id": "1122e18c-ce40-4ad0-b8a8-f2695e733fe2",
   "metadata": {},
   "source": [
    "Made by Thomas Martin (tmartin @ ucar dot edu). This is just deisgned to get others started when starting new with NCAR's computing enviroment. "
   ]
  },
  {
   "cell_type": "code",
   "execution_count": null,
   "id": "cf0a38e8-50f1-4eb6-8b31-fe88bb2c565d",
   "metadata": {},
   "outputs": [],
   "source": [
    "!git clone https://github.com/ai2es/ptype-physical.git"
   ]
  },
  {
   "cell_type": "code",
   "execution_count": null,
   "id": "f03e8b0b-5809-425a-bde5-6bfa05746308",
   "metadata": {},
   "outputs": [],
   "source": [
    "ls"
   ]
  },
  {
   "cell_type": "code",
   "execution_count": null,
   "id": "75224200-1fe4-4108-bdfc-5a09b1232ad8",
   "metadata": {},
   "outputs": [],
   "source": [
    "cd ptype-physical/"
   ]
  },
  {
   "cell_type": "code",
   "execution_count": null,
   "id": "d025846d-2197-4186-a240-92f3ca0cb782",
   "metadata": {},
   "outputs": [],
   "source": [
    "ls"
   ]
  },
  {
   "cell_type": "code",
   "execution_count": null,
   "id": "0baae7c3-63d3-4030-baa1-047652a8c47c",
   "metadata": {},
   "outputs": [],
   "source": [
    "!conda env create -f environment.yml"
   ]
  },
  {
   "cell_type": "markdown",
   "id": "8aec44d4-ca09-4377-aa51-9f970e906a27",
   "metadata": {},
   "source": [
    "### Enviroment should be made!"
   ]
  },
  {
   "cell_type": "markdown",
   "id": "50f745aa-4926-44d9-b950-ebcb45350278",
   "metadata": {},
   "source": [
    "Change the enviroment in the notebook (upper right). Should look like this:"
   ]
  },
  {
   "cell_type": "markdown",
   "id": "c54cc02b-5b0d-4ec6-9a6a-cae0d8cdf9e2",
   "metadata": {},
   "source": [
    "![Should look like this](ptypeenv_png.png)"
   ]
  },
  {
   "cell_type": "code",
   "execution_count": null,
   "id": "a09e08de-1509-421b-836d-e4ce00169bb7",
   "metadata": {},
   "outputs": [],
   "source": [
    "pwd"
   ]
  },
  {
   "cell_type": "code",
   "execution_count": null,
   "id": "323f24f7-34db-4c3c-8d71-1041da2545f3",
   "metadata": {},
   "outputs": [],
   "source": [
    "ls"
   ]
  },
  {
   "cell_type": "code",
   "execution_count": null,
   "id": "9b8726b0-77f4-42bd-a4f4-14da5bab091c",
   "metadata": {},
   "outputs": [],
   "source": [
    "cd ptype-physical/"
   ]
  },
  {
   "cell_type": "code",
   "execution_count": null,
   "id": "4010dd92-4e99-4e51-be51-9cadff537997",
   "metadata": {},
   "outputs": [],
   "source": [
    "ls"
   ]
  },
  {
   "cell_type": "code",
   "execution_count": null,
   "id": "da49380d-0331-4c74-a38b-4cebbe0a3cfb",
   "metadata": {},
   "outputs": [],
   "source": [
    "!pip install ."
   ]
  },
  {
   "cell_type": "code",
   "execution_count": null,
   "id": "51b92227-6d5f-49b4-90b2-b0541089e984",
   "metadata": {},
   "outputs": [],
   "source": [
    "import ptype"
   ]
  },
  {
   "cell_type": "code",
   "execution_count": null,
   "id": "f64d4ed8-1f0e-40ba-834d-3dd7c720ab9d",
   "metadata": {},
   "outputs": [],
   "source": [
    "ptype"
   ]
  },
  {
   "cell_type": "markdown",
   "id": "ab9e0bab-77e0-4d23-871f-c028ba59db1c",
   "metadata": {},
   "source": [
    "The End!"
   ]
  }
 ],
 "metadata": {
  "kernelspec": {
   "display_name": "Python [conda env:.conda-ptype]",
   "language": "python",
   "name": "conda-env-.conda-ptype-py"
  },
  "language_info": {
   "codemirror_mode": {
    "name": "ipython",
    "version": 3
   },
   "file_extension": ".py",
   "mimetype": "text/x-python",
   "name": "python",
   "nbconvert_exporter": "python",
   "pygments_lexer": "ipython3",
   "version": "3.10.12"
  }
 },
 "nbformat": 4,
 "nbformat_minor": 5
}
