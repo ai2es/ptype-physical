{
 "cells": [
  {
   "cell_type": "code",
   "execution_count": 34,
   "id": "c33d96bc-f97d-4e3e-ab7b-fd54584ec232",
   "metadata": {},
   "outputs": [],
   "source": [
    "import yaml\n",
    "import numpy as np"
   ]
  },
  {
   "cell_type": "code",
   "execution_count": 2,
   "id": "2ce1fa89-6735-4a2c-9999-0f23d611eeab",
   "metadata": {},
   "outputs": [],
   "source": [
    "config = \"../config/ptype.yml\""
   ]
  },
  {
   "cell_type": "code",
   "execution_count": 3,
   "id": "621a866b-0872-4d4b-8814-6dcff6418a49",
   "metadata": {},
   "outputs": [],
   "source": [
    "with open(config) as cf:\n",
    "    conf = yaml.load(cf, Loader=yaml.FullLoader)"
   ]
  },
  {
   "cell_type": "code",
   "execution_count": 4,
   "id": "6aaa2a67-075e-45a2-9cd9-ff2f27fb2ede",
   "metadata": {},
   "outputs": [
    {
     "data": {
      "text/plain": [
       "{'seed': 1000,\n",
       " 'verbose': 0,\n",
       " 'save_loc': '/glade/work/schreck/repos/ptype/may23/results',\n",
       " 'asos_path': '/glade/p/cisl/aiml/ai2es/winter_ptypes/precip_rap/ASOS_mixture/',\n",
       " 'mping_path': '/glade/p/cisl/aiml/ai2es/winter_ptypes/precip_rap/mPING_mixture/',\n",
       " 'data_path': '/glade/p/cisl/aiml/ai2es/winter_ptypes/ptype_qc/mPING_interpolated_QC2.parquet',\n",
       " 'train_size1': 0.9,\n",
       " 'train_size2': 0.0,\n",
       " 'qc': 3.0,\n",
       " 'test_cutoff': '2020-07-01',\n",
       " 'ptypes': ['ra_percent', 'sn_percent', 'pl_percent', 'fzra_percent'],\n",
       " 'metric': 'val_ave_acc',\n",
       " 'direction': 'max',\n",
       " 'ensemble': {'n_splits': 1, 'mc_steps': 0},\n",
       " 'model': {'hidden_layers': 11,\n",
       "  'hidden_neurons': 541,\n",
       "  'use_dropout': 1,\n",
       "  'dropout_alpha': 0.217191294429198,\n",
       "  'batch_size': 1289,\n",
       "  'lr': 0.0008707816746166255,\n",
       "  'activation': 'elu',\n",
       "  'output_activation': 'linear',\n",
       "  'optimizer': 'adam',\n",
       "  'loss': 'dirichlet',\n",
       "  'annealing_coeff': 50,\n",
       "  'loss_weights': [92.96912671890074,\n",
       "   41.743749696615055,\n",
       "   12.99938921008767,\n",
       "   5.018459330108088],\n",
       "  'balanced_classes': 1,\n",
       "  'l2_weight': 0.002338643108375605,\n",
       "  'epochs': 1000,\n",
       "  'verbose': 0},\n",
       " 'scaler_type': 'quantile',\n",
       " 'scale_groups': ['TEMP_C', 'T_DEWPOINT_C', 'UGRD_m/s', 'VGRD_m/s'],\n",
       " 'TEMP_C': ['TEMP_C_0_m',\n",
       "  'TEMP_C_250_m',\n",
       "  'TEMP_C_500_m',\n",
       "  'TEMP_C_750_m',\n",
       "  'TEMP_C_1000_m',\n",
       "  'TEMP_C_1250_m',\n",
       "  'TEMP_C_1500_m',\n",
       "  'TEMP_C_1750_m',\n",
       "  'TEMP_C_2000_m',\n",
       "  'TEMP_C_2250_m',\n",
       "  'TEMP_C_2500_m',\n",
       "  'TEMP_C_2750_m',\n",
       "  'TEMP_C_3000_m',\n",
       "  'TEMP_C_3250_m',\n",
       "  'TEMP_C_3500_m',\n",
       "  'TEMP_C_3750_m',\n",
       "  'TEMP_C_4000_m',\n",
       "  'TEMP_C_4250_m',\n",
       "  'TEMP_C_4500_m',\n",
       "  'TEMP_C_4750_m',\n",
       "  'TEMP_C_5000_m'],\n",
       " 'T_DEWPOINT_C': ['T_DEWPOINT_C_0_m',\n",
       "  'T_DEWPOINT_C_250_m',\n",
       "  'T_DEWPOINT_C_500_m',\n",
       "  'T_DEWPOINT_C_750_m',\n",
       "  'T_DEWPOINT_C_1000_m',\n",
       "  'T_DEWPOINT_C_1250_m',\n",
       "  'T_DEWPOINT_C_1500_m',\n",
       "  'T_DEWPOINT_C_1750_m',\n",
       "  'T_DEWPOINT_C_2000_m',\n",
       "  'T_DEWPOINT_C_2250_m',\n",
       "  'T_DEWPOINT_C_2500_m',\n",
       "  'T_DEWPOINT_C_2750_m',\n",
       "  'T_DEWPOINT_C_3000_m',\n",
       "  'T_DEWPOINT_C_3250_m',\n",
       "  'T_DEWPOINT_C_3500_m',\n",
       "  'T_DEWPOINT_C_3750_m',\n",
       "  'T_DEWPOINT_C_4000_m',\n",
       "  'T_DEWPOINT_C_4250_m',\n",
       "  'T_DEWPOINT_C_4500_m',\n",
       "  'T_DEWPOINT_C_4750_m',\n",
       "  'T_DEWPOINT_C_5000_m'],\n",
       " 'UGRD_m/s': ['UGRD_m/s_0_m',\n",
       "  'UGRD_m/s_250_m',\n",
       "  'UGRD_m/s_500_m',\n",
       "  'UGRD_m/s_750_m',\n",
       "  'UGRD_m/s_1000_m',\n",
       "  'UGRD_m/s_1250_m',\n",
       "  'UGRD_m/s_1500_m',\n",
       "  'UGRD_m/s_1750_m',\n",
       "  'UGRD_m/s_2000_m',\n",
       "  'UGRD_m/s_2250_m',\n",
       "  'UGRD_m/s_2500_m',\n",
       "  'UGRD_m/s_2750_m',\n",
       "  'UGRD_m/s_3000_m',\n",
       "  'UGRD_m/s_3250_m',\n",
       "  'UGRD_m/s_3500_m',\n",
       "  'UGRD_m/s_3750_m',\n",
       "  'UGRD_m/s_4000_m',\n",
       "  'UGRD_m/s_4250_m',\n",
       "  'UGRD_m/s_4500_m',\n",
       "  'UGRD_m/s_4750_m',\n",
       "  'UGRD_m/s_5000_m'],\n",
       " 'VGRD_m/s': ['VGRD_m/s_0_m',\n",
       "  'VGRD_m/s_250_m',\n",
       "  'VGRD_m/s_500_m',\n",
       "  'VGRD_m/s_750_m',\n",
       "  'VGRD_m/s_1000_m',\n",
       "  'VGRD_m/s_1250_m',\n",
       "  'VGRD_m/s_1500_m',\n",
       "  'VGRD_m/s_1750_m',\n",
       "  'VGRD_m/s_2000_m',\n",
       "  'VGRD_m/s_2250_m',\n",
       "  'VGRD_m/s_2500_m',\n",
       "  'VGRD_m/s_2750_m',\n",
       "  'VGRD_m/s_3000_m',\n",
       "  'VGRD_m/s_3250_m',\n",
       "  'VGRD_m/s_3500_m',\n",
       "  'VGRD_m/s_3750_m',\n",
       "  'VGRD_m/s_4000_m',\n",
       "  'VGRD_m/s_4250_m',\n",
       "  'VGRD_m/s_4500_m',\n",
       "  'VGRD_m/s_4750_m',\n",
       "  'VGRD_m/s_5000_m'],\n",
       " 'callbacks': {'EarlyStopping': {'monitor': 'val_ave_acc',\n",
       "   'patience': 9,\n",
       "   'mode': 'max',\n",
       "   'verbose': 0,\n",
       "   'restore_best_weights': 1},\n",
       "  'ReduceLROnPlateau': {'monitor': 'val_ave_acc',\n",
       "   'factor': 0.1,\n",
       "   'patience': 3,\n",
       "   'min_lr': 1e-15,\n",
       "   'mode': 'max',\n",
       "   'verbose': 0},\n",
       "  'CSVLogger': {'filename': 'training_log.csv',\n",
       "   'separator': ',',\n",
       "   'append': 0}},\n",
       " 'case_studies': {'texas': ['2021-02-10',\n",
       "   '2021-02-11',\n",
       "   '2021-02-12',\n",
       "   '2021-02-13',\n",
       "   '2021-02-14',\n",
       "   '2021-02-15',\n",
       "   '2021-02-16',\n",
       "   '2021-02-17',\n",
       "   '2021-02-18',\n",
       "   '2021-02-19'],\n",
       "  'new_york': ['2022-02-03', '2022-02-04'],\n",
       "  'ne_noreaster': ['2017-03-11',\n",
       "   '2017-03-12',\n",
       "   '2017-03-13',\n",
       "   '2017-03-14',\n",
       "   '2017-03-15',\n",
       "   '2017-03-16',\n",
       "   '2017-03-17'],\n",
       "  'dec_ice_storm': ['2016-12-15',\n",
       "   '2016-12-16',\n",
       "   '2016-12-17',\n",
       "   '2016-12-18',\n",
       "   '2016-12-19',\n",
       "   '2016-12-20']}}"
      ]
     },
     "execution_count": 4,
     "metadata": {},
     "output_type": "execute_result"
    }
   ],
   "source": [
    "conf"
   ]
  },
  {
   "cell_type": "code",
   "execution_count": 5,
   "id": "49cfa798-abd1-4e07-9f7e-54f0cf71bef7",
   "metadata": {},
   "outputs": [],
   "source": [
    "input_features = conf['TEMP_C'] + conf['T_DEWPOINT_C'] + conf['UGRD_m/s'] + conf['VGRD_m/s']\n",
    "output_features = conf['ptypes']"
   ]
  },
  {
   "cell_type": "code",
   "execution_count": 6,
   "id": "fcf813d7-0910-4087-a153-a2a0891777dc",
   "metadata": {},
   "outputs": [
    {
     "data": {
      "text/plain": [
       "['ra_percent', 'sn_percent', 'pl_percent', 'fzra_percent']"
      ]
     },
     "execution_count": 6,
     "metadata": {},
     "output_type": "execute_result"
    }
   ],
   "source": [
    "output_features"
   ]
  },
  {
   "cell_type": "markdown",
   "id": "b9fd9429-7ec3-4bc6-b80f-c47803fea1ba",
   "metadata": {},
   "source": [
    "### Load data"
   ]
  },
  {
   "cell_type": "code",
   "execution_count": 12,
   "id": "333cb8d1-4ab4-411e-87e0-f11fdf582e7e",
   "metadata": {},
   "outputs": [],
   "source": [
    "from ptype.data import load_ptype_uq, preprocess_data"
   ]
  },
  {
   "cell_type": "code",
   "execution_count": 9,
   "id": "bc90e77a-b422-4617-9b72-025b736af93c",
   "metadata": {},
   "outputs": [],
   "source": [
    "data = load_ptype_uq(conf, data_split=0, verbose=1)"
   ]
  },
  {
   "cell_type": "code",
   "execution_count": 10,
   "id": "81a2aaf6-9047-4120-bafa-dcd257910172",
   "metadata": {},
   "outputs": [
    {
     "data": {
      "text/plain": [
       "dict_keys(['train', 'val', 'test'])"
      ]
     },
     "execution_count": 10,
     "metadata": {},
     "output_type": "execute_result"
    }
   ],
   "source": [
    "data.keys()"
   ]
  },
  {
   "cell_type": "code",
   "execution_count": 11,
   "id": "8b0e1a2f-6eb8-4c04-95b3-724b0e235e4d",
   "metadata": {},
   "outputs": [
    {
     "data": {
      "text/html": [
       "<div>\n",
       "<style scoped>\n",
       "    .dataframe tbody tr th:only-of-type {\n",
       "        vertical-align: middle;\n",
       "    }\n",
       "\n",
       "    .dataframe tbody tr th {\n",
       "        vertical-align: top;\n",
       "    }\n",
       "\n",
       "    .dataframe thead th {\n",
       "        text-align: right;\n",
       "    }\n",
       "</style>\n",
       "<table border=\"1\" class=\"dataframe\">\n",
       "  <thead>\n",
       "    <tr style=\"text-align: right;\">\n",
       "      <th></th>\n",
       "      <th>T_DEWPOINT_C_0_m</th>\n",
       "      <th>T_DEWPOINT_C_250_m</th>\n",
       "      <th>T_DEWPOINT_C_500_m</th>\n",
       "      <th>T_DEWPOINT_C_750_m</th>\n",
       "      <th>T_DEWPOINT_C_1000_m</th>\n",
       "      <th>T_DEWPOINT_C_1250_m</th>\n",
       "      <th>T_DEWPOINT_C_1500_m</th>\n",
       "      <th>T_DEWPOINT_C_1750_m</th>\n",
       "      <th>T_DEWPOINT_C_2000_m</th>\n",
       "      <th>T_DEWPOINT_C_2250_m</th>\n",
       "      <th>...</th>\n",
       "      <th>wetbulb5.0_filter</th>\n",
       "      <th>wetbulb3.0_filter</th>\n",
       "      <th>wetbulb4.0_filter</th>\n",
       "      <th>wetbulb6.0_filter</th>\n",
       "      <th>wetbulb7.0_filter</th>\n",
       "      <th>wetbulb8.0_filter</th>\n",
       "      <th>wetbulb9.0_filter</th>\n",
       "      <th>wetbulb10.0_filter</th>\n",
       "      <th>day</th>\n",
       "      <th>id</th>\n",
       "    </tr>\n",
       "  </thead>\n",
       "  <tbody>\n",
       "    <tr>\n",
       "      <th>0</th>\n",
       "      <td>-1.655792</td>\n",
       "      <td>-2.835467</td>\n",
       "      <td>-4.163699</td>\n",
       "      <td>-6.138978</td>\n",
       "      <td>-0.488864</td>\n",
       "      <td>4.197807</td>\n",
       "      <td>5.157393</td>\n",
       "      <td>6.114103</td>\n",
       "      <td>6.829093</td>\n",
       "      <td>6.675503</td>\n",
       "      <td>...</td>\n",
       "      <td>0.0</td>\n",
       "      <td>0.0</td>\n",
       "      <td>0.0</td>\n",
       "      <td>0.0</td>\n",
       "      <td>0.0</td>\n",
       "      <td>0.0</td>\n",
       "      <td>0.0</td>\n",
       "      <td>0.0</td>\n",
       "      <td>2015-01-01</td>\n",
       "      <td>0</td>\n",
       "    </tr>\n",
       "    <tr>\n",
       "      <th>1</th>\n",
       "      <td>-10.780792</td>\n",
       "      <td>-13.113944</td>\n",
       "      <td>-14.351792</td>\n",
       "      <td>-15.245550</td>\n",
       "      <td>-17.420716</td>\n",
       "      <td>-18.153632</td>\n",
       "      <td>-19.590563</td>\n",
       "      <td>-22.192989</td>\n",
       "      <td>-25.444098</td>\n",
       "      <td>-26.653295</td>\n",
       "      <td>...</td>\n",
       "      <td>0.0</td>\n",
       "      <td>0.0</td>\n",
       "      <td>0.0</td>\n",
       "      <td>0.0</td>\n",
       "      <td>0.0</td>\n",
       "      <td>0.0</td>\n",
       "      <td>0.0</td>\n",
       "      <td>0.0</td>\n",
       "      <td>2015-01-01</td>\n",
       "      <td>1</td>\n",
       "    </tr>\n",
       "    <tr>\n",
       "      <th>2</th>\n",
       "      <td>-2.030670</td>\n",
       "      <td>-1.788266</td>\n",
       "      <td>-3.183992</td>\n",
       "      <td>-4.640100</td>\n",
       "      <td>-5.945332</td>\n",
       "      <td>-7.157136</td>\n",
       "      <td>-9.012771</td>\n",
       "      <td>-11.112327</td>\n",
       "      <td>-12.574477</td>\n",
       "      <td>-13.695213</td>\n",
       "      <td>...</td>\n",
       "      <td>0.0</td>\n",
       "      <td>0.0</td>\n",
       "      <td>0.0</td>\n",
       "      <td>0.0</td>\n",
       "      <td>0.0</td>\n",
       "      <td>0.0</td>\n",
       "      <td>0.0</td>\n",
       "      <td>0.0</td>\n",
       "      <td>2015-01-01</td>\n",
       "      <td>2</td>\n",
       "    </tr>\n",
       "    <tr>\n",
       "      <th>3</th>\n",
       "      <td>2.594330</td>\n",
       "      <td>2.729686</td>\n",
       "      <td>1.102943</td>\n",
       "      <td>-0.012984</td>\n",
       "      <td>-0.898779</td>\n",
       "      <td>-1.810851</td>\n",
       "      <td>-2.654946</td>\n",
       "      <td>-3.688597</td>\n",
       "      <td>-5.361815</td>\n",
       "      <td>-7.732323</td>\n",
       "      <td>...</td>\n",
       "      <td>0.0</td>\n",
       "      <td>0.0</td>\n",
       "      <td>0.0</td>\n",
       "      <td>0.0</td>\n",
       "      <td>0.0</td>\n",
       "      <td>0.0</td>\n",
       "      <td>0.0</td>\n",
       "      <td>0.0</td>\n",
       "      <td>2015-01-01</td>\n",
       "      <td>3</td>\n",
       "    </tr>\n",
       "    <tr>\n",
       "      <th>4</th>\n",
       "      <td>2.281830</td>\n",
       "      <td>3.372600</td>\n",
       "      <td>1.754350</td>\n",
       "      <td>0.367760</td>\n",
       "      <td>-0.655007</td>\n",
       "      <td>-1.669536</td>\n",
       "      <td>-2.636912</td>\n",
       "      <td>-3.866507</td>\n",
       "      <td>-5.746655</td>\n",
       "      <td>-8.543235</td>\n",
       "      <td>...</td>\n",
       "      <td>0.0</td>\n",
       "      <td>0.0</td>\n",
       "      <td>0.0</td>\n",
       "      <td>0.0</td>\n",
       "      <td>0.0</td>\n",
       "      <td>0.0</td>\n",
       "      <td>0.0</td>\n",
       "      <td>0.0</td>\n",
       "      <td>2015-01-01</td>\n",
       "      <td>4</td>\n",
       "    </tr>\n",
       "  </tbody>\n",
       "</table>\n",
       "<p>5 rows × 453 columns</p>\n",
       "</div>"
      ],
      "text/plain": [
       "   T_DEWPOINT_C_0_m  T_DEWPOINT_C_250_m  T_DEWPOINT_C_500_m  \\\n",
       "0         -1.655792           -2.835467           -4.163699   \n",
       "1        -10.780792          -13.113944          -14.351792   \n",
       "2         -2.030670           -1.788266           -3.183992   \n",
       "3          2.594330            2.729686            1.102943   \n",
       "4          2.281830            3.372600            1.754350   \n",
       "\n",
       "   T_DEWPOINT_C_750_m  T_DEWPOINT_C_1000_m  T_DEWPOINT_C_1250_m  \\\n",
       "0           -6.138978            -0.488864             4.197807   \n",
       "1          -15.245550           -17.420716           -18.153632   \n",
       "2           -4.640100            -5.945332            -7.157136   \n",
       "3           -0.012984            -0.898779            -1.810851   \n",
       "4            0.367760            -0.655007            -1.669536   \n",
       "\n",
       "   T_DEWPOINT_C_1500_m  T_DEWPOINT_C_1750_m  T_DEWPOINT_C_2000_m  \\\n",
       "0             5.157393             6.114103             6.829093   \n",
       "1           -19.590563           -22.192989           -25.444098   \n",
       "2            -9.012771           -11.112327           -12.574477   \n",
       "3            -2.654946            -3.688597            -5.361815   \n",
       "4            -2.636912            -3.866507            -5.746655   \n",
       "\n",
       "   T_DEWPOINT_C_2250_m  ...  wetbulb5.0_filter  wetbulb3.0_filter  \\\n",
       "0             6.675503  ...                0.0                0.0   \n",
       "1           -26.653295  ...                0.0                0.0   \n",
       "2           -13.695213  ...                0.0                0.0   \n",
       "3            -7.732323  ...                0.0                0.0   \n",
       "4            -8.543235  ...                0.0                0.0   \n",
       "\n",
       "   wetbulb4.0_filter  wetbulb6.0_filter  wetbulb7.0_filter  wetbulb8.0_filter  \\\n",
       "0                0.0                0.0                0.0                0.0   \n",
       "1                0.0                0.0                0.0                0.0   \n",
       "2                0.0                0.0                0.0                0.0   \n",
       "3                0.0                0.0                0.0                0.0   \n",
       "4                0.0                0.0                0.0                0.0   \n",
       "\n",
       "   wetbulb9.0_filter  wetbulb10.0_filter         day  id  \n",
       "0                0.0                 0.0  2015-01-01   0  \n",
       "1                0.0                 0.0  2015-01-01   1  \n",
       "2                0.0                 0.0  2015-01-01   2  \n",
       "3                0.0                 0.0  2015-01-01   3  \n",
       "4                0.0                 0.0  2015-01-01   4  \n",
       "\n",
       "[5 rows x 453 columns]"
      ]
     },
     "execution_count": 11,
     "metadata": {},
     "output_type": "execute_result"
    }
   ],
   "source": [
    "data[\"train\"].head()"
   ]
  },
  {
   "cell_type": "code",
   "execution_count": 13,
   "id": "a516aff2-8c64-435b-abe1-38c32e616bca",
   "metadata": {},
   "outputs": [
    {
     "name": "stderr",
     "output_type": "stream",
     "text": [
      "/glade/work/schreck/miniconda3/envs/evidential/lib/python3.8/site-packages/sklearn/preprocessing/_encoders.py:868: FutureWarning: `sparse` was renamed to `sparse_output` in version 1.2 and will be removed in 1.4. `sparse_output` is ignored unless you leave `sparse` to its default value.\n",
      "  warnings.warn(\n"
     ]
    }
   ],
   "source": [
    "scaled_data, scalers = preprocess_data(\n",
    "        data,\n",
    "        input_features,\n",
    "        output_features,\n",
    "        scaler_type=\"standard\",\n",
    "        encoder_type=\"onehot\",\n",
    "        groups=[],\n",
    "    )"
   ]
  },
  {
   "cell_type": "markdown",
   "id": "d580d201-4659-4827-ba4f-efc293e45c00",
   "metadata": {},
   "source": [
    "##### Each input column gets transformed into \"z-scores\""
   ]
  },
  {
   "cell_type": "code",
   "execution_count": 16,
   "id": "3b9f16a9-6ecb-4a3c-8c4d-d97c3dd52695",
   "metadata": {},
   "outputs": [
    {
     "data": {
      "text/html": [
       "<div>\n",
       "<style scoped>\n",
       "    .dataframe tbody tr th:only-of-type {\n",
       "        vertical-align: middle;\n",
       "    }\n",
       "\n",
       "    .dataframe tbody tr th {\n",
       "        vertical-align: top;\n",
       "    }\n",
       "\n",
       "    .dataframe thead th {\n",
       "        text-align: right;\n",
       "    }\n",
       "</style>\n",
       "<table border=\"1\" class=\"dataframe\">\n",
       "  <thead>\n",
       "    <tr style=\"text-align: right;\">\n",
       "      <th></th>\n",
       "      <th>TEMP_C_0_m</th>\n",
       "      <th>TEMP_C_250_m</th>\n",
       "      <th>TEMP_C_500_m</th>\n",
       "      <th>TEMP_C_750_m</th>\n",
       "      <th>TEMP_C_1000_m</th>\n",
       "      <th>TEMP_C_1250_m</th>\n",
       "      <th>TEMP_C_1500_m</th>\n",
       "      <th>TEMP_C_1750_m</th>\n",
       "      <th>TEMP_C_2000_m</th>\n",
       "      <th>TEMP_C_2250_m</th>\n",
       "      <th>...</th>\n",
       "      <th>VGRD_m/s_2750_m</th>\n",
       "      <th>VGRD_m/s_3000_m</th>\n",
       "      <th>VGRD_m/s_3250_m</th>\n",
       "      <th>VGRD_m/s_3500_m</th>\n",
       "      <th>VGRD_m/s_3750_m</th>\n",
       "      <th>VGRD_m/s_4000_m</th>\n",
       "      <th>VGRD_m/s_4250_m</th>\n",
       "      <th>VGRD_m/s_4500_m</th>\n",
       "      <th>VGRD_m/s_4750_m</th>\n",
       "      <th>VGRD_m/s_5000_m</th>\n",
       "    </tr>\n",
       "  </thead>\n",
       "  <tbody>\n",
       "    <tr>\n",
       "      <th>0</th>\n",
       "      <td>-0.610768</td>\n",
       "      <td>-0.645662</td>\n",
       "      <td>-0.753968</td>\n",
       "      <td>-0.582651</td>\n",
       "      <td>-0.258674</td>\n",
       "      <td>-0.092146</td>\n",
       "      <td>0.050314</td>\n",
       "      <td>0.260894</td>\n",
       "      <td>0.472282</td>\n",
       "      <td>0.603402</td>\n",
       "      <td>...</td>\n",
       "      <td>0.870662</td>\n",
       "      <td>0.545611</td>\n",
       "      <td>0.331951</td>\n",
       "      <td>0.257136</td>\n",
       "      <td>0.232856</td>\n",
       "      <td>0.212132</td>\n",
       "      <td>0.177195</td>\n",
       "      <td>0.136428</td>\n",
       "      <td>0.096277</td>\n",
       "      <td>0.063459</td>\n",
       "    </tr>\n",
       "    <tr>\n",
       "      <th>1</th>\n",
       "      <td>-1.544597</td>\n",
       "      <td>-1.597331</td>\n",
       "      <td>-1.707733</td>\n",
       "      <td>-1.896648</td>\n",
       "      <td>-2.124362</td>\n",
       "      <td>-2.190931</td>\n",
       "      <td>-2.248633</td>\n",
       "      <td>-2.259476</td>\n",
       "      <td>-2.219144</td>\n",
       "      <td>-2.151906</td>\n",
       "      <td>...</td>\n",
       "      <td>-1.266968</td>\n",
       "      <td>-1.265000</td>\n",
       "      <td>-1.290175</td>\n",
       "      <td>-1.337132</td>\n",
       "      <td>-1.415796</td>\n",
       "      <td>-1.526929</td>\n",
       "      <td>-1.708339</td>\n",
       "      <td>-1.940517</td>\n",
       "      <td>-2.196968</td>\n",
       "      <td>-2.420509</td>\n",
       "    </tr>\n",
       "    <tr>\n",
       "      <th>2</th>\n",
       "      <td>-0.827267</td>\n",
       "      <td>-0.756607</td>\n",
       "      <td>-0.826003</td>\n",
       "      <td>-0.931763</td>\n",
       "      <td>-1.065001</td>\n",
       "      <td>-1.215805</td>\n",
       "      <td>-1.357762</td>\n",
       "      <td>-1.434078</td>\n",
       "      <td>-1.474066</td>\n",
       "      <td>-1.492524</td>\n",
       "      <td>...</td>\n",
       "      <td>-1.548890</td>\n",
       "      <td>-1.557793</td>\n",
       "      <td>-1.524601</td>\n",
       "      <td>-1.453846</td>\n",
       "      <td>-1.379509</td>\n",
       "      <td>-1.342068</td>\n",
       "      <td>-1.353519</td>\n",
       "      <td>-1.399035</td>\n",
       "      <td>-1.465413</td>\n",
       "      <td>-1.534068</td>\n",
       "    </tr>\n",
       "    <tr>\n",
       "      <th>3</th>\n",
       "      <td>-0.549342</td>\n",
       "      <td>-0.541780</td>\n",
       "      <td>-0.602278</td>\n",
       "      <td>-0.666170</td>\n",
       "      <td>-0.703255</td>\n",
       "      <td>-0.736447</td>\n",
       "      <td>-0.753797</td>\n",
       "      <td>-0.779801</td>\n",
       "      <td>-0.851306</td>\n",
       "      <td>-0.922395</td>\n",
       "      <td>...</td>\n",
       "      <td>1.737469</td>\n",
       "      <td>1.822353</td>\n",
       "      <td>1.906544</td>\n",
       "      <td>1.976829</td>\n",
       "      <td>2.011894</td>\n",
       "      <td>2.002315</td>\n",
       "      <td>1.971815</td>\n",
       "      <td>1.916722</td>\n",
       "      <td>1.831138</td>\n",
       "      <td>1.738343</td>\n",
       "    </tr>\n",
       "    <tr>\n",
       "      <th>4</th>\n",
       "      <td>-0.560459</td>\n",
       "      <td>-0.471010</td>\n",
       "      <td>-0.544565</td>\n",
       "      <td>-0.624629</td>\n",
       "      <td>-0.679935</td>\n",
       "      <td>-0.722399</td>\n",
       "      <td>-0.751941</td>\n",
       "      <td>-0.798688</td>\n",
       "      <td>-0.869158</td>\n",
       "      <td>-0.914975</td>\n",
       "      <td>...</td>\n",
       "      <td>1.717591</td>\n",
       "      <td>1.810358</td>\n",
       "      <td>1.896818</td>\n",
       "      <td>1.965159</td>\n",
       "      <td>1.999938</td>\n",
       "      <td>1.990657</td>\n",
       "      <td>1.947149</td>\n",
       "      <td>1.883099</td>\n",
       "      <td>1.806344</td>\n",
       "      <td>1.712216</td>\n",
       "    </tr>\n",
       "  </tbody>\n",
       "</table>\n",
       "<p>5 rows × 84 columns</p>\n",
       "</div>"
      ],
      "text/plain": [
       "   TEMP_C_0_m  TEMP_C_250_m  TEMP_C_500_m  TEMP_C_750_m  TEMP_C_1000_m  \\\n",
       "0   -0.610768     -0.645662     -0.753968     -0.582651      -0.258674   \n",
       "1   -1.544597     -1.597331     -1.707733     -1.896648      -2.124362   \n",
       "2   -0.827267     -0.756607     -0.826003     -0.931763      -1.065001   \n",
       "3   -0.549342     -0.541780     -0.602278     -0.666170      -0.703255   \n",
       "4   -0.560459     -0.471010     -0.544565     -0.624629      -0.679935   \n",
       "\n",
       "   TEMP_C_1250_m  TEMP_C_1500_m  TEMP_C_1750_m  TEMP_C_2000_m  TEMP_C_2250_m  \\\n",
       "0      -0.092146       0.050314       0.260894       0.472282       0.603402   \n",
       "1      -2.190931      -2.248633      -2.259476      -2.219144      -2.151906   \n",
       "2      -1.215805      -1.357762      -1.434078      -1.474066      -1.492524   \n",
       "3      -0.736447      -0.753797      -0.779801      -0.851306      -0.922395   \n",
       "4      -0.722399      -0.751941      -0.798688      -0.869158      -0.914975   \n",
       "\n",
       "   ...  VGRD_m/s_2750_m  VGRD_m/s_3000_m  VGRD_m/s_3250_m  VGRD_m/s_3500_m  \\\n",
       "0  ...         0.870662         0.545611         0.331951         0.257136   \n",
       "1  ...        -1.266968        -1.265000        -1.290175        -1.337132   \n",
       "2  ...        -1.548890        -1.557793        -1.524601        -1.453846   \n",
       "3  ...         1.737469         1.822353         1.906544         1.976829   \n",
       "4  ...         1.717591         1.810358         1.896818         1.965159   \n",
       "\n",
       "   VGRD_m/s_3750_m  VGRD_m/s_4000_m  VGRD_m/s_4250_m  VGRD_m/s_4500_m  \\\n",
       "0         0.232856         0.212132         0.177195         0.136428   \n",
       "1        -1.415796        -1.526929        -1.708339        -1.940517   \n",
       "2        -1.379509        -1.342068        -1.353519        -1.399035   \n",
       "3         2.011894         2.002315         1.971815         1.916722   \n",
       "4         1.999938         1.990657         1.947149         1.883099   \n",
       "\n",
       "   VGRD_m/s_4750_m  VGRD_m/s_5000_m  \n",
       "0         0.096277         0.063459  \n",
       "1        -2.196968        -2.420509  \n",
       "2        -1.465413        -1.534068  \n",
       "3         1.831138         1.738343  \n",
       "4         1.806344         1.712216  \n",
       "\n",
       "[5 rows x 84 columns]"
      ]
     },
     "execution_count": 16,
     "metadata": {},
     "output_type": "execute_result"
    }
   ],
   "source": [
    "scaled_data[\"train_x\"].head()"
   ]
  },
  {
   "cell_type": "markdown",
   "id": "68becfce-8fe2-4756-aa4d-a7fc34d043dc",
   "metadata": {},
   "source": [
    "##### The precip types are turned into \"one-hots\""
   ]
  },
  {
   "cell_type": "code",
   "execution_count": 20,
   "id": "73d8c58f-e49a-4ab4-8fb0-af82e5eb8f51",
   "metadata": {},
   "outputs": [
    {
     "data": {
      "text/plain": [
       "array([[1., 0., 0., 0.],\n",
       "       [0., 1., 0., 0.],\n",
       "       [0., 1., 0., 0.],\n",
       "       ...,\n",
       "       [1., 0., 0., 0.],\n",
       "       [1., 0., 0., 0.],\n",
       "       [1., 0., 0., 0.]])"
      ]
     },
     "execution_count": 20,
     "metadata": {},
     "output_type": "execute_result"
    }
   ],
   "source": [
    "scaled_data[\"train_y\"]"
   ]
  },
  {
   "cell_type": "markdown",
   "id": "495d9106-1753-4908-ab8d-eb3a4f0ac2f6",
   "metadata": {},
   "source": [
    "### Load a model"
   ]
  },
  {
   "cell_type": "code",
   "execution_count": 22,
   "id": "d7564e89-29bf-4ee9-9cfe-6b63e0056a8a",
   "metadata": {},
   "outputs": [
    {
     "name": "stderr",
     "output_type": "stream",
     "text": [
      "2023-05-25 12:29:03.204844: I tensorflow/core/platform/cpu_feature_guard.cc:193] This TensorFlow binary is optimized with oneAPI Deep Neural Network Library (oneDNN) to use the following CPU instructions in performance-critical operations:  AVX2 AVX512F AVX512_VNNI FMA\n",
      "To enable them in other operations, rebuild TensorFlow with the appropriate compiler flags.\n",
      "2023-05-25 12:29:03.467238: I tensorflow/core/util/port.cc:104] oneDNN custom operations are on. You may see slightly different numerical results due to floating-point round-off errors from different computation orders. To turn them off, set the environment variable `TF_ENABLE_ONEDNN_OPTS=0`.\n",
      "2023-05-25 12:29:05.540233: W tensorflow/compiler/xla/stream_executor/platform/default/dso_loader.cc:64] Could not load dynamic library 'libnvinfer.so.7'; dlerror: libnvinfer.so.7: cannot open shared object file: No such file or directory; LD_LIBRARY_PATH: /glade/u/apps/dav/opt/cuda/11.4.0/extras/CUPTI/lib64:/glade/u/apps/dav/opt/cuda/11.4.0/lib64:/glade/u/apps/dav/opt/openmpi/4.1.1/intel/19.1.1/lib:/glade/u/apps/dav/opt/ucx/1.11.0/lib:/glade/u/apps/opt/intel/2020u1/compilers_and_libraries/linux/lib/intel64:/glade/work/schreck/miniconda3/envs/evidential/lib/:/glade/work/schreck/miniconda3/envs/evidential/lib/python3.10/site-packages/nvidia/cudnn/lib\n",
      "2023-05-25 12:29:05.540377: W tensorflow/compiler/xla/stream_executor/platform/default/dso_loader.cc:64] Could not load dynamic library 'libnvinfer_plugin.so.7'; dlerror: libnvinfer_plugin.so.7: cannot open shared object file: No such file or directory; LD_LIBRARY_PATH: /glade/u/apps/dav/opt/cuda/11.4.0/extras/CUPTI/lib64:/glade/u/apps/dav/opt/cuda/11.4.0/lib64:/glade/u/apps/dav/opt/openmpi/4.1.1/intel/19.1.1/lib:/glade/u/apps/dav/opt/ucx/1.11.0/lib:/glade/u/apps/opt/intel/2020u1/compilers_and_libraries/linux/lib/intel64:/glade/work/schreck/miniconda3/envs/evidential/lib/:/glade/work/schreck/miniconda3/envs/evidential/lib/python3.10/site-packages/nvidia/cudnn/lib\n",
      "2023-05-25 12:29:05.540386: W tensorflow/compiler/tf2tensorrt/utils/py_utils.cc:38] TF-TRT Warning: Cannot dlopen some TensorRT libraries. If you would like to use Nvidia GPU with TensorRT, please make sure the missing libraries mentioned above are installed properly.\n"
     ]
    }
   ],
   "source": [
    "from tensorflow.keras.models import Sequential\n",
    "from tensorflow.keras.layers import Dense"
   ]
  },
  {
   "cell_type": "code",
   "execution_count": 23,
   "id": "da957c11-d43c-4699-ac06-e64a79c23d66",
   "metadata": {},
   "outputs": [
    {
     "name": "stderr",
     "output_type": "stream",
     "text": [
      "2023-05-25 12:29:57.674087: W tensorflow/compiler/xla/stream_executor/platform/default/dso_loader.cc:64] Could not load dynamic library 'libcudnn.so.8'; dlerror: libcudnn.so.8: cannot open shared object file: No such file or directory; LD_LIBRARY_PATH: /glade/u/apps/dav/opt/cuda/11.4.0/extras/CUPTI/lib64:/glade/u/apps/dav/opt/cuda/11.4.0/lib64:/glade/u/apps/dav/opt/openmpi/4.1.1/intel/19.1.1/lib:/glade/u/apps/dav/opt/ucx/1.11.0/lib:/glade/u/apps/opt/intel/2020u1/compilers_and_libraries/linux/lib/intel64:/glade/work/schreck/miniconda3/envs/evidential/lib/:/glade/work/schreck/miniconda3/envs/evidential/lib/python3.10/site-packages/nvidia/cudnn/lib\n",
      "2023-05-25 12:29:57.674125: W tensorflow/core/common_runtime/gpu/gpu_device.cc:1934] Cannot dlopen some GPU libraries. Please make sure the missing libraries mentioned above are installed properly if you would like to use GPU. Follow the guide at https://www.tensorflow.org/install/gpu for how to download and setup the required libraries for your platform.\n",
      "Skipping registering GPU devices...\n"
     ]
    },
    {
     "name": "stdout",
     "output_type": "stream",
     "text": [
      "Model: \"sequential\"\n",
      "_________________________________________________________________\n",
      " Layer (type)                Output Shape              Param #   \n",
      "=================================================================\n",
      " dense (Dense)               (None, 100)               8500      \n",
      "                                                                 \n",
      " dense_1 (Dense)             (None, 100)               10100     \n",
      "                                                                 \n",
      " dense_2 (Dense)             (None, 4)                 404       \n",
      "                                                                 \n",
      "=================================================================\n",
      "Total params: 19,004\n",
      "Trainable params: 19,004\n",
      "Non-trainable params: 0\n",
      "_________________________________________________________________\n"
     ]
    }
   ],
   "source": [
    "# Create a Sequential model\n",
    "model = Sequential()\n",
    "\n",
    "# Add input layer and first hidden layer\n",
    "model.add(Dense(units=100, activation='relu', input_shape=(len(input_features),)))\n",
    "\n",
    "# Add second hidden layer\n",
    "model.add(Dense(units=100, activation='relu'))\n",
    "\n",
    "# Add output layer\n",
    "model.add(Dense(units=len(output_features), activation='sigmoid'))\n",
    "\n",
    "# Compile the model\n",
    "model.compile(optimizer='adam', loss='binary_crossentropy', metrics=['accuracy'])\n",
    "\n",
    "# Print a summary of the model\n",
    "model.summary()"
   ]
  },
  {
   "cell_type": "markdown",
   "id": "ba2f5377-1d92-4943-8d3c-60f884fbe662",
   "metadata": {},
   "source": [
    "### Train the model"
   ]
  },
  {
   "cell_type": "code",
   "execution_count": 26,
   "id": "c68e982d-e8be-4fd2-9716-b28c3e5c1499",
   "metadata": {},
   "outputs": [
    {
     "name": "stdout",
     "output_type": "stream",
     "text": [
      "Epoch 1/10\n",
      "23189/23189 [==============================] - 26s 1ms/step - loss: 0.1018 - accuracy: 0.9134 - val_loss: 0.0993 - val_accuracy: 0.9148\n",
      "Epoch 2/10\n",
      "23189/23189 [==============================] - 26s 1ms/step - loss: 0.1002 - accuracy: 0.9147 - val_loss: 0.1000 - val_accuracy: 0.9144\n",
      "Epoch 3/10\n",
      "23189/23189 [==============================] - 26s 1ms/step - loss: 0.0993 - accuracy: 0.9154 - val_loss: 0.0985 - val_accuracy: 0.9163\n",
      "Epoch 4/10\n",
      "23189/23189 [==============================] - 26s 1ms/step - loss: 0.0987 - accuracy: 0.9160 - val_loss: 0.0978 - val_accuracy: 0.9165\n",
      "Epoch 5/10\n",
      "23189/23189 [==============================] - 27s 1ms/step - loss: 0.0982 - accuracy: 0.9166 - val_loss: 0.0990 - val_accuracy: 0.9155\n",
      "Epoch 6/10\n",
      "23189/23189 [==============================] - 27s 1ms/step - loss: 0.0977 - accuracy: 0.9171 - val_loss: 0.0996 - val_accuracy: 0.9158\n",
      "Epoch 7/10\n",
      "23189/23189 [==============================] - 26s 1ms/step - loss: 0.0974 - accuracy: 0.9171 - val_loss: 0.0985 - val_accuracy: 0.9155\n",
      "Epoch 8/10\n",
      "23189/23189 [==============================] - 26s 1ms/step - loss: 0.0972 - accuracy: 0.9176 - val_loss: 0.1001 - val_accuracy: 0.9158\n",
      "Epoch 9/10\n",
      "23189/23189 [==============================] - 27s 1ms/step - loss: 0.0969 - accuracy: 0.9178 - val_loss: 0.0996 - val_accuracy: 0.9151\n",
      "Epoch 10/10\n",
      "23189/23189 [==============================] - 26s 1ms/step - loss: 0.0967 - accuracy: 0.9181 - val_loss: 0.0984 - val_accuracy: 0.9162\n"
     ]
    }
   ],
   "source": [
    "history = model.fit(\n",
    "    scaled_data[\"train_x\"], \n",
    "    scaled_data[\"train_y\"], \n",
    "    validation_data = (scaled_data[\"val_x\"], scaled_data[\"val_y\"]),\n",
    "    epochs = 10\n",
    ")"
   ]
  },
  {
   "cell_type": "markdown",
   "id": "f5b17ba2-7213-43ce-9154-09207b5dadf1",
   "metadata": {},
   "source": [
    "### Predict with the model"
   ]
  },
  {
   "cell_type": "code",
   "execution_count": 27,
   "id": "ac9d4a5c-6b76-4458-8a60-5a46811ff9bb",
   "metadata": {},
   "outputs": [
    {
     "name": "stdout",
     "output_type": "stream",
     "text": [
      "12397/12397 [==============================] - 8s 624us/step\n"
     ]
    }
   ],
   "source": [
    "y_test_pred = model.predict(scaled_data[\"test_x\"])"
   ]
  },
  {
   "cell_type": "code",
   "execution_count": 35,
   "id": "c42192fe-c1bd-49dd-b84b-9f3f3e506ad2",
   "metadata": {},
   "outputs": [
    {
     "name": "stdout",
     "output_type": "stream",
     "text": [
      "23189/23189 [==============================] - 14s 613us/step\n",
      "2418/2418 [==============================] - 2s 625us/step\n",
      "12397/12397 [==============================] - 8s 611us/step\n"
     ]
    }
   ],
   "source": [
    "for name in data.keys():\n",
    "    x = scaled_data[f\"{name}_x\"]\n",
    "    pred_probs = model.predict(x)\n",
    "    true_labels = np.argmax(data[name][output_features].to_numpy(), 1)\n",
    "    pred_labels = np.argmax(pred_probs, 1)\n",
    "    confidences = np.take_along_axis(pred_probs, pred_labels[:, None], axis=1)\n",
    "    data[name][\"true_label\"] = true_labels\n",
    "    data[name][\"pred_label\"] = pred_labels\n",
    "    data[name][\"pred_conf\"] = confidences\n",
    "    for k in range(pred_probs.shape[-1]):\n",
    "        data[name][f\"pred_conf{k+1}\"] = pred_probs[:, k]"
   ]
  },
  {
   "cell_type": "code",
   "execution_count": 30,
   "id": "0d2cc4ba-23f9-4dda-9c10-f6b681d5d6ed",
   "metadata": {},
   "outputs": [],
   "source": [
    "from ptype.plotting import plot_confusion_matrix"
   ]
  },
  {
   "cell_type": "code",
   "execution_count": 36,
   "id": "152dcd81-4092-4a22-9bf4-dfeab8931cd6",
   "metadata": {},
   "outputs": [
    {
     "data": {
      "image/png": "[encoded data removed]",
      "text/plain": [
       "<Figure size 1000x350 with 6 Axes>"
      ]
     },
     "metadata": {},
     "output_type": "display_data"
    }
   ],
   "source": [
    "plot_confusion_matrix(\n",
    "        data,\n",
    "        [\"Rain\", \"Snow\", \"Sleet\", \"Frz Rain\"],\n",
    "        normalize=True,\n",
    "        #save_location=os.path.join(save_loc, \"plots\", \"confusion_matrices.pdf\"),\n",
    "    )"
   ]
  },
  {
   "cell_type": "code",
   "execution_count": 38,
   "id": "a56828ac-d3d1-4f6d-9889-52cdf1906025",
   "metadata": {},
   "outputs": [],
   "source": [
    "from ptype.reliability import compute_calibration, reliability_diagrams\n",
    "from collections import OrderedDict"
   ]
  },
  {
   "cell_type": "code",
   "execution_count": 40,
   "id": "107598d0-6a5a-42b0-8f01-e3a449f08bf0",
   "metadata": {},
   "outputs": [
    {
     "data": {
      "image/png": "[encoded data removed]",
      "text/plain": [
       "<Figure size 800x800 with 4 Axes>"
      ]
     },
     "metadata": {},
     "output_type": "display_data"
    }
   ],
   "source": [
    "results = OrderedDict()\n",
    "for label in range(len(output_features)):\n",
    "    cond = data[name][\"true_label\"] == label\n",
    "    results[output_features[label]] = {\n",
    "        \"true_labels\": data[name][cond][\"true_label\"].values,\n",
    "        \"pred_labels\": data[name][cond][\"pred_label\"].values,\n",
    "        \"confidences\": data[name][cond][\"pred_conf\"].values,\n",
    "    }\n",
    "    results_calibration = compute_calibration(\n",
    "        results[output_features[label]][\"true_labels\"],\n",
    "        results[output_features[label]][\"pred_labels\"],\n",
    "        results[output_features[label]][\"confidences\"],\n",
    "        num_bins=10,\n",
    "    )\n",
    "\n",
    "_ = reliability_diagrams(\n",
    "    results,\n",
    "    num_bins=10,\n",
    "    draw_bin_importance=\"alpha\",\n",
    "    num_cols=2,\n",
    "    dpi=100,\n",
    "    return_fig=True,\n",
    ")"
   ]
  },
  {
   "cell_type": "code",
   "execution_count": null,
   "id": "8dc33d21-4242-4e7c-9df9-46f9077caf4b",
   "metadata": {},
   "outputs": [],
   "source": []
  }
 ],
 "metadata": {
  "kernelspec": {
   "display_name": "Python [conda env:miniconda3-evidential]",
   "language": "python",
   "name": "conda-env-miniconda3-evidential-py"
  },
  "language_info": {
   "codemirror_mode": {
    "name": "ipython",
    "version": 3
   },
   "file_extension": ".py",
   "mimetype": "text/x-python",
   "name": "python",
   "nbconvert_exporter": "python",
   "pygments_lexer": "ipython3",
   "version": "3.8.16"
  }
 },
 "nbformat": 4,
 "nbformat_minor": 5
}
