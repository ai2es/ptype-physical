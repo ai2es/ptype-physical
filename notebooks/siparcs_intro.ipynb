{
 "cells": [
  {
   "cell_type": "markdown",
   "id": "8f519d72-53f5-44fe-9bdd-6745f4bc29ec",
   "metadata": {},
   "source": [
    "# Introduction to ptype workflow"
   ]
  },
  {
   "cell_type": "markdown",
   "id": "971409f0-6e40-4a96-a7f3-240ba3b73b0b",
   "metadata": {},
   "source": [
    "Updated by Thomas Martin. This was initially written for interns for the MILES group at NCAR, but can be used for anyone looking to "
   ]
  },
  {
   "cell_type": "markdown",
   "id": "fd81a77f-45dc-4663-ba2a-db22c9c7fec4",
   "metadata": {},
   "source": [
    "Sanity check for GPU access, not necessary for this notebook:"
   ]
  },
  {
   "cell_type": "code",
   "execution_count": 1,
   "id": "18cb6252-8ed4-4064-9442-fcbc4e4899aa",
   "metadata": {},
   "outputs": [
    {
     "name": "stdout",
     "output_type": "stream",
     "text": [
      "NVIDIA-SMI has failed because it couldn't communicate with the NVIDIA driver. Make sure that the latest NVIDIA driver is installed and running.\n",
      "\n"
     ]
    }
   ],
   "source": [
    "!nvidia-smi"
   ]
  },
  {
   "cell_type": "code",
   "execution_count": 2,
   "id": "9e386ff7-49e2-421d-9d23-c745c61e5d55",
   "metadata": {},
   "outputs": [
    {
     "name": "stderr",
     "output_type": "stream",
     "text": [
      "2023-07-03 12:39:47.042983: I tensorflow/core/util/port.cc:110] oneDNN custom operations are on. You may see slightly different numerical results due to floating-point round-off errors from different computation orders. To turn them off, set the environment variable `TF_ENABLE_ONEDNN_OPTS=0`.\n",
      "2023-07-03 12:39:47.099604: I tensorflow/core/platform/cpu_feature_guard.cc:182] This TensorFlow binary is optimized to use available CPU instructions in performance-critical operations.\n",
      "To enable the following instructions: AVX2 AVX512F AVX512_VNNI FMA, in other operations, rebuild TensorFlow with the appropriate compiler flags.\n",
      "2023-07-03 12:39:47.861200: W tensorflow/compiler/tf2tensorrt/utils/py_utils.cc:38] TF-TRT Warning: Could not find TensorRT\n"
     ]
    }
   ],
   "source": [
    "import yaml\n",
    "import numpy as np\n",
    "import pandas as pd\n",
    "\n",
    "# Tensorflow imports\n",
    "import tensorflow\n",
    "from tensorflow.keras.models import Sequential\n",
    "from tensorflow.keras.layers import Dense"
   ]
  },
  {
   "cell_type": "markdown",
   "id": "f2c851c0-2f9f-4105-9cc5-ebd5d270673d",
   "metadata": {},
   "source": [
    "Load in configuration file"
   ]
  },
  {
   "cell_type": "code",
   "execution_count": 3,
   "id": "2ce1fa89-6735-4a2c-9999-0f23d611eeab",
   "metadata": {},
   "outputs": [],
   "source": [
    "config = \"../config/ptype.yml\""
   ]
  },
  {
   "cell_type": "code",
   "execution_count": 4,
   "id": "621a866b-0872-4d4b-8814-6dcff6418a49",
   "metadata": {},
   "outputs": [],
   "source": [
    "with open(config) as cf:\n",
    "    conf = yaml.load(cf, Loader=yaml.FullLoader)"
   ]
  },
  {
   "cell_type": "code",
   "execution_count": 5,
   "id": "6aaa2a67-075e-45a2-9cd9-ff2f27fb2ede",
   "metadata": {},
   "outputs": [],
   "source": [
    "conf[\"save_loc\"] = \"/tmp\""
   ]
  },
  {
   "cell_type": "markdown",
   "id": "da1cdbc3-084c-4ce8-8046-9ae06754b7e7",
   "metadata": {},
   "source": [
    "Define input and output features"
   ]
  },
  {
   "cell_type": "code",
   "execution_count": 6,
   "id": "49cfa798-abd1-4e07-9f7e-54f0cf71bef7",
   "metadata": {},
   "outputs": [
    {
     "name": "stdout",
     "output_type": "stream",
     "text": [
      "how many input features are we using? 84\n",
      "how many output features are we using? 4\n",
      "output features: ['ra_percent', 'sn_percent', 'pl_percent', 'fzra_percent']\n"
     ]
    }
   ],
   "source": [
    "input_features = conf['TEMP_C'] + conf['T_DEWPOINT_C'] + conf['UGRD_m/s'] + conf['VGRD_m/s']\n",
    "print('how many input features are we using?', len(input_features))\n",
    "\n",
    "output_features = conf['ptypes']\n",
    "print('how many output features are we using?', len(output_features))\n",
    "\n",
    "#specific features\n",
    "print('output features:', output_features)"
   ]
  },
  {
   "cell_type": "markdown",
   "id": "b9fd9429-7ec3-4bc6-b80f-c47803fea1ba",
   "metadata": {},
   "source": [
    "### Load data"
   ]
  },
  {
   "cell_type": "code",
   "execution_count": 7,
   "id": "84eb71dd-6f04-4bc9-bc99-656f9c468200",
   "metadata": {},
   "outputs": [],
   "source": [
    "from ptype.data import load_ptype_uq, preprocess_data"
   ]
  },
  {
   "cell_type": "code",
   "execution_count": 8,
   "id": "bc90e77a-b422-4617-9b72-025b736af93c",
   "metadata": {},
   "outputs": [
    {
     "data": {
      "text/plain": [
       "dict_keys(['train', 'val', 'test'])"
      ]
     },
     "execution_count": 8,
     "metadata": {},
     "output_type": "execute_result"
    }
   ],
   "source": [
    "data = load_ptype_uq(conf, data_split=0, verbose=1)\n",
    "data.keys()"
   ]
  },
  {
   "cell_type": "code",
   "execution_count": 9,
   "id": "8b0e1a2f-6eb8-4c04-95b3-724b0e235e4d",
   "metadata": {},
   "outputs": [
    {
     "name": "stdout",
     "output_type": "stream",
     "text": [
      "train shape: (742045, 453)\n",
      "test  shape: (396696, 453)\n",
      "val   shape: (77367, 453)\n"
     ]
    }
   ],
   "source": [
    "print('train shape:', data[\"train\"].shape)\n",
    "print('test  shape:', data[\"test\"].shape)\n",
    "print('val   shape:', data[\"val\"].shape)"
   ]
  },
  {
   "cell_type": "code",
   "execution_count": 10,
   "id": "a516aff2-8c64-435b-abe1-38c32e616bca",
   "metadata": {},
   "outputs": [
    {
     "name": "stderr",
     "output_type": "stream",
     "text": [
      "/glade/u/home/tmartin/.conda/envs/ptype2/lib/python3.10/site-packages/sklearn/preprocessing/_encoders.py:972: FutureWarning: `sparse` was renamed to `sparse_output` in version 1.2 and will be removed in 1.4. `sparse_output` is ignored unless you leave `sparse` to its default value.\n",
      "  warnings.warn(\n"
     ]
    }
   ],
   "source": [
    "scaled_data, scalers = preprocess_data(\n",
    "        data,\n",
    "        input_features,\n",
    "        output_features,\n",
    "        scaler_type=\"standard\",\n",
    "        encoder_type=\"onehot\",\n",
    "        groups=[],\n",
    "    )"
   ]
  },
  {
   "cell_type": "markdown",
   "id": "d580d201-4659-4827-ba4f-efc293e45c00",
   "metadata": {},
   "source": [
    "##### Each input column gets transformed into \"z-scores\""
   ]
  },
  {
   "cell_type": "code",
   "execution_count": 11,
   "id": "3b9f16a9-6ecb-4a3c-8c4d-d97c3dd52695",
   "metadata": {},
   "outputs": [
    {
     "data": {
      "text/html": [
       "<div>\n",
       "<style scoped>\n",
       "    .dataframe tbody tr th:only-of-type {\n",
       "        vertical-align: middle;\n",
       "    }\n",
       "\n",
       "    .dataframe tbody tr th {\n",
       "        vertical-align: top;\n",
       "    }\n",
       "\n",
       "    .dataframe thead th {\n",
       "        text-align: right;\n",
       "    }\n",
       "</style>\n",
       "<table border=\"1\" class=\"dataframe\">\n",
       "  <thead>\n",
       "    <tr style=\"text-align: right;\">\n",
       "      <th></th>\n",
       "      <th>TEMP_C_0_m</th>\n",
       "      <th>TEMP_C_250_m</th>\n",
       "      <th>TEMP_C_500_m</th>\n",
       "      <th>TEMP_C_750_m</th>\n",
       "      <th>TEMP_C_1000_m</th>\n",
       "      <th>TEMP_C_1250_m</th>\n",
       "      <th>TEMP_C_1500_m</th>\n",
       "      <th>TEMP_C_1750_m</th>\n",
       "      <th>TEMP_C_2000_m</th>\n",
       "      <th>TEMP_C_2250_m</th>\n",
       "      <th>...</th>\n",
       "      <th>VGRD_m/s_2750_m</th>\n",
       "      <th>VGRD_m/s_3000_m</th>\n",
       "      <th>VGRD_m/s_3250_m</th>\n",
       "      <th>VGRD_m/s_3500_m</th>\n",
       "      <th>VGRD_m/s_3750_m</th>\n",
       "      <th>VGRD_m/s_4000_m</th>\n",
       "      <th>VGRD_m/s_4250_m</th>\n",
       "      <th>VGRD_m/s_4500_m</th>\n",
       "      <th>VGRD_m/s_4750_m</th>\n",
       "      <th>VGRD_m/s_5000_m</th>\n",
       "    </tr>\n",
       "  </thead>\n",
       "  <tbody>\n",
       "    <tr>\n",
       "      <th>0</th>\n",
       "      <td>-0.610768</td>\n",
       "      <td>-0.645662</td>\n",
       "      <td>-0.753968</td>\n",
       "      <td>-0.582651</td>\n",
       "      <td>-0.258674</td>\n",
       "      <td>-0.092146</td>\n",
       "      <td>0.050314</td>\n",
       "      <td>0.260894</td>\n",
       "      <td>0.472282</td>\n",
       "      <td>0.603402</td>\n",
       "      <td>...</td>\n",
       "      <td>0.870662</td>\n",
       "      <td>0.545611</td>\n",
       "      <td>0.331951</td>\n",
       "      <td>0.257136</td>\n",
       "      <td>0.232856</td>\n",
       "      <td>0.212132</td>\n",
       "      <td>0.177195</td>\n",
       "      <td>0.136428</td>\n",
       "      <td>0.096277</td>\n",
       "      <td>0.063459</td>\n",
       "    </tr>\n",
       "    <tr>\n",
       "      <th>1</th>\n",
       "      <td>-1.544597</td>\n",
       "      <td>-1.597331</td>\n",
       "      <td>-1.707733</td>\n",
       "      <td>-1.896648</td>\n",
       "      <td>-2.124362</td>\n",
       "      <td>-2.190931</td>\n",
       "      <td>-2.248633</td>\n",
       "      <td>-2.259476</td>\n",
       "      <td>-2.219144</td>\n",
       "      <td>-2.151906</td>\n",
       "      <td>...</td>\n",
       "      <td>-1.266968</td>\n",
       "      <td>-1.265000</td>\n",
       "      <td>-1.290175</td>\n",
       "      <td>-1.337132</td>\n",
       "      <td>-1.415796</td>\n",
       "      <td>-1.526929</td>\n",
       "      <td>-1.708339</td>\n",
       "      <td>-1.940517</td>\n",
       "      <td>-2.196968</td>\n",
       "      <td>-2.420509</td>\n",
       "    </tr>\n",
       "    <tr>\n",
       "      <th>2</th>\n",
       "      <td>-0.827267</td>\n",
       "      <td>-0.756607</td>\n",
       "      <td>-0.826003</td>\n",
       "      <td>-0.931763</td>\n",
       "      <td>-1.065001</td>\n",
       "      <td>-1.215805</td>\n",
       "      <td>-1.357762</td>\n",
       "      <td>-1.434078</td>\n",
       "      <td>-1.474066</td>\n",
       "      <td>-1.492524</td>\n",
       "      <td>...</td>\n",
       "      <td>-1.548890</td>\n",
       "      <td>-1.557793</td>\n",
       "      <td>-1.524601</td>\n",
       "      <td>-1.453846</td>\n",
       "      <td>-1.379509</td>\n",
       "      <td>-1.342068</td>\n",
       "      <td>-1.353519</td>\n",
       "      <td>-1.399035</td>\n",
       "      <td>-1.465413</td>\n",
       "      <td>-1.534068</td>\n",
       "    </tr>\n",
       "    <tr>\n",
       "      <th>3</th>\n",
       "      <td>-0.549342</td>\n",
       "      <td>-0.541780</td>\n",
       "      <td>-0.602278</td>\n",
       "      <td>-0.666170</td>\n",
       "      <td>-0.703255</td>\n",
       "      <td>-0.736447</td>\n",
       "      <td>-0.753797</td>\n",
       "      <td>-0.779801</td>\n",
       "      <td>-0.851306</td>\n",
       "      <td>-0.922395</td>\n",
       "      <td>...</td>\n",
       "      <td>1.737469</td>\n",
       "      <td>1.822353</td>\n",
       "      <td>1.906544</td>\n",
       "      <td>1.976829</td>\n",
       "      <td>2.011894</td>\n",
       "      <td>2.002315</td>\n",
       "      <td>1.971815</td>\n",
       "      <td>1.916722</td>\n",
       "      <td>1.831138</td>\n",
       "      <td>1.738343</td>\n",
       "    </tr>\n",
       "    <tr>\n",
       "      <th>4</th>\n",
       "      <td>-0.560459</td>\n",
       "      <td>-0.471010</td>\n",
       "      <td>-0.544565</td>\n",
       "      <td>-0.624629</td>\n",
       "      <td>-0.679935</td>\n",
       "      <td>-0.722399</td>\n",
       "      <td>-0.751941</td>\n",
       "      <td>-0.798688</td>\n",
       "      <td>-0.869158</td>\n",
       "      <td>-0.914975</td>\n",
       "      <td>...</td>\n",
       "      <td>1.717591</td>\n",
       "      <td>1.810358</td>\n",
       "      <td>1.896818</td>\n",
       "      <td>1.965159</td>\n",
       "      <td>1.999938</td>\n",
       "      <td>1.990657</td>\n",
       "      <td>1.947149</td>\n",
       "      <td>1.883099</td>\n",
       "      <td>1.806344</td>\n",
       "      <td>1.712216</td>\n",
       "    </tr>\n",
       "  </tbody>\n",
       "</table>\n",
       "<p>5 rows × 84 columns</p>\n",
       "</div>"
      ],
      "text/plain": [
       "   TEMP_C_0_m  TEMP_C_250_m  TEMP_C_500_m  TEMP_C_750_m  TEMP_C_1000_m  \\\n",
       "0   -0.610768     -0.645662     -0.753968     -0.582651      -0.258674   \n",
       "1   -1.544597     -1.597331     -1.707733     -1.896648      -2.124362   \n",
       "2   -0.827267     -0.756607     -0.826003     -0.931763      -1.065001   \n",
       "3   -0.549342     -0.541780     -0.602278     -0.666170      -0.703255   \n",
       "4   -0.560459     -0.471010     -0.544565     -0.624629      -0.679935   \n",
       "\n",
       "   TEMP_C_1250_m  TEMP_C_1500_m  TEMP_C_1750_m  TEMP_C_2000_m  TEMP_C_2250_m  \\\n",
       "0      -0.092146       0.050314       0.260894       0.472282       0.603402   \n",
       "1      -2.190931      -2.248633      -2.259476      -2.219144      -2.151906   \n",
       "2      -1.215805      -1.357762      -1.434078      -1.474066      -1.492524   \n",
       "3      -0.736447      -0.753797      -0.779801      -0.851306      -0.922395   \n",
       "4      -0.722399      -0.751941      -0.798688      -0.869158      -0.914975   \n",
       "\n",
       "   ...  VGRD_m/s_2750_m  VGRD_m/s_3000_m  VGRD_m/s_3250_m  VGRD_m/s_3500_m  \\\n",
       "0  ...         0.870662         0.545611         0.331951         0.257136   \n",
       "1  ...        -1.266968        -1.265000        -1.290175        -1.337132   \n",
       "2  ...        -1.548890        -1.557793        -1.524601        -1.453846   \n",
       "3  ...         1.737469         1.822353         1.906544         1.976829   \n",
       "4  ...         1.717591         1.810358         1.896818         1.965159   \n",
       "\n",
       "   VGRD_m/s_3750_m  VGRD_m/s_4000_m  VGRD_m/s_4250_m  VGRD_m/s_4500_m  \\\n",
       "0         0.232856         0.212132         0.177195         0.136428   \n",
       "1        -1.415796        -1.526929        -1.708339        -1.940517   \n",
       "2        -1.379509        -1.342068        -1.353519        -1.399035   \n",
       "3         2.011894         2.002315         1.971815         1.916722   \n",
       "4         1.999938         1.990657         1.947149         1.883099   \n",
       "\n",
       "   VGRD_m/s_4750_m  VGRD_m/s_5000_m  \n",
       "0         0.096277         0.063459  \n",
       "1        -2.196968        -2.420509  \n",
       "2        -1.465413        -1.534068  \n",
       "3         1.831138         1.738343  \n",
       "4         1.806344         1.712216  \n",
       "\n",
       "[5 rows x 84 columns]"
      ]
     },
     "execution_count": 11,
     "metadata": {},
     "output_type": "execute_result"
    }
   ],
   "source": [
    "scaled_data[\"train_x\"].head()"
   ]
  },
  {
   "cell_type": "markdown",
   "id": "68becfce-8fe2-4756-aa4d-a7fc34d043dc",
   "metadata": {},
   "source": [
    "##### The precip types are turned into \"one-hots\""
   ]
  },
  {
   "cell_type": "code",
   "execution_count": 12,
   "id": "73d8c58f-e49a-4ab4-8fb0-af82e5eb8f51",
   "metadata": {},
   "outputs": [
    {
     "data": {
      "text/plain": [
       "array([[1., 0., 0., 0.],\n",
       "       [0., 1., 0., 0.],\n",
       "       [0., 1., 0., 0.],\n",
       "       ...,\n",
       "       [1., 0., 0., 0.],\n",
       "       [1., 0., 0., 0.],\n",
       "       [1., 0., 0., 0.]])"
      ]
     },
     "execution_count": 12,
     "metadata": {},
     "output_type": "execute_result"
    }
   ],
   "source": [
    "scaled_data[\"train_y\"]"
   ]
  },
  {
   "cell_type": "markdown",
   "id": "495d9106-1753-4908-ab8d-eb3a4f0ac2f6",
   "metadata": {},
   "source": [
    "### Load a model"
   ]
  },
  {
   "cell_type": "code",
   "execution_count": 13,
   "id": "da957c11-d43c-4699-ac06-e64a79c23d66",
   "metadata": {},
   "outputs": [
    {
     "name": "stdout",
     "output_type": "stream",
     "text": [
      "Model: \"sequential\"\n",
      "_________________________________________________________________\n",
      " Layer (type)                Output Shape              Param #   \n",
      "=================================================================\n",
      " dense (Dense)               (None, 100)               8500      \n",
      "                                                                 \n",
      " dense_1 (Dense)             (None, 100)               10100     \n",
      "                                                                 \n",
      " dense_2 (Dense)             (None, 4)                 404       \n",
      "                                                                 \n",
      "=================================================================\n",
      "Total params: 19,004\n",
      "Trainable params: 19,004\n",
      "Non-trainable params: 0\n",
      "_________________________________________________________________\n"
     ]
    },
    {
     "name": "stderr",
     "output_type": "stream",
     "text": [
      "2023-07-03 12:40:18.026889: E tensorflow/compiler/xla/stream_executor/cuda/cuda_driver.cc:266] failed call to cuInit: CUDA_ERROR_NO_DEVICE: no CUDA-capable device is detected\n"
     ]
    }
   ],
   "source": [
    "# Create a Sequential model\n",
    "model = Sequential()\n",
    "\n",
    "# Add input layer and first hidden layer\n",
    "model.add(Dense(units=100, activation='relu', input_shape=(len(input_features),)))\n",
    "\n",
    "# Add second hidden layer\n",
    "model.add(Dense(units=100, activation='relu'))\n",
    "\n",
    "# Add output layer\n",
    "model.add(Dense(units=len(output_features), activation='softmax'))\n",
    "\n",
    "# Compile the model\n",
    "model.compile(optimizer='adam', loss='categorical_crossentropy', metrics=['accuracy'])\n",
    "\n",
    "# Print a summary of the model\n",
    "model.summary()"
   ]
  },
  {
   "cell_type": "markdown",
   "id": "ba2f5377-1d92-4943-8d3c-60f884fbe662",
   "metadata": {},
   "source": [
    "### Train the model"
   ]
  },
  {
   "cell_type": "code",
   "execution_count": 14,
   "id": "c68e982d-e8be-4fd2-9716-b28c3e5c1499",
   "metadata": {},
   "outputs": [
    {
     "name": "stdout",
     "output_type": "stream",
     "text": [
      "Epoch 1/10\n",
      "5798/5798 [==============================] - 8s 1ms/step - loss: 0.2506 - accuracy: 0.9068 - val_loss: 0.2396 - val_accuracy: 0.9112\n",
      "Epoch 2/10\n",
      "5798/5798 [==============================] - 7s 1ms/step - loss: 0.2307 - accuracy: 0.9136 - val_loss: 0.2317 - val_accuracy: 0.9145\n",
      "Epoch 3/10\n",
      "5798/5798 [==============================] - 8s 1ms/step - loss: 0.2261 - accuracy: 0.9155 - val_loss: 0.2319 - val_accuracy: 0.9133\n",
      "Epoch 4/10\n",
      "5798/5798 [==============================] - 7s 1ms/step - loss: 0.2233 - accuracy: 0.9163 - val_loss: 0.2256 - val_accuracy: 0.9151\n",
      "Epoch 5/10\n",
      "5798/5798 [==============================] - 7s 1ms/step - loss: 0.2214 - accuracy: 0.9170 - val_loss: 0.2297 - val_accuracy: 0.9137\n",
      "Epoch 6/10\n",
      "5798/5798 [==============================] - 7s 1ms/step - loss: 0.2199 - accuracy: 0.9177 - val_loss: 0.2258 - val_accuracy: 0.9163\n",
      "Epoch 7/10\n",
      "5798/5798 [==============================] - 7s 1ms/step - loss: 0.2187 - accuracy: 0.9181 - val_loss: 0.2214 - val_accuracy: 0.9174\n",
      "Epoch 8/10\n",
      "5798/5798 [==============================] - 7s 1ms/step - loss: 0.2174 - accuracy: 0.9183 - val_loss: 0.2241 - val_accuracy: 0.9154\n",
      "Epoch 9/10\n",
      "5798/5798 [==============================] - 8s 1ms/step - loss: 0.2164 - accuracy: 0.9190 - val_loss: 0.2237 - val_accuracy: 0.9165\n",
      "Epoch 10/10\n",
      "5798/5798 [==============================] - 7s 1ms/step - loss: 0.2154 - accuracy: 0.9192 - val_loss: 0.2222 - val_accuracy: 0.9173\n"
     ]
    }
   ],
   "source": [
    "history = model.fit(\n",
    "    scaled_data[\"train_x\"], \n",
    "    scaled_data[\"train_y\"], \n",
    "    validation_data = (scaled_data[\"val_x\"], scaled_data[\"val_y\"]),\n",
    "    epochs = 10, \n",
    "    batch_size = 128\n",
    "    )"
   ]
  },
  {
   "cell_type": "markdown",
   "id": "f5b17ba2-7213-43ce-9154-09207b5dadf1",
   "metadata": {},
   "source": [
    "### Predict with the model"
   ]
  },
  {
   "cell_type": "code",
   "execution_count": 15,
   "id": "ac9d4a5c-6b76-4458-8a60-5a46811ff9bb",
   "metadata": {},
   "outputs": [
    {
     "name": "stdout",
     "output_type": "stream",
     "text": [
      "12397/12397 [==============================] - 8s 650us/step\n"
     ]
    }
   ],
   "source": [
    "y_test_pred = model.predict(scaled_data[\"test_x\"])"
   ]
  },
  {
   "cell_type": "code",
   "execution_count": 16,
   "id": "bbe1cef4-b0e1-4994-ab65-02a1d2eeecc4",
   "metadata": {},
   "outputs": [
    {
     "data": {
      "text/plain": [
       "dict_keys(['train', 'val', 'test'])"
      ]
     },
     "execution_count": 16,
     "metadata": {},
     "output_type": "execute_result"
    }
   ],
   "source": [
    "data.keys()"
   ]
  },
  {
   "cell_type": "code",
   "execution_count": 17,
   "id": "c42192fe-c1bd-49dd-b84b-9f3f3e506ad2",
   "metadata": {},
   "outputs": [
    {
     "name": "stdout",
     "output_type": "stream",
     "text": [
      "23189/23189 [==============================] - 15s 633us/step\n",
      "2418/2418 [==============================] - 2s 714us/step\n",
      "12397/12397 [==============================] - 8s 665us/step\n"
     ]
    }
   ],
   "source": [
    "for name in data.keys():\n",
    "    x = scaled_data[f\"{name}_x\"]\n",
    "    pred_probs = model.predict(x)\n",
    "    true_labels = np.argmax(data[name][output_features].to_numpy(), 1)\n",
    "    pred_labels = np.argmax(pred_probs, 1)\n",
    "    confidences = np.take_along_axis(pred_probs, pred_labels[:, None], axis=1)\n",
    "    data[name][\"true_label\"] = true_labels\n",
    "    data[name][\"pred_label\"] = pred_labels\n",
    "    data[name][\"pred_conf\"] = confidences\n",
    "    for k in range(pred_probs.shape[-1]):\n",
    "        data[name][f\"pred_conf{k+1}\"] = pred_probs[:, k]"
   ]
  },
  {
   "cell_type": "code",
   "execution_count": 18,
   "id": "09e7137d-7d38-4be8-a527-24790eec75ac",
   "metadata": {},
   "outputs": [
    {
     "data": {
      "text/plain": [
       "dict_keys(['train', 'val', 'test'])"
      ]
     },
     "execution_count": 18,
     "metadata": {},
     "output_type": "execute_result"
    }
   ],
   "source": [
    "data.keys()"
   ]
  },
  {
   "cell_type": "code",
   "execution_count": 19,
   "id": "689caeb8-b99b-4cc4-93aa-5b05d897eac9",
   "metadata": {},
   "outputs": [
    {
     "data": {
      "text/html": [
       "<div>\n",
       "<style scoped>\n",
       "    .dataframe tbody tr th:only-of-type {\n",
       "        vertical-align: middle;\n",
       "    }\n",
       "\n",
       "    .dataframe tbody tr th {\n",
       "        vertical-align: top;\n",
       "    }\n",
       "\n",
       "    .dataframe thead th {\n",
       "        text-align: right;\n",
       "    }\n",
       "</style>\n",
       "<table border=\"1\" class=\"dataframe\">\n",
       "  <thead>\n",
       "    <tr style=\"text-align: right;\">\n",
       "      <th></th>\n",
       "      <th>T_DEWPOINT_C_0_m</th>\n",
       "      <th>T_DEWPOINT_C_250_m</th>\n",
       "      <th>T_DEWPOINT_C_500_m</th>\n",
       "      <th>T_DEWPOINT_C_750_m</th>\n",
       "      <th>T_DEWPOINT_C_1000_m</th>\n",
       "      <th>T_DEWPOINT_C_1250_m</th>\n",
       "      <th>T_DEWPOINT_C_1500_m</th>\n",
       "      <th>T_DEWPOINT_C_1750_m</th>\n",
       "      <th>T_DEWPOINT_C_2000_m</th>\n",
       "      <th>T_DEWPOINT_C_2250_m</th>\n",
       "      <th>...</th>\n",
       "      <th>wetbulb10.0_filter</th>\n",
       "      <th>day</th>\n",
       "      <th>id</th>\n",
       "      <th>true_label</th>\n",
       "      <th>pred_label</th>\n",
       "      <th>pred_conf</th>\n",
       "      <th>pred_conf1</th>\n",
       "      <th>pred_conf2</th>\n",
       "      <th>pred_conf3</th>\n",
       "      <th>pred_conf4</th>\n",
       "    </tr>\n",
       "  </thead>\n",
       "  <tbody>\n",
       "    <tr>\n",
       "      <th>0</th>\n",
       "      <td>-1.655792</td>\n",
       "      <td>-2.835467</td>\n",
       "      <td>-4.163699</td>\n",
       "      <td>-6.138978</td>\n",
       "      <td>-0.488864</td>\n",
       "      <td>4.197807</td>\n",
       "      <td>5.157393</td>\n",
       "      <td>6.114103</td>\n",
       "      <td>6.829093</td>\n",
       "      <td>6.675503</td>\n",
       "      <td>...</td>\n",
       "      <td>0.0</td>\n",
       "      <td>2015-01-01</td>\n",
       "      <td>0</td>\n",
       "      <td>0</td>\n",
       "      <td>0</td>\n",
       "      <td>0.981150</td>\n",
       "      <td>0.981150</td>\n",
       "      <td>0.002792</td>\n",
       "      <td>0.009803</td>\n",
       "      <td>0.006255</td>\n",
       "    </tr>\n",
       "    <tr>\n",
       "      <th>1</th>\n",
       "      <td>-10.780792</td>\n",
       "      <td>-13.113944</td>\n",
       "      <td>-14.351792</td>\n",
       "      <td>-15.245550</td>\n",
       "      <td>-17.420716</td>\n",
       "      <td>-18.153632</td>\n",
       "      <td>-19.590563</td>\n",
       "      <td>-22.192989</td>\n",
       "      <td>-25.444098</td>\n",
       "      <td>-26.653295</td>\n",
       "      <td>...</td>\n",
       "      <td>0.0</td>\n",
       "      <td>2015-01-01</td>\n",
       "      <td>1</td>\n",
       "      <td>1</td>\n",
       "      <td>1</td>\n",
       "      <td>0.995807</td>\n",
       "      <td>0.000004</td>\n",
       "      <td>0.995807</td>\n",
       "      <td>0.003618</td>\n",
       "      <td>0.000571</td>\n",
       "    </tr>\n",
       "    <tr>\n",
       "      <th>2</th>\n",
       "      <td>-2.030670</td>\n",
       "      <td>-1.788266</td>\n",
       "      <td>-3.183992</td>\n",
       "      <td>-4.640100</td>\n",
       "      <td>-5.945332</td>\n",
       "      <td>-7.157136</td>\n",
       "      <td>-9.012771</td>\n",
       "      <td>-11.112327</td>\n",
       "      <td>-12.574477</td>\n",
       "      <td>-13.695213</td>\n",
       "      <td>...</td>\n",
       "      <td>0.0</td>\n",
       "      <td>2015-01-01</td>\n",
       "      <td>2</td>\n",
       "      <td>1</td>\n",
       "      <td>1</td>\n",
       "      <td>0.825522</td>\n",
       "      <td>0.088417</td>\n",
       "      <td>0.825522</td>\n",
       "      <td>0.074375</td>\n",
       "      <td>0.011687</td>\n",
       "    </tr>\n",
       "    <tr>\n",
       "      <th>3</th>\n",
       "      <td>2.594330</td>\n",
       "      <td>2.729686</td>\n",
       "      <td>1.102943</td>\n",
       "      <td>-0.012984</td>\n",
       "      <td>-0.898779</td>\n",
       "      <td>-1.810851</td>\n",
       "      <td>-2.654946</td>\n",
       "      <td>-3.688597</td>\n",
       "      <td>-5.361815</td>\n",
       "      <td>-7.732323</td>\n",
       "      <td>...</td>\n",
       "      <td>0.0</td>\n",
       "      <td>2015-01-01</td>\n",
       "      <td>3</td>\n",
       "      <td>0</td>\n",
       "      <td>0</td>\n",
       "      <td>0.998100</td>\n",
       "      <td>0.998100</td>\n",
       "      <td>0.000956</td>\n",
       "      <td>0.000681</td>\n",
       "      <td>0.000262</td>\n",
       "    </tr>\n",
       "    <tr>\n",
       "      <th>4</th>\n",
       "      <td>2.281830</td>\n",
       "      <td>3.372600</td>\n",
       "      <td>1.754350</td>\n",
       "      <td>0.367760</td>\n",
       "      <td>-0.655007</td>\n",
       "      <td>-1.669536</td>\n",
       "      <td>-2.636912</td>\n",
       "      <td>-3.866507</td>\n",
       "      <td>-5.746655</td>\n",
       "      <td>-8.543235</td>\n",
       "      <td>...</td>\n",
       "      <td>0.0</td>\n",
       "      <td>2015-01-01</td>\n",
       "      <td>4</td>\n",
       "      <td>0</td>\n",
       "      <td>0</td>\n",
       "      <td>0.999518</td>\n",
       "      <td>0.999518</td>\n",
       "      <td>0.000191</td>\n",
       "      <td>0.000208</td>\n",
       "      <td>0.000082</td>\n",
       "    </tr>\n",
       "    <tr>\n",
       "      <th>...</th>\n",
       "      <td>...</td>\n",
       "      <td>...</td>\n",
       "      <td>...</td>\n",
       "      <td>...</td>\n",
       "      <td>...</td>\n",
       "      <td>...</td>\n",
       "      <td>...</td>\n",
       "      <td>...</td>\n",
       "      <td>...</td>\n",
       "      <td>...</td>\n",
       "      <td>...</td>\n",
       "      <td>...</td>\n",
       "      <td>...</td>\n",
       "      <td>...</td>\n",
       "      <td>...</td>\n",
       "      <td>...</td>\n",
       "      <td>...</td>\n",
       "      <td>...</td>\n",
       "      <td>...</td>\n",
       "      <td>...</td>\n",
       "      <td>...</td>\n",
       "    </tr>\n",
       "    <tr>\n",
       "      <th>511</th>\n",
       "      <td>22.355713</td>\n",
       "      <td>19.939221</td>\n",
       "      <td>18.263760</td>\n",
       "      <td>17.644066</td>\n",
       "      <td>17.257119</td>\n",
       "      <td>15.980255</td>\n",
       "      <td>14.435517</td>\n",
       "      <td>12.933964</td>\n",
       "      <td>11.352652</td>\n",
       "      <td>9.657079</td>\n",
       "      <td>...</td>\n",
       "      <td>0.0</td>\n",
       "      <td>2020-06-30</td>\n",
       "      <td>828965</td>\n",
       "      <td>0</td>\n",
       "      <td>0</td>\n",
       "      <td>1.000000</td>\n",
       "      <td>1.000000</td>\n",
       "      <td>0.000000</td>\n",
       "      <td>0.000000</td>\n",
       "      <td>0.000000</td>\n",
       "    </tr>\n",
       "    <tr>\n",
       "      <th>512</th>\n",
       "      <td>24.355713</td>\n",
       "      <td>22.292971</td>\n",
       "      <td>20.973505</td>\n",
       "      <td>19.753882</td>\n",
       "      <td>18.361296</td>\n",
       "      <td>16.557658</td>\n",
       "      <td>14.473106</td>\n",
       "      <td>12.268299</td>\n",
       "      <td>9.885681</td>\n",
       "      <td>7.542626</td>\n",
       "      <td>...</td>\n",
       "      <td>0.0</td>\n",
       "      <td>2020-06-30</td>\n",
       "      <td>828966</td>\n",
       "      <td>0</td>\n",
       "      <td>0</td>\n",
       "      <td>1.000000</td>\n",
       "      <td>1.000000</td>\n",
       "      <td>0.000000</td>\n",
       "      <td>0.000000</td>\n",
       "      <td>0.000000</td>\n",
       "    </tr>\n",
       "    <tr>\n",
       "      <th>513</th>\n",
       "      <td>22.918213</td>\n",
       "      <td>20.517029</td>\n",
       "      <td>19.183006</td>\n",
       "      <td>17.972407</td>\n",
       "      <td>16.739151</td>\n",
       "      <td>15.556367</td>\n",
       "      <td>14.184449</td>\n",
       "      <td>12.222023</td>\n",
       "      <td>10.170108</td>\n",
       "      <td>8.155341</td>\n",
       "      <td>...</td>\n",
       "      <td>0.0</td>\n",
       "      <td>2020-06-30</td>\n",
       "      <td>828967</td>\n",
       "      <td>0</td>\n",
       "      <td>0</td>\n",
       "      <td>1.000000</td>\n",
       "      <td>1.000000</td>\n",
       "      <td>0.000000</td>\n",
       "      <td>0.000000</td>\n",
       "      <td>0.000000</td>\n",
       "    </tr>\n",
       "    <tr>\n",
       "      <th>514</th>\n",
       "      <td>22.168213</td>\n",
       "      <td>22.504768</td>\n",
       "      <td>22.017449</td>\n",
       "      <td>20.706415</td>\n",
       "      <td>19.185599</td>\n",
       "      <td>17.520299</td>\n",
       "      <td>15.760816</td>\n",
       "      <td>14.175641</td>\n",
       "      <td>12.689844</td>\n",
       "      <td>11.025948</td>\n",
       "      <td>...</td>\n",
       "      <td>0.0</td>\n",
       "      <td>2020-06-30</td>\n",
       "      <td>828968</td>\n",
       "      <td>0</td>\n",
       "      <td>0</td>\n",
       "      <td>1.000000</td>\n",
       "      <td>1.000000</td>\n",
       "      <td>0.000000</td>\n",
       "      <td>0.000000</td>\n",
       "      <td>0.000000</td>\n",
       "    </tr>\n",
       "    <tr>\n",
       "      <th>515</th>\n",
       "      <td>18.730713</td>\n",
       "      <td>16.891715</td>\n",
       "      <td>15.039986</td>\n",
       "      <td>13.659314</td>\n",
       "      <td>12.265297</td>\n",
       "      <td>10.482552</td>\n",
       "      <td>8.358908</td>\n",
       "      <td>6.874058</td>\n",
       "      <td>5.597042</td>\n",
       "      <td>4.295661</td>\n",
       "      <td>...</td>\n",
       "      <td>0.0</td>\n",
       "      <td>2020-06-30</td>\n",
       "      <td>828969</td>\n",
       "      <td>0</td>\n",
       "      <td>0</td>\n",
       "      <td>1.000000</td>\n",
       "      <td>1.000000</td>\n",
       "      <td>0.000000</td>\n",
       "      <td>0.000000</td>\n",
       "      <td>0.000000</td>\n",
       "    </tr>\n",
       "  </tbody>\n",
       "</table>\n",
       "<p>742045 rows × 460 columns</p>\n",
       "</div>"
      ],
      "text/plain": [
       "     T_DEWPOINT_C_0_m  T_DEWPOINT_C_250_m  T_DEWPOINT_C_500_m  \\\n",
       "0           -1.655792           -2.835467           -4.163699   \n",
       "1          -10.780792          -13.113944          -14.351792   \n",
       "2           -2.030670           -1.788266           -3.183992   \n",
       "3            2.594330            2.729686            1.102943   \n",
       "4            2.281830            3.372600            1.754350   \n",
       "..                ...                 ...                 ...   \n",
       "511         22.355713           19.939221           18.263760   \n",
       "512         24.355713           22.292971           20.973505   \n",
       "513         22.918213           20.517029           19.183006   \n",
       "514         22.168213           22.504768           22.017449   \n",
       "515         18.730713           16.891715           15.039986   \n",
       "\n",
       "     T_DEWPOINT_C_750_m  T_DEWPOINT_C_1000_m  T_DEWPOINT_C_1250_m  \\\n",
       "0             -6.138978            -0.488864             4.197807   \n",
       "1            -15.245550           -17.420716           -18.153632   \n",
       "2             -4.640100            -5.945332            -7.157136   \n",
       "3             -0.012984            -0.898779            -1.810851   \n",
       "4              0.367760            -0.655007            -1.669536   \n",
       "..                  ...                  ...                  ...   \n",
       "511           17.644066            17.257119            15.980255   \n",
       "512           19.753882            18.361296            16.557658   \n",
       "513           17.972407            16.739151            15.556367   \n",
       "514           20.706415            19.185599            17.520299   \n",
       "515           13.659314            12.265297            10.482552   \n",
       "\n",
       "     T_DEWPOINT_C_1500_m  T_DEWPOINT_C_1750_m  T_DEWPOINT_C_2000_m  \\\n",
       "0               5.157393             6.114103             6.829093   \n",
       "1             -19.590563           -22.192989           -25.444098   \n",
       "2              -9.012771           -11.112327           -12.574477   \n",
       "3              -2.654946            -3.688597            -5.361815   \n",
       "4              -2.636912            -3.866507            -5.746655   \n",
       "..                   ...                  ...                  ...   \n",
       "511            14.435517            12.933964            11.352652   \n",
       "512            14.473106            12.268299             9.885681   \n",
       "513            14.184449            12.222023            10.170108   \n",
       "514            15.760816            14.175641            12.689844   \n",
       "515             8.358908             6.874058             5.597042   \n",
       "\n",
       "     T_DEWPOINT_C_2250_m  ...  wetbulb10.0_filter         day      id  \\\n",
       "0               6.675503  ...                 0.0  2015-01-01       0   \n",
       "1             -26.653295  ...                 0.0  2015-01-01       1   \n",
       "2             -13.695213  ...                 0.0  2015-01-01       2   \n",
       "3              -7.732323  ...                 0.0  2015-01-01       3   \n",
       "4              -8.543235  ...                 0.0  2015-01-01       4   \n",
       "..                   ...  ...                 ...         ...     ...   \n",
       "511             9.657079  ...                 0.0  2020-06-30  828965   \n",
       "512             7.542626  ...                 0.0  2020-06-30  828966   \n",
       "513             8.155341  ...                 0.0  2020-06-30  828967   \n",
       "514            11.025948  ...                 0.0  2020-06-30  828968   \n",
       "515             4.295661  ...                 0.0  2020-06-30  828969   \n",
       "\n",
       "     true_label  pred_label  pred_conf  pred_conf1  pred_conf2  pred_conf3  \\\n",
       "0             0           0   0.981150    0.981150    0.002792    0.009803   \n",
       "1             1           1   0.995807    0.000004    0.995807    0.003618   \n",
       "2             1           1   0.825522    0.088417    0.825522    0.074375   \n",
       "3             0           0   0.998100    0.998100    0.000956    0.000681   \n",
       "4             0           0   0.999518    0.999518    0.000191    0.000208   \n",
       "..          ...         ...        ...         ...         ...         ...   \n",
       "511           0           0   1.000000    1.000000    0.000000    0.000000   \n",
       "512           0           0   1.000000    1.000000    0.000000    0.000000   \n",
       "513           0           0   1.000000    1.000000    0.000000    0.000000   \n",
       "514           0           0   1.000000    1.000000    0.000000    0.000000   \n",
       "515           0           0   1.000000    1.000000    0.000000    0.000000   \n",
       "\n",
       "     pred_conf4  \n",
       "0      0.006255  \n",
       "1      0.000571  \n",
       "2      0.011687  \n",
       "3      0.000262  \n",
       "4      0.000082  \n",
       "..          ...  \n",
       "511    0.000000  \n",
       "512    0.000000  \n",
       "513    0.000000  \n",
       "514    0.000000  \n",
       "515    0.000000  \n",
       "\n",
       "[742045 rows x 460 columns]"
      ]
     },
     "execution_count": 19,
     "metadata": {},
     "output_type": "execute_result"
    }
   ],
   "source": [
    "data['train']"
   ]
  },
  {
   "cell_type": "markdown",
   "id": "1a814361-c628-42bb-8bc0-608a18998b52",
   "metadata": {},
   "source": [
    "## Let's make some plots"
   ]
  },
  {
   "cell_type": "code",
   "execution_count": 20,
   "id": "51c6e647-1982-41d2-b9f7-fd683930e58e",
   "metadata": {},
   "outputs": [],
   "source": [
    "import matplotlib.pyplot as plt\n",
    "from sklearn.metrics import confusion_matrix\n",
    "import seaborn as sns\n",
    "import string\n",
    "\n",
    "from ptype.plotting import plot_confusion_matrix"
   ]
  },
  {
   "cell_type": "markdown",
   "id": "1a2c622f-0d10-4308-8f07-c00c6714bd6e",
   "metadata": {},
   "source": [
    "Plotting a confusion matrix:"
   ]
  },
  {
   "cell_type": "code",
   "execution_count": 21,
   "id": "b29a3afe-497c-4b47-b9e1-f314c379936c",
   "metadata": {},
   "outputs": [
    {
     "data": {
      "image/png": "[encoded data removed]",
      "text/plain": [
       "<Figure size 1000x350 with 6 Axes>"
      ]
     },
     "metadata": {},
     "output_type": "display_data"
    }
   ],
   "source": [
    "classes = [\"Rain\", \"Snow\", \"Sleet\", \"Frz Rain\"]\n",
    "plot_confusion_matrix(data, classes, normalize='true')"
   ]
  },
  {
   "cell_type": "code",
   "execution_count": 22,
   "id": "a56828ac-d3d1-4f6d-9889-52cdf1906025",
   "metadata": {},
   "outputs": [],
   "source": [
    "from ptype.reliability import compute_calibration, reliability_diagrams\n",
    "from collections import OrderedDict"
   ]
  },
  {
   "cell_type": "code",
   "execution_count": 23,
   "id": "107598d0-6a5a-42b0-8f01-e3a449f08bf0",
   "metadata": {},
   "outputs": [
    {
     "data": {
      "image/png": "[encoded data removed]",
      "text/plain": [
       "<Figure size 800x800 with 4 Axes>"
      ]
     },
     "metadata": {},
     "output_type": "display_data"
    }
   ],
   "source": [
    "results = OrderedDict()\n",
    "for label in range(len(output_features)):\n",
    "    cond = data[name][\"true_label\"] == label\n",
    "    results[output_features[label]] = {\n",
    "        \"true_labels\": data[name][cond][\"true_label\"].values,\n",
    "        \"pred_labels\": data[name][cond][\"pred_label\"].values,\n",
    "        \"confidences\": data[name][cond][\"pred_conf\"].values,\n",
    "    }\n",
    "    results_calibration = compute_calibration(\n",
    "        results[output_features[label]][\"true_labels\"],\n",
    "        results[output_features[label]][\"pred_labels\"],\n",
    "        results[output_features[label]][\"confidences\"],\n",
    "        num_bins=10,\n",
    "    )\n",
    "\n",
    "_ = reliability_diagrams(\n",
    "    results,\n",
    "    num_bins=10,\n",
    "    draw_bin_importance=\"alpha\",\n",
    "    num_cols=2,\n",
    "    dpi=100,\n",
    "    return_fig=True,\n",
    ")"
   ]
  },
  {
   "cell_type": "markdown",
   "id": "8b03303c-aa9d-4340-b7e0-4d89ef25c151",
   "metadata": {},
   "source": [
    "The end!"
   ]
  }
 ],
 "metadata": {
  "kernelspec": {
   "display_name": "Python [conda env:.conda-ptype2]",
   "language": "python",
   "name": "conda-env-.conda-ptype2-py"
  },
  "language_info": {
   "codemirror_mode": {
    "name": "ipython",
    "version": 3
   },
   "file_extension": ".py",
   "mimetype": "text/x-python",
   "name": "python",
   "nbconvert_exporter": "python",
   "pygments_lexer": "ipython3",
   "version": "3.10.12"
  }
 },
 "nbformat": 4,
 "nbformat_minor": 5
}
