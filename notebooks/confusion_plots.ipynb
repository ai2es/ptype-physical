{
 "cells": [
  {
   "cell_type": "code",
   "execution_count": 1,
   "id": "608ca6fd-f04c-4d7e-88dc-9917e7d95ae9",
   "metadata": {},
   "outputs": [
    {
     "name": "stderr",
     "output_type": "stream",
     "text": [
      "2023-05-30 14:12:37.374555: I tensorflow/core/util/port.cc:110] oneDNN custom operations are on. You may see slightly different numerical results due to floating-point round-off errors from different computation orders. To turn them off, set the environment variable `TF_ENABLE_ONEDNN_OPTS=0`.\n",
      "2023-05-30 14:12:39.277025: I tensorflow/core/platform/cpu_feature_guard.cc:182] This TensorFlow binary is optimized to use available CPU instructions in performance-critical operations.\n",
      "To enable the following instructions: AVX2 AVX512F AVX512_VNNI FMA, in other operations, rebuild TensorFlow with the appropriate compiler flags.\n",
      "2023-05-30 14:12:41.515238: W tensorflow/compiler/tf2tensorrt/utils/py_utils.cc:38] TF-TRT Warning: Could not find TensorRT\n"
     ]
    }
   ],
   "source": [
    "import numpy as np\n",
    "import xarray as xr\n",
    "import pandas as pd\n",
    "import matplotlib.pyplot as plt\n",
    "\n",
    "from utils import plot_confusion_matrix"
   ]
  },
  {
   "cell_type": "code",
   "execution_count": null,
   "id": "16d52024-c554-4aa7-8391-e465c7c59e13",
   "metadata": {},
   "outputs": [],
   "source": [
    "rap = xr.open_mfdataset(\"/glade/u/home/dkimpara/analysis/rap/20221217/0000/*.nc\", concat_dim='time', combine='nested')"
   ]
  },
  {
   "cell_type": "code",
   "execution_count": null,
   "id": "464f891a-2b6d-497f-93f7-7f306e08f536",
   "metadata": {},
   "outputs": [],
   "source": [
    "# create dewpoint from relative humidity since RAP doesn't natively carry dewpoint\n",
    "rap['dpt'] = dewpoint_from_relative_humidity(rap['t'] * units.degC,\n",
    "                                             rap['r'].values / 100)"
   ]
  },
  {
   "cell_type": "code",
   "execution_count": null,
   "id": "06ab4b07-5b5c-456c-b779-ac6539d2384d",
   "metadata": {},
   "outputs": [],
   "source": [
    "rap"
   ]
  },
  {
   "cell_type": "code",
   "execution_count": null,
   "id": "bd99eecf-d6bc-499d-aa68-3e98ca7f4a49",
   "metadata": {},
   "outputs": [],
   "source": [
    "ptypes = ['rain', 'snow', 'icep', 'frzr']\n",
    "\n",
    "preds = rap.ML_crain + rap.ML_csnow * 2 + rap.ML_cicep * 3 + rap.ML_cfzrn * 4\n",
    "rap_lbls = rap.crain + rap.csnow * 2 + rap.cicep * 3 + rap.cfrzr * 4"
   ]
  },
  {
   "cell_type": "code",
   "execution_count": null,
   "id": "ca2249e3-b497-436f-8acc-da24245d5e67",
   "metadata": {},
   "outputs": [],
   "source": [
    "plot_confusion_matrix()"
   ]
  },
  {
   "cell_type": "code",
   "execution_count": null,
   "id": "e38e6225-fab3-4252-8389-0233f8ec65b3",
   "metadata": {},
   "outputs": [],
   "source": []
  }
 ],
 "metadata": {
  "kernelspec": {
   "display_name": "Python [conda env:ptype]",
   "language": "python",
   "name": "conda-env-ptype-py"
  },
  "language_info": {
   "codemirror_mode": {
    "name": "ipython",
    "version": 3
   },
   "file_extension": ".py",
   "mimetype": "text/x-python",
   "name": "python",
   "nbconvert_exporter": "python",
   "pygments_lexer": "ipython3",
   "version": "3.10.11"
  }
 },
 "nbformat": 4,
 "nbformat_minor": 5
}
