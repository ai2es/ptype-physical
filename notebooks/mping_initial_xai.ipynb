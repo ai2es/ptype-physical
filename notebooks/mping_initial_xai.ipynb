{
 "cells": [
  {
   "cell_type": "markdown",
   "id": "ff45a6be-de66-4055-9af7-89c19e622fac",
   "metadata": {
    "jp-MarkdownHeadingCollapsed": true,
    "tags": []
   },
   "source": [
    "# **mPING MLP Modeling**"
   ]
  },
  {
   "cell_type": "markdown",
   "id": "9dff6b25-93ce-488b-a31f-9fdeec7da2c6",
   "metadata": {},
   "source": [
    "Baseline modeling for mPING data."
   ]
  },
  {
   "cell_type": "code",
   "execution_count": 1,
   "id": "83eaf595-3729-4c2e-b18d-2e6726b9ea53",
   "metadata": {},
   "outputs": [],
   "source": [
    "import yaml, glob\n",
    "import pandas as pd\n",
    "from sklearn.model_selection import train_test_split, GroupShuffleSplit\n",
    "from sklearn.preprocessing import StandardScaler\n",
    "import tqdm\n",
    "import numpy as np\n",
    "import tensorflow as tf\n",
    "import matplotlib.pyplot as plt\n",
    "import matplotlib.lines as mlines\n",
    "from matplotlib import cm\n",
    "from sklearn.metrics import confusion_matrix\n",
    "from sklearn.utils.multiclass import unique_labels\n",
    "from sklearn.metrics import accuracy_score\n",
    "import utils"
   ]
  },
  {
   "cell_type": "markdown",
   "id": "54d567a4-2dbe-44fd-9472-0ea431e810d1",
   "metadata": {
    "tags": []
   },
   "source": [
    "## Data Loading"
   ]
  },
  {
   "cell_type": "code",
   "execution_count": 3,
   "id": "b8bfcb1d-c9f7-461b-8399-0c7b2179a97b",
   "metadata": {},
   "outputs": [],
   "source": [
    "# Load config file\n",
    "config = \"config.yml\"\n",
    "with open(config) as f:\n",
    "    conf = yaml.load(f, Loader=yaml.FullLoader)"
   ]
  },
  {
   "cell_type": "code",
   "execution_count": 4,
   "id": "365a95e6-3f10-454a-93ca-886aa0f15f8f",
   "metadata": {},
   "outputs": [],
   "source": [
    "# Define input and output features\n",
    "input_cols = conf[\"tempvars\"] + conf[\"tempdewvars\"] + conf[\"u-Wvars\"] + conf[\"v-Wvars\"]\n",
    "output_cols = conf[\"outputvars\"]"
   ]
  },
  {
   "cell_type": "code",
   "execution_count": 5,
   "id": "aac85d2a-f584-4455-ba79-f8da0ed64204",
   "metadata": {},
   "outputs": [],
   "source": [
    "arr = sorted(glob.glob(conf['mping_path']+'*'))"
   ]
  },
  {
   "cell_type": "code",
   "execution_count": 6,
   "id": "58f01cff-d22c-4bf0-afe8-6d2d86baeeb9",
   "metadata": {},
   "outputs": [
    {
     "name": "stderr",
     "output_type": "stream",
     "text": [
      "100%|██████████| 2499/2499 [03:03<00:00, 13.61it/s]\n"
     ]
    }
   ],
   "source": [
    "df = pd.concat([pd.read_parquet(x) for x in tqdm.tqdm(arr)])"
   ]
  },
  {
   "cell_type": "code",
   "execution_count": 7,
   "id": "6e38e5ea-0053-4cbe-8db1-80a8073b47e4",
   "metadata": {},
   "outputs": [],
   "source": [
    "df = df[df[\"datetime\"] < \"2018-01-01 00:00:00\"]"
   ]
  },
  {
   "cell_type": "markdown",
   "id": "f149907f-fa42-4f25-ba09-6e90c5a19b36",
   "metadata": {
    "tags": []
   },
   "source": [
    "## Preprocessing"
   ]
  },
  {
   "cell_type": "code",
   "execution_count": 8,
   "id": "3fdea4f6-5e9b-4264-81fd-7b01961b7ca1",
   "metadata": {},
   "outputs": [],
   "source": [
    "df['day'] = df['datetime'].apply(lambda x: str(x).split(' ')[0])"
   ]
  },
  {
   "cell_type": "code",
   "execution_count": 9,
   "id": "2390cc28-3a70-4c40-b397-91745ed55f45",
   "metadata": {},
   "outputs": [],
   "source": [
    "splitter = GroupShuffleSplit(n_splits=1, train_size=0.9)"
   ]
  },
  {
   "cell_type": "code",
   "execution_count": 10,
   "id": "d5a9dc57-f0ab-40fd-92a5-1f330e1a30c2",
   "metadata": {},
   "outputs": [],
   "source": [
    "train_idx, test_idx = list(splitter.split(df, groups=df['day']))[0]\n",
    "train_data, tesDewata = df.iloc[train_idx], df.iloc[test_idx]"
   ]
  },
  {
   "cell_type": "code",
   "execution_count": 11,
   "id": "39441b5c-1557-4c30-986e-342f5876a03c",
   "metadata": {},
   "outputs": [],
   "source": [
    "splitter = GroupShuffleSplit(n_splits=1, train_size=0.885, random_state=123)\n",
    "train_idx, valid_idx = list(splitter.split(train_data, groups=train_data['day']))[0]\n",
    "train_data, valid_data = train_data.iloc[train_idx], train_data.iloc[valid_idx]"
   ]
  },
  {
   "cell_type": "code",
   "execution_count": 12,
   "id": "e6c48017-ce26-419c-bc30-042d12dec017",
   "metadata": {},
   "outputs": [
    {
     "data": {
      "text/plain": [
       "((479423, 408), (65197, 408), (64020, 408))"
      ]
     },
     "execution_count": 12,
     "metadata": {},
     "output_type": "execute_result"
    }
   ],
   "source": [
    "train_data.shape, valid_data.shape, tesDewata.shape"
   ]
  },
  {
   "cell_type": "code",
   "execution_count": 13,
   "id": "cdfb70d8-60c4-4692-a94b-cc77ca2cfbfe",
   "metadata": {},
   "outputs": [],
   "source": [
    "scaler_x = StandardScaler()"
   ]
  },
  {
   "cell_type": "code",
   "execution_count": 14,
   "id": "888c831b-a179-455e-9154-5e22b6d7c460",
   "metadata": {},
   "outputs": [],
   "source": [
    "x_train = scaler_x.fit_transform(train_data[input_cols])"
   ]
  },
  {
   "cell_type": "code",
   "execution_count": 15,
   "id": "cf296186-f61a-4548-9461-e3983eaec42a",
   "metadata": {},
   "outputs": [],
   "source": [
    "x_valid = scaler_x.transform(valid_data[input_cols])"
   ]
  },
  {
   "cell_type": "code",
   "execution_count": 16,
   "id": "70de67da-a92b-4156-b636-0c3b6f591246",
   "metadata": {},
   "outputs": [],
   "source": [
    "x_test = scaler_x.transform(tesDewata[input_cols])"
   ]
  },
  {
   "cell_type": "code",
   "execution_count": 17,
   "id": "b58a0429-0160-4a35-8ca5-c5f9577897e7",
   "metadata": {},
   "outputs": [],
   "source": [
    "def one_hot(x):\n",
    "    a = np.zeros(len(output_cols))\n",
    "    a[x] = 1\n",
    "    return a"
   ]
  },
  {
   "cell_type": "code",
   "execution_count": 18,
   "id": "2908eaaf-b7d7-44ea-a4e8-2876c808186a",
   "metadata": {},
   "outputs": [
    {
     "data": {
      "text/html": [
       "<div>\n",
       "<style scoped>\n",
       "    .dataframe tbody tr th:only-of-type {\n",
       "        vertical-align: middle;\n",
       "    }\n",
       "\n",
       "    .dataframe tbody tr th {\n",
       "        vertical-align: top;\n",
       "    }\n",
       "\n",
       "    .dataframe thead th {\n",
       "        text-align: right;\n",
       "    }\n",
       "</style>\n",
       "<table border=\"1\" class=\"dataframe\">\n",
       "  <thead>\n",
       "    <tr style=\"text-align: right;\">\n",
       "      <th></th>\n",
       "      <th>datetime</th>\n",
       "      <th>lat</th>\n",
       "      <th>lon</th>\n",
       "      <th>report_count</th>\n",
       "      <th>ra_percent</th>\n",
       "      <th>sn_percent</th>\n",
       "      <th>pl_percent</th>\n",
       "      <th>fzra_percent</th>\n",
       "      <th>CFRZR_-</th>\n",
       "      <th>CICEP_-</th>\n",
       "      <th>...</th>\n",
       "      <th>VVEL_800_Pa/s</th>\n",
       "      <th>VVEL_825_Pa/s</th>\n",
       "      <th>VVEL_850_Pa/s</th>\n",
       "      <th>VVEL_875_Pa/s</th>\n",
       "      <th>VVEL_900_Pa/s</th>\n",
       "      <th>VVEL_925_Pa/s</th>\n",
       "      <th>VVEL_950_Pa/s</th>\n",
       "      <th>VVEL_975_Pa/s</th>\n",
       "      <th>idx</th>\n",
       "      <th>day</th>\n",
       "    </tr>\n",
       "  </thead>\n",
       "  <tbody>\n",
       "    <tr>\n",
       "      <th>334</th>\n",
       "      <td>2017-12-14 22:00:00</td>\n",
       "      <td>45.969285</td>\n",
       "      <td>267.930893</td>\n",
       "      <td>1</td>\n",
       "      <td>0.0</td>\n",
       "      <td>1.0</td>\n",
       "      <td>0.0</td>\n",
       "      <td>0.0</td>\n",
       "      <td>0.0</td>\n",
       "      <td>0.0</td>\n",
       "      <td>...</td>\n",
       "      <td>-0.094975</td>\n",
       "      <td>-0.067076</td>\n",
       "      <td>-0.081439</td>\n",
       "      <td>-0.10336</td>\n",
       "      <td>-0.130231</td>\n",
       "      <td>-0.139097</td>\n",
       "      <td>-0.092818</td>\n",
       "      <td>-0.033102</td>\n",
       "      <td>[220, 264]</td>\n",
       "      <td>2017-12-14</td>\n",
       "    </tr>\n",
       "    <tr>\n",
       "      <th>335</th>\n",
       "      <td>2017-12-14 23:00:00</td>\n",
       "      <td>27.846280</td>\n",
       "      <td>262.659994</td>\n",
       "      <td>1</td>\n",
       "      <td>1.0</td>\n",
       "      <td>0.0</td>\n",
       "      <td>0.0</td>\n",
       "      <td>0.0</td>\n",
       "      <td>0.0</td>\n",
       "      <td>0.0</td>\n",
       "      <td>...</td>\n",
       "      <td>0.365627</td>\n",
       "      <td>0.255048</td>\n",
       "      <td>0.142489</td>\n",
       "      <td>0.07869</td>\n",
       "      <td>0.032754</td>\n",
       "      <td>0.017822</td>\n",
       "      <td>0.020921</td>\n",
       "      <td>-0.001769</td>\n",
       "      <td>[67, 229]</td>\n",
       "      <td>2017-12-14</td>\n",
       "    </tr>\n",
       "    <tr>\n",
       "      <th>336</th>\n",
       "      <td>2017-12-14 23:00:00</td>\n",
       "      <td>41.042332</td>\n",
       "      <td>264.689214</td>\n",
       "      <td>1</td>\n",
       "      <td>0.0</td>\n",
       "      <td>1.0</td>\n",
       "      <td>0.0</td>\n",
       "      <td>0.0</td>\n",
       "      <td>0.0</td>\n",
       "      <td>0.0</td>\n",
       "      <td>...</td>\n",
       "      <td>0.303127</td>\n",
       "      <td>0.317548</td>\n",
       "      <td>0.298739</td>\n",
       "      <td>0.26619</td>\n",
       "      <td>0.251504</td>\n",
       "      <td>0.142822</td>\n",
       "      <td>0.083421</td>\n",
       "      <td>0.029481</td>\n",
       "      <td>[177, 244]</td>\n",
       "      <td>2017-12-14</td>\n",
       "    </tr>\n",
       "    <tr>\n",
       "      <th>337</th>\n",
       "      <td>2017-12-14 23:00:00</td>\n",
       "      <td>41.042534</td>\n",
       "      <td>264.844119</td>\n",
       "      <td>1</td>\n",
       "      <td>0.0</td>\n",
       "      <td>1.0</td>\n",
       "      <td>0.0</td>\n",
       "      <td>0.0</td>\n",
       "      <td>0.0</td>\n",
       "      <td>0.0</td>\n",
       "      <td>...</td>\n",
       "      <td>0.271877</td>\n",
       "      <td>0.255048</td>\n",
       "      <td>0.267489</td>\n",
       "      <td>0.23494</td>\n",
       "      <td>0.220254</td>\n",
       "      <td>0.142822</td>\n",
       "      <td>0.083421</td>\n",
       "      <td>0.029481</td>\n",
       "      <td>[177, 245]</td>\n",
       "      <td>2017-12-14</td>\n",
       "    </tr>\n",
       "    <tr>\n",
       "      <th>338</th>\n",
       "      <td>2017-12-14 23:00:00</td>\n",
       "      <td>42.890922</td>\n",
       "      <td>274.473069</td>\n",
       "      <td>1</td>\n",
       "      <td>0.0</td>\n",
       "      <td>1.0</td>\n",
       "      <td>0.0</td>\n",
       "      <td>0.0</td>\n",
       "      <td>0.0</td>\n",
       "      <td>0.0</td>\n",
       "      <td>...</td>\n",
       "      <td>0.053127</td>\n",
       "      <td>0.067548</td>\n",
       "      <td>0.079989</td>\n",
       "      <td>0.04744</td>\n",
       "      <td>0.001504</td>\n",
       "      <td>0.017822</td>\n",
       "      <td>-0.010329</td>\n",
       "      <td>-0.033019</td>\n",
       "      <td>[195, 306]</td>\n",
       "      <td>2017-12-14</td>\n",
       "    </tr>\n",
       "  </tbody>\n",
       "</table>\n",
       "<p>5 rows × 408 columns</p>\n",
       "</div>"
      ],
      "text/plain": [
       "               datetime        lat         lon  report_count  ra_percent  \\\n",
       "334 2017-12-14 22:00:00  45.969285  267.930893             1         0.0   \n",
       "335 2017-12-14 23:00:00  27.846280  262.659994             1         1.0   \n",
       "336 2017-12-14 23:00:00  41.042332  264.689214             1         0.0   \n",
       "337 2017-12-14 23:00:00  41.042534  264.844119             1         0.0   \n",
       "338 2017-12-14 23:00:00  42.890922  274.473069             1         0.0   \n",
       "\n",
       "     sn_percent  pl_percent  fzra_percent  CFRZR_-  CICEP_-  ...  \\\n",
       "334         1.0         0.0           0.0      0.0      0.0  ...   \n",
       "335         0.0         0.0           0.0      0.0      0.0  ...   \n",
       "336         1.0         0.0           0.0      0.0      0.0  ...   \n",
       "337         1.0         0.0           0.0      0.0      0.0  ...   \n",
       "338         1.0         0.0           0.0      0.0      0.0  ...   \n",
       "\n",
       "     VVEL_800_Pa/s  VVEL_825_Pa/s  VVEL_850_Pa/s  VVEL_875_Pa/s  \\\n",
       "334      -0.094975      -0.067076      -0.081439       -0.10336   \n",
       "335       0.365627       0.255048       0.142489        0.07869   \n",
       "336       0.303127       0.317548       0.298739        0.26619   \n",
       "337       0.271877       0.255048       0.267489        0.23494   \n",
       "338       0.053127       0.067548       0.079989        0.04744   \n",
       "\n",
       "     VVEL_900_Pa/s  VVEL_925_Pa/s  VVEL_950_Pa/s  VVEL_975_Pa/s         idx  \\\n",
       "334      -0.130231      -0.139097      -0.092818      -0.033102  [220, 264]   \n",
       "335       0.032754       0.017822       0.020921      -0.001769   [67, 229]   \n",
       "336       0.251504       0.142822       0.083421       0.029481  [177, 244]   \n",
       "337       0.220254       0.142822       0.083421       0.029481  [177, 245]   \n",
       "338       0.001504       0.017822      -0.010329      -0.033019  [195, 306]   \n",
       "\n",
       "            day  \n",
       "334  2017-12-14  \n",
       "335  2017-12-14  \n",
       "336  2017-12-14  \n",
       "337  2017-12-14  \n",
       "338  2017-12-14  \n",
       "\n",
       "[5 rows x 408 columns]"
      ]
     },
     "execution_count": 18,
     "metadata": {},
     "output_type": "execute_result"
    }
   ],
   "source": [
    "tesDewata.tail()"
   ]
  },
  {
   "cell_type": "code",
   "execution_count": 19,
   "id": "00e4911a-c9c7-47c0-964a-cce1f6c0cd07",
   "metadata": {},
   "outputs": [],
   "source": [
    "train_data['label'] = train_data[output_cols].idxmax(axis=1).apply(lambda x: one_hot(output_cols.index(x)))\n",
    "y_train = train_data['label'].to_numpy()\n",
    "y_train = np.vstack(y_train)"
   ]
  },
  {
   "cell_type": "code",
   "execution_count": 20,
   "id": "53e2564f-e708-4fe7-b89f-e0c8d6f6d841",
   "metadata": {},
   "outputs": [],
   "source": [
    "valid_data['label'] = valid_data[output_cols].idxmax(axis=1).apply(lambda x: one_hot(output_cols.index(x)))\n",
    "y_valid = valid_data['label'].to_numpy()\n",
    "y_valid = np.vstack(y_valid)"
   ]
  },
  {
   "cell_type": "code",
   "execution_count": 21,
   "id": "fd3f2f5e-d523-4219-9975-43829c72e891",
   "metadata": {},
   "outputs": [
    {
     "name": "stderr",
     "output_type": "stream",
     "text": [
      "/glade/work/eliotk/conda-envs/pyenv/lib/python3.7/site-packages/ipykernel_launcher.py:1: SettingWithCopyWarning: \n",
      "A value is trying to be set on a copy of a slice from a DataFrame.\n",
      "Try using .loc[row_indexer,col_indexer] = value instead\n",
      "\n",
      "See the caveats in the documentation: https://pandas.pydata.org/pandas-docs/stable/user_guide/indexing.html#returning-a-view-versus-a-copy\n",
      "  \"\"\"Entry point for launching an IPython kernel.\n"
     ]
    }
   ],
   "source": [
    "tesDewata['label'] = tesDewata[output_cols].idxmax(axis=1).apply(lambda x: one_hot(output_cols.index(x)))\n",
    "y_test = tesDewata['label'].to_numpy()\n",
    "y_test = np.vstack(y_test)"
   ]
  },
  {
   "cell_type": "markdown",
   "id": "45544375-1c7c-4afd-a0ef-7978e9f9d6c7",
   "metadata": {
    "jp-MarkdownHeadingCollapsed": true,
    "tags": []
   },
   "source": [
    "## Model Training"
   ]
  },
  {
   "cell_type": "code",
   "execution_count": 22,
   "id": "04b252d9-3ed4-45e4-9003-59de2a4394f4",
   "metadata": {},
   "outputs": [],
   "source": [
    "# Set batch size\n",
    "batch_size = conf[\"batch_size\"]"
   ]
  },
  {
   "cell_type": "code",
   "execution_count": 23,
   "id": "bfd75804-7f82-4091-9258-2ccdc0f423b8",
   "metadata": {},
   "outputs": [],
   "source": [
    "def build_model(input_size, hidden_size, output_size):\n",
    "    model = tf.keras.models.Sequential(\n",
    "        [tf.keras.layers.Dense(input_size, activation='relu'),\n",
    "        tf.keras.layers.Dense(hidden_size, activation='relu'),\n",
    "        tf.keras.layers.Dense(output_size, activation='softmax')]\n",
    "    )\n",
    "    return model"
   ]
  },
  {
   "cell_type": "code",
   "execution_count": 24,
   "id": "0b098abb-0561-44d9-98c5-27df55d3b346",
   "metadata": {},
   "outputs": [
    {
     "name": "stdout",
     "output_type": "stream",
     "text": [
      "Model: \"sequential\"\n",
      "_________________________________________________________________\n",
      " Layer (type)                Output Shape              Param #   \n",
      "=================================================================\n",
      " dense (Dense)               (4096, 268)               72092     \n",
      "                                                                 \n",
      " dense_1 (Dense)             (4096, 100)               26900     \n",
      "                                                                 \n",
      " dense_2 (Dense)             (4096, 4)                 404       \n",
      "                                                                 \n",
      "=================================================================\n",
      "Total params: 99,396\n",
      "Trainable params: 99,396\n",
      "Non-trainable params: 0\n",
      "_________________________________________________________________\n"
     ]
    },
    {
     "name": "stderr",
     "output_type": "stream",
     "text": [
      "2022-06-24 11:59:22.787063: I tensorflow/core/platform/cpu_feature_guard.cc:151] This TensorFlow binary is optimized with oneAPI Deep Neural Network Library (oneDNN) to use the following CPU instructions in performance-critical operations:  SSE4.1 SSE4.2 AVX AVX2 AVX512F FMA\n",
      "To enable them in other operations, rebuild TensorFlow with the appropriate compiler flags.\n"
     ]
    }
   ],
   "source": [
    "model = build_model(len(input_cols), 100, len(output_cols))\n",
    "model.build((batch_size, len(input_cols)))\n",
    "model.summary()"
   ]
  },
  {
   "cell_type": "code",
   "execution_count": 25,
   "id": "3bdc0bfb-2848-474b-84f8-ac865dac0475",
   "metadata": {
    "tags": []
   },
   "outputs": [],
   "source": [
    "learning_rate = 0.001\n",
    "optimizer = tf.keras.optimizers.Adam(learning_rate)\n",
    "loss = tf.keras.losses.CategoricalCrossentropy()\n",
    "model.compile(loss=loss, optimizer=optimizer, metrics='acc', run_eagerly=True) "
   ]
  },
  {
   "cell_type": "code",
   "execution_count": 26,
   "id": "4fb02776-bf2e-428b-9b30-5f9f88d118c7",
   "metadata": {},
   "outputs": [
    {
     "name": "stdout",
     "output_type": "stream",
     "text": [
      "Epoch 1/25\n",
      "118/118 [==============================] - 5s 39ms/step - loss: 0.4297 - acc: 0.8464 - val_loss: 0.3748 - val_acc: 0.8647\n",
      "Epoch 2/25\n",
      "118/118 [==============================] - 4s 38ms/step - loss: 0.3545 - acc: 0.8729 - val_loss: 0.3624 - val_acc: 0.8674\n",
      "Epoch 3/25\n",
      "118/118 [==============================] - 4s 37ms/step - loss: 0.3389 - acc: 0.8789 - val_loss: 0.3501 - val_acc: 0.8704\n",
      "Epoch 4/25\n",
      "118/118 [==============================] - 4s 37ms/step - loss: 0.3301 - acc: 0.8817 - val_loss: 0.3468 - val_acc: 0.8728\n",
      "Epoch 5/25\n",
      "118/118 [==============================] - 4s 37ms/step - loss: 0.3236 - acc: 0.8846 - val_loss: 0.3325 - val_acc: 0.8772\n",
      "Epoch 6/25\n",
      "118/118 [==============================] - 4s 37ms/step - loss: 0.3177 - acc: 0.8867 - val_loss: 0.3395 - val_acc: 0.8768\n",
      "Epoch 7/25\n",
      "118/118 [==============================] - 4s 37ms/step - loss: 0.3138 - acc: 0.8881 - val_loss: 0.3421 - val_acc: 0.8764\n",
      "Epoch 8/25\n",
      "118/118 [==============================] - 4s 37ms/step - loss: 0.3097 - acc: 0.8897 - val_loss: 0.3373 - val_acc: 0.8755\n",
      "Epoch 9/25\n",
      "118/118 [==============================] - 5s 39ms/step - loss: 0.3082 - acc: 0.8902 - val_loss: 0.3448 - val_acc: 0.8739\n",
      "Epoch 10/25\n",
      "118/118 [==============================] - 5s 39ms/step - loss: 0.3039 - acc: 0.8917 - val_loss: 0.3206 - val_acc: 0.8834\n",
      "Epoch 11/25\n",
      "118/118 [==============================] - 4s 38ms/step - loss: 0.3008 - acc: 0.8928 - val_loss: 0.3333 - val_acc: 0.8781\n",
      "Epoch 12/25\n",
      "118/118 [==============================] - 5s 40ms/step - loss: 0.2991 - acc: 0.8936 - val_loss: 0.3280 - val_acc: 0.8791\n",
      "Epoch 13/25\n",
      "118/118 [==============================] - 4s 38ms/step - loss: 0.2964 - acc: 0.8944 - val_loss: 0.3288 - val_acc: 0.8795\n",
      "Epoch 14/25\n",
      "118/118 [==============================] - 4s 37ms/step - loss: 0.2942 - acc: 0.8953 - val_loss: 0.3696 - val_acc: 0.8701\n",
      "Epoch 15/25\n",
      "118/118 [==============================] - 4s 37ms/step - loss: 0.2944 - acc: 0.8948 - val_loss: 0.3402 - val_acc: 0.8773\n",
      "Epoch 16/25\n",
      "118/118 [==============================] - 5s 38ms/step - loss: 0.2907 - acc: 0.8961 - val_loss: 0.3278 - val_acc: 0.8805\n",
      "Epoch 17/25\n",
      "118/118 [==============================] - 4s 38ms/step - loss: 0.2887 - acc: 0.8974 - val_loss: 0.3313 - val_acc: 0.8795\n",
      "Epoch 18/25\n",
      "118/118 [==============================] - 4s 37ms/step - loss: 0.2872 - acc: 0.8978 - val_loss: 0.3339 - val_acc: 0.8799\n",
      "Epoch 19/25\n",
      "118/118 [==============================] - 4s 37ms/step - loss: 0.2858 - acc: 0.8983 - val_loss: 0.3378 - val_acc: 0.8767\n",
      "Epoch 20/25\n",
      "118/118 [==============================] - 4s 36ms/step - loss: 0.2862 - acc: 0.8981 - val_loss: 0.3318 - val_acc: 0.8793\n",
      "Epoch 21/25\n",
      "118/118 [==============================] - 4s 36ms/step - loss: 0.2831 - acc: 0.8990 - val_loss: 0.3510 - val_acc: 0.8728\n",
      "Epoch 22/25\n",
      "118/118 [==============================] - 4s 37ms/step - loss: 0.2830 - acc: 0.8993 - val_loss: 0.3312 - val_acc: 0.8788\n",
      "Epoch 23/25\n",
      "118/118 [==============================] - 4s 36ms/step - loss: 0.2816 - acc: 0.8999 - val_loss: 0.3436 - val_acc: 0.8770\n",
      "Epoch 24/25\n",
      "118/118 [==============================] - 4s 35ms/step - loss: 0.2807 - acc: 0.8999 - val_loss: 0.3330 - val_acc: 0.8791\n",
      "Epoch 25/25\n",
      "118/118 [==============================] - 4s 35ms/step - loss: 0.2794 - acc: 0.9005 - val_loss: 0.3381 - val_acc: 0.8792\n"
     ]
    }
   ],
   "source": [
    "history = model.fit(x_train, y_train, validation_data=(x_valid, y_valid), batch_size=batch_size, shuffle=True, epochs=25) "
   ]
  },
  {
   "cell_type": "markdown",
   "id": "2388cdae-7acb-4a9d-bfae-89f519b8173b",
   "metadata": {
    "tags": []
   },
   "source": [
    "## Model Evaluation"
   ]
  },
  {
   "cell_type": "code",
   "execution_count": 108,
   "id": "58d72da4-2282-4a1e-8048-03d3a39dd043",
   "metadata": {},
   "outputs": [],
   "source": [
    "y_pred_onehot = model.predict(x_test)"
   ]
  },
  {
   "cell_type": "code",
   "execution_count": 109,
   "id": "4bfac1ea-b91c-4f5b-bd66-32c0df3c5696",
   "metadata": {},
   "outputs": [],
   "source": [
    "y_pred_train_onehot = model.predict(x_train)"
   ]
  },
  {
   "cell_type": "code",
   "execution_count": 110,
   "id": "4687ad71-e96c-4403-bdf9-3513ebe92a73",
   "metadata": {},
   "outputs": [],
   "source": [
    "# Converting one-hot labels to categorical labels\n",
    "y_pred_labels = np.argmax(y_pred_onehot, axis=1)\n",
    "y_test_labels = np.argmax(y_test, axis=1)"
   ]
  },
  {
   "cell_type": "code",
   "execution_count": 111,
   "id": "acf22d3d-a736-4781-9881-db4117df9ebc",
   "metadata": {},
   "outputs": [],
   "source": [
    "y_pred_train_labels = np.argmax(y_pred_train_onehot, axis=1)\n",
    "y_train_labels = np.argmax(y_train, axis=1)"
   ]
  },
  {
   "cell_type": "code",
   "execution_count": 112,
   "id": "3d5672c1-fc18-44ca-953d-56191559dd39",
   "metadata": {},
   "outputs": [
    {
     "data": {
      "text/plain": [
       "0.8728956091507324"
      ]
     },
     "execution_count": 112,
     "metadata": {},
     "output_type": "execute_result"
    }
   ],
   "source": [
    "accuracy_score(y_test_labels, y_pred_labels)"
   ]
  },
  {
   "cell_type": "code",
   "execution_count": 113,
   "id": "ab6bb61e-18df-465b-b31f-a23ea9461240",
   "metadata": {},
   "outputs": [
    {
     "data": {
      "text/plain": [
       "0.8994572320371481"
      ]
     },
     "execution_count": 113,
     "metadata": {},
     "output_type": "execute_result"
    }
   ],
   "source": [
    "accuracy_score(y_train_labels, y_pred_train_labels)"
   ]
  },
  {
   "cell_type": "code",
   "execution_count": 114,
   "id": "f1089492-4941-42a2-9959-72ab1c618476",
   "metadata": {},
   "outputs": [
    {
     "name": "stdout",
     "output_type": "stream",
     "text": [
      "Confusion matrix, without normalization\n",
      "[[37438  1057   308   112]\n",
      " [ 1290 14905   450    77]\n",
      " [ 1049  1550   825   116]\n",
      " [  851   598   326   289]]\n",
      "Normalized confusion matrix\n",
      "[[0.96 0.03 0.01 0.  ]\n",
      " [0.08 0.89 0.03 0.  ]\n",
      " [0.3  0.44 0.23 0.03]\n",
      " [0.41 0.29 0.16 0.14]]\n"
     ]
    },
    {
     "data": {
      "image/png": "[encoded data removed]",
      "text/plain": [
       "<Figure size 432x288 with 2 Axes>"
      ]
     },
     "metadata": {
      "needs_background": "light"
     },
     "output_type": "display_data"
    },
    {
     "data": {
      "image/png": "[encoded data removed]",
      "text/plain": [
       "<Figure size 432x288 with 2 Axes>"
      ]
     },
     "metadata": {
      "needs_background": "light"
     },
     "output_type": "display_data"
    }
   ],
   "source": [
    "np.set_printoptions(precision=2)\n",
    "# class_names = [str(x) for x in sorted(set(y_test_labels))]\n",
    "class_names = [\"ra\", \"sn\", \"pl\", \"fzra\"]\n",
    "\n",
    "# Plot non-normalized confusion matrix\n",
    "utils.plot_confusion_matrix(y_test_labels, y_pred_labels, classes=class_names,\n",
    "                      title='mPING MLP Confusion Matrix')\n",
    "\n",
    "# Plot normalized confusion matrix\n",
    "utils.plot_confusion_matrix(y_test_labels, y_pred_labels, classes=class_names, normalize=True,\n",
    "                      title='mPING MLP Normalized Confusion Matrix')\n",
    "\n",
    "plt.show()"
   ]
  },
  {
   "cell_type": "code",
   "execution_count": 115,
   "id": "dd3ceb0d-a14f-4380-bad2-9479359b04b6",
   "metadata": {},
   "outputs": [
    {
     "data": {
      "text/plain": [
       "<matplotlib.legend.Legend at 0x2b7e78dca610>"
      ]
     },
     "execution_count": 115,
     "metadata": {},
     "output_type": "execute_result"
    },
    {
     "data": {
      "image/png": "[encoded data removed]",
      "text/plain": [
       "<Figure size 432x288 with 1 Axes>"
      ]
     },
     "metadata": {
      "needs_background": "light"
     },
     "output_type": "display_data"
    }
   ],
   "source": [
    "plt.plot(history.history[\"acc\"])\n",
    "plt.plot(history.history[\"val_acc\"])\n",
    "plt.xlabel(\"Accuracy\", fontsize=12)\n",
    "plt.ylabel(\"Epochs\", fontsize=12)\n",
    "plt.title(\"mPING MLP Accuracy\", fontsize=15) \n",
    "plt.legend([\"Train Accuracy\", \"Validation Accuracy\"])"
   ]
  },
  {
   "cell_type": "code",
   "execution_count": 116,
   "id": "bfd591d9-1e60-4f96-887e-47abe96f681e",
   "metadata": {},
   "outputs": [
    {
     "data": {
      "text/plain": [
       "<matplotlib.legend.Legend at 0x2b7ecc9de2d0>"
      ]
     },
     "execution_count": 116,
     "metadata": {},
     "output_type": "execute_result"
    },
    {
     "data": {
      "image/png": "[encoded data removed]",
      "text/plain": [
       "<Figure size 432x288 with 1 Axes>"
      ]
     },
     "metadata": {
      "needs_background": "light"
     },
     "output_type": "display_data"
    }
   ],
   "source": [
    "plt.plot(history.history[\"loss\"])\n",
    "plt.plot(history.history[\"val_loss\"])\n",
    "plt.xlabel(\"Loss\", fontsize=12)\n",
    "plt.ylabel(\"Epochs\", fontsize=12)\n",
    "plt.title(\"mPING MLP Loss\", fontsize=15) \n",
    "plt.legend([\"Train Loss\", \"Validation Loss\"])"
   ]
  },
  {
   "cell_type": "code",
   "execution_count": 27,
   "id": "0a06fb52-a6da-4d47-a468-f219f94a56f0",
   "metadata": {},
   "outputs": [
    {
     "name": "stderr",
     "output_type": "stream",
     "text": [
      "2022-06-24 13:25:39.937688: W tensorflow/python/util/util.cc:368] Sets are not currently considered sequences, but this may change in the future, so consider avoiding using them.\n"
     ]
    },
    {
     "name": "stdout",
     "output_type": "stream",
     "text": [
      "INFO:tensorflow:Assets written to: /glade/work/eliotk/modeling/mping_rand3_mlp/assets\n"
     ]
    }
   ],
   "source": [
    "model.save(\"/glade/work/eliotk/modeling/mping_rand3_mlp\")"
   ]
  },
  {
   "cell_type": "code",
   "execution_count": 118,
   "id": "804ee659-1910-4773-aac5-c0439ad33058",
   "metadata": {},
   "outputs": [],
   "source": [
    "np.save(\"/glade/work/eliotk/modeling/mping_rand2_x_train\", x_train)"
   ]
  },
  {
   "cell_type": "code",
   "execution_count": 119,
   "id": "5d832539-9a08-47c4-8af4-633ecbc402c0",
   "metadata": {},
   "outputs": [],
   "source": [
    "np.save(\"/glade/work/eliotk/modeling/mping_rand2_y_train\", y_train)"
   ]
  },
  {
   "cell_type": "code",
   "execution_count": 120,
   "id": "3458d241-b5dd-4b05-bdd2-08da157799f7",
   "metadata": {},
   "outputs": [],
   "source": [
    "np.save(\"/glade/work/eliotk/modeling/mping_rand2_x_train\", x_valid)"
   ]
  },
  {
   "cell_type": "code",
   "execution_count": 121,
   "id": "76167f9e-31ce-435b-80d7-5c279f589157",
   "metadata": {},
   "outputs": [],
   "source": [
    "np.save(\"/glade/work/eliotk/modeling/mping_rand2_y_train\", y_valid)"
   ]
  },
  {
   "cell_type": "code",
   "execution_count": 122,
   "id": "cf753fcb-151a-4a28-afc4-91e4093ec6ac",
   "metadata": {},
   "outputs": [],
   "source": [
    "np.save(\"/glade/work/eliotk/modeling/mping_rand2_x_test\", x_test)"
   ]
  },
  {
   "cell_type": "code",
   "execution_count": 123,
   "id": "88a2896e-6c75-4de2-abf7-1873822f118b",
   "metadata": {},
   "outputs": [],
   "source": [
    "np.save(\"/glade/work/eliotk/modeling/mping_rand2_y_test\", y_test)"
   ]
  },
  {
   "cell_type": "markdown",
   "id": "acc6cee5-58e1-4118-9bc8-b1a70f82453b",
   "metadata": {
    "tags": []
   },
   "source": [
    "# **XAI: Permutation Importance**"
   ]
  },
  {
   "cell_type": "markdown",
   "id": "5bb652ff-9aaf-408f-abd0-478d4dfc5476",
   "metadata": {
    "tags": []
   },
   "source": [
    "## Backwards Singlepass Permutation Importance"
   ]
  },
  {
   "cell_type": "markdown",
   "id": "cac9d3b8-693e-4ed6-85a6-50262fae19e3",
   "metadata": {
    "tags": []
   },
   "source": [
    "### Set-Up"
   ]
  },
  {
   "cell_type": "code",
   "execution_count": 2,
   "id": "fec74859-dedb-4a93-9682-c3c602dee774",
   "metadata": {},
   "outputs": [],
   "source": [
    "from PermutationImportance import permutation_importance\n",
    "from sklearn.metrics import accuracy_score"
   ]
  },
  {
   "cell_type": "code",
   "execution_count": 3,
   "id": "c9df7d9f-10a9-435e-82a4-f26fac7f1682",
   "metadata": {},
   "outputs": [
    {
     "name": "stderr",
     "output_type": "stream",
     "text": [
      "2022-07-06 11:50:31.338181: W tensorflow/stream_executor/platform/default/dso_loader.cc:64] Could not load dynamic library 'libcudnn.so.8'; dlerror: libcudnn.so.8: cannot open shared object file: No such file or directory; LD_LIBRARY_PATH: /glade/u/apps/dav/opt/cuda/11.4.0/extras/CUPTI/lib64:/glade/u/apps/dav/opt/cuda/11.4.0/lib64:/glade/u/apps/dav/opt/openmpi/4.1.1/intel/19.1.1/lib:/glade/u/apps/dav/opt/ucx/1.11.0/lib:/glade/u/apps/opt/intel/2020u1/compilers_and_libraries/linux/lib/intel64\n",
      "2022-07-06 11:50:31.338218: W tensorflow/core/common_runtime/gpu/gpu_device.cc:1850] Cannot dlopen some GPU libraries. Please make sure the missing libraries mentioned above are installed properly if you would like to use GPU. Follow the guide at https://www.tensorflow.org/install/gpu for how to download and setup the required libraries for your platform.\n",
      "Skipping registering GPU devices...\n",
      "2022-07-06 11:50:31.338800: I tensorflow/core/platform/cpu_feature_guard.cc:193] This TensorFlow binary is optimized with oneAPI Deep Neural Network Library (oneDNN) to use the following CPU instructions in performance-critical operations:  AVX2 AVX512F FMA\n",
      "To enable them in other operations, rebuild TensorFlow with the appropriate compiler flags.\n"
     ]
    }
   ],
   "source": [
    "x_train = np.load(\"/glade/work/eliotk/modeling/mping_x_train.npy\")\n",
    "y_train = np.load(\"/glade/work/eliotk/modeling/mping_y_train.npy\")\n",
    "x_test = np.load(\"/glade/work/eliotk/modeling/mping_x_test.npy\")\n",
    "y_test = np.load(\"/glade/work/eliotk/modeling/mping_y_test.npy\")\n",
    "model = tf.keras.models.load_model('/glade/work/eliotk/modeling/mping_initial_mlp')"
   ]
  },
  {
   "cell_type": "code",
   "execution_count": 4,
   "id": "992a6026-8bc7-45e4-8050-e8ad836f4ac1",
   "metadata": {
    "tags": []
   },
   "outputs": [],
   "source": [
    "i = 0\n",
    "def score_model(training_data, scoring_data):\n",
    "    \"\"\"Custom function to use for scoring. Notice that we are using a global\n",
    "    model here, rather than just reassemble the model each time\n",
    "\n",
    "    :param training_data: should be ignored for permutation importance\n",
    "    :param scoring_data: (scoring_inputs, scoring_outputs)\n",
    "    \"\"\"\n",
    "    global i\n",
    "    scoring_ins, scoring_outs = scoring_data\n",
    "    pred = np.argmax(model.predict(scoring_ins), axis=1)\n",
    "    acc = accuracy_score(np.argmax(scoring_outs, axis=1), pred)\n",
    "    # print(f\"iter {i}, prop pl {sum(pred == 1) / len(pred)}, acc {acc}\")\n",
    "    i = i + 1\n",
    "    return acc"
   ]
  },
  {
   "cell_type": "code",
   "execution_count": 169,
   "id": "2ba03664-b52d-423f-afe5-b41fabafd949",
   "metadata": {},
   "outputs": [],
   "source": [
    "scoring_data = (x_train, y_train)"
   ]
  },
  {
   "cell_type": "code",
   "execution_count": null,
   "id": "3ab69111-fd47-458e-89b0-dbf2c3a7c0a3",
   "metadata": {
    "tags": []
   },
   "outputs": [],
   "source": [
    "result = permutation_importance(scoring_data, score_model, 'min', variable_names=input_cols, nimportant_vars=1)"
   ]
  },
  {
   "cell_type": "code",
   "execution_count": 171,
   "id": "92de6d42-80b9-4653-bf2f-6f7a350a0fb1",
   "metadata": {
    "tags": []
   },
   "outputs": [],
   "source": [
    "singlepass = result.retrieve_singlepass()"
   ]
  },
  {
   "cell_type": "code",
   "execution_count": 172,
   "id": "2ffb4124-2440-4472-9889-00c6ceab002c",
   "metadata": {},
   "outputs": [],
   "source": [
    "temp = pd.DataFrame(singlepass).transpose()\n",
    "temp.columns = [\"Rank\", \"Accuracy\"]\n",
    "temp.to_csv(\"permimp_results/perm_imp_full_single_corrected.csv\")"
   ]
  },
  {
   "cell_type": "markdown",
   "id": "76c95130-79ec-4dcf-94b1-fa5ce786f57a",
   "metadata": {
    "tags": []
   },
   "source": [
    "### Evaluation"
   ]
  },
  {
   "cell_type": "code",
   "execution_count": 103,
   "id": "db6ec2fa-60e1-44d3-886e-9eae18424915",
   "metadata": {},
   "outputs": [],
   "source": [
    "singlepass_results = pd.read_csv(\"permimp_results/perm_imp_full_single_corrected.csv\", index_col=0)"
   ]
  },
  {
   "cell_type": "code",
   "execution_count": 104,
   "id": "7e2a9fd5-d4de-4870-8809-7a5a44691404",
   "metadata": {},
   "outputs": [],
   "source": [
    "dict_names = dict(zip([\"TEMP C\", \"u-W m/s\", \"v-W m/s\", \"T DEWPOINT C\"], [\"Temp\", \"Dewpoint\", \"u-Wind\", \"v-Wind\"]))"
   ]
  },
  {
   "cell_type": "code",
   "execution_count": 105,
   "id": "833dded1-a4a2-4828-a77f-fee188632d52",
   "metadata": {},
   "outputs": [],
   "source": [
    "singlepass_results.index = singlepass_results.index.str.replace(\"_\", \" \")"
   ]
  },
  {
   "cell_type": "code",
   "execution_count": 106,
   "id": "e2e7575f-b7ca-4c14-a986-a29deb0dac01",
   "metadata": {},
   "outputs": [],
   "source": [
    "def readable_varnames(s):\n",
    "    segs = s.split(\"_\")\n",
    "    lst = [s.replace(k, v) for k, v in dict_names.items() if k in s]\n",
    "    return lst[0]"
   ]
  },
  {
   "cell_type": "code",
   "execution_count": 107,
   "id": "24c2417c-f875-4c74-8cc5-0cfd01c74a1b",
   "metadata": {},
   "outputs": [],
   "source": [
    "singlepass_results.index = singlepass_results.index.map(readable_varnames)"
   ]
  },
  {
   "cell_type": "code",
   "execution_count": 108,
   "id": "fe62d305-7bbe-4159-b253-8ceafd9e9e34",
   "metadata": {},
   "outputs": [],
   "source": [
    "colors = {\"Tem\":\"teal\", \"Dew\":\"paleturquoise\", \"u-W\":\"maroon\", \"v-W\":\"indianred\"}"
   ]
  },
  {
   "cell_type": "code",
   "execution_count": 109,
   "id": "bcaad86c-5189-44a8-ac59-8829df1b5602",
   "metadata": {},
   "outputs": [],
   "source": [
    "color_values = [\"teal\", \"paleturquoise\", \"maroon\", \"indianred\"]"
   ]
  },
  {
   "cell_type": "code",
   "execution_count": 110,
   "id": "380ad796-e997-46df-9bbb-ecb54dfbb111",
   "metadata": {
    "tags": []
   },
   "outputs": [],
   "source": [
    "bar_colors = [colors[i] for i in [var[:3] for var in singlepass_results.index]]"
   ]
  },
  {
   "cell_type": "code",
   "execution_count": 111,
   "id": "8a1cda5d-7917-44bf-842b-cab6c9e0771a",
   "metadata": {},
   "outputs": [],
   "source": [
    "m = 10\n",
    "temp_hand = mlines.Line2D([], [], color=color_values[0], marker='o', linestyle=\"None\", label=\"Temp\", markersize=m)\n",
    "dewtemp_hand = mlines.Line2D([], [], color=color_values[1], marker='o', linestyle=\"None\", label=\"Dewpoint Temp\", markersize=m)\n",
    "u-W_hand = mlines.Line2D([], [], color=color_values[2], marker='o', linestyle=\"None\", label=\"u-Wind\", markersize=m)\n",
    "v-W_hand = mlines.Line2D([], [], color=color_values[3], marker='o', linestyle=\"None\", label=\"v-Wind\", markersize=m)"
   ]
  },
  {
   "cell_type": "code",
   "execution_count": 112,
   "id": "9fe2d3b1-d53d-45e6-a46d-5eef156023ed",
   "metadata": {},
   "outputs": [
    {
     "data": {
      "image/png": "[encoded data removed]",
      "text/plain": [
       "<Figure size 576x576 with 1 Axes>"
      ]
     },
     "metadata": {
      "needs_background": "light"
     },
     "output_type": "display_data"
    }
   ],
   "source": [
    "plt.figure(figsize=(8, 8))\n",
    "plt.barh(singlepass_results.index[19::-1], singlepass_results.iloc[:, 1][19::-1], color=bar_colors[19::-1])\n",
    "plt.yticks(fontsize=12)\n",
    "plt.xlim(0.80, 0.95)\n",
    "plt.margins(y=0.02)\n",
    "plt.axvline(x=0.9042, color=\"purple\")\n",
    "plt.xlabel(\"P-Type Prediction Accuracy\", fontsize=12)\n",
    "plt.title(\"Top 20 Greatest Accuracy Reductions\", fontsize=20)\n",
    "plt.legend(handles=[temp_hand, dewtemp_hand, u-W_hand, v-W_hand], loc=\"lower right\")\n",
    "plt.savefig(\"permimp_visualizations/perm_imp_full_single.png\", dpi=300, bbox_inches=\"tight\")"
   ]
  },
  {
   "cell_type": "code",
   "execution_count": 116,
   "id": "6683446d-a8b4-44b0-ac9b-00122d3a649f",
   "metadata": {},
   "outputs": [],
   "source": [
    "temp_imp = np.array([singlepass_results.loc[var] for var in singlepass_results.index if \"Tem\" in var])\n",
    "dewtemp_imp = np.array([singlepass_results.loc[var] for var in singlepass_results.index if \"Dew\" in var])\n",
    "u-W_imp = np.array([singlepass_results.loc[var] for var in singlepass_results.index if \"u-W\" in var])\n",
    "v-W_imp = np.array([singlepass_results.loc[var] for var in singlepass_results.index if \"v-W\" in var])"
   ]
  },
  {
   "cell_type": "code",
   "execution_count": 122,
   "id": "e0663472-f6f3-4669-9996-79c83a13dca8",
   "metadata": {},
   "outputs": [
    {
     "data": {
      "text/plain": [
       "(array([0.90140532, 0.89853056, 0.89464586, 0.89421423, 0.89225302,\n",
       "        0.89177948, 0.89130594, 0.89081983, 0.88884396, 0.85958509,\n",
       "        0.83653042]),\n",
       " 'teal')"
      ]
     },
     "execution_count": 122,
     "metadata": {},
     "output_type": "execute_result"
    }
   ],
   "source": [
    "temp_imp[:, 1][10::-1], color_values[0]"
   ]
  },
  {
   "cell_type": "code",
   "execution_count": 123,
   "id": "e81b3eec-dee4-4e49-9c6b-12f1bfbcf54d",
   "metadata": {},
   "outputs": [
    {
     "data": {
      "image/png": "[encoded data removed]",
      "text/plain": [
       "<Figure size 432x288 with 1 Axes>"
      ]
     },
     "metadata": {
      "needs_background": "light"
     },
     "output_type": "display_data"
    }
   ],
   "source": [
    "plt.xlim(0.80, 0.95)\n",
    "plt.barh(singlepass_results[[\"Tem\" in var for var in singlepass_results.index]].index[10::-1], \n",
    "         temp_imp[:, 1][10::-1], color=color_values[0])\n",
    "plt.axvline(x=0.9042, color=\"purple\")\n",
    "plt.title(\"Temp Variables: Greatest Accuracy Reductions\")\n",
    "plt.xlabel(\"Accuracy\")\n",
    "plt.savefig(\"permimp_visualizations/perm_imp_full_single_temp.png\", dpi=300, bbox_inches=\"tight\")"
   ]
  },
  {
   "cell_type": "code",
   "execution_count": 124,
   "id": "4ac9aecb-d4da-4a87-813c-3b559f61d5a1",
   "metadata": {},
   "outputs": [
    {
     "data": {
      "image/png": "[encoded data removed]",
      "text/plain": [
       "<Figure size 432x288 with 1 Axes>"
      ]
     },
     "metadata": {
      "needs_background": "light"
     },
     "output_type": "display_data"
    }
   ],
   "source": [
    "plt.xlim(0.80, 0.95)\n",
    "plt.barh(singlepass_results[[\"Dew\" in var for var in singlepass_results.index]].index[10::-1], \n",
    "         dewtemp_imp[:, 1][10::-1], color=color_values[1])\n",
    "plt.title(\"Dewpoint Temp Variables: Greatest Accuracy Reductions\")\n",
    "plt.axvline(x=0.9042, color=\"purple\")\n",
    "plt.xlabel(\"Accuracy\")\n",
    "plt.savefig(\"permimp_visualizations/perm_imp_dewtemp_single.png\", dpi=300, bbox_inches=\"tight\")"
   ]
  },
  {
   "cell_type": "code",
   "execution_count": 127,
   "id": "e6894548-a139-4d20-83a1-4cdf6b3f183e",
   "metadata": {},
   "outputs": [
    {
     "data": {
      "image/png": "[encoded data removed]",
      "text/plain": [
       "<Figure size 432x288 with 1 Axes>"
      ]
     },
     "metadata": {
      "needs_background": "light"
     },
     "output_type": "display_data"
    }
   ],
   "source": [
    "plt.xlim(0.80, 0.95)\n",
    "plt.barh(singlepass_results[[\"u-W\" in var for var in singlepass_results.index]].index[10::-1], \n",
    "         ugrd_imp[:, 1][10::-1], color=color_values[2])\n",
    "plt.title(\"u-Wind Variables: Greatest Accuracy Reductions\")\n",
    "plt.axvline(x=0.9042, color=\"purple\")\n",
    "plt.xlabel(\"Accuracy\")\n",
    "plt.savefig(\"permimp_visualizations/perm_imp_ugrd_single.png\", dpi=300, bbox_inches=\"tight\")"
   ]
  },
  {
   "cell_type": "code",
   "execution_count": 128,
   "id": "02e75d7b-d164-4c1f-b46f-64876f8a1251",
   "metadata": {},
   "outputs": [
    {
     "data": {
      "image/png": "[encoded data removed]",
      "text/plain": [
       "<Figure size 432x288 with 1 Axes>"
      ]
     },
     "metadata": {
      "needs_background": "light"
     },
     "output_type": "display_data"
    }
   ],
   "source": [
    "plt.xlim(0.80, 0.95)\n",
    "plt.barh(singlepass_results[[\"v-W\" in var for var in singlepass_results.index]].index[10::-1], \n",
    "         vgrd_imp[:, 1][10::-1], color=color_values[3])\n",
    "plt.title(\"v-Wind Variables: Greatest Accuracy Reductions\")\n",
    "plt.axvline(x=0.9042, color=\"purple\")\n",
    "plt.xlabel(\"Accuracy\")\n",
    "plt.savefig(\"permimp_visualizations/perm_imp_vgrd_single.png\", dpi=300, bbox_inches=\"tight\")"
   ]
  },
  {
   "cell_type": "markdown",
   "id": "a20c230c-d265-4033-88bc-383eae5680f6",
   "metadata": {
    "tags": []
   },
   "source": [
    "## Backwards Singlepass Permutation: Ice Pellets"
   ]
  },
  {
   "cell_type": "markdown",
   "id": "cfdfb0f5-1f9a-4803-88ef-c35b812ba6be",
   "metadata": {
    "jp-MarkdownHeadingCollapsed": true,
    "tags": []
   },
   "source": [
    "### Original Accuracy: Ice Pellets"
   ]
  },
  {
   "cell_type": "code",
   "execution_count": 129,
   "id": "065fe1c3-8957-443f-b14e-77787bb19993",
   "metadata": {},
   "outputs": [],
   "source": [
    "x_train = np.load(\"/glade/work/eliotk/modeling/mping_x_train.npy\")\n",
    "y_train = np.load(\"/glade/work/eliotk/modeling/mping_y_train.npy\")\n",
    "x_test = np.load(\"/glade/work/eliotk/modeling/mping_x_test.npy\")\n",
    "y_test = np.load(\"/glade/work/eliotk/modeling/mping_y_test.npy\")\n",
    "model = tf.keras.models.load_model('/glade/work/eliotk/modeling/mping_initial_mlp')"
   ]
  },
  {
   "cell_type": "code",
   "execution_count": 126,
   "id": "cd3f04b7-5170-43cb-bf62-0b3fe9ab64f7",
   "metadata": {},
   "outputs": [],
   "source": [
    "y_pred_train_onehot = model.predict(x_train)"
   ]
  },
  {
   "cell_type": "code",
   "execution_count": 127,
   "id": "434b78d4-c7f4-4981-8d1b-69621bba63b1",
   "metadata": {},
   "outputs": [],
   "source": [
    "# Converting one-hot labels to categorical labels\n",
    "y_pred_labels = np.argmax(y_pred_onehot, axis=1)\n",
    "y_test_labels = np.argmax(y_test, axis=1)"
   ]
  },
  {
   "cell_type": "code",
   "execution_count": 128,
   "id": "035531d2-1dd5-467e-8c25-2b3adb6d8442",
   "metadata": {},
   "outputs": [],
   "source": [
    "y_pred_train_labels = np.argmax(y_pred_train_onehot, axis=1)\n",
    "y_train_labels = np.argmax(y_train, axis=1)"
   ]
  },
  {
   "cell_type": "code",
   "execution_count": 129,
   "id": "23c87e64-20b2-494b-b3be-8bb9ca24603e",
   "metadata": {},
   "outputs": [],
   "source": [
    "pl_y_pred_labels = y_pred_labels[y_test_labels == 2]\n",
    "pl_y_test_labels = y_test_labels[y_test_labels == 2]"
   ]
  },
  {
   "cell_type": "code",
   "execution_count": 130,
   "id": "39a9ed2a-c4a5-424f-87d9-51b0eabfe88f",
   "metadata": {},
   "outputs": [],
   "source": [
    "pl_y_pred_train_labels = y_pred_train_labels[y_train_labels == 2]\n",
    "pl_y_train_labels = y_train_labels[y_train_labels == 2]"
   ]
  },
  {
   "cell_type": "code",
   "execution_count": 131,
   "id": "b09497ff-f950-47e8-828c-aaff6a9f67eb",
   "metadata": {},
   "outputs": [
    {
     "data": {
      "text/plain": [
       "0.2330508474576271"
      ]
     },
     "execution_count": 131,
     "metadata": {},
     "output_type": "execute_result"
    }
   ],
   "source": [
    "accuracy_score(pl_y_test_labels, pl_y_pred_labels)"
   ]
  },
  {
   "cell_type": "code",
   "execution_count": 132,
   "id": "ca0db02c-b952-4f57-9588-5505dc747bd4",
   "metadata": {},
   "outputs": [
    {
     "data": {
      "text/plain": [
       "0.4000517866390471"
      ]
     },
     "execution_count": 132,
     "metadata": {},
     "output_type": "execute_result"
    }
   ],
   "source": [
    "accuracy_score(pl_y_train_labels, pl_y_pred_train_labels)"
   ]
  },
  {
   "cell_type": "markdown",
   "id": "8d3835b7-c1af-4874-b391-475188a02659",
   "metadata": {
    "jp-MarkdownHeadingCollapsed": true,
    "tags": []
   },
   "source": [
    "### Permutation"
   ]
  },
  {
   "cell_type": "code",
   "execution_count": 133,
   "id": "6826f0a6-ee7c-4264-95ef-0a45156747c6",
   "metadata": {},
   "outputs": [],
   "source": [
    "scoring_data = (x_train[y_train_labels == 2], y_train[y_train_labels == 2])"
   ]
  },
  {
   "cell_type": "code",
   "execution_count": 134,
   "id": "79007139-de7b-4f61-87b8-e8f30021e716",
   "metadata": {
    "collapsed": true,
    "jupyter": {
     "outputs_hidden": true
    },
    "tags": []
   },
   "outputs": [
    {
     "name": "stdout",
     "output_type": "stream",
     "text": [
      "iter 897, prop pl 0.40833764888658725, acc 0.4000517866390471\n",
      "iter 898, prop pl 0.41895390989124803, acc 0.4018643190056965\n",
      "iter 899, prop pl 0.42128430864836874, acc 0.4013464526152253\n",
      "iter 900, prop pl 0.4176592439150699, acc 0.40238218539616777\n",
      "iter 901, prop pl 0.416882444329363, acc 0.40548938373899535\n",
      "iter 902, prop pl 0.41455204557224234, acc 0.4093733816675298\n",
      "iter 903, prop pl 0.41506991196271364, acc 0.4062661833247022\n",
      "iter 904, prop pl 0.4137752459865355, acc 0.4031589849818747\n",
      "iter 905, prop pl 0.41351631279129986, acc 0.4013464526152253\n",
      "iter 906, prop pl 0.4158467115484205, acc 0.39668565510098397\n",
      "iter 907, prop pl 0.4166235111341274, acc 0.3972035214914552\n",
      "iter 908, prop pl 0.41351631279129986, acc 0.3990160538581046\n",
      "iter 909, prop pl 0.4129984464008286, acc 0.40367685137234594\n",
      "iter 910, prop pl 0.4142931123770067, acc 0.40031071983428274\n",
      "iter 911, prop pl 0.41791817711030554, acc 0.39668565510098397\n",
      "iter 912, prop pl 0.41455204557224234, acc 0.3951320559295702\n",
      "iter 913, prop pl 0.41325737959606423, acc 0.39746245468669084\n",
      "iter 914, prop pl 0.41610564474365613, acc 0.391765924391507\n",
      "iter 915, prop pl 0.40833764888658725, acc 0.3979803210771621\n",
      "iter 916, prop pl 0.41015018125323666, acc 0.3925427239772139\n",
      "iter 917, prop pl 0.4096323148627654, acc 0.3990160538581046\n",
      "iter 918, prop pl 0.4067840497151735, acc 0.40704298291040913\n",
      "iter 919, prop pl 0.40885551527705855, acc 0.40031071983428274\n",
      "iter 920, prop pl 0.40989124805800103, acc 0.40393578456758156\n",
      "iter 921, prop pl 0.4080787156913516, acc 0.3951320559295702\n",
      "iter 922, prop pl 0.4060072501294666, acc 0.40082858622475404\n",
      "iter 923, prop pl 0.4129984464008286, acc 0.3990160538581046\n",
      "iter 924, prop pl 0.4106680476437079, acc 0.4000517866390471\n",
      "iter 925, prop pl 0.40989124805800103, acc 0.4013464526152253\n",
      "iter 926, prop pl 0.41196271361988607, acc 0.40082858622475404\n",
      "iter 927, prop pl 0.40652511651993783, acc 0.39746245468669084\n",
      "iter 928, prop pl 0.40212325220093215, acc 0.4013464526152253\n",
      "iter 929, prop pl 0.41170378042465045, acc 0.39487312273433456\n",
      "iter 930, prop pl 0.40989124805800103, acc 0.4000517866390471\n",
      "iter 931, prop pl 0.4080787156913516, acc 0.3997928534438115\n",
      "iter 932, prop pl 0.40704298291040913, acc 0.40393578456758156\n",
      "iter 933, prop pl 0.4096323148627654, acc 0.39409632314862764\n",
      "iter 934, prop pl 0.4093733816675298, acc 0.40031071983428274\n",
      "iter 935, prop pl 0.40704298291040913, acc 0.40082858622475404\n",
      "iter 936, prop pl 0.40833764888658725, acc 0.40108751941998966\n",
      "iter 937, prop pl 0.4122216468151217, acc 0.40393578456758156\n",
      "iter 938, prop pl 0.42154324184360437, acc 0.38995339202485757\n",
      "iter 939, prop pl 0.42232004142931123, acc 0.3902123252200932\n",
      "iter 940, prop pl 0.41636457793889176, acc 0.39435525634386326\n",
      "iter 941, prop pl 0.4155877783531849, acc 0.3964267219057483\n",
      "iter 942, prop pl 0.41325737959606423, acc 0.3956499223200414\n",
      "iter 943, prop pl 0.41481097876747797, acc 0.39668565510098397\n",
      "iter 944, prop pl 0.41817711030554117, acc 0.3969445882962196\n",
      "iter 945, prop pl 0.416882444329363, acc 0.3997928534438115\n",
      "iter 946, prop pl 0.41351631279129986, acc 0.4016053858104609\n",
      "iter 947, prop pl 0.4041947177628172, acc 0.4060072501294666\n",
      "iter 948, prop pl 0.4052304505437597, acc 0.4031589849818747\n",
      "iter 949, prop pl 0.4176592439150699, acc 0.3990160538581046\n",
      "iter 950, prop pl 0.4106680476437079, acc 0.3956499223200414\n",
      "iter 951, prop pl 0.4080787156913516, acc 0.39746245468669084\n",
      "iter 952, prop pl 0.4140341791817711, acc 0.39487312273433456\n",
      "iter 953, prop pl 0.4122216468151217, acc 0.39331952356292077\n",
      "iter 954, prop pl 0.4026411185914034, acc 0.3969445882962196\n",
      "iter 955, prop pl 0.41791817711030554, acc 0.38865872604867946\n",
      "iter 956, prop pl 0.40704298291040913, acc 0.39927498705334025\n",
      "iter 957, prop pl 0.41015018125323666, acc 0.3990160538581046\n",
      "iter 958, prop pl 0.4142931123770067, acc 0.3956499223200414\n",
      "iter 959, prop pl 0.41325737959606423, acc 0.39124805800103574\n",
      "iter 960, prop pl 0.40833764888658725, acc 0.40238218539616777\n",
      "iter 961, prop pl 0.4106680476437079, acc 0.40367685137234594\n",
      "iter 962, prop pl 0.4155877783531849, acc 0.4000517866390471\n",
      "iter 963, prop pl 0.4114448472294148, acc 0.40108751941998966\n",
      "iter 964, prop pl 0.40885551527705855, acc 0.41196271361988607\n",
      "iter 965, prop pl 0.41196271361988607, acc 0.4018643190056965\n",
      "iter 966, prop pl 0.4124805800103573, acc 0.4013464526152253\n",
      "iter 967, prop pl 0.4096323148627654, acc 0.4041947177628172\n",
      "iter 968, prop pl 0.4109269808389436, acc 0.4080787156913516\n",
      "iter 969, prop pl 0.407819782496116, acc 0.40833764888658725\n",
      "iter 970, prop pl 0.4111859140341792, acc 0.407819782496116\n",
      "iter 971, prop pl 0.41636457793889176, acc 0.4018643190056965\n",
      "iter 972, prop pl 0.4114448472294148, acc 0.40989124805800103\n",
      "iter 973, prop pl 0.4192128430864837, acc 0.39927498705334025\n",
      "iter 974, prop pl 0.4171413775245987, acc 0.40238218539616777\n",
      "iter 975, prop pl 0.42154324184360437, acc 0.39124805800103574\n",
      "iter 976, prop pl 0.42154324184360437, acc 0.3891765924391507\n",
      "iter 977, prop pl 0.4129984464008286, acc 0.391765924391507\n",
      "iter 978, prop pl 0.42698083894355254, acc 0.3814085965820818\n",
      "iter 979, prop pl 0.4230968410150181, acc 0.379854997410668\n",
      "iter 980, prop pl 0.4176592439150699, acc 0.38814085965820816\n",
      "iter 981, prop pl 0.4140341791817711, acc 0.3956499223200414\n",
      "iter 982, prop pl 0.41532884515794927, acc 0.3972035214914552\n",
      "iter 983, prop pl 0.41196271361988607, acc 0.39331952356292077\n",
      "iter 984, prop pl 0.41532884515794927, acc 0.3951320559295702\n",
      "iter 985, prop pl 0.4111859140341792, acc 0.39331952356292077\n",
      "iter 986, prop pl 0.40989124805800103, acc 0.3858104609010875\n",
      "iter 987, prop pl 0.41273951320559293, acc 0.3829621957534956\n",
      "iter 988, prop pl 0.4137752459865355, acc 0.38995339202485757\n",
      "iter 989, prop pl 0.4075608493008804, acc 0.38710512687726567\n",
      "iter 990, prop pl 0.40704298291040913, acc 0.39616778871051267\n",
      "iter 991, prop pl 0.40911444847229417, acc 0.3972035214914552\n",
      "iter 992, prop pl 0.41636457793889176, acc 0.3953909891248058\n",
      "iter 993, prop pl 0.40989124805800103, acc 0.3964267219057483\n",
      "iter 994, prop pl 0.4137752459865355, acc 0.3920248575867426\n",
      "iter 995, prop pl 0.4124805800103573, acc 0.39668565510098397\n",
      "iter 996, prop pl 0.40704298291040913, acc 0.3984981874676333\n",
      "iter 997, prop pl 0.4109269808389436, acc 0.39772138788192646\n",
      "iter 998, prop pl 0.41273951320559293, acc 0.39409632314862764\n",
      "iter 999, prop pl 0.40989124805800103, acc 0.40108751941998966\n",
      "iter 1000, prop pl 0.40574831693423097, acc 0.40108751941998966\n",
      "iter 1001, prop pl 0.4142931123770067, acc 0.3972035214914552\n",
      "iter 1002, prop pl 0.4080787156913516, acc 0.3982392542723977\n",
      "iter 1003, prop pl 0.4155877783531849, acc 0.4013464526152253\n",
      "iter 1004, prop pl 0.40859658208182287, acc 0.4049715173485241\n",
      "iter 1005, prop pl 0.41610564474365613, acc 0.3964267219057483\n",
      "iter 1006, prop pl 0.4137752459865355, acc 0.40238218539616777\n",
      "iter 1007, prop pl 0.4106680476437079, acc 0.3925427239772139\n",
      "iter 1008, prop pl 0.40704298291040913, acc 0.4031589849818747\n",
      "iter 1009, prop pl 0.4111859140341792, acc 0.3928016571724495\n",
      "iter 1010, prop pl 0.41481097876747797, acc 0.3928016571724495\n",
      "iter 1011, prop pl 0.4093733816675298, acc 0.39461418953909894\n",
      "iter 1012, prop pl 0.4142931123770067, acc 0.39590885551527705\n",
      "iter 1013, prop pl 0.40989124805800103, acc 0.39461418953909894\n",
      "iter 1014, prop pl 0.407819782496116, acc 0.3997928534438115\n",
      "iter 1015, prop pl 0.40885551527705855, acc 0.3984981874676333\n",
      "iter 1016, prop pl 0.4044536509580528, acc 0.4075608493008804\n",
      "iter 1017, prop pl 0.4031589849818747, acc 0.4062661833247022\n",
      "iter 1018, prop pl 0.40730191610564476, acc 0.39409632314862764\n",
      "iter 1019, prop pl 0.41973070947695496, acc 0.38425686172967377\n",
      "iter 1020, prop pl 0.4080787156913516, acc 0.40108751941998966\n",
      "iter 1021, prop pl 0.4122216468151217, acc 0.38814085965820816\n",
      "iter 1022, prop pl 0.4184360435007768, acc 0.38529259451061626\n",
      "iter 1023, prop pl 0.41532884515794927, acc 0.3902123252200932\n",
      "iter 1024, prop pl 0.40885551527705855, acc 0.39927498705334025\n",
      "iter 1025, prop pl 0.4104091144484723, acc 0.3956499223200414\n",
      "iter 1026, prop pl 0.4129984464008286, acc 0.393837389953392\n",
      "iter 1027, prop pl 0.4109269808389436, acc 0.39590885551527705\n",
      "iter 1028, prop pl 0.4122216468151217, acc 0.3990160538581046\n",
      "iter 1029, prop pl 0.4052304505437597, acc 0.39746245468669084\n",
      "iter 1030, prop pl 0.4166235111341274, acc 0.39047125841532887\n",
      "iter 1031, prop pl 0.4106680476437079, acc 0.3990160538581046\n",
      "iter 1032, prop pl 0.4075608493008804, acc 0.3689798032107716\n",
      "iter 1033, prop pl 0.4254272397721388, acc 0.3839979285344381\n",
      "iter 1034, prop pl 0.4375970999482134, acc 0.3759709994821336\n",
      "iter 1035, prop pl 0.4249093733816675, acc 0.3920248575867426\n",
      "iter 1036, prop pl 0.42154324184360437, acc 0.39668565510098397\n",
      "iter 1037, prop pl 0.42568617296737443, acc 0.3909891248058001\n",
      "iter 1038, prop pl 0.4233557742102538, acc 0.39435525634386326\n",
      "iter 1039, prop pl 0.40056965302951836, acc 0.40730191610564476\n",
      "iter 1040, prop pl 0.41532884515794927, acc 0.38995339202485757\n",
      "iter 1041, prop pl 0.4075608493008804, acc 0.391765924391507\n",
      "iter 1042, prop pl 0.40212325220093215, acc 0.3997928534438115\n",
      "iter 1043, prop pl 0.4034179181771103, acc 0.3863283272915588\n",
      "iter 1044, prop pl 0.4075608493008804, acc 0.39746245468669084\n",
      "iter 1045, prop pl 0.4047125841532884, acc 0.3982392542723977\n",
      "iter 1046, prop pl 0.40859658208182287, acc 0.3865872604867944\n",
      "iter 1047, prop pl 0.4062661833247022, acc 0.3972035214914552\n",
      "iter 1048, prop pl 0.40290005178663907, acc 0.3964267219057483\n",
      "iter 1049, prop pl 0.40730191610564476, acc 0.3969445882962196\n",
      "iter 1050, prop pl 0.4106680476437079, acc 0.3928016571724495\n",
      "iter 1051, prop pl 0.4111859140341792, acc 0.393837389953392\n",
      "iter 1052, prop pl 0.41015018125323666, acc 0.39746245468669084\n",
      "iter 1053, prop pl 0.4106680476437079, acc 0.3997928534438115\n",
      "iter 1054, prop pl 0.4142931123770067, acc 0.3922837907819782\n",
      "iter 1055, prop pl 0.4016053858104609, acc 0.39461418953909894\n",
      "iter 1056, prop pl 0.40885551527705855, acc 0.3984981874676333\n",
      "iter 1057, prop pl 0.41196271361988607, acc 0.39772138788192646\n",
      "iter 1058, prop pl 0.40833764888658725, acc 0.39668565510098397\n",
      "iter 1059, prop pl 0.4075608493008804, acc 0.3953909891248058\n",
      "iter 1060, prop pl 0.40393578456758156, acc 0.3997928534438115\n",
      "iter 1061, prop pl 0.40833764888658725, acc 0.39306059036768515\n",
      "iter 1062, prop pl 0.41015018125323666, acc 0.398757120662869\n",
      "iter 1063, prop pl 0.4142931123770067, acc 0.3935784567581564\n",
      "iter 1064, prop pl 0.4047125841532884, acc 0.40238218539616777\n",
      "iter 1065, prop pl 0.4013464526152253, acc 0.39590885551527705\n",
      "iter 1066, prop pl 0.40885551527705855, acc 0.3922837907819782\n",
      "iter 1067, prop pl 0.4114448472294148, acc 0.39772138788192646\n",
      "iter 1068, prop pl 0.4109269808389436, acc 0.3984981874676333\n",
      "iter 1069, prop pl 0.40859658208182287, acc 0.4013464526152253\n",
      "iter 1070, prop pl 0.41351631279129986, acc 0.3956499223200414\n",
      "iter 1071, prop pl 0.407819782496116, acc 0.39927498705334025\n",
      "iter 1072, prop pl 0.4034179181771103, acc 0.398757120662869\n",
      "iter 1073, prop pl 0.4122216468151217, acc 0.39772138788192646\n",
      "iter 1074, prop pl 0.40652511651993783, acc 0.3951320559295702\n",
      "iter 1075, prop pl 0.41506991196271364, acc 0.39306059036768515\n",
      "iter 1076, prop pl 0.4122216468151217, acc 0.3964267219057483\n",
      "iter 1077, prop pl 0.4124805800103573, acc 0.39668565510098397\n",
      "iter 1078, prop pl 0.4114448472294148, acc 0.39953392024857587\n",
      "iter 1079, prop pl 0.4158467115484205, acc 0.3907301916105645\n",
      "iter 1080, prop pl 0.40911444847229417, acc 0.4013464526152253\n",
      "iter 1081, prop pl 0.40652511651993783, acc 0.398757120662869\n",
      "iter 1082, prop pl 0.4129984464008286, acc 0.3925427239772139\n",
      "iter 1083, prop pl 0.4114448472294148, acc 0.40238218539616777\n",
      "iter 1084, prop pl 0.41351631279129986, acc 0.39616778871051267\n",
      "iter 1085, prop pl 0.40989124805800103, acc 0.39772138788192646\n",
      "iter 1086, prop pl 0.41170378042465045, acc 0.3935784567581564\n",
      "iter 1087, prop pl 0.4093733816675298, acc 0.40367685137234594\n",
      "iter 1088, prop pl 0.4137752459865355, acc 0.3997928534438115\n",
      "iter 1089, prop pl 0.3984981874676333, acc 0.41015018125323666\n",
      "iter 1090, prop pl 0.40989124805800103, acc 0.4013464526152253\n",
      "iter 1091, prop pl 0.41817711030554117, acc 0.3889176592439151\n",
      "iter 1092, prop pl 0.4111859140341792, acc 0.4031589849818747\n",
      "iter 1093, prop pl 0.4158467115484205, acc 0.38969445882962195\n",
      "iter 1094, prop pl 0.4031589849818747, acc 0.39772138788192646\n",
      "iter 1095, prop pl 0.4114448472294148, acc 0.3984981874676333\n",
      "iter 1096, prop pl 0.4060072501294666, acc 0.39306059036768515\n",
      "iter 1097, prop pl 0.40859658208182287, acc 0.39487312273433456\n",
      "iter 1098, prop pl 0.41532884515794927, acc 0.3894355256343863\n",
      "iter 1099, prop pl 0.4186949766960124, acc 0.39616778871051267\n",
      "iter 1100, prop pl 0.41532884515794927, acc 0.3956499223200414\n",
      "iter 1101, prop pl 0.42128430864836874, acc 0.39409632314862764\n",
      "iter 1102, prop pl 0.4192128430864837, acc 0.3891765924391507\n",
      "iter 1103, prop pl 0.4228379078197825, acc 0.37907819782496116\n",
      "iter 1104, prop pl 0.42102537545313307, acc 0.3795960642154324\n",
      "iter 1105, prop pl 0.41973070947695496, acc 0.3891765924391507\n",
      "iter 1106, prop pl 0.4155877783531849, acc 0.38063179699637495\n",
      "iter 1107, prop pl 0.4202485758674262, acc 0.38063179699637495\n",
      "iter 1108, prop pl 0.3956499223200414, acc 0.40548938373899535\n",
      "iter 1109, prop pl 0.40652511651993783, acc 0.39616778871051267\n",
      "iter 1110, prop pl 0.4016053858104609, acc 0.4018643190056965\n",
      "iter 1111, prop pl 0.4155877783531849, acc 0.39435525634386326\n",
      "iter 1112, prop pl 0.40911444847229417, acc 0.38995339202485757\n",
      "iter 1113, prop pl 0.40885551527705855, acc 0.39435525634386326\n",
      "iter 1114, prop pl 0.40367685137234594, acc 0.40238218539616777\n",
      "iter 1115, prop pl 0.41196271361988607, acc 0.3964267219057483\n",
      "iter 1116, prop pl 0.4080787156913516, acc 0.40238218539616777\n",
      "iter 1117, prop pl 0.40859658208182287, acc 0.3997928534438115\n",
      "iter 1118, prop pl 0.40652511651993783, acc 0.4013464526152253\n",
      "iter 1119, prop pl 0.4026411185914034, acc 0.4013464526152253\n",
      "iter 1120, prop pl 0.40989124805800103, acc 0.40031071983428274\n",
      "iter 1121, prop pl 0.4104091144484723, acc 0.39616778871051267\n",
      "iter 1122, prop pl 0.4109269808389436, acc 0.3953909891248058\n",
      "iter 1123, prop pl 0.4109269808389436, acc 0.3990160538581046\n",
      "iter 1124, prop pl 0.4096323148627654, acc 0.39616778871051267\n",
      "iter 1125, prop pl 0.40833764888658725, acc 0.4018643190056965\n",
      "iter 1126, prop pl 0.4062661833247022, acc 0.3997928534438115\n",
      "iter 1127, prop pl 0.41791817711030554, acc 0.3922837907819782\n",
      "iter 1128, prop pl 0.41170378042465045, acc 0.40082858622475404\n",
      "iter 1129, prop pl 0.40989124805800103, acc 0.39150699119627136\n",
      "iter 1130, prop pl 0.40056965302951836, acc 0.393837389953392\n",
      "iter 1131, prop pl 0.41196271361988607, acc 0.39616778871051267\n",
      "iter 1132, prop pl 0.4047125841532884, acc 0.4031589849818747\n",
      "iter 1133, prop pl 0.41196271361988607, acc 0.3990160538581046\n",
      "iter 1134, prop pl 0.4184360435007768, acc 0.393837389953392\n",
      "iter 1135, prop pl 0.4114448472294148, acc 0.3909891248058001\n",
      "iter 1136, prop pl 0.4202485758674262, acc 0.3979803210771621\n",
      "iter 1137, prop pl 0.39927498705334025, acc 0.3951320559295702\n",
      "iter 1138, prop pl 0.41351631279129986, acc 0.39772138788192646\n",
      "iter 1139, prop pl 0.41351631279129986, acc 0.3920248575867426\n",
      "iter 1140, prop pl 0.40652511651993783, acc 0.4000517866390471\n",
      "iter 1141, prop pl 0.4137752459865355, acc 0.3979803210771621\n",
      "iter 1142, prop pl 0.4111859140341792, acc 0.3982392542723977\n",
      "iter 1143, prop pl 0.40238218539616777, acc 0.3984981874676333\n",
      "iter 1144, prop pl 0.4109269808389436, acc 0.39409632314862764\n",
      "iter 1145, prop pl 0.4075608493008804, acc 0.38710512687726567\n",
      "iter 1146, prop pl 0.4096323148627654, acc 0.4018643190056965\n",
      "iter 1147, prop pl 0.4205075090626618, acc 0.39331952356292077\n",
      "iter 1148, prop pl 0.4062661833247022, acc 0.39953392024857587\n",
      "iter 1149, prop pl 0.41196271361988607, acc 0.3984981874676333\n",
      "iter 1150, prop pl 0.39953392024857587, acc 0.4018643190056965\n",
      "iter 1151, prop pl 0.4041947177628172, acc 0.4018643190056965\n",
      "iter 1152, prop pl 0.4075608493008804, acc 0.398757120662869\n",
      "iter 1153, prop pl 0.4041947177628172, acc 0.4047125841532884\n",
      "iter 1154, prop pl 0.4075608493008804, acc 0.4049715173485241\n",
      "iter 1155, prop pl 0.40859658208182287, acc 0.3979803210771621\n",
      "iter 1156, prop pl 0.4124805800103573, acc 0.3920248575867426\n",
      "iter 1157, prop pl 0.40704298291040913, acc 0.39616778871051267\n",
      "iter 1158, prop pl 0.4228379078197825, acc 0.391765924391507\n",
      "iter 1159, prop pl 0.4104091144484723, acc 0.4026411185914034\n",
      "iter 1160, prop pl 0.4080787156913516, acc 0.3997928534438115\n",
      "iter 1161, prop pl 0.4114448472294148, acc 0.38839979285344384\n",
      "iter 1162, prop pl 0.41196271361988607, acc 0.38814085965820816\n",
      "iter 1163, prop pl 0.40108751941998966, acc 0.40574831693423097\n",
      "iter 1164, prop pl 0.4106680476437079, acc 0.3972035214914552\n",
      "iter 1165, prop pl 0.3997928534438115, acc 0.40082858622475404\n"
     ]
    }
   ],
   "source": [
    "result = permutation_importance(scoring_data, score_model, 'min', variable_names=input_cols, nimportant_vars=1)"
   ]
  },
  {
   "cell_type": "code",
   "execution_count": 135,
   "id": "4bd7a8bd-e40a-4ce6-bd50-975a31afed89",
   "metadata": {
    "tags": []
   },
   "outputs": [],
   "source": [
    "singlepass = result.retrieve_singlepass()"
   ]
  },
  {
   "cell_type": "markdown",
   "id": "1b5165e2-434d-4ca4-8b2a-fa4efa26472b",
   "metadata": {
    "jupyter": {
     "outputs_hidden": true
    },
    "tags": []
   },
   "source": [
    "singlepass"
   ]
  },
  {
   "cell_type": "code",
   "execution_count": 21,
   "id": "b3c49285-bf8e-4356-9dd3-0d3945af2b09",
   "metadata": {},
   "outputs": [],
   "source": [
    "# temp = pd.DataFrame(singlepass).transpose()\n",
    "# temp.columns = [\"Rank\", \"Accuracy\"]\n",
    "# temp.to_csv(\"perm_imp_pl_single_predcond.csv\")"
   ]
  },
  {
   "cell_type": "markdown",
   "id": "6c82a8e3-df26-49c0-b9c3-a6767ea867eb",
   "metadata": {
    "tags": []
   },
   "source": [
    "### Evaluation"
   ]
  },
  {
   "cell_type": "code",
   "execution_count": 130,
   "id": "6e22cef0-2807-43ab-8dd5-ff3df6731f50",
   "metadata": {},
   "outputs": [],
   "source": [
    "singlepass_results = pd.read_csv(\"permimp_results/perm_imp_pl_single_corrected.csv\", index_col=0)"
   ]
  },
  {
   "cell_type": "code",
   "execution_count": 136,
   "id": "56c45439-0091-4fd2-ba1d-e8e9fdf13ac2",
   "metadata": {},
   "outputs": [],
   "source": [
    "dict_names = dict(zip([\"TEMP C\", \"UGRD m/s\", \"VGRD m/s\", \"T DEWPOINT C\"], [\"Temp\", \"Dewpoint\", \"u-Wind\", \"v-Wind\"]))"
   ]
  },
  {
   "cell_type": "code",
   "execution_count": 137,
   "id": "d077db2d-c9ea-405e-aba1-d5cb4118376a",
   "metadata": {},
   "outputs": [],
   "source": [
    "singlepass_results.index = singlepass_results.index.str.replace(\"_\", \" \")"
   ]
  },
  {
   "cell_type": "code",
   "execution_count": 138,
   "id": "9f169a23-b070-426b-a444-852a2aaec159",
   "metadata": {},
   "outputs": [],
   "source": [
    "def readable_varnames(s):\n",
    "    segs = s.split(\"_\")\n",
    "    lst = [s.replace(k, v) for k, v in dict_names.items() if k in s]\n",
    "    return lst[0]"
   ]
  },
  {
   "cell_type": "code",
   "execution_count": 139,
   "id": "7dbe026e-9e3e-47fc-891f-09e1142b2b4c",
   "metadata": {},
   "outputs": [],
   "source": [
    "singlepass_results.index = singlepass_results.index.map(readable_varnames)"
   ]
  },
  {
   "cell_type": "code",
   "execution_count": 140,
   "id": "061dcf76-1e3b-470b-8d41-9d5228831557",
   "metadata": {},
   "outputs": [],
   "source": [
    "colors = {\"Tem\":\"teal\", \"Dew\":\"paleturquoise\", \"u-W\":\"maroon\", \"v-W\":\"indianred\"}"
   ]
  },
  {
   "cell_type": "code",
   "execution_count": 141,
   "id": "ceebcca3-22da-4c89-9ef1-890a15216728",
   "metadata": {},
   "outputs": [],
   "source": [
    "color_values = [\"teal\", \"paleturquoise\", \"maroon\", \"indianred\"]"
   ]
  },
  {
   "cell_type": "code",
   "execution_count": 142,
   "id": "44ef3a24-f787-4cf8-80db-17a7db123888",
   "metadata": {
    "tags": []
   },
   "outputs": [],
   "source": [
    "bar_colors = [colors[i] for i in [var[:3] for var in singlepass_results.index]]"
   ]
  },
  {
   "cell_type": "code",
   "execution_count": 145,
   "id": "b87b313c-67ca-4186-8a19-4fcdea42034e",
   "metadata": {},
   "outputs": [],
   "source": [
    "m = 10\n",
    "temp_hand = mlines.Line2D([], [], color=color_values[0], marker='o', linestyle=\"None\", label=\"Temp\", markersize=m)\n",
    "dewtemp_hand = mlines.Line2D([], [], color=color_values[1], marker='o', linestyle=\"None\", label=\"Dewpoint Temp\", markersize=m)\n",
    "ugrd_hand = mlines.Line2D([], [], color=color_values[2], marker='o', linestyle=\"None\", label=\"u-Wind\", markersize=m)\n",
    "vgrd_hand = mlines.Line2D([], [], color=color_values[3], marker='o', linestyle=\"None\", label=\"v-Wind\", markersize=m)"
   ]
  },
  {
   "cell_type": "code",
   "execution_count": 147,
   "id": "09d36a09-b382-491d-a82d-43cc139ae69a",
   "metadata": {},
   "outputs": [
    {
     "data": {
      "image/png": "[encoded data removed]",
      "text/plain": [
       "<Figure size 576x576 with 1 Axes>"
      ]
     },
     "metadata": {
      "needs_background": "light"
     },
     "output_type": "display_data"
    }
   ],
   "source": [
    "plt.figure(figsize=(8, 8))\n",
    "plt.barh(singlepass_results.index[9::-1], singlepass_results.iloc[:, 1][9::-1], color=bar_colors[9::-1])\n",
    "plt.yticks(fontsize=12)\n",
    "plt.xlim(0.4738, 0.5738)\n",
    "plt.margins(y=0.02)\n",
    "plt.axvline(x=0.5438, color=\"purple\")\n",
    "plt.xlabel(\"P-Type Prediction Accuracy\", fontsize=12)\n",
    "plt.title(\"Top 10 Greatest Accuracy Reductions\", fontsize=20)\n",
    "plt.legend(handles=[temp_hand, dewtemp_hand, ugrd_hand, vgrd_hand], loc=\"lower right\")\n",
    "plt.savefig(\"permimp_visualizations/perm_imp_pl_single.png\", dpi=300, bbox_inches=\"tight\")"
   ]
  },
  {
   "cell_type": "code",
   "execution_count": 148,
   "id": "492b0b5b-3519-42d3-90dc-5ac4b87921c1",
   "metadata": {},
   "outputs": [],
   "source": [
    "temp_imp = np.array([singlepass_results.loc[var] for var in singlepass_results.index if \"Tem\" in var])\n",
    "dewtemp_imp = np.array([singlepass_results.loc[var] for var in singlepass_results.index if \"Dew\" in var])\n",
    "ugrd_imp = np.array([singlepass_results.loc[var] for var in singlepass_results.index if \"u-W\" in var])\n",
    "vgrd_imp = np.array([singlepass_results.loc[var] for var in singlepass_results.index if \"v-W\" in var])"
   ]
  },
  {
   "cell_type": "code",
   "execution_count": 151,
   "id": "a8bc24d9-f083-4ccc-ab6a-30134d568a48",
   "metadata": {},
   "outputs": [
    {
     "data": {
      "image/png": "[encoded data removed]",
      "text/plain": [
       "<Figure size 432x288 with 1 Axes>"
      ]
     },
     "metadata": {
      "needs_background": "light"
     },
     "output_type": "display_data"
    }
   ],
   "source": [
    "# plt.figure(figsize=(10, 30))\n",
    "plt.xlim(0.47, 0.57)\n",
    "plt.barh(singlepass_results[[\"Tem\" in var for var in singlepass_results.index]].index[9::-1], \n",
    "         temp_imp[:, 1][9::-1], color=color_values[0])\n",
    "plt.axvline(x=0.5438, color=\"purple\")\n",
    "plt.title(\"Temp Variables: Greatest Accuracy Reductions\")\n",
    "plt.xlabel(\"Accuracy\")\n",
    "plt.savefig(\"permimp_visualizations/perm_imp_pl_temp_single.png\", dpi=300, bbox_inches=\"tight\")"
   ]
  },
  {
   "cell_type": "code",
   "execution_count": 152,
   "id": "fe300d34-489d-4267-ba17-45521b896839",
   "metadata": {},
   "outputs": [
    {
     "data": {
      "image/png": "[encoded data removed]",
      "text/plain": [
       "<Figure size 432x288 with 1 Axes>"
      ]
     },
     "metadata": {
      "needs_background": "light"
     },
     "output_type": "display_data"
    }
   ],
   "source": [
    "plt.xlim(0.47, 0.57)\n",
    "plt.barh(singlepass_results[[\"Dew\" in var for var in singlepass_results.index]].index[9::-1], \n",
    "         dewtemp_imp[:, 1][9::-1], color=color_values[1])\n",
    "plt.title(\"Dewpoint Temp Variables: Greatest Accuracy Reductions\")\n",
    "plt.axvline(x=0.5438, color=\"purple\")\n",
    "plt.xlabel(\"Accuracy\")\n",
    "plt.savefig(\"permimp_visualizations/perm_imp_pl_dewtemp_single.png\", dpi=300, bbox_inches=\"tight\")"
   ]
  },
  {
   "cell_type": "code",
   "execution_count": 153,
   "id": "2821aad8-640d-460e-9c4a-78990eb50002",
   "metadata": {},
   "outputs": [
    {
     "data": {
      "image/png": "[encoded data removed]",
      "text/plain": [
       "<Figure size 432x288 with 1 Axes>"
      ]
     },
     "metadata": {
      "needs_background": "light"
     },
     "output_type": "display_data"
    }
   ],
   "source": [
    "plt.xlim(0.47, 0.57)\n",
    "plt.barh(singlepass_results[[\"u-W\" in var for var in singlepass_results.index]].index[9::-1], \n",
    "         ugrd_imp[:, 1][9::-1], color=color_values[2])\n",
    "plt.title(\"u-Wind Variables: Greatest Accuracy Reductions\")\n",
    "plt.axvline(x=0.5438, color=\"purple\")\n",
    "plt.xlabel(\"Accuracy\")\n",
    "plt.savefig(\"permimp_visualizations/perm_imp_pl_ugrd_single.png\", dpi=300, bbox_inches=\"tight\")"
   ]
  },
  {
   "cell_type": "code",
   "execution_count": 154,
   "id": "8c6fd4e9-51ef-4903-93c7-546bcabc9520",
   "metadata": {},
   "outputs": [
    {
     "data": {
      "image/png": "[encoded data removed]",
      "text/plain": [
       "<Figure size 432x288 with 1 Axes>"
      ]
     },
     "metadata": {
      "needs_background": "light"
     },
     "output_type": "display_data"
    }
   ],
   "source": [
    "plt.xlim(0.47, 0.57)\n",
    "plt.barh(singlepass_results[[\"v-W\" in var for var in singlepass_results.index]].index[9::-1], \n",
    "         vgrd_imp[:, 1][9::-1], color=color_values[3])\n",
    "plt.title(\"v-Wind Variables: Greatest Accuracy Reductions\")\n",
    "plt.axvline(x=0.5438, color=\"purple\")\n",
    "plt.xlabel(\"Accuracy\")\n",
    "plt.savefig(\"permimp_visualizations/perm_imp_pl_vgrd_single.png\", dpi=300, bbox_inches=\"tight\")"
   ]
  },
  {
   "cell_type": "markdown",
   "id": "ce976e07-a356-46ce-8445-fd63cbeb3ccd",
   "metadata": {
    "tags": []
   },
   "source": [
    "## Backwards Singlepass Permutation: Freezing Rain"
   ]
  },
  {
   "cell_type": "markdown",
   "id": "c2c9d069-39bb-46e3-8523-d3b41569cee1",
   "metadata": {
    "jp-MarkdownHeadingCollapsed": true,
    "tags": []
   },
   "source": [
    "### Original Accuracy: Freezing Rain"
   ]
  },
  {
   "cell_type": "code",
   "execution_count": 34,
   "id": "e16c30e4-d184-4126-af58-0fc52f16068a",
   "metadata": {},
   "outputs": [],
   "source": [
    "y_pred_onehot = model.predict(x_test)"
   ]
  },
  {
   "cell_type": "code",
   "execution_count": 35,
   "id": "59741714-a26f-4ed2-92a6-866af732efca",
   "metadata": {},
   "outputs": [],
   "source": [
    "y_pred_train_onehot = model.predict(x_train)"
   ]
  },
  {
   "cell_type": "code",
   "execution_count": 36,
   "id": "15aea31f-a3f3-4f5d-b2a7-5286a9e233c4",
   "metadata": {},
   "outputs": [],
   "source": [
    "# Converting one-hot labels to categorical labels\n",
    "y_pred_labels = np.argmax(y_pred_onehot, axis=1)\n",
    "y_test_labels = np.argmax(y_test, axis=1)"
   ]
  },
  {
   "cell_type": "code",
   "execution_count": 37,
   "id": "b9d68c6e-51e7-44ea-9e93-2b8dcb67180a",
   "metadata": {},
   "outputs": [],
   "source": [
    "y_pred_train_labels = np.argmax(y_pred_train_onehot, axis=1)\n",
    "y_train_labels = np.argmax(y_train, axis=1)"
   ]
  },
  {
   "cell_type": "code",
   "execution_count": 38,
   "id": "7fe1e10c-b48e-4166-91ca-5964690e7308",
   "metadata": {},
   "outputs": [],
   "source": [
    "pl_y_pred_labels = y_pred_labels[y_pred_labels == 3]\n",
    "pl_y_test_labels = y_test_labels[y_pred_labels == 3]"
   ]
  },
  {
   "cell_type": "code",
   "execution_count": 39,
   "id": "f4714de5-fb6c-44c5-a256-5f4a714cd735",
   "metadata": {},
   "outputs": [],
   "source": [
    "pl_y_pred_train_labels = y_pred_train_labels[y_pred_train_labels == 3]\n",
    "pl_y_train_labels = y_train_labels[y_pred_train_labels == 3]"
   ]
  },
  {
   "cell_type": "code",
   "execution_count": 40,
   "id": "5d43f4a1-337b-46fa-a06b-f9ebca60549d",
   "metadata": {},
   "outputs": [
    {
     "data": {
      "text/plain": [
       "0.4343220338983051"
      ]
     },
     "execution_count": 40,
     "metadata": {},
     "output_type": "execute_result"
    }
   ],
   "source": [
    "accuracy_score(pl_y_test_labels, pl_y_pred_labels)"
   ]
  },
  {
   "cell_type": "code",
   "execution_count": 41,
   "id": "51236be7-bbf1-4435-9e84-f9db4252111a",
   "metadata": {},
   "outputs": [
    {
     "data": {
      "text/plain": [
       "0.6315159429752966"
      ]
     },
     "execution_count": 41,
     "metadata": {},
     "output_type": "execute_result"
    }
   ],
   "source": [
    "accuracy_score(pl_y_train_labels, pl_y_pred_train_labels)"
   ]
  },
  {
   "cell_type": "markdown",
   "id": "996b66c4-bd83-4034-9db0-fa9870fb1292",
   "metadata": {
    "jp-MarkdownHeadingCollapsed": true,
    "tags": []
   },
   "source": [
    "### Permutation"
   ]
  },
  {
   "cell_type": "code",
   "execution_count": 42,
   "id": "b66e7cae-ddb6-4d86-967c-fd422992e282",
   "metadata": {},
   "outputs": [],
   "source": [
    "scoring_data = (x_train[y_pred_train_labels == 3], y_train[y_pred_train_labels == 3])"
   ]
  },
  {
   "cell_type": "code",
   "execution_count": 45,
   "id": "7c39f04d-c46b-4e91-ad0c-0c4f50dbb58a",
   "metadata": {
    "collapsed": true,
    "jupyter": {
     "outputs_hidden": true
    },
    "tags": []
   },
   "outputs": [
    {
     "name": "stdout",
     "output_type": "stream",
     "text": [
      "iter 0, prop pl 1.0, acc 0.6315159429752966\n",
      "iter 1, prop pl 0.9352486668843182, acc 0.6228098813799108\n",
      "iter 2, prop pl 0.9564696920230711, acc 0.6277070410273152\n",
      "iter 3, prop pl 0.9721406028947654, acc 0.6308629883556426\n",
      "iter 4, prop pl 0.9727935575144194, acc 0.6302100337359887\n",
      "iter 5, prop pl 0.9673522690173033, acc 0.6289041244966808\n",
      "iter 6, prop pl 0.9661551855479378, acc 0.6292306018065078\n",
      "iter 7, prop pl 0.9640874959190336, acc 0.6305365110458157\n",
      "iter 8, prop pl 0.9591903362716291, acc 0.630645336815758\n",
      "iter 9, prop pl 0.9595168135814561, acc 0.6297747306562194\n",
      "iter 10, prop pl 0.9694199586462074, acc 0.6305365110458157\n",
      "iter 11, prop pl 0.9752965502230928, acc 0.630318859505931\n",
      "iter 12, prop pl 0.9645227989988029, acc 0.6277070410273152\n",
      "iter 13, prop pl 0.9620198062901295, acc 0.6281423441070846\n",
      "iter 14, prop pl 0.9502666231363587, acc 0.6280335183371423\n",
      "iter 15, prop pl 0.9587550331918598, acc 0.6289041244966808\n",
      "iter 16, prop pl 0.9783436717814779, acc 0.6314071172053543\n",
      "iter 17, prop pl 0.9780171944716509, acc 0.6315159429752966\n",
      "iter 18, prop pl 0.9710523451953422, acc 0.6302100337359887\n",
      "iter 19, prop pl 0.9734465121340733, acc 0.633039503754489\n",
      "iter 20, prop pl 0.9713788225051693, acc 0.6310806398955272\n",
      "iter 21, prop pl 0.9835673087387093, acc 0.6318424202851235\n",
      "iter 22, prop pl 0.9721406028947654, acc 0.6293394275764501\n",
      "iter 23, prop pl 0.9717052998149962, acc 0.6289041244966808\n",
      "iter 24, prop pl 0.9806290129502666, acc 0.6326042006747198\n",
      "iter 25, prop pl 0.973990640983785, acc 0.6289041244966808\n",
      "iter 26, prop pl 0.9708346936554576, acc 0.6307541625857003\n",
      "iter 27, prop pl 0.9590815105016868, acc 0.6282511698770269\n",
      "iter 28, prop pl 0.9748612471433236, acc 0.6304276852758733\n",
      "iter 29, prop pl 0.9808466644901512, acc 0.6314071172053543\n",
      "iter 30, prop pl 0.9805201871803243, acc 0.6290129502666232\n",
      "iter 31, prop pl 0.9640874959190336, acc 0.6309718141255849\n",
      "iter 32, prop pl 0.9748612471433236, acc 0.6317335945151812\n",
      "iter 33, prop pl 0.9792142779410165, acc 0.6280335183371423\n",
      "iter 34, prop pl 0.9686581782566112, acc 0.6265099575579497\n",
      "iter 35, prop pl 0.9685493524866688, acc 0.6284688214169115\n",
      "iter 36, prop pl 0.9755142017629774, acc 0.6277070410273152\n",
      "iter 37, prop pl 0.9714876482751116, acc 0.6285776471868538\n",
      "iter 38, prop pl 0.9622374578300141, acc 0.630645336815758\n",
      "iter 39, prop pl 0.95407552508434, acc 0.6252040483186418\n",
      "iter 40, prop pl 0.9777995429317663, acc 0.6293394275764501\n",
      "iter 41, prop pl 0.9767112852323431, acc 0.629992382196104\n",
      "iter 42, prop pl 0.9541843508542823, acc 0.6277070410273152\n",
      "iter 43, prop pl 0.9676787463271302, acc 0.6278158667972575\n",
      "iter 44, prop pl 0.9620198062901295, acc 0.6301012079660464\n",
      "iter 45, prop pl 0.9697464359560344, acc 0.6287952987267384\n",
      "iter 46, prop pl 0.9517901839155513, acc 0.6270540864076614\n",
      "iter 47, prop pl 0.9596256393513984, acc 0.6279246925672\n",
      "iter 48, prop pl 0.9558167374034171, acc 0.6268364348677767\n",
      "iter 49, prop pl 0.9478724561976276, acc 0.6240069648492763\n",
      "iter 50, prop pl 0.9361192730438568, acc 0.6271629121776037\n",
      "iter 51, prop pl 0.9464577211883775, acc 0.6255305256284688\n",
      "iter 52, prop pl 0.9428664707802807, acc 0.626618783327892\n",
      "iter 53, prop pl 0.9440635542496463, acc 0.6280335183371423\n",
      "iter 54, prop pl 0.9576667754924366, acc 0.6277070410273152\n",
      "iter 55, prop pl 0.9448253346392426, acc 0.6252040483186418\n",
      "iter 56, prop pl 0.9546196539340516, acc 0.6250952225486995\n",
      "iter 57, prop pl 0.9525519643051474, acc 0.6268364348677767\n",
      "iter 58, prop pl 0.9664816628577647, acc 0.6267276090978343\n",
      "iter 59, prop pl 0.9670257917074764, acc 0.6268364348677767\n",
      "iter 60, prop pl 0.9609315485907063, acc 0.6282511698770269\n",
      "iter 61, prop pl 0.9637610186092067, acc 0.6274893894874306\n",
      "iter 62, prop pl 0.9530960931548591, acc 0.6268364348677767\n",
      "iter 63, prop pl 0.9575579497224943, acc 0.630318859505931\n",
      "iter 64, prop pl 0.95407552508434, acc 0.6282511698770269\n",
      "iter 65, prop pl 0.9592991620415714, acc 0.6285776471868538\n",
      "iter 66, prop pl 0.9555990858635325, acc 0.6307541625857003\n",
      "iter 67, prop pl 0.9500489715964741, acc 0.6293394275764501\n",
      "iter 68, prop pl 0.9637610186092067, acc 0.6279246925672\n",
      "iter 69, prop pl 0.9726847317444771, acc 0.6293394275764501\n",
      "iter 70, prop pl 0.9776907171618239, acc 0.6312982914354119\n",
      "iter 71, prop pl 0.976384807922516, acc 0.6292306018065078\n",
      "iter 72, prop pl 0.9678963978670149, acc 0.6285776471868538\n",
      "iter 73, prop pl 0.9626727609097835, acc 0.6293394275764501\n",
      "iter 74, prop pl 0.9634345412993797, acc 0.6283599956469692\n",
      "iter 75, prop pl 0.9650669278485146, acc 0.6281423441070846\n",
      "iter 76, prop pl 0.9713788225051693, acc 0.6305365110458157\n",
      "iter 77, prop pl 0.9666993143976493, acc 0.627271737947546\n",
      "iter 78, prop pl 0.9586462074219175, acc 0.6271629121776037\n",
      "iter 79, prop pl 0.9637610186092067, acc 0.6275982152573729\n",
      "iter 80, prop pl 0.9674610947872456, acc 0.6277070410273152\n",
      "iter 81, prop pl 0.95407552508434, acc 0.6244422679290456\n",
      "iter 82, prop pl 0.95407552508434, acc 0.6278158667972575\n",
      "iter 83, prop pl 0.9606050712808794, acc 0.6282511698770269\n",
      "iter 84, prop pl 0.9668081401675916, acc 0.6293394275764501\n",
      "iter 85, prop pl 0.9656110566982261, acc 0.6293394275764501\n",
      "iter 86, prop pl 0.9516813581456088, acc 0.6293394275764501\n",
      "iter 87, prop pl 0.9789966264011318, acc 0.6320600718250081\n",
      "iter 88, prop pl 0.9435194253999347, acc 0.6256393513984111\n",
      "iter 89, prop pl 0.9478724561976276, acc 0.6277070410273152\n",
      "iter 90, prop pl 0.9650669278485146, acc 0.6302100337359887\n",
      "iter 91, prop pl 0.9688758297964958, acc 0.6314071172053543\n",
      "iter 92, prop pl 0.966916965937534, acc 0.6314071172053543\n",
      "iter 93, prop pl 0.9697464359560344, acc 0.6293394275764501\n",
      "iter 94, prop pl 0.9644139732288606, acc 0.6284688214169115\n",
      "iter 95, prop pl 0.9609315485907063, acc 0.6283599956469692\n",
      "iter 96, prop pl 0.9700729132658613, acc 0.6310806398955272\n",
      "iter 97, prop pl 0.9645227989988029, acc 0.629992382196104\n",
      "iter 98, prop pl 0.9623462835999564, acc 0.6302100337359887\n",
      "iter 99, prop pl 0.9757318533028622, acc 0.6320600718250081\n",
      "iter 100, prop pl 0.9758406790728045, acc 0.630318859505931\n",
      "iter 101, prop pl 0.9734465121340733, acc 0.6316247687452389\n",
      "iter 102, prop pl 0.9727935575144194, acc 0.6291217760365655\n",
      "iter 103, prop pl 0.966916965937534, acc 0.630645336815758\n",
      "iter 104, prop pl 0.9766024594624007, acc 0.6311894656654696\n",
      "iter 105, prop pl 0.9772554140820546, acc 0.6304276852758733\n",
      "iter 106, prop pl 0.9681140494068996, acc 0.6319512460550658\n",
      "iter 107, prop pl 0.9757318533028622, acc 0.6294482533463924\n",
      "iter 108, prop pl 0.973011209054304, acc 0.6304276852758733\n",
      "iter 109, prop pl 0.966590488627707, acc 0.6301012079660464\n",
      "iter 110, prop pl 0.976384807922516, acc 0.6319512460550658\n",
      "iter 111, prop pl 0.9655022309282838, acc 0.6310806398955272\n",
      "iter 112, prop pl 0.9662640113178801, acc 0.6297747306562194\n",
      "iter 113, prop pl 0.9769289367722277, acc 0.629992382196104\n",
      "iter 114, prop pl 0.9782348460115355, acc 0.6314071172053543\n",
      "iter 115, prop pl 0.9756230275329199, acc 0.6323865491348352\n",
      "iter 116, prop pl 0.9755142017629774, acc 0.630318859505931\n",
      "iter 117, prop pl 0.9789966264011318, acc 0.629665904886277\n",
      "iter 118, prop pl 0.9775818913918816, acc 0.6311894656654696\n",
      "iter 119, prop pl 0.963216889759495, acc 0.6265099575579497\n",
      "iter 120, prop pl 0.9710523451953422, acc 0.6305365110458157\n",
      "iter 121, prop pl 0.9627815866797258, acc 0.6311894656654696\n",
      "iter 122, prop pl 0.9584285558820329, acc 0.6301012079660464\n",
      "iter 123, prop pl 0.9536402220045707, acc 0.6287952987267384\n",
      "iter 124, prop pl 0.9551637827837632, acc 0.6274893894874306\n",
      "iter 125, prop pl 0.9401458265317227, acc 0.6227010556099685\n",
      "iter 126, prop pl 0.9546196539340516, acc 0.6268364348677767\n",
      "iter 127, prop pl 0.9190336271629121, acc 0.6223745783001414\n",
      "iter 128, prop pl 0.9487430623571662, acc 0.6273805637174883\n",
      "iter 129, prop pl 0.9527696158450321, acc 0.6250952225486995\n",
      "iter 130, prop pl 0.9426488192403961, acc 0.6233540102296223\n",
      "iter 131, prop pl 0.9468930242681467, acc 0.6279246925672\n",
      "iter 132, prop pl 0.9430841223201654, acc 0.62324518445968\n",
      "iter 133, prop pl 0.9485254108172815, acc 0.6280335183371423\n",
      "iter 134, prop pl 0.9468930242681467, acc 0.6265099575579497\n",
      "iter 135, prop pl 0.9089128305582762, acc 0.6210686690608336\n",
      "iter 136, prop pl 0.9496136685167047, acc 0.6241157906192186\n",
      "iter 137, prop pl 0.9435194253999347, acc 0.6242246163891609\n",
      "iter 138, prop pl 0.9151158994449886, acc 0.6144302970943519\n",
      "iter 139, prop pl 0.9397105234519534, acc 0.6237893133093917\n",
      "iter 140, prop pl 0.9229513548808358, acc 0.6275982152573729\n",
      "iter 141, prop pl 0.9295897268473174, acc 0.6240069648492763\n",
      "iter 142, prop pl 0.9407987811513766, acc 0.6245510936989879\n",
      "iter 143, prop pl 0.93720753074328, acc 0.6237893133093917\n",
      "iter 144, prop pl 0.9428664707802807, acc 0.6242246163891609\n",
      "iter 145, prop pl 0.9433017738600501, acc 0.6304276852758733\n",
      "iter 146, prop pl 0.9453694634889542, acc 0.6275982152573729\n",
      "iter 147, prop pl 0.9381869626727609, acc 0.6249863967787572\n",
      "iter 148, prop pl 0.9437370769398193, acc 0.6257481771683535\n",
      "iter 149, prop pl 0.9522254869953205, acc 0.6293394275764501\n",
      "iter 150, prop pl 0.95407552508434, acc 0.6302100337359887\n",
      "iter 151, prop pl 0.9645227989988029, acc 0.6291217760365655\n",
      "iter 152, prop pl 0.9374251822831646, acc 0.6221569267602568\n",
      "iter 153, prop pl 0.9581020785722059, acc 0.6287952987267384\n",
      "iter 154, prop pl 0.9515725323756665, acc 0.6273805637174883\n",
      "iter 155, prop pl 0.9493960169768201, acc 0.6264011317880074\n",
      "iter 156, prop pl 0.9465665469583198, acc 0.6283599956469692\n",
      "iter 157, prop pl 0.960496245510937, acc 0.6289041244966808\n",
      "iter 158, prop pl 0.9532049189248014, acc 0.6274893894874306\n",
      "iter 159, prop pl 0.9614756774404178, acc 0.6291217760365655\n",
      "iter 160, prop pl 0.9639786701490913, acc 0.6294482533463924\n",
      "iter 161, prop pl 0.9598432908912831, acc 0.630645336815758\n",
      "iter 162, prop pl 0.9710523451953422, acc 0.6289041244966808\n",
      "iter 163, prop pl 0.9591903362716291, acc 0.6280335183371423\n",
      "iter 164, prop pl 0.9618021547502449, acc 0.6280335183371423\n",
      "iter 165, prop pl 0.9682228751768419, acc 0.6308629883556426\n",
      "iter 166, prop pl 0.9738818152138426, acc 0.6302100337359887\n",
      "iter 167, prop pl 0.9662640113178801, acc 0.6352160191533355\n",
      "iter 168, prop pl 0.9513548808357819, acc 0.6298835564261617\n",
      "iter 169, prop pl 0.960822722820764, acc 0.6319512460550658\n",
      "iter 170, prop pl 0.970290564805746, acc 0.6322777233648929\n",
      "iter 171, prop pl 0.9490695396669931, acc 0.6260746544781804\n",
      "iter 172, prop pl 0.9651757536184569, acc 0.6311894656654696\n",
      "iter 173, prop pl 0.9583197301120906, acc 0.6311894656654696\n",
      "iter 174, prop pl 0.9595168135814561, acc 0.6316247687452389\n",
      "iter 175, prop pl 0.9675699205571879, acc 0.6283599956469692\n",
      "iter 176, prop pl 0.9454782892588965, acc 0.6278158667972575\n",
      "iter 177, prop pl 0.9623462835999564, acc 0.6256393513984111\n",
      "iter 178, prop pl 0.9602785939710523, acc 0.6245510936989879\n",
      "iter 179, prop pl 0.9566873435629557, acc 0.6273805637174883\n",
      "iter 180, prop pl 0.9453694634889542, acc 0.6250952225486995\n",
      "iter 181, prop pl 0.9515725323756665, acc 0.6253128740885842\n",
      "iter 182, prop pl 0.9581020785722059, acc 0.6285776471868538\n",
      "iter 183, prop pl 0.9369898792033954, acc 0.6206333659810643\n",
      "iter 184, prop pl 0.9552726085537055, acc 0.6283599956469692\n",
      "iter 185, prop pl 0.9498313200565894, acc 0.6322777233648929\n",
      "iter 186, prop pl 0.9603874197409946, acc 0.6262923060180651\n",
      "iter 187, prop pl 0.9599521166612254, acc 0.6298835564261617\n",
      "iter 188, prop pl 0.9409076069213189, acc 0.6304276852758733\n",
      "iter 189, prop pl 0.9639786701490913, acc 0.6302100337359887\n",
      "iter 190, prop pl 0.957122646642725, acc 0.6314071172053543\n",
      "iter 191, prop pl 0.9559255631733594, acc 0.6286864729567961\n",
      "iter 192, prop pl 0.9500489715964741, acc 0.6294482533463924\n",
      "iter 193, prop pl 0.9578844270323212, acc 0.626618783327892\n",
      "iter 194, prop pl 0.9427576450103384, acc 0.6261834802481228\n",
      "iter 195, prop pl 0.9502666231363587, acc 0.6295570791163347\n",
      "iter 196, prop pl 0.9647404505386875, acc 0.6316247687452389\n",
      "iter 197, prop pl 0.9485254108172815, acc 0.6277070410273152\n",
      "iter 198, prop pl 0.9611492001305909, acc 0.6302100337359887\n",
      "iter 199, prop pl 0.9582109043421482, acc 0.629992382196104\n",
      "iter 200, prop pl 0.9583197301120906, acc 0.626618783327892\n",
      "iter 201, prop pl 0.9345957122646643, acc 0.6230275329197954\n",
      "iter 202, prop pl 0.9159865056045271, acc 0.6163891609533138\n",
      "iter 203, prop pl 0.9449341604091849, acc 0.6229187071498531\n",
      "iter 204, prop pl 0.937860485362934, acc 0.6213951463706606\n",
      "iter 205, prop pl 0.8899771465883121, acc 0.6191098052018718\n",
      "iter 206, prop pl 0.908477527478507, acc 0.6207421917510066\n",
      "iter 207, prop pl 0.9318750680161062, acc 0.6220481009903145\n",
      "iter 208, prop pl 0.9427576450103384, acc 0.62324518445968\n",
      "iter 209, prop pl 0.9253455218195669, acc 0.6222657525301991\n",
      "iter 210, prop pl 0.9453694634889542, acc 0.6241157906192186\n",
      "iter 211, prop pl 0.9364457503536837, acc 0.6231363586897377\n",
      "iter 212, prop pl 0.957449123952552, acc 0.6275982152573729\n",
      "iter 213, prop pl 0.9596256393513984, acc 0.6293394275764501\n",
      "iter 214, prop pl 0.9481989335074545, acc 0.6231363586897377\n",
      "iter 215, prop pl 0.9588638589618022, acc 0.6285776471868538\n",
      "iter 216, prop pl 0.9524431385352051, acc 0.6271629121776037\n",
      "iter 217, prop pl 0.9428664707802807, acc 0.6275982152573729\n",
      "iter 218, prop pl 0.9520078354554359, acc 0.6275982152573729\n",
      "iter 219, prop pl 0.9688758297964958, acc 0.6315159429752966\n",
      "iter 220, prop pl 0.9455871150288389, acc 0.6290129502666232\n",
      "iter 221, prop pl 0.9363369245837414, acc 0.6262923060180651\n",
      "iter 222, prop pl 0.9484165850473392, acc 0.6275982152573729\n",
      "iter 223, prop pl 0.9564696920230711, acc 0.6275982152573729\n",
      "iter 224, prop pl 0.9527696158450321, acc 0.6284688214169115\n",
      "iter 225, prop pl 0.9499401458265317, acc 0.6261834802481228\n",
      "iter 226, prop pl 0.9623462835999564, acc 0.6277070410273152\n",
      "iter 227, prop pl 0.9480901077375122, acc 0.6267276090978343\n",
      "iter 228, prop pl 0.9523343127652628, acc 0.6259658287082381\n",
      "iter 229, prop pl 0.9547284797039939, acc 0.6264011317880074\n",
      "iter 230, prop pl 0.9579932528022636, acc 0.627271737947546\n",
      "iter 231, prop pl 0.9577756012623789, acc 0.629665904886277\n",
      "iter 232, prop pl 0.9461312438785504, acc 0.6240069648492763\n",
      "iter 233, prop pl 0.9433017738600501, acc 0.6311894656654696\n",
      "iter 234, prop pl 0.9649581020785722, acc 0.6286864729567961\n",
      "iter 235, prop pl 0.950375448906301, acc 0.6271629121776037\n",
      "iter 236, prop pl 0.9239307868103167, acc 0.6261834802481228\n",
      "iter 237, prop pl 0.9527696158450321, acc 0.626618783327892\n",
      "iter 238, prop pl 0.9450429861791272, acc 0.6255305256284688\n",
      "iter 239, prop pl 0.9410164326912613, acc 0.6277070410273152\n",
      "iter 240, prop pl 0.956796169332898, acc 0.6284688214169115\n",
      "iter 241, prop pl 0.953749047774513, acc 0.6287952987267384\n",
      "iter 242, prop pl 0.9425399934704538, acc 0.6277070410273152\n",
      "iter 243, prop pl 0.943628251169877, acc 0.6285776471868538\n",
      "iter 244, prop pl 0.9538578735444553, acc 0.6295570791163347\n",
      "iter 245, prop pl 0.9388399172924149, acc 0.6235716617695071\n",
      "iter 246, prop pl 0.9401458265317227, acc 0.6278158667972575\n",
      "iter 247, prop pl 0.9194689302426815, acc 0.6219392752203722\n",
      "iter 248, prop pl 0.9532049189248014, acc 0.6273805637174883\n",
      "iter 249, prop pl 0.9276308629883556, acc 0.6231363586897377\n",
      "iter 250, prop pl 0.9283926433779519, acc 0.6262923060180651\n",
      "iter 251, prop pl 0.9559255631733594, acc 0.626945260637719\n",
      "iter 252, prop pl 0.9576667754924366, acc 0.6294482533463924\n",
      "iter 253, prop pl 0.9545108281641093, acc 0.6260746544781804\n",
      "iter 254, prop pl 0.9443900315594733, acc 0.6248775710088149\n",
      "iter 255, prop pl 0.9462400696484927, acc 0.6304276852758733\n",
      "iter 256, prop pl 0.9269779083687018, acc 0.6230275329197954\n",
      "iter 257, prop pl 0.9033627162912178, acc 0.6207421917510066\n",
      "iter 258, prop pl 0.9353574926542605, acc 0.6253128740885842\n",
      "iter 259, prop pl 0.9486342365872239, acc 0.6284688214169115\n",
      "iter 260, prop pl 0.9500489715964741, acc 0.6265099575579497\n",
      "iter 261, prop pl 0.9409076069213189, acc 0.6265099575579497\n",
      "iter 262, prop pl 0.9197954075525084, acc 0.6221569267602568\n",
      "iter 263, prop pl 0.9377516595929917, acc 0.6277070410273152\n",
      "iter 264, prop pl 0.9256719991293938, acc 0.62324518445968\n",
      "iter 265, prop pl 0.9496136685167047, acc 0.6258570029382958\n",
      "iter 266, prop pl 0.9271955599085864, acc 0.620524540211122\n",
      "iter 267, prop pl 0.9137011644357383, acc 0.6216127979105452\n",
      "iter 268, prop pl 0.9150070736750463, acc 0.6209598432908913\n"
     ]
    }
   ],
   "source": [
    "result = permutation_importance(scoring_data, score_model, 'min', variable_names=input_cols, nimportant_vars=1)"
   ]
  },
  {
   "cell_type": "code",
   "execution_count": 46,
   "id": "63e9ca48-f784-4d1e-9b96-bca6d9ab0a3e",
   "metadata": {
    "tags": []
   },
   "outputs": [],
   "source": [
    "singlepass = result.retrieve_singlepass()"
   ]
  },
  {
   "cell_type": "code",
   "execution_count": 47,
   "id": "2c7cc443-94d4-4d74-9f13-d4eb3d4a0592",
   "metadata": {},
   "outputs": [],
   "source": [
    "temp = pd.DataFrame(singlepass).transpose()\n",
    "temp.columns = [\"Rank\", \"Accuracy\"]\n",
    "temp.to_csv(\"permimp_results/perm_imp_fzra_single_predcond.csv\")"
   ]
  },
  {
   "cell_type": "markdown",
   "id": "28de0c1c-0a40-436a-84e7-9b12e5f42733",
   "metadata": {},
   "source": [
    "### Evaluation"
   ]
  },
  {
   "cell_type": "code",
   "execution_count": 155,
   "id": "74070b56-ddc8-49d4-b597-0d77c824a540",
   "metadata": {},
   "outputs": [],
   "source": [
    "singlepass_results = pd.read_csv(\"permimp_results/perm_imp_fzra_single_corrected.csv\", index_col=0)"
   ]
  },
  {
   "cell_type": "code",
   "execution_count": 156,
   "id": "b2baf0e0-3ca4-4349-943e-6d18a6dbd648",
   "metadata": {},
   "outputs": [],
   "source": [
    "dict_names = dict(zip([\"TEMP C\", \"UGRD m/s\", \"VGRD m/s\", \"T DEWPOINT C\"], [\"Temp\", \"Dewpoint\", \"u-Wind\", \"v-Wind\"]))"
   ]
  },
  {
   "cell_type": "code",
   "execution_count": 157,
   "id": "b2937e1e-e0ad-4d2d-8ada-3ba6bb29846c",
   "metadata": {},
   "outputs": [],
   "source": [
    "singlepass_results.index = singlepass_results.index.str.replace(\"_\", \" \")"
   ]
  },
  {
   "cell_type": "code",
   "execution_count": 158,
   "id": "88bab601-c89c-4e17-bde4-155bd6be184a",
   "metadata": {},
   "outputs": [],
   "source": [
    "def readable_varnames(s):\n",
    "    segs = s.split(\"_\")\n",
    "    lst = [s.replace(k, v) for k, v in dict_names.items() if k in s]\n",
    "    return lst[0]"
   ]
  },
  {
   "cell_type": "code",
   "execution_count": 159,
   "id": "197af6cc-8c02-4734-8fd2-6e340725ae56",
   "metadata": {},
   "outputs": [],
   "source": [
    "singlepass_results.index = singlepass_results.index.map(readable_varnames)"
   ]
  },
  {
   "cell_type": "code",
   "execution_count": 163,
   "id": "69aecb19-cf53-45ad-93e7-35b2bdd5886c",
   "metadata": {},
   "outputs": [],
   "source": [
    "colors = {\"Tem\":\"teal\", \"Dew\":\"paleturquoise\", \"u-W\":\"maroon\", \"v-W\":\"indianred\"}"
   ]
  },
  {
   "cell_type": "code",
   "execution_count": 164,
   "id": "bac34d43-6c5c-4575-ac4b-aadfbac457e8",
   "metadata": {},
   "outputs": [],
   "source": [
    "color_values = [\"teal\", \"paleturquoise\", \"maroon\", \"indianred\"]"
   ]
  },
  {
   "cell_type": "code",
   "execution_count": 165,
   "id": "4bbbc5c3-d634-4c47-89c0-e7ab0964a52a",
   "metadata": {
    "tags": []
   },
   "outputs": [],
   "source": [
    "bar_colors = [colors[i] for i in [var[:3] for var in singlepass_results.index]]"
   ]
  },
  {
   "cell_type": "code",
   "execution_count": 166,
   "id": "af6e389c-42f8-4e2b-9d69-26ae1c4f3105",
   "metadata": {},
   "outputs": [],
   "source": [
    "m = 10\n",
    "temp_hand = mlines.Line2D([], [], color=color_values[0], marker='o', linestyle=\"None\", label=\"Temp\", markersize=m)\n",
    "dewtemp_hand = mlines.Line2D([], [], color=color_values[1], marker='o', linestyle=\"None\", label=\"Dewpoint Temp\", markersize=m)\n",
    "ugrd_hand = mlines.Line2D([], [], color=color_values[2], marker='o', linestyle=\"None\", label=\"u-Wind\", markersize=m)\n",
    "vgrd_hand = mlines.Line2D([], [], color=color_values[3], marker='o', linestyle=\"None\", label=\"v-Wind\", markersize=m)"
   ]
  },
  {
   "cell_type": "code",
   "execution_count": 168,
   "id": "52a82b06-b7f0-452d-afe6-5bbcf565ac67",
   "metadata": {},
   "outputs": [
    {
     "data": {
      "image/png": "[encoded data removed]",
      "text/plain": [
       "<Figure size 576x576 with 1 Axes>"
      ]
     },
     "metadata": {
      "needs_background": "light"
     },
     "output_type": "display_data"
    }
   ],
   "source": [
    "plt.figure(figsize=(8, 8))\n",
    "plt.barh(singlepass_results.index[9::-1], singlepass_results.iloc[:, 1][9::-1], color=bar_colors[9::-1])\n",
    "plt.yticks(fontsize=12)\n",
    "plt.xlim(0.3479, 0.4479)\n",
    "plt.margins(y=0.02)\n",
    "plt.axvline(x=0.4179, color=\"purple\")\n",
    "plt.xlabel(\"P-Type Prediction Accuracy\", fontsize=12)\n",
    "plt.title(\"Top 10 Greatest Accuracy Reductions\", fontsize=20)\n",
    "plt.legend(handles=[temp_hand, dewtemp_hand, ugrd_hand, vgrd_hand], loc=\"lower right\")\n",
    "plt.savefig(\"permimp_visualizations/perm_imp_fzra_single.png\", dpi=300, bbox_inches=\"tight\")"
   ]
  },
  {
   "cell_type": "code",
   "execution_count": 174,
   "id": "5e32b721-ee84-4500-8204-2ac29d58d117",
   "metadata": {},
   "outputs": [],
   "source": [
    "temp_imp = np.array([singlepass_results.loc[var] for var in singlepass_results.index if \"Tem\" in var])\n",
    "dewtemp_imp = np.array([singlepass_results.loc[var] for var in singlepass_results.index if \"Dew\" in var])\n",
    "ugrd_imp = np.array([singlepass_results.loc[var] for var in singlepass_results.index if \"u-W\" in var])\n",
    "vgrd_imp = np.array([singlepass_results.loc[var] for var in singlepass_results.index if \"v-W\" in var])"
   ]
  },
  {
   "cell_type": "code",
   "execution_count": 175,
   "id": "1e3c72ef-b622-42ab-9840-bf159c21f783",
   "metadata": {},
   "outputs": [
    {
     "data": {
      "image/png": "[encoded data removed]",
      "text/plain": [
       "<Figure size 432x288 with 1 Axes>"
      ]
     },
     "metadata": {
      "needs_background": "light"
     },
     "output_type": "display_data"
    }
   ],
   "source": [
    "# plt.figure(figsize=(10, 30))\n",
    "plt.xlim(0.3479, 0.4479)\n",
    "plt.barh(singlepass_results[[\"Tem\" in var for var in singlepass_results.index]].index[9::-1], \n",
    "         temp_imp[:, 1][9::-1], color=color_values[0])\n",
    "plt.axvline(x=0.4179, color=\"purple\")\n",
    "plt.title(\"Temp Variables: Greatest Accuracy Reductions\")\n",
    "plt.xlabel(\"Accuracy\")\n",
    "plt.savefig(\"permimp_visualizations/perm_imp_fzra_temp_single.png\", dpi=300, bbox_inches=\"tight\")"
   ]
  },
  {
   "cell_type": "code",
   "execution_count": 176,
   "id": "8c5d72b2-14ba-4fdd-bd3c-be0f3a971530",
   "metadata": {},
   "outputs": [
    {
     "data": {
      "image/png": "[encoded data removed]",
      "text/plain": [
       "<Figure size 432x288 with 1 Axes>"
      ]
     },
     "metadata": {
      "needs_background": "light"
     },
     "output_type": "display_data"
    }
   ],
   "source": [
    "plt.xlim(0.3479, 0.4479)\n",
    "plt.barh(singlepass_results[[\"Dew\" in var for var in singlepass_results.index]].index[9::-1], \n",
    "         dewtemp_imp[:, 1][9::-1], color=color_values[1])\n",
    "plt.title(\"Dewpoint Temp Variables: Greatest Accuracy Reductions\")\n",
    "plt.axvline(x=0.4179, color=\"purple\")\n",
    "plt.xlabel(\"Accuracy\")\n",
    "plt.savefig(\"permimp_visualizations/perm_imp_fzra_dewtemp_single.png\", dpi=300, bbox_inches=\"tight\")"
   ]
  },
  {
   "cell_type": "code",
   "execution_count": 178,
   "id": "3b661df1-eb65-4931-a4cf-d4662fafb4c6",
   "metadata": {},
   "outputs": [
    {
     "data": {
      "image/png": "[encoded data removed]",
      "text/plain": [
       "<Figure size 432x288 with 1 Axes>"
      ]
     },
     "metadata": {
      "needs_background": "light"
     },
     "output_type": "display_data"
    }
   ],
   "source": [
    "plt.xlim(0.3479, 0.4479)\n",
    "plt.barh(singlepass_results[[\"u-W\" in var for var in singlepass_results.index]].index[9::-1], \n",
    "         ugrd_imp[:, 1][9::-1], color=color_values[2])\n",
    "plt.title(\"u-Wind Variables: Greatest Accuracy Reductions\")\n",
    "plt.axvline(x=0.4179, color=\"purple\")\n",
    "plt.xlabel(\"Accuracy\")\n",
    "plt.savefig(\"permimp_visualizations/perm_imp_fzra_ugrd_single.png\", dpi=300, bbox_inches=\"tight\")"
   ]
  },
  {
   "cell_type": "code",
   "execution_count": 179,
   "id": "f1dcae30-1689-48a8-8df4-cb25f2a27ee9",
   "metadata": {},
   "outputs": [
    {
     "data": {
      "image/png": "[encoded data removed]",
      "text/plain": [
       "<Figure size 432x288 with 1 Axes>"
      ]
     },
     "metadata": {
      "needs_background": "light"
     },
     "output_type": "display_data"
    }
   ],
   "source": [
    "plt.xlim(0.3479, 0.4479)\n",
    "plt.barh(singlepass_results[[\"v-W\" in var for var in singlepass_results.index]].index[9::-1], \n",
    "         vgrd_imp[:, 1][9::-1], color=color_values[3])\n",
    "plt.title(\"v-Wind Variables: Greatest Accuracy Reductions\")\n",
    "plt.axvline(x=0.4179, color=\"purple\")\n",
    "plt.xlabel(\"Accuracy\")\n",
    "plt.savefig(\"permimp_visualizations/perm_imp_fzra_vgrd_single.png\", dpi=300, bbox_inches=\"tight\")"
   ]
  },
  {
   "cell_type": "markdown",
   "id": "47da066c-3c38-4b47-8651-4ab20637a5f2",
   "metadata": {
    "tags": []
   },
   "source": [
    "## Backwards Singlepass Permutation: Rain"
   ]
  },
  {
   "cell_type": "markdown",
   "id": "45087130-f2ed-4abd-96ef-d98b79a5512a",
   "metadata": {
    "jp-MarkdownHeadingCollapsed": true,
    "tags": []
   },
   "source": [
    "### Original Accuracy: Rain"
   ]
  },
  {
   "cell_type": "code",
   "execution_count": 63,
   "id": "2bc9dbf8-2ffe-460a-9e7c-fb47eed5bbae",
   "metadata": {},
   "outputs": [],
   "source": [
    "y_pred_onehot = model.predict(x_test)"
   ]
  },
  {
   "cell_type": "code",
   "execution_count": 64,
   "id": "195a0bb7-3b32-4f77-a1bb-621147ad4425",
   "metadata": {},
   "outputs": [],
   "source": [
    "y_pred_train_onehot = model.predict(x_train)"
   ]
  },
  {
   "cell_type": "code",
   "execution_count": 65,
   "id": "b03d7252-92fe-4aaa-a4ba-ca22d6f21126",
   "metadata": {},
   "outputs": [],
   "source": [
    "# Converting one-hot labels to categorical labels\n",
    "y_pred_labels = np.argmax(y_pred_onehot, axis=1)\n",
    "y_test_labels = np.argmax(y_test, axis=1)"
   ]
  },
  {
   "cell_type": "code",
   "execution_count": 66,
   "id": "8610be26-4d82-4e59-9627-2790a9fd69f6",
   "metadata": {},
   "outputs": [],
   "source": [
    "y_pred_train_labels = np.argmax(y_pred_train_onehot, axis=1)\n",
    "y_train_labels = np.argmax(y_train, axis=1)"
   ]
  },
  {
   "cell_type": "code",
   "execution_count": 67,
   "id": "2b513687-9bdb-4a3f-b1a6-6c967d4fbdc9",
   "metadata": {},
   "outputs": [],
   "source": [
    "pl_y_pred_labels = y_pred_labels[y_pred_labels == 0]\n",
    "pl_y_test_labels = y_test_labels[y_pred_labels == 0]"
   ]
  },
  {
   "cell_type": "code",
   "execution_count": 68,
   "id": "6931ebfd-17ea-4dc7-a8df-d2062b4cdca5",
   "metadata": {},
   "outputs": [],
   "source": [
    "pl_y_pred_train_labels = y_pred_train_labels[y_pred_train_labels == 0]\n",
    "pl_y_train_labels = y_train_labels[y_pred_train_labels == 0]"
   ]
  },
  {
   "cell_type": "code",
   "execution_count": 69,
   "id": "4e62fb7e-3147-40cc-b592-c76e5e006132",
   "metadata": {},
   "outputs": [
    {
     "data": {
      "text/plain": [
       "0.950060045107056"
      ]
     },
     "execution_count": 69,
     "metadata": {},
     "output_type": "execute_result"
    }
   ],
   "source": [
    "accuracy_score(pl_y_test_labels, pl_y_pred_labels)"
   ]
  },
  {
   "cell_type": "code",
   "execution_count": 70,
   "id": "42cafbe6-75da-4ce4-8d8b-84e25e58ea2b",
   "metadata": {},
   "outputs": [
    {
     "data": {
      "text/plain": [
       "0.9619717800289436"
      ]
     },
     "execution_count": 70,
     "metadata": {},
     "output_type": "execute_result"
    }
   ],
   "source": [
    "accuracy_score(pl_y_train_labels, pl_y_pred_train_labels)"
   ]
  },
  {
   "cell_type": "markdown",
   "id": "8e007f8b-6864-4816-a307-73d7d33591e3",
   "metadata": {
    "jp-MarkdownHeadingCollapsed": true,
    "tags": []
   },
   "source": [
    "### Permutation"
   ]
  },
  {
   "cell_type": "code",
   "execution_count": 71,
   "id": "5ce252af-13f5-4c96-8611-f21a4adaf00c",
   "metadata": {},
   "outputs": [],
   "source": [
    "scoring_data = (x_train[y_pred_train_labels == 0], y_train[y_pred_train_labels == 0])"
   ]
  },
  {
   "cell_type": "code",
   "execution_count": 74,
   "id": "8c2c3593-da6e-413e-94c7-984b6751321e",
   "metadata": {
    "collapsed": true,
    "jupyter": {
     "outputs_hidden": true
    },
    "tags": []
   },
   "outputs": [
    {
     "name": "stdout",
     "output_type": "stream",
     "text": [
      "iter 0, prop pl 1.0, acc 0.9619717800289436\n",
      "iter 1, prop pl 0.996931982633864, acc 0.961226483357453\n",
      "iter 2, prop pl 0.9981295224312591, acc 0.9617040520984081\n",
      "iter 3, prop pl 0.9988531114327063, acc 0.9620984081041968\n",
      "iter 4, prop pl 0.9991461649782923, acc 0.9619826338639653\n",
      "iter 5, prop pl 0.9991895803183791, acc 0.9619862518089725\n",
      "iter 6, prop pl 0.9980499276410999, acc 0.9618198263386396\n",
      "iter 7, prop pl 0.9956946454413893, acc 0.961089001447178\n",
      "iter 8, prop pl 0.9945513748191027, acc 0.9606657018813314\n",
      "iter 9, prop pl 0.996226483357453, acc 0.9612373371924747\n",
      "iter 10, prop pl 0.9919356005788712, acc 0.9604377713458755\n",
      "iter 11, prop pl 0.9967366136034732, acc 0.9615882778581766\n",
      "iter 12, prop pl 0.9933646888567293, acc 0.9613458755426918\n",
      "iter 13, prop pl 0.9934551374819103, acc 0.9613169319826339\n",
      "iter 14, prop pl 0.9901881331403762, acc 0.9607199710564399\n",
      "iter 15, prop pl 0.9955969609261939, acc 0.9613458755426918\n",
      "iter 16, prop pl 0.9979992764109985, acc 0.9618306801736614\n",
      "iter 17, prop pl 0.9969392185238785, acc 0.9616859623733719\n",
      "iter 18, prop pl 0.9988856729377713, acc 0.9619573082489146\n",
      "iter 19, prop pl 0.9989761215629522, acc 0.9619500723589002\n",
      "iter 20, prop pl 0.9956403762662808, acc 0.9615991316931982\n",
      "iter 21, prop pl 0.9957416787264833, acc 0.9613422575976845\n",
      "iter 22, prop pl 0.996396526772793, acc 0.9613820549927641\n",
      "iter 23, prop pl 0.9975289435600578, acc 0.9616280752532561\n",
      "iter 24, prop pl 0.9970984081041968, acc 0.9615376266280753\n",
      "iter 25, prop pl 0.9962047756874095, acc 0.9616461649782924\n",
      "iter 26, prop pl 0.9976085383502171, acc 0.9616642547033285\n",
      "iter 27, prop pl 0.9959985528219971, acc 0.9616678726483358\n",
      "iter 28, prop pl 0.9942619392185239, acc 0.9615593342981187\n",
      "iter 29, prop pl 0.9979811866859624, acc 0.961870477568741\n",
      "iter 30, prop pl 0.9984623733719248, acc 0.9619283646888567\n",
      "iter 31, prop pl 0.9888060781476121, acc 0.9609985528219971\n",
      "iter 32, prop pl 0.9918994211287988, acc 0.9616534008683068\n",
      "iter 33, prop pl 0.9974421128798843, acc 0.9617908827785817\n",
      "iter 34, prop pl 0.994218523878437, acc 0.9617149059334298\n",
      "iter 35, prop pl 0.9946201157742403, acc 0.9618306801736614\n",
      "iter 36, prop pl 0.9973046309696093, acc 0.961917510853835\n",
      "iter 37, prop pl 0.9986287988422576, acc 0.962007959479016\n",
      "iter 38, prop pl 0.9818523878437048, acc 0.959095513748191\n",
      "iter 39, prop pl 0.9891280752532562, acc 0.9612481910274964\n",
      "iter 40, prop pl 0.9977098408104197, acc 0.9616642547033285\n",
      "iter 41, prop pl 0.9970369030390738, acc 0.9615991316931982\n",
      "iter 42, prop pl 0.9955643994211288, acc 0.9615520984081042\n",
      "iter 43, prop pl 0.9925542691751086, acc 0.9614073806078147\n",
      "iter 44, prop pl 0.9941606367583212, acc 0.9608791606367583\n",
      "iter 45, prop pl 0.9950832127351664, acc 0.9617691751085383\n",
      "iter 46, prop pl 0.9891895803183791, acc 0.9602387843704776\n",
      "iter 47, prop pl 0.9954811866859624, acc 0.9612662807525325\n",
      "iter 48, prop pl 0.9949819102749639, acc 0.9616136034732272\n",
      "iter 49, prop pl 0.9935745296671491, acc 0.9610166425470333\n",
      "iter 50, prop pl 0.9939182344428364, acc 0.9609696092619392\n",
      "iter 51, prop pl 0.9941316931982633, acc 0.9618487698986975\n",
      "iter 52, prop pl 0.9914218523878437, acc 0.9621635311143271\n",
      "iter 53, prop pl 0.9957235890014472, acc 0.9618813314037626\n",
      "iter 54, prop pl 0.9978581765557164, acc 0.9616642547033285\n",
      "iter 55, prop pl 0.9967112879884226, acc 0.9613567293777134\n",
      "iter 56, prop pl 0.9959913169319826, acc 0.9615484804630969\n",
      "iter 57, prop pl 0.995629522431259, acc 0.961410998552822\n",
      "iter 58, prop pl 0.9975904486251809, acc 0.9617366136034732\n",
      "iter 59, prop pl 0.9968994211287988, acc 0.9617547033285094\n",
      "iter 60, prop pl 0.9954884225759768, acc 0.9620188133140376\n",
      "iter 61, prop pl 0.9967040520984081, acc 0.9619826338639653\n",
      "iter 62, prop pl 0.9959949348769899, acc 0.9617727930535456\n",
      "iter 63, prop pl 0.990383502170767, acc 0.9610455861070911\n",
      "iter 64, prop pl 0.9966497829232995, acc 0.9617727930535456\n",
      "iter 65, prop pl 0.9934189580318379, acc 0.9616172214182345\n",
      "iter 66, prop pl 0.9947503617945007, acc 0.9621382054992764\n",
      "iter 67, prop pl 0.9966968162083937, acc 0.9617691751085383\n",
      "iter 68, prop pl 0.9847250361794501, acc 0.9565123010130246\n",
      "iter 69, prop pl 0.9906657018813314, acc 0.9599421128798842\n",
      "iter 70, prop pl 0.9936577424023155, acc 0.9613494934876989\n",
      "iter 71, prop pl 0.9980861070911722, acc 0.9618270622286541\n",
      "iter 72, prop pl 0.997623010130246, acc 0.9619790159189581\n",
      "iter 73, prop pl 0.9987301013024602, acc 0.9618487698986975\n",
      "iter 74, prop pl 0.9982706222865413, acc 0.9617149059334298\n",
      "iter 75, prop pl 0.9977821997105644, acc 0.9617149059334298\n",
      "iter 76, prop pl 0.9961107091172214, acc 0.9613458755426918\n",
      "iter 77, prop pl 0.9966461649782923, acc 0.9614869753979739\n",
      "iter 78, prop pl 0.9970260492040521, acc 0.9617221418234443\n",
      "iter 79, prop pl 0.9974059334298119, acc 0.9617510853835022\n",
      "iter 80, prop pl 0.996595513748191, acc 0.9616497829232996\n",
      "iter 81, prop pl 0.9927279305354558, acc 0.9604088277858177\n",
      "iter 82, prop pl 0.996979015918958, acc 0.9617836468885673\n",
      "iter 83, prop pl 0.9963277858176556, acc 0.9617908827785817\n",
      "iter 84, prop pl 0.9956078147612156, acc 0.9621418234442837\n",
      "iter 85, prop pl 0.9971743849493487, acc 0.9618523878437047\n",
      "iter 86, prop pl 0.9894392185238784, acc 0.9608465991316932\n",
      "iter 87, prop pl 0.9978400868306802, acc 0.9619898697539797\n",
      "iter 88, prop pl 0.9977966714905934, acc 0.961856005788712\n",
      "iter 89, prop pl 0.9959876989869754, acc 0.9621201157742403\n",
      "iter 90, prop pl 0.9976664254703328, acc 0.9617872648335746\n",
      "iter 91, prop pl 0.9976628075253257, acc 0.9618451519536904\n",
      "iter 92, prop pl 0.9945296671490593, acc 0.9611468885672938\n",
      "iter 93, prop pl 0.9951772793053546, acc 0.9610455861070911\n",
      "iter 94, prop pl 0.9954160636758321, acc 0.9615376266280753\n",
      "iter 95, prop pl 0.9982380607814761, acc 0.9618668596237337\n",
      "iter 96, prop pl 0.9980824891461649, acc 0.961917510853835\n",
      "iter 97, prop pl 0.9979920405209841, acc 0.9619247467438495\n",
      "iter 98, prop pl 0.9940882778581765, acc 0.9615086830680174\n",
      "iter 99, prop pl 0.9971128798842258, acc 0.9619356005788712\n",
      "iter 100, prop pl 0.9950217076700434, acc 0.9618125904486252\n",
      "iter 101, prop pl 0.9951628075253256, acc 0.9615882778581766\n",
      "iter 102, prop pl 0.9960057887120116, acc 0.9617040520984081\n",
      "iter 103, prop pl 0.9931910274963821, acc 0.9612554269175109\n",
      "iter 104, prop pl 0.9968379160636758, acc 0.9618198263386396\n",
      "iter 105, prop pl 0.9963603473227207, acc 0.9619898697539797\n",
      "iter 106, prop pl 0.9983393632416787, acc 0.9618053545586107\n",
      "iter 107, prop pl 0.9961396526772793, acc 0.9617908827785817\n",
      "iter 108, prop pl 0.9906693198263387, acc 0.9614073806078147\n",
      "iter 109, prop pl 0.989171490593343, acc 0.9613458755426918\n",
      "iter 110, prop pl 0.9940701881331404, acc 0.9617583212735167\n",
      "iter 111, prop pl 0.9980173661360348, acc 0.9620007235890015\n",
      "iter 112, prop pl 0.9982742402315484, acc 0.9618053545586107\n",
      "iter 113, prop pl 0.99383502170767, acc 0.9611251808972504\n",
      "iter 114, prop pl 0.9951736613603474, acc 0.9615412445730825\n",
      "iter 115, prop pl 0.9967764109985529, acc 0.9617764109985528\n",
      "iter 116, prop pl 0.9971092619392186, acc 0.9619356005788712\n",
      "iter 117, prop pl 0.996657018813314, acc 0.9617872648335746\n",
      "iter 118, prop pl 0.9965159189580318, acc 0.9618379160636759\n",
      "iter 119, prop pl 0.997040520984081, acc 0.9617366136034732\n",
      "iter 120, prop pl 0.9963458755426917, acc 0.9617872648335746\n",
      "iter 121, prop pl 0.9965303907380608, acc 0.9617981186685962\n",
      "iter 122, prop pl 0.993589001447178, acc 0.961472503617945\n",
      "iter 123, prop pl 0.9939146164978292, acc 0.9610347322720695\n",
      "iter 124, prop pl 0.9959370477568741, acc 0.9617293777134588\n",
      "iter 125, prop pl 0.9970477568740955, acc 0.9615701881331403\n",
      "iter 126, prop pl 0.9968632416787265, acc 0.9616968162083936\n",
      "iter 127, prop pl 0.9855752532561505, acc 0.9596997105643994\n",
      "iter 128, prop pl 0.997286541244573, acc 0.961718523878437\n",
      "iter 129, prop pl 0.9969500723589001, acc 0.9617004341534009\n",
      "iter 130, prop pl 0.9956801736613603, acc 0.961534008683068\n",
      "iter 131, prop pl 0.9966353111432706, acc 0.9617257597684515\n",
      "iter 132, prop pl 0.9966678726483358, acc 0.9617474674384949\n",
      "iter 133, prop pl 0.9954486251808973, acc 0.9620043415340087\n",
      "iter 134, prop pl 0.9966606367583213, acc 0.9615159189580318\n",
      "iter 135, prop pl 0.9920694645441389, acc 0.9599746743849493\n",
      "iter 136, prop pl 0.9870477568740955, acc 0.9599746743849493\n",
      "iter 137, prop pl 0.9826338639652678, acc 0.958129522431259\n",
      "iter 138, prop pl 0.9889544138929088, acc 0.9584623733719247\n",
      "iter 139, prop pl 0.995014471780029, acc 0.9608755426917511\n",
      "iter 140, prop pl 0.9934370477568741, acc 0.9614399421128799\n",
      "iter 141, prop pl 0.9964652677279305, acc 0.9614146164978292\n",
      "iter 142, prop pl 0.9960202604920405, acc 0.9615810419681621\n",
      "iter 143, prop pl 0.9958791606367583, acc 0.9619717800289436\n",
      "iter 144, prop pl 0.9959696092619392, acc 0.9618487698986975\n",
      "iter 145, prop pl 0.9967040520984081, acc 0.9619536903039074\n",
      "iter 146, prop pl 0.9961070911722142, acc 0.9614471780028944\n",
      "iter 147, prop pl 0.9966136034732272, acc 0.9617619392185239\n",
      "iter 148, prop pl 0.9974565846599132, acc 0.9616063675832127\n",
      "iter 149, prop pl 0.9965267727930536, acc 0.9622250361794501\n",
      "iter 150, prop pl 0.997959479015919, acc 0.9620586107091172\n",
      "iter 151, prop pl 0.9960057887120116, acc 0.9623191027496382\n",
      "iter 152, prop pl 0.9969247467438495, acc 0.961657018813314\n",
      "iter 153, prop pl 0.9961577424023155, acc 0.9616280752532561\n",
      "iter 154, prop pl 0.9954775687409552, acc 0.961136034732272\n",
      "iter 155, prop pl 0.9969573082489146, acc 0.9614073806078147\n",
      "iter 156, prop pl 0.9959261939218524, acc 0.9610781476121563\n",
      "iter 157, prop pl 0.9984587554269175, acc 0.9619283646888567\n",
      "iter 158, prop pl 0.9959334298118668, acc 0.9622901591895803\n",
      "iter 159, prop pl 0.9976266280752533, acc 0.9621454413892909\n",
      "iter 160, prop pl 0.9967510853835022, acc 0.9620984081041968\n",
      "iter 161, prop pl 0.9973842257597685, acc 0.9616968162083936\n",
      "iter 162, prop pl 0.9962481910274964, acc 0.9615303907380608\n",
      "iter 163, prop pl 0.9954486251808973, acc 0.9611034732272069\n",
      "iter 164, prop pl 0.9970947901591896, acc 0.9618162083936325\n",
      "iter 165, prop pl 0.9971237337192475, acc 0.9620947901591895\n",
      "iter 166, prop pl 0.9970984081041968, acc 0.9614797395079595\n",
      "iter 167, prop pl 0.9982923299565847, acc 0.9620369030390739\n",
      "iter 168, prop pl 0.9980607814761215, acc 0.9620658465991317\n",
      "iter 169, prop pl 0.9953075253256151, acc 0.9615123010130247\n",
      "iter 170, prop pl 0.9975470332850941, acc 0.9621273516642547\n",
      "iter 171, prop pl 0.9950289435600579, acc 0.961150506512301\n",
      "iter 172, prop pl 0.9963024602026049, acc 0.9615231548480463\n",
      "iter 173, prop pl 0.9970441389290883, acc 0.9619898697539797\n",
      "iter 174, prop pl 0.9962373371924746, acc 0.961718523878437\n",
      "iter 175, prop pl 0.9961794500723589, acc 0.9613929088277858\n",
      "iter 176, prop pl 0.995980463096961, acc 0.9619247467438495\n",
      "iter 177, prop pl 0.9960238784370478, acc 0.961917510853835\n",
      "iter 178, prop pl 0.9953907380607815, acc 0.961273516642547\n",
      "iter 179, prop pl 0.9963277858176556, acc 0.9613784370477568\n",
      "iter 180, prop pl 0.996747467438495, acc 0.9614146164978292\n",
      "iter 181, prop pl 0.9936468885672938, acc 0.9606331403762662\n",
      "iter 182, prop pl 0.9967221418234443, acc 0.9618921852387844\n",
      "iter 183, prop pl 0.9959587554269175, acc 0.9609551374819103\n",
      "iter 184, prop pl 0.9949782923299566, acc 0.9610564399421129\n",
      "iter 185, prop pl 0.9968813314037627, acc 0.9617655571635311\n",
      "iter 186, prop pl 0.9970007235890015, acc 0.9617221418234443\n",
      "iter 187, prop pl 0.996946454413893, acc 0.9617438494934877\n",
      "iter 188, prop pl 0.9958248914616498, acc 0.961410998552822\n",
      "iter 189, prop pl 0.9936866859623734, acc 0.9602424023154849\n",
      "iter 190, prop pl 0.9974674384949349, acc 0.9616895803183791\n",
      "iter 191, prop pl 0.995629522431259, acc 0.9609442836468886\n",
      "iter 192, prop pl 0.9953400868306802, acc 0.9620513748191027\n",
      "iter 193, prop pl 0.9950651230101303, acc 0.9621201157742403\n",
      "iter 194, prop pl 0.9927677279305355, acc 0.9597141823444284\n",
      "iter 195, prop pl 0.9956331403762663, acc 0.9612047756874096\n",
      "iter 196, prop pl 0.9965774240231549, acc 0.962116497829233\n",
      "iter 197, prop pl 0.9939978292329956, acc 0.9608357452966715\n",
      "iter 198, prop pl 0.9978364688856729, acc 0.9618885672937771\n",
      "iter 199, prop pl 0.9977351664254703, acc 0.9620007235890015\n",
      "iter 200, prop pl 0.9967800289435601, acc 0.9615267727930535\n",
      "iter 201, prop pl 0.993773516642547, acc 0.9610202604920405\n",
      "iter 202, prop pl 0.9888820549927642, acc 0.959479015918958\n",
      "iter 203, prop pl 0.9858574529667149, acc 0.9601917510853835\n",
      "iter 204, prop pl 0.9914073806078147, acc 0.9605535455861071\n",
      "iter 205, prop pl 0.9928364688856729, acc 0.9610528219971056\n",
      "iter 206, prop pl 0.9938024602026049, acc 0.9614435600578871\n",
      "iter 207, prop pl 0.9942402315484805, acc 0.9616461649782924\n",
      "iter 208, prop pl 0.9942619392185239, acc 0.9614833574529668\n",
      "iter 209, prop pl 0.9924059334298119, acc 0.9612626628075254\n",
      "iter 210, prop pl 0.9949023154848047, acc 0.9614544138929089\n",
      "iter 211, prop pl 0.9959406657018813, acc 0.9613386396526773\n",
      "iter 212, prop pl 0.9959081041968162, acc 0.9615484804630969\n",
      "iter 213, prop pl 0.9950217076700434, acc 0.9616859623733719\n",
      "iter 214, prop pl 0.9962698986975398, acc 0.9613892908827786\n",
      "iter 215, prop pl 0.9959442836468886, acc 0.9616136034732272\n",
      "iter 216, prop pl 0.9974638205499277, acc 0.9618849493487699\n",
      "iter 217, prop pl 0.9975361794500723, acc 0.9617510853835022\n",
      "iter 218, prop pl 0.9977098408104197, acc 0.9618125904486252\n",
      "iter 219, prop pl 0.9972720694645442, acc 0.9617474674384949\n",
      "iter 220, prop pl 0.9965195369030391, acc 0.9617040520984081\n",
      "iter 221, prop pl 0.9965123010130246, acc 0.9615665701881332\n",
      "iter 222, prop pl 0.9962192474674385, acc 0.9615701881331403\n",
      "iter 223, prop pl 0.9976736613603473, acc 0.9619319826338639\n",
      "iter 224, prop pl 0.9970911722141823, acc 0.9616787264833575\n",
      "iter 225, prop pl 0.9956186685962374, acc 0.9612156295224312\n",
      "iter 226, prop pl 0.9968777134587554, acc 0.961657018813314\n",
      "iter 227, prop pl 0.9967366136034732, acc 0.9620947901591895\n",
      "iter 228, prop pl 0.9973227206946454, acc 0.9618198263386396\n",
      "iter 229, prop pl 0.99777496382055, acc 0.9619138929088278\n",
      "iter 230, prop pl 0.9977026049204052, acc 0.9618958031837916\n",
      "iter 231, prop pl 0.9954956584659913, acc 0.9613892908827786\n",
      "iter 232, prop pl 0.9974674384949349, acc 0.9617691751085383\n",
      "iter 233, prop pl 0.9961541244573082, acc 0.9615159189580318\n",
      "iter 234, prop pl 0.9972648335745297, acc 0.9616859623733719\n",
      "iter 235, prop pl 0.9963567293777135, acc 0.9616280752532561\n",
      "iter 236, prop pl 0.996410998552822, acc 0.9616063675832127\n",
      "iter 237, prop pl 0.9976121562952243, acc 0.9620007235890015\n",
      "iter 238, prop pl 0.9943415340086831, acc 0.9612518089725036\n",
      "iter 239, prop pl 0.997362518089725, acc 0.9619066570188133\n",
      "iter 240, prop pl 0.9983357452966715, acc 0.9620875542691751\n",
      "iter 241, prop pl 0.9961070911722142, acc 0.9615412445730825\n",
      "iter 242, prop pl 0.9963712011577424, acc 0.9618379160636759\n",
      "iter 243, prop pl 0.9973914616497829, acc 0.9618342981186686\n",
      "iter 244, prop pl 0.997376989869754, acc 0.9616353111432706\n",
      "iter 245, prop pl 0.9940520984081042, acc 0.9613096960926194\n",
      "iter 246, prop pl 0.997192474674385, acc 0.9617872648335746\n",
      "iter 247, prop pl 0.989081041968162, acc 0.960108538350217\n",
      "iter 248, prop pl 0.9967764109985529, acc 0.9616461649782924\n",
      "iter 249, prop pl 0.9956078147612156, acc 0.9614942112879884\n",
      "iter 250, prop pl 0.9953871201157742, acc 0.9613024602026049\n",
      "iter 251, prop pl 0.9957163531114327, acc 0.96160998552822\n",
      "iter 252, prop pl 0.9955933429811867, acc 0.9611685962373372\n",
      "iter 253, prop pl 0.9961866859623734, acc 0.9615810419681621\n",
      "iter 254, prop pl 0.9958502170767004, acc 0.9614507959479016\n",
      "iter 255, prop pl 0.9965738060781476, acc 0.9618813314037626\n",
      "iter 256, prop pl 0.994739507959479, acc 0.9611541244573083\n",
      "iter 257, prop pl 0.9959768451519537, acc 0.9614327062228654\n",
      "iter 258, prop pl 0.9965738060781476, acc 0.9617438494934877\n",
      "iter 259, prop pl 0.9967547033285095, acc 0.9614218523878437\n",
      "iter 260, prop pl 0.9955571635311143, acc 0.9614471780028944\n",
      "iter 261, prop pl 0.9963820549927641, acc 0.9618125904486252\n",
      "iter 262, prop pl 0.9956548480463097, acc 0.9614290882778582\n",
      "iter 263, prop pl 0.9967112879884226, acc 0.9616751085383503\n",
      "iter 264, prop pl 0.9945767004341534, acc 0.9610926193921853\n",
      "iter 265, prop pl 0.9965231548480463, acc 0.9616063675832127\n",
      "iter 266, prop pl 0.9953256150506512, acc 0.9609876989869754\n",
      "iter 267, prop pl 0.996363965267728, acc 0.9611975397973951\n",
      "iter 268, prop pl 0.9963856729377714, acc 0.9617764109985528\n"
     ]
    }
   ],
   "source": [
    "result = permutation_importance(scoring_data, score_model, 'min', variable_names=input_cols, nimportant_vars=1)"
   ]
  },
  {
   "cell_type": "code",
   "execution_count": 75,
   "id": "55a85727-7798-4505-ba94-4796e80a5b13",
   "metadata": {
    "tags": []
   },
   "outputs": [],
   "source": [
    "singlepass = result.retrieve_singlepass()"
   ]
  },
  {
   "cell_type": "code",
   "execution_count": 76,
   "id": "6a4076c4-37c3-4886-96d3-03b23e13aa5c",
   "metadata": {},
   "outputs": [],
   "source": [
    "temp = pd.DataFrame(singlepass).transpose()\n",
    "temp.columns = [\"Rank\", \"Accuracy\"]\n",
    "temp.to_csv(\"permimp_results/perm_imp_ra_single_predcond.csv\")"
   ]
  },
  {
   "cell_type": "markdown",
   "id": "0443699c-8819-431b-8a69-abf66d046c06",
   "metadata": {
    "tags": []
   },
   "source": [
    "### Evaluation"
   ]
  },
  {
   "cell_type": "code",
   "execution_count": 180,
   "id": "6be2b570-be12-4065-86b1-9c1125da0704",
   "metadata": {},
   "outputs": [],
   "source": [
    "singlepass_results = pd.read_csv(\"permimp_results/perm_imp_ra_single_corrected.csv\", index_col=0)"
   ]
  },
  {
   "cell_type": "code",
   "execution_count": 184,
   "id": "8ec5fae5-4d13-45c2-b18d-9dca07468e3a",
   "metadata": {},
   "outputs": [],
   "source": [
    "dict_names = dict(zip([\"TEMP C\", \"UGRD m/s\", \"VGRD m/s\", \"T DEWPOINT C\"], [\"Temp\", \"Dewpoint\", \"u-Wind\", \"v-Wind\"]))"
   ]
  },
  {
   "cell_type": "code",
   "execution_count": 185,
   "id": "7b630b32-4b2e-4efc-a3d3-47816897aeb3",
   "metadata": {},
   "outputs": [],
   "source": [
    "singlepass_results.index = singlepass_results.index.str.replace(\"_\", \" \")"
   ]
  },
  {
   "cell_type": "code",
   "execution_count": 186,
   "id": "f43fc0c5-255b-4a32-aa84-7a96056edaff",
   "metadata": {},
   "outputs": [],
   "source": [
    "def readable_varnames(s):\n",
    "    segs = s.split(\"_\")\n",
    "    lst = [s.replace(k, v) for k, v in dict_names.items() if k in s]\n",
    "    return lst[0]"
   ]
  },
  {
   "cell_type": "code",
   "execution_count": 187,
   "id": "581c4865-e116-4444-bf49-d8ff82297a9f",
   "metadata": {},
   "outputs": [],
   "source": [
    "singlepass_results.index = singlepass_results.index.map(readable_varnames)"
   ]
  },
  {
   "cell_type": "code",
   "execution_count": 188,
   "id": "b0fc582f-1b36-41ea-bb81-4e8751c9e8be",
   "metadata": {},
   "outputs": [],
   "source": [
    "colors = {\"Tem\":\"teal\", \"Dew\":\"paleturquoise\", \"u-W\":\"maroon\", \"v-W\":\"indianred\"}"
   ]
  },
  {
   "cell_type": "code",
   "execution_count": 189,
   "id": "a00c3ec3-6e45-4583-aa79-cdb2b8e4c62b",
   "metadata": {},
   "outputs": [],
   "source": [
    "color_values = [\"teal\", \"paleturquoise\", \"maroon\", \"indianred\"]"
   ]
  },
  {
   "cell_type": "code",
   "execution_count": 190,
   "id": "349cbc5e-ff9d-43e7-b19b-6087e3b20245",
   "metadata": {
    "tags": []
   },
   "outputs": [],
   "source": [
    "bar_colors = [colors[i] for i in [var[:3] for var in singlepass_results.index]]"
   ]
  },
  {
   "cell_type": "code",
   "execution_count": 192,
   "id": "c661a603-294a-4144-b2d4-89f6f2124c2f",
   "metadata": {},
   "outputs": [],
   "source": [
    "m = 10\n",
    "temp_hand = mlines.Line2D([], [], color=color_values[0], marker='o', linestyle=\"None\", label=\"Temp\", markersize=m)\n",
    "dewtemp_hand = mlines.Line2D([], [], color=color_values[1], marker='o', linestyle=\"None\", label=\"Dewpoint Temp\", markersize=m)\n",
    "ugrd_hand = mlines.Line2D([], [], color=color_values[2], marker='o', linestyle=\"None\", label=\"u-Wind\", markersize=m)\n",
    "vgrd_hand = mlines.Line2D([], [], color=color_values[3], marker='o', linestyle=\"None\", label=\"v-Wind\", markersize=m)"
   ]
  },
  {
   "cell_type": "code",
   "execution_count": 195,
   "id": "ff5c7475-5547-4aa4-a8c1-7197766cb2cd",
   "metadata": {},
   "outputs": [
    {
     "data": {
      "image/png": "[encoded data removed]",
      "text/plain": [
       "<Figure size 576x576 with 1 Axes>"
      ]
     },
     "metadata": {
      "needs_background": "light"
     },
     "output_type": "display_data"
    }
   ],
   "source": [
    "plt.figure(figsize=(8, 8))\n",
    "plt.barh(singlepass_results.index[9::-1], singlepass_results.iloc[:, 1][9::-1], color=bar_colors[9::-1])\n",
    "plt.yticks(fontsize=12)\n",
    "plt.xlim(0.8868, 0.9868)\n",
    "plt.margins(y=0.02)\n",
    "plt.axvline(x=0.9568, color=\"purple\")\n",
    "plt.xlabel(\"P-Type Prediction Accuracy\", fontsize=12)\n",
    "plt.title(\"Top 10 Greatest Accuracy Reductions\", fontsize=20)\n",
    "plt.legend(handles=[temp_hand, dewtemp_hand, ugrd_hand, vgrd_hand], loc=\"lower right\")\n",
    "plt.savefig(\"permimp_visualizations/perm_imp_ra_single.png\", dpi=300, bbox_inches=\"tight\")"
   ]
  },
  {
   "cell_type": "code",
   "execution_count": 197,
   "id": "f1811e8c-aab7-441a-8962-e2273a383dd1",
   "metadata": {},
   "outputs": [],
   "source": [
    "temp_imp = np.array([singlepass_results.loc[var] for var in singlepass_results.index if \"Tem\" in var])\n",
    "dewtemp_imp = np.array([singlepass_results.loc[var] for var in singlepass_results.index if \"Dew\" in var])\n",
    "ugrd_imp = np.array([singlepass_results.loc[var] for var in singlepass_results.index if \"u-W\" in var])\n",
    "vgrd_imp = np.array([singlepass_results.loc[var] for var in singlepass_results.index if \"v-W\" in var])"
   ]
  },
  {
   "cell_type": "code",
   "execution_count": 198,
   "id": "ddd81f3a-90ff-4258-8289-65470b4c7014",
   "metadata": {},
   "outputs": [
    {
     "data": {
      "image/png": "[encoded data removed]",
      "text/plain": [
       "<Figure size 432x288 with 1 Axes>"
      ]
     },
     "metadata": {
      "needs_background": "light"
     },
     "output_type": "display_data"
    }
   ],
   "source": [
    "# plt.figure(figsize=(10, 30))\n",
    "plt.xlim(0.90, 1)\n",
    "plt.barh(singlepass_results[[\"Tem\" in var for var in singlepass_results.index]].index[9::-1], \n",
    "         temp_imp[:, 1][9::-1], color=color_values[0])\n",
    "plt.axvline(x=0.9620, color=\"purple\")\n",
    "plt.title(\"Temp Variables: Greatest Accuracy Reductions\")\n",
    "plt.xlabel(\"Accuracy\")\n",
    "plt.savefig(\"permimp_visualizations/perm_imp_ra_temp_single.png\", dpi=300, bbox_inches=\"tight\")"
   ]
  },
  {
   "cell_type": "code",
   "execution_count": 199,
   "id": "f4d93aec-27c3-4212-b727-0ca14e536ef0",
   "metadata": {},
   "outputs": [
    {
     "data": {
      "image/png": "[encoded data removed]",
      "text/plain": [
       "<Figure size 432x288 with 1 Axes>"
      ]
     },
     "metadata": {
      "needs_background": "light"
     },
     "output_type": "display_data"
    }
   ],
   "source": [
    "plt.xlim(0.90, 1)\n",
    "plt.barh(singlepass_results[[\"Dew\" in var for var in singlepass_results.index]].index[9::-1], \n",
    "         dewtemp_imp[:, 1][9::-1], color=color_values[1])\n",
    "plt.title(\"Dewpoint Temp Variables: Greatest Accuracy Reductions\")\n",
    "plt.axvline(x=0.9620, color=\"purple\")\n",
    "plt.xlabel(\"Accuracy\")\n",
    "plt.savefig(\"permimp_visualizations/perm_imp_ra_dewtemp_single.png\", dpi=300, bbox_inches=\"tight\")"
   ]
  },
  {
   "cell_type": "code",
   "execution_count": 200,
   "id": "669980e7-8d35-4977-a5dd-be76884c3ca3",
   "metadata": {},
   "outputs": [
    {
     "data": {
      "image/png": "[encoded data removed]",
      "text/plain": [
       "<Figure size 432x288 with 1 Axes>"
      ]
     },
     "metadata": {
      "needs_background": "light"
     },
     "output_type": "display_data"
    }
   ],
   "source": [
    "plt.xlim(0.90, 1)\n",
    "plt.barh(singlepass_results[[\"u-W\" in var for var in singlepass_results.index]].index[9::-1], \n",
    "         ugrd_imp[:, 1][9::-1], color=color_values[2])\n",
    "plt.title(\"u-Wind Variables: Greatest Accuracy Reductions\")\n",
    "plt.axvline(x=0.9620, color=\"purple\")\n",
    "plt.xlabel(\"Accuracy\")\n",
    "plt.savefig(\"permimp_visualizations/perm_imp_ra_ugrd_single.png\", dpi=300, bbox_inches=\"tight\")"
   ]
  },
  {
   "cell_type": "code",
   "execution_count": 201,
   "id": "f86c01c5-1042-464a-b088-2e09267459d3",
   "metadata": {},
   "outputs": [
    {
     "data": {
      "image/png": "[encoded data removed]",
      "text/plain": [
       "<Figure size 432x288 with 1 Axes>"
      ]
     },
     "metadata": {
      "needs_background": "light"
     },
     "output_type": "display_data"
    }
   ],
   "source": [
    "plt.xlim(0.90, 1)\n",
    "plt.barh(singlepass_results[[\"v-W\" in var for var in singlepass_results.index]].index[9::-1], \n",
    "         vgrd_imp[:, 1][9::-1], color=color_values[3])\n",
    "plt.title(\"v-Wind Variables: Greatest Accuracy Reductions\")\n",
    "plt.axvline(x=0.9620, color=\"purple\")\n",
    "plt.xlabel(\"Accuracy\")\n",
    "plt.savefig(\"permimp_visualizations/perm_imp_ra_vgrd_single.png\", dpi=300, bbox_inches=\"tight\")"
   ]
  },
  {
   "cell_type": "markdown",
   "id": "06c0b6c1-c621-41ac-947b-2dce31b4514d",
   "metadata": {
    "tags": []
   },
   "source": [
    "## Backwards Singlepass Permutation: Snow"
   ]
  },
  {
   "cell_type": "markdown",
   "id": "f1dd2542-f17a-4b41-946b-e27f3fcca54a",
   "metadata": {
    "jp-MarkdownHeadingCollapsed": true,
    "tags": []
   },
   "source": [
    "### Original Accuracy: Snow"
   ]
  },
  {
   "cell_type": "code",
   "execution_count": 89,
   "id": "2f4d522b-fbdb-4409-b5b5-1cc137e9c838",
   "metadata": {},
   "outputs": [],
   "source": [
    "y_pred_onehot = model.predict(x_test)"
   ]
  },
  {
   "cell_type": "code",
   "execution_count": 90,
   "id": "986bbb85-8cd0-4132-ac7f-1d3d26c5bc96",
   "metadata": {},
   "outputs": [],
   "source": [
    "y_pred_train_onehot = model.predict(x_train)"
   ]
  },
  {
   "cell_type": "code",
   "execution_count": 91,
   "id": "282abe04-9fce-4b55-ad6c-2c58395d5799",
   "metadata": {},
   "outputs": [],
   "source": [
    "# Converting one-hot labels to categorical labels\n",
    "y_pred_labels = np.argmax(y_pred_onehot, axis=1)\n",
    "y_test_labels = np.argmax(y_test, axis=1)"
   ]
  },
  {
   "cell_type": "code",
   "execution_count": 92,
   "id": "c03becbb-511c-45ad-91b2-bbc89e6ee4fb",
   "metadata": {},
   "outputs": [],
   "source": [
    "y_pred_train_labels = np.argmax(y_pred_train_onehot, axis=1)\n",
    "y_train_labels = np.argmax(y_train, axis=1)"
   ]
  },
  {
   "cell_type": "code",
   "execution_count": 93,
   "id": "cca1fd62-1148-431f-ab97-93d9eaa923b8",
   "metadata": {},
   "outputs": [],
   "source": [
    "pl_y_pred_labels = y_pred_labels[y_pred_labels == 1]\n",
    "pl_y_test_labels = y_test_labels[y_pred_labels == 1]"
   ]
  },
  {
   "cell_type": "code",
   "execution_count": 94,
   "id": "e5e4cb33-9b48-479b-91db-5997cfb145e5",
   "metadata": {},
   "outputs": [],
   "source": [
    "pl_y_pred_train_labels = y_pred_train_labels[y_pred_train_labels == 1]\n",
    "pl_y_train_labels = y_train_labels[y_pred_train_labels == 1]"
   ]
  },
  {
   "cell_type": "code",
   "execution_count": 95,
   "id": "1857175a-2682-4f93-9cc6-4fe05ea1e2b6",
   "metadata": {},
   "outputs": [
    {
     "data": {
      "text/plain": [
       "0.8497861420017109"
      ]
     },
     "execution_count": 95,
     "metadata": {},
     "output_type": "execute_result"
    }
   ],
   "source": [
    "accuracy_score(pl_y_test_labels, pl_y_pred_labels)"
   ]
  },
  {
   "cell_type": "code",
   "execution_count": 96,
   "id": "dcba3a83-8639-43f2-930e-d71b534d0e2f",
   "metadata": {},
   "outputs": [
    {
     "data": {
      "text/plain": [
       "0.8780115624147086"
      ]
     },
     "execution_count": 96,
     "metadata": {},
     "output_type": "execute_result"
    }
   ],
   "source": [
    "accuracy_score(pl_y_train_labels, pl_y_pred_train_labels)"
   ]
  },
  {
   "cell_type": "markdown",
   "id": "300278a9-e559-4de3-8a14-c8a16c7dbd1f",
   "metadata": {
    "jp-MarkdownHeadingCollapsed": true,
    "tags": []
   },
   "source": [
    "### Permutation"
   ]
  },
  {
   "cell_type": "code",
   "execution_count": 97,
   "id": "1dfb53fa-38e3-475d-bb63-b93605904379",
   "metadata": {},
   "outputs": [],
   "source": [
    "scoring_data = (x_train[y_pred_train_labels == 1], y_train[y_pred_train_labels == 1])"
   ]
  },
  {
   "cell_type": "code",
   "execution_count": 99,
   "id": "bc6d09ab-f1ab-491b-93af-9259dac78d70",
   "metadata": {
    "collapsed": true,
    "jupyter": {
     "outputs_hidden": true
    },
    "tags": []
   },
   "outputs": [
    {
     "name": "stdout",
     "output_type": "stream",
     "text": [
      "iter 0, prop pl 1.0, acc 0.8780115624147086\n",
      "iter 1, prop pl 0.9828982954122522, acc 0.8724598665111778\n",
      "iter 2, prop pl 0.9886795027665435, acc 0.874879041262437\n",
      "iter 3, prop pl 0.9916259335533335, acc 0.8757412599558345\n",
      "iter 4, prop pl 0.9931332655137335, acc 0.876801975039079\n",
      "iter 5, prop pl 0.9951120264000198, acc 0.8771989678187728\n",
      "iter 6, prop pl 0.9931952956355606, acc 0.876646899734511\n",
      "iter 7, prop pl 0.9911545046274471, acc 0.8759211473091333\n",
      "iter 8, prop pl 0.9909373992010521, acc 0.875666823809642\n",
      "iter 9, prop pl 0.993952063121852, acc 0.8765848696126839\n",
      "iter 10, prop pl 0.993077438404089, acc 0.8762623129791827\n",
      "iter 11, prop pl 0.9956516884599161, acc 0.8772299828796863\n",
      "iter 12, prop pl 0.9942374016822569, acc 0.8767709599781653\n",
      "iter 13, prop pl 0.9946468004863162, acc 0.877149343721311\n",
      "iter 14, prop pl 0.9936419125127162, acc 0.8767523509416173\n",
      "iter 15, prop pl 0.9954221770091557, acc 0.8773168250502444\n",
      "iter 16, prop pl 0.9952360866436741, acc 0.8772113738431382\n",
      "iter 17, prop pl 0.9953353348385976, acc 0.8773540431233406\n",
      "iter 18, prop pl 0.9936543185370816, acc 0.8771369376969457\n",
      "iter 19, prop pl 0.9944110860233729, acc 0.8772299828796863\n",
      "iter 20, prop pl 0.9901868347269434, acc 0.87669032081979\n",
      "iter 21, prop pl 0.9939892811949482, acc 0.8773664491477061\n",
      "iter 22, prop pl 0.9939396570974866, acc 0.8772796069771481\n",
      "iter 23, prop pl 0.9954593950822519, acc 0.8772609979406\n",
      "iter 24, prop pl 0.9918244299431804, acc 0.876671711783242\n",
      "iter 25, prop pl 0.9931394685259162, acc 0.87719276480659\n",
      "iter 26, prop pl 0.9940513113167754, acc 0.8773230280624271\n",
      "iter 27, prop pl 0.9951802595340298, acc 0.8771555467334938\n",
      "iter 28, prop pl 0.9936543185370816, acc 0.8768764111852716\n",
      "iter 29, prop pl 0.9947398456690569, acc 0.8775153214400913\n",
      "iter 30, prop pl 0.9964270649827556, acc 0.877521524452274\n",
      "iter 31, prop pl 0.9938466119147458, acc 0.8772361858918691\n",
      "iter 32, prop pl 0.9927796938193186, acc 0.8771245316725802\n",
      "iter 33, prop pl 0.9954159739969729, acc 0.87719276480659\n",
      "iter 34, prop pl 0.9934372131106866, acc 0.8769570503436469\n",
      "iter 35, prop pl 0.9956702974964643, acc 0.8773974642086197\n",
      "iter 36, prop pl 0.9951616504974816, acc 0.877651787708111\n",
      "iter 37, prop pl 0.9953415378507804, acc 0.8775153214400913\n",
      "iter 38, prop pl 0.9909498052254174, acc 0.8773540431233406\n",
      "iter 39, prop pl 0.9946592065106816, acc 0.8777634419274\n",
      "iter 40, prop pl 0.9948701089248939, acc 0.8775029154157259\n",
      "iter 41, prop pl 0.9936977396223606, acc 0.8770749075751185\n",
      "iter 42, prop pl 0.9956827035208297, acc 0.8775029154157259\n",
      "iter 43, prop pl 0.9925439793563755, acc 0.8770873135994839\n",
      "iter 44, prop pl 0.990980820286331, acc 0.8760762226137012\n",
      "iter 45, prop pl 0.9918678510284594, acc 0.8767523509416173\n",
      "iter 46, prop pl 0.9927176636974915, acc 0.8767027268441555\n",
      "iter 47, prop pl 0.9924509341736347, acc 0.8766593057588765\n",
      "iter 48, prop pl 0.9883693521574076, acc 0.876603478649232\n",
      "iter 49, prop pl 0.9922772498325186, acc 0.8771307346847629\n",
      "iter 50, prop pl 0.9914584522244002, acc 0.8763305461131926\n",
      "iter 51, prop pl 0.9933069498548495, acc 0.876646899734511\n",
      "iter 52, prop pl 0.9913592040294767, acc 0.8762188918939037\n",
      "iter 53, prop pl 0.9940264992680445, acc 0.877105922636032\n",
      "iter 54, prop pl 0.9915763094558717, acc 0.8766406967223284\n",
      "iter 55, prop pl 0.9937597697441878, acc 0.8769880654045604\n",
      "iter 56, prop pl 0.9880964196213682, acc 0.8758467111629408\n",
      "iter 57, prop pl 0.9934061980497729, acc 0.877105922636032\n",
      "iter 58, prop pl 0.9943862739746421, acc 0.8772672009527827\n",
      "iter 59, prop pl 0.9946964245837778, acc 0.877391261196437\n",
      "iter 60, prop pl 0.9953043197776841, acc 0.8776207726471975\n",
      "iter 61, prop pl 0.995502816167531, acc 0.8775153214400913\n",
      "iter 62, prop pl 0.9932449197330223, acc 0.8771617497456765\n",
      "iter 63, prop pl 0.9940451083045927, acc 0.8775773515619185\n",
      "iter 64, prop pl 0.9873830732203558, acc 0.8767957720268963\n",
      "iter 65, prop pl 0.9942808227675359, acc 0.8776021636106494\n",
      "iter 66, prop pl 0.9906396546162817, acc 0.8772113738431382\n",
      "iter 67, prop pl 0.9908443540183113, acc 0.8769942684167432\n",
      "iter 68, prop pl 0.9663858769818624, acc 0.8630871151030941\n",
      "iter 69, prop pl 0.9708458427412352, acc 0.8662258392675484\n",
      "iter 70, prop pl 0.976242463340198, acc 0.8692715182492619\n",
      "iter 71, prop pl 0.9902860829218668, acc 0.875710244894921\n",
      "iter 72, prop pl 0.9898270600203459, acc 0.8756854328461902\n",
      "iter 73, prop pl 0.9940761233655063, acc 0.8774098702329851\n",
      "iter 74, prop pl 0.9946095824132198, acc 0.8773974642086197\n",
      "iter 75, prop pl 0.9971900354812296, acc 0.8778192690370444\n",
      "iter 76, prop pl 0.9955276282162618, acc 0.8774532913182641\n",
      "iter 77, prop pl 0.9959866511177828, acc 0.8772423889040518\n",
      "iter 78, prop pl 0.9960734932883408, acc 0.8774098702329851\n",
      "iter 79, prop pl 0.9958749968984939, acc 0.8772485919162345\n",
      "iter 80, prop pl 0.9915577004193237, acc 0.8763615611741061\n",
      "iter 81, prop pl 0.9867503659777188, acc 0.874879041262437\n",
      "iter 82, prop pl 0.9837232960325534, acc 0.8744200183609161\n",
      "iter 83, prop pl 0.9906830757015607, acc 0.8761134406867975\n",
      "iter 84, prop pl 0.9824516785350966, acc 0.8737376870208173\n",
      "iter 85, prop pl 0.9911483016152643, acc 0.8761506587598938\n",
      "iter 86, prop pl 0.9760377639381683, acc 0.8715046026350396\n",
      "iter 87, prop pl 0.9896161576061335, acc 0.8762375009304518\n",
      "iter 88, prop pl 0.9888779991563903, acc 0.8762499069548173\n",
      "iter 89, prop pl 0.9776133290325782, acc 0.8727203930228519\n",
      "iter 90, prop pl 0.9950810113391063, acc 0.8773788551720716\n",
      "iter 91, prop pl 0.9931394685259162, acc 0.8771183286603975\n",
      "iter 92, prop pl 0.99353646130561, acc 0.8767461479294345\n",
      "iter 93, prop pl 0.9879785623898966, acc 0.8764794184055777\n",
      "iter 94, prop pl 0.9902550678609533, acc 0.8768764111852716\n",
      "iter 95, prop pl 0.9907326997990225, acc 0.876888817209637\n",
      "iter 96, prop pl 0.9944855221695655, acc 0.877720020842121\n",
      "iter 97, prop pl 0.9940264992680445, acc 0.8771121256482147\n",
      "iter 98, prop pl 0.9922524377837878, acc 0.8762871250279135\n",
      "iter 99, prop pl 0.9940327022802273, acc 0.8769632533558296\n",
      "iter 100, prop pl 0.9945599583157582, acc 0.8767089298563382\n",
      "iter 101, prop pl 0.9959556360568692, acc 0.877478103366995\n",
      "iter 102, prop pl 0.9929099570751557, acc 0.8768143810634444\n",
      "iter 103, prop pl 0.9904225491898866, acc 0.8761382527355284\n",
      "iter 104, prop pl 0.9959308240081384, acc 0.8774594943304469\n",
      "iter 105, prop pl 0.9922400317594223, acc 0.876801975039079\n",
      "iter 106, prop pl 0.9929099570751557, acc 0.8771865617944073\n",
      "iter 107, prop pl 0.9950624023025582, acc 0.877149343721311\n",
      "iter 108, prop pl 0.9878731111827903, acc 0.8760452075527876\n",
      "iter 109, prop pl 0.9921717986254125, acc 0.8767585539538\n",
      "iter 110, prop pl 0.9928851450264249, acc 0.8769074262461851\n",
      "iter 111, prop pl 0.9912847678832841, acc 0.8771183286603975\n",
      "iter 112, prop pl 0.995087214351289, acc 0.8774222762573506\n",
      "iter 113, prop pl 0.9937907848051014, acc 0.8774036672208024\n",
      "iter 114, prop pl 0.9945537553035754, acc 0.8768515991365406\n",
      "iter 115, prop pl 0.9955400342406272, acc 0.8776269756593802\n",
      "iter 116, prop pl 0.9943366498771804, acc 0.8772920130015135\n",
      "iter 117, prop pl 0.9958749968984939, acc 0.8775091184279086\n",
      "iter 118, prop pl 0.9920043172964792, acc 0.8768826141974543\n",
      "iter 119, prop pl 0.9937659727563705, acc 0.8770128774532914\n",
      "iter 120, prop pl 0.995502816167531, acc 0.8774967124035432\n",
      "iter 121, prop pl 0.9939396570974866, acc 0.877347840111158\n",
      "iter 122, prop pl 0.9889400292782174, acc 0.8763925762350198\n",
      "iter 123, prop pl 0.9927796938193186, acc 0.8774036672208024\n",
      "iter 124, prop pl 0.98757536659802, acc 0.876560057563953\n",
      "iter 125, prop pl 0.9892749919360841, acc 0.8764856214177604\n",
      "iter 126, prop pl 0.9930960474406372, acc 0.8769694563680123\n",
      "iter 127, prop pl 0.9835620177158028, acc 0.875710244894921\n",
      "iter 128, prop pl 0.9931146564771853, acc 0.8766406967223284\n",
      "iter 129, prop pl 0.995719921593926, acc 0.8773168250502444\n",
      "iter 130, prop pl 0.9939644691462174, acc 0.8773354340867926\n",
      "iter 131, prop pl 0.9953415378507804, acc 0.8774284792695333\n",
      "iter 132, prop pl 0.9924757462223656, acc 0.8769880654045604\n",
      "iter 133, prop pl 0.9916259335533335, acc 0.8767895690147135\n",
      "iter 134, prop pl 0.9942808227675359, acc 0.8772734039649653\n",
      "iter 135, prop pl 0.9458725156936209, acc 0.8542726347914548\n",
      "iter 136, prop pl 0.9898518720690768, acc 0.8756296057365457\n",
      "iter 137, prop pl 0.9894176612162866, acc 0.8752264099446692\n",
      "iter 138, prop pl 0.9788787435178523, acc 0.872391633377168\n",
      "iter 139, prop pl 0.9878296900975113, acc 0.8754000942857851\n",
      "iter 140, prop pl 0.9857578840284842, acc 0.8751953948837555\n",
      "iter 141, prop pl 0.983338709277225, acc 0.8735019725578741\n",
      "iter 142, prop pl 0.9898518720690768, acc 0.8760265985162395\n",
      "iter 143, prop pl 0.9868806292335558, acc 0.8755179515172568\n",
      "iter 144, prop pl 0.9865952906731509, acc 0.8749348683720815\n",
      "iter 145, prop pl 0.9904411582264347, acc 0.8763987792472024\n",
      "iter 146, prop pl 0.9933565739523113, acc 0.8768950202218198\n",
      "iter 147, prop pl 0.9899635262883656, acc 0.8765104334664914\n",
      "iter 148, prop pl 0.9896409696548644, acc 0.8762933280400963\n",
      "iter 149, prop pl 0.9909870232985137, acc 0.8765786666005012\n",
      "iter 150, prop pl 0.9915514974071409, acc 0.876342952137558\n",
      "iter 151, prop pl 0.9901372106294817, acc 0.8767523509416173\n",
      "iter 152, prop pl 0.9900441654467409, acc 0.876144455747711\n",
      "iter 153, prop pl 0.986396794283304, acc 0.8756978388705555\n",
      "iter 154, prop pl 0.9902984889462323, acc 0.8758218991142098\n",
      "iter 155, prop pl 0.9900007443614619, acc 0.8754249063345161\n",
      "iter 156, prop pl 0.9933875890132248, acc 0.8773292310746098\n",
      "iter 157, prop pl 0.9880964196213682, acc 0.8752760340421308\n",
      "iter 158, prop pl 0.992730069721857, acc 0.8768267870878098\n",
      "iter 159, prop pl 0.9911296925787162, acc 0.8770687045629357\n",
      "iter 160, prop pl 0.9919733022355656, acc 0.8775339304766394\n",
      "iter 161, prop pl 0.9884437883036002, acc 0.8753752822370543\n",
      "iter 162, prop pl 0.9925129642954619, acc 0.877434682281716\n",
      "iter 163, prop pl 0.9912103317370915, acc 0.8759893804431432\n",
      "iter 164, prop pl 0.9926804456243952, acc 0.876715132868521\n",
      "iter 165, prop pl 0.9903853311167903, acc 0.8767275388928863\n",
      "iter 166, prop pl 0.9883755551695903, acc 0.875710244894921\n",
      "iter 167, prop pl 0.9909994293228792, acc 0.8773974642086197\n",
      "iter 168, prop pl 0.9881398407066472, acc 0.8754869364563432\n",
      "iter 169, prop pl 0.9921221745279508, acc 0.87669032081979\n",
      "iter 170, prop pl 0.9902488648487706, acc 0.8761320497233457\n",
      "iter 171, prop pl 0.9886112696325335, acc 0.8753132521152271\n",
      "iter 172, prop pl 0.9913157829441978, acc 0.8760700196015185\n",
      "iter 173, prop pl 0.9916693546386125, acc 0.876801975039079\n",
      "iter 174, prop pl 0.9923268739299804, acc 0.877174155770042\n",
      "iter 175, prop pl 0.9925439793563755, acc 0.8764049822593851\n",
      "iter 176, prop pl 0.9920539413939409, acc 0.8772051708309555\n",
      "iter 177, prop pl 0.9947646577177878, acc 0.8773168250502444\n",
      "iter 178, prop pl 0.9921035654914027, acc 0.8768143810634444\n",
      "iter 179, prop pl 0.9922772498325186, acc 0.8765352455152222\n",
      "iter 180, prop pl 0.9931394685259162, acc 0.8772237798675037\n",
      "iter 181, prop pl 0.9952981167655013, acc 0.8772982160136963\n",
      "iter 182, prop pl 0.9946902215715951, acc 0.8775029154157259\n",
      "iter 183, prop pl 0.9930030022578964, acc 0.8765910726248667\n",
      "iter 184, prop pl 0.9908257449817631, acc 0.8767523509416173\n",
      "iter 185, prop pl 0.9910490534203409, acc 0.8771121256482147\n",
      "iter 186, prop pl 0.9929595811726174, acc 0.8773292310746098\n",
      "iter 187, prop pl 0.9894114582041039, acc 0.8760762226137012\n",
      "iter 188, prop pl 0.9886608937299953, acc 0.8748480262015235\n",
      "iter 189, prop pl 0.9925563853807409, acc 0.876560057563953\n",
      "iter 190, prop pl 0.9916197305411508, acc 0.8764608093690296\n",
      "iter 191, prop pl 0.9904659702751656, acc 0.8768640051609061\n",
      "iter 192, prop pl 0.9874699153909138, acc 0.8773974642086197\n",
      "iter 193, prop pl 0.9898642780934421, acc 0.8771555467334938\n",
      "iter 194, prop pl 0.9937597697441878, acc 0.8774160732451679\n",
      "iter 195, prop pl 0.9924323251370866, acc 0.877062501550753\n",
      "iter 196, prop pl 0.9933007468426668, acc 0.877174155770042\n",
      "iter 197, prop pl 0.9899325112274521, acc 0.8753876882614198\n",
      "iter 198, prop pl 0.9943242438528149, acc 0.8774905093913604\n",
      "iter 199, prop pl 0.9909870232985137, acc 0.8773106220380616\n",
      "iter 200, prop pl 0.9918926630771903, acc 0.8772609979406\n",
      "iter 201, prop pl 0.9856214177604645, acc 0.8740354316055877\n",
      "iter 202, prop pl 0.9693757288539314, acc 0.865928094682778\n",
      "iter 203, prop pl 0.9843373942386423, acc 0.8745378755923877\n",
      "iter 204, prop pl 0.9898952931543558, acc 0.8755737786269012\n",
      "iter 205, prop pl 0.9912847678832841, acc 0.8763987792472024\n",
      "iter 206, prop pl 0.9901930377391261, acc 0.8756730268218247\n",
      "iter 207, prop pl 0.991266158846736, acc 0.876560057563953\n",
      "iter 208, prop pl 0.9921655956132298, acc 0.8764422003324814\n",
      "iter 209, prop pl 0.9894858943502965, acc 0.8760514105649704\n",
      "iter 210, prop pl 0.9879599533533484, acc 0.8757164479071037\n",
      "iter 211, prop pl 0.9891509316924298, acc 0.8756544177852765\n",
      "iter 212, prop pl 0.9906210455797335, acc 0.8761320497233457\n",
      "iter 213, prop pl 0.9880157804629929, acc 0.8761196436989802\n",
      "iter 214, prop pl 0.9925501823685582, acc 0.8766965238319728\n",
      "iter 215, prop pl 0.993952063121852, acc 0.8770873135994839\n",
      "iter 216, prop pl 0.9909498052254174, acc 0.8765228394908567\n",
      "iter 217, prop pl 0.9925005582710964, acc 0.8769942684167432\n",
      "iter 218, prop pl 0.9881336376944644, acc 0.8764422003324814\n",
      "iter 219, prop pl 0.9911545046274471, acc 0.8767647569659827\n",
      "iter 220, prop pl 0.9941443564995162, acc 0.877347840111158\n",
      "iter 221, prop pl 0.9903977371411558, acc 0.8765724635883185\n",
      "iter 222, prop pl 0.9877428479269533, acc 0.8758281021263926\n",
      "iter 223, prop pl 0.9918430389797286, acc 0.8766655087710592\n",
      "iter 224, prop pl 0.9906210455797335, acc 0.8766096816614147\n",
      "iter 225, prop pl 0.9927176636974915, acc 0.8767585539538\n",
      "iter 226, prop pl 0.9911048805299854, acc 0.8765042304543086\n",
      "iter 227, prop pl 0.9870108924893929, acc 0.8754683274197951\n",
      "iter 228, prop pl 0.989802247971615, acc 0.8765290425030394\n",
      "iter 229, prop pl 0.986812396099546, acc 0.8754497183832469\n",
      "iter 230, prop pl 0.9905466094335409, acc 0.8765166364786741\n",
      "iter 231, prop pl 0.9904473612386174, acc 0.8762064858695382\n",
      "iter 232, prop pl 0.9923640920030767, acc 0.8767337419050691\n",
      "iter 233, prop pl 0.9931766865990125, acc 0.8770562985385704\n",
      "iter 234, prop pl 0.9929099570751557, acc 0.8769880654045604\n",
      "iter 235, prop pl 0.9913405949929286, acc 0.876888817209637\n",
      "iter 236, prop pl 0.9919670992233829, acc 0.8764918244299432\n",
      "iter 237, prop pl 0.984256755080267, acc 0.8747984021040617\n",
      "iter 238, prop pl 0.9925936034538372, acc 0.8772485919162345\n",
      "iter 239, prop pl 0.9889276232538521, acc 0.876386373222837\n",
      "iter 240, prop pl 0.9859625834305139, acc 0.8755055454928914\n",
      "iter 241, prop pl 0.994671612535047, acc 0.8774470883060814\n",
      "iter 242, prop pl 0.9897526238741533, acc 0.8762064858695382\n",
      "iter 243, prop pl 0.9911855196883607, acc 0.8764856214177604\n",
      "iter 244, prop pl 0.9938590179391112, acc 0.8772609979406\n",
      "iter 245, prop pl 0.9938466119147458, acc 0.8771431407091284\n",
      "iter 246, prop pl 0.9890392774731409, acc 0.8762499069548173\n",
      "iter 247, prop pl 0.9903233009949631, acc 0.876671711783242\n",
      "iter 248, prop pl 0.9899076991787212, acc 0.8760824256258839\n",
      "iter 249, prop pl 0.9832642731310325, acc 0.874357988239089\n",
      "iter 250, prop pl 0.9880219834751756, acc 0.8759459593578641\n",
      "iter 251, prop pl 0.9915018733096792, acc 0.8773354340867926\n",
      "iter 252, prop pl 0.9885740515594372, acc 0.8764980274421259\n",
      "iter 253, prop pl 0.9911731136639952, acc 0.8764546063568469\n",
      "iter 254, prop pl 0.9944793191573829, acc 0.8773106220380616\n",
      "iter 255, prop pl 0.9944048830111902, acc 0.8775587425253704\n",
      "iter 256, prop pl 0.9899635262883656, acc 0.8764422003324814\n",
      "iter 257, prop pl 0.9917003696995261, acc 0.8765910726248667\n",
      "iter 258, prop pl 0.9905838275066372, acc 0.8764918244299432\n",
      "iter 259, prop pl 0.9913964221025731, acc 0.8770500955263876\n",
      "iter 260, prop pl 0.9923330769421631, acc 0.876715132868521\n",
      "iter 261, prop pl 0.993189092623378, acc 0.8772858099893308\n",
      "iter 262, prop pl 0.9913964221025731, acc 0.8765972756370494\n",
      "iter 263, prop pl 0.9918926630771903, acc 0.8766531027466938\n",
      "iter 264, prop pl 0.9927114606853088, acc 0.8768081780512617\n",
      "iter 265, prop pl 0.9892377738629878, acc 0.876603478649232\n",
      "iter 266, prop pl 0.9916693546386125, acc 0.8764608093690296\n",
      "iter 267, prop pl 0.9893308190457286, acc 0.8761196436989802\n",
      "iter 268, prop pl 0.9884189762548694, acc 0.8755861846512667\n"
     ]
    }
   ],
   "source": [
    "result = permutation_importance(scoring_data, score_model, 'min', variable_names=input_cols, nimportant_vars=1)"
   ]
  },
  {
   "cell_type": "code",
   "execution_count": 100,
   "id": "58b18866-62b0-4a54-a82e-f427ee656a71",
   "metadata": {
    "tags": []
   },
   "outputs": [],
   "source": [
    "singlepass = result.retrieve_singlepass()"
   ]
  },
  {
   "cell_type": "code",
   "execution_count": 101,
   "id": "324b5628-6e34-40d8-9a25-1f151e26982f",
   "metadata": {
    "collapsed": true,
    "jupyter": {
     "outputs_hidden": true
    },
    "tags": []
   },
   "outputs": [
    {
     "data": {
      "text/plain": [
       "{'UGRD_m/s_0_m': (0, 0.8542726347914548),\n",
       " 'T_DEWPOINT_C_0_m': (1, 0.8630871151030941),\n",
       " 'VGRD_m/s_0_m': (2, 0.865928094682778),\n",
       " 'T_DEWPOINT_C_250_m': (3, 0.8662258392675484),\n",
       " 'T_DEWPOINT_C_500_m': (4, 0.8692715182492619),\n",
       " 'T_DEWPOINT_C_4500_m': (5, 0.8715046026350396),\n",
       " 'UGRD_m/s_750_m': (6, 0.872391633377168),\n",
       " 'TEMP_C_0_m': (7, 0.8724598665111778),\n",
       " 'T_DEWPOINT_C_5250_m': (8, 0.8727203930228519),\n",
       " 'UGRD_m/s_1500_m': (9, 0.8735019725578741),\n",
       " 'T_DEWPOINT_C_4000_m': (10, 0.8737376870208173),\n",
       " 'UGRD_m/s_16500_m': (11, 0.8740354316055877),\n",
       " 'VGRD_m/s_11750_m': (12, 0.874357988239089),\n",
       " 'T_DEWPOINT_C_3500_m': (13, 0.8744200183609161),\n",
       " 'VGRD_m/s_250_m': (14, 0.8745378755923877),\n",
       " 'VGRD_m/s_8750_m': (15, 0.8747984021040617),\n",
       " 'UGRD_m/s_13250_m': (16, 0.8748480262015235),\n",
       " 'TEMP_C_250_m': (17, 0.874879041262437),\n",
       " 'T_DEWPOINT_C_3250_m': (18, 0.874879041262437),\n",
       " 'UGRD_m/s_2250_m': (19, 0.8749348683720815),\n",
       " 'UGRD_m/s_1250_m': (20, 0.8751953948837555),\n",
       " 'UGRD_m/s_500_m': (21, 0.8752264099446692),\n",
       " 'UGRD_m/s_5500_m': (22, 0.8752760340421308),\n",
       " 'UGRD_m/s_9000_m': (23, 0.8753132521152271),\n",
       " 'UGRD_m/s_6500_m': (24, 0.8753752822370543),\n",
       " 'UGRD_m/s_15500_m': (25, 0.8753876882614198),\n",
       " 'UGRD_m/s_1000_m': (26, 0.8754000942857851),\n",
       " 'UGRD_m/s_5000_m': (27, 0.8754249063345161),\n",
       " 'VGRD_m/s_6750_m': (28, 0.8754497183832469),\n",
       " 'VGRD_m/s_6250_m': (29, 0.8754683274197951),\n",
       " 'UGRD_m/s_8250_m': (30, 0.8754869364563432),\n",
       " 'VGRD_m/s_9500_m': (31, 0.8755055454928914),\n",
       " 'UGRD_m/s_2000_m': (32, 0.8755179515172568),\n",
       " 'VGRD_m/s_500_m': (33, 0.8755737786269012),\n",
       " 'VGRD_m/s_16500_m': (34, 0.8755861846512667),\n",
       " 'UGRD_m/s_250_m': (35, 0.8756296057365457),\n",
       " 'VGRD_m/s_2250_m': (36, 0.8756544177852765),\n",
       " 'TEMP_C_1750_m': (37, 0.875666823809642),\n",
       " 'VGRD_m/s_1000_m': (38, 0.8756730268218247),\n",
       " 'T_DEWPOINT_C_1000_m': (39, 0.8756854328461902),\n",
       " 'UGRD_m/s_4500_m': (40, 0.8756978388705555),\n",
       " 'T_DEWPOINT_C_750_m': (41, 0.875710244894921),\n",
       " 'T_DEWPOINT_C_14750_m': (42, 0.875710244894921),\n",
       " 'UGRD_m/s_7750_m': (43, 0.875710244894921),\n",
       " 'VGRD_m/s_2000_m': (44, 0.8757164479071037),\n",
       " 'TEMP_C_500_m': (45, 0.8757412599558345),\n",
       " 'UGRD_m/s_4750_m': (46, 0.8758218991142098),\n",
       " 'VGRD_m/s_5000_m': (47, 0.8758281021263926),\n",
       " 'TEMP_C_13750_m': (48, 0.8758467111629408),\n",
       " 'TEMP_C_1500_m': (49, 0.8759211473091333),\n",
       " 'VGRD_m/s_12000_m': (50, 0.8759459593578641),\n",
       " 'UGRD_m/s_7000_m': (51, 0.8759893804431432),\n",
       " 'UGRD_m/s_1750_m': (52, 0.8760265985162395),\n",
       " 'T_DEWPOINT_C_10000_m': (53, 0.8760452075527876),\n",
       " 'VGRD_m/s_1750_m': (54, 0.8760514105649704),\n",
       " 'UGRD_m/s_9250_m': (55, 0.8760700196015185),\n",
       " 'TEMP_C_10750_m': (56, 0.8760762226137012),\n",
       " 'UGRD_m/s_13000_m': (57, 0.8760762226137012),\n",
       " 'VGRD_m/s_11500_m': (58, 0.8760824256258839),\n",
       " 'T_DEWPOINT_C_3750_m': (59, 0.8761134406867975),\n",
       " 'VGRD_m/s_2750_m': (60, 0.8761196436989802),\n",
       " 'VGRD_m/s_16250_m': (61, 0.8761196436989802),\n",
       " 'UGRD_m/s_8750_m': (62, 0.8761320497233457),\n",
       " 'VGRD_m/s_2500_m': (63, 0.8761320497233457),\n",
       " 'T_DEWPOINT_C_8750_m': (64, 0.8761382527355284),\n",
       " 'UGRD_m/s_4250_m': (65, 0.876144455747711),\n",
       " 'T_DEWPOINT_C_4250_m': (66, 0.8761506587598938),\n",
       " 'VGRD_m/s_7250_m': (67, 0.8762064858695382),\n",
       " 'VGRD_m/s_10000_m': (68, 0.8762064858695382),\n",
       " 'TEMP_C_12750_m': (69, 0.8762188918939037),\n",
       " 'T_DEWPOINT_C_4750_m': (70, 0.8762375009304518),\n",
       " 'T_DEWPOINT_C_5000_m': (71, 0.8762499069548173),\n",
       " 'VGRD_m/s_11000_m': (72, 0.8762499069548173),\n",
       " 'TEMP_C_2250_m': (73, 0.8762623129791827),\n",
       " 'T_DEWPOINT_C_7500_m': (74, 0.8762871250279135),\n",
       " 'UGRD_m/s_3250_m': (75, 0.8762933280400963),\n",
       " 'TEMP_C_12250_m': (76, 0.8763305461131926),\n",
       " 'UGRD_m/s_3750_m': (77, 0.876342952137558),\n",
       " 'T_DEWPOINT_C_3000_m': (78, 0.8763615611741061),\n",
       " 'VGRD_m/s_9250_m': (79, 0.876386373222837),\n",
       " 'T_DEWPOINT_C_13500_m': (80, 0.8763925762350198),\n",
       " 'UGRD_m/s_2500_m': (81, 0.8763987792472024),\n",
       " 'VGRD_m/s_750_m': (82, 0.8763987792472024),\n",
       " 'UGRD_m/s_10000_m': (83, 0.8764049822593851),\n",
       " 'VGRD_m/s_1500_m': (84, 0.8764422003324814),\n",
       " 'VGRD_m/s_4000_m': (85, 0.8764422003324814),\n",
       " 'VGRD_m/s_13500_m': (86, 0.8764422003324814),\n",
       " 'VGRD_m/s_12750_m': (87, 0.8764546063568469),\n",
       " 'UGRD_m/s_13750_m': (88, 0.8764608093690296),\n",
       " 'VGRD_m/s_16000_m': (89, 0.8764608093690296),\n",
       " 'T_DEWPOINT_C_6250_m': (90, 0.8764794184055777),\n",
       " 'T_DEWPOINT_C_14250_m': (91, 0.8764856214177604),\n",
       " 'VGRD_m/s_10250_m': (92, 0.8764856214177604),\n",
       " 'VGRD_m/s_8500_m': (93, 0.8764918244299432),\n",
       " 'VGRD_m/s_14000_m': (94, 0.8764918244299432),\n",
       " 'VGRD_m/s_12500_m': (95, 0.8764980274421259),\n",
       " 'VGRD_m/s_6000_m': (96, 0.8765042304543086),\n",
       " 'UGRD_m/s_3000_m': (97, 0.8765104334664914),\n",
       " 'VGRD_m/s_7000_m': (98, 0.8765166364786741),\n",
       " 'VGRD_m/s_3500_m': (99, 0.8765228394908567),\n",
       " 'VGRD_m/s_6500_m': (100, 0.8765290425030394),\n",
       " 'UGRD_m/s_11000_m': (101, 0.8765352455152222),\n",
       " 'T_DEWPOINT_C_14000_m': (102, 0.876560057563953),\n",
       " 'UGRD_m/s_13500_m': (103, 0.876560057563953),\n",
       " 'VGRD_m/s_1250_m': (104, 0.876560057563953),\n",
       " 'VGRD_m/s_4750_m': (105, 0.8765724635883185),\n",
       " 'UGRD_m/s_3500_m': (106, 0.8765786666005012),\n",
       " 'TEMP_C_2000_m': (107, 0.8765848696126839),\n",
       " 'UGRD_m/s_12000_m': (108, 0.8765910726248667),\n",
       " 'VGRD_m/s_13750_m': (109, 0.8765910726248667),\n",
       " 'VGRD_m/s_15000_m': (110, 0.8765972756370494),\n",
       " 'TEMP_C_11750_m': (111, 0.876603478649232),\n",
       " 'VGRD_m/s_15750_m': (112, 0.876603478649232),\n",
       " 'VGRD_m/s_5500_m': (113, 0.8766096816614147),\n",
       " 'TEMP_C_13250_m': (114, 0.8766406967223284),\n",
       " 'T_DEWPOINT_C_15000_m': (115, 0.8766406967223284),\n",
       " 'TEMP_C_1250_m': (116, 0.876646899734511),\n",
       " 'TEMP_C_12500_m': (117, 0.876646899734511),\n",
       " 'VGRD_m/s_15250_m': (118, 0.8766531027466938),\n",
       " 'TEMP_C_11500_m': (119, 0.8766593057588765),\n",
       " 'VGRD_m/s_5250_m': (120, 0.8766655087710592),\n",
       " 'TEMP_C_5750_m': (121, 0.876671711783242),\n",
       " 'VGRD_m/s_11250_m': (122, 0.876671711783242),\n",
       " 'TEMP_C_4750_m': (123, 0.87669032081979),\n",
       " 'UGRD_m/s_8500_m': (124, 0.87669032081979),\n",
       " 'VGRD_m/s_3000_m': (125, 0.8766965238319728),\n",
       " 'TEMP_C_11250_m': (126, 0.8767027268441555),\n",
       " 'T_DEWPOINT_C_8000_m': (127, 0.8767089298563382),\n",
       " 'UGRD_m/s_7250_m': (128, 0.876715132868521),\n",
       " 'VGRD_m/s_14500_m': (129, 0.876715132868521),\n",
       " 'UGRD_m/s_7500_m': (130, 0.8767275388928863),\n",
       " 'VGRD_m/s_7500_m': (131, 0.8767337419050691),\n",
       " 'T_DEWPOINT_C_6000_m': (132, 0.8767461479294345),\n",
       " 'TEMP_C_3250_m': (133, 0.8767523509416173),\n",
       " 'TEMP_C_11000_m': (134, 0.8767523509416173),\n",
       " 'UGRD_m/s_4000_m': (135, 0.8767523509416173),\n",
       " 'UGRD_m/s_12250_m': (136, 0.8767523509416173),\n",
       " 'T_DEWPOINT_C_10250_m': (137, 0.8767585539538),\n",
       " 'VGRD_m/s_5750_m': (138, 0.8767585539538),\n",
       " 'VGRD_m/s_4250_m': (139, 0.8767647569659827),\n",
       " 'TEMP_C_2750_m': (140, 0.8767709599781653),\n",
       " 'T_DEWPOINT_C_16250_m': (141, 0.8767895690147135),\n",
       " 'TEMP_C_15750_m': (142, 0.8767957720268963),\n",
       " 'TEMP_C_750_m': (143, 0.876801975039079),\n",
       " 'T_DEWPOINT_C_9250_m': (144, 0.876801975039079),\n",
       " 'UGRD_m/s_9500_m': (145, 0.876801975039079),\n",
       " 'VGRD_m/s_15500_m': (146, 0.8768081780512617),\n",
       " 'T_DEWPOINT_C_8500_m': (147, 0.8768143810634444),\n",
       " 'UGRD_m/s_10750_m': (148, 0.8768143810634444),\n",
       " 'UGRD_m/s_5750_m': (149, 0.8768267870878098),\n",
       " 'T_DEWPOINT_C_11500_m': (150, 0.8768515991365406),\n",
       " 'UGRD_m/s_14000_m': (151, 0.8768640051609061),\n",
       " 'TEMP_C_6750_m': (152, 0.8768764111852716),\n",
       " 'T_DEWPOINT_C_6500_m': (153, 0.8768764111852716),\n",
       " 'T_DEWPOINT_C_12500_m': (154, 0.8768826141974543),\n",
       " 'T_DEWPOINT_C_6750_m': (155, 0.876888817209637),\n",
       " 'VGRD_m/s_8250_m': (156, 0.876888817209637),\n",
       " 'UGRD_m/s_2750_m': (157, 0.8768950202218198),\n",
       " 'T_DEWPOINT_C_10500_m': (158, 0.8769074262461851),\n",
       " 'TEMP_C_8250_m': (159, 0.8769570503436469),\n",
       " 'T_DEWPOINT_C_7750_m': (160, 0.8769632533558296),\n",
       " 'T_DEWPOINT_C_14500_m': (161, 0.8769694563680123),\n",
       " 'TEMP_C_13500_m': (162, 0.8769880654045604),\n",
       " 'T_DEWPOINT_C_16000_m': (163, 0.8769880654045604),\n",
       " 'VGRD_m/s_8000_m': (164, 0.8769880654045604),\n",
       " 'TEMP_C_16500_m': (165, 0.8769942684167432),\n",
       " 'VGRD_m/s_3750_m': (166, 0.8769942684167432),\n",
       " 'T_DEWPOINT_C_12750_m': (167, 0.8770128774532914),\n",
       " 'VGRD_m/s_14250_m': (168, 0.8770500955263876),\n",
       " 'VGRD_m/s_7750_m': (169, 0.8770562985385704),\n",
       " 'UGRD_m/s_15000_m': (170, 0.877062501550753),\n",
       " 'UGRD_m/s_6000_m': (171, 0.8770687045629357),\n",
       " 'TEMP_C_10000_m': (172, 0.8770749075751185),\n",
       " 'TEMP_C_10500_m': (173, 0.8770873135994839),\n",
       " 'VGRD_m/s_3250_m': (174, 0.8770873135994839),\n",
       " 'TEMP_C_13000_m': (175, 0.877105922636032),\n",
       " 'TEMP_C_14000_m': (176, 0.877105922636032),\n",
       " 'T_DEWPOINT_C_7250_m': (177, 0.8771121256482147),\n",
       " 'UGRD_m/s_12500_m': (178, 0.8771121256482147),\n",
       " 'T_DEWPOINT_C_5750_m': (179, 0.8771183286603975),\n",
       " 'T_DEWPOINT_C_10750_m': (180, 0.8771183286603975),\n",
       " 'TEMP_C_7750_m': (181, 0.8771245316725802),\n",
       " 'TEMP_C_12000_m': (182, 0.8771307346847629),\n",
       " 'TEMP_C_4250_m': (183, 0.8771369376969457),\n",
       " 'VGRD_m/s_10750_m': (184, 0.8771431407091284),\n",
       " 'TEMP_C_3000_m': (185, 0.877149343721311),\n",
       " 'T_DEWPOINT_C_9750_m': (186, 0.877149343721311),\n",
       " 'TEMP_C_6500_m': (187, 0.8771555467334938),\n",
       " 'UGRD_m/s_14500_m': (188, 0.8771555467334938),\n",
       " 'TEMP_C_15250_m': (189, 0.8771617497456765),\n",
       " 'UGRD_m/s_9750_m': (190, 0.877174155770042),\n",
       " 'UGRD_m/s_15250_m': (191, 0.877174155770042),\n",
       " 'T_DEWPOINT_C_9500_m': (192, 0.8771865617944073),\n",
       " 'TEMP_C_6000_m': (193, 0.87719276480659),\n",
       " 'TEMP_C_8000_m': (194, 0.87719276480659),\n",
       " 'TEMP_C_1000_m': (195, 0.8771989678187728),\n",
       " 'UGRD_m/s_10250_m': (196, 0.8772051708309555),\n",
       " 'TEMP_C_3750_m': (197, 0.8772113738431382),\n",
       " 'TEMP_C_16250_m': (198, 0.8772113738431382),\n",
       " 'UGRD_m/s_11250_m': (199, 0.8772237798675037),\n",
       " 'TEMP_C_2500_m': (200, 0.8772299828796863),\n",
       " 'TEMP_C_4500_m': (201, 0.8772299828796863),\n",
       " 'TEMP_C_7500_m': (202, 0.8772361858918691),\n",
       " 'T_DEWPOINT_C_2250_m': (203, 0.8772423889040518),\n",
       " 'T_DEWPOINT_C_2750_m': (204, 0.8772485919162345),\n",
       " 'VGRD_m/s_9000_m': (205, 0.8772485919162345),\n",
       " 'TEMP_C_5500_m': (206, 0.8772609979406),\n",
       " 'UGRD_m/s_16250_m': (207, 0.8772609979406),\n",
       " 'VGRD_m/s_10500_m': (208, 0.8772609979406),\n",
       " 'TEMP_C_14250_m': (209, 0.8772672009527827),\n",
       " 'T_DEWPOINT_C_16500_m': (210, 0.8772734039649653),\n",
       " 'TEMP_C_5250_m': (211, 0.8772796069771481),\n",
       " 'VGRD_m/s_14750_m': (212, 0.8772858099893308),\n",
       " 'T_DEWPOINT_C_12000_m': (213, 0.8772920130015135),\n",
       " 'UGRD_m/s_11500_m': (214, 0.8772982160136963),\n",
       " 'UGRD_m/s_16000_m': (215, 0.8773106220380616),\n",
       " 'VGRD_m/s_13000_m': (216, 0.8773106220380616),\n",
       " 'TEMP_C_3500_m': (217, 0.8773168250502444),\n",
       " 'T_DEWPOINT_C_15250_m': (218, 0.8773168250502444),\n",
       " 'UGRD_m/s_10500_m': (219, 0.8773168250502444),\n",
       " 'TEMP_C_6250_m': (220, 0.8773230280624271),\n",
       " 'UGRD_m/s_5250_m': (221, 0.8773292310746098),\n",
       " 'UGRD_m/s_12750_m': (222, 0.8773292310746098),\n",
       " 'T_DEWPOINT_C_15500_m': (223, 0.8773354340867926),\n",
       " 'VGRD_m/s_12250_m': (224, 0.8773354340867926),\n",
       " 'T_DEWPOINT_C_13250_m': (225, 0.877347840111158),\n",
       " 'VGRD_m/s_4500_m': (226, 0.877347840111158),\n",
       " 'TEMP_C_4000_m': (227, 0.8773540431233406),\n",
       " 'TEMP_C_9250_m': (228, 0.8773540431233406),\n",
       " 'TEMP_C_5000_m': (229, 0.8773664491477061),\n",
       " 'T_DEWPOINT_C_5500_m': (230, 0.8773788551720716),\n",
       " 'TEMP_C_14500_m': (231, 0.877391261196437),\n",
       " 'TEMP_C_8500_m': (232, 0.8773974642086197),\n",
       " 'T_DEWPOINT_C_1500_m': (233, 0.8773974642086197),\n",
       " 'UGRD_m/s_8000_m': (234, 0.8773974642086197),\n",
       " 'UGRD_m/s_14250_m': (235, 0.8773974642086197),\n",
       " 'T_DEWPOINT_C_11250_m': (236, 0.8774036672208024),\n",
       " 'T_DEWPOINT_C_13750_m': (237, 0.8774036672208024),\n",
       " 'T_DEWPOINT_C_1250_m': (238, 0.8774098702329851),\n",
       " 'T_DEWPOINT_C_2500_m': (239, 0.8774098702329851),\n",
       " 'UGRD_m/s_14750_m': (240, 0.8774160732451679),\n",
       " 'T_DEWPOINT_C_11000_m': (241, 0.8774222762573506),\n",
       " 'T_DEWPOINT_C_15750_m': (242, 0.8774284792695333),\n",
       " 'UGRD_m/s_6750_m': (243, 0.877434682281716),\n",
       " 'VGRD_m/s_9750_m': (244, 0.8774470883060814),\n",
       " 'T_DEWPOINT_C_2000_m': (245, 0.8774532913182641),\n",
       " 'T_DEWPOINT_C_9000_m': (246, 0.8774594943304469),\n",
       " 'T_DEWPOINT_C_8250_m': (247, 0.877478103366995),\n",
       " 'UGRD_m/s_15750_m': (248, 0.8774905093913604),\n",
       " 'T_DEWPOINT_C_13000_m': (249, 0.8774967124035432),\n",
       " 'TEMP_C_9750_m': (250, 0.8775029154157259),\n",
       " 'TEMP_C_10250_m': (251, 0.8775029154157259),\n",
       " 'UGRD_m/s_11750_m': (252, 0.8775029154157259),\n",
       " 'T_DEWPOINT_C_12250_m': (253, 0.8775091184279086),\n",
       " 'TEMP_C_7000_m': (254, 0.8775153214400913),\n",
       " 'TEMP_C_9000_m': (255, 0.8775153214400913),\n",
       " 'TEMP_C_15000_m': (256, 0.8775153214400913),\n",
       " 'TEMP_C_7250_m': (257, 0.877521524452274),\n",
       " 'UGRD_m/s_6250_m': (258, 0.8775339304766394),\n",
       " 'VGRD_m/s_13250_m': (259, 0.8775587425253704),\n",
       " 'TEMP_C_15500_m': (260, 0.8775773515619185),\n",
       " 'TEMP_C_16000_m': (261, 0.8776021636106494),\n",
       " 'TEMP_C_14750_m': (262, 0.8776207726471975),\n",
       " 'T_DEWPOINT_C_11750_m': (263, 0.8776269756593802),\n",
       " 'TEMP_C_8750_m': (264, 0.877651787708111),\n",
       " 'T_DEWPOINT_C_7000_m': (265, 0.877720020842121),\n",
       " 'TEMP_C_9500_m': (266, 0.8777634419274),\n",
       " 'T_DEWPOINT_C_1750_m': (267, 0.8778192690370444)}"
      ]
     },
     "execution_count": 101,
     "metadata": {},
     "output_type": "execute_result"
    }
   ],
   "source": [
    "singlepass"
   ]
  },
  {
   "cell_type": "code",
   "execution_count": 102,
   "id": "77ee499f-4263-4efd-957d-afce7987b56e",
   "metadata": {},
   "outputs": [],
   "source": [
    "temp = pd.DataFrame(singlepass).transpose()\n",
    "temp.columns = [\"Rank\", \"Accuracy\"]\n",
    "temp.to_csv(\"permimp_results/perm_imp_sn_single_predcond.csv\")"
   ]
  },
  {
   "cell_type": "markdown",
   "id": "4974a7ed-5d6b-4fbe-9a92-f6317abd5997",
   "metadata": {
    "tags": []
   },
   "source": [
    "### Evaluation"
   ]
  },
  {
   "cell_type": "code",
   "execution_count": 202,
   "id": "26297dc9-2ee5-4280-a4bc-0019cb39abf5",
   "metadata": {},
   "outputs": [],
   "source": [
    "singlepass_results = pd.read_csv(\"permimp_results/perm_imp_sn_single_corrected.csv\", index_col=0)"
   ]
  },
  {
   "cell_type": "code",
   "execution_count": 203,
   "id": "30dd9e1e-7260-4a95-bb0a-1d5ff09df727",
   "metadata": {},
   "outputs": [],
   "source": [
    "dict_names = dict(zip([\"TEMP C\", \"UGRD m/s\", \"VGRD m/s\", \"T DEWPOINT C\"], [\"Temp\", \"Dewpoint\", \"u-Wind\", \"v-Wind\"]))"
   ]
  },
  {
   "cell_type": "code",
   "execution_count": 204,
   "id": "d255891c-d42c-4aea-a1a6-4e61af459f23",
   "metadata": {},
   "outputs": [],
   "source": [
    "singlepass_results.index = singlepass_results.index.str.replace(\"_\", \" \")"
   ]
  },
  {
   "cell_type": "code",
   "execution_count": 205,
   "id": "1c9845f0-6dd1-47ce-b0d3-313cca829a6b",
   "metadata": {},
   "outputs": [],
   "source": [
    "def readable_varnames(s):\n",
    "    segs = s.split(\"_\")\n",
    "    lst = [s.replace(k, v) for k, v in dict_names.items() if k in s]\n",
    "    return lst[0]"
   ]
  },
  {
   "cell_type": "code",
   "execution_count": 206,
   "id": "a32f1f4e-6b0b-4c78-86ea-4a5f31acf4fb",
   "metadata": {},
   "outputs": [],
   "source": [
    "singlepass_results.index = singlepass_results.index.map(readable_varnames)"
   ]
  },
  {
   "cell_type": "code",
   "execution_count": 207,
   "id": "2e2a3977-296e-41c1-baef-090bdefca71f",
   "metadata": {},
   "outputs": [],
   "source": [
    "colors = {\"Tem\":\"teal\", \"Dew\":\"paleturquoise\", \"u-W\":\"maroon\", \"v-W\":\"indianred\"}"
   ]
  },
  {
   "cell_type": "code",
   "execution_count": 208,
   "id": "66b6d739-c8ed-4398-b5ea-e00535382077",
   "metadata": {},
   "outputs": [],
   "source": [
    "color_values = [\"teal\", \"paleturquoise\", \"maroon\", \"indianred\"]"
   ]
  },
  {
   "cell_type": "code",
   "execution_count": 209,
   "id": "c9a30fe1-9347-4503-a690-353d5d34bc30",
   "metadata": {
    "tags": []
   },
   "outputs": [],
   "source": [
    "bar_colors = [colors[i] for i in [var[:3] for var in singlepass_results.index]]"
   ]
  },
  {
   "cell_type": "code",
   "execution_count": 211,
   "id": "4078e953-d4a9-4f85-a485-3ff2a9534d56",
   "metadata": {},
   "outputs": [],
   "source": [
    "m = 10\n",
    "temp_hand = mlines.Line2D([], [], color=color_values[0], marker='o', linestyle=\"None\", label=\"Temp\", markersize=m)\n",
    "dewtemp_hand = mlines.Line2D([], [], color=color_values[1], marker='o', linestyle=\"None\", label=\"Dewpoint Temp\", markersize=m)\n",
    "ugrd_hand = mlines.Line2D([], [], color=color_values[2], marker='o', linestyle=\"None\", label=\"u-Wind\", markersize=m)\n",
    "vgrd_hand = mlines.Line2D([], [], color=color_values[3], marker='o', linestyle=\"None\", label=\"v-Wind\", markersize=m)"
   ]
  },
  {
   "cell_type": "code",
   "execution_count": 212,
   "id": "ad5c2e58-2d42-42b1-87c3-c0fc88474bbd",
   "metadata": {},
   "outputs": [
    {
     "data": {
      "image/png": "[encoded data removed]",
      "text/plain": [
       "<Figure size 576x576 with 1 Axes>"
      ]
     },
     "metadata": {
      "needs_background": "light"
     },
     "output_type": "display_data"
    }
   ],
   "source": [
    "plt.figure(figsize=(8, 8))\n",
    "plt.barh(singlepass_results.index[9::-1], singlepass_results.iloc[:, 1][9::-1], color=bar_colors[9::-1])\n",
    "plt.yticks(fontsize=12)\n",
    "plt.xlim(0.8623, 0.9623)\n",
    "plt.margins(y=0.02)\n",
    "plt.axvline(x=0.9323, color=\"purple\")\n",
    "plt.xlabel(\"P-Type Prediction Accuracy\", fontsize=12)\n",
    "plt.title(\"Top 10 Greatest Accuracy Reductions\", fontsize=20)\n",
    "plt.legend(handles=[temp_hand, dewtemp_hand, ugrd_hand, vgrd_hand], loc=\"lower right\")\n",
    "plt.savefig(\"permimp_visualizations/perm_imp_sn_single.png\", dpi=300, bbox_inches=\"tight\")"
   ]
  },
  {
   "cell_type": "code",
   "execution_count": 213,
   "id": "0d369034-d853-41be-b5fc-dc05a06e1d70",
   "metadata": {},
   "outputs": [],
   "source": [
    "temp_imp = np.array([singlepass_results.loc[var] for var in singlepass_results.index if \"Tem\" in var])\n",
    "dewtemp_imp = np.array([singlepass_results.loc[var] for var in singlepass_results.index if \"Dew\" in var])\n",
    "ugrd_imp = np.array([singlepass_results.loc[var] for var in singlepass_results.index if \"u-W\" in var])\n",
    "vgrd_imp = np.array([singlepass_results.loc[var] for var in singlepass_results.index if \"v-W\" in var])"
   ]
  },
  {
   "cell_type": "code",
   "execution_count": 214,
   "id": "22098d52-3757-4e77-a9cb-c637189720c3",
   "metadata": {},
   "outputs": [
    {
     "data": {
      "image/png": "[encoded data removed]",
      "text/plain": [
       "<Figure size 432x288 with 1 Axes>"
      ]
     },
     "metadata": {
      "needs_background": "light"
     },
     "output_type": "display_data"
    }
   ],
   "source": [
    "# plt.figure(figsize=(10, 30))\n",
    "plt.xlim(0.85, 0.95)\n",
    "plt.barh(singlepass_results[[\"Tem\" in var for var in singlepass_results.index]].index[9::-1], \n",
    "         temp_imp[:, 1][9::-1], color=color_values[0])\n",
    "plt.axvline(x=0.9323, color=\"purple\")\n",
    "plt.title(\"Temp Variables: Greatest Accuracy Reductions\")\n",
    "plt.xlabel(\"Accuracy\")\n",
    "plt.savefig(\"permimp_visualizations/perm_imp_sn_temp_single.png\", dpi=300, bbox_inches=\"tight\")"
   ]
  },
  {
   "cell_type": "code",
   "execution_count": 216,
   "id": "b696b6f6-395f-4247-b9b9-c9eace20f3d3",
   "metadata": {},
   "outputs": [
    {
     "data": {
      "image/png": "[encoded data removed]",
      "text/plain": [
       "<Figure size 432x288 with 1 Axes>"
      ]
     },
     "metadata": {
      "needs_background": "light"
     },
     "output_type": "display_data"
    }
   ],
   "source": [
    "plt.xlim(0.85, 0.95)\n",
    "plt.barh(singlepass_results[[\"Dew\" in var for var in singlepass_results.index]].index[9::-1], \n",
    "         dewtemp_imp[:, 1][9::-1], color=color_values[1])\n",
    "plt.title(\"Dewpoint Temp Variables: Greatest Accuracy Reductions\")\n",
    "plt.axvline(x=0.9323, color=\"purple\")\n",
    "plt.xlabel(\"Accuracy\")\n",
    "plt.savefig(\"permimp_visualizations/perm_imp_sn_dewtemp_single.png\", dpi=300, bbox_inches=\"tight\")"
   ]
  },
  {
   "cell_type": "code",
   "execution_count": 217,
   "id": "f9657cb3-77a2-47ea-8826-50417f0d4540",
   "metadata": {},
   "outputs": [
    {
     "data": {
      "image/png": "[encoded data removed]",
      "text/plain": [
       "<Figure size 432x288 with 1 Axes>"
      ]
     },
     "metadata": {
      "needs_background": "light"
     },
     "output_type": "display_data"
    }
   ],
   "source": [
    "plt.xlim(0.85, 0.95)\n",
    "plt.barh(singlepass_results[[\"u-W\" in var for var in singlepass_results.index]].index[9::-1], \n",
    "         ugrd_imp[:, 1][9::-1], color=color_values[2])\n",
    "plt.title(\"u-Wind Variables: Greatest Accuracy Reductions\")\n",
    "plt.axvline(x=0.9323, color=\"purple\")\n",
    "plt.xlabel(\"Accuracy\")\n",
    "plt.savefig(\"permimp_visualizations/perm_imp_sn_ugrd_single.png\", dpi=300, bbox_inches=\"tight\")"
   ]
  },
  {
   "cell_type": "code",
   "execution_count": 218,
   "id": "a997f1b0-8dfb-461b-b3ed-81cf686b4436",
   "metadata": {},
   "outputs": [
    {
     "data": {
      "image/png": "[encoded data removed]",
      "text/plain": [
       "<Figure size 432x288 with 1 Axes>"
      ]
     },
     "metadata": {
      "needs_background": "light"
     },
     "output_type": "display_data"
    }
   ],
   "source": [
    "plt.xlim(0.85, 0.95)\n",
    "plt.barh(singlepass_results[[\"v-W\" in var for var in singlepass_results.index]].index[9::-1], \n",
    "         vgrd_imp[:, 1][9::-1], color=color_values[3])\n",
    "plt.title(\"v-Wind Variables: Greatest Accuracy Reductions\")\n",
    "plt.axvline(x=0.9323, color=\"purple\")\n",
    "plt.xlabel(\"Accuracy\")\n",
    "plt.savefig(\"permimp_visualizations/perm_imp_sn_vgrd_single.png\", dpi=300, bbox_inches=\"tight\")"
   ]
  },
  {
   "cell_type": "markdown",
   "id": "b6e385b7-79ab-464a-8f91-971c189b3159",
   "metadata": {
    "tags": []
   },
   "source": [
    "# **Model Re-Training with 10 Most Important Variables**"
   ]
  },
  {
   "cell_type": "code",
   "execution_count": 184,
   "id": "7e495e1e-2ad8-4ff0-ae51-d0bbe152aabb",
   "metadata": {},
   "outputs": [
    {
     "data": {
      "text/html": [
       "<div>\n",
       "<style scoped>\n",
       "    .dataframe tbody tr th:only-of-type {\n",
       "        vertical-align: middle;\n",
       "    }\n",
       "\n",
       "    .dataframe tbody tr th {\n",
       "        vertical-align: top;\n",
       "    }\n",
       "\n",
       "    .dataframe thead th {\n",
       "        text-align: right;\n",
       "    }\n",
       "</style>\n",
       "<table border=\"1\" class=\"dataframe\">\n",
       "  <thead>\n",
       "    <tr style=\"text-align: right;\">\n",
       "      <th></th>\n",
       "      <th>Rank</th>\n",
       "      <th>Accuracy</th>\n",
       "    </tr>\n",
       "  </thead>\n",
       "  <tbody>\n",
       "    <tr>\n",
       "      <th>TEMP_C_0_m</th>\n",
       "      <td>0.0</td>\n",
       "      <td>0.836530</td>\n",
       "    </tr>\n",
       "    <tr>\n",
       "      <th>TEMP_C_250_m</th>\n",
       "      <td>1.0</td>\n",
       "      <td>0.859585</td>\n",
       "    </tr>\n",
       "    <tr>\n",
       "      <th>TEMP_C_500_m</th>\n",
       "      <td>2.0</td>\n",
       "      <td>0.888844</td>\n",
       "    </tr>\n",
       "    <tr>\n",
       "      <th>TEMP_C_1250_m</th>\n",
       "      <td>3.0</td>\n",
       "      <td>0.890820</td>\n",
       "    </tr>\n",
       "    <tr>\n",
       "      <th>TEMP_C_1750_m</th>\n",
       "      <td>4.0</td>\n",
       "      <td>0.891306</td>\n",
       "    </tr>\n",
       "    <tr>\n",
       "      <th>TEMP_C_1500_m</th>\n",
       "      <td>5.0</td>\n",
       "      <td>0.891779</td>\n",
       "    </tr>\n",
       "    <tr>\n",
       "      <th>TEMP_C_2000_m</th>\n",
       "      <td>6.0</td>\n",
       "      <td>0.892253</td>\n",
       "    </tr>\n",
       "    <tr>\n",
       "      <th>UGRD_m/s_0_m</th>\n",
       "      <td>7.0</td>\n",
       "      <td>0.892557</td>\n",
       "    </tr>\n",
       "    <tr>\n",
       "      <th>T_DEWPOINT_C_0_m</th>\n",
       "      <td>8.0</td>\n",
       "      <td>0.893617</td>\n",
       "    </tr>\n",
       "    <tr>\n",
       "      <th>TEMP_C_1000_m</th>\n",
       "      <td>9.0</td>\n",
       "      <td>0.894214</td>\n",
       "    </tr>\n",
       "  </tbody>\n",
       "</table>\n",
       "</div>"
      ],
      "text/plain": [
       "                  Rank  Accuracy\n",
       "TEMP_C_0_m         0.0  0.836530\n",
       "TEMP_C_250_m       1.0  0.859585\n",
       "TEMP_C_500_m       2.0  0.888844\n",
       "TEMP_C_1250_m      3.0  0.890820\n",
       "TEMP_C_1750_m      4.0  0.891306\n",
       "TEMP_C_1500_m      5.0  0.891779\n",
       "TEMP_C_2000_m      6.0  0.892253\n",
       "UGRD_m/s_0_m       7.0  0.892557\n",
       "T_DEWPOINT_C_0_m   8.0  0.893617\n",
       "TEMP_C_1000_m      9.0  0.894214"
      ]
     },
     "execution_count": 184,
     "metadata": {},
     "output_type": "execute_result"
    }
   ],
   "source": [
    "singlepass_results.head(10)"
   ]
  },
  {
   "cell_type": "code",
   "execution_count": 185,
   "id": "de8823e4-5cb4-4bd0-a320-3a9a6f11ad86",
   "metadata": {},
   "outputs": [
    {
     "data": {
      "text/plain": [
       "((477257, 268), (63552, 268))"
      ]
     },
     "execution_count": 185,
     "metadata": {},
     "output_type": "execute_result"
    }
   ],
   "source": [
    "x_train.shape, x_test.shape"
   ]
  },
  {
   "cell_type": "code",
   "execution_count": 186,
   "id": "71a2edc9-c697-4a2e-a514-ed0a03a2ca7b",
   "metadata": {},
   "outputs": [],
   "source": [
    "x_train_imp = x_train[:, [train_data[input_cols].columns.get_loc(i) for i in singlepass_results.index[9::-1]]]\n",
    "x_test_imp = x_test[:, [train_data[input_cols].columns.get_loc(i) for i in singlepass_results.index[9::-1]]]\n",
    "x_valid_imp = x_valid[:, [train_data[input_cols].columns.get_loc(i) for i in singlepass_results.index[9::-1]]]"
   ]
  },
  {
   "cell_type": "code",
   "execution_count": 187,
   "id": "afc57104-dafa-4e53-8f78-cb70e7162cc6",
   "metadata": {},
   "outputs": [
    {
     "data": {
      "text/plain": [
       "(477257, 10)"
      ]
     },
     "execution_count": 187,
     "metadata": {},
     "output_type": "execute_result"
    }
   ],
   "source": [
    "x_train_imp.shape"
   ]
  },
  {
   "cell_type": "code",
   "execution_count": 188,
   "id": "692ccb63-17a8-4335-b317-d77be142fe77",
   "metadata": {},
   "outputs": [
    {
     "data": {
      "text/plain": [
       "(63552, 10)"
      ]
     },
     "execution_count": 188,
     "metadata": {},
     "output_type": "execute_result"
    }
   ],
   "source": [
    "x_test_imp.shape"
   ]
  },
  {
   "cell_type": "code",
   "execution_count": 189,
   "id": "b699adf4-e5cd-401b-8a8d-09cc74c4ef8d",
   "metadata": {},
   "outputs": [
    {
     "data": {
      "text/plain": [
       "(67831, 10)"
      ]
     },
     "execution_count": 189,
     "metadata": {},
     "output_type": "execute_result"
    }
   ],
   "source": [
    "x_valid_imp.shape"
   ]
  },
  {
   "cell_type": "markdown",
   "id": "97d64228-c049-4954-8a65-e1223b60dc2e",
   "metadata": {},
   "source": [
    "## Model Training"
   ]
  },
  {
   "cell_type": "code",
   "execution_count": 190,
   "id": "4828d3e5-b575-4922-a782-96ecc7931248",
   "metadata": {},
   "outputs": [],
   "source": [
    "# Set batch size\n",
    "batch_size = conf[\"batch_size\"]"
   ]
  },
  {
   "cell_type": "code",
   "execution_count": 191,
   "id": "f5232f13-b384-412e-aa9c-cafc83018ce3",
   "metadata": {},
   "outputs": [],
   "source": [
    "def build_model(input_size, hidden_size, output_size):\n",
    "    model = tf.keras.models.Sequential(\n",
    "        [tf.keras.layers.Dense(input_size, activation='relu'),\n",
    "        tf.keras.layers.Dense(hidden_size, activation='relu'),\n",
    "        tf.keras.layers.Dense(output_size, activation='softmax')]\n",
    "    )\n",
    "    return model"
   ]
  },
  {
   "cell_type": "code",
   "execution_count": 192,
   "id": "4e48643c-0e80-47c1-8693-b030265d0d8e",
   "metadata": {},
   "outputs": [
    {
     "name": "stdout",
     "output_type": "stream",
     "text": [
      "Model: \"sequential_3\"\n",
      "_________________________________________________________________\n",
      " Layer (type)                Output Shape              Param #   \n",
      "=================================================================\n",
      " dense_9 (Dense)             (4096, 10)                110       \n",
      "                                                                 \n",
      " dense_10 (Dense)            (4096, 100)               1100      \n",
      "                                                                 \n",
      " dense_11 (Dense)            (4096, 4)                 404       \n",
      "                                                                 \n",
      "=================================================================\n",
      "Total params: 1,614\n",
      "Trainable params: 1,614\n",
      "Non-trainable params: 0\n",
      "_________________________________________________________________\n"
     ]
    }
   ],
   "source": [
    "model = build_model(10, 100, len(output_cols))\n",
    "model.build((batch_size, 10))\n",
    "model.summary()"
   ]
  },
  {
   "cell_type": "code",
   "execution_count": 193,
   "id": "55c7f7a3-25f8-477f-83c1-a50321b9abe8",
   "metadata": {
    "tags": []
   },
   "outputs": [],
   "source": [
    "learning_rate = 0.001\n",
    "optimizer = tf.keras.optimizers.Adam(learning_rate)\n",
    "loss = tf.keras.losses.CategoricalCrossentropy()\n",
    "model.compile(loss=loss, optimizer=optimizer, metrics='acc', run_eagerly=True) "
   ]
  },
  {
   "cell_type": "code",
   "execution_count": 194,
   "id": "c69253fa-33cd-4a79-8187-f161b835eae6",
   "metadata": {},
   "outputs": [
    {
     "name": "stdout",
     "output_type": "stream",
     "text": [
      "Epoch 1/25\n",
      "117/117 [==============================] - 2s 14ms/step - loss: 0.6396 - acc: 0.7757 - val_loss: 0.4471 - val_acc: 0.8386\n",
      "Epoch 2/25\n",
      "117/117 [==============================] - 2s 14ms/step - loss: 0.4209 - acc: 0.8490 - val_loss: 0.4160 - val_acc: 0.8494\n",
      "Epoch 3/25\n",
      "117/117 [==============================] - 2s 14ms/step - loss: 0.3990 - acc: 0.8561 - val_loss: 0.4041 - val_acc: 0.8540\n",
      "Epoch 4/25\n",
      "117/117 [==============================] - 2s 14ms/step - loss: 0.3893 - acc: 0.8590 - val_loss: 0.4006 - val_acc: 0.8549\n",
      "Epoch 5/25\n",
      "117/117 [==============================] - 2s 13ms/step - loss: 0.3843 - acc: 0.8607 - val_loss: 0.3980 - val_acc: 0.8553\n",
      "Epoch 6/25\n",
      "117/117 [==============================] - 2s 14ms/step - loss: 0.3807 - acc: 0.8617 - val_loss: 0.3942 - val_acc: 0.8562\n",
      "Epoch 7/25\n",
      "117/117 [==============================] - 2s 13ms/step - loss: 0.3777 - acc: 0.8627 - val_loss: 0.3926 - val_acc: 0.8572\n",
      "Epoch 8/25\n",
      "117/117 [==============================] - 2s 13ms/step - loss: 0.3746 - acc: 0.8637 - val_loss: 0.3893 - val_acc: 0.8580\n",
      "Epoch 9/25\n",
      "117/117 [==============================] - 2s 13ms/step - loss: 0.3725 - acc: 0.8644 - val_loss: 0.3890 - val_acc: 0.8587\n",
      "Epoch 10/25\n",
      "117/117 [==============================] - 2s 13ms/step - loss: 0.3707 - acc: 0.8649 - val_loss: 0.3881 - val_acc: 0.8589\n",
      "Epoch 11/25\n",
      "117/117 [==============================] - 2s 13ms/step - loss: 0.3691 - acc: 0.8653 - val_loss: 0.3870 - val_acc: 0.8590\n",
      "Epoch 12/25\n",
      "117/117 [==============================] - 2s 13ms/step - loss: 0.3676 - acc: 0.8659 - val_loss: 0.3854 - val_acc: 0.8592\n",
      "Epoch 13/25\n",
      "117/117 [==============================] - 2s 14ms/step - loss: 0.3662 - acc: 0.8662 - val_loss: 0.3841 - val_acc: 0.8590\n",
      "Epoch 14/25\n",
      "117/117 [==============================] - 2s 14ms/step - loss: 0.3650 - acc: 0.8667 - val_loss: 0.3838 - val_acc: 0.8598\n",
      "Epoch 15/25\n",
      "117/117 [==============================] - 2s 14ms/step - loss: 0.3638 - acc: 0.8671 - val_loss: 0.3826 - val_acc: 0.8601\n",
      "Epoch 16/25\n",
      "117/117 [==============================] - 2s 14ms/step - loss: 0.3625 - acc: 0.8676 - val_loss: 0.3818 - val_acc: 0.8598\n",
      "Epoch 17/25\n",
      "117/117 [==============================] - 2s 14ms/step - loss: 0.3614 - acc: 0.8679 - val_loss: 0.3800 - val_acc: 0.8599\n",
      "Epoch 18/25\n",
      "117/117 [==============================] - 2s 14ms/step - loss: 0.3604 - acc: 0.8685 - val_loss: 0.3789 - val_acc: 0.8606\n",
      "Epoch 19/25\n",
      "117/117 [==============================] - 2s 13ms/step - loss: 0.3593 - acc: 0.8690 - val_loss: 0.3773 - val_acc: 0.8611\n",
      "Epoch 20/25\n",
      "117/117 [==============================] - 2s 13ms/step - loss: 0.3581 - acc: 0.8695 - val_loss: 0.3769 - val_acc: 0.8616\n",
      "Epoch 21/25\n",
      "117/117 [==============================] - 2s 13ms/step - loss: 0.3574 - acc: 0.8699 - val_loss: 0.3765 - val_acc: 0.8613\n",
      "Epoch 22/25\n",
      "117/117 [==============================] - 2s 14ms/step - loss: 0.3565 - acc: 0.8701 - val_loss: 0.3755 - val_acc: 0.8617\n",
      "Epoch 23/25\n",
      "117/117 [==============================] - 2s 15ms/step - loss: 0.3556 - acc: 0.8707 - val_loss: 0.3737 - val_acc: 0.8611\n",
      "Epoch 24/25\n",
      "117/117 [==============================] - 2s 15ms/step - loss: 0.3549 - acc: 0.8710 - val_loss: 0.3726 - val_acc: 0.8621\n",
      "Epoch 25/25\n",
      "117/117 [==============================] - 2s 16ms/step - loss: 0.3543 - acc: 0.8714 - val_loss: 0.3738 - val_acc: 0.8627\n"
     ]
    }
   ],
   "source": [
    "history = model.fit(x_train_imp, y_train, validation_data=(x_valid_imp, y_valid), batch_size=batch_size, shuffle=True, epochs=25) "
   ]
  },
  {
   "cell_type": "markdown",
   "id": "61bb9726-9920-4d10-bccf-f656208afe35",
   "metadata": {
    "tags": []
   },
   "source": [
    "## Model Evaluation"
   ]
  },
  {
   "cell_type": "code",
   "execution_count": 195,
   "id": "a2a656e4-10e5-4656-ab04-0b9939bb11ae",
   "metadata": {},
   "outputs": [],
   "source": [
    "y_pred_onehot = model.predict(x_test_imp)"
   ]
  },
  {
   "cell_type": "code",
   "execution_count": 196,
   "id": "8b20339f-0923-4687-9d8c-f6e61bf5540f",
   "metadata": {},
   "outputs": [],
   "source": [
    "y_pred_train_onehot = model.predict(x_train_imp)"
   ]
  },
  {
   "cell_type": "code",
   "execution_count": 197,
   "id": "ec991072-84af-458e-87fc-c2d22fbd16c2",
   "metadata": {},
   "outputs": [],
   "source": [
    "# Converting one-hot labels to categorical labels\n",
    "y_pred_labels = np.argmax(y_pred_onehot, axis=1)\n",
    "y_test_labels = np.argmax(y_test, axis=1)"
   ]
  },
  {
   "cell_type": "code",
   "execution_count": 198,
   "id": "0ea86ef3-ea04-4b8a-b618-6ff607a84eb1",
   "metadata": {},
   "outputs": [],
   "source": [
    "y_pred_train_labels = np.argmax(y_pred_train_onehot, axis=1)\n",
    "y_train_labels = np.argmax(y_train, axis=1)"
   ]
  },
  {
   "cell_type": "code",
   "execution_count": 199,
   "id": "8b3b94c8-f8aa-4e06-b98e-159f40a268f8",
   "metadata": {},
   "outputs": [
    {
     "data": {
      "text/plain": [
       "0.8717651076883105"
      ]
     },
     "execution_count": 199,
     "metadata": {},
     "output_type": "execute_result"
    }
   ],
   "source": [
    "accuracy_score(y_train_labels, y_pred_train_labels)"
   ]
  },
  {
   "cell_type": "code",
   "execution_count": 200,
   "id": "e8f0e5e9-3af2-4ec3-a403-e3c2bbe8a77b",
   "metadata": {},
   "outputs": [
    {
     "data": {
      "text/plain": [
       "((63552, 10), (477257, 10))"
      ]
     },
     "execution_count": 200,
     "metadata": {},
     "output_type": "execute_result"
    }
   ],
   "source": [
    "x_test_imp.shape, x_train_imp.shape"
   ]
  },
  {
   "cell_type": "code",
   "execution_count": 201,
   "id": "ce84dec7-8abb-44d5-a443-6de3c02845bb",
   "metadata": {},
   "outputs": [
    {
     "data": {
      "text/plain": [
       "0.8563538519637462"
      ]
     },
     "execution_count": 201,
     "metadata": {},
     "output_type": "execute_result"
    }
   ],
   "source": [
    "accuracy_score(y_test_labels, y_pred_labels)"
   ]
  },
  {
   "cell_type": "code",
   "execution_count": 202,
   "id": "53fc6d4e-897c-4d28-8283-99626883383b",
   "metadata": {},
   "outputs": [
    {
     "name": "stdout",
     "output_type": "stream",
     "text": [
      "Confusion matrix, without normalization\n",
      "[[32401  1264   675   203]\n",
      " [ 1001 19698   936    50]\n",
      " [  788  2130  1881   322]\n",
      " [  414   572   774   443]]\n",
      "Normalized confusion matrix\n",
      "[[0.9379903308919318   0.0365920736473381   0.019540862113887038\n",
      "  0.005876733346843065]\n",
      " [0.0461609407424487   0.9083698409038505   0.04316347705787411\n",
      "  0.002305741295826608]\n",
      " [0.1538761960554579   0.4159343878148799   0.36731107205623903\n",
      "  0.06287834407342316 ]\n",
      " [0.1879255560599183   0.259645937358148    0.3513390830685429\n",
      "  0.20108942351339082 ]]\n"
     ]
    },
    {
     "data": {
      "image/png": "[encoded data removed]",
      "text/plain": [
       "<Figure size 432x288 with 2 Axes>"
      ]
     },
     "metadata": {
      "needs_background": "light"
     },
     "output_type": "display_data"
    },
    {
     "data": {
      "image/png": "[encoded data removed]",
      "text/plain": [
       "<Figure size 432x288 with 2 Axes>"
      ]
     },
     "metadata": {
      "needs_background": "light"
     },
     "output_type": "display_data"
    }
   ],
   "source": [
    "# _printoptions(precision=2)\n",
    "# class_names = [str(x) for x in sorted(set(y_test_labels))]\n",
    "class_names = [\"ra\", \"sn\", \"pl\", \"fzra\"]\n",
    "\n",
    "# Plot non-normalized confusion matrix\n",
    "utils.plot_confusion_matrix(y_test_labels, y_pred_labels, classes=class_names,\n",
    "                      title='mPING MLP Confusion Matrix')\n",
    "\n",
    "# Plot normalized confusion matrix\n",
    "utils.plot_confusion_matrix(y_test_labels, y_pred_labels, classes=class_names, normalize=True,\n",
    "                      title='mPING MLP Normalized Confusion Matrix')\n",
    "\n",
    "plt.show()"
   ]
  },
  {
   "cell_type": "code",
   "execution_count": 203,
   "id": "101002cb-d163-4b39-a331-c21c0b48f680",
   "metadata": {},
   "outputs": [
    {
     "data": {
      "text/plain": [
       "<matplotlib.legend.Legend at 0x2ad3b3edfc50>"
      ]
     },
     "execution_count": 203,
     "metadata": {},
     "output_type": "execute_result"
    },
    {
     "data": {
      "image/png": "[encoded data removed]",
      "text/plain": [
       "<Figure size 432x288 with 1 Axes>"
      ]
     },
     "metadata": {
      "needs_background": "light"
     },
     "output_type": "display_data"
    }
   ],
   "source": [
    "plt.plot(history.history[\"acc\"])\n",
    "plt.plot(history.history[\"val_acc\"])\n",
    "plt.xlabel(\"Accuracy\", fontsize=12)\n",
    "plt.ylabel(\"Epochs\", fontsize=12)\n",
    "plt.title(\"mPING MLP Accuracy\", fontsize=15) \n",
    "plt.legend([\"Train Accuracy\", \"Validation Accuracy\"])"
   ]
  },
  {
   "cell_type": "code",
   "execution_count": 204,
   "id": "5cb3fa39-c777-4635-9f0d-70865a864247",
   "metadata": {},
   "outputs": [
    {
     "data": {
      "text/plain": [
       "<matplotlib.legend.Legend at 0x2ad3b2fbc990>"
      ]
     },
     "execution_count": 204,
     "metadata": {},
     "output_type": "execute_result"
    },
    {
     "data": {
      "image/png": "[encoded data removed]",
      "text/plain": [
       "<Figure size 432x288 with 1 Axes>"
      ]
     },
     "metadata": {
      "needs_background": "light"
     },
     "output_type": "display_data"
    }
   ],
   "source": [
    "plt.plot(history.history[\"loss\"])\n",
    "plt.plot(history.history[\"val_loss\"])\n",
    "plt.xlabel(\"Loss\", fontsize=12)\n",
    "plt.ylabel(\"Epochs\", fontsize=12)\n",
    "plt.title(\"mPING MLP Loss\", fontsize=15) \n",
    "plt.legend([\"Train Loss\", \"Validation Loss\"])"
   ]
  },
  {
   "cell_type": "code",
   "execution_count": 210,
   "id": "12b8d955-2f25-4d30-a34d-d9196ba5be57",
   "metadata": {},
   "outputs": [
    {
     "name": "stdout",
     "output_type": "stream",
     "text": [
      "Model: \"sequential_3\"\n",
      "_________________________________________________________________\n",
      " Layer (type)                Output Shape              Param #   \n",
      "=================================================================\n",
      " dense_9 (Dense)             (None, 10)                110       \n",
      "                                                                 \n",
      " dense_10 (Dense)            (None, 100)               1100      \n",
      "                                                                 \n",
      " dense_11 (Dense)            (None, 4)                 404       \n",
      "                                                                 \n",
      "=================================================================\n",
      "Total params: 1,614\n",
      "Trainable params: 1,614\n",
      "Non-trainable params: 0\n",
      "_________________________________________________________________\n"
     ]
    }
   ],
   "source": [
    "model.summary()"
   ]
  },
  {
   "cell_type": "code",
   "execution_count": 211,
   "id": "c1754d19-34b1-4fd0-979a-4ce16ef4525c",
   "metadata": {},
   "outputs": [
    {
     "name": "stdout",
     "output_type": "stream",
     "text": [
      "INFO:tensorflow:Assets written to: /glade/work/eliotk/modeling/mping_mlp_backsingleperm/assets\n"
     ]
    }
   ],
   "source": [
    "model.save(\"/glade/work/eliotk/modeling/mping_mlp_backsingleperm\")"
   ]
  },
  {
   "cell_type": "code",
   "execution_count": 212,
   "id": "544f9746-a463-4977-aabf-6810d298dcb0",
   "metadata": {},
   "outputs": [],
   "source": [
    "np.save(\"/glade/work/eliotk/modeling/mping_x_train_backsingleperm\", x_train)"
   ]
  },
  {
   "cell_type": "code",
   "execution_count": 213,
   "id": "d6e2dc3f-3ab9-451c-ac1f-653cfabbbe9c",
   "metadata": {},
   "outputs": [],
   "source": [
    "np.save(\"/glade/work/eliotk/modeling/mping_y_train_backsingleperm\", y_train)"
   ]
  },
  {
   "cell_type": "code",
   "execution_count": 214,
   "id": "d37ae89c-9986-461d-97da-f36cb4474d02",
   "metadata": {},
   "outputs": [],
   "source": [
    "np.save(\"/glade/work/eliotk/modeling/mping_x_test_backsingleperm\", x_test)"
   ]
  },
  {
   "cell_type": "code",
   "execution_count": 215,
   "id": "73eb43d0-b2ba-4f71-86b3-adc25439c3d0",
   "metadata": {},
   "outputs": [],
   "source": [
    "np.save(\"/glade/work/eliotk/modeling/mping_y_test_backsingleperm\", y_test)"
   ]
  }
 ],
 "metadata": {
  "kernelspec": {
   "display_name": "Python [conda env:.conda-ptype]",
   "language": "python",
   "name": "conda-env-.conda-ptype-py"
  },
  "language_info": {
   "codemirror_mode": {
    "name": "ipython",
    "version": 3
   },
   "file_extension": ".py",
   "mimetype": "text/x-python",
   "name": "python",
   "nbconvert_exporter": "python",
   "pygments_lexer": "ipython3",
   "version": "3.10.11"
  }
 },
 "nbformat": 4,
 "nbformat_minor": 5
}
