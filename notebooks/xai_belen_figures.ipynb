{
 "cells": [
  {
   "cell_type": "code",
   "execution_count": 3,
   "id": "c78b36e3-fac7-45c5-96d5-ee6318a01175",
   "metadata": {},
   "outputs": [
    {
     "name": "stdout",
     "output_type": "stream",
     "text": [
      "Defaulting to user installation because normal site-packages is not writeable\n",
      "Collecting git+https://github.com/ai2es/evidential\n",
      "  Cloning https://github.com/ai2es/evidential to /glade/scratch/saavedrab/pip-req-build-ow1977b1\n",
      "  Running command git clone --filter=blob:none --quiet https://github.com/ai2es/evidential /glade/scratch/saavedrab/pip-req-build-ow1977b1\n",
      "  Resolved https://github.com/ai2es/evidential to commit 57f5961e25e94299573c97767b03e6ac97174a75\n",
      "  Preparing metadata (setup.py) ... \u001b[?25ldone\n",
      "\u001b[?25hBuilding wheels for collected packages: evidential\n",
      "  Building wheel for evidential (setup.py) ... \u001b[?25ldone\n",
      "\u001b[?25h  Created wheel for evidential: filename=evidential-0.1.0-py3-none-any.whl size=35556 sha256=6b822cda5f0a32a285459c5352a223c2aca4f29a1292a21d6c86055b62c81989\n",
      "  Stored in directory: /glade/scratch/saavedrab/pip-ephem-wheel-cache-dg6qyce3/wheels/85/5f/cc/30af79b2907bc5a2b3059c3ba403843e2aeb04515b43fd282a\n",
      "Successfully built evidential\n",
      "Installing collected packages: evidential\n",
      "Successfully installed evidential-0.1.0\n"
     ]
    }
   ],
   "source": [
    "!pip install git+https://github.com/ai2es/evidential"
   ]
  },
  {
   "cell_type": "code",
   "execution_count": 74,
   "id": "5b651a16-ddf2-4681-9415-4e6aeaf71144",
   "metadata": {},
   "outputs": [],
   "source": [
    "import os\n",
    "import yaml\n",
    "import pandas as pd\n",
    "import numpy as np\n",
    "\n",
    "from evml.keras.models import CategoricalDNN\n",
    "from bridgescaler import load_scaler\n",
    "\n",
    "from evml.classifier_uq import brier_multi\n",
    "import tensorflow as tf\n",
    "from collections import defaultdict\n",
    "\n",
    "import matplotlib.pyplot as plt"
   ]
  },
  {
   "cell_type": "code",
   "execution_count": 52,
   "id": "d2bab2b3-2040-4669-872d-ebec38de08b3",
   "metadata": {},
   "outputs": [],
   "source": [
    "fn_config = \"/glade/p/cisl/aiml/ai2es/winter_ptypes/models/classifier_weighted/model.yml\"\n",
    "\n",
    "#\"/glade/scratch/schreck/repos/evidential/results/ptype/weighted/classifier/best.yml\""
   ]
  },
  {
   "cell_type": "code",
   "execution_count": 53,
   "id": "66580820-1c55-472e-a036-6c1419935ce1",
   "metadata": {},
   "outputs": [],
   "source": [
    "with open(fn_config) as cf:\n",
    "    conf = yaml.load(cf, Loader=yaml.FullLoader)"
   ]
  },
  {
   "cell_type": "code",
   "execution_count": 54,
   "id": "b9709025-bb46-4959-9c20-c99e225bb6a1",
   "metadata": {},
   "outputs": [],
   "source": [
    "#conf"
   ]
  },
  {
   "cell_type": "code",
   "execution_count": 55,
   "id": "3fc1a90a-3769-42d8-a0c2-87a128f2e8af",
   "metadata": {},
   "outputs": [],
   "source": [
    "input_features = (\n",
    "    conf[\"TEMP_C\"] + conf[\"T_DEWPOINT_C\"] + conf[\"UGRD_m/s\"] + conf[\"VGRD_m/s\"]\n",
    ")\n",
    "output_features = conf[\"ptypes\"]"
   ]
  },
  {
   "cell_type": "code",
   "execution_count": 56,
   "id": "6a609bcd-b099-4f9f-9e42-a8dfb39da281",
   "metadata": {},
   "outputs": [],
   "source": [
    "#input_features\n",
    "\n",
    "#output_features"
   ]
  },
  {
   "cell_type": "markdown",
   "id": "15c9984e-8949-4e34-9fa5-93d873216668",
   "metadata": {},
   "source": [
    "### Load a pre-trained model "
   ]
  },
  {
   "cell_type": "code",
   "execution_count": 57,
   "id": "c121cd7b-e5a7-47f1-a3b4-ad7d60629fbd",
   "metadata": {},
   "outputs": [],
   "source": [
    "model = CategoricalDNN.load_model(conf)"
   ]
  },
  {
   "cell_type": "code",
   "execution_count": 58,
   "id": "5a5ebf38-b204-4dd2-8cd7-a69e53ae0cbf",
   "metadata": {},
   "outputs": [
    {
     "name": "stdout",
     "output_type": "stream",
     "text": [
      "Model: \"sequential_1\"\n",
      "_________________________________________________________________\n",
      " Layer (type)                Output Shape              Param #   \n",
      "=================================================================\n",
      " dense_input (Dense)         (3097, 84)                7140      \n",
      "                                                                 \n",
      " dense_00 (Dense)            (3097, 200)               17000     \n",
      "                                                                 \n",
      " dropout_00 (Dropout)        (3097, 200)               0         \n",
      "                                                                 \n",
      " dense_01 (Dense)            (3097, 200)               40200     \n",
      "                                                                 \n",
      " dropout_01 (Dropout)        (3097, 200)               0         \n",
      "                                                                 \n",
      " dense_02 (Dense)            (3097, 200)               40200     \n",
      "                                                                 \n",
      " dropout_02 (Dropout)        (3097, 200)               0         \n",
      "                                                                 \n",
      " dense_output (Dense)        (3097, 4)                 804       \n",
      "                                                                 \n",
      "=================================================================\n",
      "Total params: 105,344\n",
      "Trainable params: 105,344\n",
      "Non-trainable params: 0\n",
      "_________________________________________________________________\n"
     ]
    }
   ],
   "source": [
    "model.model.summary()"
   ]
  },
  {
   "cell_type": "markdown",
   "id": "a67a9ea8-2b7c-4a44-9820-9a91b35a03cd",
   "metadata": {},
   "source": [
    "### Load the data pre-processing objects"
   ]
  },
  {
   "cell_type": "code",
   "execution_count": 59,
   "id": "13327625-b51d-4aa6-b109-3f3b8fbb7087",
   "metadata": {},
   "outputs": [],
   "source": [
    "input_scaler_loc = os.path.join(conf[\"save_loc\"], \"scalers\", \"input.json\")\n",
    "\n",
    "input_scaler = load_scaler(input_scaler_loc)"
   ]
  },
  {
   "cell_type": "markdown",
   "id": "4e05fab5-5456-44d1-bb03-c45aafbab68f",
   "metadata": {},
   "source": [
    "### Load test data split"
   ]
  },
  {
   "cell_type": "markdown",
   "id": "a3442780-4e17-43c8-94ca-103348d251e2",
   "metadata": {},
   "source": [
    "##### Which model was the best one, out of 20-member ensemble?"
   ]
  },
  {
   "cell_type": "code",
   "execution_count": 60,
   "id": "376c7b6b-fbc0-4228-a6de-452136157642",
   "metadata": {},
   "outputs": [],
   "source": [
    "path_ = '/glade/scratch/schreck/repos/evidential/applications'"
   ]
  },
  {
   "cell_type": "code",
   "execution_count": 61,
   "id": "073b890e-825e-4ae7-b60a-584187720b9c",
   "metadata": {},
   "outputs": [],
   "source": [
    "import sys\n",
    "sys.path.append(path_)\n",
    "from evaluate_ptype import locate_best_model"
   ]
  },
  {
   "cell_type": "code",
   "execution_count": 62,
   "id": "bf7cda97-69a4-4348-a295-97f6e8c18863",
   "metadata": {},
   "outputs": [],
   "source": [
    "best_split = locate_best_model(conf[\"save_loc\"], conf[\"metric\"], conf[\"direction\"])"
   ]
  },
  {
   "cell_type": "code",
   "execution_count": 63,
   "id": "ac5bbd46-c191-4f72-a659-eef11c528147",
   "metadata": {},
   "outputs": [
    {
     "data": {
      "text/plain": [
       "1"
      ]
     },
     "execution_count": 63,
     "metadata": {},
     "output_type": "execute_result"
    }
   ],
   "source": [
    "best_split"
   ]
  },
  {
   "cell_type": "code",
   "execution_count": 64,
   "id": "52dba7e5-41af-4764-96a5-1200d99040fe",
   "metadata": {},
   "outputs": [],
   "source": [
    "test_data_loc = os.path.join(conf[\"save_loc\"], \"evaluate\", f\"test_{best_split}.parquet\")\n",
    "\n",
    "test_data = pd.read_parquet(test_data_loc)\n",
    "\n"
   ]
  },
  {
   "cell_type": "code",
   "execution_count": 65,
   "id": "f08ebe77-f53b-49d1-ac49-a6552b4a9835",
   "metadata": {},
   "outputs": [],
   "source": [
    "y_true = test_data[output_features].values"
   ]
  },
  {
   "cell_type": "code",
   "execution_count": 66,
   "id": "34f0d6b9-cdc6-478d-bdf1-594c5d89fcf9",
   "metadata": {},
   "outputs": [
    {
     "data": {
      "text/plain": [
       "(396696, 4)"
      ]
     },
     "execution_count": 66,
     "metadata": {},
     "output_type": "execute_result"
    }
   ],
   "source": [
    "y_true.shape"
   ]
  },
  {
   "cell_type": "markdown",
   "id": "67118169-e9c9-4ace-a2c7-521ed675e20d",
   "metadata": {},
   "source": [
    "##### Predict with the model"
   ]
  },
  {
   "cell_type": "code",
   "execution_count": 67,
   "id": "a220876c-11a9-45dc-9441-2eb0d93e49b0",
   "metadata": {},
   "outputs": [],
   "source": [
    "scaled_input_x = input_scaler.transform(test_data[input_features])"
   ]
  },
  {
   "cell_type": "code",
   "execution_count": 68,
   "id": "98d577ff-d5ac-46be-8fc7-6f3b8391bd35",
   "metadata": {},
   "outputs": [],
   "source": [
    "y_pred_test = model.predict(scaled_input_x)"
   ]
  },
  {
   "cell_type": "code",
   "execution_count": 69,
   "id": "41d3c617-5d70-46e6-8631-a92beb589791",
   "metadata": {},
   "outputs": [],
   "source": [
    "brier_score = brier_multi(np.argmax(y_true, 1), y_pred_test)"
   ]
  },
  {
   "cell_type": "code",
   "execution_count": 70,
   "id": "3c7d3197-7536-45c9-9290-5617000b37cc",
   "metadata": {},
   "outputs": [
    {
     "data": {
      "text/plain": [
       "0.6016400975135174"
      ]
     },
     "execution_count": 70,
     "metadata": {},
     "output_type": "execute_result"
    }
   ],
   "source": [
    "brier_score"
   ]
  },
  {
   "cell_type": "markdown",
   "id": "c2fb9177-1efa-48e3-ad7a-cb78c91565b4",
   "metadata": {},
   "source": [
    "### Calculate the input * gradient"
   ]
  },
  {
   "cell_type": "code",
   "execution_count": 71,
   "id": "c2f1f5fe-fd23-4a0c-b2be-282ba9942dcd",
   "metadata": {},
   "outputs": [],
   "source": [
    "# Convert the input sample to a TensorFlow tensor\n",
    "input_tensor = tf.convert_to_tensor(scaled_input_x)\n",
    "\n",
    "# Open a gradient tape to track the operations\n",
    "with tf.GradientTape() as tape:\n",
    "    tape.watch(input_tensor)\n",
    "    # Forward pass through the model\n",
    "    output = model.model(input_tensor)\n",
    "\n",
    "# Compute the gradients of the output with respect to the input\n",
    "gradients = tape.gradient(output, input_tensor)\n",
    "\n",
    "# Compute the XAI quantity: gradient * inputs\n",
    "xai_quantity = gradients * input_tensor\n",
    "\n",
    "xai_quantity = xai_quantity.numpy()"
   ]
  },
  {
   "cell_type": "code",
   "execution_count": 72,
   "id": "199558e7-4298-41d0-b727-45964da25b44",
   "metadata": {},
   "outputs": [
    {
     "data": {
      "text/plain": [
       "(396696, 84)"
      ]
     },
     "execution_count": 72,
     "metadata": {},
     "output_type": "execute_result"
    }
   ],
   "source": [
    "xai_quantity.shape"
   ]
  },
  {
   "cell_type": "code",
   "execution_count": 77,
   "id": "d963c08b-aa30-45b3-abad-ff2bb64a1bf4",
   "metadata": {},
   "outputs": [
    {
     "data": {
      "text/plain": [
       "(396696,)"
      ]
     },
     "execution_count": 77,
     "metadata": {},
     "output_type": "execute_result"
    }
   ],
   "source": [
    "xai_quantity[:, 0].shape"
   ]
  },
  {
   "cell_type": "code",
   "execution_count": 24,
   "id": "667e853a-2ce5-4334-91bf-88777203060e",
   "metadata": {},
   "outputs": [
    {
     "name": "stdout",
     "output_type": "stream",
     "text": [
      "TEMP_C_0_m: 314467\n",
      "TEMP_C_3000_m: 10304\n",
      "T_DEWPOINT_C_0_m: 8042\n",
      "TEMP_C_2500_m: 5333\n",
      "T_DEWPOINT_C_2500_m: 3459\n",
      "VGRD_m/s_3000_m: 3195\n",
      "TEMP_C_4250_m: 3094\n",
      "T_DEWPOINT_C_250_m: 2887\n",
      "UGRD_m/s_2500_m: 2210\n",
      "UGRD_m/s_1500_m: 2195\n",
      "UGRD_m/s_1000_m: 1975\n",
      "VGRD_m/s_750_m: 1928\n",
      "UGRD_m/s_3500_m: 1871\n",
      "UGRD_m/s_2250_m: 1714\n",
      "UGRD_m/s_500_m: 1667\n",
      "VGRD_m/s_4500_m: 1607\n",
      "UGRD_m/s_1250_m: 1564\n",
      "T_DEWPOINT_C_1000_m: 1522\n",
      "UGRD_m/s_2000_m: 1471\n",
      "TEMP_C_500_m: 1421\n",
      "UGRD_m/s_5000_m: 1368\n",
      "VGRD_m/s_4250_m: 1197\n",
      "VGRD_m/s_4750_m: 1180\n",
      "T_DEWPOINT_C_1250_m: 1108\n",
      "T_DEWPOINT_C_3500_m: 1079\n",
      "TEMP_C_2250_m: 1015\n",
      "UGRD_m/s_750_m: 976\n",
      "UGRD_m/s_3750_m: 907\n",
      "VGRD_m/s_500_m: 856\n",
      "UGRD_m/s_250_m: 850\n",
      "VGRD_m/s_2000_m: 834\n",
      "VGRD_m/s_1250_m: 786\n",
      "VGRD_m/s_4000_m: 754\n",
      "UGRD_m/s_4000_m: 662\n",
      "VGRD_m/s_3750_m: 658\n",
      "UGRD_m/s_4250_m: 613\n",
      "UGRD_m/s_2750_m: 522\n",
      "VGRD_m/s_2750_m: 503\n",
      "VGRD_m/s_0_m: 500\n",
      "T_DEWPOINT_C_4250_m: 460\n",
      "UGRD_m/s_0_m: 453\n",
      "UGRD_m/s_4750_m: 449\n",
      "VGRD_m/s_3250_m: 441\n",
      "VGRD_m/s_2500_m: 432\n",
      "UGRD_m/s_4500_m: 403\n",
      "T_DEWPOINT_C_750_m: 387\n",
      "TEMP_C_3750_m: 386\n",
      "TEMP_C_250_m: 368\n",
      "VGRD_m/s_250_m: 312\n",
      "T_DEWPOINT_C_3750_m: 306\n",
      "TEMP_C_5000_m: 291\n",
      "TEMP_C_750_m: 258\n",
      "T_DEWPOINT_C_4500_m: 245\n",
      "TEMP_C_1000_m: 241\n",
      "TEMP_C_1250_m: 232\n",
      "T_DEWPOINT_C_5000_m: 229\n",
      "T_DEWPOINT_C_3000_m: 194\n",
      "VGRD_m/s_1000_m: 192\n",
      "T_DEWPOINT_C_2750_m: 191\n",
      "T_DEWPOINT_C_1750_m: 168\n",
      "VGRD_m/s_5000_m: 149\n",
      "VGRD_m/s_1500_m: 138\n",
      "T_DEWPOINT_C_2250_m: 137\n",
      "VGRD_m/s_2250_m: 120\n",
      "T_DEWPOINT_C_3250_m: 115\n",
      "UGRD_m/s_3000_m: 102\n",
      "T_DEWPOINT_C_500_m: 99\n",
      "T_DEWPOINT_C_4000_m: 95\n",
      "UGRD_m/s_3250_m: 94\n",
      "VGRD_m/s_3500_m: 93\n",
      "T_DEWPOINT_C_2000_m: 92\n",
      "UGRD_m/s_1750_m: 90\n",
      "TEMP_C_1750_m: 87\n",
      "T_DEWPOINT_C_4750_m: 85\n",
      "TEMP_C_2000_m: 62\n",
      "TEMP_C_4000_m: 55\n",
      "TEMP_C_4500_m: 42\n",
      "T_DEWPOINT_C_1500_m: 39\n",
      "TEMP_C_3500_m: 23\n",
      "VGRD_m/s_1750_m: 15\n",
      "TEMP_C_2750_m: 14\n",
      "TEMP_C_4750_m: 9\n",
      "TEMP_C_1500_m: 7\n",
      "TEMP_C_3250_m: 2\n"
     ]
    }
   ],
   "source": [
    "unique_elements, counts = np.unique(np.argmax(xai_quantity, 1), return_counts=True)\n",
    "\n",
    "# Sort the unique elements by count in descending order\n",
    "sorted_indices = np.argsort(-counts)\n",
    "sorted_elements = unique_elements[sorted_indices]\n",
    "sorted_counts = counts[sorted_indices]\n",
    "\n",
    "# Print the sorted unique elements and their counts\n",
    "results = {} #defaultdict(list)\n",
    "for element, count in zip(sorted_elements, sorted_counts):\n",
    "    print(f\"{input_features[element]}: {count}\")\n",
    "    results[input_features[element]] = count"
   ]
  },
  {
   "cell_type": "code",
   "execution_count": 25,
   "id": "9d5bfb69-7847-4f91-be96-cc70eaf073cf",
   "metadata": {},
   "outputs": [
    {
     "data": {
      "image/png": "[encoded data removed]",
      "text/plain": [
       "<Figure size 1000x400 with 4 Axes>"
      ]
     },
     "metadata": {},
     "output_type": "display_data"
    }
   ],
   "source": [
    "fig, axs = plt.subplots(1, 4, figsize=(10, 4), sharey=\"row\")\n",
    "\n",
    "titles = [\"TEMP_C\", \"T_DEWPOINT_C\", \"UGRD_m/s\", \"VGRD_m/s\"]\n",
    "\n",
    "for k, var in enumerate([conf[\"TEMP_C\"], conf[\"T_DEWPOINT_C\"], conf[\"UGRD_m/s\"], conf[\"VGRD_m/s\"]]):\n",
    "    ydata = np.array([results[k] for k in var])\n",
    "    axs[k].plot(var, ydata / sum(ydata))\n",
    "    _var = [x.split(\"_\")[-2] for x in var]\n",
    "    _ = axs[k].set_xticks(var, _var, rotation=90, fontsize = 8)\n",
    "    axs[k].set_yscale(\"log\")\n",
    "    axs[k].set_title(titles[k], fontsize = 10)\n",
    "\n",
    "    axs[k].set_xlabel(\"Height above ground (m)\")\n",
    "axs[0].set_ylabel(\"Probability of being top-1 feature\")\n",
    "    \n",
    "plt.tight_layout()"
   ]
  },
  {
   "cell_type": "markdown",
   "id": "02088afb-e093-4d09-88db-cef32cbffae7",
   "metadata": {},
   "source": [
    "# Conus plots"
   ]
  },
  {
   "cell_type": "code",
   "execution_count": null,
   "id": "20bf0092-c0f9-4897-8336-7340f24a8e41",
   "metadata": {},
   "outputs": [],
   "source": []
  },
  {
   "cell_type": "markdown",
   "id": "bbf7185d-31a8-4187-90ab-e56f8d1ae351",
   "metadata": {},
   "source": [
    "## "
   ]
  }
 ],
 "metadata": {
  "kernelspec": {
   "display_name": "Python [conda env:.conda-ptype]",
   "language": "python",
   "name": "conda-env-.conda-ptype-py"
  },
  "language_info": {
   "codemirror_mode": {
    "name": "ipython",
    "version": 3
   },
   "file_extension": ".py",
   "mimetype": "text/x-python",
   "name": "python",
   "nbconvert_exporter": "python",
   "pygments_lexer": "ipython3",
   "version": "3.10.11"
  }
 },
 "nbformat": 4,
 "nbformat_minor": 5
}
