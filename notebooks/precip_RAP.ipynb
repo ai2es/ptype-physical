{
 "cells": [
  {
   "cell_type": "code",
   "execution_count": 34,
   "id": "1b1aaaa7-a524-4608-b4a9-dde7820301ca",
   "metadata": {},
   "outputs": [],
   "source": [
    "import os\n",
    "import pickle\n",
    "import pandas as pd\n",
    "import numpy as np\n",
    "import matplotlib.pyplot as plt\n",
    "from datetime import datetime\n",
    "import xarray as xr\n",
    "from pyproj import CRS, Transformer, Proj\n",
    "from scipy.spatial.distance import cdist\n",
    "from metpy.calc import dewpoint_from_relative_humidity\n",
    "from metpy.units import units\n",
    "from tqdm.notebook import tqdm\n"
   ]
  },
  {
   "cell_type": "code",
   "execution_count": 35,
   "id": "005427cf-3a4c-4419-ab13-f2955178135e",
   "metadata": {},
   "outputs": [],
   "source": [
    "path_precip = \"/glade/p/cisl/aiml/ai2es/winter_ptypes/\"\n",
    "path_rap = \"/glade/p/cisl/aiml/conv_risk_intel/rap_ncei_nc/\"\n",
    "path_save = \"/glade/p/cisl/aiml/ai2es/winter_ptypes/precip_rap/\"\n",
    "\n",
    "precip_files = [f for f in os.listdir(path_precip) if f.endswith('.csv')]\n",
    "precip_files.sort()\n"
   ]
  },
  {
   "cell_type": "code",
   "execution_count": 3,
   "id": "325cf4ee-7c48-4a4d-8c21-52bc988c13af",
   "metadata": {},
   "outputs": [],
   "source": [
    "def find_coord_indices(lon_array, lat_array, lon_points, lat_points, dist_proj='lcc_RAP'):\n",
    "    \"\"\"\n",
    "    Find indices of nearest lon/lat pair on a grid. Supports rectilinear and curilinear grids.\n",
    "    lon_points / lat_points must be received as a list.\n",
    "    Args:\n",
    "        lon_array (np.array): Longitude values of coarse grid you are matching against\n",
    "        lat_array (np.array): Latitude values of coarse grid you are matching against\n",
    "        lon_points (list): List of Longitude points from orginal grid/object\n",
    "        lat_points (list): List of Latitude points from original grid/object\n",
    "        dist_proj (str): Name of projection for pyproj to calculate distances\n",
    "    Returns (list):\n",
    "        List of i, j (Lon/Lat) indices for coarse grid.\n",
    "    \"\"\"\n",
    "    if dist_proj == 'lcc_WRF':\n",
    "        proj = Proj(proj='lcc', R=6371229, lat_0=38, lon_0=-97.5, lat_1=32, lat_2=46)  ## from WRF HWT data\n",
    "    if dist_proj == 'lcc_RAP':\n",
    "        proj = Proj(proj='lcc', R=6371229, lat_0=25, lon_0=265, lat_1=25, lat_2=25)\n",
    "\n",
    "    proj_lon, proj_lat = np.array(proj(lon_array, lat_array))  # transform to distances using specified projection\n",
    "    lonlat = np.column_stack(\n",
    "        (proj_lon.ravel(), proj_lat.ravel()))  # Stack all coarse x, y distances for array shape (n, 2)\n",
    "    ll = np.array(proj(lon_points, lat_points)).T  # transform lists of fine grid x, y to match shape (n, 2)\n",
    "    idx = cdist(lonlat, ll).argmin(0)  # Calculate all distances and get index of minimum\n",
    "\n",
    "    return np.column_stack((np.unravel_index(idx, lon_array.shape))).tolist()\n"
   ]
  },
  {
   "cell_type": "code",
   "execution_count": 4,
   "id": "1f5a27f0-ad53-4187-89b0-bbb445dc8937",
   "metadata": {},
   "outputs": [
    {
     "data": {
      "application/vnd.jupyter.widget-view+json": {
       "model_id": "d4fb1a193fca4345b6ef45269384c8a5",
       "version_major": 2,
       "version_minor": 0
      },
      "text/plain": [
       "  0%|          | 0/24 [00:00<?, ?it/s]"
      ]
     },
     "metadata": {},
     "output_type": "display_data"
    },
    {
     "name": "stdout",
     "output_type": "stream",
     "text": [
      "Dropping 3 rows from ASOS.5.2016.ra.csv because NaNs are present.\n",
      "Dropping 1 rows from ASOS.5.2019.ra.csv because NaNs are present.\n"
     ]
    }
   ],
   "source": [
    "precip_types = ['ra', 'sn', 'pl', 'fzra']\n",
    "df_ASOS = pd.DataFrame()\n",
    "df_mPING = pd.DataFrame()\n",
    "for precip in tqdm(precip_files):\n",
    "    df_temp = pd.read_csv(os.path.join(path_precip, precip))\n",
    "    df_temp['precip'] = list(set(precip.split('.')).intersection(set(precip_types)))[0]\n",
    "    \n",
    "    if df_temp.isna().sum().sum() > 0:\n",
    "        print(f\"Dropping {df_temp.isna().sum().sum()} rows from {precip} because NaNs are present.\")\n",
    "        df_temp.dropna(inplace=True)\n",
    "    \n",
    "    try:\n",
    "        datetime.strptime(df_temp.index[0], '%M/%d/%Y')\n",
    "        df_temp = df_temp.reset_index().rename(columns={'index':'obdate'})\n",
    "    except:\n",
    "        pass\n",
    "    \n",
    "    df_temp['datetime'] = pd.to_datetime(df_temp['obdate'] + ' ' + df_temp['obtime'], format=\"%m/%d/%Y %H:%M:%S\")\n",
    "    df_temp['datetime'] = df_temp['datetime'].dt.floor(freq='H')  \n",
    "    \n",
    "    if precip.startswith('ASOS'):    \n",
    "        df_ASOS = df_ASOS.append(df_temp, ignore_index=True)\n",
    "    else:\n",
    "        df_mPING = df_mPING.append(df_temp, ignore_index=True)\n",
    "\n",
    "del df_temp\n"
   ]
  },
  {
   "cell_type": "code",
   "execution_count": 5,
   "id": "d3c90d2d-97e9-4985-bd71-379da1700ddd",
   "metadata": {},
   "outputs": [
    {
     "name": "stdout",
     "output_type": "stream",
     "text": [
      "Removed 29,926,149 duplicates from ASOS dataset\n",
      "Removed 143,773 duplicates from mPING dataset\n"
     ]
    }
   ],
   "source": [
    "# delete duplicate ASOS and mPING entries and add a column of counts to the dataframe\n",
    "\n",
    "duplicate_counts = df_ASOS.groupby(['obdate', 'lat', 'lon', 'precip', 'datetime']).count()\n",
    "shape_orig_ASOS = df_ASOS.shape\n",
    "df_ASOS = df_ASOS.drop_duplicates(subset=['obdate', 'lat', 'lon', 'precip', 'datetime'], keep='first', ignore_index=True)\n",
    "df_ASOS['hourly_count'] = list(duplicate_counts['obtime'])\n",
    "print(f\"Removed {(shape_orig_ASOS[0] - df_ASOS.shape[0]):,} duplicates from ASOS dataset\")\n",
    "\n",
    "duplicate_counts = df_mPING.groupby(['obdate', 'lat', 'lon', 'precip', 'datetime']).count()\n",
    "shape_orig_mPING = df_mPING.shape\n",
    "df_mPING = df_mPING.drop_duplicates(subset=['obdate', 'lat', 'lon', 'precip', 'datetime'], keep='first', ignore_index=True)\n",
    "df_mPING['hourly_count'] = list(duplicate_counts['obtime'])\n",
    "print(f\"Removed {(shape_orig_mPING[0] - df_mPING.shape[0]):,} duplicates from mPING dataset\")\n"
   ]
  },
  {
   "cell_type": "code",
   "execution_count": 38,
   "id": "d3301e4c-a6f4-4f36-9f4a-ffd603739ee3",
   "metadata": {
    "tags": []
   },
   "outputs": [],
   "source": [
    "days_ASOS = [datetime.strptime(x, '%m/%d/%Y').strftime('%Y%m%d') for x in list(df_ASOS['obdate'].unique())]\n",
    "days_mPING = [datetime.strptime(x, '%m/%d/%Y').strftime('%Y%m%d') for x in list(df_mPING['obdate'].unique())]\n",
    "\n",
    "save_ASOS = \"/glade/p/cisl/aiml/ai2es/winter_ptypes/precip_rap/ASOS_RH0/\"\n",
    "save_mPING = \"/glade/p/cisl/aiml/ai2es/winter_ptypes/precip_rap/mPING_raw/\"\n"
   ]
  },
  {
   "cell_type": "code",
   "execution_count": 39,
   "id": "06176887-e016-496e-9233-37ba281e49fe",
   "metadata": {},
   "outputs": [
    {
     "name": "stdout",
     "output_type": "stream",
     "text": [
      "2022-03-22 11:47:07.645134\n",
      "176 ASOS files missing out of 2060 - 91.5% finished\n",
      "2704 mPING files missing out of 2704- 0.0%% finished\n"
     ]
    }
   ],
   "source": [
    "files_ASOS = [x[9:17] for x in [x for x in os.walk(save_ASOS)][0][2]]\n",
    "files_mPING = [x[10:18] for x in [x for x in os.walk(save_mPING)][0][2]]\n",
    "\n",
    "print(datetime.now())\n",
    "missing_ASOS = list(set(days_ASOS) - set(files_ASOS))\n",
    "missing_mPING = list(set(days_mPING) - set(files_mPING))\n",
    "print(f\"{len(missing_ASOS)} ASOS files missing out of {len(set(days_ASOS))} - {(1-len(missing_ASOS)/len(set(days_ASOS))):.1%} finished\")\n",
    "print(f\"{len(missing_mPING)} mPING files missing out of {len(set(days_mPING))}- {(1-len(missing_mPING)/len(set(days_mPING))):.1%}% finished\")\n"
   ]
  },
  {
   "cell_type": "code",
   "execution_count": 40,
   "id": "fdfb1ffc-a4ef-46f9-9eaa-e18a2387947f",
   "metadata": {},
   "outputs": [],
   "source": [
    "with open(\"./missing_ASOS.pkl\", \"wb\") as f:\n",
    "    pickle.dump(missing_ASOS, f)\n",
    "    \n",
    "with open(\"./missing_mPING.pkl\", \"wb\") as f:\n",
    "    pickle.dump(missing_mPING, f)\n",
    "    "
   ]
  },
  {
   "cell_type": "code",
   "execution_count": 13,
   "id": "00ed56b3-8220-4508-bb89-920b3af95eaa",
   "metadata": {},
   "outputs": [],
   "source": [
    "with open(\"./missing_ASOS.pkl\", \"rb\") as f:\n",
    "    missing_ASOS = pickle.load(f)\n",
    "\n",
    "with open(\"./missing_mPING.pkl\", \"rb\") as f:\n",
    "    missing_mPING = pickle.load(f)\n",
    "    "
   ]
  },
  {
   "cell_type": "code",
   "execution_count": null,
   "id": "929e405b-ca24-493e-8080-7535e5e4f56d",
   "metadata": {},
   "outputs": [],
   "source": [
    "date = dates[0] #yyyymmdd\n",
    "hour = 0 #1-23\n",
    "ds = xr.open_dataset(os.path.join(path_data, date, f\"ruc2anl_130_{date}_{hour:02d}00_000.nc\"))\n"
   ]
  },
  {
   "cell_type": "code",
   "execution_count": 7,
   "id": "86815d4f-6e88-4a76-bc32-8b0ec5d8336d",
   "metadata": {},
   "outputs": [],
   "source": [
    "varsSave = ['SNOW_WATER_EQ',\n",
    "            'HGT_ON_SFC',\n",
    "            'SNOW_DEPTH',\n",
    "            'EL_HGT',\n",
    "            'TROP_PRES',\n",
    "            'CRAIN',\n",
    "            'CFRZR',\n",
    "            'CICEP',\n",
    "            'CSNOW',\n",
    "            'TMP_ON_SURFACE',\n",
    "            'MEAN_SEA_LEVEL',\n",
    "            'PRES_ON_SURFACE',\n",
    "            'POT_TEMP_2M',\n",
    "            'DEWPOINT_2M',\n",
    "            'DEWPOINT_DEPRES_2M',\n",
    "            'UGRD_10M',\n",
    "            'VGRD_10M',\n",
    "            'PRES_ON_0CISOTHM',\n",
    "            'HGT_ON_0CISOTHM']\n",
    "\n",
    "varsPressure = ['HGT', 'TMP', 'RH', 'UGRD', 'VGRD', 'VVEL']\n",
    "\n",
    "varsSurface = list(set(varsSave) - set(varsPressure))\n"
   ]
  },
  {
   "cell_type": "code",
   "execution_count": 8,
   "id": "ede4c566-ae9f-445f-8d12-01e2ef5511e2",
   "metadata": {},
   "outputs": [],
   "source": [
    "def df_flatten(ds, x, y, varsP, varsS):\n",
    "    \n",
    "    df = ds.isel(x=x,y=y).to_dataframe()[varsP]\n",
    "    idx0 = df.index.levels[0].astype(int).astype(str)\n",
    "    idx1 = df.index.levels[1]\n",
    "    df.index = df.index.set_levels([idx0, idx1])\n",
    "    df = df.unstack(level='press').sort_index()\n",
    "    df.columns = df.columns.map('_'.join)\n",
    "    \n",
    "    varsAvailable = list(set(varsS).intersection(set(ds.variables)))\n",
    "    dfS = ds[varsAvailable].isel(x=x,y=y).to_dataframe()[varsAvailable]\n",
    "    \n",
    "    df = df.join(dfS).reset_index(drop=True)\n",
    "    \n",
    "    return df\n"
   ]
  },
  {
   "cell_type": "code",
   "execution_count": 78,
   "id": "b4525095-7e80-4614-a1f1-339d9160eb31",
   "metadata": {},
   "outputs": [],
   "source": [
    "def calc_dewpoint(df):# Create T_DEWPOINT columns from RH and TMP\n",
    "    print(df[df.isnull().any(axis=1)][['datetime'] + list(df.columns[df.isna().any()])])\n",
    "    df = df[~df.isnull().any(axis=1)]\n",
    "    for p in list(range(100, 1025, 25)):\n",
    "        df_RH = units.Quantity(np.array(df[f'RH_{p}'])/100., \"dimensionless\")\n",
    "        df_TMP =  units.Quantity(np.array(df[f'TMP_{p}']), \"K\")\n",
    "        df[f'T_DEWPOINT_{p}'] = dewpoint_from_relative_humidity(df_TMP, df_RH) \n",
    "    return df\n"
   ]
  },
  {
   "cell_type": "code",
   "execution_count": 11,
   "id": "0a519668-a358-4895-92e9-10d7f18e0eec",
   "metadata": {},
   "outputs": [],
   "source": [
    "def add_units(df, varsUnits_dict):\n",
    "    # Rename columns to include units\n",
    "    for column in list(df.columns):\n",
    "        if column in list(varsUnits_dict.keys()):\n",
    "            df.rename(columns={column: column + '_' + varsUnits_dict[column]}, inplace=True)\n",
    "    return df\n"
   ]
  },
  {
   "cell_type": "code",
   "execution_count": 31,
   "id": "fdf8dd2e-bf3e-4aa9-83ca-002cf3c4000d",
   "metadata": {},
   "outputs": [],
   "source": [
    "with open(os.path.join(path_save, \"varsUnits_dict.pkl\"), 'rb') as f:\n",
    "    varsUnits_dict = pickle.load(f)\n",
    "    "
   ]
  },
  {
   "cell_type": "code",
   "execution_count": 10,
   "id": "65f686f2-3106-4c8e-9111-137639e2db27",
   "metadata": {
    "scrolled": true,
    "tags": []
   },
   "outputs": [
    {
     "data": {
      "application/vnd.jupyter.widget-view+json": {
       "model_id": "adafec67f99d4d8086aa59f14a7741f9",
       "version_major": 2,
       "version_minor": 0
      },
      "text/plain": [
       "  0%|          | 0/2060 [00:00<?, ?it/s]"
      ]
     },
     "metadata": {},
     "output_type": "display_data"
    },
    {
     "data": {
      "application/vnd.jupyter.widget-view+json": {
       "model_id": "e9dbd34c27d84227907330f5195972a9",
       "version_major": 2,
       "version_minor": 0
      },
      "text/plain": [
       "  0%|          | 0/23 [00:00<?, ?it/s]"
      ]
     },
     "metadata": {},
     "output_type": "display_data"
    },
    {
     "data": {
      "application/vnd.jupyter.widget-view+json": {
       "model_id": "f5393f2f752a409eacd206b2c6f62653",
       "version_major": 2,
       "version_minor": 0
      },
      "text/plain": [
       "  0%|          | 0/99 [00:00<?, ?it/s]"
      ]
     },
     "metadata": {},
     "output_type": "display_data"
    },
    {
     "name": "stderr",
     "output_type": "stream",
     "text": [
      "/glade/work/ggantos/miniconda2/envs/holo_torch/lib/python3.6/site-packages/pint/numpy_func.py:303: RuntimeWarning: divide by zero encountered in log\n",
      "  result_magnitude = func(*stripped_args, **stripped_kwargs)\n",
      "/glade/work/ggantos/miniconda2/envs/holo_torch/lib/python3.6/site-packages/pint/quantity.py:1237: RuntimeWarning: invalid value encountered in true_divide\n",
      "  magnitude = magnitude_op(new_self._magnitude, other._magnitude)\n"
     ]
    },
    {
     "name": "stdout",
     "output_type": "stream",
     "text": [
      "(99, 285)\n"
     ]
    },
    {
     "data": {
      "application/vnd.jupyter.widget-view+json": {
       "model_id": "97cf09ca5dd54c39a664ed67552a77a2",
       "version_major": 2,
       "version_minor": 0
      },
      "text/plain": [
       "  0%|          | 0/23 [00:00<?, ?it/s]"
      ]
     },
     "metadata": {},
     "output_type": "display_data"
    },
    {
     "name": "stdout",
     "output_type": "stream",
     "text": [
      "(23, 285)\n"
     ]
    },
    {
     "data": {
      "application/vnd.jupyter.widget-view+json": {
       "model_id": "cee4877ea10e40ba8dabbcba266f011f",
       "version_major": 2,
       "version_minor": 0
      },
      "text/plain": [
       "  0%|          | 0/12 [00:00<?, ?it/s]"
      ]
     },
     "metadata": {},
     "output_type": "display_data"
    },
    {
     "name": "stdout",
     "output_type": "stream",
     "text": [
      "(12, 285)\n"
     ]
    },
    {
     "data": {
      "application/vnd.jupyter.widget-view+json": {
       "model_id": "b45a578f0e454b3ab57b5f71a48620af",
       "version_major": 2,
       "version_minor": 0
      },
      "text/plain": [
       "  0%|          | 0/7 [00:00<?, ?it/s]"
      ]
     },
     "metadata": {},
     "output_type": "display_data"
    },
    {
     "name": "stdout",
     "output_type": "stream",
     "text": [
      "(7, 285)\n"
     ]
    },
    {
     "data": {
      "application/vnd.jupyter.widget-view+json": {
       "model_id": "74aceeb750704d5bb99949b2e35f354f",
       "version_major": 2,
       "version_minor": 0
      },
      "text/plain": [
       "  0%|          | 0/507 [00:00<?, ?it/s]"
      ]
     },
     "metadata": {},
     "output_type": "display_data"
    },
    {
     "name": "stderr",
     "output_type": "stream",
     "text": [
      "/glade/work/ggantos/miniconda2/envs/holo_torch/lib/python3.6/site-packages/pint/numpy_func.py:303: RuntimeWarning: divide by zero encountered in log\n",
      "  result_magnitude = func(*stripped_args, **stripped_kwargs)\n",
      "/glade/work/ggantos/miniconda2/envs/holo_torch/lib/python3.6/site-packages/pint/quantity.py:1237: RuntimeWarning: invalid value encountered in true_divide\n",
      "  magnitude = magnitude_op(new_self._magnitude, other._magnitude)\n"
     ]
    },
    {
     "name": "stdout",
     "output_type": "stream",
     "text": [
      "(507, 285)\n"
     ]
    },
    {
     "data": {
      "application/vnd.jupyter.widget-view+json": {
       "model_id": "088f8e9787f84249a11467ba2869d42c",
       "version_major": 2,
       "version_minor": 0
      },
      "text/plain": [
       "  0%|          | 0/1130 [00:00<?, ?it/s]"
      ]
     },
     "metadata": {},
     "output_type": "display_data"
    },
    {
     "name": "stderr",
     "output_type": "stream",
     "text": [
      "/glade/work/ggantos/miniconda2/envs/holo_torch/lib/python3.6/site-packages/pint/numpy_func.py:303: RuntimeWarning: divide by zero encountered in log\n",
      "  result_magnitude = func(*stripped_args, **stripped_kwargs)\n",
      "/glade/work/ggantos/miniconda2/envs/holo_torch/lib/python3.6/site-packages/pint/quantity.py:1237: RuntimeWarning: invalid value encountered in true_divide\n",
      "  magnitude = magnitude_op(new_self._magnitude, other._magnitude)\n"
     ]
    },
    {
     "name": "stdout",
     "output_type": "stream",
     "text": [
      "(1130, 285)\n"
     ]
    },
    {
     "data": {
      "application/vnd.jupyter.widget-view+json": {
       "model_id": "34dbef96328e4764adf3a4cace892c6b",
       "version_major": 2,
       "version_minor": 0
      },
      "text/plain": [
       "  0%|          | 0/1180 [00:00<?, ?it/s]"
      ]
     },
     "metadata": {},
     "output_type": "display_data"
    },
    {
     "name": "stderr",
     "output_type": "stream",
     "text": [
      "/glade/work/ggantos/miniconda2/envs/holo_torch/lib/python3.6/site-packages/pint/numpy_func.py:303: RuntimeWarning: divide by zero encountered in log\n",
      "  result_magnitude = func(*stripped_args, **stripped_kwargs)\n",
      "/glade/work/ggantos/miniconda2/envs/holo_torch/lib/python3.6/site-packages/pint/quantity.py:1237: RuntimeWarning: invalid value encountered in true_divide\n",
      "  magnitude = magnitude_op(new_self._magnitude, other._magnitude)\n"
     ]
    },
    {
     "name": "stdout",
     "output_type": "stream",
     "text": [
      "(1180, 285)\n"
     ]
    },
    {
     "data": {
      "application/vnd.jupyter.widget-view+json": {
       "model_id": "ece8b201eedd4e8dad6b7b18a9801e69",
       "version_major": 2,
       "version_minor": 0
      },
      "text/plain": [
       "  0%|          | 0/1233 [00:00<?, ?it/s]"
      ]
     },
     "metadata": {},
     "output_type": "display_data"
    },
    {
     "name": "stderr",
     "output_type": "stream",
     "text": [
      "/glade/work/ggantos/miniconda2/envs/holo_torch/lib/python3.6/site-packages/pint/numpy_func.py:303: RuntimeWarning: divide by zero encountered in log\n",
      "  result_magnitude = func(*stripped_args, **stripped_kwargs)\n",
      "/glade/work/ggantos/miniconda2/envs/holo_torch/lib/python3.6/site-packages/pint/quantity.py:1237: RuntimeWarning: invalid value encountered in true_divide\n",
      "  magnitude = magnitude_op(new_self._magnitude, other._magnitude)\n"
     ]
    },
    {
     "name": "stdout",
     "output_type": "stream",
     "text": [
      "(1233, 285)\n"
     ]
    },
    {
     "data": {
      "application/vnd.jupyter.widget-view+json": {
       "model_id": "b4357fcc85e14b25a5af9e40410a2a2e",
       "version_major": 2,
       "version_minor": 0
      },
      "text/plain": [
       "  0%|          | 0/1270 [00:00<?, ?it/s]"
      ]
     },
     "metadata": {},
     "output_type": "display_data"
    },
    {
     "name": "stderr",
     "output_type": "stream",
     "text": [
      "/glade/work/ggantos/miniconda2/envs/holo_torch/lib/python3.6/site-packages/pint/numpy_func.py:303: RuntimeWarning: divide by zero encountered in log\n",
      "  result_magnitude = func(*stripped_args, **stripped_kwargs)\n",
      "/glade/work/ggantos/miniconda2/envs/holo_torch/lib/python3.6/site-packages/pint/quantity.py:1237: RuntimeWarning: invalid value encountered in true_divide\n",
      "  magnitude = magnitude_op(new_self._magnitude, other._magnitude)\n"
     ]
    },
    {
     "name": "stdout",
     "output_type": "stream",
     "text": [
      "(1270, 285)\n"
     ]
    },
    {
     "data": {
      "application/vnd.jupyter.widget-view+json": {
       "model_id": "57521ecfa6e34467b3d42abc2deecdb0",
       "version_major": 2,
       "version_minor": 0
      },
      "text/plain": [
       "  0%|          | 0/1150 [00:00<?, ?it/s]"
      ]
     },
     "metadata": {},
     "output_type": "display_data"
    },
    {
     "name": "stderr",
     "output_type": "stream",
     "text": [
      "/glade/work/ggantos/miniconda2/envs/holo_torch/lib/python3.6/site-packages/pint/numpy_func.py:303: RuntimeWarning: divide by zero encountered in log\n",
      "  result_magnitude = func(*stripped_args, **stripped_kwargs)\n",
      "/glade/work/ggantos/miniconda2/envs/holo_torch/lib/python3.6/site-packages/pint/quantity.py:1237: RuntimeWarning: invalid value encountered in true_divide\n",
      "  magnitude = magnitude_op(new_self._magnitude, other._magnitude)\n"
     ]
    },
    {
     "name": "stdout",
     "output_type": "stream",
     "text": [
      "(1150, 285)\n"
     ]
    },
    {
     "data": {
      "application/vnd.jupyter.widget-view+json": {
       "model_id": "e27880b945e1401a9078e3998bb7134c",
       "version_major": 2,
       "version_minor": 0
      },
      "text/plain": [
       "  0%|          | 0/1088 [00:00<?, ?it/s]"
      ]
     },
     "metadata": {},
     "output_type": "display_data"
    },
    {
     "name": "stderr",
     "output_type": "stream",
     "text": [
      "/glade/work/ggantos/miniconda2/envs/holo_torch/lib/python3.6/site-packages/pint/numpy_func.py:303: RuntimeWarning: divide by zero encountered in log\n",
      "  result_magnitude = func(*stripped_args, **stripped_kwargs)\n",
      "/glade/work/ggantos/miniconda2/envs/holo_torch/lib/python3.6/site-packages/pint/quantity.py:1237: RuntimeWarning: invalid value encountered in true_divide\n",
      "  magnitude = magnitude_op(new_self._magnitude, other._magnitude)\n"
     ]
    },
    {
     "name": "stdout",
     "output_type": "stream",
     "text": [
      "(1088, 285)\n"
     ]
    },
    {
     "data": {
      "application/vnd.jupyter.widget-view+json": {
       "model_id": "f74b10b733754ccabcce9e91ee9fd308",
       "version_major": 2,
       "version_minor": 0
      },
      "text/plain": [
       "  0%|          | 0/1132 [00:00<?, ?it/s]"
      ]
     },
     "metadata": {},
     "output_type": "display_data"
    },
    {
     "name": "stderr",
     "output_type": "stream",
     "text": [
      "/glade/work/ggantos/miniconda2/envs/holo_torch/lib/python3.6/site-packages/pint/numpy_func.py:303: RuntimeWarning: divide by zero encountered in log\n",
      "  result_magnitude = func(*stripped_args, **stripped_kwargs)\n",
      "/glade/work/ggantos/miniconda2/envs/holo_torch/lib/python3.6/site-packages/pint/quantity.py:1237: RuntimeWarning: invalid value encountered in true_divide\n",
      "  magnitude = magnitude_op(new_self._magnitude, other._magnitude)\n"
     ]
    },
    {
     "name": "stdout",
     "output_type": "stream",
     "text": [
      "(1132, 285)\n"
     ]
    },
    {
     "data": {
      "application/vnd.jupyter.widget-view+json": {
       "model_id": "ddc5d2e5ee5a47058d4411bbaac9ce52",
       "version_major": 2,
       "version_minor": 0
      },
      "text/plain": [
       "  0%|          | 0/1187 [00:00<?, ?it/s]"
      ]
     },
     "metadata": {},
     "output_type": "display_data"
    },
    {
     "name": "stdout",
     "output_type": "stream",
     "text": [
      "(1187, 285)\n"
     ]
    },
    {
     "data": {
      "application/vnd.jupyter.widget-view+json": {
       "model_id": "1bcc835646494871ab0d5dec22a4ecd6",
       "version_major": 2,
       "version_minor": 0
      },
      "text/plain": [
       "  0%|          | 0/1335 [00:00<?, ?it/s]"
      ]
     },
     "metadata": {},
     "output_type": "display_data"
    },
    {
     "name": "stderr",
     "output_type": "stream",
     "text": [
      "/glade/work/ggantos/miniconda2/envs/holo_torch/lib/python3.6/site-packages/pint/numpy_func.py:303: RuntimeWarning: divide by zero encountered in log\n",
      "  result_magnitude = func(*stripped_args, **stripped_kwargs)\n",
      "/glade/work/ggantos/miniconda2/envs/holo_torch/lib/python3.6/site-packages/pint/quantity.py:1237: RuntimeWarning: invalid value encountered in true_divide\n",
      "  magnitude = magnitude_op(new_self._magnitude, other._magnitude)\n"
     ]
    },
    {
     "name": "stdout",
     "output_type": "stream",
     "text": [
      "(1335, 285)\n"
     ]
    },
    {
     "data": {
      "application/vnd.jupyter.widget-view+json": {
       "model_id": "c36b3798424b42a5a3f0754fe73c2413",
       "version_major": 2,
       "version_minor": 0
      },
      "text/plain": [
       "  0%|          | 0/1286 [00:00<?, ?it/s]"
      ]
     },
     "metadata": {},
     "output_type": "display_data"
    },
    {
     "name": "stderr",
     "output_type": "stream",
     "text": [
      "/glade/work/ggantos/miniconda2/envs/holo_torch/lib/python3.6/site-packages/pint/numpy_func.py:303: RuntimeWarning: divide by zero encountered in log\n",
      "  result_magnitude = func(*stripped_args, **stripped_kwargs)\n",
      "/glade/work/ggantos/miniconda2/envs/holo_torch/lib/python3.6/site-packages/pint/quantity.py:1237: RuntimeWarning: invalid value encountered in true_divide\n",
      "  magnitude = magnitude_op(new_self._magnitude, other._magnitude)\n"
     ]
    },
    {
     "name": "stdout",
     "output_type": "stream",
     "text": [
      "(1286, 285)\n"
     ]
    },
    {
     "data": {
      "application/vnd.jupyter.widget-view+json": {
       "model_id": "e410133f06c74ea5b6e55b1fbb9a52fb",
       "version_major": 2,
       "version_minor": 0
      },
      "text/plain": [
       "  0%|          | 0/1043 [00:00<?, ?it/s]"
      ]
     },
     "metadata": {},
     "output_type": "display_data"
    },
    {
     "name": "stderr",
     "output_type": "stream",
     "text": [
      "/glade/work/ggantos/miniconda2/envs/holo_torch/lib/python3.6/site-packages/pint/numpy_func.py:303: RuntimeWarning: divide by zero encountered in log\n",
      "  result_magnitude = func(*stripped_args, **stripped_kwargs)\n",
      "/glade/work/ggantos/miniconda2/envs/holo_torch/lib/python3.6/site-packages/pint/quantity.py:1237: RuntimeWarning: invalid value encountered in true_divide\n",
      "  magnitude = magnitude_op(new_self._magnitude, other._magnitude)\n"
     ]
    },
    {
     "name": "stdout",
     "output_type": "stream",
     "text": [
      "(1043, 285)\n"
     ]
    },
    {
     "data": {
      "application/vnd.jupyter.widget-view+json": {
       "model_id": "e7848885312d4b2f934f5966e2390247",
       "version_major": 2,
       "version_minor": 0
      },
      "text/plain": [
       "  0%|          | 0/1025 [00:00<?, ?it/s]"
      ]
     },
     "metadata": {},
     "output_type": "display_data"
    },
    {
     "name": "stdout",
     "output_type": "stream",
     "text": [
      "(1025, 285)\n"
     ]
    },
    {
     "data": {
      "application/vnd.jupyter.widget-view+json": {
       "model_id": "93516b1179dc41f6820eeffdf82d0270",
       "version_major": 2,
       "version_minor": 0
      },
      "text/plain": [
       "  0%|          | 0/1044 [00:00<?, ?it/s]"
      ]
     },
     "metadata": {},
     "output_type": "display_data"
    },
    {
     "name": "stderr",
     "output_type": "stream",
     "text": [
      "/glade/work/ggantos/miniconda2/envs/holo_torch/lib/python3.6/site-packages/pint/numpy_func.py:303: RuntimeWarning: divide by zero encountered in log\n",
      "  result_magnitude = func(*stripped_args, **stripped_kwargs)\n",
      "/glade/work/ggantos/miniconda2/envs/holo_torch/lib/python3.6/site-packages/pint/quantity.py:1237: RuntimeWarning: invalid value encountered in true_divide\n",
      "  magnitude = magnitude_op(new_self._magnitude, other._magnitude)\n"
     ]
    },
    {
     "name": "stdout",
     "output_type": "stream",
     "text": [
      "(1044, 285)\n"
     ]
    },
    {
     "data": {
      "application/vnd.jupyter.widget-view+json": {
       "model_id": "ff0514f72c214f04a36fc077628ff59c",
       "version_major": 2,
       "version_minor": 0
      },
      "text/plain": [
       "  0%|          | 0/1021 [00:00<?, ?it/s]"
      ]
     },
     "metadata": {},
     "output_type": "display_data"
    },
    {
     "name": "stderr",
     "output_type": "stream",
     "text": [
      "/glade/work/ggantos/miniconda2/envs/holo_torch/lib/python3.6/site-packages/pint/numpy_func.py:303: RuntimeWarning: divide by zero encountered in log\n",
      "  result_magnitude = func(*stripped_args, **stripped_kwargs)\n",
      "/glade/work/ggantos/miniconda2/envs/holo_torch/lib/python3.6/site-packages/pint/quantity.py:1237: RuntimeWarning: invalid value encountered in true_divide\n",
      "  magnitude = magnitude_op(new_self._magnitude, other._magnitude)\n"
     ]
    },
    {
     "name": "stdout",
     "output_type": "stream",
     "text": [
      "(1021, 285)\n"
     ]
    },
    {
     "data": {
      "application/vnd.jupyter.widget-view+json": {
       "model_id": "b186822c51184d0f87f23a6172764fca",
       "version_major": 2,
       "version_minor": 0
      },
      "text/plain": [
       "  0%|          | 0/1034 [00:00<?, ?it/s]"
      ]
     },
     "metadata": {},
     "output_type": "display_data"
    },
    {
     "name": "stdout",
     "output_type": "stream",
     "text": [
      "(1034, 285)\n"
     ]
    },
    {
     "data": {
      "application/vnd.jupyter.widget-view+json": {
       "model_id": "bcac1e7e84e84e41baa1c579317a3e58",
       "version_major": 2,
       "version_minor": 0
      },
      "text/plain": [
       "  0%|          | 0/1011 [00:00<?, ?it/s]"
      ]
     },
     "metadata": {},
     "output_type": "display_data"
    },
    {
     "name": "stdout",
     "output_type": "stream",
     "text": [
      "(1011, 285)\n"
     ]
    },
    {
     "data": {
      "application/vnd.jupyter.widget-view+json": {
       "model_id": "c72612dc22064fa19127e87051bf3000",
       "version_major": 2,
       "version_minor": 0
      },
      "text/plain": [
       "  0%|          | 0/988 [00:00<?, ?it/s]"
      ]
     },
     "metadata": {},
     "output_type": "display_data"
    },
    {
     "name": "stdout",
     "output_type": "stream",
     "text": [
      "(988, 285)\n"
     ]
    },
    {
     "data": {
      "application/vnd.jupyter.widget-view+json": {
       "model_id": "ae593064907f4f67a0c2e4d5f00c76ab",
       "version_major": 2,
       "version_minor": 0
      },
      "text/plain": [
       "  0%|          | 0/973 [00:00<?, ?it/s]"
      ]
     },
     "metadata": {},
     "output_type": "display_data"
    },
    {
     "name": "stdout",
     "output_type": "stream",
     "text": [
      "(973, 285)\n"
     ]
    },
    {
     "data": {
      "application/vnd.jupyter.widget-view+json": {
       "model_id": "2f6c0b05bdd84f988abf28530c3eb102",
       "version_major": 2,
       "version_minor": 0
      },
      "text/plain": [
       "  0%|          | 0/22 [00:00<?, ?it/s]"
      ]
     },
     "metadata": {},
     "output_type": "display_data"
    },
    {
     "data": {
      "application/vnd.jupyter.widget-view+json": {
       "model_id": "8612bef7d9ae4acb9a00cd53fcb0f7b3",
       "version_major": 2,
       "version_minor": 0
      },
      "text/plain": [
       "  0%|          | 0/16 [00:00<?, ?it/s]"
      ]
     },
     "metadata": {},
     "output_type": "display_data"
    },
    {
     "name": "stdout",
     "output_type": "stream",
     "text": [
      "(16, 285)\n",
      "20140101 01 [Errno 2] No such file or directory: b'/glade/p/cisl/aiml/conv_risk_intel/rap_ncei_nc/20140101/ruc2anl_130_20140101_0100_000.nc'\n",
      "20140101 02 [Errno 2] No such file or directory: b'/glade/p/cisl/aiml/conv_risk_intel/rap_ncei_nc/20140101/ruc2anl_130_20140101_0200_000.nc'\n",
      "20140101 05 [Errno 2] No such file or directory: b'/glade/p/cisl/aiml/conv_risk_intel/rap_ncei_nc/20140101/ruc2anl_130_20140101_0500_000.nc'\n",
      "20140101 06 [Errno 2] No such file or directory: b'/glade/p/cisl/aiml/conv_risk_intel/rap_ncei_nc/20140101/ruc2anl_130_20140101_0600_000.nc'\n",
      "20140101 07 [Errno 2] No such file or directory: b'/glade/p/cisl/aiml/conv_risk_intel/rap_ncei_nc/20140101/ruc2anl_130_20140101_0700_000.nc'\n",
      "20140101 08 [Errno 2] No such file or directory: b'/glade/p/cisl/aiml/conv_risk_intel/rap_ncei_nc/20140101/ruc2anl_130_20140101_0800_000.nc'\n",
      "20140101 09 [Errno 2] No such file or directory: b'/glade/p/cisl/aiml/conv_risk_intel/rap_ncei_nc/20140101/ruc2anl_130_20140101_0900_000.nc'\n",
      "20140101 10 [Errno 2] No such file or directory: b'/glade/p/cisl/aiml/conv_risk_intel/rap_ncei_nc/20140101/ruc2anl_130_20140101_1000_000.nc'\n",
      "20140101 11 [Errno 2] No such file or directory: b'/glade/p/cisl/aiml/conv_risk_intel/rap_ncei_nc/20140101/ruc2anl_130_20140101_1100_000.nc'\n",
      "20140101 12 [Errno 2] No such file or directory: b'/glade/p/cisl/aiml/conv_risk_intel/rap_ncei_nc/20140101/ruc2anl_130_20140101_1200_000.nc'\n",
      "20140101 13 [Errno 2] No such file or directory: b'/glade/p/cisl/aiml/conv_risk_intel/rap_ncei_nc/20140101/ruc2anl_130_20140101_1300_000.nc'\n",
      "20140101 14 [Errno 2] No such file or directory: b'/glade/p/cisl/aiml/conv_risk_intel/rap_ncei_nc/20140101/ruc2anl_130_20140101_1400_000.nc'\n",
      "20140101 15 [Errno 2] No such file or directory: b'/glade/p/cisl/aiml/conv_risk_intel/rap_ncei_nc/20140101/ruc2anl_130_20140101_1500_000.nc'\n",
      "20140101 16 [Errno 2] No such file or directory: b'/glade/p/cisl/aiml/conv_risk_intel/rap_ncei_nc/20140101/ruc2anl_130_20140101_1600_000.nc'\n",
      "20140101 17 [Errno 2] No such file or directory: b'/glade/p/cisl/aiml/conv_risk_intel/rap_ncei_nc/20140101/ruc2anl_130_20140101_1700_000.nc'\n",
      "20140101 18 [Errno 2] No such file or directory: b'/glade/p/cisl/aiml/conv_risk_intel/rap_ncei_nc/20140101/ruc2anl_130_20140101_1800_000.nc'\n",
      "20140101 19 [Errno 2] No such file or directory: b'/glade/p/cisl/aiml/conv_risk_intel/rap_ncei_nc/20140101/ruc2anl_130_20140101_1900_000.nc'\n",
      "20140101 20 [Errno 2] No such file or directory: b'/glade/p/cisl/aiml/conv_risk_intel/rap_ncei_nc/20140101/ruc2anl_130_20140101_2000_000.nc'\n",
      "20140101 21 [Errno 2] No such file or directory: b'/glade/p/cisl/aiml/conv_risk_intel/rap_ncei_nc/20140101/ruc2anl_130_20140101_2100_000.nc'\n",
      "20140101 22 [Errno 2] No such file or directory: b'/glade/p/cisl/aiml/conv_risk_intel/rap_ncei_nc/20140101/ruc2anl_130_20140101_2200_000.nc'\n",
      "20140101 23 [Errno 2] No such file or directory: b'/glade/p/cisl/aiml/conv_risk_intel/rap_ncei_nc/20140101/ruc2anl_130_20140101_2300_000.nc'\n"
     ]
    },
    {
     "data": {
      "application/vnd.jupyter.widget-view+json": {
       "model_id": "52b843a271b94647a2912de8203e3f31",
       "version_major": 2,
       "version_minor": 0
      },
      "text/plain": [
       "  0%|          | 0/24 [00:00<?, ?it/s]"
      ]
     },
     "metadata": {},
     "output_type": "display_data"
    },
    {
     "data": {
      "application/vnd.jupyter.widget-view+json": {
       "model_id": "a01555a7a36e4d8092be1171e2acdbf9",
       "version_major": 2,
       "version_minor": 0
      },
      "text/plain": [
       "  0%|          | 0/306 [00:00<?, ?it/s]"
      ]
     },
     "metadata": {},
     "output_type": "display_data"
    },
    {
     "name": "stderr",
     "output_type": "stream",
     "text": [
      "/glade/work/ggantos/miniconda2/envs/holo_torch/lib/python3.6/site-packages/pint/numpy_func.py:303: RuntimeWarning: divide by zero encountered in log\n",
      "  result_magnitude = func(*stripped_args, **stripped_kwargs)\n",
      "/glade/work/ggantos/miniconda2/envs/holo_torch/lib/python3.6/site-packages/pint/quantity.py:1237: RuntimeWarning: invalid value encountered in true_divide\n",
      "  magnitude = magnitude_op(new_self._magnitude, other._magnitude)\n"
     ]
    },
    {
     "name": "stdout",
     "output_type": "stream",
     "text": [
      "(306, 285)\n"
     ]
    },
    {
     "data": {
      "application/vnd.jupyter.widget-view+json": {
       "model_id": "9e9e7c6c02dd4798a0bff70366ced915",
       "version_major": 2,
       "version_minor": 0
      },
      "text/plain": [
       "  0%|          | 0/316 [00:00<?, ?it/s]"
      ]
     },
     "metadata": {},
     "output_type": "display_data"
    },
    {
     "name": "stderr",
     "output_type": "stream",
     "text": [
      "/glade/work/ggantos/miniconda2/envs/holo_torch/lib/python3.6/site-packages/pint/numpy_func.py:303: RuntimeWarning: divide by zero encountered in log\n",
      "  result_magnitude = func(*stripped_args, **stripped_kwargs)\n",
      "/glade/work/ggantos/miniconda2/envs/holo_torch/lib/python3.6/site-packages/pint/quantity.py:1237: RuntimeWarning: invalid value encountered in true_divide\n",
      "  magnitude = magnitude_op(new_self._magnitude, other._magnitude)\n"
     ]
    },
    {
     "name": "stdout",
     "output_type": "stream",
     "text": [
      "(316, 285)\n"
     ]
    },
    {
     "data": {
      "application/vnd.jupyter.widget-view+json": {
       "model_id": "998c9a92dd2449dd8568dcde842b4a92",
       "version_major": 2,
       "version_minor": 0
      },
      "text/plain": [
       "  0%|          | 0/320 [00:00<?, ?it/s]"
      ]
     },
     "metadata": {},
     "output_type": "display_data"
    },
    {
     "name": "stderr",
     "output_type": "stream",
     "text": [
      "/glade/work/ggantos/miniconda2/envs/holo_torch/lib/python3.6/site-packages/pint/numpy_func.py:303: RuntimeWarning: divide by zero encountered in log\n",
      "  result_magnitude = func(*stripped_args, **stripped_kwargs)\n",
      "/glade/work/ggantos/miniconda2/envs/holo_torch/lib/python3.6/site-packages/pint/quantity.py:1237: RuntimeWarning: invalid value encountered in true_divide\n",
      "  magnitude = magnitude_op(new_self._magnitude, other._magnitude)\n"
     ]
    },
    {
     "name": "stdout",
     "output_type": "stream",
     "text": [
      "(320, 285)\n"
     ]
    },
    {
     "data": {
      "application/vnd.jupyter.widget-view+json": {
       "model_id": "6ca583351fc742cf890812ebac9577c9",
       "version_major": 2,
       "version_minor": 0
      },
      "text/plain": [
       "  0%|          | 0/209 [00:00<?, ?it/s]"
      ]
     },
     "metadata": {},
     "output_type": "display_data"
    },
    {
     "name": "stderr",
     "output_type": "stream",
     "text": [
      "/glade/work/ggantos/miniconda2/envs/holo_torch/lib/python3.6/site-packages/pint/numpy_func.py:303: RuntimeWarning: divide by zero encountered in log\n",
      "  result_magnitude = func(*stripped_args, **stripped_kwargs)\n",
      "/glade/work/ggantos/miniconda2/envs/holo_torch/lib/python3.6/site-packages/pint/quantity.py:1237: RuntimeWarning: invalid value encountered in true_divide\n",
      "  magnitude = magnitude_op(new_self._magnitude, other._magnitude)\n"
     ]
    },
    {
     "name": "stdout",
     "output_type": "stream",
     "text": [
      "(209, 285)\n"
     ]
    },
    {
     "data": {
      "application/vnd.jupyter.widget-view+json": {
       "model_id": "6a1c238f499349da94da21d0ddd43cde",
       "version_major": 2,
       "version_minor": 0
      },
      "text/plain": [
       "  0%|          | 0/43 [00:00<?, ?it/s]"
      ]
     },
     "metadata": {},
     "output_type": "display_data"
    },
    {
     "name": "stderr",
     "output_type": "stream",
     "text": [
      "/glade/work/ggantos/miniconda2/envs/holo_torch/lib/python3.6/site-packages/pint/numpy_func.py:303: RuntimeWarning: divide by zero encountered in log\n",
      "  result_magnitude = func(*stripped_args, **stripped_kwargs)\n",
      "/glade/work/ggantos/miniconda2/envs/holo_torch/lib/python3.6/site-packages/pint/quantity.py:1237: RuntimeWarning: invalid value encountered in true_divide\n",
      "  magnitude = magnitude_op(new_self._magnitude, other._magnitude)\n"
     ]
    },
    {
     "name": "stdout",
     "output_type": "stream",
     "text": [
      "(43, 285)\n"
     ]
    },
    {
     "data": {
      "application/vnd.jupyter.widget-view+json": {
       "model_id": "b1486c1acfa04eabbe87e7ec477c5ff7",
       "version_major": 2,
       "version_minor": 0
      },
      "text/plain": [
       "  0%|          | 0/105 [00:00<?, ?it/s]"
      ]
     },
     "metadata": {},
     "output_type": "display_data"
    },
    {
     "name": "stderr",
     "output_type": "stream",
     "text": [
      "/glade/work/ggantos/miniconda2/envs/holo_torch/lib/python3.6/site-packages/pint/numpy_func.py:303: RuntimeWarning: divide by zero encountered in log\n",
      "  result_magnitude = func(*stripped_args, **stripped_kwargs)\n",
      "/glade/work/ggantos/miniconda2/envs/holo_torch/lib/python3.6/site-packages/pint/quantity.py:1237: RuntimeWarning: invalid value encountered in true_divide\n",
      "  magnitude = magnitude_op(new_self._magnitude, other._magnitude)\n"
     ]
    },
    {
     "name": "stdout",
     "output_type": "stream",
     "text": [
      "(105, 285)\n"
     ]
    },
    {
     "data": {
      "application/vnd.jupyter.widget-view+json": {
       "model_id": "629caea6a4a34151be4bb32640e4e9a7",
       "version_major": 2,
       "version_minor": 0
      },
      "text/plain": [
       "  0%|          | 0/245 [00:00<?, ?it/s]"
      ]
     },
     "metadata": {},
     "output_type": "display_data"
    },
    {
     "name": "stderr",
     "output_type": "stream",
     "text": [
      "/glade/work/ggantos/miniconda2/envs/holo_torch/lib/python3.6/site-packages/pint/numpy_func.py:303: RuntimeWarning: divide by zero encountered in log\n",
      "  result_magnitude = func(*stripped_args, **stripped_kwargs)\n",
      "/glade/work/ggantos/miniconda2/envs/holo_torch/lib/python3.6/site-packages/pint/quantity.py:1237: RuntimeWarning: invalid value encountered in true_divide\n",
      "  magnitude = magnitude_op(new_self._magnitude, other._magnitude)\n"
     ]
    },
    {
     "name": "stdout",
     "output_type": "stream",
     "text": [
      "(245, 285)\n"
     ]
    },
    {
     "data": {
      "application/vnd.jupyter.widget-view+json": {
       "model_id": "0f523704168045e29c72b54e5c384638",
       "version_major": 2,
       "version_minor": 0
      },
      "text/plain": [
       "  0%|          | 0/516 [00:00<?, ?it/s]"
      ]
     },
     "metadata": {},
     "output_type": "display_data"
    },
    {
     "name": "stderr",
     "output_type": "stream",
     "text": [
      "/glade/work/ggantos/miniconda2/envs/holo_torch/lib/python3.6/site-packages/pint/numpy_func.py:303: RuntimeWarning: divide by zero encountered in log\n",
      "  result_magnitude = func(*stripped_args, **stripped_kwargs)\n",
      "/glade/work/ggantos/miniconda2/envs/holo_torch/lib/python3.6/site-packages/pint/quantity.py:1237: RuntimeWarning: invalid value encountered in true_divide\n",
      "  magnitude = magnitude_op(new_self._magnitude, other._magnitude)\n"
     ]
    },
    {
     "name": "stdout",
     "output_type": "stream",
     "text": [
      "(516, 285)\n"
     ]
    },
    {
     "data": {
      "application/vnd.jupyter.widget-view+json": {
       "model_id": "c3d3e95e8896428abc0ef15065785769",
       "version_major": 2,
       "version_minor": 0
      },
      "text/plain": [
       "  0%|          | 0/548 [00:00<?, ?it/s]"
      ]
     },
     "metadata": {},
     "output_type": "display_data"
    },
    {
     "name": "stderr",
     "output_type": "stream",
     "text": [
      "/glade/work/ggantos/miniconda2/envs/holo_torch/lib/python3.6/site-packages/pint/numpy_func.py:303: RuntimeWarning: divide by zero encountered in log\n",
      "  result_magnitude = func(*stripped_args, **stripped_kwargs)\n",
      "/glade/work/ggantos/miniconda2/envs/holo_torch/lib/python3.6/site-packages/pint/quantity.py:1237: RuntimeWarning: invalid value encountered in true_divide\n",
      "  magnitude = magnitude_op(new_self._magnitude, other._magnitude)\n"
     ]
    },
    {
     "name": "stdout",
     "output_type": "stream",
     "text": [
      "(548, 285)\n"
     ]
    },
    {
     "data": {
      "application/vnd.jupyter.widget-view+json": {
       "model_id": "a8258234e481490cbc6bb7450b8e4919",
       "version_major": 2,
       "version_minor": 0
      },
      "text/plain": [
       "  0%|          | 0/552 [00:00<?, ?it/s]"
      ]
     },
     "metadata": {},
     "output_type": "display_data"
    },
    {
     "name": "stdout",
     "output_type": "stream",
     "text": [
      "(552, 285)\n"
     ]
    },
    {
     "data": {
      "application/vnd.jupyter.widget-view+json": {
       "model_id": "c12610f2297448d98df4b6925cc15fa3",
       "version_major": 2,
       "version_minor": 0
      },
      "text/plain": [
       "  0%|          | 0/669 [00:00<?, ?it/s]"
      ]
     },
     "metadata": {},
     "output_type": "display_data"
    },
    {
     "name": "stderr",
     "output_type": "stream",
     "text": [
      "/glade/work/ggantos/miniconda2/envs/holo_torch/lib/python3.6/site-packages/pint/numpy_func.py:303: RuntimeWarning: divide by zero encountered in log\n",
      "  result_magnitude = func(*stripped_args, **stripped_kwargs)\n",
      "/glade/work/ggantos/miniconda2/envs/holo_torch/lib/python3.6/site-packages/pint/quantity.py:1237: RuntimeWarning: invalid value encountered in true_divide\n",
      "  magnitude = magnitude_op(new_self._magnitude, other._magnitude)\n"
     ]
    },
    {
     "name": "stdout",
     "output_type": "stream",
     "text": [
      "(669, 285)\n"
     ]
    },
    {
     "data": {
      "application/vnd.jupyter.widget-view+json": {
       "model_id": "d6149c405a2b47b89f78bdd140cdcb7b",
       "version_major": 2,
       "version_minor": 0
      },
      "text/plain": [
       "  0%|          | 0/694 [00:00<?, ?it/s]"
      ]
     },
     "metadata": {},
     "output_type": "display_data"
    },
    {
     "name": "stderr",
     "output_type": "stream",
     "text": [
      "/glade/work/ggantos/miniconda2/envs/holo_torch/lib/python3.6/site-packages/pint/numpy_func.py:303: RuntimeWarning: divide by zero encountered in log\n",
      "  result_magnitude = func(*stripped_args, **stripped_kwargs)\n",
      "/glade/work/ggantos/miniconda2/envs/holo_torch/lib/python3.6/site-packages/pint/quantity.py:1237: RuntimeWarning: invalid value encountered in true_divide\n",
      "  magnitude = magnitude_op(new_self._magnitude, other._magnitude)\n"
     ]
    },
    {
     "name": "stdout",
     "output_type": "stream",
     "text": [
      "(694, 285)\n"
     ]
    },
    {
     "data": {
      "application/vnd.jupyter.widget-view+json": {
       "model_id": "76e7bb96511b41e88c7b079c27c1e4c0",
       "version_major": 2,
       "version_minor": 0
      },
      "text/plain": [
       "  0%|          | 0/775 [00:00<?, ?it/s]"
      ]
     },
     "metadata": {},
     "output_type": "display_data"
    },
    {
     "name": "stderr",
     "output_type": "stream",
     "text": [
      "/glade/work/ggantos/miniconda2/envs/holo_torch/lib/python3.6/site-packages/pint/numpy_func.py:303: RuntimeWarning: divide by zero encountered in log\n",
      "  result_magnitude = func(*stripped_args, **stripped_kwargs)\n",
      "/glade/work/ggantos/miniconda2/envs/holo_torch/lib/python3.6/site-packages/pint/quantity.py:1237: RuntimeWarning: invalid value encountered in true_divide\n",
      "  magnitude = magnitude_op(new_self._magnitude, other._magnitude)\n"
     ]
    },
    {
     "name": "stdout",
     "output_type": "stream",
     "text": [
      "(775, 285)\n"
     ]
    },
    {
     "data": {
      "application/vnd.jupyter.widget-view+json": {
       "model_id": "a708b630f2fc4669bff2e2a921ca99ae",
       "version_major": 2,
       "version_minor": 0
      },
      "text/plain": [
       "  0%|          | 0/820 [00:00<?, ?it/s]"
      ]
     },
     "metadata": {},
     "output_type": "display_data"
    },
    {
     "name": "stderr",
     "output_type": "stream",
     "text": [
      "/glade/work/ggantos/miniconda2/envs/holo_torch/lib/python3.6/site-packages/pint/numpy_func.py:303: RuntimeWarning: divide by zero encountered in log\n",
      "  result_magnitude = func(*stripped_args, **stripped_kwargs)\n",
      "/glade/work/ggantos/miniconda2/envs/holo_torch/lib/python3.6/site-packages/pint/quantity.py:1237: RuntimeWarning: invalid value encountered in true_divide\n",
      "  magnitude = magnitude_op(new_self._magnitude, other._magnitude)\n"
     ]
    },
    {
     "name": "stdout",
     "output_type": "stream",
     "text": [
      "(820, 285)\n"
     ]
    },
    {
     "data": {
      "application/vnd.jupyter.widget-view+json": {
       "model_id": "a9063c3c105847bf82ef2d8bb74f84b8",
       "version_major": 2,
       "version_minor": 0
      },
      "text/plain": [
       "  0%|          | 0/801 [00:00<?, ?it/s]"
      ]
     },
     "metadata": {},
     "output_type": "display_data"
    },
    {
     "name": "stdout",
     "output_type": "stream",
     "text": [
      "(801, 285)\n"
     ]
    },
    {
     "data": {
      "application/vnd.jupyter.widget-view+json": {
       "model_id": "082c282dd30047c4b4eda4a3ad8db0e1",
       "version_major": 2,
       "version_minor": 0
      },
      "text/plain": [
       "  0%|          | 0/741 [00:00<?, ?it/s]"
      ]
     },
     "metadata": {},
     "output_type": "display_data"
    },
    {
     "name": "stdout",
     "output_type": "stream",
     "text": [
      "(741, 285)\n"
     ]
    },
    {
     "data": {
      "application/vnd.jupyter.widget-view+json": {
       "model_id": "86e63d23f66a457bb77dd8ef9e42e0b5",
       "version_major": 2,
       "version_minor": 0
      },
      "text/plain": [
       "  0%|          | 0/817 [00:00<?, ?it/s]"
      ]
     },
     "metadata": {},
     "output_type": "display_data"
    },
    {
     "name": "stderr",
     "output_type": "stream",
     "text": [
      "/glade/work/ggantos/miniconda2/envs/holo_torch/lib/python3.6/site-packages/pint/numpy_func.py:303: RuntimeWarning: divide by zero encountered in log\n",
      "  result_magnitude = func(*stripped_args, **stripped_kwargs)\n",
      "/glade/work/ggantos/miniconda2/envs/holo_torch/lib/python3.6/site-packages/pint/quantity.py:1237: RuntimeWarning: invalid value encountered in true_divide\n",
      "  magnitude = magnitude_op(new_self._magnitude, other._magnitude)\n"
     ]
    },
    {
     "name": "stdout",
     "output_type": "stream",
     "text": [
      "(817, 285)\n"
     ]
    },
    {
     "data": {
      "application/vnd.jupyter.widget-view+json": {
       "model_id": "fbaa9e23015e4479b5a53c62bdf4e0e8",
       "version_major": 2,
       "version_minor": 0
      },
      "text/plain": [
       "  0%|          | 0/714 [00:00<?, ?it/s]"
      ]
     },
     "metadata": {},
     "output_type": "display_data"
    },
    {
     "name": "stdout",
     "output_type": "stream",
     "text": [
      "(714, 285)\n"
     ]
    },
    {
     "data": {
      "application/vnd.jupyter.widget-view+json": {
       "model_id": "4ec57e4ebeb74a0cbe7bc74945fd5ee2",
       "version_major": 2,
       "version_minor": 0
      },
      "text/plain": [
       "  0%|          | 0/795 [00:00<?, ?it/s]"
      ]
     },
     "metadata": {},
     "output_type": "display_data"
    },
    {
     "name": "stdout",
     "output_type": "stream",
     "text": [
      "(795, 285)\n"
     ]
    },
    {
     "data": {
      "application/vnd.jupyter.widget-view+json": {
       "model_id": "f6e37643c3084723ba1e8506b849b814",
       "version_major": 2,
       "version_minor": 0
      },
      "text/plain": [
       "  0%|          | 0/887 [00:00<?, ?it/s]"
      ]
     },
     "metadata": {},
     "output_type": "display_data"
    },
    {
     "name": "stdout",
     "output_type": "stream",
     "text": [
      "(887, 285)\n"
     ]
    },
    {
     "data": {
      "application/vnd.jupyter.widget-view+json": {
       "model_id": "f9eca58089b341e48e2518e25bfc792b",
       "version_major": 2,
       "version_minor": 0
      },
      "text/plain": [
       "  0%|          | 0/870 [00:00<?, ?it/s]"
      ]
     },
     "metadata": {},
     "output_type": "display_data"
    },
    {
     "name": "stdout",
     "output_type": "stream",
     "text": [
      "(870, 285)\n"
     ]
    },
    {
     "data": {
      "application/vnd.jupyter.widget-view+json": {
       "model_id": "aba6664d076544a5abf5b0548746f8bb",
       "version_major": 2,
       "version_minor": 0
      },
      "text/plain": [
       "  0%|          | 0/840 [00:00<?, ?it/s]"
      ]
     },
     "metadata": {},
     "output_type": "display_data"
    },
    {
     "name": "stderr",
     "output_type": "stream",
     "text": [
      "/glade/work/ggantos/miniconda2/envs/holo_torch/lib/python3.6/site-packages/pint/numpy_func.py:303: RuntimeWarning: divide by zero encountered in log\n",
      "  result_magnitude = func(*stripped_args, **stripped_kwargs)\n",
      "/glade/work/ggantos/miniconda2/envs/holo_torch/lib/python3.6/site-packages/pint/quantity.py:1237: RuntimeWarning: invalid value encountered in true_divide\n",
      "  magnitude = magnitude_op(new_self._magnitude, other._magnitude)\n"
     ]
    },
    {
     "name": "stdout",
     "output_type": "stream",
     "text": [
      "(840, 285)\n"
     ]
    },
    {
     "data": {
      "application/vnd.jupyter.widget-view+json": {
       "model_id": "6573f2ca33c14cfe8f43d937326e0cf8",
       "version_major": 2,
       "version_minor": 0
      },
      "text/plain": [
       "  0%|          | 0/827 [00:00<?, ?it/s]"
      ]
     },
     "metadata": {},
     "output_type": "display_data"
    },
    {
     "name": "stderr",
     "output_type": "stream",
     "text": [
      "/glade/work/ggantos/miniconda2/envs/holo_torch/lib/python3.6/site-packages/pint/numpy_func.py:303: RuntimeWarning: divide by zero encountered in log\n",
      "  result_magnitude = func(*stripped_args, **stripped_kwargs)\n",
      "/glade/work/ggantos/miniconda2/envs/holo_torch/lib/python3.6/site-packages/pint/quantity.py:1237: RuntimeWarning: invalid value encountered in true_divide\n",
      "  magnitude = magnitude_op(new_self._magnitude, other._magnitude)\n"
     ]
    },
    {
     "name": "stdout",
     "output_type": "stream",
     "text": [
      "(827, 285)\n"
     ]
    },
    {
     "data": {
      "application/vnd.jupyter.widget-view+json": {
       "model_id": "986a9a04d3174737ad87fe64ffe2aaac",
       "version_major": 2,
       "version_minor": 0
      },
      "text/plain": [
       "  0%|          | 0/826 [00:00<?, ?it/s]"
      ]
     },
     "metadata": {},
     "output_type": "display_data"
    },
    {
     "name": "stderr",
     "output_type": "stream",
     "text": [
      "/glade/work/ggantos/miniconda2/envs/holo_torch/lib/python3.6/site-packages/pint/numpy_func.py:303: RuntimeWarning: divide by zero encountered in log\n",
      "  result_magnitude = func(*stripped_args, **stripped_kwargs)\n",
      "/glade/work/ggantos/miniconda2/envs/holo_torch/lib/python3.6/site-packages/pint/quantity.py:1237: RuntimeWarning: invalid value encountered in true_divide\n",
      "  magnitude = magnitude_op(new_self._magnitude, other._magnitude)\n"
     ]
    },
    {
     "name": "stdout",
     "output_type": "stream",
     "text": [
      "(826, 285)\n"
     ]
    }
   ],
   "source": [
    "columns = list(df_ASOS.columns) + [v+'_'+str(i) for v in varsPressure for i in list(range(100, 1025, 25))] + varsSurface\n",
    "date_group = df_ASOS.groupby('obdate')\n",
    "for name, date_chunk in date_group:\n",
    "    with open(os.path.join(path_save, \"varsUnits_dict.pkl\"), 'rb') as f:\n",
    "        varsUnits_dict = pickle.load(f)\n",
    "    df_save = pd.DataFrame(index=np.arange(date_chunk.shape[0]), columns=columns)\n",
    "    date = datetime.strptime(name, '%m/%d/%Y').strftime('%Y%m%d')    \n",
    "    datetime_group = date_chunk.groupby('datetime')\n",
    "    for name, datetime_chunk in datetime_group:\n",
    "        hour = name.strftime('%H')\n",
    "        # try to open a dataset if one is available and not corrupted\n",
    "        try:\n",
    "            ds = xr.open_dataset(os.path.join(path_rap, date, f\"rap_130_{date}_{hour}00_000.nc\"))\n",
    "        except FileNotFoundError:\n",
    "            try:\n",
    "                ds= xr.open_dataset(os.path.join(path_rap, date, f\"ruc2anl_130_{date}_{hour}00_000.nc\"))\n",
    "            except Exception as e:\n",
    "                print(date, hour, e)\n",
    "                continue\n",
    "\n",
    "        # calculate projected indices\n",
    "        datetime_chunk['idx'] = find_coord_indices(ds['longitude'].values, ds['latitude'].values,\n",
    "                                                   list(datetime_chunk['lon']), list(datetime_chunk['lat']))\n",
    "\n",
    "        # create new merged dataframe\n",
    "        for index, row in datetime_chunk.iterrows():\n",
    "            try:\n",
    "                ds_temp = df_flatten(ds, row['idx'][1], row['idx'][0], varsPressure, varsSurface) \n",
    "            except Exception as e:\n",
    "                print(\"\\t- \", date, hour, e)\n",
    "                continue\n",
    "            df_temp = pd.DataFrame(row).T.join(ds_temp.rename(index={0:row.name}))\n",
    "            df_save = df_save.append(df_temp, ignore_index = True)\n",
    "\n",
    "    # add dewpoint, convert K to C, rename columns to add units, sort by datetime, and save\n",
    "    df_save = calc_dewpoint(df_save)\n",
    "    df_save = convert_KtoC(df_save, varsUnits_dict)\n",
    "    df_save = add_units(df_save, varsUnits_dict)\n",
    "    df_save = df_save.sort_values(by=\"datetime\")\n",
    "    print(f\"For {date}, was able to load {df_save.shape[0]} rows out of {date_chunk.shape[0]}\")\n",
    "    if 0 in df_save.shape:\n",
    "        print(f\"Nothing to save for {date}\")\n",
    "    else:\n",
    "        df_save.to_parquet(os.path.join(path_save, f\"ASOS_RH0/ASOS_rap_{date}.parquet\"))\n",
    "    "
   ]
  },
  {
   "cell_type": "code",
   "execution_count": null,
   "id": "050dca34-b87e-45a5-b588-397029605fc2",
   "metadata": {
    "scrolled": true,
    "tags": []
   },
   "outputs": [],
   "source": [
    "columns = list(df_mPING.columns) + [v+'_'+str(i) for v in varsPressure for i in list(range(100, 1025, 25))] + varsSurface\n",
    "date_group = df_mPING.groupby('obdate')\n",
    "for name, date_chunk in date_group:\n",
    "    with open(os.path.join(path_save, \"varsUnits_dict.pkl\"), 'rb') as f:\n",
    "        varsUnits_dict = pickle.load(f)\n",
    "    df_save = pd.DataFrame(columns=columns)\n",
    "    date = datetime.strptime(name, '%m/%d/%Y').strftime('%Y%m%d')    \n",
    "    datetime_group = date_chunk.groupby('datetime')\n",
    "    for name, datetime_chunk in datetime_group:\n",
    "        hour = name.strftime('%H')\n",
    "        # try to open a dataset if one is available and not corrupted\n",
    "        try:\n",
    "            ds = xr.open_dataset(os.path.join(path_rap, date, f\"rap_130_{date}_{hour}00_000.nc\"))\n",
    "        except FileNotFoundError:\n",
    "            try:\n",
    "                ds= xr.open_dataset(os.path.join(path_rap, date, f\"ruc2anl_130_{date}_{hour}00_000.nc\"))\n",
    "            except Exception as e:\n",
    "                print(date, hour, e)\n",
    "                continue\n",
    "\n",
    "        # calculate projected indices\n",
    "        datetime_chunk['idx'] = find_coord_indices(ds['longitude'].values, ds['latitude'].values,\n",
    "                                                   list(datetime_chunk['lon']), list(datetime_chunk['lat']))\n",
    "\n",
    "        # create new merged dataframe\n",
    "        for index, row in datetime_chunk.iterrows():\n",
    "            try:\n",
    "                ds_temp = df_flatten(ds, row['idx'][1], row['idx'][0], varsPressure, varsSurface) \n",
    "            except Exception as e:\n",
    "                print(\"\\t- flattening not possible: \", date, hour, e)\n",
    "                continue\n",
    "            df_temp = pd.DataFrame(row).T.join(ds_temp.rename(index={0:row.name}))\n",
    "            df_save = df_save.append(df_temp, ignore_index = True)\n",
    "\n",
    "    # add dewpoint, convert K to C, rename columns to add units, sort by datetime, and save\n",
    "    df_save = calc_dewpoint(df_save)\n",
    "    df_save = convert_KtoC(df_save, varsUnits_dict)\n",
    "    df_save = add_units(df_save, varsUnits_dict)\n",
    "    df_save = df_save.sort_values(by=\"datetime\")\n",
    "    print(f\"For {date}, was able to load {df_save.shape[0]} rows out of {date_chunk.shape[0]}\")\n",
    "    if 0 in df_save.shape:\n",
    "        print(f\"Nothing to save for {date}\")\n",
    "    else:\n",
    "        df_save.to_parquet(os.path.join(path_save, f\"mPING_RH0/mPING_rap_{date}.parquet\"))\n"
   ]
  },
  {
   "cell_type": "code",
   "execution_count": 17,
   "id": "e58bc30b-1ba9-4213-b15f-c5204af4cc1d",
   "metadata": {},
   "outputs": [
    {
     "name": "stdout",
     "output_type": "stream",
     "text": [
      "20180924 (2219, 286)\n"
     ]
    },
    {
     "data": {
      "text/html": [
       "<div>\n",
       "<style scoped>\n",
       "    .dataframe tbody tr th:only-of-type {\n",
       "        vertical-align: middle;\n",
       "    }\n",
       "\n",
       "    .dataframe tbody tr th {\n",
       "        vertical-align: top;\n",
       "    }\n",
       "\n",
       "    .dataframe thead th {\n",
       "        text-align: right;\n",
       "    }\n",
       "</style>\n",
       "<table border=\"1\" class=\"dataframe\">\n",
       "  <thead>\n",
       "    <tr style=\"text-align: right;\">\n",
       "      <th></th>\n",
       "      <th>obdate</th>\n",
       "      <th>obtime</th>\n",
       "      <th>lat</th>\n",
       "      <th>lon</th>\n",
       "      <th>precip</th>\n",
       "      <th>datetime</th>\n",
       "      <th>precip_count_byhr</th>\n",
       "      <th>HGT_100_m</th>\n",
       "      <th>HGT_125_m</th>\n",
       "      <th>HGT_150_m</th>\n",
       "      <th>...</th>\n",
       "      <th>T_DEWPOINT_775_C</th>\n",
       "      <th>T_DEWPOINT_800_C</th>\n",
       "      <th>T_DEWPOINT_825_C</th>\n",
       "      <th>T_DEWPOINT_850_C</th>\n",
       "      <th>T_DEWPOINT_875_C</th>\n",
       "      <th>T_DEWPOINT_900_C</th>\n",
       "      <th>T_DEWPOINT_925_C</th>\n",
       "      <th>T_DEWPOINT_950_C</th>\n",
       "      <th>T_DEWPOINT_975_C</th>\n",
       "      <th>T_DEWPOINT_1000_C</th>\n",
       "    </tr>\n",
       "  </thead>\n",
       "  <tbody>\n",
       "    <tr>\n",
       "      <th>2219</th>\n",
       "      <td>09/24/2018</td>\n",
       "      <td>00:00:31</td>\n",
       "      <td>45.698</td>\n",
       "      <td>-110.441</td>\n",
       "      <td>ra</td>\n",
       "      <td>2018-09-24 00:00:00</td>\n",
       "      <td>4</td>\n",
       "      <td>16356.068359</td>\n",
       "      <td>14951.678711</td>\n",
       "      <td>13791.625000</td>\n",
       "      <td>...</td>\n",
       "      <td>1.429656</td>\n",
       "      <td>1.388061</td>\n",
       "      <td>2.353550</td>\n",
       "      <td>3.527393</td>\n",
       "      <td>5.006421</td>\n",
       "      <td>6.395425</td>\n",
       "      <td>7.856617</td>\n",
       "      <td>9.218117</td>\n",
       "      <td>10.554970</td>\n",
       "      <td>11.915785</td>\n",
       "    </tr>\n",
       "    <tr>\n",
       "      <th>2252</th>\n",
       "      <td>09/24/2018</td>\n",
       "      <td>00:00:31</td>\n",
       "      <td>32.321</td>\n",
       "      <td>-90.078</td>\n",
       "      <td>ra</td>\n",
       "      <td>2018-09-24 00:00:00</td>\n",
       "      <td>5</td>\n",
       "      <td>16621.287109</td>\n",
       "      <td>15303.709961</td>\n",
       "      <td>14212.812500</td>\n",
       "      <td>...</td>\n",
       "      <td>10.273777</td>\n",
       "      <td>12.408267</td>\n",
       "      <td>14.165571</td>\n",
       "      <td>15.507485</td>\n",
       "      <td>17.265322</td>\n",
       "      <td>18.404615</td>\n",
       "      <td>18.809875</td>\n",
       "      <td>19.394560</td>\n",
       "      <td>20.800310</td>\n",
       "      <td>23.262024</td>\n",
       "    </tr>\n",
       "    <tr>\n",
       "      <th>2253</th>\n",
       "      <td>09/24/2018</td>\n",
       "      <td>00:10:31</td>\n",
       "      <td>35.831</td>\n",
       "      <td>-90.646</td>\n",
       "      <td>ra</td>\n",
       "      <td>2018-09-24 00:00:00</td>\n",
       "      <td>3</td>\n",
       "      <td>16590.849609</td>\n",
       "      <td>15267.241211</td>\n",
       "      <td>14172.031250</td>\n",
       "      <td>...</td>\n",
       "      <td>10.436361</td>\n",
       "      <td>11.426638</td>\n",
       "      <td>12.126513</td>\n",
       "      <td>12.936627</td>\n",
       "      <td>14.256284</td>\n",
       "      <td>15.590380</td>\n",
       "      <td>16.634279</td>\n",
       "      <td>17.180340</td>\n",
       "      <td>17.426332</td>\n",
       "      <td>18.410957</td>\n",
       "    </tr>\n",
       "    <tr>\n",
       "      <th>2254</th>\n",
       "      <td>09/24/2018</td>\n",
       "      <td>00:25:31</td>\n",
       "      <td>38.041</td>\n",
       "      <td>-84.606</td>\n",
       "      <td>ra</td>\n",
       "      <td>2018-09-24 00:00:00</td>\n",
       "      <td>3</td>\n",
       "      <td>16566.193359</td>\n",
       "      <td>15229.303711</td>\n",
       "      <td>14121.000000</td>\n",
       "      <td>...</td>\n",
       "      <td>10.698597</td>\n",
       "      <td>11.680826</td>\n",
       "      <td>12.268491</td>\n",
       "      <td>12.970375</td>\n",
       "      <td>14.120492</td>\n",
       "      <td>15.674821</td>\n",
       "      <td>16.390438</td>\n",
       "      <td>16.680851</td>\n",
       "      <td>16.864399</td>\n",
       "      <td>18.119402</td>\n",
       "    </tr>\n",
       "    <tr>\n",
       "      <th>2255</th>\n",
       "      <td>09/24/2018</td>\n",
       "      <td>00:00:31</td>\n",
       "      <td>34.727</td>\n",
       "      <td>-92.239</td>\n",
       "      <td>ra</td>\n",
       "      <td>2018-09-24 00:00:00</td>\n",
       "      <td>8</td>\n",
       "      <td>16599.537109</td>\n",
       "      <td>15282.209961</td>\n",
       "      <td>14189.093750</td>\n",
       "      <td>...</td>\n",
       "      <td>10.789054</td>\n",
       "      <td>11.467782</td>\n",
       "      <td>12.163944</td>\n",
       "      <td>14.154389</td>\n",
       "      <td>16.949282</td>\n",
       "      <td>18.470636</td>\n",
       "      <td>18.970104</td>\n",
       "      <td>17.617397</td>\n",
       "      <td>17.239021</td>\n",
       "      <td>18.103844</td>\n",
       "    </tr>\n",
       "    <tr>\n",
       "      <th>...</th>\n",
       "      <td>...</td>\n",
       "      <td>...</td>\n",
       "      <td>...</td>\n",
       "      <td>...</td>\n",
       "      <td>...</td>\n",
       "      <td>...</td>\n",
       "      <td>...</td>\n",
       "      <td>...</td>\n",
       "      <td>...</td>\n",
       "      <td>...</td>\n",
       "      <td>...</td>\n",
       "      <td>...</td>\n",
       "      <td>...</td>\n",
       "      <td>...</td>\n",
       "      <td>...</td>\n",
       "      <td>...</td>\n",
       "      <td>...</td>\n",
       "      <td>...</td>\n",
       "      <td>...</td>\n",
       "      <td>...</td>\n",
       "      <td>...</td>\n",
       "    </tr>\n",
       "    <tr>\n",
       "      <th>4343</th>\n",
       "      <td>09/24/2018</td>\n",
       "      <td>23:00:31</td>\n",
       "      <td>41.914</td>\n",
       "      <td>-88.246</td>\n",
       "      <td>ra</td>\n",
       "      <td>2018-09-24 23:00:00</td>\n",
       "      <td>8</td>\n",
       "      <td>16515.677734</td>\n",
       "      <td>15147.386719</td>\n",
       "      <td>14021.707031</td>\n",
       "      <td>...</td>\n",
       "      <td>8.452464</td>\n",
       "      <td>10.072167</td>\n",
       "      <td>11.745052</td>\n",
       "      <td>12.300518</td>\n",
       "      <td>13.053684</td>\n",
       "      <td>15.224464</td>\n",
       "      <td>16.004210</td>\n",
       "      <td>16.912743</td>\n",
       "      <td>17.163216</td>\n",
       "      <td>18.431194</td>\n",
       "    </tr>\n",
       "    <tr>\n",
       "      <th>4344</th>\n",
       "      <td>09/24/2018</td>\n",
       "      <td>23:10:31</td>\n",
       "      <td>30.400</td>\n",
       "      <td>-86.472</td>\n",
       "      <td>ra</td>\n",
       "      <td>2018-09-24 23:00:00</td>\n",
       "      <td>3</td>\n",
       "      <td>16642.958984</td>\n",
       "      <td>15330.167969</td>\n",
       "      <td>14238.613281</td>\n",
       "      <td>...</td>\n",
       "      <td>11.171460</td>\n",
       "      <td>12.629581</td>\n",
       "      <td>14.265008</td>\n",
       "      <td>15.831111</td>\n",
       "      <td>17.664354</td>\n",
       "      <td>19.348049</td>\n",
       "      <td>20.623487</td>\n",
       "      <td>21.941286</td>\n",
       "      <td>22.984804</td>\n",
       "      <td>23.522947</td>\n",
       "    </tr>\n",
       "    <tr>\n",
       "      <th>4345</th>\n",
       "      <td>09/24/2018</td>\n",
       "      <td>23:00:31</td>\n",
       "      <td>42.231</td>\n",
       "      <td>-83.331</td>\n",
       "      <td>ra</td>\n",
       "      <td>2018-09-24 23:00:00</td>\n",
       "      <td>10</td>\n",
       "      <td>16509.708984</td>\n",
       "      <td>15148.917969</td>\n",
       "      <td>14031.832031</td>\n",
       "      <td>...</td>\n",
       "      <td>5.723518</td>\n",
       "      <td>7.526731</td>\n",
       "      <td>9.331834</td>\n",
       "      <td>11.329353</td>\n",
       "      <td>14.242844</td>\n",
       "      <td>15.368957</td>\n",
       "      <td>15.544155</td>\n",
       "      <td>16.383518</td>\n",
       "      <td>17.640785</td>\n",
       "      <td>18.731733</td>\n",
       "    </tr>\n",
       "    <tr>\n",
       "      <th>4339</th>\n",
       "      <td>09/24/2018</td>\n",
       "      <td>23:00:31</td>\n",
       "      <td>42.409</td>\n",
       "      <td>-83.010</td>\n",
       "      <td>ra</td>\n",
       "      <td>2018-09-24 23:00:00</td>\n",
       "      <td>10</td>\n",
       "      <td>16505.021484</td>\n",
       "      <td>15145.074219</td>\n",
       "      <td>14030.207031</td>\n",
       "      <td>...</td>\n",
       "      <td>4.872472</td>\n",
       "      <td>7.367021</td>\n",
       "      <td>9.318354</td>\n",
       "      <td>11.079956</td>\n",
       "      <td>13.911264</td>\n",
       "      <td>15.306516</td>\n",
       "      <td>15.313981</td>\n",
       "      <td>16.071302</td>\n",
       "      <td>17.294260</td>\n",
       "      <td>18.292698</td>\n",
       "    </tr>\n",
       "    <tr>\n",
       "      <th>4437</th>\n",
       "      <td>09/24/2018</td>\n",
       "      <td>23:00:31</td>\n",
       "      <td>39.944</td>\n",
       "      <td>-81.892</td>\n",
       "      <td>ra</td>\n",
       "      <td>2018-09-24 23:00:00</td>\n",
       "      <td>2</td>\n",
       "      <td>16566.115234</td>\n",
       "      <td>15218.542969</td>\n",
       "      <td>14099.550781</td>\n",
       "      <td>...</td>\n",
       "      <td>8.292675</td>\n",
       "      <td>9.809068</td>\n",
       "      <td>11.205599</td>\n",
       "      <td>12.638711</td>\n",
       "      <td>14.094460</td>\n",
       "      <td>15.244068</td>\n",
       "      <td>16.106136</td>\n",
       "      <td>17.487530</td>\n",
       "      <td>18.517696</td>\n",
       "      <td>19.520227</td>\n",
       "    </tr>\n",
       "  </tbody>\n",
       "</table>\n",
       "<p>2219 rows × 286 columns</p>\n",
       "</div>"
      ],
      "text/plain": [
       "          obdate    obtime     lat      lon precip            datetime  \\\n",
       "2219  09/24/2018  00:00:31  45.698 -110.441     ra 2018-09-24 00:00:00   \n",
       "2252  09/24/2018  00:00:31  32.321  -90.078     ra 2018-09-24 00:00:00   \n",
       "2253  09/24/2018  00:10:31  35.831  -90.646     ra 2018-09-24 00:00:00   \n",
       "2254  09/24/2018  00:25:31  38.041  -84.606     ra 2018-09-24 00:00:00   \n",
       "2255  09/24/2018  00:00:31  34.727  -92.239     ra 2018-09-24 00:00:00   \n",
       "...          ...       ...     ...      ...    ...                 ...   \n",
       "4343  09/24/2018  23:00:31  41.914  -88.246     ra 2018-09-24 23:00:00   \n",
       "4344  09/24/2018  23:10:31  30.400  -86.472     ra 2018-09-24 23:00:00   \n",
       "4345  09/24/2018  23:00:31  42.231  -83.331     ra 2018-09-24 23:00:00   \n",
       "4339  09/24/2018  23:00:31  42.409  -83.010     ra 2018-09-24 23:00:00   \n",
       "4437  09/24/2018  23:00:31  39.944  -81.892     ra 2018-09-24 23:00:00   \n",
       "\n",
       "      precip_count_byhr     HGT_100_m     HGT_125_m     HGT_150_m  ...  \\\n",
       "2219                  4  16356.068359  14951.678711  13791.625000  ...   \n",
       "2252                  5  16621.287109  15303.709961  14212.812500  ...   \n",
       "2253                  3  16590.849609  15267.241211  14172.031250  ...   \n",
       "2254                  3  16566.193359  15229.303711  14121.000000  ...   \n",
       "2255                  8  16599.537109  15282.209961  14189.093750  ...   \n",
       "...                 ...           ...           ...           ...  ...   \n",
       "4343                  8  16515.677734  15147.386719  14021.707031  ...   \n",
       "4344                  3  16642.958984  15330.167969  14238.613281  ...   \n",
       "4345                 10  16509.708984  15148.917969  14031.832031  ...   \n",
       "4339                 10  16505.021484  15145.074219  14030.207031  ...   \n",
       "4437                  2  16566.115234  15218.542969  14099.550781  ...   \n",
       "\n",
       "      T_DEWPOINT_775_C  T_DEWPOINT_800_C  T_DEWPOINT_825_C  T_DEWPOINT_850_C  \\\n",
       "2219          1.429656          1.388061          2.353550          3.527393   \n",
       "2252         10.273777         12.408267         14.165571         15.507485   \n",
       "2253         10.436361         11.426638         12.126513         12.936627   \n",
       "2254         10.698597         11.680826         12.268491         12.970375   \n",
       "2255         10.789054         11.467782         12.163944         14.154389   \n",
       "...                ...               ...               ...               ...   \n",
       "4343          8.452464         10.072167         11.745052         12.300518   \n",
       "4344         11.171460         12.629581         14.265008         15.831111   \n",
       "4345          5.723518          7.526731          9.331834         11.329353   \n",
       "4339          4.872472          7.367021          9.318354         11.079956   \n",
       "4437          8.292675          9.809068         11.205599         12.638711   \n",
       "\n",
       "      T_DEWPOINT_875_C  T_DEWPOINT_900_C  T_DEWPOINT_925_C  T_DEWPOINT_950_C  \\\n",
       "2219          5.006421          6.395425          7.856617          9.218117   \n",
       "2252         17.265322         18.404615         18.809875         19.394560   \n",
       "2253         14.256284         15.590380         16.634279         17.180340   \n",
       "2254         14.120492         15.674821         16.390438         16.680851   \n",
       "2255         16.949282         18.470636         18.970104         17.617397   \n",
       "...                ...               ...               ...               ...   \n",
       "4343         13.053684         15.224464         16.004210         16.912743   \n",
       "4344         17.664354         19.348049         20.623487         21.941286   \n",
       "4345         14.242844         15.368957         15.544155         16.383518   \n",
       "4339         13.911264         15.306516         15.313981         16.071302   \n",
       "4437         14.094460         15.244068         16.106136         17.487530   \n",
       "\n",
       "      T_DEWPOINT_975_C  T_DEWPOINT_1000_C  \n",
       "2219         10.554970          11.915785  \n",
       "2252         20.800310          23.262024  \n",
       "2253         17.426332          18.410957  \n",
       "2254         16.864399          18.119402  \n",
       "2255         17.239021          18.103844  \n",
       "...                ...                ...  \n",
       "4343         17.163216          18.431194  \n",
       "4344         22.984804          23.522947  \n",
       "4345         17.640785          18.731733  \n",
       "4339         17.294260          18.292698  \n",
       "4437         18.517696          19.520227  \n",
       "\n",
       "[2219 rows x 286 columns]"
      ]
     },
     "execution_count": 17,
     "metadata": {},
     "output_type": "execute_result"
    }
   ],
   "source": [
    "date = '20180924'\n",
    "df_temp = pd.read_parquet(os.path.join(path_save, f\"ASOS/ASOS_rap_{date}.parquet\"))\n",
    "print(date, df_temp.shape)\n",
    "df_temp\n"
   ]
  },
  {
   "cell_type": "code",
   "execution_count": 9,
   "id": "f352d59f-6bc3-4468-9a03-9de51472502e",
   "metadata": {},
   "outputs": [],
   "source": [
    "files_ASOS = [f for f in os.listdir(os.path.join(path_save, \"ASOS_raw\")) if f.endswith('.parquet')]\n",
    "files_mPING = [f for f in os.listdir(os.path.join(path_save, \"mPING_RH0\")) if f.endswith('.parquet')]\n"
   ]
  },
  {
   "cell_type": "code",
   "execution_count": 12,
   "id": "1c2cc849-145b-40f2-8842-c8e337468a4f",
   "metadata": {},
   "outputs": [
    {
     "name": "stdout",
     "output_type": "stream",
     "text": [
      "0 ASOS_rap_20140309.parquet\n",
      "                datetime  T_DEWPOINT_200_C  T_DEWPOINT_525_C  \\\n",
      "1772 2014-03-09 01:00:00        -65.840767        -28.563976   \n",
      "1717 2014-03-09 01:00:00               NaN        -33.032887   \n",
      "1945 2014-03-09 03:00:00        -67.305504        -30.288883   \n",
      "2134 2014-03-09 05:00:00        -66.440269        -29.385080   \n",
      "2225 2014-03-09 06:00:00        -66.859535        -32.396675   \n",
      "2375 2014-03-09 08:00:00        -68.008308        -13.859902   \n",
      "2365 2014-03-09 08:00:00        -63.337532        -15.017653   \n",
      "2678 2014-03-09 12:00:00               NaN        -25.644409   \n",
      "2741 2014-03-09 13:00:00               NaN        -21.274437   \n",
      "2750 2014-03-09 13:00:00               NaN        -21.669996   \n",
      "2747 2014-03-09 13:00:00               NaN        -22.437828   \n",
      "2754 2014-03-09 13:00:00        -69.130432        -44.840088   \n",
      "2724 2014-03-09 13:00:00               NaN        -22.921701   \n",
      "2886 2014-03-09 16:00:00        -72.696411               NaN   \n",
      "3020 2014-03-09 19:00:00        -73.475296               NaN   \n",
      "3048 2014-03-09 20:00:00        -74.660530        -62.800571   \n",
      "\n",
      "      T_DEWPOINT_550_C  T_DEWPOINT_625_C  T_DEWPOINT_650_C  T_DEWPOINT_675_C  \\\n",
      "1772        -32.308033        -58.218475               NaN        -56.101734   \n",
      "1717        -25.702454        -12.676418        -10.155796         -7.642735   \n",
      "1945        -32.061180        -45.062901        -51.701679               NaN   \n",
      "2134        -32.321835               NaN               NaN        -56.554329   \n",
      "2225        -36.000923               NaN               NaN        -57.437984   \n",
      "2375        -10.993670         -6.796463         -7.806751         -9.768205   \n",
      "2365        -11.275681         -4.764284         -3.262070         -1.770332   \n",
      "2678        -20.560455        -12.277073        -10.345086         -8.424660   \n",
      "2741        -18.181210        -11.046737         -9.382119         -7.616894   \n",
      "2750        -18.181210        -11.306303         -9.898333         -8.381005   \n",
      "2747        -18.562351        -11.801819        -10.790141         -9.136972   \n",
      "2754        -45.150272        -54.739365               NaN        -51.729053   \n",
      "2724        -18.483318        -11.581383        -10.022494         -8.115788   \n",
      "2886        -45.835869        -17.168468        -13.626786        -10.936798   \n",
      "3020        -50.329742        -17.980749        -14.868946        -12.225653   \n",
      "3048               NaN        -19.859917        -16.158480        -12.819554   \n",
      "\n",
      "      T_DEWPOINT_775_C  T_DEWPOINT_800_C  \n",
      "1772        -16.581236        -13.951589  \n",
      "1717         -0.225656          0.100658  \n",
      "1945        -20.302782        -15.248395  \n",
      "2134        -17.718090        -14.230226  \n",
      "2225        -21.000626        -17.170580  \n",
      "2375        -26.802361               NaN  \n",
      "2365               NaN               NaN  \n",
      "2678         -4.248538         -2.166320  \n",
      "2741         -2.281072         -1.086060  \n",
      "2750         -2.405932         -1.098388  \n",
      "2747         -2.530791         -0.711060  \n",
      "2754        -12.357173        -11.799265  \n",
      "2724         -2.696495         -1.724211  \n",
      "2886         -3.610879         -1.791490  \n",
      "3020         -4.498755         -3.338332  \n",
      "3048         -4.860318         -3.291184  \n"
     ]
    }
   ],
   "source": [
    "for i,f in enumerate(files_ASOS):\n",
    "    df_temp = pd.read_parquet(os.path.join(path_save, \"ASOS_RH0\", f))\n",
    "    if df_temp.isna().sum().sum() > 0:\n",
    "        print(i, f)\n",
    "        print(df_temp[df_temp.isnull().any(axis=1)][['datetime'] + list(df_temp.columns[df_temp.isna().any()])])\n",
    "        break\n"
   ]
  },
  {
   "cell_type": "code",
   "execution_count": 13,
   "id": "6c6bf484-e49a-418d-8192-3ae1efb4fe6b",
   "metadata": {},
   "outputs": [
    {
     "name": "stdout",
     "output_type": "stream",
     "text": [
      "-- 750 --\n",
      "TMP 7.3673706\n",
      "RH 19.0\n",
      "DEWPOINT -14.779534\n",
      "-- 775 --\n",
      "TMP 9.346344\n",
      "RH 0.0\n",
      "DEWPOINT nan\n",
      "-- 800 --\n",
      "TMP 10.532135\n",
      "RH 0.0\n",
      "DEWPOINT nan\n",
      "-- 825 --\n",
      "TMP 10.504852\n",
      "RH 9.0\n",
      "DEWPOINT -21.10855\n"
     ]
    }
   ],
   "source": [
    "idx = 2365\n",
    "level = '750'\n",
    "print(f'-- {level} --')\n",
    "print(\"TMP\", df_temp.at[idx, f'TMP_{level}_C'])\n",
    "print(\"RH\", df_temp.at[idx, f'RH_{level}_percent'])\n",
    "print(\"DEWPOINT\",df_temp.at[idx, f'T_DEWPOINT_{level}_C'])\n",
    "\n",
    "level = '775'\n",
    "print(f'-- {level} --')\n",
    "print(\"TMP\",df_temp.at[idx, f'TMP_{level}_C'])\n",
    "print(\"RH\", df_temp.at[idx, f'RH_{level}_percent'])\n",
    "print(\"DEWPOINT\",df_temp.at[idx, f'T_DEWPOINT_{level}_C'])\n",
    "\n",
    "level = '800'\n",
    "print(f'-- {level} --')\n",
    "print(\"TMP\",df_temp.at[idx, f'TMP_{level}_C'])\n",
    "print(\"RH\", df_temp.at[idx, f'RH_{level}_percent'])\n",
    "print(\"DEWPOINT\",df_temp.at[idx, f'T_DEWPOINT_{level}_C'])\n",
    "\n",
    "level = '825'\n",
    "print(f'-- {level} --')\n",
    "print(\"TMP\",df_temp.at[idx, f'TMP_{level}_C'])\n",
    "print(\"RH\", df_temp.at[idx, f'RH_{level}_percent'])\n",
    "print(\"DEWPOINT\",df_temp.at[idx, f'T_DEWPOINT_{level}_C'])\n"
   ]
  },
  {
   "cell_type": "code",
   "execution_count": 10,
   "id": "3e072d7f-c3d2-4d4c-a742-1b64b3256364",
   "metadata": {},
   "outputs": [
    {
     "name": "stdout",
     "output_type": "stream",
     "text": [
      "Files affected by 0% RH: 746\n",
      "Elements affected by 0% RH: 366160\n"
     ]
    }
   ],
   "source": [
    "pressure_levels = list(range(100, 1025, 25))\n",
    "dewpoint_levels = [f'T_DEWPOINT_{p}_C' for p in list(range(100, 1025, 25))]\n",
    "\n",
    "RH0_count_ASOS = 0\n",
    "RH0_file_count_ASOS = 0\n",
    "for i,f in enumerate(files_ASOS):\n",
    "    df_temp = pd.read_parquet(os.path.join(path_save, \"ASOS_raw\", f))\n",
    "    df_temp = df_temp.reset_index(drop=True)\n",
    "    if df_temp.isna().sum().sum() > 0:\n",
    "        idx, idx_col = np.where(df_temp[dewpoint_levels].isnull())\n",
    "        RH0_count_ASOS += len(idx)\n",
    "        RH0_file_count_ASOS += 1\n",
    "        for ix, ixc in zip(idx, idx_col):\n",
    "            press = pressure_levels[ixc]\n",
    "            if df_temp.at[ix, f'RH_{press}_percent'] == 0.0:\n",
    "                df_temp.at[ix, f'RH_{press}_percent'] == 1.0\n",
    "                RH = units.Quantity(1.0/100., \"dimensionless\")\n",
    "            else:\n",
    "                print(f\"RH not 0.0% at {ix, ixc} in file {f}\")\n",
    "                break\n",
    "            TMP =  units.Quantity(df_temp.at[ix, f'TMP_{press}_C'] + 273.15, \"K\")\n",
    "            df_temp.at[ix, dewpoint_levels[ixc]] = np.array(dewpoint_from_relative_humidity(TMP, RH))\n",
    "    df_temp.to_parquet(os.path.join(path_save, \"ASOS\", f))\n",
    "\n",
    "print(f\"Files affected by 0% RH: {RH0_file_count_ASOS}\")\n",
    "print(f\"Elements affected by 0% RH: {RH0_count_ASOS}\")\n"
   ]
  },
  {
   "cell_type": "code",
   "execution_count": 33,
   "id": "0cf7b699-6041-488f-975c-93f5348fc115",
   "metadata": {},
   "outputs": [
    {
     "name": "stdout",
     "output_type": "stream",
     "text": [
      "Files affected by 0% RH: 0\n",
      "Elements affected by 0% RH: 0\n"
     ]
    }
   ],
   "source": [
    "rh_levels = [f'RH_{p}_percent' for p in list(range(100, 1025, 25))]\n",
    "\n",
    "RH0_count_mPING = 0\n",
    "RH0_file_count_mPING = 0\n",
    "for i,f in enumerate(files_mPING):\n",
    "    df_temp = pd.read_parquet(os.path.join(path_save, \"mPING_RH0\", f))\n",
    "    df_temp = df_temp.reset_index(drop=True)\n",
    "    df_temp[rh_levels] = df_temp[rh_levels].replace(0.0, 1.0)\n",
    "    df_temp.to_parquet(os.path.join(path_save, \"mPING\", f))\n",
    "\n",
    "print(f\"Files affected by 0% RH: {RH0_file_count_mPING}\")\n",
    "print(f\"Elements affected by 0% RH: {RH0_count_mPING}\")\n"
   ]
  },
  {
   "cell_type": "code",
   "execution_count": 21,
   "id": "fd13f93c-38c9-421b-845d-77677bcf0f8a",
   "metadata": {},
   "outputs": [
    {
     "name": "stdout",
     "output_type": "stream",
     "text": [
      "Files affected by 0% RH: 982\n",
      "Elements affected by 0% RH: 98333\n"
     ]
    }
   ],
   "source": [
    "RH0_count_mPING = 0\n",
    "RH0_file_count_mPING = 0\n",
    "for i,f in enumerate(files_mPING):\n",
    "    df_temp = pd.read_parquet(os.path.join(path_save, \"mPING_RH0\", f))\n",
    "    df_temp = df_temp.reset_index(drop=True)\n",
    "    if df_temp.isna().sum().sum() > 0:\n",
    "        idx, idx_col = np.where(df_temp[dewpoint_levels].isnull())\n",
    "        RH0_count_mPING += len(idx)\n",
    "        RH0_file_count_mPING += 1\n",
    "        for ix, ixc in zip(idx, idx_col):\n",
    "            press = pressure_levels[ixc]\n",
    "            if df_temp.at[ix, f'RH_{press}_percent'] == 0.0:\n",
    "                \n",
    "                RH = units.Quantity(1.0/100., \"dimensionless\")\n",
    "            else:\n",
    "                print(f\"RH not 0.0% at {ix, ixc} in file {f}\")\n",
    "                break\n",
    "            TMP =  units.Quantity(df_temp.at[ix, f'TMP_{press}_C'] + 273.15, \"K\")\n",
    "            df_temp.at[ix, dewpoint_levels[ixc]] = np.array(dewpoint_from_relative_humidity(TMP, RH))\n",
    "    df_temp.to_parquet(os.path.join(path_save, \"mPING\", f))\n",
    "\n",
    "print(f\"Files affected by 0% RH: {RH0_file_count_mPING}\")\n",
    "print(f\"Elements affected by 0% RH: {RH0_count_mPING}\")\n"
   ]
  },
  {
   "cell_type": "code",
   "execution_count": 22,
   "id": "f50539e4-54a6-441f-a0b2-683c7b5deedf",
   "metadata": {},
   "outputs": [],
   "source": [
    "# check if any file has all NaN rows\n",
    "for i,f in enumerate(files_ASOS):\n",
    "    df_temp = pd.read_parquet(os.path.join(path_save, \"ASOS\", f))\n",
    "    if df_temp.isnull().apply(lambda x: all(x), axis=1).any():\n",
    "        print(i, f)\n",
    "        print(df_temp[df_temp.isnull().any(axis=1)][['datetime'] + list(df_temp.columns[df_temp.isna().any()])])\n",
    "        break\n",
    "\n",
    "for i,f in enumerate(files_mPING):\n",
    "    df_temp = pd.read_parquet(os.path.join(path_save, \"mPING\", f))\n",
    "    if df_temp.isnull().apply(lambda x: all(x), axis=1).any():\n",
    "        print(i, f)\n",
    "        print(df_temp[df_temp.isnull().any(axis=1)][['datetime'] + list(df_temp.columns[df_temp.isna().any()])])\n",
    "        break\n",
    "        "
   ]
  },
  {
   "cell_type": "code",
   "execution_count": null,
   "id": "5c2987ae-2a22-4fdc-8c35-560ab707aaa0",
   "metadata": {},
   "outputs": [],
   "source": []
  }
 ],
 "metadata": {
  "kernelspec": {
   "display_name": "Python 3 (ipykernel)",
   "language": "python",
   "name": "python3"
  },
  "language_info": {
   "codemirror_mode": {
    "name": "ipython",
    "version": 3
   },
   "file_extension": ".py",
   "mimetype": "text/x-python",
   "name": "python",
   "nbconvert_exporter": "python",
   "pygments_lexer": "ipython3",
   "version": "3.9.12"
  }
 },
 "nbformat": 4,
 "nbformat_minor": 5
}
