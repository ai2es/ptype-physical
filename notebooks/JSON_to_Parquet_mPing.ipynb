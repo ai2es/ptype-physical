{
 "cells": [
  {
   "cell_type": "markdown",
   "id": "bcd14ea7-be31-49cb-9cea-505c1522abd7",
   "metadata": {},
   "source": [
    "# Python Imports"
   ]
  },
  {
   "cell_type": "markdown",
   "id": "5fc4b1ac-b600-42af-ada9-85b929a7d042",
   "metadata": {},
   "source": [
    "Code and errors written by Thomas Martin "
   ]
  },
  {
   "cell_type": "code",
   "execution_count": 1,
   "id": "4bd9bab7-5ffa-433a-b5e9-876cf7b06d7e",
   "metadata": {},
   "outputs": [],
   "source": [
    "import pandas as pd\n",
    "import numpy as np\n",
    "import random\n",
    "\n",
    "from tqdm import tqdm\n",
    "import glob"
   ]
  },
  {
   "cell_type": "markdown",
   "id": "f9ae4dbf-b491-435a-a386-b9acff883fa0",
   "metadata": {},
   "source": [
    "### File Paths:"
   ]
  },
  {
   "cell_type": "code",
   "execution_count": 2,
   "id": "ec14a167-faed-4834-9707-97db60ab7292",
   "metadata": {},
   "outputs": [],
   "source": [
    "import_path = '/glade/p/cisl/aiml/ai2es/winter_ptypes/mping_hourly/'"
   ]
  },
  {
   "cell_type": "code",
   "execution_count": 3,
   "id": "4c015eb6-cd20-409d-9057-533a4e429331",
   "metadata": {},
   "outputs": [],
   "source": [
    "export_path = '/glade/p/cisl/aiml/ai2es/winter_ptypes/mping_hourly_pq/'"
   ]
  },
  {
   "cell_type": "markdown",
   "id": "dba85ac1-c14b-41f5-a55b-1bf6642e8370",
   "metadata": {},
   "source": [
    "Getting a list of JSON files:"
   ]
  },
  {
   "cell_type": "code",
   "execution_count": 4,
   "id": "63334aaf-92fb-4332-8c93-6877efdf5ee2",
   "metadata": {},
   "outputs": [],
   "source": [
    "json_files = glob.glob(import_path + \"*.json\")"
   ]
  },
  {
   "cell_type": "code",
   "execution_count": 5,
   "id": "563aa350-b591-4374-a7ac-0ff5989cf2ed",
   "metadata": {},
   "outputs": [
    {
     "data": {
      "text/plain": [
       "83232"
      ]
     },
     "execution_count": 5,
     "metadata": {},
     "output_type": "execute_result"
    }
   ],
   "source": [
    "len(json_files)"
   ]
  },
  {
   "cell_type": "markdown",
   "id": "7862714a-9b83-4979-a966-34ceb8a40f5f",
   "metadata": {},
   "source": [
    "## Converting JSON files into dataframes"
   ]
  },
  {
   "cell_type": "code",
   "execution_count": 6,
   "id": "d297e34f-f2c3-47df-93d4-0861d1f741fa",
   "metadata": {},
   "outputs": [
    {
     "name": "stderr",
     "output_type": "stream",
     "text": [
      "100%|██████████| 83232/83232 [03:04<00:00, 450.49it/s]"
     ]
    },
    {
     "name": "stdout",
     "output_type": "stream",
     "text": [
      "CPU times: user 2min 58s, sys: 6.32 s, total: 3min 5s\n",
      "Wall time: 3min 4s\n"
     ]
    },
    {
     "name": "stderr",
     "output_type": "stream",
     "text": [
      "\n"
     ]
    }
   ],
   "source": [
    "%%time\n",
    "\n",
    "dfs = []\n",
    "\n",
    "for file in tqdm(json_files):\n",
    "    try:\n",
    "        if not file.endswith('.json'):\n",
    "            raise TypeError(f\"File '{file}' is not a JSON file.\")\n",
    "        df = pd.read_json(file)\n",
    "        dfs.append(df)\n",
    "    except TypeError as te:\n",
    "        print(te)\n",
    "    except Exception as e:\n",
    "        print(f\"Error reading file '{file}': {str(e)}\")"
   ]
  },
  {
   "cell_type": "code",
   "execution_count": 8,
   "id": "54e3a9fc-d6bb-4491-8109-5f56171ba28d",
   "metadata": {},
   "outputs": [
    {
     "data": {
      "text/plain": [
       "83232"
      ]
     },
     "execution_count": 8,
     "metadata": {},
     "output_type": "execute_result"
    }
   ],
   "source": [
    "len(dfs)"
   ]
  },
  {
   "cell_type": "code",
   "execution_count": 9,
   "id": "402f3054-79a4-4cbe-858a-adcfcf41fa69",
   "metadata": {},
   "outputs": [
    {
     "data": {
      "text/plain": [
       "(2288269, 6)"
      ]
     },
     "execution_count": 9,
     "metadata": {},
     "output_type": "execute_result"
    }
   ],
   "source": [
    "combined_df = pd.concat(dfs, ignore_index=True)\n",
    "combined_df.shape"
   ]
  },
  {
   "cell_type": "code",
   "execution_count": 10,
   "id": "f577d249-e8cd-406c-895d-9d8c589056c1",
   "metadata": {},
   "outputs": [
    {
     "data": {
      "text/plain": [
       "pandas.core.series.Series"
      ]
     },
     "execution_count": 10,
     "metadata": {},
     "output_type": "execute_result"
    }
   ],
   "source": [
    "mem = combined_df.memory_usage()\n",
    "type(mem)"
   ]
  },
  {
   "cell_type": "markdown",
   "id": "3b05eb19-5482-40b3-8da6-40d3d4e2b251",
   "metadata": {},
   "source": [
    "This math right?"
   ]
  },
  {
   "cell_type": "code",
   "execution_count": 11,
   "id": "7a9e8823-a978-45dd-9e35-9f50b088041f",
   "metadata": {},
   "outputs": [
    {
     "name": "stdout",
     "output_type": "stream",
     "text": [
      "Megabytes of dataframe 109.83704\n"
     ]
    }
   ],
   "source": [
    "print('Megabytes of dataframe', mem.sum() / 1000000 )"
   ]
  },
  {
   "cell_type": "markdown",
   "id": "29849e4b-fdc5-47a0-b667-e35d7f8d4e38",
   "metadata": {},
   "source": [
    "## Precip Description"
   ]
  },
  {
   "cell_type": "code",
   "execution_count": 12,
   "id": "ab469ac6-6951-42a0-9582-6876ae0358f2",
   "metadata": {},
   "outputs": [
    {
     "data": {
      "text/plain": [
       "(2288269, 6)"
      ]
     },
     "execution_count": 12,
     "metadata": {},
     "output_type": "execute_result"
    }
   ],
   "source": [
    "combined_df.shape"
   ]
  },
  {
   "cell_type": "code",
   "execution_count": 13,
   "id": "59b6908f-49bc-4c5a-9f61-e718181a2627",
   "metadata": {},
   "outputs": [
    {
     "data": {
      "text/plain": [
       "array(['Snow and/or Graupel', 'Rain', 'Ice Pellets/Sleet',\n",
       "       'Freezing Drizzle', 'Mixed Ice Pellets and Snow', 'Freezing Rain',\n",
       "       'Drizzle', 'Mixed Freezing Rain and Ice Pellets',\n",
       "       'Mixed Rain and Snow', 'Mixed Rain and Ice Pellets', 'Graupel'],\n",
       "      dtype=object)"
      ]
     },
     "execution_count": 13,
     "metadata": {},
     "output_type": "execute_result"
    }
   ],
   "source": [
    "combined_df.description.unique()"
   ]
  },
  {
   "cell_type": "code",
   "execution_count": 14,
   "id": "50fb1514-6857-4ffe-96d0-c9ba22366c6d",
   "metadata": {},
   "outputs": [],
   "source": [
    "my_dict = {\n",
    "    'value_to_match': ['Freezing Drizzle', 'Ice Pellets', 'Mixed Ice Pellets and Snow', 'Mixed Freezing Rain and Ice Pellets', 'Mixed Rain and Snow', 'Mixed Rain and Ice Pellets', 'Drizzle', 'Graupel', 'Ice Pellets/Sleet', 'Snow and/or Graupel'],\n",
    "    'new_value':      ['Freezing Rain', 'Sleet', 'Ice Pellets', 'Freezing Rain', 'Snow', 'Ice Pellets', 'Rain', 'Snow', 'Sleet', 'Snow']\n",
    "}\n",
    "\n",
    "column_to_match = 'description'"
   ]
  },
  {
   "cell_type": "code",
   "execution_count": 15,
   "id": "955e5d4b-bf3c-4334-91a5-d72f38bf5d14",
   "metadata": {},
   "outputs": [],
   "source": [
    "combined_df['duplicate'] = False"
   ]
  },
  {
   "cell_type": "code",
   "execution_count": 16,
   "id": "817ebd7c-0479-49d1-9ba1-17f9643faaed",
   "metadata": {},
   "outputs": [
    {
     "name": "stdout",
     "output_type": "stream",
     "text": [
      "Freezing Drizzle\n",
      "dataframe shape: (27016, 7)\n",
      "changed to:\n",
      "Freezing Rain\n",
      "   \n",
      "Ice Pellets\n",
      "dataframe shape: (0, 7)\n",
      "changed to:\n",
      "Sleet\n",
      "   \n",
      "Mixed Ice Pellets and Snow\n",
      "dataframe shape: (35831, 7)\n",
      "changed to:\n",
      "Ice Pellets\n",
      "   \n",
      "Mixed Freezing Rain and Ice Pellets\n",
      "dataframe shape: (9420, 7)\n",
      "changed to:\n",
      "Freezing Rain\n",
      "   \n",
      "Mixed Rain and Snow\n",
      "dataframe shape: (66520, 7)\n",
      "changed to:\n",
      "Snow\n",
      "   \n",
      "Mixed Rain and Ice Pellets\n",
      "dataframe shape: (31960, 7)\n",
      "changed to:\n",
      "Ice Pellets\n",
      "   \n",
      "Drizzle\n",
      "dataframe shape: (245493, 7)\n",
      "changed to:\n",
      "Rain\n",
      "   \n",
      "Graupel\n",
      "dataframe shape: (3959, 7)\n",
      "changed to:\n",
      "Snow\n",
      "   \n",
      "Ice Pellets/Sleet\n",
      "dataframe shape: (101276, 7)\n",
      "changed to:\n",
      "Sleet\n",
      "   \n",
      "Snow and/or Graupel\n",
      "dataframe shape: (624566, 7)\n",
      "changed to:\n",
      "Snow\n",
      "   \n"
     ]
    }
   ],
   "source": [
    "for num in range(len(my_dict['value_to_match'])):\n",
    "    print(my_dict['value_to_match'][num])\n",
    "    row_to_copy = combined_df.loc[combined_df[column_to_match] == my_dict['value_to_match'][num]].copy()\n",
    "    print('dataframe shape:', row_to_copy.shape)\n",
    "    print('changed to:')\n",
    "    print(my_dict['new_value'][num])\n",
    "    row_to_copy[column_to_match] = my_dict['new_value'][num]\n",
    "    row_to_copy['duplicate'] = True\n",
    "    \n",
    "    combined_df = pd.concat([combined_df, row_to_copy]) # this appends that dataframe to the original\n",
    "    print('   ')"
   ]
  },
  {
   "cell_type": "code",
   "execution_count": 17,
   "id": "0289b785-0131-49cd-b187-f49fd2fcc549",
   "metadata": {},
   "outputs": [
    {
     "data": {
      "text/plain": [
       "array(['Freezing Rain', 'Ice Pellets', 'Snow', 'Rain', 'Sleet'],\n",
       "      dtype=object)"
      ]
     },
     "execution_count": 17,
     "metadata": {},
     "output_type": "execute_result"
    }
   ],
   "source": [
    "combined_df[combined_df.duplicate == True].description.unique()"
   ]
  },
  {
   "cell_type": "code",
   "execution_count": 18,
   "id": "7742d787-8a1b-491d-b1b0-1d0e26ef01cb",
   "metadata": {},
   "outputs": [
    {
     "data": {
      "text/plain": [
       "array(['Snow and/or Graupel', 'Rain', 'Ice Pellets/Sleet',\n",
       "       'Freezing Drizzle', 'Mixed Ice Pellets and Snow', 'Freezing Rain',\n",
       "       'Drizzle', 'Mixed Freezing Rain and Ice Pellets',\n",
       "       'Mixed Rain and Snow', 'Mixed Rain and Ice Pellets', 'Graupel'],\n",
       "      dtype=object)"
      ]
     },
     "execution_count": 18,
     "metadata": {},
     "output_type": "execute_result"
    }
   ],
   "source": [
    "combined_df[combined_df.duplicate == False].description.unique()"
   ]
  },
  {
   "cell_type": "code",
   "execution_count": 19,
   "id": "eac7c35b-42f7-40cf-b8a7-77b2498c545b",
   "metadata": {},
   "outputs": [],
   "source": [
    "# combined_df.drop_duplicates()"
   ]
  },
  {
   "cell_type": "code",
   "execution_count": 20,
   "id": "9adc335d-13d9-4c23-8a3a-2b5b8c8e253f",
   "metadata": {},
   "outputs": [
    {
     "data": {
      "text/plain": [
       "(3434310, 7)"
      ]
     },
     "execution_count": 20,
     "metadata": {},
     "output_type": "execute_result"
    }
   ],
   "source": [
    "combined_df.shape"
   ]
  },
  {
   "cell_type": "markdown",
   "id": "ee63141d-7504-4a2d-b309-06b7fba0e03e",
   "metadata": {},
   "source": [
    "This would be the place to adjust/fix your precip choices."
   ]
  },
  {
   "cell_type": "markdown",
   "id": "c6cac8de-a95b-48bf-a09f-a9fc62a9402f",
   "metadata": {},
   "source": [
    "## Coordinate Extraction"
   ]
  },
  {
   "cell_type": "code",
   "execution_count": 21,
   "id": "72f0097f-e152-46ba-bb17-dcfb32b94a09",
   "metadata": {},
   "outputs": [],
   "source": [
    "combined_df['coordinates'] = combined_df['geom'].apply(lambda x: x['coordinates'])"
   ]
  },
  {
   "cell_type": "code",
   "execution_count": 22,
   "id": "cf4ead31-88d5-4492-87d5-b97bfada977e",
   "metadata": {},
   "outputs": [],
   "source": [
    "# Split coordinates into separate columns\n",
    "combined_df['latitude'] = combined_df['coordinates'].str[1]\n",
    "combined_df['longitude'] = combined_df['coordinates'].str[0]"
   ]
  },
  {
   "cell_type": "markdown",
   "id": "8a61d786-6c9e-46e7-9fbe-a4849fcad7c0",
   "metadata": {},
   "source": [
    "remove three columns"
   ]
  },
  {
   "cell_type": "code",
   "execution_count": 23,
   "id": "5e42932f-0c2e-41ee-8df2-8d3680bd7721",
   "metadata": {},
   "outputs": [],
   "source": [
    "combined_df = combined_df.drop(columns=['geom', 'coordinates', 'description_id' ])"
   ]
  },
  {
   "cell_type": "code",
   "execution_count": 24,
   "id": "820f5a20-b903-41d8-9274-768f8f695551",
   "metadata": {},
   "outputs": [
    {
     "data": {
      "text/plain": [
       "(3434310, 7)"
      ]
     },
     "execution_count": 24,
     "metadata": {},
     "output_type": "execute_result"
    }
   ],
   "source": [
    "combined_df.shape"
   ]
  },
  {
   "cell_type": "markdown",
   "id": "2c9724c1-bed1-430e-a631-55f2131d8a1e",
   "metadata": {},
   "source": [
    "## Round down time to nearest hour"
   ]
  },
  {
   "cell_type": "code",
   "execution_count": 25,
   "id": "c7312af2-5121-403a-8441-98a9ee5e3c0f",
   "metadata": {},
   "outputs": [],
   "source": [
    "combined_df['date'] = pd.to_datetime(combined_df['obtime' ])"
   ]
  },
  {
   "cell_type": "code",
   "execution_count": 26,
   "id": "0b3b7be4-3669-41b9-a387-e04ef492cede",
   "metadata": {},
   "outputs": [],
   "source": [
    "combined_df['rounded_datetime'] = combined_df['date'].dt.floor('H')\n",
    "\n",
    "#dropping obtime\n",
    "combined_df = combined_df.drop(columns=['obtime'])"
   ]
  },
  {
   "cell_type": "markdown",
   "id": "fef08f59-019e-4c1d-bac9-d256e8d729e6",
   "metadata": {},
   "source": [
    "## Pandas EDA"
   ]
  },
  {
   "cell_type": "code",
   "execution_count": 27,
   "id": "d036c9e4-e1ce-4a89-bcb3-bcd0e4533548",
   "metadata": {},
   "outputs": [
    {
     "name": "stdout",
     "output_type": "stream",
     "text": [
      "id                                int64\n",
      "category                         object\n",
      "description                      object\n",
      "duplicate                          bool\n",
      "latitude                        float64\n",
      "longitude                       float64\n",
      "date                datetime64[ns, UTC]\n",
      "rounded_datetime    datetime64[ns, UTC]\n",
      "dtype: object\n"
     ]
    }
   ],
   "source": [
    "print(combined_df.dtypes)"
   ]
  },
  {
   "cell_type": "markdown",
   "id": "6c08efde-392b-4d38-9ff6-4c5a3c4ea65d",
   "metadata": {},
   "source": [
    "## Export Every day"
   ]
  },
  {
   "cell_type": "code",
   "execution_count": 28,
   "id": "c2c58b75-e4dc-4fa6-987f-271fd458a193",
   "metadata": {},
   "outputs": [],
   "source": [
    "# Group the dataframe by day\n",
    "grouped = combined_df.groupby(combined_df['date'].dt.date)"
   ]
  },
  {
   "cell_type": "code",
   "execution_count": 29,
   "id": "bf222922-e1ba-411b-9678-9ed2f2d5c5a8",
   "metadata": {},
   "outputs": [
    {
     "name": "stderr",
     "output_type": "stream",
     "text": [
      "Exporting data: 100%|██████████| 3427/3427 [00:20<00:00, 163.21day/s]\n"
     ]
    }
   ],
   "source": [
    "# Iterate over the groups and export each day as a separate file\n",
    "for date, group in tqdm(grouped, desc='Exporting data', unit='day'):\n",
    "    filename = f'data_{date}.parquet'  # Define the filename for each day\n",
    "    group.to_parquet(export_path + filename, index=False)  # Export the group to a Parquet file"
   ]
  },
  {
   "cell_type": "markdown",
   "id": "c35e58dd-f50f-4b70-bc50-87ee25cbdb91",
   "metadata": {},
   "source": [
    "## Double check that each day is actually it's own day:"
   ]
  },
  {
   "cell_type": "code",
   "execution_count": 30,
   "id": "8e1d24c2-4de3-40ba-8b2e-0564db6e3fb4",
   "metadata": {},
   "outputs": [],
   "source": [
    "pq_files = glob.glob(export_path + \"*.parquet\")"
   ]
  },
  {
   "cell_type": "code",
   "execution_count": 31,
   "id": "292ab8e1-830f-4749-b3e6-2018859e6840",
   "metadata": {},
   "outputs": [],
   "source": [
    "random_files = random.sample(pq_files, 5)"
   ]
  },
  {
   "cell_type": "code",
   "execution_count": 32,
   "id": "49a21e16-6ae8-401e-8141-d25a80abd592",
   "metadata": {},
   "outputs": [
    {
     "name": "stdout",
     "output_type": "stream",
     "text": [
      "/glade/p/cisl/aiml/ai2es/winter_ptypes/mping_hourly_pq/data_2015-06-22.parquet\n",
      "0   2015-06-22 13:09:00+00:00\n",
      "1   2015-06-22 13:18:00+00:00\n",
      "Name: date, dtype: datetime64[ns, UTC]\n",
      "307   2015-06-22 19:46:00+00:00\n",
      "308   2015-06-22 19:58:00+00:00\n",
      "Name: date, dtype: datetime64[ns, UTC]\n",
      "/glade/p/cisl/aiml/ai2es/winter_ptypes/mping_hourly_pq/data_2013-02-02.parquet\n",
      "0   2013-02-02 14:01:00+00:00\n",
      "1   2013-02-02 14:04:00+00:00\n",
      "Name: date, dtype: datetime64[ns, UTC]\n",
      "1478   2013-02-02 17:54:00+00:00\n",
      "1479   2013-02-02 17:55:00+00:00\n",
      "Name: date, dtype: datetime64[ns, UTC]\n",
      "/glade/p/cisl/aiml/ai2es/winter_ptypes/mping_hourly_pq/data_2013-10-30.parquet\n",
      "0   2013-10-30 03:04:00+00:00\n",
      "1   2013-10-30 03:06:00+00:00\n",
      "Name: date, dtype: datetime64[ns, UTC]\n",
      "835   2013-10-30 11:48:00+00:00\n",
      "836   2013-10-30 21:30:00+00:00\n",
      "Name: date, dtype: datetime64[ns, UTC]\n",
      "/glade/p/cisl/aiml/ai2es/winter_ptypes/mping_hourly_pq/data_2019-07-19.parquet\n",
      "0   2019-07-19 06:01:21+00:00\n",
      "1   2019-07-19 06:02:12+00:00\n",
      "Name: date, dtype: datetime64[ns, UTC]\n",
      "423   2019-07-19 10:43:32+00:00\n",
      "424   2019-07-19 23:20:30+00:00\n",
      "Name: date, dtype: datetime64[ns, UTC]\n",
      "/glade/p/cisl/aiml/ai2es/winter_ptypes/mping_hourly_pq/data_2014-12-11.parquet\n",
      "0   2014-12-11 10:14:00+00:00\n",
      "1   2014-12-11 10:16:00+00:00\n",
      "Name: date, dtype: datetime64[ns, UTC]\n",
      "1130   2014-12-11 23:48:00+00:00\n",
      "1131   2014-12-11 23:50:00+00:00\n",
      "Name: date, dtype: datetime64[ns, UTC]\n"
     ]
    }
   ],
   "source": [
    "for file in random_files:\n",
    "    # Read the file using pd.read_parquet (for Parquet files)\n",
    "    df = pd.read_parquet(file)\n",
    "    # Display the first 3 rows of the DataFrame\n",
    "    print(file)\n",
    "    print(df.date.head(2))\n",
    "    print(df.date.tail(2))"
   ]
  }
 ],
 "metadata": {
  "kernelspec": {
   "display_name": "Python [conda env:.conda-ptype]",
   "language": "python",
   "name": "conda-env-.conda-ptype-py"
  },
  "language_info": {
   "codemirror_mode": {
    "name": "ipython",
    "version": 3
   },
   "file_extension": ".py",
   "mimetype": "text/x-python",
   "name": "python",
   "nbconvert_exporter": "python",
   "pygments_lexer": "ipython3",
   "version": "3.10.12"
  }
 },
 "nbformat": 4,
 "nbformat_minor": 5
}
