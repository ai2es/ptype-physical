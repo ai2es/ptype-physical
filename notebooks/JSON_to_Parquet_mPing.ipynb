{
 "cells": [
  {
   "cell_type": "markdown",
   "id": "bcd14ea7-be31-49cb-9cea-505c1522abd7",
   "metadata": {},
   "source": [
    "# Python Imports"
   ]
  },
  {
   "cell_type": "markdown",
   "id": "5fc4b1ac-b600-42af-ada9-85b929a7d042",
   "metadata": {},
   "source": [
    "Code and errors written by Thomas Martin "
   ]
  },
  {
   "cell_type": "code",
   "execution_count": 1,
   "id": "4bd9bab7-5ffa-433a-b5e9-876cf7b06d7e",
   "metadata": {},
   "outputs": [],
   "source": [
    "import pandas as pd\n",
    "import numpy as np\n",
    "import random\n",
    "\n",
    "from tqdm import tqdm\n",
    "import glob"
   ]
  },
  {
   "cell_type": "markdown",
   "id": "f9ae4dbf-b491-435a-a386-b9acff883fa0",
   "metadata": {},
   "source": [
    "### File Paths:"
   ]
  },
  {
   "cell_type": "code",
   "execution_count": 2,
   "id": "ec14a167-faed-4834-9707-97db60ab7292",
   "metadata": {},
   "outputs": [],
   "source": [
    "import_path = '/glade/p/cisl/aiml/ai2es/winter_ptypes/mping_hourly/'"
   ]
  },
  {
   "cell_type": "code",
   "execution_count": 3,
   "id": "4c015eb6-cd20-409d-9057-533a4e429331",
   "metadata": {},
   "outputs": [],
   "source": [
    "export_path = '/glade/p/cisl/aiml/ai2es/winter_ptypes/mping_hourly_pq/'"
   ]
  },
  {
   "cell_type": "markdown",
   "id": "dba85ac1-c14b-41f5-a55b-1bf6642e8370",
   "metadata": {},
   "source": [
    "Getting a list of JSON files:"
   ]
  },
  {
   "cell_type": "code",
   "execution_count": 4,
   "id": "63334aaf-92fb-4332-8c93-6877efdf5ee2",
   "metadata": {},
   "outputs": [],
   "source": [
    "json_files = glob.glob(import_path + \"*.json\")"
   ]
  },
  {
   "cell_type": "code",
   "execution_count": 5,
   "id": "563aa350-b591-4374-a7ac-0ff5989cf2ed",
   "metadata": {},
   "outputs": [
    {
     "data": {
      "text/plain": [
       "83232"
      ]
     },
     "execution_count": 5,
     "metadata": {},
     "output_type": "execute_result"
    }
   ],
   "source": [
    "len(json_files)"
   ]
  },
  {
   "cell_type": "markdown",
   "id": "7862714a-9b83-4979-a966-34ceb8a40f5f",
   "metadata": {},
   "source": [
    "## Converting JSON files into dataframes"
   ]
  },
  {
   "cell_type": "code",
   "execution_count": 6,
   "id": "d297e34f-f2c3-47df-93d4-0861d1f741fa",
   "metadata": {},
   "outputs": [
    {
     "name": "stderr",
     "output_type": "stream",
     "text": [
      "100%|██████████| 83232/83232 [03:17<00:00, 422.34it/s]"
     ]
    },
    {
     "name": "stdout",
     "output_type": "stream",
     "text": [
      "CPU times: user 3min 8s, sys: 6.55 s, total: 3min 15s\n",
      "Wall time: 3min 17s\n"
     ]
    },
    {
     "name": "stderr",
     "output_type": "stream",
     "text": [
      "\n"
     ]
    }
   ],
   "source": [
    "%%time\n",
    "\n",
    "dfs = []\n",
    "\n",
    "for file in tqdm(json_files):\n",
    "    try:\n",
    "        if not file.endswith('.json'):\n",
    "            raise TypeError(f\"File '{file}' is not a JSON file.\")\n",
    "        df = pd.read_json(file)\n",
    "        dfs.append(df)\n",
    "    except TypeError as te:\n",
    "        print(te)\n",
    "    except Exception as e:\n",
    "        print(f\"Error reading file '{file}': {str(e)}\")"
   ]
  },
  {
   "cell_type": "code",
   "execution_count": 7,
   "id": "402f3054-79a4-4cbe-858a-adcfcf41fa69",
   "metadata": {},
   "outputs": [],
   "source": [
    "combined_df = pd.concat(dfs, ignore_index=True)"
   ]
  },
  {
   "cell_type": "code",
   "execution_count": 8,
   "id": "f577d249-e8cd-406c-895d-9d8c589056c1",
   "metadata": {},
   "outputs": [
    {
     "data": {
      "text/plain": [
       "pandas.core.series.Series"
      ]
     },
     "execution_count": 8,
     "metadata": {},
     "output_type": "execute_result"
    }
   ],
   "source": [
    "mem = combined_df.memory_usage()\n",
    "type(mem)"
   ]
  },
  {
   "cell_type": "markdown",
   "id": "3b05eb19-5482-40b3-8da6-40d3d4e2b251",
   "metadata": {},
   "source": [
    "This math right?"
   ]
  },
  {
   "cell_type": "code",
   "execution_count": 9,
   "id": "7a9e8823-a978-45dd-9e35-9f50b088041f",
   "metadata": {},
   "outputs": [
    {
     "name": "stdout",
     "output_type": "stream",
     "text": [
      "Megabytes of dataframe 109.83704\n"
     ]
    }
   ],
   "source": [
    "print('Megabytes of dataframe', mem.sum() / 1000000 )"
   ]
  },
  {
   "cell_type": "markdown",
   "id": "29849e4b-fdc5-47a0-b667-e35d7f8d4e38",
   "metadata": {},
   "source": [
    "## Precip Description"
   ]
  },
  {
   "cell_type": "code",
   "execution_count": 10,
   "id": "ab469ac6-6951-42a0-9582-6876ae0358f2",
   "metadata": {},
   "outputs": [
    {
     "data": {
      "text/plain": [
       "(2288269, 6)"
      ]
     },
     "execution_count": 10,
     "metadata": {},
     "output_type": "execute_result"
    }
   ],
   "source": [
    "combined_df.shape"
   ]
  },
  {
   "cell_type": "code",
   "execution_count": 11,
   "id": "59b6908f-49bc-4c5a-9f61-e718181a2627",
   "metadata": {},
   "outputs": [
    {
     "data": {
      "text/plain": [
       "array(['Snow and/or Graupel', 'Rain', 'Ice Pellets/Sleet',\n",
       "       'Freezing Drizzle', 'Mixed Ice Pellets and Snow', 'Freezing Rain',\n",
       "       'Drizzle', 'Mixed Freezing Rain and Ice Pellets',\n",
       "       'Mixed Rain and Snow', 'Mixed Rain and Ice Pellets', 'Graupel'],\n",
       "      dtype=object)"
      ]
     },
     "execution_count": 11,
     "metadata": {},
     "output_type": "execute_result"
    }
   ],
   "source": [
    "combined_df.description.unique()"
   ]
  },
  {
   "cell_type": "code",
   "execution_count": 12,
   "id": "50fb1514-6857-4ffe-96d0-c9ba22366c6d",
   "metadata": {},
   "outputs": [],
   "source": [
    "my_dict = {\n",
    "    'value_to_match': ['Freezing Drizzle', 'Ice Pellets', 'Mixed Ice Pellets and Snow', 'Mixed Freezing Rain and Ice Pellets', 'Mixed Rain and Snow', 'Mixed Rain and Ice Pellets', 'Drizzle', 'Graupel', 'Ice Pellets/Sleet', 'Snow and/or Graupel'],\n",
    "    'new_value':      ['Freezing Rain', 'Freezing Rain', 'Snow', 'Ice Pellets', 'Snow', 'Ice Pellets', 'Rain', 'Snow', 'Freezing Rain', 'Snow']\n",
    "}\n",
    "\n",
    "column_to_match = 'description'"
   ]
  },
  {
   "cell_type": "code",
   "execution_count": 13,
   "id": "955e5d4b-bf3c-4334-91a5-d72f38bf5d14",
   "metadata": {},
   "outputs": [],
   "source": [
    "combined_df['duplicate'] = False"
   ]
  },
  {
   "cell_type": "code",
   "execution_count": 14,
   "id": "817ebd7c-0479-49d1-9ba1-17f9643faaed",
   "metadata": {},
   "outputs": [
    {
     "name": "stdout",
     "output_type": "stream",
     "text": [
      "Freezing Drizzle\n",
      "dataframe shape: (27016, 7)\n",
      "changed to:\n",
      "Freezing Rain\n",
      "   \n",
      "Ice Pellets\n",
      "dataframe shape: (0, 7)\n",
      "changed to:\n",
      "Freezing Rain\n",
      "   \n",
      "Mixed Ice Pellets and Snow\n",
      "dataframe shape: (35831, 7)\n",
      "changed to:\n",
      "Snow\n",
      "   \n",
      "Mixed Freezing Rain and Ice Pellets\n",
      "dataframe shape: (9420, 7)\n",
      "changed to:\n",
      "Ice Pellets\n",
      "   \n",
      "Mixed Rain and Snow\n",
      "dataframe shape: (66520, 7)\n",
      "changed to:\n",
      "Snow\n",
      "   \n",
      "Mixed Rain and Ice Pellets\n",
      "dataframe shape: (31960, 7)\n",
      "changed to:\n",
      "Ice Pellets\n",
      "   \n",
      "Drizzle\n",
      "dataframe shape: (245493, 7)\n",
      "changed to:\n",
      "Rain\n",
      "   \n",
      "Graupel\n",
      "dataframe shape: (3959, 7)\n",
      "changed to:\n",
      "Snow\n",
      "   \n",
      "Ice Pellets/Sleet\n",
      "dataframe shape: (101276, 7)\n",
      "changed to:\n",
      "Freezing Rain\n",
      "   \n",
      "Snow and/or Graupel\n",
      "dataframe shape: (624566, 7)\n",
      "changed to:\n",
      "Snow\n",
      "   \n"
     ]
    }
   ],
   "source": [
    "for num in range(len(my_dict['value_to_match'])):\n",
    "    print(my_dict['value_to_match'][num])\n",
    "    row_to_copy = combined_df.loc[combined_df[column_to_match] == my_dict['value_to_match'][num]].copy()\n",
    "    print('dataframe shape:', row_to_copy.shape)\n",
    "    print('changed to:')\n",
    "    print(my_dict['new_value'][num])\n",
    "    row_to_copy[column_to_match] = my_dict['new_value'][num]\n",
    "    row_to_copy['duplicate'] = True\n",
    "    \n",
    "    combined_df = pd.concat([combined_df, row_to_copy]) # this appends that dataframe to the original\n",
    "    print('   ')"
   ]
  },
  {
   "cell_type": "code",
   "execution_count": 15,
   "id": "0289b785-0131-49cd-b187-f49fd2fcc549",
   "metadata": {},
   "outputs": [
    {
     "data": {
      "text/plain": [
       "array(['Freezing Rain', 'Snow', 'Ice Pellets', 'Rain'], dtype=object)"
      ]
     },
     "execution_count": 15,
     "metadata": {},
     "output_type": "execute_result"
    }
   ],
   "source": [
    "combined_df[combined_df.duplicate == True].description.unique()"
   ]
  },
  {
   "cell_type": "code",
   "execution_count": 16,
   "id": "7742d787-8a1b-491d-b1b0-1d0e26ef01cb",
   "metadata": {},
   "outputs": [
    {
     "data": {
      "text/plain": [
       "array(['Snow and/or Graupel', 'Rain', 'Ice Pellets/Sleet',\n",
       "       'Freezing Drizzle', 'Mixed Ice Pellets and Snow', 'Freezing Rain',\n",
       "       'Drizzle', 'Mixed Freezing Rain and Ice Pellets',\n",
       "       'Mixed Rain and Snow', 'Mixed Rain and Ice Pellets', 'Graupel'],\n",
       "      dtype=object)"
      ]
     },
     "execution_count": 16,
     "metadata": {},
     "output_type": "execute_result"
    }
   ],
   "source": [
    "combined_df[combined_df.duplicate == False].description.unique()"
   ]
  },
  {
   "cell_type": "code",
   "execution_count": 17,
   "id": "9adc335d-13d9-4c23-8a3a-2b5b8c8e253f",
   "metadata": {},
   "outputs": [
    {
     "data": {
      "text/plain": [
       "(3434310, 7)"
      ]
     },
     "execution_count": 17,
     "metadata": {},
     "output_type": "execute_result"
    }
   ],
   "source": [
    "combined_df.shape"
   ]
  },
  {
   "cell_type": "markdown",
   "id": "ee63141d-7504-4a2d-b309-06b7fba0e03e",
   "metadata": {},
   "source": [
    "This would be the place to adjust/fix your precip choices."
   ]
  },
  {
   "cell_type": "markdown",
   "id": "c6cac8de-a95b-48bf-a09f-a9fc62a9402f",
   "metadata": {},
   "source": [
    "## Coordinate Extraction"
   ]
  },
  {
   "cell_type": "code",
   "execution_count": 18,
   "id": "72f0097f-e152-46ba-bb17-dcfb32b94a09",
   "metadata": {},
   "outputs": [],
   "source": [
    "combined_df['coordinates'] = combined_df['geom'].apply(lambda x: x['coordinates'])"
   ]
  },
  {
   "cell_type": "code",
   "execution_count": 19,
   "id": "820f5a20-b903-41d8-9274-768f8f695551",
   "metadata": {},
   "outputs": [
    {
     "data": {
      "text/html": [
       "<div>\n",
       "<style scoped>\n",
       "    .dataframe tbody tr th:only-of-type {\n",
       "        vertical-align: middle;\n",
       "    }\n",
       "\n",
       "    .dataframe tbody tr th {\n",
       "        vertical-align: top;\n",
       "    }\n",
       "\n",
       "    .dataframe thead th {\n",
       "        text-align: right;\n",
       "    }\n",
       "</style>\n",
       "<table border=\"1\" class=\"dataframe\">\n",
       "  <thead>\n",
       "    <tr style=\"text-align: right;\">\n",
       "      <th></th>\n",
       "      <th>id</th>\n",
       "      <th>obtime</th>\n",
       "      <th>category</th>\n",
       "      <th>description</th>\n",
       "      <th>description_id</th>\n",
       "      <th>geom</th>\n",
       "      <th>duplicate</th>\n",
       "      <th>coordinates</th>\n",
       "    </tr>\n",
       "  </thead>\n",
       "  <tbody>\n",
       "    <tr>\n",
       "      <th>0</th>\n",
       "      <td>1128052</td>\n",
       "      <td>2016-11-21T18:05:08Z</td>\n",
       "      <td>Rain/Snow</td>\n",
       "      <td>Snow and/or Graupel</td>\n",
       "      <td>8</td>\n",
       "      <td>{'type': 'Point', 'coordinates': [-72.53477752...</td>\n",
       "      <td>False</td>\n",
       "      <td>[-72.53477752710911, 41.78177793818802]</td>\n",
       "    </tr>\n",
       "    <tr>\n",
       "      <th>1</th>\n",
       "      <td>1128055</td>\n",
       "      <td>2016-11-21T18:14:57Z</td>\n",
       "      <td>Rain/Snow</td>\n",
       "      <td>Snow and/or Graupel</td>\n",
       "      <td>8</td>\n",
       "      <td>{'type': 'Point', 'coordinates': [-74.0841645,...</td>\n",
       "      <td>False</td>\n",
       "      <td>[-74.0841645, 40.9787401]</td>\n",
       "    </tr>\n",
       "    <tr>\n",
       "      <th>2</th>\n",
       "      <td>1128056</td>\n",
       "      <td>2016-11-21T18:18:31Z</td>\n",
       "      <td>Rain/Snow</td>\n",
       "      <td>Snow and/or Graupel</td>\n",
       "      <td>8</td>\n",
       "      <td>{'type': 'Point', 'coordinates': [-77.63962137...</td>\n",
       "      <td>False</td>\n",
       "      <td>[-77.63962137520093, 43.2546242745996]</td>\n",
       "    </tr>\n",
       "    <tr>\n",
       "      <th>3</th>\n",
       "      <td>1128057</td>\n",
       "      <td>2016-11-21T18:25:43Z</td>\n",
       "      <td>Rain/Snow</td>\n",
       "      <td>Snow and/or Graupel</td>\n",
       "      <td>8</td>\n",
       "      <td>{'type': 'Point', 'coordinates': [-72.6836217,...</td>\n",
       "      <td>False</td>\n",
       "      <td>[-72.6836217, 41.7416863]</td>\n",
       "    </tr>\n",
       "    <tr>\n",
       "      <th>4</th>\n",
       "      <td>1128058</td>\n",
       "      <td>2016-11-21T18:29:49Z</td>\n",
       "      <td>Rain/Snow</td>\n",
       "      <td>Snow and/or Graupel</td>\n",
       "      <td>8</td>\n",
       "      <td>{'type': 'Point', 'coordinates': [-73.9366576,...</td>\n",
       "      <td>False</td>\n",
       "      <td>[-73.9366576, 41.6538321]</td>\n",
       "    </tr>\n",
       "    <tr>\n",
       "      <th>...</th>\n",
       "      <td>...</td>\n",
       "      <td>...</td>\n",
       "      <td>...</td>\n",
       "      <td>...</td>\n",
       "      <td>...</td>\n",
       "      <td>...</td>\n",
       "      <td>...</td>\n",
       "      <td>...</td>\n",
       "    </tr>\n",
       "    <tr>\n",
       "      <th>2288257</th>\n",
       "      <td>2904383</td>\n",
       "      <td>2021-12-04T18:22:10Z</td>\n",
       "      <td>Rain/Snow</td>\n",
       "      <td>Snow</td>\n",
       "      <td>8</td>\n",
       "      <td>{'type': 'Point', 'coordinates': [-78.9275127,...</td>\n",
       "      <td>True</td>\n",
       "      <td>[-78.9275127, 43.8519138]</td>\n",
       "    </tr>\n",
       "    <tr>\n",
       "      <th>2288259</th>\n",
       "      <td>2904385</td>\n",
       "      <td>2021-12-04T18:25:13Z</td>\n",
       "      <td>Rain/Snow</td>\n",
       "      <td>Snow</td>\n",
       "      <td>8</td>\n",
       "      <td>{'type': 'Point', 'coordinates': [-73.70230064...</td>\n",
       "      <td>True</td>\n",
       "      <td>[-73.70230064948555, 44.01912704475374]</td>\n",
       "    </tr>\n",
       "    <tr>\n",
       "      <th>2288263</th>\n",
       "      <td>2904389</td>\n",
       "      <td>2021-12-04T18:43:50Z</td>\n",
       "      <td>Rain/Snow</td>\n",
       "      <td>Snow</td>\n",
       "      <td>8</td>\n",
       "      <td>{'type': 'Point', 'coordinates': [-108.7052384...</td>\n",
       "      <td>True</td>\n",
       "      <td>[-108.70523847448939, 47.67775311387512]</td>\n",
       "    </tr>\n",
       "    <tr>\n",
       "      <th>2288266</th>\n",
       "      <td>2904392</td>\n",
       "      <td>2021-12-04T18:49:30Z</td>\n",
       "      <td>Rain/Snow</td>\n",
       "      <td>Snow</td>\n",
       "      <td>8</td>\n",
       "      <td>{'type': 'Point', 'coordinates': [-121.8419645...</td>\n",
       "      <td>True</td>\n",
       "      <td>[-121.8419645329683, 48.10779571646841]</td>\n",
       "    </tr>\n",
       "    <tr>\n",
       "      <th>2288268</th>\n",
       "      <td>2904396</td>\n",
       "      <td>2021-12-04T18:55:27Z</td>\n",
       "      <td>Rain/Snow</td>\n",
       "      <td>Snow</td>\n",
       "      <td>8</td>\n",
       "      <td>{'type': 'Point', 'coordinates': [-97.09126057...</td>\n",
       "      <td>True</td>\n",
       "      <td>[-97.09126057112319, 44.90166372158115]</td>\n",
       "    </tr>\n",
       "  </tbody>\n",
       "</table>\n",
       "<p>3434310 rows × 8 columns</p>\n",
       "</div>"
      ],
      "text/plain": [
       "              id                obtime   category          description  \\\n",
       "0        1128052  2016-11-21T18:05:08Z  Rain/Snow  Snow and/or Graupel   \n",
       "1        1128055  2016-11-21T18:14:57Z  Rain/Snow  Snow and/or Graupel   \n",
       "2        1128056  2016-11-21T18:18:31Z  Rain/Snow  Snow and/or Graupel   \n",
       "3        1128057  2016-11-21T18:25:43Z  Rain/Snow  Snow and/or Graupel   \n",
       "4        1128058  2016-11-21T18:29:49Z  Rain/Snow  Snow and/or Graupel   \n",
       "...          ...                   ...        ...                  ...   \n",
       "2288257  2904383  2021-12-04T18:22:10Z  Rain/Snow                 Snow   \n",
       "2288259  2904385  2021-12-04T18:25:13Z  Rain/Snow                 Snow   \n",
       "2288263  2904389  2021-12-04T18:43:50Z  Rain/Snow                 Snow   \n",
       "2288266  2904392  2021-12-04T18:49:30Z  Rain/Snow                 Snow   \n",
       "2288268  2904396  2021-12-04T18:55:27Z  Rain/Snow                 Snow   \n",
       "\n",
       "         description_id                                               geom  \\\n",
       "0                     8  {'type': 'Point', 'coordinates': [-72.53477752...   \n",
       "1                     8  {'type': 'Point', 'coordinates': [-74.0841645,...   \n",
       "2                     8  {'type': 'Point', 'coordinates': [-77.63962137...   \n",
       "3                     8  {'type': 'Point', 'coordinates': [-72.6836217,...   \n",
       "4                     8  {'type': 'Point', 'coordinates': [-73.9366576,...   \n",
       "...                 ...                                                ...   \n",
       "2288257               8  {'type': 'Point', 'coordinates': [-78.9275127,...   \n",
       "2288259               8  {'type': 'Point', 'coordinates': [-73.70230064...   \n",
       "2288263               8  {'type': 'Point', 'coordinates': [-108.7052384...   \n",
       "2288266               8  {'type': 'Point', 'coordinates': [-121.8419645...   \n",
       "2288268               8  {'type': 'Point', 'coordinates': [-97.09126057...   \n",
       "\n",
       "         duplicate                               coordinates  \n",
       "0            False   [-72.53477752710911, 41.78177793818802]  \n",
       "1            False                 [-74.0841645, 40.9787401]  \n",
       "2            False    [-77.63962137520093, 43.2546242745996]  \n",
       "3            False                 [-72.6836217, 41.7416863]  \n",
       "4            False                 [-73.9366576, 41.6538321]  \n",
       "...            ...                                       ...  \n",
       "2288257       True                 [-78.9275127, 43.8519138]  \n",
       "2288259       True   [-73.70230064948555, 44.01912704475374]  \n",
       "2288263       True  [-108.70523847448939, 47.67775311387512]  \n",
       "2288266       True   [-121.8419645329683, 48.10779571646841]  \n",
       "2288268       True   [-97.09126057112319, 44.90166372158115]  \n",
       "\n",
       "[3434310 rows x 8 columns]"
      ]
     },
     "execution_count": 19,
     "metadata": {},
     "output_type": "execute_result"
    }
   ],
   "source": [
    "combined_df"
   ]
  },
  {
   "cell_type": "code",
   "execution_count": 20,
   "id": "cf4ead31-88d5-4492-87d5-b97bfada977e",
   "metadata": {},
   "outputs": [],
   "source": [
    "# Split coordinates into separate columns\n",
    "combined_df['latitude'] = combined_df['coordinates'].str[1]\n",
    "combined_df['longitude'] = combined_df['coordinates'].str[0]"
   ]
  },
  {
   "cell_type": "markdown",
   "id": "8a61d786-6c9e-46e7-9fbe-a4849fcad7c0",
   "metadata": {},
   "source": [
    "remove three columns"
   ]
  },
  {
   "cell_type": "code",
   "execution_count": 21,
   "id": "5e42932f-0c2e-41ee-8df2-8d3680bd7721",
   "metadata": {},
   "outputs": [],
   "source": [
    "combined_df = combined_df.drop(columns=['geom', 'coordinates', 'description_id' ])"
   ]
  },
  {
   "cell_type": "markdown",
   "id": "2c9724c1-bed1-430e-a631-55f2131d8a1e",
   "metadata": {},
   "source": [
    "## Round down time to nearest hour"
   ]
  },
  {
   "cell_type": "code",
   "execution_count": 22,
   "id": "c7312af2-5121-403a-8441-98a9ee5e3c0f",
   "metadata": {},
   "outputs": [],
   "source": [
    "combined_df['date'] = pd.to_datetime(combined_df['obtime' ])"
   ]
  },
  {
   "cell_type": "code",
   "execution_count": 23,
   "id": "0b3b7be4-3669-41b9-a387-e04ef492cede",
   "metadata": {},
   "outputs": [],
   "source": [
    "combined_df['rounded_datetime'] = combined_df['date'].dt.floor('H')\n",
    "\n",
    "#dropping obtime\n",
    "combined_df = combined_df.drop(columns=['obtime'])"
   ]
  },
  {
   "cell_type": "markdown",
   "id": "fef08f59-019e-4c1d-bac9-d256e8d729e6",
   "metadata": {},
   "source": [
    "## Pandas EDA"
   ]
  },
  {
   "cell_type": "code",
   "execution_count": 24,
   "id": "d036c9e4-e1ce-4a89-bcb3-bcd0e4533548",
   "metadata": {},
   "outputs": [
    {
     "name": "stdout",
     "output_type": "stream",
     "text": [
      "id                                int64\n",
      "category                         object\n",
      "description                      object\n",
      "duplicate                          bool\n",
      "latitude                        float64\n",
      "longitude                       float64\n",
      "date                datetime64[ns, UTC]\n",
      "rounded_datetime    datetime64[ns, UTC]\n",
      "dtype: object\n"
     ]
    }
   ],
   "source": [
    "print(combined_df.dtypes)"
   ]
  },
  {
   "cell_type": "markdown",
   "id": "6c08efde-392b-4d38-9ff6-4c5a3c4ea65d",
   "metadata": {},
   "source": [
    "## Export Every day"
   ]
  },
  {
   "cell_type": "code",
   "execution_count": 25,
   "id": "c2c58b75-e4dc-4fa6-987f-271fd458a193",
   "metadata": {},
   "outputs": [],
   "source": [
    "# Group the dataframe by day\n",
    "grouped = combined_df.groupby(combined_df['date'].dt.date)"
   ]
  },
  {
   "cell_type": "code",
   "execution_count": 26,
   "id": "bf222922-e1ba-411b-9678-9ed2f2d5c5a8",
   "metadata": {},
   "outputs": [
    {
     "name": "stderr",
     "output_type": "stream",
     "text": [
      "Exporting data: 100%|██████████| 3427/3427 [00:21<00:00, 160.14day/s]\n"
     ]
    }
   ],
   "source": [
    "# Iterate over the groups and export each day as a separate file\n",
    "for date, group in tqdm(grouped, desc='Exporting data', unit='day'):\n",
    "    filename = f'data_{date}.parquet'  # Define the filename for each day\n",
    "    group.to_parquet(export_path + filename, index=False)  # Export the group to a Parquet file"
   ]
  },
  {
   "cell_type": "markdown",
   "id": "c35e58dd-f50f-4b70-bc50-87ee25cbdb91",
   "metadata": {},
   "source": [
    "## Double check that each day is actually it's own day:"
   ]
  },
  {
   "cell_type": "code",
   "execution_count": 27,
   "id": "8e1d24c2-4de3-40ba-8b2e-0564db6e3fb4",
   "metadata": {},
   "outputs": [],
   "source": [
    "pq_files = glob.glob(export_path + \"*.parquet\")"
   ]
  },
  {
   "cell_type": "code",
   "execution_count": 28,
   "id": "292ab8e1-830f-4749-b3e6-2018859e6840",
   "metadata": {},
   "outputs": [],
   "source": [
    "random_files = random.sample(pq_files, 5)"
   ]
  },
  {
   "cell_type": "code",
   "execution_count": 29,
   "id": "49a21e16-6ae8-401e-8141-d25a80abd592",
   "metadata": {},
   "outputs": [
    {
     "name": "stdout",
     "output_type": "stream",
     "text": [
      "/glade/p/cisl/aiml/ai2es/winter_ptypes/mping_hourly_pq/data_2020-01-19.parquet\n",
      "0   2020-01-19 10:06:45+00:00\n",
      "1   2020-01-19 10:21:40+00:00\n",
      "Name: date, dtype: datetime64[ns, UTC]\n",
      "2418   2020-01-19 00:58:52+00:00\n",
      "2419   2020-01-19 00:59:21+00:00\n",
      "Name: date, dtype: datetime64[ns, UTC]\n",
      "/glade/p/cisl/aiml/ai2es/winter_ptypes/mping_hourly_pq/data_2017-01-15.parquet\n",
      "0   2017-01-15 10:58:52+00:00\n",
      "1   2017-01-15 12:04:56+00:00\n",
      "Name: date, dtype: datetime64[ns, UTC]\n",
      "873   2017-01-15 15:45:00+00:00\n",
      "874   2017-01-15 15:50:26+00:00\n",
      "Name: date, dtype: datetime64[ns, UTC]\n",
      "/glade/p/cisl/aiml/ai2es/winter_ptypes/mping_hourly_pq/data_2018-11-09.parquet\n",
      "0   2018-11-09 14:00:27+00:00\n",
      "1   2018-11-09 14:02:04+00:00\n",
      "Name: date, dtype: datetime64[ns, UTC]\n",
      "2661   2018-11-09 04:53:45+00:00\n",
      "2662   2018-11-09 04:58:14+00:00\n",
      "Name: date, dtype: datetime64[ns, UTC]\n",
      "/glade/p/cisl/aiml/ai2es/winter_ptypes/mping_hourly_pq/data_2017-10-24.parquet\n",
      "0   2017-10-24 01:02:54+00:00\n",
      "1   2017-10-24 01:04:56+00:00\n",
      "Name: date, dtype: datetime64[ns, UTC]\n",
      "433   2017-10-24 19:16:44+00:00\n",
      "434   2017-10-24 19:54:13+00:00\n",
      "Name: date, dtype: datetime64[ns, UTC]\n",
      "/glade/p/cisl/aiml/ai2es/winter_ptypes/mping_hourly_pq/data_2015-05-31.parquet\n",
      "0   2015-05-31 01:01:00+00:00\n",
      "1   2015-05-31 01:05:00+00:00\n",
      "Name: date, dtype: datetime64[ns, UTC]\n",
      "578   2015-05-31 09:37:00+00:00\n",
      "579   2015-05-31 09:52:00+00:00\n",
      "Name: date, dtype: datetime64[ns, UTC]\n"
     ]
    }
   ],
   "source": [
    "for file in random_files:\n",
    "    # Read the file using pd.read_parquet (for Parquet files)\n",
    "    df = pd.read_parquet(file)\n",
    "    # Display the first 3 rows of the DataFrame\n",
    "    print(file)\n",
    "    print(df.date.head(2))\n",
    "    print(df.date.tail(2))"
   ]
  },
  {
   "cell_type": "code",
   "execution_count": null,
   "id": "6db34cdf-c3a6-4322-b538-2498ed81db0c",
   "metadata": {},
   "outputs": [],
   "source": []
  }
 ],
 "metadata": {
  "kernelspec": {
   "display_name": "Python [conda env:.conda-ptype]",
   "language": "python",
   "name": "conda-env-.conda-ptype-py"
  },
  "language_info": {
   "codemirror_mode": {
    "name": "ipython",
    "version": 3
   },
   "file_extension": ".py",
   "mimetype": "text/x-python",
   "name": "python",
   "nbconvert_exporter": "python",
   "pygments_lexer": "ipython3",
   "version": "3.10.12"
  }
 },
 "nbformat": 4,
 "nbformat_minor": 5
}
