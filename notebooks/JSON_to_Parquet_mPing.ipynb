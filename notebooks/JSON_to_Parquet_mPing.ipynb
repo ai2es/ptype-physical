{
 "cells": [
  {
   "cell_type": "markdown",
   "id": "bcd14ea7-be31-49cb-9cea-505c1522abd7",
   "metadata": {},
   "source": [
    "# Python Imports"
   ]
  },
  {
   "cell_type": "markdown",
   "id": "5fc4b1ac-b600-42af-ada9-85b929a7d042",
   "metadata": {},
   "source": [
    "Code and errors written by Thomas Martin "
   ]
  },
  {
   "cell_type": "code",
   "execution_count": 1,
   "id": "4bd9bab7-5ffa-433a-b5e9-876cf7b06d7e",
   "metadata": {},
   "outputs": [],
   "source": [
    "import pandas as pd\n",
    "import numpy as np\n",
    "import random\n",
    "\n",
    "from tqdm import tqdm\n",
    "import glob"
   ]
  },
  {
   "cell_type": "markdown",
   "id": "f9ae4dbf-b491-435a-a386-b9acff883fa0",
   "metadata": {},
   "source": [
    "### File Paths:"
   ]
  },
  {
   "cell_type": "code",
   "execution_count": 2,
   "id": "ec14a167-faed-4834-9707-97db60ab7292",
   "metadata": {},
   "outputs": [],
   "source": [
    "import_path = '/glade/p/cisl/aiml/ai2es/winter_ptypes/mping_hourly/'"
   ]
  },
  {
   "cell_type": "code",
   "execution_count": 3,
   "id": "4c015eb6-cd20-409d-9057-533a4e429331",
   "metadata": {},
   "outputs": [],
   "source": [
    "export_path = '/glade/p/cisl/aiml/ai2es/winter_ptypes/mping_hourly_pq/'"
   ]
  },
  {
   "cell_type": "markdown",
   "id": "dba85ac1-c14b-41f5-a55b-1bf6642e8370",
   "metadata": {},
   "source": [
    "Getting a list of JSON files:"
   ]
  },
  {
   "cell_type": "code",
   "execution_count": 4,
   "id": "63334aaf-92fb-4332-8c93-6877efdf5ee2",
   "metadata": {},
   "outputs": [],
   "source": [
    "json_files = glob.glob(import_path + \"*.json\")"
   ]
  },
  {
   "cell_type": "code",
   "execution_count": 5,
   "id": "563aa350-b591-4374-a7ac-0ff5989cf2ed",
   "metadata": {},
   "outputs": [
    {
     "data": {
      "text/plain": [
       "83232"
      ]
     },
     "execution_count": 5,
     "metadata": {},
     "output_type": "execute_result"
    }
   ],
   "source": [
    "len(json_files)"
   ]
  },
  {
   "cell_type": "markdown",
   "id": "7862714a-9b83-4979-a966-34ceb8a40f5f",
   "metadata": {},
   "source": [
    "## Converting JSON files into dataframes"
   ]
  },
  {
   "cell_type": "code",
   "execution_count": 6,
   "id": "d297e34f-f2c3-47df-93d4-0861d1f741fa",
   "metadata": {},
   "outputs": [
    {
     "name": "stderr",
     "output_type": "stream",
     "text": [
      "100%|██████████| 83232/83232 [03:13<00:00, 429.31it/s]"
     ]
    },
    {
     "name": "stdout",
     "output_type": "stream",
     "text": [
      "CPU times: user 3min 5s, sys: 6.22 s, total: 3min 11s\n",
      "Wall time: 3min 13s\n"
     ]
    },
    {
     "name": "stderr",
     "output_type": "stream",
     "text": [
      "\n"
     ]
    }
   ],
   "source": [
    "%%time\n",
    "\n",
    "dfs = []\n",
    "\n",
    "for file in tqdm(json_files):\n",
    "    try:\n",
    "        if not file.endswith('.json'):\n",
    "            raise TypeError(f\"File '{file}' is not a JSON file.\")\n",
    "        df = pd.read_json(file)\n",
    "        dfs.append(df)\n",
    "    except TypeError as te:\n",
    "        print(te)\n",
    "    except Exception as e:\n",
    "        print(f\"Error reading file '{file}': {str(e)}\")"
   ]
  },
  {
   "cell_type": "code",
   "execution_count": 7,
   "id": "402f3054-79a4-4cbe-858a-adcfcf41fa69",
   "metadata": {},
   "outputs": [],
   "source": [
    "combined_df = pd.concat(dfs, ignore_index=True)"
   ]
  },
  {
   "cell_type": "code",
   "execution_count": 8,
   "id": "f577d249-e8cd-406c-895d-9d8c589056c1",
   "metadata": {},
   "outputs": [],
   "source": [
    "mem = combined_df.memory_usage()"
   ]
  },
  {
   "cell_type": "code",
   "execution_count": 9,
   "id": "0d537a66-1b2f-4b3a-a391-748bcba5d449",
   "metadata": {},
   "outputs": [
    {
     "data": {
      "text/plain": [
       "pandas.core.series.Series"
      ]
     },
     "execution_count": 9,
     "metadata": {},
     "output_type": "execute_result"
    }
   ],
   "source": [
    "type(mem)"
   ]
  },
  {
   "cell_type": "markdown",
   "id": "3b05eb19-5482-40b3-8da6-40d3d4e2b251",
   "metadata": {},
   "source": [
    "This math right?"
   ]
  },
  {
   "cell_type": "code",
   "execution_count": 10,
   "id": "7a9e8823-a978-45dd-9e35-9f50b088041f",
   "metadata": {},
   "outputs": [
    {
     "name": "stdout",
     "output_type": "stream",
     "text": [
      "Megabytes of dataframe 109.83704\n"
     ]
    }
   ],
   "source": [
    "print('Megabytes of dataframe', mem.sum() / 1000000 )"
   ]
  },
  {
   "cell_type": "markdown",
   "id": "29849e4b-fdc5-47a0-b667-e35d7f8d4e38",
   "metadata": {},
   "source": [
    "## Precip Description"
   ]
  },
  {
   "cell_type": "code",
   "execution_count": 11,
   "id": "ab469ac6-6951-42a0-9582-6876ae0358f2",
   "metadata": {},
   "outputs": [
    {
     "data": {
      "text/plain": [
       "(2288269, 6)"
      ]
     },
     "execution_count": 11,
     "metadata": {},
     "output_type": "execute_result"
    }
   ],
   "source": [
    "combined_df.shape"
   ]
  },
  {
   "cell_type": "code",
   "execution_count": 12,
   "id": "59b6908f-49bc-4c5a-9f61-e718181a2627",
   "metadata": {},
   "outputs": [
    {
     "data": {
      "text/plain": [
       "array(['Snow and/or Graupel', 'Rain', 'Ice Pellets/Sleet',\n",
       "       'Freezing Drizzle', 'Mixed Ice Pellets and Snow', 'Freezing Rain',\n",
       "       'Drizzle', 'Mixed Freezing Rain and Ice Pellets',\n",
       "       'Mixed Rain and Snow', 'Mixed Rain and Ice Pellets', 'Graupel'],\n",
       "      dtype=object)"
      ]
     },
     "execution_count": 12,
     "metadata": {},
     "output_type": "execute_result"
    }
   ],
   "source": [
    "combined_df.description.unique()"
   ]
  },
  {
   "cell_type": "code",
   "execution_count": 13,
   "id": "50fb1514-6857-4ffe-96d0-c9ba22366c6d",
   "metadata": {},
   "outputs": [],
   "source": [
    "my_dict = {\n",
    "    'value_to_match': ['Mixed Ice Pellets and Snow', 'Mixed Freezing Rain and Ice Pellets', 'Mixed Rain and Snow', 'Mixed Rain and Ice Pellets'],\n",
    "    'new_value':      ['Snow', 'Ice Pellets', 'Snow', 'Ice Pellets'],\n",
    "    'final_replace':   ['Ice Pellets', 'Freezing Rain', 'Rain', 'Rain']\n",
    "}\n",
    "\n",
    "column_to_match = 'description'"
   ]
  },
  {
   "cell_type": "code",
   "execution_count": 14,
   "id": "67b3c6c5-5d74-45dc-a163-cd7b72ccf75b",
   "metadata": {},
   "outputs": [],
   "source": [
    "for num in range(len(my_dict['value_to_match'])):\n",
    "\n",
    "    row_to_copy = combined_df.loc[combined_df[column_to_match] == my_dict['value_to_match'][num]].copy()\n",
    "    row_to_copy[column_to_match] = my_dict['new_value'][num]\n",
    "    row_to_copy.head(3)\n",
    "    combined_df = pd.concat([combined_df, row_to_copy]) # this appends that dataframe to the original\n",
    "    combined_df[column_to_match] = combined_df[column_to_match].replace(my_dict['value_to_match'][num], my_dict['final_replace'][num])\n",
    "    "
   ]
  },
  {
   "cell_type": "code",
   "execution_count": 15,
   "id": "c2347a99-0ec8-4c05-8e16-abcfc878ead3",
   "metadata": {},
   "outputs": [],
   "source": [
    "replacement_values = {'Drizzle': 'Rain', \n",
    "                      'Freezing Drizzle': 'Freezing Rain', \n",
    "                      'Graupel': 'Snow',\n",
    "                      'Snow and/or Graupel':'Snow'}\n",
    "\n",
    "\n",
    "combined_df[column_to_match].replace(replacement_values, inplace=True)"
   ]
  },
  {
   "cell_type": "code",
   "execution_count": 16,
   "id": "479797cf-5df1-4c04-bb71-33a48dd52ae7",
   "metadata": {},
   "outputs": [
    {
     "data": {
      "text/plain": [
       "array(['Snow', 'Rain', 'Ice Pellets/Sleet', 'Freezing Rain',\n",
       "       'Ice Pellets'], dtype=object)"
      ]
     },
     "execution_count": 16,
     "metadata": {},
     "output_type": "execute_result"
    }
   ],
   "source": [
    "combined_df.description.unique()"
   ]
  },
  {
   "cell_type": "code",
   "execution_count": 17,
   "id": "9adc335d-13d9-4c23-8a3a-2b5b8c8e253f",
   "metadata": {},
   "outputs": [
    {
     "data": {
      "text/plain": [
       "(2432000, 6)"
      ]
     },
     "execution_count": 17,
     "metadata": {},
     "output_type": "execute_result"
    }
   ],
   "source": [
    "combined_df.shape"
   ]
  },
  {
   "cell_type": "markdown",
   "id": "ee63141d-7504-4a2d-b309-06b7fba0e03e",
   "metadata": {},
   "source": [
    "This would be the place to adjust/fix your precip choices."
   ]
  },
  {
   "cell_type": "markdown",
   "id": "c6cac8de-a95b-48bf-a09f-a9fc62a9402f",
   "metadata": {},
   "source": [
    "## Coordinate Extraction"
   ]
  },
  {
   "cell_type": "code",
   "execution_count": 18,
   "id": "72f0097f-e152-46ba-bb17-dcfb32b94a09",
   "metadata": {},
   "outputs": [],
   "source": [
    "combined_df['coordinates'] = combined_df['geom'].apply(lambda x: x['coordinates'])"
   ]
  },
  {
   "cell_type": "code",
   "execution_count": 19,
   "id": "820f5a20-b903-41d8-9274-768f8f695551",
   "metadata": {},
   "outputs": [
    {
     "data": {
      "text/html": [
       "<div>\n",
       "<style scoped>\n",
       "    .dataframe tbody tr th:only-of-type {\n",
       "        vertical-align: middle;\n",
       "    }\n",
       "\n",
       "    .dataframe tbody tr th {\n",
       "        vertical-align: top;\n",
       "    }\n",
       "\n",
       "    .dataframe thead th {\n",
       "        text-align: right;\n",
       "    }\n",
       "</style>\n",
       "<table border=\"1\" class=\"dataframe\">\n",
       "  <thead>\n",
       "    <tr style=\"text-align: right;\">\n",
       "      <th></th>\n",
       "      <th>id</th>\n",
       "      <th>obtime</th>\n",
       "      <th>category</th>\n",
       "      <th>description</th>\n",
       "      <th>description_id</th>\n",
       "      <th>geom</th>\n",
       "      <th>coordinates</th>\n",
       "    </tr>\n",
       "  </thead>\n",
       "  <tbody>\n",
       "    <tr>\n",
       "      <th>0</th>\n",
       "      <td>1128052</td>\n",
       "      <td>2016-11-21T18:05:08Z</td>\n",
       "      <td>Rain/Snow</td>\n",
       "      <td>Snow</td>\n",
       "      <td>8</td>\n",
       "      <td>{'type': 'Point', 'coordinates': [-72.53477752...</td>\n",
       "      <td>[-72.53477752710911, 41.78177793818802]</td>\n",
       "    </tr>\n",
       "    <tr>\n",
       "      <th>1</th>\n",
       "      <td>1128055</td>\n",
       "      <td>2016-11-21T18:14:57Z</td>\n",
       "      <td>Rain/Snow</td>\n",
       "      <td>Snow</td>\n",
       "      <td>8</td>\n",
       "      <td>{'type': 'Point', 'coordinates': [-74.0841645,...</td>\n",
       "      <td>[-74.0841645, 40.9787401]</td>\n",
       "    </tr>\n",
       "    <tr>\n",
       "      <th>2</th>\n",
       "      <td>1128056</td>\n",
       "      <td>2016-11-21T18:18:31Z</td>\n",
       "      <td>Rain/Snow</td>\n",
       "      <td>Snow</td>\n",
       "      <td>8</td>\n",
       "      <td>{'type': 'Point', 'coordinates': [-77.63962137...</td>\n",
       "      <td>[-77.63962137520093, 43.2546242745996]</td>\n",
       "    </tr>\n",
       "    <tr>\n",
       "      <th>3</th>\n",
       "      <td>1128057</td>\n",
       "      <td>2016-11-21T18:25:43Z</td>\n",
       "      <td>Rain/Snow</td>\n",
       "      <td>Snow</td>\n",
       "      <td>8</td>\n",
       "      <td>{'type': 'Point', 'coordinates': [-72.6836217,...</td>\n",
       "      <td>[-72.6836217, 41.7416863]</td>\n",
       "    </tr>\n",
       "    <tr>\n",
       "      <th>4</th>\n",
       "      <td>1128058</td>\n",
       "      <td>2016-11-21T18:29:49Z</td>\n",
       "      <td>Rain/Snow</td>\n",
       "      <td>Snow</td>\n",
       "      <td>8</td>\n",
       "      <td>{'type': 'Point', 'coordinates': [-73.9366576,...</td>\n",
       "      <td>[-73.9366576, 41.6538321]</td>\n",
       "    </tr>\n",
       "    <tr>\n",
       "      <th>...</th>\n",
       "      <td>...</td>\n",
       "      <td>...</td>\n",
       "      <td>...</td>\n",
       "      <td>...</td>\n",
       "      <td>...</td>\n",
       "      <td>...</td>\n",
       "      <td>...</td>\n",
       "    </tr>\n",
       "    <tr>\n",
       "      <th>2287963</th>\n",
       "      <td>2284801</td>\n",
       "      <td>2020-02-04T20:38:06Z</td>\n",
       "      <td>Rain/Snow</td>\n",
       "      <td>Ice Pellets</td>\n",
       "      <td>11</td>\n",
       "      <td>{'type': 'Point', 'coordinates': [-81.80157678...</td>\n",
       "      <td>[-81.80157678244151, 41.45023211277623]</td>\n",
       "    </tr>\n",
       "    <tr>\n",
       "      <th>2287970</th>\n",
       "      <td>2284809</td>\n",
       "      <td>2020-02-04T20:41:17Z</td>\n",
       "      <td>Rain/Snow</td>\n",
       "      <td>Ice Pellets</td>\n",
       "      <td>11</td>\n",
       "      <td>{'type': 'Point', 'coordinates': [-81.81254732...</td>\n",
       "      <td>[-81.81254732179195, 41.43437502772101]</td>\n",
       "    </tr>\n",
       "    <tr>\n",
       "      <th>2287988</th>\n",
       "      <td>2284828</td>\n",
       "      <td>2020-02-04T20:53:43Z</td>\n",
       "      <td>Rain/Snow</td>\n",
       "      <td>Ice Pellets</td>\n",
       "      <td>11</td>\n",
       "      <td>{'type': 'Point', 'coordinates': [-122.6487560...</td>\n",
       "      <td>[-122.64875600512225, 47.55681921738768]</td>\n",
       "    </tr>\n",
       "    <tr>\n",
       "      <th>2288076</th>\n",
       "      <td>1851566</td>\n",
       "      <td>2019-01-28T13:57:41Z</td>\n",
       "      <td>Rain/Snow</td>\n",
       "      <td>Ice Pellets</td>\n",
       "      <td>11</td>\n",
       "      <td>{'type': 'Point', 'coordinates': [-86.39447498...</td>\n",
       "      <td>[-86.39447498367167, 39.52435935741578]</td>\n",
       "    </tr>\n",
       "    <tr>\n",
       "      <th>2288255</th>\n",
       "      <td>2904381</td>\n",
       "      <td>2021-12-04T18:13:41Z</td>\n",
       "      <td>Rain/Snow</td>\n",
       "      <td>Ice Pellets</td>\n",
       "      <td>11</td>\n",
       "      <td>{'type': 'Point', 'coordinates': [-76.11571669...</td>\n",
       "      <td>[-76.1157166958564, 43.04125672675952]</td>\n",
       "    </tr>\n",
       "  </tbody>\n",
       "</table>\n",
       "<p>2432000 rows × 7 columns</p>\n",
       "</div>"
      ],
      "text/plain": [
       "              id                obtime   category  description  \\\n",
       "0        1128052  2016-11-21T18:05:08Z  Rain/Snow         Snow   \n",
       "1        1128055  2016-11-21T18:14:57Z  Rain/Snow         Snow   \n",
       "2        1128056  2016-11-21T18:18:31Z  Rain/Snow         Snow   \n",
       "3        1128057  2016-11-21T18:25:43Z  Rain/Snow         Snow   \n",
       "4        1128058  2016-11-21T18:29:49Z  Rain/Snow         Snow   \n",
       "...          ...                   ...        ...          ...   \n",
       "2287963  2284801  2020-02-04T20:38:06Z  Rain/Snow  Ice Pellets   \n",
       "2287970  2284809  2020-02-04T20:41:17Z  Rain/Snow  Ice Pellets   \n",
       "2287988  2284828  2020-02-04T20:53:43Z  Rain/Snow  Ice Pellets   \n",
       "2288076  1851566  2019-01-28T13:57:41Z  Rain/Snow  Ice Pellets   \n",
       "2288255  2904381  2021-12-04T18:13:41Z  Rain/Snow  Ice Pellets   \n",
       "\n",
       "         description_id                                               geom  \\\n",
       "0                     8  {'type': 'Point', 'coordinates': [-72.53477752...   \n",
       "1                     8  {'type': 'Point', 'coordinates': [-74.0841645,...   \n",
       "2                     8  {'type': 'Point', 'coordinates': [-77.63962137...   \n",
       "3                     8  {'type': 'Point', 'coordinates': [-72.6836217,...   \n",
       "4                     8  {'type': 'Point', 'coordinates': [-73.9366576,...   \n",
       "...                 ...                                                ...   \n",
       "2287963              11  {'type': 'Point', 'coordinates': [-81.80157678...   \n",
       "2287970              11  {'type': 'Point', 'coordinates': [-81.81254732...   \n",
       "2287988              11  {'type': 'Point', 'coordinates': [-122.6487560...   \n",
       "2288076              11  {'type': 'Point', 'coordinates': [-86.39447498...   \n",
       "2288255              11  {'type': 'Point', 'coordinates': [-76.11571669...   \n",
       "\n",
       "                                      coordinates  \n",
       "0         [-72.53477752710911, 41.78177793818802]  \n",
       "1                       [-74.0841645, 40.9787401]  \n",
       "2          [-77.63962137520093, 43.2546242745996]  \n",
       "3                       [-72.6836217, 41.7416863]  \n",
       "4                       [-73.9366576, 41.6538321]  \n",
       "...                                           ...  \n",
       "2287963   [-81.80157678244151, 41.45023211277623]  \n",
       "2287970   [-81.81254732179195, 41.43437502772101]  \n",
       "2287988  [-122.64875600512225, 47.55681921738768]  \n",
       "2288076   [-86.39447498367167, 39.52435935741578]  \n",
       "2288255    [-76.1157166958564, 43.04125672675952]  \n",
       "\n",
       "[2432000 rows x 7 columns]"
      ]
     },
     "execution_count": 19,
     "metadata": {},
     "output_type": "execute_result"
    }
   ],
   "source": [
    "combined_df"
   ]
  },
  {
   "cell_type": "code",
   "execution_count": 20,
   "id": "cf4ead31-88d5-4492-87d5-b97bfada977e",
   "metadata": {},
   "outputs": [],
   "source": [
    "# Split coordinates into separate columns\n",
    "combined_df['latitude'] = combined_df['coordinates'].str[1]\n",
    "combined_df['longitude'] = combined_df['coordinates'].str[0]"
   ]
  },
  {
   "cell_type": "markdown",
   "id": "8a61d786-6c9e-46e7-9fbe-a4849fcad7c0",
   "metadata": {},
   "source": [
    "remove three columns"
   ]
  },
  {
   "cell_type": "code",
   "execution_count": 21,
   "id": "5e42932f-0c2e-41ee-8df2-8d3680bd7721",
   "metadata": {},
   "outputs": [],
   "source": [
    "combined_df = combined_df.drop(columns=['geom', 'coordinates', 'description_id' ])"
   ]
  },
  {
   "cell_type": "markdown",
   "id": "2c9724c1-bed1-430e-a631-55f2131d8a1e",
   "metadata": {},
   "source": [
    "## Round down time to nearest hour"
   ]
  },
  {
   "cell_type": "code",
   "execution_count": 22,
   "id": "c7312af2-5121-403a-8441-98a9ee5e3c0f",
   "metadata": {},
   "outputs": [],
   "source": [
    "combined_df['date'] = pd.to_datetime(combined_df['obtime' ])"
   ]
  },
  {
   "cell_type": "code",
   "execution_count": 23,
   "id": "0b3b7be4-3669-41b9-a387-e04ef492cede",
   "metadata": {},
   "outputs": [],
   "source": [
    "combined_df['rounded_datetime'] = combined_df['date'].dt.floor('H')\n",
    "\n",
    "#dropping obtime\n",
    "combined_df = combined_df.drop(columns=['obtime'])"
   ]
  },
  {
   "cell_type": "markdown",
   "id": "fef08f59-019e-4c1d-bac9-d256e8d729e6",
   "metadata": {},
   "source": [
    "## Pandas EDA"
   ]
  },
  {
   "cell_type": "code",
   "execution_count": 24,
   "id": "d036c9e4-e1ce-4a89-bcb3-bcd0e4533548",
   "metadata": {},
   "outputs": [
    {
     "name": "stdout",
     "output_type": "stream",
     "text": [
      "id                                int64\n",
      "category                         object\n",
      "description                      object\n",
      "latitude                        float64\n",
      "longitude                       float64\n",
      "date                datetime64[ns, UTC]\n",
      "rounded_datetime    datetime64[ns, UTC]\n",
      "dtype: object\n"
     ]
    }
   ],
   "source": [
    "print(combined_df.dtypes)"
   ]
  },
  {
   "cell_type": "markdown",
   "id": "6c08efde-392b-4d38-9ff6-4c5a3c4ea65d",
   "metadata": {},
   "source": [
    "## Export Every day"
   ]
  },
  {
   "cell_type": "code",
   "execution_count": 25,
   "id": "c2c58b75-e4dc-4fa6-987f-271fd458a193",
   "metadata": {},
   "outputs": [],
   "source": [
    "# Group the dataframe by day\n",
    "grouped = combined_df.groupby(combined_df['date'].dt.date)"
   ]
  },
  {
   "cell_type": "code",
   "execution_count": 26,
   "id": "bf222922-e1ba-411b-9678-9ed2f2d5c5a8",
   "metadata": {},
   "outputs": [
    {
     "name": "stderr",
     "output_type": "stream",
     "text": [
      "Exporting data: 100%|██████████| 3427/3427 [00:20<00:00, 169.09day/s]\n"
     ]
    }
   ],
   "source": [
    "# Iterate over the groups and export each day as a separate file\n",
    "for date, group in tqdm(grouped, desc='Exporting data', unit='day'):\n",
    "    filename = f'data_{date}.parquet'  # Define the filename for each day\n",
    "    group.to_parquet(export_path + filename, index=False)  # Export the group to a Parquet file"
   ]
  },
  {
   "cell_type": "markdown",
   "id": "c35e58dd-f50f-4b70-bc50-87ee25cbdb91",
   "metadata": {},
   "source": [
    "## Double check that each day is actually it's own day:"
   ]
  },
  {
   "cell_type": "code",
   "execution_count": 27,
   "id": "8e1d24c2-4de3-40ba-8b2e-0564db6e3fb4",
   "metadata": {},
   "outputs": [],
   "source": [
    "pq_files = glob.glob(export_path + \"*.parquet\")"
   ]
  },
  {
   "cell_type": "code",
   "execution_count": 28,
   "id": "292ab8e1-830f-4749-b3e6-2018859e6840",
   "metadata": {},
   "outputs": [],
   "source": [
    "random_files = random.sample(pq_files, 5)"
   ]
  },
  {
   "cell_type": "code",
   "execution_count": 29,
   "id": "49a21e16-6ae8-401e-8141-d25a80abd592",
   "metadata": {},
   "outputs": [
    {
     "name": "stdout",
     "output_type": "stream",
     "text": [
      "/glade/p/cisl/aiml/ai2es/winter_ptypes/mping_hourly_pq/data_2021-05-15.parquet\n",
      "0   2021-05-15 13:11:14+00:00\n",
      "1   2021-05-15 13:17:26+00:00\n",
      "Name: date, dtype: datetime64[ns, UTC]\n",
      "367   2021-05-15 06:49:54+00:00\n",
      "368   2021-05-15 01:09:21+00:00\n",
      "Name: date, dtype: datetime64[ns, UTC]\n",
      "/glade/p/cisl/aiml/ai2es/winter_ptypes/mping_hourly_pq/data_2014-02-01.parquet\n",
      "0   2014-02-01 03:01:00+00:00\n",
      "1   2014-02-01 03:02:00+00:00\n",
      "Name: date, dtype: datetime64[ns, UTC]\n",
      "925   2014-02-01 14:18:00+00:00\n",
      "926   2014-02-01 09:11:00+00:00\n",
      "Name: date, dtype: datetime64[ns, UTC]\n",
      "/glade/p/cisl/aiml/ai2es/winter_ptypes/mping_hourly_pq/data_2014-12-27.parquet\n",
      "0   2014-12-27 05:01:00+00:00\n",
      "1   2014-12-27 05:03:00+00:00\n",
      "Name: date, dtype: datetime64[ns, UTC]\n",
      "950   2014-12-27 20:40:00+00:00\n",
      "951   2014-12-27 20:59:00+00:00\n",
      "Name: date, dtype: datetime64[ns, UTC]\n",
      "/glade/p/cisl/aiml/ai2es/winter_ptypes/mping_hourly_pq/data_2022-02-02.parquet\n",
      "0   2022-02-02 07:00:32+00:00\n",
      "1   2022-02-02 07:00:38+00:00\n",
      "Name: date, dtype: datetime64[ns, UTC]\n",
      "5860   2022-02-02 17:33:04+00:00\n",
      "5861   2022-02-02 17:48:07+00:00\n",
      "Name: date, dtype: datetime64[ns, UTC]\n",
      "/glade/p/cisl/aiml/ai2es/winter_ptypes/mping_hourly_pq/data_2022-06-28.parquet\n",
      "0   2022-06-28 15:03:53+00:00\n",
      "1   2022-06-28 15:12:03+00:00\n",
      "Name: date, dtype: datetime64[ns, UTC]\n",
      "315   2022-06-28 17:55:16+00:00\n",
      "316   2022-06-28 17:55:47+00:00\n",
      "Name: date, dtype: datetime64[ns, UTC]\n"
     ]
    }
   ],
   "source": [
    "for file in random_files:\n",
    "    # Read the file using pd.read_parquet (for Parquet files)\n",
    "    df = pd.read_parquet(file)\n",
    "    # Display the first 3 rows of the DataFrame\n",
    "    print(file)\n",
    "    print(df.date.head(2))\n",
    "    print(df.date.tail(2))"
   ]
  }
 ],
 "metadata": {
  "kernelspec": {
   "display_name": "Python [conda env:.conda-ptype2]",
   "language": "python",
   "name": "conda-env-.conda-ptype2-py"
  },
  "language_info": {
   "codemirror_mode": {
    "name": "ipython",
    "version": 3
   },
   "file_extension": ".py",
   "mimetype": "text/x-python",
   "name": "python",
   "nbconvert_exporter": "python",
   "pygments_lexer": "ipython3",
   "version": "3.10.12"
  }
 },
 "nbformat": 4,
 "nbformat_minor": 5
}
