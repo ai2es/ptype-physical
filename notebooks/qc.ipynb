{
 "cells": [
  {
   "cell_type": "code",
   "execution_count": null,
   "id": "bf0ed290-eb68-41dc-b583-b4b867c4e9c6",
   "metadata": {},
   "outputs": [],
   "source": [
    "import os\n",
    "import tqdm\n",
    "import metpy.calc\n",
    "from metpy.units import units\n",
    "import numpy as np\n",
    "import xarray as xr\n",
    "import matplotlib.pyplot as plt\n",
    "import pandas as pd\n",
    "import geopandas as gpd\n",
    "from shapely.geometry import Point\n",
    "import cartopy.io.shapereader as shpreader\n",
    "\n",
    "from cartopy import crs as ccrs\n",
    "from cartopy import feature as cfeature\n",
    "from utils import read_config\n",
    "from plotting import ptype_hist\n",
    "from qc import wetbulb_filter"
   ]
  },
  {
   "cell_type": "code",
   "execution_count": null,
   "id": "c3dae1a1-193b-4a9a-ac46-341b1a2368f7",
   "metadata": {},
   "outputs": [],
   "source": [
    "config = 'config/mPING.yml'\n",
    "# config = 'config/mPING_hourafter.yml'\n",
    "\n",
    "conf = read_config(config)\n",
    "data = pd.read_parquet(conf['data_path'])\n",
    "dataset = conf['dataset']\n",
    "image_path = conf['image_path']"
   ]
  },
  {
   "cell_type": "markdown",
   "id": "effa426a-4c7f-474d-8034-15e38acd7762",
   "metadata": {
    "tags": []
   },
   "source": [
    "## Add Lat-Lon to data"
   ]
  },
  {
   "cell_type": "code",
   "execution_count": null,
   "id": "248471b1-d421-4eae-9ec3-6e1952a865e6",
   "metadata": {},
   "outputs": [],
   "source": [
    "def add_latlon(df, date=\"20190202\", hour=\"14\", path_rap=\"/glade/p/cisl/aiml/conv_risk_intel/rap_ncei_height\"):\n",
    "    '''\n",
    "    Add latitude and longitude columns to the mPING data.\n",
    "    '''\n",
    "    x = df['x_m'].values      #get x and y indices from data\n",
    "    y = df['y_m'].values\n",
    "    total_pts = df.shape[0]\n",
    "    \n",
    "    rap_data = xr.open_dataset(os.path.join(path_rap, date, f\"rap_130_{date}_{hour}00_000.nc\")) #open example RAP dataset\n",
    "    grid_lons = np.subtract(rap_data.longitude.values, 360)\n",
    "    grid_lats = rap_data.latitude.values\n",
    "    \n",
    "    lats = []\n",
    "    lons = []\n",
    "    for i in range(total_pts): #calculate lat and lon points based on the indices\n",
    "        lats.append(grid_lats[y[i], x[i]])\n",
    "        lons.append(grid_lons[y[i], x[i]])\n",
    "    \n",
    "    df['lon'], df['lat'] = np.array(lons), np.array(lats)\n",
    "    \n",
    "    return df"
   ]
  },
  {
   "cell_type": "code",
   "execution_count": null,
   "id": "cd09c0bd-99fd-40c3-bafb-4aae005017a9",
   "metadata": {},
   "outputs": [],
   "source": [
    "data = add_latlon(data)"
   ]
  },
  {
   "cell_type": "markdown",
   "id": "b6e117fe-7648-4fa6-b9ff-bb8f07acb060",
   "metadata": {
    "tags": []
   },
   "source": [
    "### Plot"
   ]
  },
  {
   "cell_type": "code",
   "execution_count": null,
   "id": "71ec8887-e278-472c-b976-db5c073bb144",
   "metadata": {},
   "outputs": [],
   "source": [
    "projection = ccrs.LambertConformal(central_longitude=-95,\n",
    "                                  central_latitude=25)\n",
    "res = '50m'  #'10m' is another option\n",
    "fig, ax = plt.subplots(\n",
    "    nrows=1, \n",
    "    ncols=1,\n",
    "    figsize=(12,7),\n",
    "    constrained_layout=True, \n",
    "    subplot_kw={'projection': projection})\n",
    "\n",
    "lonW = -125\n",
    "lonE = -63\n",
    "latS = 20\n",
    "latN = 50\n",
    "ax.set_extent([lonW, lonE, latS, latN])\n",
    "ax.add_feature(cfeature.LAND.with_scale(res))\n",
    "ax.add_feature(cfeature.OCEAN.with_scale(res))\n",
    "ax.add_feature(cfeature.COASTLINE.with_scale(res))\n",
    "ax.add_feature(cfeature.LAKES.with_scale(res), alpha=0.5)\n",
    "ax.add_feature(cfeature.STATES.with_scale(res))\n",
    "\n",
    "ax.scatter(data['lon'], \n",
    "           data['lat'], \n",
    "           c='k', \n",
    "           s=10,\n",
    "           alpha=1,\n",
    "           transform=ccrs.PlateCarree(),\n",
    "           label=f\"All data n={data['lon'].shape[0]}\")\n",
    "\n",
    "plt.legend(markerscale=2, fontsize=16, loc=\"lower right\")\n",
    "plt.title(f\"{dataset}\", fontsize=22)\n",
    "plt.savefig(f'{image_path}all_data_simple_map.png', dpi=300, bbox_inches='tight')\n",
    "plt.show()"
   ]
  },
  {
   "cell_type": "markdown",
   "id": "09f30704-443c-4771-8ca7-116ee56ecfca",
   "metadata": {
    "tags": []
   },
   "source": [
    "## Continental US filter\n",
    "\n",
    "Only keep points within the continental United States."
   ]
  },
  {
   "cell_type": "code",
   "execution_count": null,
   "id": "afee0e5e-5aec-435c-95b3-081125a6e997",
   "metadata": {},
   "outputs": [],
   "source": [
    "def usa_mask(df):\n",
    "    '''\n",
    "    Function that flags points that are in the continental United States.\n",
    "    '''\n",
    "    df_lons, df_lats = df['lon'].values, df['lat'].values\n",
    "    total_pts = df.shape[0]\n",
    "    points = np.array([Point(lon, lat) for lon, lat in zip(df_lons, df_lats)]) #create list of shapely points\n",
    "    \n",
    "    shapefile = shpreader.natural_earth(resolution='110m',                \n",
    "                                       category='cultural',\n",
    "                                       name='admin_0_countries')   #open natural earth shapefile\n",
    "    geo_df = gpd.read_file(shapefile)\n",
    "    cont_usa = geo_df[geo_df['ADMIN'] == 'United States of America']['geometry'].values[0] #extract continental US polygon\n",
    "    cont_usa = list(cont_usa.geoms)[0]\n",
    "    \n",
    "    mask = np.zeros(total_pts)\n",
    "    \n",
    "    for i in tqdm.tqdm(range(total_pts)):  #flip 0's to 1's if the point is within the US\n",
    "        if cont_usa.contains(points[i]):\n",
    "            mask[i] = 1\n",
    "            \n",
    "    df['usa'] = mask\n",
    "        \n",
    "    return df"
   ]
  },
  {
   "cell_type": "code",
   "execution_count": null,
   "id": "761d9904-c43e-4ad9-947a-33616fdc0f75",
   "metadata": {},
   "outputs": [],
   "source": [
    "data = usa_mask(data)"
   ]
  },
  {
   "cell_type": "markdown",
   "id": "019b165f-c0ba-488a-8b76-4ba71a862d11",
   "metadata": {
    "tags": []
   },
   "source": [
    "### Plot"
   ]
  },
  {
   "cell_type": "code",
   "execution_count": null,
   "id": "1a2893e3-c1e2-4171-b385-17a076fe6902",
   "metadata": {},
   "outputs": [],
   "source": [
    "projection = ccrs.LambertConformal(central_longitude=-95,\n",
    "                                  central_latitude=25)\n",
    "res = '50m'  #'10m' is another option\n",
    "fig, ax = plt.subplots(\n",
    "    nrows=1, \n",
    "    ncols=1,\n",
    "    figsize=(12,7),\n",
    "    constrained_layout=True, \n",
    "    subplot_kw={'projection': projection})\n",
    "\n",
    "lonW = -125\n",
    "lonE = -63\n",
    "latS = 20\n",
    "latN = 50\n",
    "ax.set_extent([lonW, lonE, latS, latN])\n",
    "ax.add_feature(cfeature.LAND.with_scale(res))\n",
    "ax.add_feature(cfeature.OCEAN.with_scale(res))\n",
    "ax.add_feature(cfeature.COASTLINE.with_scale(res))\n",
    "ax.add_feature(cfeature.LAKES.with_scale(res), alpha=0.5)\n",
    "ax.add_feature(cfeature.STATES.with_scale(res))\n",
    "\n",
    "ax.scatter(data['lon'][data['usa'] == 1], \n",
    "           data['lat'][data['usa'] == 1], \n",
    "           c='k', \n",
    "           s=10,\n",
    "           alpha=1,\n",
    "           transform=ccrs.PlateCarree(),\n",
    "           label=f\"All data n={data['lon'][data['usa'] == 1].shape[0]}\")\n",
    "\n",
    "plt.legend(markerscale=2, fontsize=16, loc=\"lower right\")\n",
    "plt.title(f\"{dataset}\", fontsize=22)\n",
    "plt.savefig(f'{image_path}usa_pts_example.png', dpi=300, bbox_inches='tight')\n",
    "plt.show()"
   ]
  },
  {
   "cell_type": "markdown",
   "id": "5dcb3210-bb7b-43da-8ef0-d9ed3dead65e",
   "metadata": {
    "tags": []
   },
   "source": [
    "## Precipitation Filter\n",
    "\n",
    "Ideas \n",
    "- Filter if TOTAL_PRECIP > 0 (not all files have this variable)\n",
    "- Filter if any CRAIN, CSNOW, CICEP, CFRZR = 1"
   ]
  },
  {
   "cell_type": "code",
   "execution_count": null,
   "id": "5dfc3d41-64e2-4f36-8c83-3794db68f66c",
   "metadata": {},
   "outputs": [],
   "source": [
    "def filter_precip(df):\n",
    "    '''\n",
    "    Function that flags points where the RAP model\n",
    "    indicates precipitation is occurring. Precipitation can\n",
    "    be any ptype.\n",
    "    '''\n",
    "    total_pts = df.shape[0]\n",
    "    mask = np.zeros(total_pts)\n",
    "    \n",
    "    crain = df.CRAIN.values  #get categorical precip values\n",
    "    csnow = df.CSNOW.values\n",
    "    cfrzr = df.CFRZR.values\n",
    "    cicep = df.CICEP.values\n",
    "    \n",
    "    for i in tqdm.tqdm(range(total_pts)):\n",
    "        if any([crain[i] == 1.0, csnow[i] == 1.0, cicep[i] == 1.0, cfrzr[i] == 1.0]):\n",
    "                mask[i] = 1\n",
    "    \n",
    "    df['cprecip'] = mask\n",
    "                \n",
    "    return df"
   ]
  },
  {
   "cell_type": "code",
   "execution_count": null,
   "id": "c8aa9b12-46bc-4c95-9762-131ce162c378",
   "metadata": {},
   "outputs": [],
   "source": [
    "data = filter_precip(data)"
   ]
  },
  {
   "cell_type": "markdown",
   "id": "7cc1c6d8-5c8e-4025-871d-74cf5e6150a8",
   "metadata": {
    "tags": []
   },
   "source": [
    "### Plot"
   ]
  },
  {
   "cell_type": "code",
   "execution_count": null,
   "id": "d89c2aab-815f-47b0-a2b7-e71db1e61a5a",
   "metadata": {},
   "outputs": [],
   "source": [
    "projection = ccrs.LambertConformal(central_longitude=-95,\n",
    "                                  central_latitude=25)\n",
    "res = '50m'  #'10m' is another option\n",
    "fig, ax = plt.subplots(\n",
    "    nrows=1, \n",
    "    ncols=1,\n",
    "    figsize=(12,7),\n",
    "    constrained_layout=True, \n",
    "    subplot_kw={'projection': projection})\n",
    "\n",
    "lonW = -125\n",
    "lonE = -63\n",
    "latS = 20\n",
    "latN = 50\n",
    "ax.set_extent([lonW, lonE, latS, latN])\n",
    "ax.add_feature(cfeature.LAND.with_scale(res))\n",
    "ax.add_feature(cfeature.OCEAN.with_scale(res))\n",
    "ax.add_feature(cfeature.COASTLINE.with_scale(res))\n",
    "ax.add_feature(cfeature.LAKES.with_scale(res), alpha=0.5)\n",
    "ax.add_feature(cfeature.STATES.with_scale(res))\n",
    "\n",
    "ax.scatter(data['lon'][(data['cprecip'] == 1) & (data['usa'] == 1)], \n",
    "           data['lat'][(data['cprecip'] == 1) & (data['usa'] == 1)], \n",
    "           c='k', \n",
    "           s=10,\n",
    "           alpha=1,\n",
    "           transform=ccrs.PlateCarree(),\n",
    "           label=f\"All data n={data['lon'][(data['cprecip'] == 1) & (data['usa'] == 1)].shape[0]}\")\n",
    "\n",
    "plt.legend(markerscale=2, fontsize=16, loc=\"lower right\")\n",
    "plt.title(f\"{dataset}\", fontsize=22)\n",
    "plt.savefig(f'{image_path}usa_precip_example.png', dpi=300, bbox_inches='tight')\n",
    "plt.show()"
   ]
  },
  {
   "cell_type": "markdown",
   "id": "39ef7464-10ff-4895-8094-bc7bc6abe945",
   "metadata": {
    "tags": []
   },
   "source": [
    "## Wet Bulb Temperature Filter\n",
    "\n",
    "If there is a frozen pytpe present and the wet bulb temperature is greater than 5 C, remove that pytpe\n",
    "\n",
    "__Notes:__\n",
    "- Dewpoint depression 2m variable is inaccurate in the mPING data (seems like dewpoint temp was in K and temp was in C because of the large negative values), this can be fixed by adding 273.15 to the value but I found that doing the original subtraction is more accurate"
   ]
  },
  {
   "cell_type": "code",
   "execution_count": null,
   "id": "d5fafcdc-d33d-4c16-9211-6c00856c9f61",
   "metadata": {},
   "outputs": [],
   "source": [
    "config = 'config/mPING.yml'\n",
    "# config = 'config/mPING_hourafter.yml'\n",
    "\n",
    "conf = read_config(config)\n",
    "data = pd.read_parquet(conf['qc2_data_path'])\n",
    "dataset = conf['dataset']\n",
    "image_path = conf['image_path']"
   ]
  },
  {
   "cell_type": "code",
   "execution_count": null,
   "id": "dc0d791b-f71f-46ad-b5f9-f2b9c95ac81d",
   "metadata": {},
   "outputs": [],
   "source": [
    "thresholds = [3.0, 4.0, 5.0, 6.0, 7.0, 8.0, 9.0, 10.0]\n",
    "for threshold in thresholds:    \n",
    "    data = wetbulb_filter(data, threshold=threshold)"
   ]
  },
  {
   "cell_type": "code",
   "execution_count": null,
   "id": "46a36210-d481-47bc-a5d2-b2345936366a",
   "metadata": {},
   "outputs": [],
   "source": [
    "cols = list(data.columns)\n",
    "for col in cols:\n",
    "    print(col)"
   ]
  },
  {
   "cell_type": "code",
   "execution_count": null,
   "id": "d2835359-3270-4888-9048-52ca7d461f89",
   "metadata": {},
   "outputs": [],
   "source": [
    "data.to_parquet(f\"/glade/scratch/jwillson/winter-ptype/{dataset}_interpolated_QC2.parquet\")"
   ]
  },
  {
   "cell_type": "markdown",
   "id": "762f9614-d60b-49ee-84b5-aec9c4259739",
   "metadata": {},
   "source": [
    "## Test if the QC improves data quality"
   ]
  },
  {
   "cell_type": "code",
   "execution_count": null,
   "id": "d42aa097-88ca-4e95-98a4-2a200ce86a0d",
   "metadata": {},
   "outputs": [],
   "source": [
    "config = 'config/mPING.yml'\n",
    "# config = 'config/mPING_hourafter.yml'\n",
    "\n",
    "conf = read_config(config)\n",
    "data = pd.read_parquet(conf['qc2_data_path'])\n",
    "dataset = conf['dataset']\n",
    "image_path = conf['image_path']"
   ]
  },
  {
   "cell_type": "code",
   "execution_count": null,
   "id": "bd768efd-c874-4833-8e89-8fbb4d48bd9f",
   "metadata": {},
   "outputs": [],
   "source": [
    "print(data.shape)\n",
    "# usa_df = data[data['usa'] == 1.0]\n",
    "qc1_df = data[(data['cprecip'] == 1.0) & (data['usa'] == 1.0)]\n",
    "qc2_df = data[(data['wetbulb5.0_filter'] == 0.0) & (data['usa'] == 1.0)]\n",
    "print(qc1_df.shape)\n",
    "print(qc2_df.shape)"
   ]
  },
  {
   "cell_type": "markdown",
   "id": "0b78dd34-3b5e-4202-96c1-c0fbbce1c606",
   "metadata": {
    "tags": []
   },
   "source": [
    "### P-type surface temperature distributions"
   ]
  },
  {
   "cell_type": "code",
   "execution_count": null,
   "id": "835dd29c-10e6-4193-a311-bddce4c99623",
   "metadata": {},
   "outputs": [],
   "source": [
    "col = 'TEMP_C_0_m'    #, 'T_DEWPOINT_C_0_m', 'UGRD_m/s_0_m', 'VGRD_m/s_0_m']\n",
    "name = '0m_temp'    #, '0m_temp_dew', '0m_ugrd', '0m_vgrd']\n",
    "bins = np.arange(-40,40,1)\n",
    "dfs = [qc1_df, qc2_df]\n",
    "save_paths = [f\"{image_path}{name}_QC1hist.png\", f\"{image_path}{name}_QC2hist.png\"]\n",
    "classes = ['Rain', 'Snow', 'Ice Pellets', 'Freezing Rain']\n",
    "qc_names = ['QC1', 'QC2']\n",
    "\n",
    "for i, df in enumerate(dfs):\n",
    "    qc_ra = df[col][df['ra_percent'] > 0.0]\n",
    "    qc_sn = df[col][df['sn_percent'] > 0.0]\n",
    "    qc_pl = df[col][df['pl_percent'] > 0.0]\n",
    "    qc_fzra = df[col][df['fzra_percent'] > 0.0]\n",
    "    qc_ptypes = [qc_ra, qc_sn, qc_pl, qc_fzra]\n",
    "    \n",
    "    ra = data[col][data['ra_percent'] > 0.0]\n",
    "    sn = data[col][data['sn_percent'] > 0.0]\n",
    "    pl = data[col][data['pl_percent'] > 0.0]\n",
    "    fzra = data[col][data['fzra_percent'] > 0.0]\n",
    "    ptypes = [ra, sn, pl, fzra]\n",
    "    \n",
    "    fig, ax = plt.subplots(2, 2, figsize=(12,10), tight_layout=True)\n",
    "    \n",
    "    for j in range(len(ptypes)):\n",
    "        ax.ravel()[j].hist(ptypes[j], bins=bins, label=f\"{dataset} Original\")\n",
    "        ax.ravel()[j].hist(qc_ptypes[j], bins=bins, color='k', label=f\"{dataset} {qc_names[i]}\")\n",
    "        ax.ravel()[j].set_yscale('log')\n",
    "        if j > 1:\n",
    "            ax.ravel()[j].set_xlabel(\"0 m Temperature ($\\degree$C)\", fontsize=16)\n",
    "        ax.ravel()[j].tick_params(axis='x', labelsize=14)\n",
    "        ax.ravel()[j].tick_params(axis='y', labelsize=14)\n",
    "        ax.ravel()[j].set_title(f\"{classes[j]}\", fontsize=16)\n",
    "        if j == 0:\n",
    "            ax.ravel()[j].legend(fontsize=12)\n",
    "    \n",
    "    plt.savefig(save_paths[i], dpi=300, bbox_inches=\"tight\")\n",
    "    plt.show()"
   ]
  },
  {
   "cell_type": "markdown",
   "id": "2557f114-a092-4536-a82e-fab6c33e8983",
   "metadata": {},
   "source": [
    "### Wet Bulb Threshold Study"
   ]
  },
  {
   "cell_type": "code",
   "execution_count": null,
   "id": "044f4ccf-29e9-4f30-83af-ac7f3e8447ed",
   "metadata": {},
   "outputs": [],
   "source": [
    "thresholds = [3.0, 4.0, 5.0, 6.0, 7.0, 8.0, 9.0, 10.0]\n",
    "ra_le10_vals = []\n",
    "sn_ge10_vals = []\n",
    "pl_ge10_vals = []\n",
    "fzra_ge10_vals = []\n",
    "for threshold in thresholds: \n",
    "    test_df = data[(data[f\"wetbulb{threshold}_filter\"] == 0.0) & (data['usa'] == 1.0)]\n",
    "    testdf_total = test_df.shape[0]\n",
    "    testdf_ra5 = test_df[(test_df['ra_percent'] > 0.0) & (test_df['TEMP_C_0_m'] <= -10.0)].shape[0]\n",
    "    testdf_sn10 = test_df[(test_df['sn_percent'] > 0.0) & (test_df['TEMP_C_0_m'] >= 10.0)].shape[0]\n",
    "    testdf_pl10 = test_df[(test_df['pl_percent'] > 0.0) & (test_df['TEMP_C_0_m'] >= 10.0)].shape[0]\n",
    "    testdf_fzra10 = test_df[(test_df['fzra_percent'] > 0.0) & (test_df['TEMP_C_0_m'] >= 10.0)].shape[0]\n",
    "\n",
    "    ra_le10_vals.append(testdf_ra5/testdf_total*100.0)\n",
    "    sn_ge10_vals.append(testdf_sn10/testdf_total*100.0)\n",
    "    pl_ge10_vals.append(testdf_pl10/testdf_total*100.0)\n",
    "    fzra_ge10_vals.append(testdf_fzra10/testdf_total*100.0)"
   ]
  },
  {
   "cell_type": "code",
   "execution_count": null,
   "id": "c5feafe8-780f-431d-972f-79f9ac187ab7",
   "metadata": {},
   "outputs": [],
   "source": [
    "fig, ax = plt.subplots(figsize=(12,7), tight_layout=True)\n",
    "ax.plot(thresholds, ra_le10_vals, '.-r', markersize=10, label='Percent Rain Obs <= 10 C')\n",
    "ax.plot(thresholds, sn_ge10_vals, '.-c', markersize=10, label='Percent Snow Obs >= 10 C')\n",
    "ax.plot(thresholds, pl_ge10_vals, '.-b', markersize=10, label='Percent Ice Pellets Obs >= 10 C')\n",
    "ax.plot(thresholds, fzra_ge10_vals, '.-k', markersize=10, label='Percent Freezing Rain Obs >= 10 C')\n",
    "ax.tick_params(axis='x', labelsize=14)\n",
    "ax.tick_params(axis='y', labelsize=14)\n",
    "ax.set_ylabel('Percentage', fontsize=16)\n",
    "ax.set_xlabel('Wet Bulb Temp Threshold ($\\degree$C)', fontsize=16)\n",
    "ax.set_title(f\"{dataset}\", fontsize=22)\n",
    "ax.legend(fontsize=12)\n",
    "plt.savefig(f\"{image_path}thresh_percent10.png\", dpi=300, bbox_inches=\"tight\")\n",
    "plt.show()"
   ]
  },
  {
   "cell_type": "code",
   "execution_count": null,
   "id": "0a109fe5-2343-4f3b-91c4-5fb065264f7d",
   "metadata": {},
   "outputs": [],
   "source": [
    "thresholds = [3.0, 4.0, 5.0, 6.0, 7.0, 8.0, 9.0, 10.0]\n",
    "colors = ['y', 'g', 'c', 'orange', 'b', 'r', 'm', 'k']\n",
    "classes = ['Rain', 'Snow', 'Ice Pellets', 'Freezing Rain']\n",
    "temp_thresh = 10.0\n",
    "col = 'TEMP_C_0_m'\n",
    "fig, ax = plt.subplots(2, 2, figsize=(12,10), tight_layout=True)\n",
    "bins = np.arange(-40,40,1)\n",
    "\n",
    "for i, threshold in enumerate(thresholds[::-1]): \n",
    "    test_df = data[(data[f\"wetbulb{threshold}_filter\"] == 0.0) & (data['usa'] == 1.0)]\n",
    "    testdf_ra10 = test_df[col][(test_df['ra_percent'] > 0.0)]\n",
    "    testdf_sn10 = test_df[col][(test_df['sn_percent'] > 0.0)]\n",
    "    testdf_pl10 = test_df[col][(test_df['pl_percent'] > 0.0)]\n",
    "    testdf_fzra10 = test_df[col][(test_df['fzra_percent'] > 0.0)]\n",
    "    \n",
    "    dfs = [testdf_ra10, testdf_sn10, testdf_pl10, testdf_fzra10]\n",
    "    \n",
    "    for j, df in enumerate(dfs):\n",
    "        ax.ravel()[j].hist(df, bins=bins, color=colors[i], label=str(threshold))\n",
    "        ax.ravel()[j].set_yscale('log')\n",
    "        if j > 1:\n",
    "            ax.ravel()[j].set_xlabel(\"0 m Temperature ($\\degree$C)\", fontsize=16)\n",
    "        ax.ravel()[j].tick_params(axis='x', labelsize=14)\n",
    "        ax.ravel()[j].tick_params(axis='y', labelsize=14)\n",
    "        ax.ravel()[j].set_title(f\"{classes[j]}\", fontsize=16)\n",
    "        if j == 0:\n",
    "            ax.ravel()[j].legend(fontsize=12)\n",
    "    \n",
    "# plt.savefig(f\"{image_path}comb_thresh_hist10.png\", dpi=300, bbox_inches=\"tight\")\n",
    "plt.show()"
   ]
  },
  {
   "cell_type": "markdown",
   "id": "915ecf82-0b89-4326-81bf-02fa2cc84900",
   "metadata": {
    "tags": []
   },
   "source": [
    "### Numerical results"
   ]
  },
  {
   "cell_type": "code",
   "execution_count": null,
   "id": "705d0003-b8be-4601-ba0d-14e355c7f603",
   "metadata": {},
   "outputs": [],
   "source": [
    "testdf_total = test_df.shape[0]\n",
    "testdf_ra10 = test_df[(test_df['ra_percent'] > 0.0) & (test_df['TEMP_C_0_m'] <= -10.0)].shape[0]\n",
    "testdf_sn10 = test_df[(test_df['sn_percent'] > 0.0) & (test_df['TEMP_C_0_m'] >= 10.0)].shape[0]\n",
    "testdf_pl10 = test_df[(test_df['pl_percent'] > 0.0) & (test_df['TEMP_C_0_m'] >= 10.0)].shape[0]\n",
    "testdf_fzra10 = test_df[(test_df['fzra_percent'] > 0.0) & (test_df['TEMP_C_0_m'] >= 10.0)].shape[0]\n",
    "\n",
    "test_percent_ra = testdf_ra10/testdf_total*100.0\n",
    "test_percent_sn = testdf_sn10/testdf_total*100.0\n",
    "test_percent_pl = testdf_pl10/testdf_total*100.0\n",
    "test_percent_fzra = testdf_fzra10/testdf_total*100.0\n",
    "\n",
    "print(round(test_percent_ra, 5))\n",
    "print(round(test_percent_sn, 5))\n",
    "print(round(test_percent_pl, 5))\n",
    "print(round(test_percent_fzra, 5))"
   ]
  },
  {
   "cell_type": "code",
   "execution_count": null,
   "id": "8e7f67f1-8627-4d7c-ab2b-4f8a24236c5d",
   "metadata": {},
   "outputs": [],
   "source": [
    "data_total = data.shape[0]\n",
    "data_ra10 = data[(data['ra_percent'] > 0.0) & (data['TEMP_C_0_m'] <= -10.0)].shape[0]\n",
    "data_sn10 = data[(data['sn_percent'] > 0.0) & (data['TEMP_C_0_m'] >= 10.0)].shape[0]\n",
    "data_pl10 = data[(data['pl_percent'] > 0.0) & (data['TEMP_C_0_m'] >= 10.0)].shape[0]\n",
    "data_fzra10 = data[(data['fzra_percent'] > 0.0) & (data['TEMP_C_0_m'] >= 10.0)].shape[0]\n",
    "\n",
    "data_percent_ra = data_ra10/data_total*100.0\n",
    "data_percent_sn = data_sn10/data_total*100.0\n",
    "data_percent_pl = data_pl10/data_total*100.0\n",
    "data_percent_fzra = data_fzra10/data_total*100.0\n",
    "\n",
    "print(round(data_percent_ra, 5))\n",
    "print(round(data_percent_sn, 5))\n",
    "print(round(data_percent_pl, 5))\n",
    "print(round(data_percent_fzra, 5))"
   ]
  },
  {
   "cell_type": "code",
   "execution_count": null,
   "id": "c6ef769d-c89e-4910-9728-f1df2a8882e6",
   "metadata": {},
   "outputs": [],
   "source": [
    "total_diff = (testdf_total-data_total)/data_total*100.0\n",
    "ra10_diff = (test_percent_ra-data_percent_ra)/data_percent_ra*100.0\n",
    "sn10_diff = (test_percent_sn-data_percent_sn)/data_percent_sn*100.0\n",
    "pl10_diff = (test_percent_pl-data_percent_pl)/data_percent_pl*100.0\n",
    "fzra10_diff = (test_percent_fzra-data_percent_fzra)/data_percent_fzra*100.0\n",
    "\n",
    "print(round(total_diff, 2))\n",
    "print(round(ra10_diff, 2))\n",
    "print(round(sn10_diff, 2))\n",
    "print(round(pl10_diff, 2))\n",
    "print(round(fzra10_diff, 2))"
   ]
  },
  {
   "cell_type": "code",
   "execution_count": null,
   "id": "c8ff9116-461c-4e88-b28d-8a5a6c860a50",
   "metadata": {},
   "outputs": [],
   "source": []
  }
 ],
 "metadata": {
  "kernelspec": {
   "display_name": "Python [conda env:winter-ptype]",
   "language": "python",
   "name": "conda-env-winter-ptype-py"
  },
  "language_info": {
   "codemirror_mode": {
    "name": "ipython",
    "version": 3
   },
   "file_extension": ".py",
   "mimetype": "text/x-python",
   "name": "python",
   "nbconvert_exporter": "python",
   "pygments_lexer": "ipython3",
   "version": "3.10.10"
  }
 },
 "nbformat": 4,
 "nbformat_minor": 5
}
