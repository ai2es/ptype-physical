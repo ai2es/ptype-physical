{
 "cells": [
  {
   "cell_type": "code",
   "execution_count": 1,
   "id": "f1c5a318-776d-40b5-a832-eacf42477a61",
   "metadata": {},
   "outputs": [],
   "source": [
    "import os\n",
    "import pandas as pd\n",
    "import numpy as np\n",
    "import xarray as xr\n",
    "from pyproj import Proj\n",
    "from scipy.spatial.distance import cdist\n",
    "import matplotlib.pyplot as plt"
   ]
  },
  {
   "cell_type": "code",
   "execution_count": 2,
   "id": "60deecc3-55f1-459e-a491-76c49a567689",
   "metadata": {},
   "outputs": [],
   "source": [
    "path_save = \"/glade/p/cisl/aiml/ai2es/winter_ptypes/precip_rap/\""
   ]
  },
  {
   "cell_type": "code",
   "execution_count": null,
   "id": "9fe87ee1-41b9-4221-af96-21c2c2b97e9a",
   "metadata": {},
   "outputs": [],
   "source": [
    "source = \"ASOS_converted\"\n",
    "files_orig = os.listdir(os.path.join(path_save, source))\n",
    "files_new = os.listdir(os.path.join(path_save, \"ASOS_mixture\"))\n",
    "files_left = list(set(files_orig) - set(files_new))"
   ]
  },
  {
   "cell_type": "code",
   "execution_count": 42,
   "id": "a8124a59-744a-47e9-9ddd-d67130b73d38",
   "metadata": {},
   "outputs": [
    {
     "name": "stdout",
     "output_type": "stream",
     "text": [
      "0 243\n"
     ]
    }
   ],
   "source": [
    "precip_types = ['ra', 'sn', 'pl', 'fzra']\n",
    "cols_subset = ['obdate', 'obtime', 'lat', 'lon', 'precip', 'datetime', 'precip_count_byhr']\n",
    "delta = 0\n",
    "source = \"ASOS_converted\"\n",
    "files = os.listdir(os.path.join(path_save, source))\n",
    "files.sort()\n",
    "for i, file in enumerate(files[27:28]):\n",
    "    df = pd.read_parquet(os.path.join(path_save, source, file))\n",
    "    df = df[cols_subset]\n",
    "    if df.groupby([\"datetime\", \"lat\", \"lon\"]).sum().shape[0] < df.shape[0]:\n",
    "        if delta > (df.shape[0] - df.groupby([\"datetime\", \"lat\", \"lon\"]).sum().shape[0]):\n",
    "            continue\n",
    "        else:\n",
    "            print(i, (df.shape[0] - df.groupby([\"datetime\", \"lat\", \"lon\"]).sum().shape[0]))\n",
    "            delta = df.shape[0] - df.groupby([\"datetime\", \"lat\", \"lon\"]).sum().shape[0]"
   ]
  },
  {
   "cell_type": "code",
   "execution_count": 43,
   "id": "06e7a55c-b3a8-4668-b550-6a8600bca249",
   "metadata": {},
   "outputs": [
    {
     "data": {
      "text/html": [
       "<div>\n",
       "<style scoped>\n",
       "    .dataframe tbody tr th:only-of-type {\n",
       "        vertical-align: middle;\n",
       "    }\n",
       "\n",
       "    .dataframe tbody tr th {\n",
       "        vertical-align: top;\n",
       "    }\n",
       "\n",
       "    .dataframe thead th {\n",
       "        text-align: right;\n",
       "    }\n",
       "</style>\n",
       "<table border=\"1\" class=\"dataframe\">\n",
       "  <thead>\n",
       "    <tr style=\"text-align: right;\">\n",
       "      <th></th>\n",
       "      <th>obdate</th>\n",
       "      <th>obtime</th>\n",
       "      <th>lat</th>\n",
       "      <th>lon</th>\n",
       "      <th>precip</th>\n",
       "      <th>datetime</th>\n",
       "      <th>precip_count_byhr</th>\n",
       "    </tr>\n",
       "  </thead>\n",
       "  <tbody>\n",
       "    <tr>\n",
       "      <th>0</th>\n",
       "      <td>01/28/2013</td>\n",
       "      <td>00:55:31</td>\n",
       "      <td>41.770</td>\n",
       "      <td>-88.481</td>\n",
       "      <td>ra</td>\n",
       "      <td>2013-01-28 00:00:00</td>\n",
       "      <td>2</td>\n",
       "    </tr>\n",
       "    <tr>\n",
       "      <th>1</th>\n",
       "      <td>01/28/2013</td>\n",
       "      <td>00:00:31</td>\n",
       "      <td>43.171</td>\n",
       "      <td>-86.237</td>\n",
       "      <td>sn</td>\n",
       "      <td>2013-01-28 00:00:00</td>\n",
       "      <td>4</td>\n",
       "    </tr>\n",
       "    <tr>\n",
       "      <th>2</th>\n",
       "      <td>01/28/2013</td>\n",
       "      <td>00:00:31</td>\n",
       "      <td>47.457</td>\n",
       "      <td>-115.645</td>\n",
       "      <td>sn</td>\n",
       "      <td>2013-01-28 00:00:00</td>\n",
       "      <td>1</td>\n",
       "    </tr>\n",
       "    <tr>\n",
       "      <th>3</th>\n",
       "      <td>01/28/2013</td>\n",
       "      <td>00:00:31</td>\n",
       "      <td>44.883</td>\n",
       "      <td>-93.229</td>\n",
       "      <td>sn</td>\n",
       "      <td>2013-01-28 00:00:00</td>\n",
       "      <td>9</td>\n",
       "    </tr>\n",
       "    <tr>\n",
       "      <th>4</th>\n",
       "      <td>01/28/2013</td>\n",
       "      <td>00:00:31</td>\n",
       "      <td>41.196</td>\n",
       "      <td>-112.011</td>\n",
       "      <td>sn</td>\n",
       "      <td>2013-01-28 00:00:00</td>\n",
       "      <td>12</td>\n",
       "    </tr>\n",
       "    <tr>\n",
       "      <th>...</th>\n",
       "      <td>...</td>\n",
       "      <td>...</td>\n",
       "      <td>...</td>\n",
       "      <td>...</td>\n",
       "      <td>...</td>\n",
       "      <td>...</td>\n",
       "      <td>...</td>\n",
       "    </tr>\n",
       "    <tr>\n",
       "      <th>4516</th>\n",
       "      <td>01/28/2013</td>\n",
       "      <td>23:00:31</td>\n",
       "      <td>40.822</td>\n",
       "      <td>-72.869</td>\n",
       "      <td>ra</td>\n",
       "      <td>2013-01-28 23:00:00</td>\n",
       "      <td>6</td>\n",
       "    </tr>\n",
       "    <tr>\n",
       "      <th>4517</th>\n",
       "      <td>01/28/2013</td>\n",
       "      <td>23:35:31</td>\n",
       "      <td>40.779</td>\n",
       "      <td>-73.880</td>\n",
       "      <td>ra</td>\n",
       "      <td>2013-01-28 23:00:00</td>\n",
       "      <td>7</td>\n",
       "    </tr>\n",
       "    <tr>\n",
       "      <th>4518</th>\n",
       "      <td>01/28/2013</td>\n",
       "      <td>23:30:31</td>\n",
       "      <td>39.103</td>\n",
       "      <td>-84.419</td>\n",
       "      <td>ra</td>\n",
       "      <td>2013-01-28 23:00:00</td>\n",
       "      <td>12</td>\n",
       "    </tr>\n",
       "    <tr>\n",
       "      <th>4519</th>\n",
       "      <td>01/28/2013</td>\n",
       "      <td>23:55:31</td>\n",
       "      <td>38.300</td>\n",
       "      <td>-76.417</td>\n",
       "      <td>ra</td>\n",
       "      <td>2013-01-28 23:00:00</td>\n",
       "      <td>7</td>\n",
       "    </tr>\n",
       "    <tr>\n",
       "      <th>4520</th>\n",
       "      <td>01/28/2013</td>\n",
       "      <td>23:00:31</td>\n",
       "      <td>41.723</td>\n",
       "      <td>-71.433</td>\n",
       "      <td>pl</td>\n",
       "      <td>2013-01-28 23:00:00</td>\n",
       "      <td>12</td>\n",
       "    </tr>\n",
       "  </tbody>\n",
       "</table>\n",
       "<p>4521 rows × 7 columns</p>\n",
       "</div>"
      ],
      "text/plain": [
       "          obdate    obtime     lat      lon precip            datetime  \\\n",
       "0     01/28/2013  00:55:31  41.770  -88.481     ra 2013-01-28 00:00:00   \n",
       "1     01/28/2013  00:00:31  43.171  -86.237     sn 2013-01-28 00:00:00   \n",
       "2     01/28/2013  00:00:31  47.457 -115.645     sn 2013-01-28 00:00:00   \n",
       "3     01/28/2013  00:00:31  44.883  -93.229     sn 2013-01-28 00:00:00   \n",
       "4     01/28/2013  00:00:31  41.196 -112.011     sn 2013-01-28 00:00:00   \n",
       "...          ...       ...     ...      ...    ...                 ...   \n",
       "4516  01/28/2013  23:00:31  40.822  -72.869     ra 2013-01-28 23:00:00   \n",
       "4517  01/28/2013  23:35:31  40.779  -73.880     ra 2013-01-28 23:00:00   \n",
       "4518  01/28/2013  23:30:31  39.103  -84.419     ra 2013-01-28 23:00:00   \n",
       "4519  01/28/2013  23:55:31  38.300  -76.417     ra 2013-01-28 23:00:00   \n",
       "4520  01/28/2013  23:00:31  41.723  -71.433     pl 2013-01-28 23:00:00   \n",
       "\n",
       "      precip_count_byhr  \n",
       "0                     2  \n",
       "1                     4  \n",
       "2                     1  \n",
       "3                     9  \n",
       "4                    12  \n",
       "...                 ...  \n",
       "4516                  6  \n",
       "4517                  7  \n",
       "4518                 12  \n",
       "4519                  7  \n",
       "4520                 12  \n",
       "\n",
       "[4521 rows x 7 columns]"
      ]
     },
     "execution_count": 43,
     "metadata": {},
     "output_type": "execute_result"
    }
   ],
   "source": [
    "df"
   ]
  },
  {
   "cell_type": "code",
   "execution_count": 4,
   "id": "6ccf7976-74d8-47dd-9df7-03abd8b6aa4f",
   "metadata": {
    "tags": []
   },
   "outputs": [],
   "source": [
    "columns = [\"datetime\", \"lat\", \"lon\", \"report_count\", \"ra_percent\", \"sn_percent\", \"pl_percent\", \"fzra_percent\"]\n",
    "df_new = pd.DataFrame(columns=columns)\n",
    "\n",
    "i=0\n",
    "group = df.groupby([\"datetime\", \"lat\", \"lon\"])\n",
    "for name, chunk in group:\n",
    "    if chunk.shape[0] > 1:\n",
    "        df_new.loc[i, 'datetime'], df_new.loc[i, 'lat'] , df_new.loc[i, 'lon']  = name[0], name[1], name[2]\n",
    "        df_new.loc[i, 'report_count'] = chunk[\"precip_count_byhr\"].sum()\n",
    "        for precip_type in precip_types:\n",
    "            if chunk[chunk['precip'] == precip_type].shape[0]:\n",
    "                precip_count = float(chunk.loc[chunk['precip'] == precip_type, 'precip_count_byhr'].values)\n",
    "                df_new.loc[i, f\"{precip_type}_percent\"] = precip_count / df_new.loc[i, 'report_count']\n",
    "            else:\n",
    "                df_new.loc[i, f\"{precip_type}_percent\"] = 0.0\n",
    "        break\n",
    "    i += 1"
   ]
  },
  {
   "cell_type": "code",
   "execution_count": 5,
   "id": "816fa1ce-75da-4d92-ab4f-7b03dabc27c7",
   "metadata": {
    "scrolled": true,
    "tags": []
   },
   "outputs": [],
   "source": [
    "precip_types = ['ra', 'sn', 'pl', 'fzra']\n",
    "cols_subset = ['obdate', 'obtime', 'lat', 'lon', 'precip', 'datetime', 'precip_count_byhr']\n",
    "columns_rap = sorted(list(set(df.columns) - set(cols_subset)))\n",
    "columns_new = [\"datetime\", \"lat\", \"lon\", \"report_count\", \"ra_percent\", \"sn_percent\", \"pl_percent\", \"fzra_percent\"] + columns_rap\n",
    "\n",
    "source = \"ASOS_converted\"\n",
    "files = os.listdir(os.path.join(path_save, source))\n",
    "files.sort()\n",
    "for i, file in enumerate(files[27:28]):\n",
    "    df = pd.read_parquet(os.path.join(path_save, source, file))\n",
    "    df_new = pd.DataFrame(columns=columns_new)\n",
    "    i=0\n",
    "    group = df.groupby([\"datetime\", \"lat\", \"lon\"])\n",
    "    for name, chunk in group:\n",
    "        df_new.loc[i, 'datetime'], df_new.loc[i, 'lat'] , df_new.loc[i, 'lon']  = name[0], name[1], name[2]\n",
    "        df_new.loc[i, columns_rap] = chunk.loc[chunk.index[0], columns_rap]\n",
    "        df_new.loc[i, 'report_count'] = chunk[\"precip_count_byhr\"].sum()\n",
    "        for precip_type in precip_types:\n",
    "            if chunk[chunk['precip'] == precip_type].shape[0]:\n",
    "                precip_count = float(chunk.loc[chunk['precip'] == precip_type, 'precip_count_byhr'].values)\n",
    "                df_new.loc[i, f\"{precip_type}_percent\"] = precip_count / df_new.loc[i, 'report_count']\n",
    "            else:\n",
    "                df_new.loc[i, f\"{precip_type}_percent\"] = 0.0\n",
    "        i += 1\n",
    "    df_new.to_parquet(os.path.join(path_save, \"ASOS_mixture\", file))"
   ]
  },
  {
   "cell_type": "code",
   "execution_count": 6,
   "id": "5121f37d-84a4-48cb-859f-5b691fa36930",
   "metadata": {},
   "outputs": [
    {
     "data": {
      "image/png": "[encoded data removed]",
      "text/plain": [
       "<Figure size 432x288 with 1 Axes>"
      ]
     },
     "metadata": {
      "needs_background": "light"
     },
     "output_type": "display_data"
    },
    {
     "data": {
      "image/png": "[encoded data removed]",
      "text/plain": [
       "<Figure size 432x288 with 1 Axes>"
      ]
     },
     "metadata": {
      "needs_background": "light"
     },
     "output_type": "display_data"
    },
    {
     "data": {
      "image/png": "[encoded data removed]",
      "text/plain": [
       "<Figure size 432x288 with 1 Axes>"
      ]
     },
     "metadata": {
      "needs_background": "light"
     },
     "output_type": "display_data"
    },
    {
     "data": {
      "image/png": "[encoded data removed]",
      "text/plain": [
       "<Figure size 432x288 with 1 Axes>"
      ]
     },
     "metadata": {
      "needs_background": "light"
     },
     "output_type": "display_data"
    },
    {
     "data": {
      "image/png": "[encoded data removed]",
      "text/plain": [
       "<Figure size 432x288 with 1 Axes>"
      ]
     },
     "metadata": {
      "needs_background": "light"
     },
     "output_type": "display_data"
    }
   ],
   "source": [
    "for col in [\"report_count\", \"ra_percent\", \"sn_percent\", \"pl_percent\", \"fzra_percent\"]:\n",
    "    plt.scatter(np.arange(df_new[col].shape[0]), df_new[col])\n",
    "    plt.title(col)\n",
    "    plt.show()"
   ]
  },
  {
   "cell_type": "code",
   "execution_count": 45,
   "id": "28a4d400-8761-483e-a047-7c27a769d5b6",
   "metadata": {},
   "outputs": [],
   "source": [
    "def find_coord_indices(lon_array, lat_array, lon_points, lat_points, dist_proj='lcc_RAP'):\n",
    "    \"\"\"\n",
    "    Find indices of nearest lon/lat pair on a grid. Supports rectilinear and curilinear grids.\n",
    "    lon_points / lat_points must be received as a list.\n",
    "    Args:\n",
    "        lon_array (np.array): Longitude values of coarse grid you are matching against\n",
    "        lat_array (np.array): Latitude values of coarse grid you are matching against\n",
    "        lon_points (list): List of Longitude points from orginal grid/object\n",
    "        lat_points (list): List of Latitude points from original grid/object\n",
    "        dist_proj (str): Name of projection for pyproj to calculate distances\n",
    "    Returns (list):\n",
    "        List of i, j (Lon/Lat) indices for coarse grid.\n",
    "    \"\"\"\n",
    "    if dist_proj == 'lcc_WRF':\n",
    "        proj = Proj(proj='lcc', R=6371229, lat_0=38, lon_0=-97.5, lat_1=32, lat_2=46)  ## from WRF HWT data\n",
    "    if dist_proj == 'lcc_RAP':\n",
    "        proj = Proj(proj='lcc', R=6371229, lat_0=25, lon_0=265, lat_1=25, lat_2=25)\n",
    "\n",
    "    proj_lon, proj_lat = np.array(proj(lon_array, lat_array))  # transform to distances using specified projection\n",
    "    lonlat = np.column_stack(\n",
    "        (proj_lon.ravel(), proj_lat.ravel()))  # Stack all coarse x, y distances for array shape (n, 2)\n",
    "    ll = np.array(proj(lon_points, lat_points)).T  # transform lists of fine grid x, y to match shape (n, 2)\n",
    "    idx = cdist(lonlat, ll).argmin(0)  # Calculate all distances and get index of minimum\n",
    "\n",
    "    return np.column_stack((np.unravel_index(idx, lon_array.shape))).tolist()"
   ]
  },
  {
   "cell_type": "code",
   "execution_count": 46,
   "id": "581cfb44-968a-444b-91a4-56702b4f046b",
   "metadata": {},
   "outputs": [],
   "source": [
    "path_rap = \"/glade/p/cisl/aiml/conv_risk_intel/rap_ncei_nc/\"\n",
    "date = \"20130603\" #yyyymmdd\n",
    "hour = 1 #0-23\n",
    "ds = xr.open_dataset(os.path.join(path_rap, date, f\"rap_130_{date}_{hour:02d}00_000.nc\"))"
   ]
  },
  {
   "cell_type": "code",
   "execution_count": 84,
   "id": "bb911edf-d2fd-44e8-a14b-0fb363d6ae4b",
   "metadata": {},
   "outputs": [
    {
     "name": "stdout",
     "output_type": "stream",
     "text": [
      "0 1105\n"
     ]
    }
   ],
   "source": [
    "precip_types = ['ra', 'sn', 'pl', 'fzra']\n",
    "cols_subset = ['obdate', 'obtime', 'lat', 'lon', 'precip', 'datetime', 'precip_count_byhr']\n",
    "delta = 0\n",
    "source = \"mPING_converted\"\n",
    "files = os.listdir(os.path.join(path_save, source))\n",
    "files.sort()\n",
    "for i, file in enumerate(files[38:39]):\n",
    "    df = pd.read_parquet(os.path.join(path_save, source, file))\n",
    "    indices = find_coord_indices(ds['longitude'].values, ds['latitude'].values,\n",
    "                                 list(df['lon']), list(df['lat']))\n",
    "    df['lat'] = [ds['latitude'].values[x[0], x[1]] for x in indices]\n",
    "    df['lon'] = [ds['longitude'].values[x[0], x[1]] for x in indices]\n",
    "    if df.groupby([\"datetime\", \"lat\", \"lon\"]).sum().shape[0] < df.shape[0]:\n",
    "        if delta > (df.shape[0] - df.groupby([\"datetime\", \"lat\", \"lon\"]).sum().shape[0]):\n",
    "            continue\n",
    "        else:\n",
    "            print(i, (df.shape[0] - df.groupby([\"datetime\", \"lat\", \"lon\"]).sum().shape[0]))\n",
    "            delta = df.shape[0] - df.groupby([\"datetime\", \"lat\", \"lon\"]).sum().shape[0]"
   ]
  },
  {
   "cell_type": "code",
   "execution_count": 85,
   "id": "e829cea7-4b53-4829-9597-04f5f048edbc",
   "metadata": {
    "scrolled": true,
    "tags": []
   },
   "outputs": [],
   "source": [
    "precip_types = ['ra', 'sn', 'pl', 'fzra']\n",
    "cols_subset = ['obdate', 'obtime', 'lat', 'lon', 'precip', 'datetime', 'precip_count_byhr']\n",
    "columns_rap = sorted(list(set(df.columns) - set(cols_subset)))\n",
    "columns_new = [\"datetime\", \"lat\", \"lon\", \"report_count\", \"ra_percent\", \"sn_percent\", \"pl_percent\", \"fzra_percent\"] + columns_rap\n",
    "\n",
    "source = \"mPING_converted\"\n",
    "files = os.listdir(os.path.join(path_save, source))\n",
    "files.sort()\n",
    "for i, file in enumerate(files[27:28]):\n",
    "    df = pd.read_parquet(os.path.join(path_save, source, file))\n",
    "    indices = find_coord_indices(ds['longitude'].values, ds['latitude'].values,\n",
    "                                 list(df['lon']), list(df['lat']))\n",
    "    df['lat'] = [ds['latitude'].values[x[0], x[1]] for x in indices]\n",
    "    df['lon'] = [ds['longitude'].values[x[0], x[1]] for x in indices]\n",
    "    df_new = pd.DataFrame(columns=columns_new)\n",
    "    i=0\n",
    "    group = df.groupby([\"datetime\", \"lat\", \"lon\"])\n",
    "    for name, chunk in group:\n",
    "        df_new.loc[i, 'datetime'], df_new.loc[i, 'lat'] , df_new.loc[i, 'lon']  = name[0], name[1], name[2]\n",
    "        df_new.loc[i, columns_rap] = chunk.loc[chunk.index[0], columns_rap]\n",
    "        df_new.loc[i, 'report_count'] = chunk[\"precip_count_byhr\"].sum()\n",
    "        for precip_type in precip_types:\n",
    "            if chunk[chunk['precip'] == precip_type].shape[0]:\n",
    "                precip_count = float(chunk.loc[chunk['precip'] == precip_type, 'precip_count_byhr'].sum())\n",
    "                df_new.loc[i, f\"{precip_type}_percent\"] = precip_count / df_new.loc[i, 'report_count']\n",
    "            else:\n",
    "                df_new.loc[i, f\"{precip_type}_percent\"] = 0.0\n",
    "        i += 1\n",
    "    df_new.to_parquet(os.path.join(path_save, \"mPING_mixture\", file))"
   ]
  },
  {
   "cell_type": "code",
   "execution_count": 86,
   "id": "5915941c-8fff-4b0d-aece-8be3dc066a7a",
   "metadata": {},
   "outputs": [
    {
     "data": {
      "image/png": "[encoded data removed]",
      "text/plain": [
       "<Figure size 432x288 with 1 Axes>"
      ]
     },
     "metadata": {
      "needs_background": "light"
     },
     "output_type": "display_data"
    },
    {
     "data": {
      "image/png": "[encoded data removed]",
      "text/plain": [
       "<Figure size 432x288 with 1 Axes>"
      ]
     },
     "metadata": {
      "needs_background": "light"
     },
     "output_type": "display_data"
    },
    {
     "data": {
      "image/png": "[encoded data removed]",
      "text/plain": [
       "<Figure size 432x288 with 1 Axes>"
      ]
     },
     "metadata": {
      "needs_background": "light"
     },
     "output_type": "display_data"
    },
    {
     "data": {
      "image/png": "[encoded data removed]",
      "text/plain": [
       "<Figure size 432x288 with 1 Axes>"
      ]
     },
     "metadata": {
      "needs_background": "light"
     },
     "output_type": "display_data"
    },
    {
     "data": {
      "image/png": "[encoded data removed]",
      "text/plain": [
       "<Figure size 432x288 with 1 Axes>"
      ]
     },
     "metadata": {
      "needs_background": "light"
     },
     "output_type": "display_data"
    }
   ],
   "source": [
    "for col in [\"report_count\", \"ra_percent\", \"sn_percent\", \"pl_percent\", \"fzra_percent\"]:\n",
    "    plt.scatter(np.arange(df_new[col].shape[0]), df_new[col])\n",
    "    plt.title(col)\n",
    "    plt.show()"
   ]
  },
  {
   "cell_type": "code",
   "execution_count": 87,
   "id": "c33663f7-aa40-4f8c-a3c6-dfd3aed842f7",
   "metadata": {},
   "outputs": [
    {
     "data": {
      "text/html": [
       "<div>\n",
       "<style scoped>\n",
       "    .dataframe tbody tr th:only-of-type {\n",
       "        vertical-align: middle;\n",
       "    }\n",
       "\n",
       "    .dataframe tbody tr th {\n",
       "        vertical-align: top;\n",
       "    }\n",
       "\n",
       "    .dataframe thead th {\n",
       "        text-align: right;\n",
       "    }\n",
       "</style>\n",
       "<table border=\"1\" class=\"dataframe\">\n",
       "  <thead>\n",
       "    <tr style=\"text-align: right;\">\n",
       "      <th></th>\n",
       "      <th>datetime</th>\n",
       "      <th>lat</th>\n",
       "      <th>lon</th>\n",
       "      <th>report_count</th>\n",
       "      <th>ra_percent</th>\n",
       "      <th>sn_percent</th>\n",
       "      <th>pl_percent</th>\n",
       "      <th>fzra_percent</th>\n",
       "      <th>CFRZR_-</th>\n",
       "      <th>CICEP_-</th>\n",
       "      <th>...</th>\n",
       "      <th>VVEL_775_Pa/s</th>\n",
       "      <th>VVEL_800_Pa/s</th>\n",
       "      <th>VVEL_825_Pa/s</th>\n",
       "      <th>VVEL_850_Pa/s</th>\n",
       "      <th>VVEL_875_Pa/s</th>\n",
       "      <th>VVEL_900_Pa/s</th>\n",
       "      <th>VVEL_925_Pa/s</th>\n",
       "      <th>VVEL_950_Pa/s</th>\n",
       "      <th>VVEL_975_Pa/s</th>\n",
       "      <th>idx</th>\n",
       "    </tr>\n",
       "  </thead>\n",
       "  <tbody>\n",
       "    <tr>\n",
       "      <th>0</th>\n",
       "      <td>2013-01-28 00:00:00</td>\n",
       "      <td>33.6384</td>\n",
       "      <td>248.036</td>\n",
       "      <td>1</td>\n",
       "      <td>1</td>\n",
       "      <td>0</td>\n",
       "      <td>0</td>\n",
       "      <td>0</td>\n",
       "      <td>0</td>\n",
       "      <td>0</td>\n",
       "      <td>...</td>\n",
       "      <td>0.0875959</td>\n",
       "      <td>0.160256</td>\n",
       "      <td>0.168745</td>\n",
       "      <td>0.112581</td>\n",
       "      <td>0.00739288</td>\n",
       "      <td>-0.104084</td>\n",
       "      <td>-0.161642</td>\n",
       "      <td>-0.218102</td>\n",
       "      <td>-0.221696</td>\n",
       "      <td>[122, 129]</td>\n",
       "    </tr>\n",
       "    <tr>\n",
       "      <th>1</th>\n",
       "      <td>2013-01-28 00:00:00</td>\n",
       "      <td>38.202</td>\n",
       "      <td>274.353</td>\n",
       "      <td>1</td>\n",
       "      <td>1</td>\n",
       "      <td>0</td>\n",
       "      <td>0</td>\n",
       "      <td>0</td>\n",
       "      <td>0</td>\n",
       "      <td>0</td>\n",
       "      <td>...</td>\n",
       "      <td>0.243846</td>\n",
       "      <td>0.222756</td>\n",
       "      <td>0.199995</td>\n",
       "      <td>0.143831</td>\n",
       "      <td>0.0698929</td>\n",
       "      <td>0.020916</td>\n",
       "      <td>-0.0366421</td>\n",
       "      <td>-0.0618525</td>\n",
       "      <td>-0.0341959</td>\n",
       "      <td>[155, 308]</td>\n",
       "    </tr>\n",
       "    <tr>\n",
       "      <th>2</th>\n",
       "      <td>2013-01-28 00:00:00</td>\n",
       "      <td>38.2101</td>\n",
       "      <td>274.202</td>\n",
       "      <td>1</td>\n",
       "      <td>1</td>\n",
       "      <td>0</td>\n",
       "      <td>0</td>\n",
       "      <td>0</td>\n",
       "      <td>0</td>\n",
       "      <td>0</td>\n",
       "      <td>...</td>\n",
       "      <td>0.243846</td>\n",
       "      <td>0.222756</td>\n",
       "      <td>0.199995</td>\n",
       "      <td>0.175081</td>\n",
       "      <td>0.0698929</td>\n",
       "      <td>0.020916</td>\n",
       "      <td>-0.0366421</td>\n",
       "      <td>-0.0931025</td>\n",
       "      <td>-0.0654459</td>\n",
       "      <td>[155, 307]</td>\n",
       "    </tr>\n",
       "    <tr>\n",
       "      <th>3</th>\n",
       "      <td>2013-01-28 00:00:00</td>\n",
       "      <td>38.5563</td>\n",
       "      <td>274.384</td>\n",
       "      <td>1</td>\n",
       "      <td>1</td>\n",
       "      <td>0</td>\n",
       "      <td>0</td>\n",
       "      <td>0</td>\n",
       "      <td>0</td>\n",
       "      <td>0</td>\n",
       "      <td>...</td>\n",
       "      <td>-0.00615406</td>\n",
       "      <td>0.0352564</td>\n",
       "      <td>0.074995</td>\n",
       "      <td>0.112581</td>\n",
       "      <td>0.101143</td>\n",
       "      <td>0.145916</td>\n",
       "      <td>0.119608</td>\n",
       "      <td>0.0318975</td>\n",
       "      <td>-0.0341959</td>\n",
       "      <td>[158, 308]</td>\n",
       "    </tr>\n",
       "    <tr>\n",
       "      <th>4</th>\n",
       "      <td>2013-01-28 00:00:00</td>\n",
       "      <td>39.473</td>\n",
       "      <td>274.925</td>\n",
       "      <td>2</td>\n",
       "      <td>1</td>\n",
       "      <td>0</td>\n",
       "      <td>0</td>\n",
       "      <td>0</td>\n",
       "      <td>0</td>\n",
       "      <td>0</td>\n",
       "      <td>...</td>\n",
       "      <td>-0.412404</td>\n",
       "      <td>-0.402244</td>\n",
       "      <td>-0.362505</td>\n",
       "      <td>-0.262419</td>\n",
       "      <td>-0.180107</td>\n",
       "      <td>-0.135334</td>\n",
       "      <td>-0.130392</td>\n",
       "      <td>-0.0931025</td>\n",
       "      <td>-0.0654459</td>\n",
       "      <td>[166, 311]</td>\n",
       "    </tr>\n",
       "  </tbody>\n",
       "</table>\n",
       "<p>5 rows × 407 columns</p>\n",
       "</div>"
      ],
      "text/plain": [
       "              datetime      lat      lon report_count ra_percent sn_percent  \\\n",
       "0  2013-01-28 00:00:00  33.6384  248.036            1          1          0   \n",
       "1  2013-01-28 00:00:00   38.202  274.353            1          1          0   \n",
       "2  2013-01-28 00:00:00  38.2101  274.202            1          1          0   \n",
       "3  2013-01-28 00:00:00  38.5563  274.384            1          1          0   \n",
       "4  2013-01-28 00:00:00   39.473  274.925            2          1          0   \n",
       "\n",
       "  pl_percent fzra_percent CFRZR_- CICEP_-  ... VVEL_775_Pa/s VVEL_800_Pa/s  \\\n",
       "0          0            0       0       0  ...     0.0875959      0.160256   \n",
       "1          0            0       0       0  ...      0.243846      0.222756   \n",
       "2          0            0       0       0  ...      0.243846      0.222756   \n",
       "3          0            0       0       0  ...   -0.00615406     0.0352564   \n",
       "4          0            0       0       0  ...     -0.412404     -0.402244   \n",
       "\n",
       "  VVEL_825_Pa/s VVEL_850_Pa/s VVEL_875_Pa/s VVEL_900_Pa/s VVEL_925_Pa/s  \\\n",
       "0      0.168745      0.112581    0.00739288     -0.104084     -0.161642   \n",
       "1      0.199995      0.143831     0.0698929      0.020916    -0.0366421   \n",
       "2      0.199995      0.175081     0.0698929      0.020916    -0.0366421   \n",
       "3      0.074995      0.112581      0.101143      0.145916      0.119608   \n",
       "4     -0.362505     -0.262419     -0.180107     -0.135334     -0.130392   \n",
       "\n",
       "  VVEL_950_Pa/s VVEL_975_Pa/s         idx  \n",
       "0     -0.218102     -0.221696  [122, 129]  \n",
       "1    -0.0618525    -0.0341959  [155, 308]  \n",
       "2    -0.0931025    -0.0654459  [155, 307]  \n",
       "3     0.0318975    -0.0341959  [158, 308]  \n",
       "4    -0.0931025    -0.0654459  [166, 311]  \n",
       "\n",
       "[5 rows x 407 columns]"
      ]
     },
     "execution_count": 87,
     "metadata": {},
     "output_type": "execute_result"
    }
   ],
   "source": [
    "df_new.head()"
   ]
  }
 ],
 "metadata": {
  "kernelspec": {
   "display_name": "Python 3 (ipykernel)",
   "language": "python",
   "name": "python3"
  },
  "language_info": {
   "codemirror_mode": {
    "name": "ipython",
    "version": 3
   },
   "file_extension": ".py",
   "mimetype": "text/x-python",
   "name": "python",
   "nbconvert_exporter": "python",
   "pygments_lexer": "ipython3",
   "version": "3.9.12"
  }
 },
 "nbformat": 4,
 "nbformat_minor": 5
}
