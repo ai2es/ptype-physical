{
 "cells": [
  {
   "cell_type": "markdown",
   "id": "45e0dd4d-113a-433e-acbc-a4e02e9bf193",
   "metadata": {
    "tags": []
   },
   "source": [
    "## Imports and Function Definitions"
   ]
  },
  {
   "cell_type": "code",
   "execution_count": 1,
   "id": "b040c955-f21b-4c91-bc0a-9ebbdd4a4329",
   "metadata": {},
   "outputs": [],
   "source": [
    "import yaml, glob\n",
    "import pandas as pd\n",
    "from sklearn.model_selection import train_test_split, GroupShuffleSplit\n",
    "from sklearn.preprocessing import StandardScaler\n",
    "import tqdm\n",
    "import numpy as np\n",
    "import tensorflow as tf\n",
    "import matplotlib.pyplot as plt\n",
    "from sklearn.metrics import confusion_matrix\n",
    "from sklearn.utils.multiclass import unique_labels\n",
    "from callbacks import get_callbacks \n",
    "import logging\n",
    "from sklearn.utils import class_weight"
   ]
  },
  {
   "cell_type": "code",
   "execution_count": 2,
   "id": "b4079583-c357-4f42-b6a2-9ed3773436fe",
   "metadata": {},
   "outputs": [],
   "source": [
    "def plot_confusion_matrix(y_true, y_pred, classes,\n",
    "                          normalize=False,\n",
    "                          title=None,\n",
    "                          cmap=plt.cm.Blues):\n",
    "    \"\"\"\n",
    "    This function prints and plots the confusion matrix.\n",
    "    Normalization can be applied by setting `normalize=True`.\n",
    "    \"\"\"\n",
    "    if not title:\n",
    "        if normalize:\n",
    "            title = 'Normalized confusion matrix'\n",
    "        else:\n",
    "            title = 'Confusion matrix, without normalization'\n",
    "    # Compute confusion matrix\n",
    "    cm = confusion_matrix(y_true, y_pred)\n",
    "    # Only use the labels that appear in the data\n",
    "    # classes = classes[unique_labels(y_true, y_pred)]\n",
    "    if normalize:\n",
    "        cm = cm.astype('float') / cm.sum(axis=1)[:, np.newaxis]\n",
    "        print(\"Normalized confusion matrix\")\n",
    "    else:\n",
    "        print('Confusion matrix, without normalization')\n",
    "    print(cm)\n",
    "    fig, ax = plt.subplots()\n",
    "    im = ax.imshow(cm, interpolation='nearest', cmap=cmap)\n",
    "    ax.figure.colorbar(im, ax=ax)\n",
    "    # We want to show all ticks...\n",
    "    ax.set(xticks=np.arange(cm.shape[1]),\n",
    "           yticks=np.arange(cm.shape[0]),\n",
    "           # ... and label them with the respective list entries\n",
    "           xticklabels=classes, yticklabels=classes,\n",
    "           title=title,\n",
    "           ylabel='True label',\n",
    "           xlabel='Predicted label')\n",
    "    # Rotate the tick labels and set their alignment.\n",
    "    plt.setp(ax.get_xticklabels(), rotation=45, ha=\"right\",\n",
    "             rotation_mode=\"anchor\")\n",
    "    # Loop over data dimensions and create text annotations.\n",
    "    fmt = '.2f' if normalize else 'd'\n",
    "    thresh = cm.max() / 2.\n",
    "    for i in range(cm.shape[0]):\n",
    "        for j in range(cm.shape[1]):\n",
    "            ax.text(j, i, format(cm[i, j], fmt),\n",
    "                    ha=\"center\", va=\"center\",\n",
    "                    color=\"white\" if cm[i, j] > thresh else \"black\")\n",
    "    fig.tight_layout()\n",
    "    # plt.xlim(-0.5, len(np.unique(y))-0.5)\n",
    "    # plt.ylim(len(np.unique(y))-0.5, -0.5)\n",
    "    return ax\n",
    "\n",
    "def one_hot(x):\n",
    "    a = np.zeros(len(output_cols))\n",
    "    a[x] = 1\n",
    "    return a\n",
    "\n",
    "def build_model(input_size, hidden_size, output_size):\n",
    "    model = tf.keras.models.Sequential(\n",
    "        [tf.keras.layers.Dense(input_size, activation='relu'),\n",
    "        tf.keras.layers.Dense(hidden_size, activation='relu'),\n",
    "        tf.keras.layers.Dense(output_size, activation='softmax')]\n",
    "    )\n",
    "    return model"
   ]
  },
  {
   "cell_type": "markdown",
   "id": "5d271ebf-2495-4258-8e80-de8bb9b81bfe",
   "metadata": {
    "jp-MarkdownHeadingCollapsed": true,
    "tags": []
   },
   "source": [
    "# NN for all ASOS Data\n",
    "\n",
    "This model will be a simple NN consisting only of Keras dense layers."
   ]
  },
  {
   "cell_type": "markdown",
   "id": "991619e4-2460-4fb8-8c6a-2748bdb9ad11",
   "metadata": {
    "tags": []
   },
   "source": [
    "### Get features and outputs from config.yml"
   ]
  },
  {
   "cell_type": "code",
   "execution_count": 3,
   "id": "c8dcfa38-33ba-4738-b78f-7f188daa3405",
   "metadata": {},
   "outputs": [],
   "source": [
    "config = 'config.yml'\n",
    "with open(config) as f:\n",
    "    conf = yaml.load(f, Loader=yaml.FullLoader)\n",
    "    \n",
    "# print(conf)\n",
    "input_cols = conf['tempvars'] + conf['tempdewvars'] + conf['ugrdvars'] + conf['vgrdvars']\n",
    "output_cols = conf['outputvars']"
   ]
  },
  {
   "cell_type": "code",
   "execution_count": 4,
   "id": "de026cf2-1d1d-42a0-8ae3-ea02383a5bd9",
   "metadata": {},
   "outputs": [],
   "source": [
    "# sort files by their date\n",
    "arr = sorted(glob.glob(conf['asos_path']+'*'))"
   ]
  },
  {
   "cell_type": "markdown",
   "id": "1fa3935b-6e24-4aed-b05b-fa40f1f8c259",
   "metadata": {},
   "source": [
    "### Load all ASOS data"
   ]
  },
  {
   "cell_type": "code",
   "execution_count": 5,
   "id": "36775241-7b2d-4eba-a411-bf1f59c0b9fd",
   "metadata": {},
   "outputs": [
    {
     "name": "stderr",
     "output_type": "stream",
     "text": [
      "100%|██████████| 1884/1884 [03:44<00:00,  8.39it/s]\n"
     ]
    },
    {
     "data": {
      "text/plain": [
       "(4029725, 407)"
      ]
     },
     "execution_count": 5,
     "metadata": {},
     "output_type": "execute_result"
    }
   ],
   "source": [
    "df = pd.concat([pd.read_parquet(x) for x in tqdm.tqdm(arr)])\n",
    "df.shape"
   ]
  },
  {
   "cell_type": "markdown",
   "id": "53b78131-5423-4476-8bd5-dcac54375613",
   "metadata": {},
   "source": [
    "### Split the data"
   ]
  },
  {
   "cell_type": "code",
   "execution_count": 6,
   "id": "ac142e3c-583c-46b7-a113-d637b5842e60",
   "metadata": {},
   "outputs": [],
   "source": [
    "df['day'] = df['datetime'].apply(lambda x: str(x).split(' ')[0])"
   ]
  },
  {
   "cell_type": "code",
   "execution_count": 7,
   "id": "5255288c-bf0d-492f-a84d-ca1638df8898",
   "metadata": {},
   "outputs": [],
   "source": [
    "splitter = GroupShuffleSplit(n_splits=1, train_size=0.9)"
   ]
  },
  {
   "cell_type": "code",
   "execution_count": 8,
   "id": "760e3dbe-2a04-43bb-9ef6-86321756015d",
   "metadata": {},
   "outputs": [],
   "source": [
    "train_idx, test_idx = list(splitter.split(df, groups=df['day']))[0]\n",
    "train_data, test_data = df.iloc[train_idx], df.iloc[test_idx]"
   ]
  },
  {
   "cell_type": "code",
   "execution_count": 9,
   "id": "11f41bb5-34ff-4549-a760-cc1039912939",
   "metadata": {},
   "outputs": [],
   "source": [
    "splitter = GroupShuffleSplit(n_splits=1, train_size=0.885)\n",
    "train_idx, valid_idx = list(splitter.split(train_data, groups=train_data['day']))[0]\n",
    "train_data, valid_data = train_data.iloc[train_idx], train_data.iloc[valid_idx]"
   ]
  },
  {
   "cell_type": "code",
   "execution_count": 10,
   "id": "064f2840-7f90-4583-86cd-0c0e3be01902",
   "metadata": {},
   "outputs": [
    {
     "data": {
      "text/plain": [
       "(3246577, 408)"
      ]
     },
     "execution_count": 10,
     "metadata": {},
     "output_type": "execute_result"
    }
   ],
   "source": [
    "train_data.shape"
   ]
  },
  {
   "cell_type": "code",
   "execution_count": 11,
   "id": "ee4406d3-831e-481a-a837-c9fe55742294",
   "metadata": {},
   "outputs": [
    {
     "data": {
      "text/plain": [
       "(420210, 408)"
      ]
     },
     "execution_count": 11,
     "metadata": {},
     "output_type": "execute_result"
    }
   ],
   "source": [
    "test_data.shape"
   ]
  },
  {
   "cell_type": "code",
   "execution_count": 12,
   "id": "efd7f920-924d-4f75-989d-bcd5f75fa9dd",
   "metadata": {},
   "outputs": [
    {
     "data": {
      "text/plain": [
       "(362938, 408)"
      ]
     },
     "execution_count": 12,
     "metadata": {},
     "output_type": "execute_result"
    }
   ],
   "source": [
    "valid_data.shape"
   ]
  },
  {
   "cell_type": "markdown",
   "id": "6ff37c6b-0153-4ce7-821c-342dcc4629c5",
   "metadata": {},
   "source": [
    "### Preprocess the data"
   ]
  },
  {
   "cell_type": "code",
   "execution_count": 13,
   "id": "824b4762-cd1f-4cdd-a10a-e236d56df2b6",
   "metadata": {},
   "outputs": [],
   "source": [
    "scaler_x = StandardScaler()"
   ]
  },
  {
   "cell_type": "code",
   "execution_count": 14,
   "id": "372f436d-92af-4861-a774-c1b097ebe7cb",
   "metadata": {},
   "outputs": [],
   "source": [
    "x_train = scaler_x.fit_transform(train_data[input_cols])"
   ]
  },
  {
   "cell_type": "code",
   "execution_count": 15,
   "id": "da01ce45-197f-46a8-bce7-4462028343b8",
   "metadata": {},
   "outputs": [],
   "source": [
    "x_valid = scaler_x.transform(valid_data[input_cols])"
   ]
  },
  {
   "cell_type": "code",
   "execution_count": 16,
   "id": "cd234173-79e3-4a25-9f9b-50068af3fb42",
   "metadata": {},
   "outputs": [],
   "source": [
    "x_test = scaler_x.transform(test_data[input_cols])"
   ]
  },
  {
   "cell_type": "code",
   "execution_count": 17,
   "id": "db87138a-949e-4665-9c11-5aef1603481d",
   "metadata": {},
   "outputs": [],
   "source": [
    "train_data['label'] = train_data[output_cols].idxmax(axis=1).apply(lambda x: one_hot(output_cols.index(x)))\n",
    "y_train = train_data['label'].to_numpy()\n",
    "y_train = np.vstack(y_train)"
   ]
  },
  {
   "cell_type": "code",
   "execution_count": 18,
   "id": "efa6e611-28b7-453c-b49a-1c690290c55c",
   "metadata": {},
   "outputs": [],
   "source": [
    "valid_data['label'] = valid_data[output_cols].idxmax(axis=1).apply(lambda x: one_hot(output_cols.index(x)))\n",
    "y_valid = valid_data['label'].to_numpy()\n",
    "y_valid = np.vstack(y_valid)"
   ]
  },
  {
   "cell_type": "code",
   "execution_count": 19,
   "id": "019f60e0-c219-4ac3-8ff8-9ccbc0ecf9d0",
   "metadata": {},
   "outputs": [
    {
     "name": "stderr",
     "output_type": "stream",
     "text": [
      "/glade/scratch/jwillson/ipykernel_127668/4158757772.py:1: SettingWithCopyWarning: \n",
      "A value is trying to be set on a copy of a slice from a DataFrame.\n",
      "Try using .loc[row_indexer,col_indexer] = value instead\n",
      "\n",
      "See the caveats in the documentation: https://pandas.pydata.org/pandas-docs/stable/user_guide/indexing.html#returning-a-view-versus-a-copy\n",
      "  test_data['label'] = test_data[output_cols].idxmax(axis=1).apply(lambda x: one_hot(output_cols.index(x)))\n"
     ]
    }
   ],
   "source": [
    "test_data['label'] = test_data[output_cols].idxmax(axis=1).apply(lambda x: one_hot(output_cols.index(x)))\n",
    "y_test = test_data['label'].to_numpy()\n",
    "y_test = np.vstack(y_test)"
   ]
  },
  {
   "cell_type": "markdown",
   "id": "dfe6d462-b010-4f21-996f-909b82da78eb",
   "metadata": {},
   "source": [
    "### Train Model"
   ]
  },
  {
   "cell_type": "code",
   "execution_count": 32,
   "id": "be56c5cf-6a89-4c58-864c-1f516bad8a5b",
   "metadata": {},
   "outputs": [
    {
     "name": "stdout",
     "output_type": "stream",
     "text": [
      "Model: \"sequential_4\"\n",
      "_________________________________________________________________\n",
      " Layer (type)                Output Shape              Param #   \n",
      "=================================================================\n",
      " dense_12 (Dense)            (20000, 268)              72092     \n",
      "                                                                 \n",
      " dense_13 (Dense)            (20000, 100)              26900     \n",
      "                                                                 \n",
      " dense_14 (Dense)            (20000, 4)                404       \n",
      "                                                                 \n",
      "=================================================================\n",
      "Total params: 99,396\n",
      "Trainable params: 99,396\n",
      "Non-trainable params: 0\n",
      "_________________________________________________________________\n"
     ]
    }
   ],
   "source": [
    "model = build_model(len(input_cols), 100, len(output_cols))\n",
    "model.build((20000, len(input_cols)))\n",
    "model.summary()"
   ]
  },
  {
   "cell_type": "code",
   "execution_count": 33,
   "id": "4ae0731b-1dd9-45dd-912d-2448a56579d5",
   "metadata": {},
   "outputs": [],
   "source": [
    "learning_rate = 1e-3\n",
    "optimizer = tf.keras.optimizers.Adam(learning_rate)\n",
    "loss = tf.keras.losses.CategoricalCrossentropy()\n",
    "model.compile(loss=loss, optimizer=optimizer, metrics='acc', run_eagerly=True) \n",
    "#metrics could be list"
   ]
  },
  {
   "cell_type": "code",
   "execution_count": 35,
   "id": "51e81a90-6723-4ec2-b204-4577d23a71b2",
   "metadata": {},
   "outputs": [
    {
     "name": "stdout",
     "output_type": "stream",
     "text": [
      "Epoch 1/25\n",
      "163/163 [==============================] - 26s 156ms/step - loss: 0.1228 - acc: 0.9549 - val_loss: 0.1270 - val_acc: 0.9526\n",
      "Epoch 2/25\n",
      "163/163 [==============================] - 25s 154ms/step - loss: 0.1185 - acc: 0.9564 - val_loss: 0.1275 - val_acc: 0.9518\n",
      "Epoch 3/25\n",
      "163/163 [==============================] - 25s 153ms/step - loss: 0.1149 - acc: 0.9577 - val_loss: 0.1241 - val_acc: 0.9537\n",
      "Epoch 4/25\n",
      "163/163 [==============================] - 25s 156ms/step - loss: 0.1126 - acc: 0.9586 - val_loss: 0.1212 - val_acc: 0.9548\n",
      "Epoch 5/25\n",
      "163/163 [==============================] - 25s 156ms/step - loss: 0.1101 - acc: 0.9594 - val_loss: 0.1225 - val_acc: 0.9540\n",
      "Epoch 6/25\n",
      "163/163 [==============================] - 25s 153ms/step - loss: 0.1084 - acc: 0.9600 - val_loss: 0.1183 - val_acc: 0.9555\n",
      "Epoch 7/25\n",
      "163/163 [==============================] - 26s 158ms/step - loss: 0.1069 - acc: 0.9607 - val_loss: 0.1183 - val_acc: 0.9557\n",
      "Epoch 8/25\n",
      "163/163 [==============================] - 25s 153ms/step - loss: 0.1059 - acc: 0.9610 - val_loss: 0.1229 - val_acc: 0.9536\n",
      "Epoch 9/25\n",
      "163/163 [==============================] - 25s 156ms/step - loss: 0.1044 - acc: 0.9615 - val_loss: 0.1166 - val_acc: 0.9567\n",
      "Epoch 10/25\n",
      "163/163 [==============================] - 26s 158ms/step - loss: 0.1034 - acc: 0.9619 - val_loss: 0.1157 - val_acc: 0.9568\n",
      "Epoch 11/25\n",
      "163/163 [==============================] - 25s 154ms/step - loss: 0.1023 - acc: 0.9623 - val_loss: 0.1171 - val_acc: 0.9558\n",
      "Epoch 12/25\n",
      "163/163 [==============================] - 25s 155ms/step - loss: 0.1013 - acc: 0.9626 - val_loss: 0.1147 - val_acc: 0.9574\n",
      "Epoch 13/25\n",
      "163/163 [==============================] - 26s 158ms/step - loss: 0.1008 - acc: 0.9628 - val_loss: 0.1158 - val_acc: 0.9563\n",
      "Epoch 14/25\n",
      "163/163 [==============================] - 25s 155ms/step - loss: 0.0997 - acc: 0.9632 - val_loss: 0.1201 - val_acc: 0.9550\n",
      "Epoch 15/25\n",
      "163/163 [==============================] - 25s 154ms/step - loss: 0.0991 - acc: 0.9635 - val_loss: 0.1201 - val_acc: 0.9548\n",
      "Epoch 16/25\n",
      "163/163 [==============================] - 26s 158ms/step - loss: 0.0983 - acc: 0.9638 - val_loss: 0.1188 - val_acc: 0.9555\n",
      "Epoch 17/25\n",
      "163/163 [==============================] - 25s 154ms/step - loss: 0.0976 - acc: 0.9641 - val_loss: 0.1144 - val_acc: 0.9573\n",
      "Epoch 18/25\n",
      "163/163 [==============================] - 25s 154ms/step - loss: 0.0970 - acc: 0.9643 - val_loss: 0.1132 - val_acc: 0.9579\n",
      "Epoch 19/25\n",
      "163/163 [==============================] - 26s 159ms/step - loss: 0.0965 - acc: 0.9645 - val_loss: 0.1134 - val_acc: 0.9578\n",
      "Epoch 20/25\n",
      "163/163 [==============================] - 25s 155ms/step - loss: 0.0957 - acc: 0.9648 - val_loss: 0.1152 - val_acc: 0.9570\n",
      "Epoch 21/25\n",
      "163/163 [==============================] - 25s 156ms/step - loss: 0.0952 - acc: 0.9649 - val_loss: 0.1143 - val_acc: 0.9578\n",
      "Epoch 22/25\n",
      "163/163 [==============================] - 26s 159ms/step - loss: 0.0948 - acc: 0.9651 - val_loss: 0.1139 - val_acc: 0.9576\n",
      "Epoch 23/25\n",
      "163/163 [==============================] - 25s 155ms/step - loss: 0.0944 - acc: 0.9652 - val_loss: 0.1153 - val_acc: 0.9572\n",
      "Epoch 24/25\n",
      "163/163 [==============================] - 25s 154ms/step - loss: 0.0940 - acc: 0.9653 - val_loss: 0.1130 - val_acc: 0.9581\n",
      "Epoch 25/25\n",
      "163/163 [==============================] - 26s 158ms/step - loss: 0.0937 - acc: 0.9655 - val_loss: 0.1144 - val_acc: 0.9577\n"
     ]
    }
   ],
   "source": [
    "training = model.fit(x_train, y_train, validation_data=(x_valid, y_valid), batch_size=20000, shuffle=True, epochs=25) \n",
    "#set as variable"
   ]
  },
  {
   "cell_type": "markdown",
   "id": "e51829a2-473f-47ad-b57e-e439b12f056f",
   "metadata": {},
   "source": [
    "### Test Model"
   ]
  },
  {
   "cell_type": "code",
   "execution_count": 36,
   "id": "d205dc6b-1da1-4a4b-8069-cc4d06b915dd",
   "metadata": {},
   "outputs": [],
   "source": [
    "predictions = model.predict(x_test)"
   ]
  },
  {
   "cell_type": "code",
   "execution_count": 37,
   "id": "958dad5e-13ca-4ff3-b160-6ecc49666f57",
   "metadata": {},
   "outputs": [
    {
     "data": {
      "text/plain": [
       "0.9575283786678089"
      ]
     },
     "execution_count": 37,
     "metadata": {},
     "output_type": "execute_result"
    }
   ],
   "source": [
    "preds = np.argmax(predictions, 1)\n",
    "labels = np.argmax(y_test,1)\n",
    "(preds == labels).mean()"
   ]
  },
  {
   "cell_type": "code",
   "execution_count": 39,
   "id": "b8b12d9d-423b-46bd-a5d7-67758e3b36c3",
   "metadata": {},
   "outputs": [
    {
     "name": "stdout",
     "output_type": "stream",
     "text": [
      "Confusion matrix, without normalization\n",
      "[[290082   6266      7    786]\n",
      " [  6452 109901      7   1180]\n",
      " [   184    179      2     81]\n",
      " [  1406   1296      3   2378]]\n",
      "Normalized confusion matrix\n",
      "[[9.76e-01 2.11e-02 2.36e-05 2.65e-03]\n",
      " [5.49e-02 9.35e-01 5.96e-05 1.00e-02]\n",
      " [4.13e-01 4.01e-01 4.48e-03 1.82e-01]\n",
      " [2.77e-01 2.55e-01 5.90e-04 4.68e-01]]\n"
     ]
    },
    {
     "data": {
      "image/png": "[encoded data removed]",
      "text/plain": [
       "<Figure size 432x288 with 2 Axes>"
      ]
     },
     "metadata": {
      "needs_background": "light"
     },
     "output_type": "display_data"
    },
    {
     "data": {
      "image/png": "[encoded data removed]",
      "text/plain": [
       "<Figure size 432x288 with 2 Axes>"
      ]
     },
     "metadata": {
      "needs_background": "light"
     },
     "output_type": "display_data"
    }
   ],
   "source": [
    "np.set_printoptions(precision=2)\n",
    "class_names = [str(x) for x in sorted(set(labels))]\n",
    "\n",
    "# Plot non-normalized confusion matrix\n",
    "plot_confusion_matrix(labels, preds, classes=class_names,\n",
    "                      title='Confusion matrix, without normalization')\n",
    "\n",
    "# Plot normalized confusion matrix\n",
    "plot_confusion_matrix(labels, preds, classes=class_names, normalize=True,\n",
    "                      title='Normalized confusion matrix')\n",
    "\n",
    "plt.show()"
   ]
  },
  {
   "cell_type": "markdown",
   "id": "49e2f3f9-9f99-41a2-ae63-229a6b029be0",
   "metadata": {
    "tags": []
   },
   "source": [
    "# New NN"
   ]
  },
  {
   "cell_type": "markdown",
   "id": "67f20985-9bac-40e4-80af-0f5f38a9e7ce",
   "metadata": {
    "tags": []
   },
   "source": [
    "New features\n",
    "\n",
    "- 4 callbacks in the config.yml file are used with John's default settings\n",
    "- one hot encoding removed so the model can predict the percentages of each ptype\n",
    "\n",
    "Planning on introducing a weighting scheme based on the proportions for each class label in the training dataset. "
   ]
  },
  {
   "cell_type": "markdown",
   "id": "7c0ec925-2629-4b3f-b55f-7727597e9a19",
   "metadata": {},
   "source": [
    "### Get features and outputs from config.yml"
   ]
  },
  {
   "cell_type": "code",
   "execution_count": 3,
   "id": "c1010fa6-bb9c-40e9-b938-7c76668d6aee",
   "metadata": {},
   "outputs": [],
   "source": [
    "config = 'config.yml'\n",
    "with open(config) as f:\n",
    "    conf = yaml.load(f, Loader=yaml.FullLoader)\n",
    "    \n",
    "# print(conf)\n",
    "input_cols = conf['tempvars'] + conf['tempdewvars'] + conf['ugrdvars'] + conf['vgrdvars']\n",
    "output_cols = conf['outputvars']"
   ]
  },
  {
   "cell_type": "code",
   "execution_count": 4,
   "id": "7db1894c-a54c-4128-bc89-2be77a17ce22",
   "metadata": {},
   "outputs": [],
   "source": [
    "# sort files by their date\n",
    "arr = sorted(glob.glob(conf['asos_path']+'*'))"
   ]
  },
  {
   "cell_type": "markdown",
   "id": "977c0db9-551b-48be-8353-8515a77428e0",
   "metadata": {},
   "source": [
    "### Load all ASOS data"
   ]
  },
  {
   "cell_type": "code",
   "execution_count": 5,
   "id": "93f4abf8-f95e-4f94-bdd9-e0b058a54b2c",
   "metadata": {},
   "outputs": [],
   "source": [
    "df = pd.read_parquet(conf['work_path']+'asos_data.parquet')"
   ]
  },
  {
   "cell_type": "code",
   "execution_count": 5,
   "id": "a8320c6e-11a7-4ef8-8c7b-023ade4255b4",
   "metadata": {},
   "outputs": [
    {
     "name": "stderr",
     "output_type": "stream",
     "text": [
      "100%|██████████| 1884/1884 [03:48<00:00,  8.26it/s]\n"
     ]
    },
    {
     "data": {
      "text/plain": [
       "(4029725, 407)"
      ]
     },
     "execution_count": 5,
     "metadata": {},
     "output_type": "execute_result"
    }
   ],
   "source": [
    "df = pd.concat([pd.read_parquet(x) for x in tqdm.tqdm(arr)])\n",
    "df.shape"
   ]
  },
  {
   "cell_type": "code",
   "execution_count": 17,
   "id": "e64653d1-4167-4c32-919d-e14daa9f8216",
   "metadata": {},
   "outputs": [],
   "source": [
    "df.to_parquet(conf['work_path']+'asos_data.parquet')"
   ]
  },
  {
   "cell_type": "markdown",
   "id": "713b92c0-8609-4fdd-9c5f-15e293c3c1ba",
   "metadata": {},
   "source": [
    "### Split the data"
   ]
  },
  {
   "cell_type": "code",
   "execution_count": 25,
   "id": "2f951163-e29e-493e-b701-9388cffd6b53",
   "metadata": {},
   "outputs": [],
   "source": [
    "df['day'] = df['datetime'].apply(lambda x: str(x).split(' ')[0])"
   ]
  },
  {
   "cell_type": "code",
   "execution_count": 26,
   "id": "3c468eb2-8e81-4148-a4da-5f93087b7595",
   "metadata": {},
   "outputs": [],
   "source": [
    "splitter = GroupShuffleSplit(n_splits=1, train_size=0.9)"
   ]
  },
  {
   "cell_type": "code",
   "execution_count": 27,
   "id": "70e4ed86-e093-497f-8a1c-5014906cd5b9",
   "metadata": {},
   "outputs": [],
   "source": [
    "train_idx, test_idx = list(splitter.split(df, groups=df['day']))[0]\n",
    "train_data, test_data = df.iloc[train_idx], df.iloc[test_idx]"
   ]
  },
  {
   "cell_type": "code",
   "execution_count": 28,
   "id": "bc3a7f89-ff1f-457b-96a7-4cca86fe0cf7",
   "metadata": {},
   "outputs": [],
   "source": [
    "splitter = GroupShuffleSplit(n_splits=1, train_size=0.885)\n",
    "train_idx, valid_idx = list(splitter.split(train_data, groups=train_data['day']))[0]\n",
    "train_data, valid_data = train_data.iloc[train_idx], train_data.iloc[valid_idx]"
   ]
  },
  {
   "cell_type": "code",
   "execution_count": 29,
   "id": "087b7a0c-c535-467c-aee5-3068cbef9a28",
   "metadata": {},
   "outputs": [
    {
     "data": {
      "text/plain": [
       "(3201044, 408)"
      ]
     },
     "execution_count": 29,
     "metadata": {},
     "output_type": "execute_result"
    }
   ],
   "source": [
    "train_data.shape"
   ]
  },
  {
   "cell_type": "code",
   "execution_count": 30,
   "id": "f6839de0-891c-44e3-9094-f96b0521c8c2",
   "metadata": {},
   "outputs": [
    {
     "data": {
      "text/plain": [
       "(393605, 408)"
      ]
     },
     "execution_count": 30,
     "metadata": {},
     "output_type": "execute_result"
    }
   ],
   "source": [
    "test_data.shape"
   ]
  },
  {
   "cell_type": "code",
   "execution_count": 31,
   "id": "bd816fdd-11b0-4a7b-add5-31d0c9ee4e99",
   "metadata": {},
   "outputs": [
    {
     "data": {
      "text/plain": [
       "(435076, 408)"
      ]
     },
     "execution_count": 31,
     "metadata": {},
     "output_type": "execute_result"
    }
   ],
   "source": [
    "valid_data.shape"
   ]
  },
  {
   "cell_type": "markdown",
   "id": "3eaca1a7-ecfd-494f-95a5-682149f8414e",
   "metadata": {},
   "source": [
    "### Preprocess the data"
   ]
  },
  {
   "cell_type": "code",
   "execution_count": 32,
   "id": "3384b991-5d3a-4037-81c5-5c3e060d47d1",
   "metadata": {},
   "outputs": [],
   "source": [
    "scaler_x = StandardScaler()"
   ]
  },
  {
   "cell_type": "code",
   "execution_count": 33,
   "id": "61f85799-4ea1-4d3a-b76c-11866f39156e",
   "metadata": {},
   "outputs": [],
   "source": [
    "x_train = scaler_x.fit_transform(train_data[input_cols])"
   ]
  },
  {
   "cell_type": "code",
   "execution_count": 34,
   "id": "a3fa58e9-a47d-4354-89ba-ce8106921195",
   "metadata": {},
   "outputs": [],
   "source": [
    "x_valid = scaler_x.transform(valid_data[input_cols])"
   ]
  },
  {
   "cell_type": "code",
   "execution_count": 35,
   "id": "934535d3-6231-438e-af7e-6e02531552fe",
   "metadata": {},
   "outputs": [],
   "source": [
    "x_test = scaler_x.transform(test_data[input_cols])"
   ]
  },
  {
   "cell_type": "markdown",
   "id": "cdf26299-fc43-4563-b1b7-4e1911924e8c",
   "metadata": {
    "tags": []
   },
   "source": [
    "#### One hot encoding"
   ]
  },
  {
   "cell_type": "code",
   "execution_count": 36,
   "id": "28935fb8-9c6c-4647-a228-dcce1b4e2e35",
   "metadata": {},
   "outputs": [
    {
     "data": {
      "text/plain": [
       "(3201044, 4)"
      ]
     },
     "execution_count": 36,
     "metadata": {},
     "output_type": "execute_result"
    }
   ],
   "source": [
    "train_data['label'] = train_data[output_cols].idxmax(axis=1).apply(lambda x: one_hot(output_cols.index(x)))\n",
    "y_train = train_data['label'].to_numpy()\n",
    "y_train = np.vstack(y_train)\n",
    "y_train.shape"
   ]
  },
  {
   "cell_type": "code",
   "execution_count": 37,
   "id": "c5dfa04f-1876-45c9-abf8-884953b094a4",
   "metadata": {},
   "outputs": [
    {
     "data": {
      "text/plain": [
       "(435076, 4)"
      ]
     },
     "execution_count": 37,
     "metadata": {},
     "output_type": "execute_result"
    }
   ],
   "source": [
    "valid_data['label'] = valid_data[output_cols].idxmax(axis=1).apply(lambda x: one_hot(output_cols.index(x)))\n",
    "y_valid = valid_data['label'].to_numpy()\n",
    "y_valid = np.vstack(y_valid)\n",
    "y_valid.shape"
   ]
  },
  {
   "cell_type": "code",
   "execution_count": 38,
   "id": "acd90de7-135f-4a93-a587-06c577d8f87c",
   "metadata": {},
   "outputs": [
    {
     "name": "stderr",
     "output_type": "stream",
     "text": [
      "/glade/scratch/jwillson/ipykernel_102308/1794376418.py:1: SettingWithCopyWarning: \n",
      "A value is trying to be set on a copy of a slice from a DataFrame.\n",
      "Try using .loc[row_indexer,col_indexer] = value instead\n",
      "\n",
      "See the caveats in the documentation: https://pandas.pydata.org/pandas-docs/stable/user_guide/indexing.html#returning-a-view-versus-a-copy\n",
      "  test_data['label'] = test_data[output_cols].idxmax(axis=1).apply(lambda x: one_hot(output_cols.index(x)))\n"
     ]
    },
    {
     "data": {
      "text/plain": [
       "(393605, 4)"
      ]
     },
     "execution_count": 38,
     "metadata": {},
     "output_type": "execute_result"
    }
   ],
   "source": [
    "test_data['label'] = test_data[output_cols].idxmax(axis=1).apply(lambda x: one_hot(output_cols.index(x)))\n",
    "y_test = test_data['label'].to_numpy()\n",
    "y_test = np.vstack(y_test)\n",
    "y_test.shape"
   ]
  },
  {
   "cell_type": "markdown",
   "id": "5f867f86-118c-45b6-9816-a73d7e5a80a2",
   "metadata": {
    "jp-MarkdownHeadingCollapsed": true,
    "tags": []
   },
   "source": [
    "#### One hot encoding not used"
   ]
  },
  {
   "cell_type": "code",
   "execution_count": 20,
   "id": "e8e48e4f-8251-49aa-9994-2238865c660d",
   "metadata": {},
   "outputs": [
    {
     "data": {
      "text/plain": [
       "(3195149, 4)"
      ]
     },
     "execution_count": 20,
     "metadata": {},
     "output_type": "execute_result"
    }
   ],
   "source": [
    "y_train = train_data[output_cols].to_numpy()\n",
    "y_train.shape"
   ]
  },
  {
   "cell_type": "code",
   "execution_count": 21,
   "id": "975b7fe9-be8d-4858-9ab2-d56e4b64d215",
   "metadata": {},
   "outputs": [
    {
     "data": {
      "text/plain": [
       "(436901, 4)"
      ]
     },
     "execution_count": 21,
     "metadata": {},
     "output_type": "execute_result"
    }
   ],
   "source": [
    "y_valid = valid_data[output_cols].to_numpy()\n",
    "y_valid.shape"
   ]
  },
  {
   "cell_type": "code",
   "execution_count": 22,
   "id": "a9f388e9-78c6-4f11-900b-8d36fdbfc61c",
   "metadata": {},
   "outputs": [
    {
     "data": {
      "text/plain": [
       "(397675, 4)"
      ]
     },
     "execution_count": 22,
     "metadata": {},
     "output_type": "execute_result"
    }
   ],
   "source": [
    "y_test = test_data[output_cols].to_numpy()\n",
    "y_test.shape"
   ]
  },
  {
   "cell_type": "markdown",
   "id": "f343172c-78d7-4515-b4b5-45588b88878b",
   "metadata": {},
   "source": [
    "#### Add class weights"
   ]
  },
  {
   "cell_type": "code",
   "execution_count": 72,
   "id": "8ac9371c-afca-4f36-9c44-f5e1e7c0f666",
   "metadata": {},
   "outputs": [],
   "source": [
    "classes = [np.argmax(y_train[i]) for i in range(len(y_train))]"
   ]
  },
  {
   "cell_type": "code",
   "execution_count": 73,
   "id": "9334bf6f-a920-4974-be1b-2168512323ba",
   "metadata": {},
   "outputs": [
    {
     "data": {
      "text/plain": [
       "array([  0.36,   0.86, 222.42,  19.55])"
      ]
     },
     "execution_count": 73,
     "metadata": {},
     "output_type": "execute_result"
    }
   ],
   "source": [
    "class_weights = class_weight.compute_class_weight(class_weight='balanced', classes=np.unique(classes), y=classes)\n",
    "class_weights"
   ]
  },
  {
   "cell_type": "code",
   "execution_count": 74,
   "id": "2fa89287-f925-4ed1-9000-39b2c4f135c8",
   "metadata": {},
   "outputs": [
    {
     "data": {
      "text/plain": [
       "{0: 0.3598372548496218,\n",
       " 1: 0.8581255967761948,\n",
       " 2: 222.41554809843402,\n",
       " 3: 19.554457392929145}"
      ]
     },
     "execution_count": 74,
     "metadata": {},
     "output_type": "execute_result"
    }
   ],
   "source": [
    "class_weights_dict = {i:class_weights[i] for i in range(4)}\n",
    "class_weights_dict"
   ]
  },
  {
   "cell_type": "markdown",
   "id": "22ab666e-b1a3-4fcb-9927-39371117aab7",
   "metadata": {},
   "source": [
    "### Build Model"
   ]
  },
  {
   "cell_type": "code",
   "execution_count": 20,
   "id": "7c14b6f3-fe76-4bea-9696-cd97b0e459b0",
   "metadata": {},
   "outputs": [
    {
     "name": "stdout",
     "output_type": "stream",
     "text": [
      "Model: \"sequential\"\n",
      "_________________________________________________________________\n",
      " Layer (type)                Output Shape              Param #   \n",
      "=================================================================\n",
      " dense (Dense)               (20000, 268)              72092     \n",
      "                                                                 \n",
      " dense_1 (Dense)             (20000, 100)              26900     \n",
      "                                                                 \n",
      " dense_2 (Dense)             (20000, 4)                404       \n",
      "                                                                 \n",
      "=================================================================\n",
      "Total params: 99,396\n",
      "Trainable params: 99,396\n",
      "Non-trainable params: 0\n",
      "_________________________________________________________________\n"
     ]
    },
    {
     "name": "stderr",
     "output_type": "stream",
     "text": [
      "2022-06-08 10:48:40.688421: I tensorflow/core/platform/cpu_feature_guard.cc:151] This TensorFlow binary is optimized with oneAPI Deep Neural Network Library (oneDNN) to use the following CPU instructions in performance-critical operations:  SSE4.1 SSE4.2 AVX AVX2 AVX512F FMA\n",
      "To enable them in other operations, rebuild TensorFlow with the appropriate compiler flags.\n"
     ]
    }
   ],
   "source": [
    "model = build_model(len(input_cols), 100, len(output_cols))\n",
    "model.build((20000, len(input_cols)))\n",
    "model.summary()"
   ]
  },
  {
   "cell_type": "markdown",
   "id": "dffb785a-35e0-46aa-a36d-2f781eeeebca",
   "metadata": {},
   "source": [
    "### Load model"
   ]
  },
  {
   "cell_type": "code",
   "execution_count": 21,
   "id": "7da491e6-6736-4558-b566-62a4d98eb878",
   "metadata": {},
   "outputs": [],
   "source": [
    "model.load_weights(conf['work_path']+'asos_mlp3.h5')"
   ]
  },
  {
   "cell_type": "markdown",
   "id": "a8bac4f9-39f4-4434-beb6-12ff494890b8",
   "metadata": {},
   "source": [
    "### Train Model"
   ]
  },
  {
   "cell_type": "code",
   "execution_count": 76,
   "id": "8086d04d-0632-49ff-9154-320ae8c22e27",
   "metadata": {},
   "outputs": [],
   "source": [
    "learning_rate = 1e-3\n",
    "optimizer = tf.keras.optimizers.Adam(learning_rate)\n",
    "loss = tf.keras.losses.CategoricalCrossentropy()\n",
    "model.compile(loss=loss, optimizer=optimizer, metrics='acc', run_eagerly=True) \n",
    "#metrics could be list"
   ]
  },
  {
   "cell_type": "code",
   "execution_count": 77,
   "id": "58eb64f6-8d82-4ba5-9e7b-91613719aa44",
   "metadata": {},
   "outputs": [
    {
     "name": "stdout",
     "output_type": "stream",
     "text": [
      "Epoch 1/1000\n",
      "160/160 [==============================] - 25s 157ms/step - loss: 0.7049 - acc: 0.8026 - val_loss: 0.4378 - val_acc: 0.8392 - lr: 0.0010\n",
      "Epoch 2/1000\n",
      "160/160 [==============================] - 25s 154ms/step - loss: 0.5836 - acc: 0.8457 - val_loss: 0.3825 - val_acc: 0.8630 - lr: 0.0010\n",
      "Epoch 3/1000\n",
      "160/160 [==============================] - 25s 154ms/step - loss: 0.5476 - acc: 0.8574 - val_loss: 0.3421 - val_acc: 0.8760 - lr: 0.0010\n",
      "Epoch 4/1000\n",
      "160/160 [==============================] - 24s 150ms/step - loss: 0.5211 - acc: 0.8653 - val_loss: 0.3933 - val_acc: 0.8568 - lr: 0.0010\n",
      "Epoch 5/1000\n",
      "160/160 [==============================] - 25s 155ms/step - loss: 0.5118 - acc: 0.8675 - val_loss: 0.3632 - val_acc: 0.8712 - lr: 0.0010\n",
      "Epoch 6/1000\n",
      "160/160 [==============================] - 26s 161ms/step - loss: 0.4632 - acc: 0.8777 - val_loss: 0.3326 - val_acc: 0.8805 - lr: 2.0000e-04\n",
      "Epoch 7/1000\n",
      "160/160 [==============================] - 24s 152ms/step - loss: 0.4524 - acc: 0.8798 - val_loss: 0.3339 - val_acc: 0.8802 - lr: 2.0000e-04\n",
      "Epoch 8/1000\n",
      "160/160 [==============================] - 26s 164ms/step - loss: 0.4457 - acc: 0.8806 - val_loss: 0.3494 - val_acc: 0.8751 - lr: 2.0000e-04\n",
      "Epoch 9/1000\n",
      "160/160 [==============================] - 25s 156ms/step - loss: 0.4346 - acc: 0.8817 - val_loss: 0.3242 - val_acc: 0.8837 - lr: 4.0000e-05\n",
      "Epoch 10/1000\n",
      "160/160 [==============================] - 26s 160ms/step - loss: 0.4323 - acc: 0.8830 - val_loss: 0.3359 - val_acc: 0.8795 - lr: 4.0000e-05\n",
      "Epoch 11/1000\n",
      "160/160 [==============================] - 26s 164ms/step - loss: 0.4308 - acc: 0.8826 - val_loss: 0.3246 - val_acc: 0.8830 - lr: 4.0000e-05\n",
      "Epoch 12/1000\n",
      "160/160 [==============================] - 24s 153ms/step - loss: 0.4282 - acc: 0.8830 - val_loss: 0.3278 - val_acc: 0.8823 - lr: 8.0000e-06\n",
      "Epoch 13/1000\n",
      "160/160 [==============================] - 24s 152ms/step - loss: 0.4278 - acc: 0.8832 - val_loss: 0.3261 - val_acc: 0.8830 - lr: 8.0000e-06\n"
     ]
    }
   ],
   "source": [
    "callbacks = get_callbacks(conf)\n",
    "training = model.fit(x_train, y_train, validation_data=(x_valid, y_valid), class_weight=class_weights_dict, callbacks=callbacks,\n",
    "                     batch_size=20000, shuffle=True, epochs=1000) \n",
    "#set as variable"
   ]
  },
  {
   "cell_type": "markdown",
   "id": "2386ddd5-200b-428a-a4fc-cc068d2f96f9",
   "metadata": {},
   "source": [
    "### Test Model"
   ]
  },
  {
   "cell_type": "code",
   "execution_count": 39,
   "id": "1890677d-586a-4a53-ae21-831a65116af5",
   "metadata": {},
   "outputs": [
    {
     "data": {
      "text/plain": [
       "array([[1.00e+00, 4.87e-05, 1.28e-08, 2.23e-06],\n",
       "       [1.00e+00, 3.82e-04, 5.40e-09, 9.18e-07],\n",
       "       [1.00e+00, 2.47e-05, 4.22e-09, 4.54e-07],\n",
       "       ...,\n",
       "       [5.79e-01, 2.86e-01, 1.34e-01, 1.17e-03],\n",
       "       [6.35e-01, 2.64e-01, 9.98e-02, 7.07e-04],\n",
       "       [3.96e-01, 1.57e-02, 5.84e-01, 4.74e-03]], dtype=float32)"
      ]
     },
     "execution_count": 39,
     "metadata": {},
     "output_type": "execute_result"
    }
   ],
   "source": [
    "predictions = model.predict(x_test)\n",
    "predictions"
   ]
  },
  {
   "cell_type": "code",
   "execution_count": 40,
   "id": "6e16c644-3c19-4a41-9662-c228fe094bed",
   "metadata": {},
   "outputs": [
    {
     "data": {
      "text/plain": [
       "0.8923844971481562"
      ]
     },
     "execution_count": 40,
     "metadata": {},
     "output_type": "execute_result"
    }
   ],
   "source": [
    "preds = np.argmax(predictions, 1)\n",
    "labels = np.argmax(y_test,1)\n",
    "(preds == labels).mean()\n",
    "# acc = [preds[i] == labels[i] for i in range(len(preds))]\n",
    "# acc.mean()"
   ]
  },
  {
   "cell_type": "code",
   "execution_count": 41,
   "id": "da63a964-d003-4d65-8fe5-aeb957eba880",
   "metadata": {},
   "outputs": [
    {
     "name": "stdout",
     "output_type": "stream",
     "text": [
      "Confusion matrix, without normalization\n",
      "[[250910  11256   5969   8657]\n",
      " [  4456  96470   4945   5861]\n",
      " [     5     16    223     58]\n",
      " [   149    476    510   3644]]\n",
      "Normalized confusion matrix\n",
      "[[0.91 0.04 0.02 0.03]\n",
      " [0.04 0.86 0.04 0.05]\n",
      " [0.02 0.05 0.74 0.19]\n",
      " [0.03 0.1  0.11 0.76]]\n"
     ]
    },
    {
     "data": {
      "image/png": "[encoded data removed]",
      "text/plain": [
       "<Figure size 432x288 with 2 Axes>"
      ]
     },
     "metadata": {
      "needs_background": "light"
     },
     "output_type": "display_data"
    },
    {
     "data": {
      "image/png": "[encoded data removed]",
      "text/plain": [
       "<Figure size 432x288 with 2 Axes>"
      ]
     },
     "metadata": {
      "needs_background": "light"
     },
     "output_type": "display_data"
    }
   ],
   "source": [
    "np.set_printoptions(precision=2)\n",
    "class_names = [str(x) for x in sorted(set(labels))]\n",
    "\n",
    "# Plot non-normalized confusion matrix\n",
    "plot_confusion_matrix(labels, preds, classes=class_names,\n",
    "                      title='Confusion matrix, without normalization')\n",
    "\n",
    "# Plot normalized confusion matrix\n",
    "plot_confusion_matrix(labels, preds, classes=class_names, normalize=True,\n",
    "                      title='Normalized confusion matrix')\n",
    "\n",
    "plt.show()"
   ]
  },
  {
   "cell_type": "code",
   "execution_count": null,
   "id": "401596b6-a186-41fa-bc76-bcd6f039e5aa",
   "metadata": {},
   "outputs": [],
   "source": []
  }
 ],
 "metadata": {
  "kernelspec": {
   "display_name": "Python [conda env:winter-ptype]",
   "language": "python",
   "name": "conda-env-winter-ptype-py"
  },
  "language_info": {
   "codemirror_mode": {
    "name": "ipython",
    "version": 3
   },
   "file_extension": ".py",
   "mimetype": "text/x-python",
   "name": "python",
   "nbconvert_exporter": "python",
   "pygments_lexer": "ipython3",
   "version": "3.10.4"
  }
 },
 "nbformat": 4,
 "nbformat_minor": 5
}
