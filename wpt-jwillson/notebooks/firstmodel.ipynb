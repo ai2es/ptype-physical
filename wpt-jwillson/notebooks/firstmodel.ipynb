{
 "cells": [
  {
   "cell_type": "code",
   "execution_count": 90,
   "id": "c327b133-4f6e-4897-9800-666c39d08532",
   "metadata": {},
   "outputs": [],
   "source": [
    "import yaml, glob\n",
    "import pandas as pd\n",
    "from sklearn.model_selection import train_test_split, GroupShuffleSplit\n",
    "from sklearn.preprocessing import StandardScaler\n",
    "import tqdm"
   ]
  },
  {
   "cell_type": "code",
   "execution_count": null,
   "id": "466fb246-d3da-40fa-8b29-bf2fff9e49be",
   "metadata": {},
   "outputs": [],
   "source": []
  },
  {
   "cell_type": "code",
   "execution_count": 2,
   "id": "542d4aee-c475-4400-b13d-f547eb6cd705",
   "metadata": {},
   "outputs": [],
   "source": [
    "config = 'config.yml'\n",
    "with open(config) as f:\n",
    "    conf = yaml.load(f, Loader=yaml.FullLoader)"
   ]
  },
  {
   "cell_type": "code",
   "execution_count": 3,
   "id": "942e7c7a-d538-4a15-a468-835186c68666",
   "metadata": {},
   "outputs": [
    {
     "name": "stdout",
     "output_type": "stream",
     "text": [
      "{'tempvars': ['TEMP_C_0_m', 'TEMP_C_10000_m', 'TEMP_C_1000_m', 'TEMP_C_10250_m', 'TEMP_C_10500_m', 'TEMP_C_10750_m', 'TEMP_C_11000_m', 'TEMP_C_11250_m', 'TEMP_C_11500_m', 'TEMP_C_11750_m', 'TEMP_C_12000_m', 'TEMP_C_12250_m', 'TEMP_C_12500_m', 'TEMP_C_1250_m', 'TEMP_C_12750_m', 'TEMP_C_13000_m', 'TEMP_C_13250_m', 'TEMP_C_13500_m', 'TEMP_C_13750_m', 'TEMP_C_14000_m', 'TEMP_C_14250_m', 'TEMP_C_14500_m', 'TEMP_C_14750_m', 'TEMP_C_15000_m', 'TEMP_C_1500_m', 'TEMP_C_15250_m', 'TEMP_C_15500_m', 'TEMP_C_15750_m', 'TEMP_C_16000_m', 'TEMP_C_16250_m', 'TEMP_C_16500_m', 'TEMP_C_1750_m', 'TEMP_C_2000_m', 'TEMP_C_2250_m', 'TEMP_C_2500_m', 'TEMP_C_250_m', 'TEMP_C_2750_m', 'TEMP_C_3000_m', 'TEMP_C_3250_m', 'TEMP_C_3500_m', 'TEMP_C_3750_m', 'TEMP_C_4000_m', 'TEMP_C_4250_m', 'TEMP_C_4500_m', 'TEMP_C_4750_m', 'TEMP_C_5000_m', 'TEMP_C_500_m', 'TEMP_C_5250_m', 'TEMP_C_5500_m', 'TEMP_C_5750_m', 'TEMP_C_6000_m', 'TEMP_C_6250_m', 'TEMP_C_6500_m', 'TEMP_C_6750_m', 'TEMP_C_7000_m', 'TEMP_C_7250_m', 'TEMP_C_7500_m', 'TEMP_C_750_m', 'TEMP_C_7750_m', 'TEMP_C_8000_m', 'TEMP_C_8250_m', 'TEMP_C_8500_m', 'TEMP_C_8750_m', 'TEMP_C_9000_m', 'TEMP_C_9250_m', 'TEMP_C_9500_m', 'TEMP_C_9750_m'], 'tempdewvars': ['T_DEWPOINT_C_0_m', 'T_DEWPOINT_C_10000_m', 'T_DEWPOINT_C_1000_m', 'T_DEWPOINT_C_10250_m', 'T_DEWPOINT_C_10500_m', 'T_DEWPOINT_C_10750_m', 'T_DEWPOINT_C_11000_m', 'T_DEWPOINT_C_11250_m', 'T_DEWPOINT_C_11500_m', 'T_DEWPOINT_C_11750_m', 'T_DEWPOINT_C_12000_m', 'T_DEWPOINT_C_12250_m', 'T_DEWPOINT_C_12500_m', 'T_DEWPOINT_C_1250_m', 'T_DEWPOINT_C_12750_m', 'T_DEWPOINT_C_13000_m', 'T_DEWPOINT_C_13250_m', 'T_DEWPOINT_C_13500_m', 'T_DEWPOINT_C_13750_m', 'T_DEWPOINT_C_14000_m', 'T_DEWPOINT_C_14250_m', 'T_DEWPOINT_C_14500_m', 'T_DEWPOINT_C_14750_m', 'T_DEWPOINT_C_15000_m', 'T_DEWPOINT_C_1500_m', 'T_DEWPOINT_C_15250_m', 'T_DEWPOINT_C_15500_m', 'T_DEWPOINT_C_15750_m', 'T_DEWPOINT_C_16000_m', 'T_DEWPOINT_C_16250_m', 'T_DEWPOINT_C_16500_m', 'T_DEWPOINT_C_1750_m', 'T_DEWPOINT_C_2000_m', 'T_DEWPOINT_C_2250_m', 'T_DEWPOINT_C_2500_m', 'T_DEWPOINT_C_250_m', 'T_DEWPOINT_C_2750_m', 'T_DEWPOINT_C_3000_m', 'T_DEWPOINT_C_3250_m', 'T_DEWPOINT_C_3500_m', 'T_DEWPOINT_C_3750_m', 'T_DEWPOINT_C_4000_m', 'T_DEWPOINT_C_4250_m', 'T_DEWPOINT_C_4500_m', 'T_DEWPOINT_C_4750_m', 'T_DEWPOINT_C_5000_m', 'T_DEWPOINT_C_500_m', 'T_DEWPOINT_C_5250_m', 'T_DEWPOINT_C_5500_m', 'T_DEWPOINT_C_5750_m', 'T_DEWPOINT_C_6000_m', 'T_DEWPOINT_C_6250_m', 'T_DEWPOINT_C_6500_m', 'T_DEWPOINT_C_6750_m', 'T_DEWPOINT_C_7000_m', 'T_DEWPOINT_C_7250_m', 'T_DEWPOINT_C_7500_m', 'T_DEWPOINT_C_750_m', 'T_DEWPOINT_C_7750_m', 'T_DEWPOINT_C_8000_m', 'T_DEWPOINT_C_8250_m', 'T_DEWPOINT_C_8500_m', 'T_DEWPOINT_C_8750_m', 'T_DEWPOINT_C_9000_m', 'T_DEWPOINT_C_9250_m', 'T_DEWPOINT_C_9500_m', 'T_DEWPOINT_C_9750_m'], 'ugrdvars': ['UGRD_m/s_0_m', 'UGRD_m/s_10000_m', 'UGRD_m/s_1000_m', 'UGRD_m/s_10250_m', 'UGRD_m/s_10500_m', 'UGRD_m/s_10750_m', 'UGRD_m/s_11000_m', 'UGRD_m/s_11250_m', 'UGRD_m/s_11500_m', 'UGRD_m/s_11750_m', 'UGRD_m/s_12000_m', 'UGRD_m/s_12250_m', 'UGRD_m/s_12500_m', 'UGRD_m/s_1250_m', 'UGRD_m/s_12750_m', 'UGRD_m/s_13000_m', 'UGRD_m/s_13250_m', 'UGRD_m/s_13500_m', 'UGRD_m/s_13750_m', 'UGRD_m/s_14000_m', 'UGRD_m/s_14250_m', 'UGRD_m/s_14500_m', 'UGRD_m/s_14750_m', 'UGRD_m/s_15000_m', 'UGRD_m/s_1500_m', 'UGRD_m/s_15250_m', 'UGRD_m/s_15500_m', 'UGRD_m/s_15750_m', 'UGRD_m/s_16000_m', 'UGRD_m/s_16250_m', 'UGRD_m/s_16500_m', 'UGRD_m/s_1750_m', 'UGRD_m/s_2000_m', 'UGRD_m/s_2250_m', 'UGRD_m/s_2500_m', 'UGRD_m/s_250_m', 'UGRD_m/s_2750_m', 'UGRD_m/s_3000_m', 'UGRD_m/s_3250_m', 'UGRD_m/s_3500_m', 'UGRD_m/s_3750_m', 'UGRD_m/s_4000_m', 'UGRD_m/s_4250_m', 'UGRD_m/s_4500_m', 'UGRD_m/s_4750_m', 'UGRD_m/s_5000_m', 'UGRD_m/s_500_m', 'UGRD_m/s_5250_m', 'UGRD_m/s_5500_m', 'UGRD_m/s_5750_m', 'UGRD_m/s_6000_m', 'UGRD_m/s_6250_m', 'UGRD_m/s_6500_m', 'UGRD_m/s_6750_m', 'UGRD_m/s_7000_m', 'UGRD_m/s_7250_m', 'UGRD_m/s_7500_m', 'UGRD_m/s_750_m', 'UGRD_m/s_7750_m', 'UGRD_m/s_8000_m', 'UGRD_m/s_8250_m', 'UGRD_m/s_8500_m', 'UGRD_m/s_8750_m', 'UGRD_m/s_9000_m', 'UGRD_m/s_9250_m', 'UGRD_m/s_9500_m', 'UGRD_m/s_9750_m'], 'vgrdvars': ['VGRD_m/s_0_m', 'VGRD_m/s_10000_m', 'VGRD_m/s_1000_m', 'VGRD_m/s_10250_m', 'VGRD_m/s_10500_m', 'VGRD_m/s_10750_m', 'VGRD_m/s_11000_m', 'VGRD_m/s_11250_m', 'VGRD_m/s_11500_m', 'VGRD_m/s_11750_m', 'VGRD_m/s_12000_m', 'VGRD_m/s_12250_m', 'VGRD_m/s_12500_m', 'VGRD_m/s_1250_m', 'VGRD_m/s_12750_m', 'VGRD_m/s_13000_m', 'VGRD_m/s_13250_m', 'VGRD_m/s_13500_m', 'VGRD_m/s_13750_m', 'VGRD_m/s_14000_m', 'VGRD_m/s_14250_m', 'VGRD_m/s_14500_m', 'VGRD_m/s_14750_m', 'VGRD_m/s_15000_m', 'VGRD_m/s_1500_m', 'VGRD_m/s_15250_m', 'VGRD_m/s_15500_m', 'VGRD_m/s_15750_m', 'VGRD_m/s_16000_m', 'VGRD_m/s_16250_m', 'VGRD_m/s_16500_m', 'VGRD_m/s_1750_m', 'VGRD_m/s_2000_m', 'VGRD_m/s_2250_m', 'VGRD_m/s_2500_m', 'VGRD_m/s_250_m', 'VGRD_m/s_2750_m', 'VGRD_m/s_3000_m', 'VGRD_m/s_3250_m', 'VGRD_m/s_3500_m', 'VGRD_m/s_3750_m', 'VGRD_m/s_4000_m', 'VGRD_m/s_4250_m', 'VGRD_m/s_4500_m', 'VGRD_m/s_4750_m', 'VGRD_m/s_5000_m', 'VGRD_m/s_500_m', 'VGRD_m/s_5250_m', 'VGRD_m/s_5500_m', 'VGRD_m/s_5750_m', 'VGRD_m/s_6000_m', 'VGRD_m/s_6250_m', 'VGRD_m/s_6500_m', 'VGRD_m/s_6750_m', 'VGRD_m/s_7000_m', 'VGRD_m/s_7250_m', 'VGRD_m/s_7500_m', 'VGRD_m/s_750_m', 'VGRD_m/s_7750_m', 'VGRD_m/s_8000_m', 'VGRD_m/s_8250_m', 'VGRD_m/s_8500_m', 'VGRD_m/s_8750_m', 'VGRD_m/s_9000_m', 'VGRD_m/s_9250_m', 'VGRD_m/s_9500_m', 'VGRD_m/s_9750_m'], 'outputvars': ['ra_percent', 'sn_percent', 'pl_percent', 'fzra_percent'], 'asos_path': '/glade/p/cisl/aiml/ai2es/winter_ptypes/precip_rap/ASOS_mixture/', 'mping_path': '/glade/p/cisl/aiml/ai2es/winter_ptypes/precip_rap/mPING_mixture/'}\n"
     ]
    }
   ],
   "source": [
    "print(conf)\n",
    "input_cols = conf['tempvars'] + conf['tempdewvars'] + conf['ugrdvars'] + conf['vgrdvars']\n",
    "output_cols = conf['outputvars']"
   ]
  },
  {
   "cell_type": "code",
   "execution_count": 4,
   "id": "5d5eed07-d166-4260-8ac5-6d6bfffe00e0",
   "metadata": {},
   "outputs": [
    {
     "data": {
      "text/plain": [
       "['/glade/p/cisl/aiml/ai2es/winter_ptypes/precip_rap/ASOS_mixture/ASOS_rap_20210418.parquet',\n",
       " '/glade/p/cisl/aiml/ai2es/winter_ptypes/precip_rap/ASOS_mixture/ASOS_rap_20210419.parquet',\n",
       " '/glade/p/cisl/aiml/ai2es/winter_ptypes/precip_rap/ASOS_mixture/ASOS_rap_20210420.parquet',\n",
       " '/glade/p/cisl/aiml/ai2es/winter_ptypes/precip_rap/ASOS_mixture/ASOS_rap_20210421.parquet',\n",
       " '/glade/p/cisl/aiml/ai2es/winter_ptypes/precip_rap/ASOS_mixture/ASOS_rap_20210422.parquet',\n",
       " '/glade/p/cisl/aiml/ai2es/winter_ptypes/precip_rap/ASOS_mixture/ASOS_rap_20210427.parquet',\n",
       " '/glade/p/cisl/aiml/ai2es/winter_ptypes/precip_rap/ASOS_mixture/ASOS_rap_20210428.parquet',\n",
       " '/glade/p/cisl/aiml/ai2es/winter_ptypes/precip_rap/ASOS_mixture/ASOS_rap_20210429.parquet',\n",
       " '/glade/p/cisl/aiml/ai2es/winter_ptypes/precip_rap/ASOS_mixture/ASOS_rap_20210430.parquet',\n",
       " '/glade/p/cisl/aiml/ai2es/winter_ptypes/precip_rap/ASOS_mixture/ASOS_rap_20210501.parquet']"
      ]
     },
     "execution_count": 4,
     "metadata": {},
     "output_type": "execute_result"
    }
   ],
   "source": [
    "arr = sorted(glob.glob(conf['asos_path']+'*'))\n",
    "arr[-10:]"
   ]
  },
  {
   "cell_type": "code",
   "execution_count": 92,
   "id": "6095ef1d-659b-40b1-b93b-3854fe1070e8",
   "metadata": {},
   "outputs": [
    {
     "name": "stderr",
     "output_type": "stream",
     "text": [
      "100%|██████████| 1884/1884 [06:52<00:00,  4.57it/s]\n"
     ]
    }
   ],
   "source": [
    "df = pd.concat([pd.read_parquet(x) for x in tqdm.tqdm(arr)])"
   ]
  },
  {
   "cell_type": "code",
   "execution_count": 93,
   "id": "8b9ca8e6-5469-4068-a189-54faaf59b6e3",
   "metadata": {},
   "outputs": [
    {
     "data": {
      "text/plain": [
       "(4029725, 407)"
      ]
     },
     "execution_count": 93,
     "metadata": {},
     "output_type": "execute_result"
    }
   ],
   "source": [
    "df.shape"
   ]
  },
  {
   "cell_type": "code",
   "execution_count": 6,
   "id": "95682e44-a450-46db-bd63-1fe6863b2f62",
   "metadata": {},
   "outputs": [],
   "source": [
    "df['day'] = df['datetime'].apply(lambda x: str(x).split(' ')[0])"
   ]
  },
  {
   "cell_type": "code",
   "execution_count": null,
   "id": "c6351424-8ad5-495b-bf09-678b5a705311",
   "metadata": {},
   "outputs": [],
   "source": [
    "# df = pd.concat([pd.read_parquet(x) for x in arr[:100]])"
   ]
  },
  {
   "cell_type": "markdown",
   "id": "568f13e2-752f-4c6d-a19e-fd584097a8e1",
   "metadata": {
    "tags": []
   },
   "source": [
    "### Split the data"
   ]
  },
  {
   "cell_type": "code",
   "execution_count": 7,
   "id": "121adf10-a3c0-40b8-8863-4953a198d45c",
   "metadata": {},
   "outputs": [],
   "source": [
    "splitter = GroupShuffleSplit(n_splits=1, train_size=0.9)"
   ]
  },
  {
   "cell_type": "code",
   "execution_count": 8,
   "id": "fe43bf7f-bfef-4b38-bda4-677486de9510",
   "metadata": {},
   "outputs": [],
   "source": [
    "train_idx, test_idx = list(splitter.split(df, groups=df['day']))[0]\n",
    "train_data, test_data = df.iloc[train_idx], df.iloc[test_idx]"
   ]
  },
  {
   "cell_type": "code",
   "execution_count": 9,
   "id": "909182d5-95d9-4ca1-9d5b-1e4b228f5c53",
   "metadata": {},
   "outputs": [],
   "source": [
    "splitter = GroupShuffleSplit(n_splits=1, train_size=0.885)\n",
    "train_idx, valid_idx = list(splitter.split(train_data, groups=train_data['day']))[0]\n",
    "train_data, valid_data = train_data.iloc[train_idx], train_data.iloc[valid_idx]"
   ]
  },
  {
   "cell_type": "code",
   "execution_count": 10,
   "id": "aab96124-94ed-45e7-a617-b1850ea8f809",
   "metadata": {},
   "outputs": [
    {
     "data": {
      "text/plain": [
       "(8496, 408)"
      ]
     },
     "execution_count": 10,
     "metadata": {},
     "output_type": "execute_result"
    }
   ],
   "source": [
    "train_data.shape"
   ]
  },
  {
   "cell_type": "code",
   "execution_count": 11,
   "id": "96acef15-2d50-4fed-9a79-85d91b218fd2",
   "metadata": {},
   "outputs": [
    {
     "data": {
      "text/plain": [
       "(1650, 408)"
      ]
     },
     "execution_count": 11,
     "metadata": {},
     "output_type": "execute_result"
    }
   ],
   "source": [
    "test_data.shape"
   ]
  },
  {
   "cell_type": "code",
   "execution_count": 12,
   "id": "2c40f4cc-3a7e-43fe-8aa7-241b19e236aa",
   "metadata": {},
   "outputs": [
    {
     "data": {
      "text/plain": [
       "(3345, 408)"
      ]
     },
     "execution_count": 12,
     "metadata": {},
     "output_type": "execute_result"
    }
   ],
   "source": [
    "valid_data.shape"
   ]
  },
  {
   "cell_type": "markdown",
   "id": "85967797-948c-44d7-aa6f-d019d8788a7f",
   "metadata": {},
   "source": [
    "### Preprocessing the data"
   ]
  },
  {
   "cell_type": "code",
   "execution_count": 13,
   "id": "a2ca6b58-85a3-4b4b-a116-a882ab8e753d",
   "metadata": {},
   "outputs": [],
   "source": [
    "scaler_x = StandardScaler()"
   ]
  },
  {
   "cell_type": "code",
   "execution_count": 14,
   "id": "6db15b67-07f0-46f3-933b-d231f1782b3d",
   "metadata": {},
   "outputs": [],
   "source": [
    "x_train = scaler_x.fit_transform(train_data[input_cols])"
   ]
  },
  {
   "cell_type": "code",
   "execution_count": 15,
   "id": "317bd101-6aa7-451f-8ed3-162c3ad4398b",
   "metadata": {},
   "outputs": [],
   "source": [
    "x_valid = scaler_x.transform(valid_data[input_cols])"
   ]
  },
  {
   "cell_type": "code",
   "execution_count": 45,
   "id": "9f1099cd-a254-43d8-ac89-a8634bc9f301",
   "metadata": {},
   "outputs": [],
   "source": [
    "import numpy as np"
   ]
  },
  {
   "cell_type": "code",
   "execution_count": 61,
   "id": "cf73e285-0ca0-4c4c-9f2d-66cf446519a8",
   "metadata": {},
   "outputs": [
    {
     "data": {
      "text/plain": [
       "array([[1., 0., 0., 0.],\n",
       "       [1., 0., 0., 0.],\n",
       "       [1., 0., 0., 0.],\n",
       "       ...,\n",
       "       [1., 0., 0., 0.],\n",
       "       [1., 0., 0., 0.],\n",
       "       [1., 0., 0., 0.]])"
      ]
     },
     "execution_count": 61,
     "metadata": {},
     "output_type": "execute_result"
    }
   ],
   "source": [
    "def one_hot(x):\n",
    "    a = np.zeros(len(output_cols))\n",
    "    a[x] = 1\n",
    "    return a\n",
    "\n",
    "train_data['label'] = train_data[output_cols].idxmax(axis=1).apply(lambda x: one_hot(output_cols.index(x)))\n",
    "y_train = train_data['label'].to_numpy()\n",
    "y_train = np.vstack(y_train)\n",
    "y_train"
   ]
  },
  {
   "cell_type": "code",
   "execution_count": 57,
   "id": "b6155147-671a-4fc7-99b6-295322bab9d1",
   "metadata": {},
   "outputs": [],
   "source": [
    "valid_data['label'] = valid_data[output_cols].idxmax(axis=1).apply(lambda x: one_hot(output_cols.index(x)))\n",
    "y_valid = valid_data['label'].to_numpy()"
   ]
  },
  {
   "cell_type": "code",
   "execution_count": 60,
   "id": "b4100802-d2ff-468c-a8d3-3733b67da387",
   "metadata": {},
   "outputs": [
    {
     "data": {
      "text/plain": [
       "(3345, 4)"
      ]
     },
     "execution_count": 60,
     "metadata": {},
     "output_type": "execute_result"
    }
   ],
   "source": [
    "y_valid = np.vstack(y_valid)\n",
    "y_valid.shape"
   ]
  },
  {
   "cell_type": "markdown",
   "id": "401b491c-45d8-4425-a542-9da65a7fa8ee",
   "metadata": {},
   "source": [
    "### Train Model"
   ]
  },
  {
   "cell_type": "code",
   "execution_count": 18,
   "id": "8204c2b0-fe64-4e2d-85d1-cd929c41f41a",
   "metadata": {},
   "outputs": [],
   "source": [
    "import tensorflow as tf"
   ]
  },
  {
   "cell_type": "code",
   "execution_count": 29,
   "id": "76122298-992b-4626-990e-7de79e1a25c9",
   "metadata": {},
   "outputs": [],
   "source": [
    "def build_model(input_size, hidden_size, output_size):\n",
    "    model = tf.keras.models.Sequential(\n",
    "        [tf.keras.layers.Dense(input_size, activation='relu'),\n",
    "        tf.keras.layers.Dense(hidden_size, activation='relu'),\n",
    "        tf.keras.layers.Dense(output_size, activation='softmax')]\n",
    "    )\n",
    "    return model"
   ]
  },
  {
   "cell_type": "code",
   "execution_count": 30,
   "id": "81f276fc-a71a-4e0d-b027-70e1dc368f93",
   "metadata": {},
   "outputs": [],
   "source": [
    "model = build_model(len(input_cols), 100, len(output_cols))"
   ]
  },
  {
   "cell_type": "code",
   "execution_count": 31,
   "id": "609ad4bd-a827-40fa-b1da-49c096c97674",
   "metadata": {},
   "outputs": [],
   "source": [
    "model.build((32, len(input_cols)))"
   ]
  },
  {
   "cell_type": "code",
   "execution_count": 32,
   "id": "fdd62bac-bd7a-4614-a690-871a6343190f",
   "metadata": {},
   "outputs": [
    {
     "name": "stdout",
     "output_type": "stream",
     "text": [
      "Model: \"sequential_1\"\n",
      "_________________________________________________________________\n",
      " Layer (type)                Output Shape              Param #   \n",
      "=================================================================\n",
      " dense_6 (Dense)             (32, 268)                 72092     \n",
      "                                                                 \n",
      " dense_7 (Dense)             (32, 100)                 26900     \n",
      "                                                                 \n",
      " dense_8 (Dense)             (32, 4)                   404       \n",
      "                                                                 \n",
      "=================================================================\n",
      "Total params: 99,396\n",
      "Trainable params: 99,396\n",
      "Non-trainable params: 0\n",
      "_________________________________________________________________\n"
     ]
    }
   ],
   "source": [
    "model.summary()"
   ]
  },
  {
   "cell_type": "code",
   "execution_count": 34,
   "id": "c5f6b588-efc1-4bb5-bd9a-f9a5295c54ed",
   "metadata": {},
   "outputs": [],
   "source": [
    "learning_rate = 1e-3\n",
    "optimizer = tf.keras.optimizers.Adam(learning_rate)"
   ]
  },
  {
   "cell_type": "code",
   "execution_count": 43,
   "id": "57950f9e-e3d6-46f4-a0ba-62887113565f",
   "metadata": {},
   "outputs": [],
   "source": [
    "loss = tf.keras.losses.CategoricalCrossentropy()"
   ]
  },
  {
   "cell_type": "code",
   "execution_count": 33,
   "id": "3cbf071a-9a54-4220-871f-0a2da1ef3a37",
   "metadata": {},
   "outputs": [
    {
     "data": {
      "text/plain": [
       "<tf.Tensor: shape=(32, 4), dtype=float32, numpy=\n",
       "array([[0.10436485, 0.30698   , 0.25965023, 0.32900488],\n",
       "       [0.10436485, 0.30698   , 0.25965023, 0.32900488],\n",
       "       [0.10436485, 0.30698   , 0.25965023, 0.32900488],\n",
       "       [0.10436485, 0.30698   , 0.25965023, 0.32900488],\n",
       "       [0.10436485, 0.30698   , 0.25965023, 0.32900488],\n",
       "       [0.10436485, 0.30698   , 0.25965023, 0.32900488],\n",
       "       [0.10436485, 0.30698   , 0.25965023, 0.32900488],\n",
       "       [0.10436485, 0.30698   , 0.25965023, 0.32900488],\n",
       "       [0.10436485, 0.30698   , 0.25965023, 0.32900488],\n",
       "       [0.10436485, 0.30698   , 0.25965023, 0.32900488],\n",
       "       [0.10436485, 0.30698   , 0.25965023, 0.32900488],\n",
       "       [0.10436485, 0.30698   , 0.25965023, 0.32900488],\n",
       "       [0.10436485, 0.30698   , 0.25965023, 0.32900488],\n",
       "       [0.10436485, 0.30698   , 0.25965023, 0.32900488],\n",
       "       [0.10436485, 0.30698   , 0.25965023, 0.32900488],\n",
       "       [0.10436485, 0.30698   , 0.25965023, 0.32900488],\n",
       "       [0.10436485, 0.30698   , 0.25965023, 0.32900488],\n",
       "       [0.10436485, 0.30698   , 0.25965023, 0.32900488],\n",
       "       [0.10436485, 0.30698   , 0.25965023, 0.32900488],\n",
       "       [0.10436485, 0.30698   , 0.25965023, 0.32900488],\n",
       "       [0.10436485, 0.30698   , 0.25965023, 0.32900488],\n",
       "       [0.10436485, 0.30698   , 0.25965023, 0.32900488],\n",
       "       [0.10436485, 0.30698   , 0.25965023, 0.32900488],\n",
       "       [0.10436485, 0.30698   , 0.25965023, 0.32900488],\n",
       "       [0.10436485, 0.30698   , 0.25965023, 0.32900488],\n",
       "       [0.10436485, 0.30698   , 0.25965023, 0.32900488],\n",
       "       [0.10436485, 0.30698   , 0.25965023, 0.32900488],\n",
       "       [0.10436485, 0.30698   , 0.25965023, 0.32900488],\n",
       "       [0.10436485, 0.30698   , 0.25965023, 0.32900488],\n",
       "       [0.10436485, 0.30698   , 0.25965023, 0.32900488],\n",
       "       [0.10436485, 0.30698   , 0.25965023, 0.32900488],\n",
       "       [0.10436485, 0.30698   , 0.25965023, 0.32900488]], dtype=float32)>"
      ]
     },
     "execution_count": 33,
     "metadata": {},
     "output_type": "execute_result"
    }
   ],
   "source": [
    "# x = tf.ones((32, len(input_cols)))\n",
    "# model(x)"
   ]
  },
  {
   "cell_type": "code",
   "execution_count": 49,
   "id": "da5c9f6d-fc74-46ae-93f8-bb17e0ec615d",
   "metadata": {},
   "outputs": [],
   "source": [
    "model.compile(loss=loss, optimizer=optimizer, metrics='acc', run_eagerly=True) #metrics could be list"
   ]
  },
  {
   "cell_type": "code",
   "execution_count": 62,
   "id": "e9b3cc7d-d424-41d1-b8cb-a69792b1c9e8",
   "metadata": {},
   "outputs": [
    {
     "name": "stdout",
     "output_type": "stream",
     "text": [
      "Epoch 1/100\n",
      "266/266 [==============================] - 4s 10ms/step - loss: 0.0858 - acc: 0.9708 - val_loss: 0.2376 - val_acc: 0.9184\n",
      "Epoch 2/100\n",
      "266/266 [==============================] - 3s 10ms/step - loss: 0.0557 - acc: 0.9793 - val_loss: 0.1331 - val_acc: 0.9635\n",
      "Epoch 3/100\n",
      "266/266 [==============================] - 3s 11ms/step - loss: 0.0489 - acc: 0.9790 - val_loss: 0.1664 - val_acc: 0.9632\n",
      "Epoch 4/100\n",
      "266/266 [==============================] - 3s 10ms/step - loss: 0.0417 - acc: 0.9848 - val_loss: 0.1488 - val_acc: 0.9543\n",
      "Epoch 5/100\n",
      "266/266 [==============================] - 3s 10ms/step - loss: 0.0417 - acc: 0.9818 - val_loss: 0.1506 - val_acc: 0.9620\n",
      "Epoch 6/100\n",
      "266/266 [==============================] - 3s 10ms/step - loss: 0.0377 - acc: 0.9838 - val_loss: 0.1787 - val_acc: 0.9668\n",
      "Epoch 7/100\n",
      "266/266 [==============================] - 3s 10ms/step - loss: 0.0341 - acc: 0.9858 - val_loss: 0.2199 - val_acc: 0.9590\n",
      "Epoch 8/100\n",
      "266/266 [==============================] - 3s 10ms/step - loss: 0.0341 - acc: 0.9849 - val_loss: 0.2160 - val_acc: 0.9632\n",
      "Epoch 9/100\n",
      "266/266 [==============================] - 3s 10ms/step - loss: 0.0326 - acc: 0.9862 - val_loss: 0.2675 - val_acc: 0.9593\n",
      "Epoch 10/100\n",
      "266/266 [==============================] - 3s 10ms/step - loss: 0.0358 - acc: 0.9858 - val_loss: 0.2247 - val_acc: 0.9608\n",
      "Epoch 11/100\n",
      "266/266 [==============================] - 3s 10ms/step - loss: 0.0343 - acc: 0.9859 - val_loss: 0.1962 - val_acc: 0.9683\n",
      "Epoch 12/100\n",
      "266/266 [==============================] - 3s 10ms/step - loss: 0.0309 - acc: 0.9871 - val_loss: 0.2252 - val_acc: 0.9638\n",
      "Epoch 13/100\n",
      "266/266 [==============================] - 3s 10ms/step - loss: 0.0318 - acc: 0.9867 - val_loss: 0.1878 - val_acc: 0.9644\n",
      "Epoch 14/100\n",
      "266/266 [==============================] - 3s 10ms/step - loss: 0.0286 - acc: 0.9883 - val_loss: 0.2225 - val_acc: 0.9602\n",
      "Epoch 15/100\n",
      "266/266 [==============================] - 3s 10ms/step - loss: 0.0275 - acc: 0.9883 - val_loss: 0.2471 - val_acc: 0.9572\n",
      "Epoch 16/100\n",
      "266/266 [==============================] - 3s 11ms/step - loss: 0.0292 - acc: 0.9880 - val_loss: 0.2529 - val_acc: 0.9623\n",
      "Epoch 17/100\n",
      "266/266 [==============================] - 3s 11ms/step - loss: 0.0296 - acc: 0.9866 - val_loss: 0.3144 - val_acc: 0.9540\n",
      "Epoch 18/100\n",
      "266/266 [==============================] - 3s 10ms/step - loss: 0.0302 - acc: 0.9875 - val_loss: 0.2658 - val_acc: 0.9596\n",
      "Epoch 19/100\n",
      "266/266 [==============================] - 3s 10ms/step - loss: 0.0242 - acc: 0.9886 - val_loss: 0.2682 - val_acc: 0.9623\n",
      "Epoch 20/100\n",
      "266/266 [==============================] - 3s 10ms/step - loss: 0.0254 - acc: 0.9903 - val_loss: 0.3197 - val_acc: 0.9564\n",
      "Epoch 21/100\n",
      "266/266 [==============================] - 3s 10ms/step - loss: 0.0262 - acc: 0.9878 - val_loss: 0.2731 - val_acc: 0.9620\n",
      "Epoch 22/100\n",
      "266/266 [==============================] - 3s 10ms/step - loss: 0.0241 - acc: 0.9894 - val_loss: 0.3152 - val_acc: 0.9614\n",
      "Epoch 23/100\n",
      "266/266 [==============================] - 3s 10ms/step - loss: 0.0241 - acc: 0.9893 - val_loss: 0.3085 - val_acc: 0.9605\n",
      "Epoch 24/100\n",
      "266/266 [==============================] - 3s 10ms/step - loss: 0.0266 - acc: 0.9886 - val_loss: 0.2947 - val_acc: 0.9578\n",
      "Epoch 25/100\n",
      "266/266 [==============================] - 3s 11ms/step - loss: 0.0242 - acc: 0.9896 - val_loss: 0.2693 - val_acc: 0.9587\n",
      "Epoch 26/100\n",
      "266/266 [==============================] - 3s 10ms/step - loss: 0.0220 - acc: 0.9914 - val_loss: 0.3245 - val_acc: 0.9572\n",
      "Epoch 27/100\n",
      "266/266 [==============================] - 3s 10ms/step - loss: 0.0259 - acc: 0.9906 - val_loss: 0.3252 - val_acc: 0.9593\n",
      "Epoch 28/100\n",
      "266/266 [==============================] - 3s 10ms/step - loss: 0.0212 - acc: 0.9908 - val_loss: 0.3289 - val_acc: 0.9564\n",
      "Epoch 29/100\n",
      "266/266 [==============================] - 3s 10ms/step - loss: 0.0234 - acc: 0.9899 - val_loss: 0.3618 - val_acc: 0.9611\n",
      "Epoch 30/100\n",
      "266/266 [==============================] - 3s 10ms/step - loss: 0.0250 - acc: 0.9902 - val_loss: 0.3420 - val_acc: 0.9531\n",
      "Epoch 31/100\n",
      "266/266 [==============================] - 3s 10ms/step - loss: 0.0235 - acc: 0.9915 - val_loss: 0.3427 - val_acc: 0.9537\n",
      "Epoch 32/100\n",
      "266/266 [==============================] - 3s 10ms/step - loss: 0.0207 - acc: 0.9916 - val_loss: 0.3688 - val_acc: 0.9555\n",
      "Epoch 33/100\n",
      "266/266 [==============================] - 3s 10ms/step - loss: 0.0204 - acc: 0.9914 - val_loss: 0.4180 - val_acc: 0.9626\n",
      "Epoch 34/100\n",
      "266/266 [==============================] - 3s 10ms/step - loss: 0.0229 - acc: 0.9903 - val_loss: 0.4043 - val_acc: 0.9519\n",
      "Epoch 35/100\n",
      "266/266 [==============================] - 3s 11ms/step - loss: 0.0240 - acc: 0.9903 - val_loss: 0.4359 - val_acc: 0.9570\n",
      "Epoch 36/100\n",
      "266/266 [==============================] - 3s 10ms/step - loss: 0.0194 - acc: 0.9919 - val_loss: 0.4026 - val_acc: 0.9564\n",
      "Epoch 37/100\n",
      "266/266 [==============================] - 3s 10ms/step - loss: 0.0205 - acc: 0.9911 - val_loss: 0.4059 - val_acc: 0.9561\n",
      "Epoch 38/100\n",
      "266/266 [==============================] - 3s 10ms/step - loss: 0.0201 - acc: 0.9906 - val_loss: 0.4083 - val_acc: 0.9572\n",
      "Epoch 39/100\n",
      "266/266 [==============================] - 3s 10ms/step - loss: 0.0200 - acc: 0.9918 - val_loss: 0.3870 - val_acc: 0.9581\n",
      "Epoch 40/100\n",
      "266/266 [==============================] - 3s 11ms/step - loss: 0.0192 - acc: 0.9925 - val_loss: 0.4147 - val_acc: 0.9540\n",
      "Epoch 41/100\n",
      "266/266 [==============================] - 3s 11ms/step - loss: 0.0195 - acc: 0.9921 - val_loss: 0.4258 - val_acc: 0.9605\n",
      "Epoch 42/100\n",
      "266/266 [==============================] - 3s 10ms/step - loss: 0.0177 - acc: 0.9932 - val_loss: 0.4338 - val_acc: 0.9578\n",
      "Epoch 43/100\n",
      "266/266 [==============================] - 3s 10ms/step - loss: 0.0206 - acc: 0.9896 - val_loss: 0.3628 - val_acc: 0.9596\n",
      "Epoch 44/100\n",
      "266/266 [==============================] - 3s 10ms/step - loss: 0.0177 - acc: 0.9911 - val_loss: 0.4376 - val_acc: 0.9561\n",
      "Epoch 45/100\n",
      "266/266 [==============================] - 3s 10ms/step - loss: 0.0169 - acc: 0.9922 - val_loss: 0.4588 - val_acc: 0.9575\n",
      "Epoch 46/100\n",
      "266/266 [==============================] - 3s 10ms/step - loss: 0.0175 - acc: 0.9921 - val_loss: 0.4774 - val_acc: 0.9584\n",
      "Epoch 47/100\n",
      "266/266 [==============================] - 3s 11ms/step - loss: 0.0215 - acc: 0.9909 - val_loss: 0.4139 - val_acc: 0.9584\n",
      "Epoch 48/100\n",
      "266/266 [==============================] - 3s 10ms/step - loss: 0.0171 - acc: 0.9927 - val_loss: 0.4460 - val_acc: 0.9555\n",
      "Epoch 49/100\n",
      "266/266 [==============================] - 3s 10ms/step - loss: 0.0159 - acc: 0.9926 - val_loss: 0.5740 - val_acc: 0.9459\n",
      "Epoch 50/100\n",
      "266/266 [==============================] - 3s 10ms/step - loss: 0.0186 - acc: 0.9922 - val_loss: 0.4117 - val_acc: 0.9543\n",
      "Epoch 51/100\n",
      "266/266 [==============================] - 3s 10ms/step - loss: 0.0161 - acc: 0.9928 - val_loss: 0.5676 - val_acc: 0.9561\n",
      "Epoch 52/100\n",
      "266/266 [==============================] - 3s 10ms/step - loss: 0.0178 - acc: 0.9925 - val_loss: 0.4202 - val_acc: 0.9570\n",
      "Epoch 53/100\n",
      "266/266 [==============================] - 3s 10ms/step - loss: 0.0157 - acc: 0.9936 - val_loss: 0.4773 - val_acc: 0.9584\n",
      "Epoch 54/100\n",
      "266/266 [==============================] - 3s 10ms/step - loss: 0.0173 - acc: 0.9929 - val_loss: 0.6106 - val_acc: 0.9471\n",
      "Epoch 55/100\n",
      "266/266 [==============================] - 3s 10ms/step - loss: 0.0174 - acc: 0.9914 - val_loss: 0.5339 - val_acc: 0.9572\n",
      "Epoch 56/100\n",
      "266/266 [==============================] - 3s 10ms/step - loss: 0.0176 - acc: 0.9920 - val_loss: 0.4310 - val_acc: 0.9599\n",
      "Epoch 57/100\n",
      "266/266 [==============================] - 3s 10ms/step - loss: 0.0221 - acc: 0.9905 - val_loss: 0.6076 - val_acc: 0.9572\n",
      "Epoch 58/100\n",
      "266/266 [==============================] - 3s 10ms/step - loss: 0.0169 - acc: 0.9923 - val_loss: 0.6450 - val_acc: 0.9590\n",
      "Epoch 59/100\n",
      "266/266 [==============================] - 3s 10ms/step - loss: 0.0134 - acc: 0.9938 - val_loss: 0.6481 - val_acc: 0.9564\n",
      "Epoch 60/100\n",
      "266/266 [==============================] - 3s 10ms/step - loss: 0.0178 - acc: 0.9920 - val_loss: 0.5882 - val_acc: 0.9590\n",
      "Epoch 61/100\n",
      "266/266 [==============================] - 3s 10ms/step - loss: 0.0151 - acc: 0.9932 - val_loss: 0.6854 - val_acc: 0.9561\n",
      "Epoch 62/100\n",
      "266/266 [==============================] - 3s 10ms/step - loss: 0.0163 - acc: 0.9928 - val_loss: 0.6182 - val_acc: 0.9575\n",
      "Epoch 63/100\n",
      "266/266 [==============================] - 3s 10ms/step - loss: 0.0133 - acc: 0.9936 - val_loss: 0.6628 - val_acc: 0.9555\n",
      "Epoch 64/100\n",
      "266/266 [==============================] - 3s 10ms/step - loss: 0.0155 - acc: 0.9931 - val_loss: 0.6290 - val_acc: 0.9578\n",
      "Epoch 65/100\n",
      "266/266 [==============================] - 3s 10ms/step - loss: 0.0132 - acc: 0.9947 - val_loss: 0.6913 - val_acc: 0.9572\n",
      "Epoch 66/100\n",
      "266/266 [==============================] - 3s 11ms/step - loss: 0.0144 - acc: 0.9944 - val_loss: 0.6165 - val_acc: 0.9558\n",
      "Epoch 67/100\n",
      "266/266 [==============================] - 3s 10ms/step - loss: 0.0132 - acc: 0.9938 - val_loss: 0.6232 - val_acc: 0.9564\n",
      "Epoch 68/100\n",
      "266/266 [==============================] - 3s 10ms/step - loss: 0.0159 - acc: 0.9933 - val_loss: 0.6173 - val_acc: 0.9578\n",
      "Epoch 69/100\n",
      "266/266 [==============================] - 3s 10ms/step - loss: 0.0147 - acc: 0.9929 - val_loss: 0.6769 - val_acc: 0.9546\n",
      "Epoch 70/100\n",
      "266/266 [==============================] - 3s 10ms/step - loss: 0.0144 - acc: 0.9931 - val_loss: 0.7970 - val_acc: 0.9501\n",
      "Epoch 71/100\n",
      "266/266 [==============================] - 3s 10ms/step - loss: 0.0187 - acc: 0.9925 - val_loss: 0.7252 - val_acc: 0.9522\n",
      "Epoch 72/100\n",
      "266/266 [==============================] - 3s 10ms/step - loss: 0.0190 - acc: 0.9921 - val_loss: 0.6383 - val_acc: 0.9584\n",
      "Epoch 73/100\n",
      "266/266 [==============================] - 3s 10ms/step - loss: 0.0158 - acc: 0.9926 - val_loss: 0.5155 - val_acc: 0.9581\n",
      "Epoch 74/100\n",
      "266/266 [==============================] - 3s 10ms/step - loss: 0.0127 - acc: 0.9944 - val_loss: 0.5720 - val_acc: 0.9575\n",
      "Epoch 75/100\n",
      "266/266 [==============================] - 3s 10ms/step - loss: 0.0147 - acc: 0.9934 - val_loss: 0.6054 - val_acc: 0.9572\n",
      "Epoch 76/100\n",
      "266/266 [==============================] - 3s 10ms/step - loss: 0.0167 - acc: 0.9921 - val_loss: 0.5689 - val_acc: 0.9564\n",
      "Epoch 77/100\n",
      "266/266 [==============================] - 3s 10ms/step - loss: 0.0144 - acc: 0.9949 - val_loss: 0.6751 - val_acc: 0.9525\n",
      "Epoch 78/100\n",
      "266/266 [==============================] - 3s 10ms/step - loss: 0.0125 - acc: 0.9941 - val_loss: 0.6126 - val_acc: 0.9525\n",
      "Epoch 79/100\n",
      "266/266 [==============================] - 3s 11ms/step - loss: 0.0135 - acc: 0.9946 - val_loss: 0.6238 - val_acc: 0.9593\n",
      "Epoch 80/100\n",
      "266/266 [==============================] - 3s 11ms/step - loss: 0.0129 - acc: 0.9940 - val_loss: 0.6540 - val_acc: 0.9558\n",
      "Epoch 81/100\n",
      "266/266 [==============================] - 3s 11ms/step - loss: 0.0159 - acc: 0.9942 - val_loss: 0.6943 - val_acc: 0.9578\n",
      "Epoch 82/100\n",
      "266/266 [==============================] - 3s 11ms/step - loss: 0.0149 - acc: 0.9940 - val_loss: 0.6076 - val_acc: 0.9528\n",
      "Epoch 83/100\n",
      "266/266 [==============================] - 3s 10ms/step - loss: 0.0113 - acc: 0.9945 - val_loss: 0.6298 - val_acc: 0.9528\n",
      "Epoch 84/100\n",
      "266/266 [==============================] - 3s 10ms/step - loss: 0.0139 - acc: 0.9939 - val_loss: 0.6856 - val_acc: 0.9507\n",
      "Epoch 85/100\n",
      "266/266 [==============================] - 3s 10ms/step - loss: 0.0163 - acc: 0.9931 - val_loss: 0.6059 - val_acc: 0.9531\n",
      "Epoch 86/100\n",
      "266/266 [==============================] - 3s 10ms/step - loss: 0.0137 - acc: 0.9940 - val_loss: 0.7186 - val_acc: 0.9450\n",
      "Epoch 87/100\n",
      "266/266 [==============================] - 3s 10ms/step - loss: 0.0115 - acc: 0.9949 - val_loss: 0.7616 - val_acc: 0.9504\n",
      "Epoch 88/100\n",
      "266/266 [==============================] - 3s 11ms/step - loss: 0.0131 - acc: 0.9951 - val_loss: 0.6239 - val_acc: 0.9528\n",
      "Epoch 89/100\n",
      "266/266 [==============================] - 3s 11ms/step - loss: 0.0109 - acc: 0.9951 - val_loss: 0.7237 - val_acc: 0.9498\n",
      "Epoch 90/100\n",
      "266/266 [==============================] - 3s 12ms/step - loss: 0.0111 - acc: 0.9941 - val_loss: 0.8035 - val_acc: 0.9513\n",
      "Epoch 91/100\n",
      "266/266 [==============================] - 3s 10ms/step - loss: 0.0101 - acc: 0.9951 - val_loss: 0.7583 - val_acc: 0.9561\n",
      "Epoch 92/100\n",
      "266/266 [==============================] - 3s 10ms/step - loss: 0.0157 - acc: 0.9944 - val_loss: 0.6429 - val_acc: 0.9561\n",
      "Epoch 93/100\n",
      "266/266 [==============================] - 3s 10ms/step - loss: 0.0148 - acc: 0.9932 - val_loss: 0.9043 - val_acc: 0.9471\n",
      "Epoch 94/100\n",
      "266/266 [==============================] - 3s 10ms/step - loss: 0.0123 - acc: 0.9944 - val_loss: 0.6960 - val_acc: 0.9477\n",
      "Epoch 95/100\n",
      "266/266 [==============================] - 3s 10ms/step - loss: 0.0105 - acc: 0.9949 - val_loss: 0.7442 - val_acc: 0.9480\n",
      "Epoch 96/100\n",
      "266/266 [==============================] - 3s 10ms/step - loss: 0.0092 - acc: 0.9958 - val_loss: 0.8033 - val_acc: 0.9471\n",
      "Epoch 97/100\n",
      "266/266 [==============================] - 3s 10ms/step - loss: 0.0126 - acc: 0.9934 - val_loss: 0.8589 - val_acc: 0.9417\n",
      "Epoch 98/100\n",
      "266/266 [==============================] - 3s 10ms/step - loss: 0.0091 - acc: 0.9952 - val_loss: 0.8458 - val_acc: 0.9474\n",
      "Epoch 99/100\n",
      "266/266 [==============================] - 3s 10ms/step - loss: 0.0130 - acc: 0.9945 - val_loss: 0.8547 - val_acc: 0.9480\n",
      "Epoch 100/100\n",
      "266/266 [==============================] - 3s 10ms/step - loss: 0.0114 - acc: 0.9948 - val_loss: 0.8043 - val_acc: 0.9462\n"
     ]
    },
    {
     "data": {
      "text/plain": [
       "<keras.callbacks.History at 0x2b8160a169e0>"
      ]
     },
     "execution_count": 62,
     "metadata": {},
     "output_type": "execute_result"
    }
   ],
   "source": [
    "model.fit(x_train, y_train, validation_data=(x_valid, y_valid), shuffle=True, epochs=100) #set as variable"
   ]
  },
  {
   "cell_type": "code",
   "execution_count": 63,
   "id": "73ba38fa-938b-450c-97ba-3bd51ff5e413",
   "metadata": {},
   "outputs": [],
   "source": [
    "val_pred = model.predict(x_valid)"
   ]
  },
  {
   "cell_type": "code",
   "execution_count": 64,
   "id": "d295cdb1-2df4-45d5-91e0-1a865b7e5887",
   "metadata": {},
   "outputs": [
    {
     "data": {
      "text/plain": [
       "array([[1.0000000e+00, 0.0000000e+00, 0.0000000e+00, 0.0000000e+00],\n",
       "       [1.0000000e+00, 0.0000000e+00, 0.0000000e+00, 0.0000000e+00],\n",
       "       [1.0000000e+00, 0.0000000e+00, 0.0000000e+00, 0.0000000e+00],\n",
       "       ...,\n",
       "       [1.0000000e+00, 2.1562981e-18, 0.0000000e+00, 1.1833383e-36],\n",
       "       [1.0000000e+00, 2.9670084e-09, 5.0603455e-27, 1.9219380e-18],\n",
       "       [9.9991882e-01, 5.7764770e-05, 3.7234716e-18, 2.3411862e-05]],\n",
       "      dtype=float32)"
      ]
     },
     "execution_count": 64,
     "metadata": {},
     "output_type": "execute_result"
    }
   ],
   "source": [
    "val_pred"
   ]
  },
  {
   "cell_type": "code",
   "execution_count": 65,
   "id": "5306413d-7c83-4342-b111-aae67219f6fe",
   "metadata": {},
   "outputs": [
    {
     "data": {
      "text/plain": [
       "array([[1., 0., 0., 0.],\n",
       "       [1., 0., 0., 0.],\n",
       "       [1., 0., 0., 0.],\n",
       "       ...,\n",
       "       [1., 0., 0., 0.],\n",
       "       [1., 0., 0., 0.],\n",
       "       [1., 0., 0., 0.]])"
      ]
     },
     "execution_count": 65,
     "metadata": {},
     "output_type": "execute_result"
    }
   ],
   "source": [
    "y_valid"
   ]
  },
  {
   "cell_type": "code",
   "execution_count": 67,
   "id": "f4b6e603-5895-440a-8874-eca73bce9fde",
   "metadata": {},
   "outputs": [],
   "source": [
    "preds = np.argmax(val_pred, 1)"
   ]
  },
  {
   "cell_type": "code",
   "execution_count": 68,
   "id": "a73965ff-a618-43b8-bb91-7b97eb034084",
   "metadata": {},
   "outputs": [],
   "source": [
    "labels = np.argmax(y_valid,1)"
   ]
  },
  {
   "cell_type": "code",
   "execution_count": 69,
   "id": "5216621f-16bc-4484-b085-91505e137d7b",
   "metadata": {},
   "outputs": [
    {
     "data": {
      "text/plain": [
       "0.9461883408071748"
      ]
     },
     "execution_count": 69,
     "metadata": {},
     "output_type": "execute_result"
    }
   ],
   "source": [
    "(preds == labels).mean()"
   ]
  },
  {
   "cell_type": "code",
   "execution_count": 70,
   "id": "df528eb1-056b-4a7b-b9c2-fb8f72284b02",
   "metadata": {},
   "outputs": [],
   "source": [
    "class_weight = {0:1.0, 1:10.0, 2:10.0, 3:10.0} #class_weights=class_weights in model.fit"
   ]
  },
  {
   "cell_type": "code",
   "execution_count": 71,
   "id": "2249352a-f8ea-4b9f-8ba5-a77d2dedbeec",
   "metadata": {},
   "outputs": [
    {
     "data": {
      "text/plain": [
       "[1.0, 0.0, 0.0, 0.0]    1\n",
       "[1.0, 0.0, 0.0, 0.0]    1\n",
       "[1.0, 0.0, 0.0, 0.0]    1\n",
       "[1.0, 0.0, 0.0, 0.0]    1\n",
       "[1.0, 0.0, 0.0, 0.0]    1\n",
       "                       ..\n",
       "[1.0, 0.0, 0.0, 0.0]    1\n",
       "[1.0, 0.0, 0.0, 0.0]    1\n",
       "[1.0, 0.0, 0.0, 0.0]    1\n",
       "[1.0, 0.0, 0.0, 0.0]    1\n",
       "[1.0, 0.0, 0.0, 0.0]    1\n",
       "Name: label, Length: 8496, dtype: int64"
      ]
     },
     "execution_count": 71,
     "metadata": {},
     "output_type": "execute_result"
    }
   ],
   "source": [
    "train_data['label'].value_counts()"
   ]
  },
  {
   "cell_type": "code",
   "execution_count": 82,
   "id": "a4b3fc23-5137-4eb3-9470-ef2a8a8cdacc",
   "metadata": {},
   "outputs": [],
   "source": [
    "import matplotlib.pyplot as plt\n",
    "from sklearn.metrics import confusion_matrix\n",
    "from sklearn.utils.multiclass import unique_labels\n",
    "\n",
    "def plot_confusion_matrix(y_true, y_pred, classes,\n",
    "                          normalize=False,\n",
    "                          title=None,\n",
    "                          cmap=plt.cm.Blues):\n",
    "    \"\"\"\n",
    "    This function prints and plots the confusion matrix.\n",
    "    Normalization can be applied by setting `normalize=True`.\n",
    "    \"\"\"\n",
    "    if not title:\n",
    "        if normalize:\n",
    "            title = 'Normalized confusion matrix'\n",
    "        else:\n",
    "            title = 'Confusion matrix, without normalization'\n",
    "\n",
    "    # Compute confusion matrix\n",
    "    cm = confusion_matrix(y_true, y_pred)\n",
    "    # Only use the labels that appear in the data\n",
    "    # classes = classes[unique_labels(y_true, y_pred)]\n",
    "    if normalize:\n",
    "        cm = cm.astype('float') / cm.sum(axis=1)[:, np.newaxis]\n",
    "        print(\"Normalized confusion matrix\")\n",
    "    else:\n",
    "        print('Confusion matrix, without normalization')\n",
    "\n",
    "    print(cm)\n",
    "\n",
    "    fig, ax = plt.subplots()\n",
    "    im = ax.imshow(cm, interpolation='nearest', cmap=cmap)\n",
    "    ax.figure.colorbar(im, ax=ax)\n",
    "    # We want to show all ticks...\n",
    "    ax.set(xticks=np.arange(cm.shape[1]),\n",
    "           yticks=np.arange(cm.shape[0]),\n",
    "           # ... and label them with the respective list entries\n",
    "           xticklabels=classes, yticklabels=classes,\n",
    "           title=title,\n",
    "           ylabel='True label',\n",
    "           xlabel='Predicted label')\n",
    "\n",
    "    # Rotate the tick labels and set their alignment.\n",
    "    plt.setp(ax.get_xticklabels(), rotation=45, ha=\"right\",\n",
    "             rotation_mode=\"anchor\")\n",
    "\n",
    "    # Loop over data dimensions and create text annotations.\n",
    "    fmt = '.2f' if normalize else 'd'\n",
    "    thresh = cm.max() / 2.\n",
    "    for i in range(cm.shape[0]):\n",
    "        for j in range(cm.shape[1]):\n",
    "            ax.text(j, i, format(cm[i, j], fmt),\n",
    "                    ha=\"center\", va=\"center\",\n",
    "                    color=\"white\" if cm[i, j] > thresh else \"black\")\n",
    "    fig.tight_layout()\n",
    "    # plt.xlim(-0.5, len(np.unique(y))-0.5)\n",
    "    # plt.ylim(len(np.unique(y))-0.5, -0.5)\n",
    "    return ax"
   ]
  },
  {
   "cell_type": "code",
   "execution_count": 87,
   "id": "b0e54d3c-1bcc-4014-b09e-0775b34fe85a",
   "metadata": {},
   "outputs": [
    {
     "name": "stdout",
     "output_type": "stream",
     "text": [
      "Confusion matrix, without normalization\n",
      "[[2289  120    3]\n",
      " [  49  876    0]\n",
      " [   0    8    0]]\n",
      "Normalized confusion matrix\n",
      "[[0.95 0.05 0.  ]\n",
      " [0.05 0.95 0.  ]\n",
      " [0.   1.   0.  ]]\n"
     ]
    },
    {
     "data": {
      "image/png": "[encoded data removed]",
      "text/plain": [
       "<Figure size 432x288 with 2 Axes>"
      ]
     },
     "metadata": {
      "needs_background": "light"
     },
     "output_type": "display_data"
    },
    {
     "data": {
      "image/png": "[encoded data removed]",
      "text/plain": [
       "<Figure size 432x288 with 2 Axes>"
      ]
     },
     "metadata": {
      "needs_background": "light"
     },
     "output_type": "display_data"
    }
   ],
   "source": [
    "np.set_printoptions(precision=2)\n",
    "class_names = [str(x) for x in sorted(set(labels))]\n",
    "\n",
    "# Plot non-normalized confusion matrix\n",
    "plot_confusion_matrix(labels, preds, classes=class_names,\n",
    "                      title='Confusion matrix, without normalization')\n",
    "\n",
    "# Plot normalized confusion matrix\n",
    "plot_confusion_matrix(labels, preds, classes=class_names, normalize=True,\n",
    "                      title='Normalized confusion matrix')\n",
    "\n",
    "plt.show()"
   ]
  },
  {
   "cell_type": "code",
   "execution_count": null,
   "id": "459126df-b8be-4515-8381-996a9316250e",
   "metadata": {},
   "outputs": [],
   "source": []
  },
  {
   "cell_type": "code",
   "execution_count": null,
   "id": "bc5cea7d-bc86-4eea-ad2a-f683ba9a68f8",
   "metadata": {},
   "outputs": [],
   "source": []
  }
 ],
 "metadata": {
  "kernelspec": {
   "display_name": "Python [conda env:winter-ptype]",
   "language": "python",
   "name": "conda-env-winter-ptype-py"
  },
  "language_info": {
   "codemirror_mode": {
    "name": "ipython",
    "version": 3
   },
   "file_extension": ".py",
   "mimetype": "text/x-python",
   "name": "python",
   "nbconvert_exporter": "python",
   "pygments_lexer": "ipython3",
   "version": "3.10.4"
  }
 },
 "nbformat": 4,
 "nbformat_minor": 5
}
