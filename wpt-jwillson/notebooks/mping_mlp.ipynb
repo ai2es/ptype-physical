{
 "cells": [
  {
   "cell_type": "markdown",
   "id": "ecb42f89-ad87-401f-a09d-b11e744ff341",
   "metadata": {
    "tags": []
   },
   "source": [
    "## Imports and Function Definitions"
   ]
  },
  {
   "cell_type": "code",
   "execution_count": 31,
   "id": "ae01a7ae-e8ba-48bb-b536-80cf6ce0782e",
   "metadata": {},
   "outputs": [],
   "source": [
    "import yaml, glob\n",
    "import pandas as pd\n",
    "from sklearn.model_selection import train_test_split, GroupShuffleSplit\n",
    "from sklearn.preprocessing import StandardScaler\n",
    "import tqdm\n",
    "import numpy as np\n",
    "import tensorflow as tf\n",
    "import matplotlib.pyplot as plt\n",
    "from sklearn.metrics import confusion_matrix\n",
    "from sklearn.utils.multiclass import unique_labels\n",
    "from callbacks import get_callbacks \n",
    "import logging\n",
    "from sklearn.utils import class_weight"
   ]
  },
  {
   "cell_type": "code",
   "execution_count": 32,
   "id": "b7aca782-652a-46e3-a180-52e33c824e0e",
   "metadata": {},
   "outputs": [],
   "source": [
    "def plot_confusion_matrix(y_true, y_pred, classes,\n",
    "                          normalize=False,\n",
    "                          title=None,\n",
    "                          cmap=plt.cm.Blues):\n",
    "    \"\"\"\n",
    "    This function prints and plots the confusion matrix.\n",
    "    Normalization can be applied by setting `normalize=True`.\n",
    "    \"\"\"\n",
    "    if not title:\n",
    "        if normalize:\n",
    "            title = 'Normalized confusion matrix'\n",
    "        else:\n",
    "            title = 'Confusion matrix, without normalization'\n",
    "    # Compute confusion matrix\n",
    "    cm = confusion_matrix(y_true, y_pred)\n",
    "    # Only use the labels that appear in the data\n",
    "    # classes = classes[unique_labels(y_true, y_pred)]\n",
    "    if normalize:\n",
    "        cm = cm.astype('float') / cm.sum(axis=1)[:, np.newaxis]\n",
    "        print(\"Normalized confusion matrix\")\n",
    "    else:\n",
    "        print('Confusion matrix, without normalization')\n",
    "    print(cm)\n",
    "    fig, ax = plt.subplots()\n",
    "    im = ax.imshow(cm, interpolation='nearest', cmap=cmap)\n",
    "    ax.figure.colorbar(im, ax=ax)\n",
    "    # We want to show all ticks...\n",
    "    ax.set(xticks=np.arange(cm.shape[1]),\n",
    "           yticks=np.arange(cm.shape[0]),\n",
    "           # ... and label them with the respective list entries\n",
    "           xticklabels=classes, yticklabels=classes,\n",
    "           title=title,\n",
    "           ylabel='True label',\n",
    "           xlabel='Predicted label')\n",
    "    # Rotate the tick labels and set their alignment.\n",
    "    plt.setp(ax.get_xticklabels(), rotation=45, ha=\"right\",\n",
    "             rotation_mode=\"anchor\")\n",
    "    # Loop over data dimensions and create text annotations.\n",
    "    fmt = '.2f' if normalize else 'd'\n",
    "    thresh = cm.max() / 2.\n",
    "    for i in range(cm.shape[0]):\n",
    "        for j in range(cm.shape[1]):\n",
    "            ax.text(j, i, format(cm[i, j], fmt),\n",
    "                    ha=\"center\", va=\"center\",\n",
    "                    color=\"white\" if cm[i, j] > thresh else \"black\")\n",
    "    fig.tight_layout()\n",
    "    # plt.xlim(-0.5, len(np.unique(y))-0.5)\n",
    "    # plt.ylim(len(np.unique(y))-0.5, -0.5)\n",
    "    return ax\n",
    "\n",
    "def one_hot(x):\n",
    "    a = np.zeros(len(output_cols))\n",
    "    a[x] = 1\n",
    "    return a\n",
    "\n",
    "def build_model(input_size, hidden_size, output_size):\n",
    "    model = tf.keras.models.Sequential(\n",
    "        [tf.keras.layers.Dense(input_size, activation='relu'),\n",
    "        tf.keras.layers.Dense(hidden_size, activation='relu'),\n",
    "        tf.keras.layers.Dense(output_size, activation='softmax')]\n",
    "    )\n",
    "    return model"
   ]
  },
  {
   "cell_type": "markdown",
   "id": "ac880ae4-76ea-45ab-808a-c0fed91f71e5",
   "metadata": {
    "tags": []
   },
   "source": [
    "# mPING MLP"
   ]
  },
  {
   "cell_type": "markdown",
   "id": "c3172368-810c-4bbf-9e57-70943d8d5a62",
   "metadata": {},
   "source": [
    "- trials with/without one hot encoding\n",
    "- uses class weighting based on the automatic scheme in sklearn"
   ]
  },
  {
   "cell_type": "markdown",
   "id": "abf60387-5ec7-4b89-b515-035406cc3651",
   "metadata": {},
   "source": [
    "### Get features and outputs from config.yml"
   ]
  },
  {
   "cell_type": "code",
   "execution_count": 5,
   "id": "c1010fa6-bb9c-40e9-b938-7c76668d6aee",
   "metadata": {},
   "outputs": [],
   "source": [
    "config = 'config.yml'\n",
    "with open(config) as f:\n",
    "    conf = yaml.load(f, Loader=yaml.FullLoader)\n",
    "    \n",
    "# print(conf)\n",
    "input_cols = conf['tempvars'] + conf['tempdewvars'] + conf['ugrdvars'] + conf['vgrdvars']\n",
    "output_cols = conf['outputvars']"
   ]
  },
  {
   "cell_type": "code",
   "execution_count": 6,
   "id": "7db1894c-a54c-4128-bc89-2be77a17ce22",
   "metadata": {},
   "outputs": [],
   "source": [
    "# sort files by their date\n",
    "arr = sorted(glob.glob(conf['mping_path']+'*'))"
   ]
  },
  {
   "cell_type": "markdown",
   "id": "ee40f2cb-75ef-4586-ad90-8062a5d65548",
   "metadata": {},
   "source": [
    "### Load all mPING data"
   ]
  },
  {
   "cell_type": "code",
   "execution_count": 7,
   "id": "05523155-69f3-4941-ad3b-32561bc511f8",
   "metadata": {},
   "outputs": [],
   "source": [
    "df = pd.read_parquet(conf['work_path']+'mping_data.parquet')"
   ]
  },
  {
   "cell_type": "code",
   "execution_count": 5,
   "id": "a8320c6e-11a7-4ef8-8c7b-023ade4255b4",
   "metadata": {},
   "outputs": [
    {
     "name": "stderr",
     "output_type": "stream",
     "text": [
      "100%|██████████| 2499/2499 [03:25<00:00, 12.16it/s]\n"
     ]
    },
    {
     "data": {
      "text/plain": [
       "(876511, 407)"
      ]
     },
     "execution_count": 5,
     "metadata": {},
     "output_type": "execute_result"
    }
   ],
   "source": [
    "df = pd.concat([pd.read_parquet(x) for x in tqdm.tqdm(arr)])\n",
    "df.shape"
   ]
  },
  {
   "cell_type": "code",
   "execution_count": 36,
   "id": "648663f3-9073-4445-8c02-6a02be40c0ff",
   "metadata": {},
   "outputs": [],
   "source": [
    "df.to_parquet(conf['work_path']+'mping_data.parquet')"
   ]
  },
  {
   "cell_type": "markdown",
   "id": "6b227af3-4cd1-4160-a3b7-ac144bdc6b2d",
   "metadata": {},
   "source": [
    "### Split the data"
   ]
  },
  {
   "cell_type": "code",
   "execution_count": 8,
   "id": "2f951163-e29e-493e-b701-9388cffd6b53",
   "metadata": {},
   "outputs": [],
   "source": [
    "df['day'] = df['datetime'].apply(lambda x: str(x).split(' ')[0])"
   ]
  },
  {
   "cell_type": "code",
   "execution_count": 9,
   "id": "3c468eb2-8e81-4148-a4da-5f93087b7595",
   "metadata": {},
   "outputs": [],
   "source": [
    "splitter = GroupShuffleSplit(n_splits=1, train_size=0.9)"
   ]
  },
  {
   "cell_type": "code",
   "execution_count": 10,
   "id": "70e4ed86-e093-497f-8a1c-5014906cd5b9",
   "metadata": {},
   "outputs": [],
   "source": [
    "train_idx, test_idx = list(splitter.split(df, groups=df['day']))[0]\n",
    "train_data, test_data = df.iloc[train_idx], df.iloc[test_idx]"
   ]
  },
  {
   "cell_type": "code",
   "execution_count": 11,
   "id": "bc3a7f89-ff1f-457b-96a7-4cca86fe0cf7",
   "metadata": {},
   "outputs": [],
   "source": [
    "splitter = GroupShuffleSplit(n_splits=1, train_size=0.885)\n",
    "train_idx, valid_idx = list(splitter.split(train_data, groups=train_data['day']))[0]\n",
    "train_data, valid_data = train_data.iloc[train_idx], train_data.iloc[valid_idx]"
   ]
  },
  {
   "cell_type": "code",
   "execution_count": 12,
   "id": "087b7a0c-c535-467c-aee5-3068cbef9a28",
   "metadata": {},
   "outputs": [
    {
     "data": {
      "text/plain": [
       "(692424, 408)"
      ]
     },
     "execution_count": 12,
     "metadata": {},
     "output_type": "execute_result"
    }
   ],
   "source": [
    "train_data.shape"
   ]
  },
  {
   "cell_type": "code",
   "execution_count": 13,
   "id": "f6839de0-891c-44e3-9094-f96b0521c8c2",
   "metadata": {},
   "outputs": [
    {
     "data": {
      "text/plain": [
       "(92117, 408)"
      ]
     },
     "execution_count": 13,
     "metadata": {},
     "output_type": "execute_result"
    }
   ],
   "source": [
    "test_data.shape"
   ]
  },
  {
   "cell_type": "code",
   "execution_count": 14,
   "id": "bd816fdd-11b0-4a7b-add5-31d0c9ee4e99",
   "metadata": {},
   "outputs": [
    {
     "data": {
      "text/plain": [
       "(91970, 408)"
      ]
     },
     "execution_count": 14,
     "metadata": {},
     "output_type": "execute_result"
    }
   ],
   "source": [
    "valid_data.shape"
   ]
  },
  {
   "cell_type": "markdown",
   "id": "a7c63f49-7e39-45e5-a20b-7f3cc62b3175",
   "metadata": {},
   "source": [
    "### Preprocess the data"
   ]
  },
  {
   "cell_type": "code",
   "execution_count": 15,
   "id": "3384b991-5d3a-4037-81c5-5c3e060d47d1",
   "metadata": {},
   "outputs": [],
   "source": [
    "scaler_x = StandardScaler()"
   ]
  },
  {
   "cell_type": "code",
   "execution_count": 16,
   "id": "61f85799-4ea1-4d3a-b76c-11866f39156e",
   "metadata": {},
   "outputs": [],
   "source": [
    "x_train = scaler_x.fit_transform(train_data[input_cols])"
   ]
  },
  {
   "cell_type": "code",
   "execution_count": 17,
   "id": "a3fa58e9-a47d-4354-89ba-ce8106921195",
   "metadata": {},
   "outputs": [],
   "source": [
    "x_valid = scaler_x.transform(valid_data[input_cols])"
   ]
  },
  {
   "cell_type": "code",
   "execution_count": 18,
   "id": "934535d3-6231-438e-af7e-6e02531552fe",
   "metadata": {},
   "outputs": [],
   "source": [
    "x_test = scaler_x.transform(test_data[input_cols])"
   ]
  },
  {
   "cell_type": "markdown",
   "id": "7d8f28b4-1494-49c8-8962-95c26b865827",
   "metadata": {
    "jp-MarkdownHeadingCollapsed": true,
    "tags": []
   },
   "source": [
    "#### One hot encoding"
   ]
  },
  {
   "cell_type": "code",
   "execution_count": 27,
   "id": "28935fb8-9c6c-4647-a228-dcce1b4e2e35",
   "metadata": {},
   "outputs": [
    {
     "data": {
      "text/plain": [
       "(692218, 4)"
      ]
     },
     "execution_count": 27,
     "metadata": {},
     "output_type": "execute_result"
    }
   ],
   "source": [
    "train_data['label'] = train_data[output_cols].idxmax(axis=1).apply(lambda x: one_hot(output_cols.index(x)))\n",
    "y_train = train_data['label'].to_numpy()\n",
    "y_train = np.vstack(y_train)\n",
    "y_train.shape"
   ]
  },
  {
   "cell_type": "code",
   "execution_count": 28,
   "id": "c5dfa04f-1876-45c9-abf8-884953b094a4",
   "metadata": {},
   "outputs": [
    {
     "data": {
      "text/plain": [
       "(91223, 4)"
      ]
     },
     "execution_count": 28,
     "metadata": {},
     "output_type": "execute_result"
    }
   ],
   "source": [
    "valid_data['label'] = valid_data[output_cols].idxmax(axis=1).apply(lambda x: one_hot(output_cols.index(x)))\n",
    "y_valid = valid_data['label'].to_numpy()\n",
    "y_valid = np.vstack(y_valid)\n",
    "y_valid.shape"
   ]
  },
  {
   "cell_type": "code",
   "execution_count": 29,
   "id": "acd90de7-135f-4a93-a587-06c577d8f87c",
   "metadata": {},
   "outputs": [
    {
     "name": "stderr",
     "output_type": "stream",
     "text": [
      "/glade/scratch/jwillson/ipykernel_86583/1794376418.py:1: SettingWithCopyWarning: \n",
      "A value is trying to be set on a copy of a slice from a DataFrame.\n",
      "Try using .loc[row_indexer,col_indexer] = value instead\n",
      "\n",
      "See the caveats in the documentation: https://pandas.pydata.org/pandas-docs/stable/user_guide/indexing.html#returning-a-view-versus-a-copy\n",
      "  test_data['label'] = test_data[output_cols].idxmax(axis=1).apply(lambda x: one_hot(output_cols.index(x)))\n"
     ]
    },
    {
     "data": {
      "text/plain": [
       "(93070, 4)"
      ]
     },
     "execution_count": 29,
     "metadata": {},
     "output_type": "execute_result"
    }
   ],
   "source": [
    "test_data['label'] = test_data[output_cols].idxmax(axis=1).apply(lambda x: one_hot(output_cols.index(x)))\n",
    "y_test = test_data['label'].to_numpy()\n",
    "y_test = np.vstack(y_test)\n",
    "y_test.shape"
   ]
  },
  {
   "cell_type": "markdown",
   "id": "807ba842-5550-4700-a76b-d75d7a4fa0f2",
   "metadata": {
    "tags": []
   },
   "source": [
    "#### One hot encoding not used"
   ]
  },
  {
   "cell_type": "code",
   "execution_count": 19,
   "id": "e8e48e4f-8251-49aa-9994-2238865c660d",
   "metadata": {},
   "outputs": [
    {
     "data": {
      "text/plain": [
       "(692424, 4)"
      ]
     },
     "execution_count": 19,
     "metadata": {},
     "output_type": "execute_result"
    }
   ],
   "source": [
    "y_train = train_data[output_cols].to_numpy()\n",
    "y_train.shape"
   ]
  },
  {
   "cell_type": "code",
   "execution_count": 20,
   "id": "975b7fe9-be8d-4858-9ab2-d56e4b64d215",
   "metadata": {},
   "outputs": [
    {
     "data": {
      "text/plain": [
       "(91970, 4)"
      ]
     },
     "execution_count": 20,
     "metadata": {},
     "output_type": "execute_result"
    }
   ],
   "source": [
    "y_valid = valid_data[output_cols].to_numpy()\n",
    "y_valid.shape"
   ]
  },
  {
   "cell_type": "code",
   "execution_count": 21,
   "id": "a9f388e9-78c6-4f11-900b-8d36fdbfc61c",
   "metadata": {},
   "outputs": [
    {
     "data": {
      "text/plain": [
       "(92117, 4)"
      ]
     },
     "execution_count": 21,
     "metadata": {},
     "output_type": "execute_result"
    }
   ],
   "source": [
    "y_test = test_data[output_cols].to_numpy()\n",
    "y_test.shape"
   ]
  },
  {
   "cell_type": "markdown",
   "id": "20ec6e2c-e54d-4af6-bb1f-10b4b763df3c",
   "metadata": {},
   "source": [
    "#### Add class weights"
   ]
  },
  {
   "cell_type": "code",
   "execution_count": 22,
   "id": "8ac9371c-afca-4f36-9c44-f5e1e7c0f666",
   "metadata": {},
   "outputs": [],
   "source": [
    "classes = [np.argmax(y_train[i]) for i in range(len(y_train))]"
   ]
  },
  {
   "cell_type": "code",
   "execution_count": 23,
   "id": "9334bf6f-a920-4974-be1b-2168512323ba",
   "metadata": {},
   "outputs": [
    {
     "data": {
      "text/plain": [
       "array([0.63572496, 0.54217954, 2.55964157, 5.21089705])"
      ]
     },
     "execution_count": 23,
     "metadata": {},
     "output_type": "execute_result"
    }
   ],
   "source": [
    "class_weights = class_weight.compute_class_weight(class_weight='balanced', classes=np.unique(classes), y=classes)\n",
    "class_weights"
   ]
  },
  {
   "cell_type": "code",
   "execution_count": 24,
   "id": "2fa89287-f925-4ed1-9000-39b2c4f135c8",
   "metadata": {},
   "outputs": [
    {
     "data": {
      "text/plain": [
       "{0: 0.6357249620818445,\n",
       " 1: 0.5421795425929754,\n",
       " 2: 2.559641573881027,\n",
       " 3: 5.210897049969898}"
      ]
     },
     "execution_count": 24,
     "metadata": {},
     "output_type": "execute_result"
    }
   ],
   "source": [
    "class_weights_dict = {i:class_weights[i] for i in range(4)}\n",
    "class_weights_dict"
   ]
  },
  {
   "cell_type": "markdown",
   "id": "a29dec48-a1cb-450c-b4a3-c1b5180ebd16",
   "metadata": {},
   "source": [
    "### Build Model"
   ]
  },
  {
   "cell_type": "code",
   "execution_count": 39,
   "id": "7c14b6f3-fe76-4bea-9696-cd97b0e459b0",
   "metadata": {},
   "outputs": [
    {
     "name": "stdout",
     "output_type": "stream",
     "text": [
      "Model: \"sequential_4\"\n",
      "_________________________________________________________________\n",
      " Layer (type)                Output Shape              Param #   \n",
      "=================================================================\n",
      " dense_12 (Dense)            (5000, 268)               72092     \n",
      "                                                                 \n",
      " dense_13 (Dense)            (5000, 100)               26900     \n",
      "                                                                 \n",
      " dense_14 (Dense)            (5000, 4)                 404       \n",
      "                                                                 \n",
      "=================================================================\n",
      "Total params: 99,396\n",
      "Trainable params: 99,396\n",
      "Non-trainable params: 0\n",
      "_________________________________________________________________\n"
     ]
    }
   ],
   "source": [
    "model = build_model(len(input_cols), 100, len(output_cols))\n",
    "model.build((5000, len(input_cols)))\n",
    "model.summary()"
   ]
  },
  {
   "cell_type": "markdown",
   "id": "aaba23f5-a628-433e-931e-1e9da37e43fa",
   "metadata": {},
   "source": [
    "### Load Saved Model"
   ]
  },
  {
   "cell_type": "code",
   "execution_count": 32,
   "id": "7da491e6-6736-4558-b566-62a4d98eb878",
   "metadata": {},
   "outputs": [],
   "source": [
    "model.load_weights(conf['work_path']+'mping_mlp2.h5')"
   ]
  },
  {
   "cell_type": "markdown",
   "id": "3668c17a-3eff-4175-99de-8f31fc35c483",
   "metadata": {},
   "source": [
    "### Compile and Train Model"
   ]
  },
  {
   "cell_type": "code",
   "execution_count": 40,
   "id": "8086d04d-0632-49ff-9154-320ae8c22e27",
   "metadata": {},
   "outputs": [],
   "source": [
    "learning_rate = 1e-3\n",
    "optimizer = tf.keras.optimizers.Adam(learning_rate)\n",
    "loss = tf.keras.losses.CategoricalCrossentropy()\n",
    "model.compile(loss=loss, optimizer=optimizer, metrics='acc', run_eagerly=True) \n",
    "#metrics could be list"
   ]
  },
  {
   "cell_type": "code",
   "execution_count": 41,
   "id": "58eb64f6-8d82-4ba5-9e7b-91613719aa44",
   "metadata": {},
   "outputs": [
    {
     "name": "stdout",
     "output_type": "stream",
     "text": [
      "Epoch 1/1000\n",
      "139/139 [==============================] - 3s 20ms/step - loss: 0.7736 - acc: 0.7619 - val_loss: 0.5702 - val_acc: 0.7916 - lr: 0.0010\n",
      "Epoch 2/1000\n",
      "139/139 [==============================] - 3s 18ms/step - loss: 0.6831 - acc: 0.7993 - val_loss: 0.5642 - val_acc: 0.7892 - lr: 0.0010\n",
      "Epoch 3/1000\n",
      "139/139 [==============================] - 3s 18ms/step - loss: 0.6619 - acc: 0.8052 - val_loss: 0.5205 - val_acc: 0.8118 - lr: 0.0010\n",
      "Epoch 4/1000\n",
      "139/139 [==============================] - 3s 18ms/step - loss: 0.6472 - acc: 0.8101 - val_loss: 0.5615 - val_acc: 0.7952 - lr: 0.0010\n",
      "Epoch 5/1000\n",
      "139/139 [==============================] - 3s 18ms/step - loss: 0.6374 - acc: 0.8134 - val_loss: 0.5463 - val_acc: 0.7990 - lr: 0.0010\n",
      "Epoch 6/1000\n",
      "139/139 [==============================] - 3s 18ms/step - loss: 0.6180 - acc: 0.8196 - val_loss: 0.5363 - val_acc: 0.8025 - lr: 2.0000e-04\n",
      "Epoch 7/1000\n",
      "139/139 [==============================] - 2s 18ms/step - loss: 0.6139 - acc: 0.8205 - val_loss: 0.5274 - val_acc: 0.8086 - lr: 2.0000e-04\n"
     ]
    }
   ],
   "source": [
    "callbacks = get_callbacks(conf)\n",
    "training = model.fit(x_train, y_train, validation_data=(x_valid, y_valid), class_weight=class_weights_dict, callbacks=callbacks,\n",
    "                     batch_size=5000, shuffle=True, epochs=1000) \n",
    "#set as variable"
   ]
  },
  {
   "cell_type": "markdown",
   "id": "22b320a8-d8ed-4d92-b42e-0d0a7e7663a1",
   "metadata": {},
   "source": [
    "### Test Model"
   ]
  },
  {
   "cell_type": "code",
   "execution_count": 33,
   "id": "1890677d-586a-4a53-ae21-831a65116af5",
   "metadata": {},
   "outputs": [
    {
     "data": {
      "text/plain": [
       "array([[0.32, 0.06, 0.13, 0.49],\n",
       "       [0.74, 0.  , 0.04, 0.22],\n",
       "       [0.62, 0.01, 0.07, 0.3 ],\n",
       "       ...,\n",
       "       [0.  , 0.69, 0.29, 0.02],\n",
       "       [0.  , 0.59, 0.34, 0.06],\n",
       "       [0.  , 0.77, 0.2 , 0.03]], dtype=float32)"
      ]
     },
     "execution_count": 33,
     "metadata": {},
     "output_type": "execute_result"
    }
   ],
   "source": [
    "predictions = model.predict(x_test)\n",
    "predictions"
   ]
  },
  {
   "cell_type": "code",
   "execution_count": 34,
   "id": "6e16c644-3c19-4a41-9662-c228fe094bed",
   "metadata": {},
   "outputs": [
    {
     "data": {
      "text/plain": [
       "0.8236381218437735"
      ]
     },
     "execution_count": 34,
     "metadata": {},
     "output_type": "execute_result"
    }
   ],
   "source": [
    "preds = np.argmax(predictions, 1)\n",
    "labels = np.argmax(y_test,1)\n",
    "(preds == labels).mean()"
   ]
  },
  {
   "cell_type": "code",
   "execution_count": 35,
   "id": "da63a964-d003-4d65-8fe5-aeb957eba880",
   "metadata": {},
   "outputs": [
    {
     "name": "stdout",
     "output_type": "stream",
     "text": [
      "Confusion matrix, without normalization\n",
      "[[29790  1217  1533  1643]\n",
      " [  446 38035  4503  1893]\n",
      " [  267  1798  5625  1544]\n",
      " [  122   598   850  3206]]\n",
      "Normalized confusion matrix\n",
      "[[0.87 0.04 0.04 0.05]\n",
      " [0.01 0.85 0.1  0.04]\n",
      " [0.03 0.19 0.61 0.17]\n",
      " [0.03 0.13 0.18 0.67]]\n"
     ]
    },
    {
     "data": {
      "image/png": "[encoded data removed]",
      "text/plain": [
       "<Figure size 432x288 with 2 Axes>"
      ]
     },
     "metadata": {
      "needs_background": "light"
     },
     "output_type": "display_data"
    },
    {
     "data": {
      "image/png": "[encoded data removed]",
      "text/plain": [
       "<Figure size 432x288 with 2 Axes>"
      ]
     },
     "metadata": {
      "needs_background": "light"
     },
     "output_type": "display_data"
    }
   ],
   "source": [
    "np.set_printoptions(precision=2)\n",
    "class_names = [str(x) for x in sorted(set(labels))]\n",
    "\n",
    "# Plot non-normalized confusion matrix\n",
    "plot_confusion_matrix(labels, preds, classes=class_names,\n",
    "                      title='Confusion matrix, without normalization')\n",
    "\n",
    "# Plot normalized confusion matrix\n",
    "plot_confusion_matrix(labels, preds, classes=class_names, normalize=True,\n",
    "                      title='Normalized confusion matrix')\n",
    "\n",
    "plt.show()"
   ]
  },
  {
   "cell_type": "code",
   "execution_count": null,
   "id": "e1369054-915e-4228-87f8-11d242d752b6",
   "metadata": {},
   "outputs": [],
   "source": []
  }
 ],
 "metadata": {
  "kernelspec": {
   "display_name": "Python [conda env:winter-ptype]",
   "language": "python",
   "name": "conda-env-winter-ptype-py"
  },
  "language_info": {
   "codemirror_mode": {
    "name": "ipython",
    "version": 3
   },
   "file_extension": ".py",
   "mimetype": "text/x-python",
   "name": "python",
   "nbconvert_exporter": "python",
   "pygments_lexer": "ipython3",
   "version": "3.10.4"
  }
 },
 "nbformat": 4,
 "nbformat_minor": 5
}
