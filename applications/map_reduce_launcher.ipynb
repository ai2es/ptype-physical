{
 "cells": [
  {
   "cell_type": "code",
   "execution_count": 1,
   "id": "0e0201cb-1a75-4910-9671-90dad9c47de3",
   "metadata": {},
   "outputs": [],
   "source": [
    "import sys\n",
    "sys.path.append('/glade/u/home/dkimpara/')\n",
    "sys.path.append('../')\n",
    "\n",
    "import pbs_utils.qsubPython as qpy"
   ]
  },
  {
   "cell_type": "markdown",
   "id": "0f798300-8ae9-4253-a171-74566e2eeb62",
   "metadata": {},
   "source": [
    "### resource recs:\n",
    "- rap: 1h ncpus=24:mem=500GB\n",
    "- gfs: 1h ncpus=6:mem=50GB\n",
    "- hrrr: 30min ncpus=32 mem=550GB\n",
    "    -  for hrrr - only run on one case study *day* at a time (or less)\n",
    "\n",
    "resource syntax: select=1:ncpus=12:mem=100GB\n",
    "walltime syntax: 00:00:00"
   ]
  },
  {
   "cell_type": "code",
   "execution_count": 2,
   "id": "97bbbd13-5a3f-44f5-9e90-404c55e64e52",
   "metadata": {},
   "outputs": [],
   "source": [
    "job = qpy.qsubPython('NAML0001', 'dkimpara@ucar.edu', 'casper')\n",
    "job.append_job_script(['module load conda',\n",
    "                       'conda activate ptype',\n",
    "                       'cd /glade/u/home/dkimpara/ptype-physical/composite-soundings',\n",
    "                       'mkdir -p outfiles'])"
   ]
  },
  {
   "cell_type": "code",
   "execution_count": 3,
   "id": "704c9879-df31-434d-851f-9882c0ac71f2",
   "metadata": {},
   "outputs": [
    {
     "name": "stdout",
     "output_type": "stream",
     "text": [
      "qsubPython(account='NAML0001', user_list='dkimpara@ucar.edu', queue='casper', mail_option='a', jobname=None, walltime='01:00:00', resources=None, outfile='out.out', errorfile='out.out', job_script=['export TMPDIR=/glade/scratch/$USER/temp', 'mkdir -p $TMPDIR', 'source /etc/profile.d/modules.sh', 'module load conda', 'conda activate ptype', 'cd /glade/u/home/dkimpara/ptype-physical/composite-soundings', 'mkdir -p outfiles'])\n"
     ]
    }
   ],
   "source": [
    "print(job)"
   ]
  },
  {
   "cell_type": "code",
   "execution_count": 4,
   "id": "9e164435-5361-4542-baf3-80578adb79c1",
   "metadata": {},
   "outputs": [],
   "source": [
    "funcs = [\n",
    "         (\"xmr.compute_by_disagree\", 'disagree'), \n",
    "         (\"partial(xmr.compute_by_conf, [0.3, 0.5])\", 'conf35'),\n",
    "         (\"partial(xmr.compute_by_conf, [0.7, 0.9])\", 'conf79')\n",
    "        ]\n"
   ]
  },
  {
   "cell_type": "markdown",
   "id": "4e2ec575",
   "metadata": {},
   "source": [
    "## Submit jobs for rap and gfs"
   ]
  },
  {
   "cell_type": "code",
   "execution_count": 5,
   "id": "b76cedd2-3733-422d-b041-28a9a0f60ba4",
   "metadata": {},
   "outputs": [
    {
     "name": "stdout",
     "output_type": "stream",
     "text": [
      "7922928.casper-pbs\n",
      "7922929.casper-pbs\n",
      "7922930.casper-pbs\n"
     ]
    }
   ],
   "source": [
    "#-i 0 for kentucky, 1 for new_york_1, 2 for new_york_2\n",
    "model = 'rap' #or rap\n",
    "job.set_job_attrs(resources='select=1:ncpus=18:mem=1500GB',\n",
    "                  walltime='00:30:00')\n",
    "for func, funcname in funcs:    \n",
    "    for i in range(1,3):\n",
    "        jobname = f'{model}_{funcname}_{i}'\n",
    "        job.set_job_attrs(jobname=jobname,\n",
    "                          outfile=f'outfiles/{jobname}.out',\n",
    "                          errorfile= f'outfiles/{jobname}.out')\n",
    "        \n",
    "        job.submit([f'''python -u /glade/u/home/dkimpara/ptype-physical/applications/map_reduce_run.py -i {i} -m {model} -o {jobname} -f \"{func}\"'''])"
   ]
  },
  {
   "cell_type": "markdown",
   "id": "170db83b",
   "metadata": {},
   "source": [
    "## submit jobs for hrrr data"
   ]
  },
  {
   "cell_type": "code",
   "execution_count": 6,
   "id": "80028ab6",
   "metadata": {},
   "outputs": [],
   "source": [
    "base_dir = '/glade/campaign/cisl/aiml/ptype/ptype_case_studies/'\n",
    "dirs = ['kentucky/hrrr/20220223',\n",
    "        'kentucky/hrrr/20220224',\n",
    "        'new_york_1/hrrr/20221215',\n",
    "        'new_york_1/hrrr/20221216',\n",
    "        'new_york_1/hrrr/20221217',\n",
    "        'new_york_2/hrrr/20220203',\n",
    "        'new_york_2/hrrr/20220204'\n",
    "        ]\n",
    "model = 'hrrr'"
   ]
  },
  {
   "cell_type": "code",
   "execution_count": 7,
   "id": "550862b3-b9c3-4a19-bce4-3cb594c6a83d",
   "metadata": {},
   "outputs": [
    {
     "name": "stdout",
     "output_type": "stream",
     "text": [
      "7922931.casper-pbs\n",
      "7922932.casper-pbs\n",
      "7922933.casper-pbs\n"
     ]
    }
   ],
   "source": [
    "for dir in dirs[1:]:\n",
    "    for func, funcname in funcs:    \n",
    "        jobname = f'{model}_{funcname}_{dir[:1] + dir[-2:]}'\n",
    "        job.set_job_attrs(jobname=jobname,\n",
    "                        outfile=f'outfiles/{jobname}.out',\n",
    "                        errorfile= f'outfiles/{jobname}.out')\n",
    "        \n",
    "        job.submit([f'''python -u /glade/u/home/dkimpara/ptype-physical/applications/map_reduce_run.py -d {dir} -m {model} -o {jobname} -f \"{func}\"'''])"
   ]
  },
  {
   "cell_type": "code",
   "execution_count": null,
   "id": "6e55298f",
   "metadata": {},
   "outputs": [],
   "source": []
  }
 ],
 "metadata": {
  "kernelspec": {
   "display_name": "Python 3",
   "language": "python",
   "name": "python3"
  },
  "language_info": {
   "codemirror_mode": {
    "name": "ipython",
    "version": 3
   },
   "file_extension": ".py",
   "mimetype": "text/x-python",
   "name": "python",
   "nbconvert_exporter": "python",
   "pygments_lexer": "ipython3",
   "version": "3.10.12"
  }
 },
 "nbformat": 4,
 "nbformat_minor": 5
}
