{
 "cells": [
  {
   "cell_type": "code",
   "execution_count": 1,
   "id": "0e0201cb-1a75-4910-9671-90dad9c47de3",
   "metadata": {},
   "outputs": [],
   "source": [
    "import sys\n",
    "sys.path.append('/glade/u/home/dkimpara/')\n",
    "sys.path.append('../')\n",
    "from os.path import join\n",
    "import pbs_utils.qsubPython as qpy"
   ]
  },
  {
   "cell_type": "markdown",
   "id": "0f798300-8ae9-4253-a171-74566e2eeb62",
   "metadata": {},
   "source": [
    "### resource recs:\n",
    "- rap: 1h ncpus=24:mem=500GB\n",
    "- gfs: 1h ncpus=6:mem=50GB\n",
    "- hrrr: 30min ncpus=32 mem=550GB\n",
    "    -  for hrrr - only run on one case study *day* at a time (or less)\n",
    "\n",
    "resource syntax: select=1:ncpus=12:mem=100GB\n",
    "walltime syntax: 00:00:00"
   ]
  },
  {
   "cell_type": "code",
   "execution_count": 2,
   "id": "97bbbd13-5a3f-44f5-9e90-404c55e64e52",
   "metadata": {},
   "outputs": [],
   "source": [
    "job = qpy.qsubPython('NAML0001', 'dkimpara@ucar.edu', 'casper')\n",
    "job.append_job_script(['module load conda',\n",
    "                       'conda activate ptype',\n",
    "                       'cd /glade/u/home/dkimpara/ptype-physical/applications',\n",
    "                       'mkdir -p outfiles'])"
   ]
  },
  {
   "cell_type": "code",
   "execution_count": 4,
   "id": "9e164435-5361-4542-baf3-80578adb79c1",
   "metadata": {},
   "outputs": [],
   "source": [
    "funcs = [\n",
    "        (\"partial(xmr.compute_by_conf, [0.3])\", 'conf3'),\n",
    "        (\"partial(xmr.compute_by_conf, [0.5])\", 'conf5'),\n",
    "        (\"partial(xmr.compute_by_conf, [0.7])\", 'conf7'),\n",
    "        (\"partial(xmr.compute_by_conf, [0.9])\", 'conf9'),\n",
    "        ]\n"
   ]
  },
  {
   "cell_type": "markdown",
   "id": "6e06d5f1",
   "metadata": {},
   "source": [
    "# trial job"
   ]
  },
  {
   "cell_type": "code",
   "execution_count": 4,
   "id": "902aebcf",
   "metadata": {},
   "outputs": [
    {
     "name": "stdout",
     "output_type": "stream",
     "text": [
      "7973712.casper-pbs\n"
     ]
    },
    {
     "data": {
      "text/plain": [
       "'7973712.casper-pbs'"
      ]
     },
     "execution_count": 4,
     "metadata": {},
     "output_type": "execute_result"
    }
   ],
   "source": [
    "# job config\n",
    "model = 'rap' #or rap\n",
    "job.set_job_attrs(resources='select=1:ncpus=24:mem=800GB',\n",
    "                  walltime='00:45:00')\n",
    "i = 1\n",
    "func, funcname = funcs[1]\n",
    "##################################\n",
    "jobname = f'{model}_{funcname}_{i}'\n",
    "job.set_job_attrs(jobname=jobname,\n",
    "                    outfile=f'outfiles/{jobname}.out',\n",
    "                    errorfile= f'outfiles/{jobname}.out')\n",
    "\n",
    "job.submit([f'''python -u map_reduce_run.py -i {i} -m {model} -o {jobname} -f \"{func}\"'''])\n",
    "#job.makefile([f'''python -u map_reduce_run.py -i {i} -m {model} -o {jobname} -f \"{func}\"'''])"
   ]
  },
  {
   "cell_type": "markdown",
   "id": "4e2ec575",
   "metadata": {},
   "source": [
    "## Submit jobs for rap and gfs"
   ]
  },
  {
   "cell_type": "code",
   "execution_count": 5,
   "id": "b76cedd2-3733-422d-b041-28a9a0f60ba4",
   "metadata": {},
   "outputs": [
    {
     "name": "stdout",
     "output_type": "stream",
     "text": [
      "7981782.casper-pbs\n",
      "7981783.casper-pbs\n",
      "7981784.casper-pbs\n",
      "7981785.casper-pbs\n",
      "7981786.casper-pbs\n",
      "7981787.casper-pbs\n",
      "7981788.casper-pbs\n",
      "7981789.casper-pbs\n",
      "7981790.casper-pbs\n",
      "7981791.casper-pbs\n",
      "7981792.casper-pbs\n",
      "7981793.casper-pbs\n"
     ]
    }
   ],
   "source": [
    "#-i 0 for kentucky, 1 for new_york_1, 2 for new_york_2\n",
    "#setup job\n",
    "model = 'rap' #gfs or rap\n",
    "job.set_job_attrs(resources='select=1:ncpus=24:mem=500GB',\n",
    "                  walltime='00:30:00')\n",
    "\n",
    "for func, funcname in funcs:\n",
    "    for i in range(3):\n",
    "        jobname = f'{model}_{funcname}_{i}'\n",
    "        job.set_job_attrs(jobname=jobname,\n",
    "                            outfile=f'outfiles/{jobname}.out',\n",
    "                            errorfile= f'outfiles/{jobname}.out')\n",
    "        \n",
    "        job.submit([f'''python -u map_reduce_run.py -i {i} -m {model} -o {jobname} -f \"{func}\"'''])"
   ]
  },
  {
   "cell_type": "markdown",
   "id": "170db83b",
   "metadata": {},
   "source": [
    "## submit jobs for hrrr data"
   ]
  },
  {
   "cell_type": "code",
   "execution_count": 7,
   "id": "80028ab6",
   "metadata": {},
   "outputs": [],
   "source": [
    "model = 'hrrr'\n",
    "base_dir = '/glade/campaign/cisl/aiml/ptype/ptype_case_studies/'\n",
    "dirs = ['kentucky/hrrr/20220223',\n",
    "        'kentucky/hrrr/20220224',\n",
    "        'new_york_1/hrrr/20221215',\n",
    "        'new_york_1/hrrr/20221216',\n",
    "        'new_york_1/hrrr/20221217',\n",
    "        'new_york_2/hrrr/20220203',\n",
    "        'new_york_2/hrrr/20220204'\n",
    "        ]"
   ]
  },
  {
   "cell_type": "markdown",
   "id": "1356c8ed",
   "metadata": {},
   "source": [
    "## run trial"
   ]
  },
  {
   "cell_type": "code",
   "execution_count": 20,
   "id": "d94b42f5",
   "metadata": {},
   "outputs": [
    {
     "name": "stdout",
     "output_type": "stream",
     "text": [
      "7972906.casper-pbs\n"
     ]
    },
    {
     "data": {
      "text/plain": [
       "'7972906.casper-pbs'"
      ]
     },
     "execution_count": 20,
     "metadata": {},
     "output_type": "execute_result"
    }
   ],
   "source": [
    "job.set_job_attrs(resources='select=1:ncpus=32:mem=1000GB',\n",
    "                  walltime='00:45:00')\n",
    "folder = join(base_dir, dirs[0])\n",
    "func, funcname = funcs[0]\n",
    "jobname = f'{model}_{funcname}_{folder[-2:]}'\n",
    "job.set_job_attrs(jobname=jobname,\n",
    "                outfile=f'outfiles/{jobname}.out',\n",
    "                errorfile= f'outfiles/{jobname}.out')\n",
    "\n",
    "job.submit([f'''python -u map_reduce_run.py -d {folder} -m {model} -o {jobname} -f \"{func}\"'''])"
   ]
  },
  {
   "cell_type": "markdown",
   "id": "7eb844e9",
   "metadata": {},
   "source": [
    "# run all experiments"
   ]
  },
  {
   "cell_type": "markdown",
   "id": "a1eec596",
   "metadata": {},
   "source": [
    "## by confidence jobs"
   ]
  },
  {
   "cell_type": "code",
   "execution_count": 8,
   "id": "550862b3-b9c3-4a19-bce4-3cb594c6a83d",
   "metadata": {},
   "outputs": [
    {
     "name": "stdout",
     "output_type": "stream",
     "text": [
      "7973392.casper-pbs\n",
      "7973393.casper-pbs\n",
      "7973394.casper-pbs\n",
      "7973395.casper-pbs\n",
      "7973396.casper-pbs\n",
      "7973397.casper-pbs\n",
      "7973398.casper-pbs\n",
      "7973399.casper-pbs\n",
      "7973400.casper-pbs\n",
      "7973401.casper-pbs\n",
      "7973402.casper-pbs\n",
      "7973403.casper-pbs\n",
      "7973404.casper-pbs\n",
      "7973405.casper-pbs\n"
     ]
    }
   ],
   "source": [
    "job.set_job_attrs(resources='select=1:ncpus=32:mem=800GB',\n",
    "                  walltime='00:45:00')\n",
    "for func, funcname in funcs[1:]:    \n",
    "    for folder in dirs:\n",
    "        folder = join(base_dir, folder)\n",
    "        jobname = f'{model}_{funcname}_{folder[-2:]}'\n",
    "        job.set_job_attrs(jobname=jobname,\n",
    "                        outfile=f'outfiles/{jobname}.out',\n",
    "                        errorfile= f'outfiles/{jobname}.out')\n",
    "        \n",
    "        job.submit([f'''python -u map_reduce_run.py -d {folder} -m {model} -o {jobname} -f \"{func}\"'''])"
   ]
  },
  {
   "cell_type": "markdown",
   "id": "bbd341c8",
   "metadata": {},
   "source": [
    "## submit disagree jobs"
   ]
  },
  {
   "cell_type": "code",
   "execution_count": 9,
   "id": "0dcfea81",
   "metadata": {},
   "outputs": [
    {
     "name": "stdout",
     "output_type": "stream",
     "text": [
      "7973414.casper-pbs\n",
      "7973415.casper-pbs\n",
      "7973416.casper-pbs\n",
      "7973417.casper-pbs\n",
      "7973418.casper-pbs\n",
      "7973419.casper-pbs\n",
      "7973420.casper-pbs\n"
     ]
    }
   ],
   "source": [
    "job.set_job_attrs(resources='select=1:ncpus=32:mem=600GB',\n",
    "                  walltime='00:30:00')\n",
    "func, funcname = funcs[0]\n",
    "for folder in dirs:\n",
    "    folder = join(base_dir, folder)\n",
    "    jobname = f'{model}_{funcname}_{folder[-2:]}'\n",
    "    job.set_job_attrs(jobname=jobname,\n",
    "                    outfile=f'outfiles/{jobname}.out',\n",
    "                    errorfile= f'outfiles/{jobname}.out')\n",
    "    \n",
    "    job.submit([f'''python -u map_reduce_run.py -d {folder} -m {model} -o {jobname} -f \"{func}\"'''])"
   ]
  },
  {
   "cell_type": "code",
   "execution_count": null,
   "id": "998520ce",
   "metadata": {},
   "outputs": [],
   "source": []
  }
 ],
 "metadata": {
  "kernelspec": {
   "display_name": "Python 3 (ipykernel)",
   "language": "python",
   "name": "python3"
  },
  "language_info": {
   "codemirror_mode": {
    "name": "ipython",
    "version": 3
   },
   "file_extension": ".py",
   "mimetype": "text/x-python",
   "name": "python",
   "nbconvert_exporter": "python",
   "pygments_lexer": "ipython3",
   "version": "3.10.12"
  }
 },
 "nbformat": 4,
 "nbformat_minor": 5
}
